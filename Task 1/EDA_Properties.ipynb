{
 "cells": [
  {
   "cell_type": "markdown",
   "metadata": {},
   "source": [
    "# Exploratory Data Analysis on Property "
   ]
  },
  {
   "cell_type": "markdown",
   "metadata": {},
   "source": [
    "## Importing Libraries"
   ]
  },
  {
   "cell_type": "code",
   "execution_count": 1,
   "metadata": {},
   "outputs": [],
   "source": [
    "import numpy as np\n",
    "import pandas as pd\n",
    "import matplotlib.pyplot as plt\n",
    "import matplotlib.image as mpimg\n",
    "%matplotlib inline\n",
    "import seaborn as sns"
   ]
  },
  {
   "cell_type": "markdown",
   "metadata": {},
   "source": [
    "## Data Loading"
   ]
  },
  {
   "cell_type": "markdown",
   "metadata": {},
   "source": [
    "\n"
   ]
  },
  {
   "cell_type": "code",
   "execution_count": 2,
   "metadata": {},
   "outputs": [
    {
     "data": {
      "text/html": [
       "<div>\n",
       "<style scoped>\n",
       "    .dataframe tbody tr th:only-of-type {\n",
       "        vertical-align: middle;\n",
       "    }\n",
       "\n",
       "    .dataframe tbody tr th {\n",
       "        vertical-align: top;\n",
       "    }\n",
       "\n",
       "    .dataframe thead th {\n",
       "        text-align: right;\n",
       "    }\n",
       "</style>\n",
       "<table border=\"1\" class=\"dataframe\">\n",
       "  <thead>\n",
       "    <tr style=\"text-align: right;\">\n",
       "      <th></th>\n",
       "      <th>Price</th>\n",
       "      <th>Area</th>\n",
       "      <th>Location</th>\n",
       "      <th>No. of Bedrooms</th>\n",
       "      <th>Resale</th>\n",
       "      <th>MaintenanceStaff</th>\n",
       "      <th>Gymnasium</th>\n",
       "      <th>SwimmingPool</th>\n",
       "      <th>LandscapedGardens</th>\n",
       "      <th>JoggingTrack</th>\n",
       "      <th>...</th>\n",
       "      <th>LiftAvailable</th>\n",
       "      <th>BED</th>\n",
       "      <th>VaastuCompliant</th>\n",
       "      <th>Microwave</th>\n",
       "      <th>GolfCourse</th>\n",
       "      <th>TV</th>\n",
       "      <th>DiningTable</th>\n",
       "      <th>Sofa</th>\n",
       "      <th>Wardrobe</th>\n",
       "      <th>Refrigerator</th>\n",
       "    </tr>\n",
       "  </thead>\n",
       "  <tbody>\n",
       "    <tr>\n",
       "      <th>0</th>\n",
       "      <td>10500000</td>\n",
       "      <td>1200</td>\n",
       "      <td>Sector 10 Dwarka</td>\n",
       "      <td>2</td>\n",
       "      <td>1</td>\n",
       "      <td>0</td>\n",
       "      <td>1</td>\n",
       "      <td>0</td>\n",
       "      <td>0</td>\n",
       "      <td>1</td>\n",
       "      <td>...</td>\n",
       "      <td>1</td>\n",
       "      <td>0</td>\n",
       "      <td>1</td>\n",
       "      <td>0</td>\n",
       "      <td>0</td>\n",
       "      <td>0</td>\n",
       "      <td>0</td>\n",
       "      <td>0</td>\n",
       "      <td>0</td>\n",
       "      <td>0</td>\n",
       "    </tr>\n",
       "    <tr>\n",
       "      <th>1</th>\n",
       "      <td>6000000</td>\n",
       "      <td>1000</td>\n",
       "      <td>Uttam Nagar</td>\n",
       "      <td>3</td>\n",
       "      <td>0</td>\n",
       "      <td>0</td>\n",
       "      <td>0</td>\n",
       "      <td>0</td>\n",
       "      <td>0</td>\n",
       "      <td>0</td>\n",
       "      <td>...</td>\n",
       "      <td>0</td>\n",
       "      <td>0</td>\n",
       "      <td>0</td>\n",
       "      <td>0</td>\n",
       "      <td>0</td>\n",
       "      <td>0</td>\n",
       "      <td>0</td>\n",
       "      <td>0</td>\n",
       "      <td>0</td>\n",
       "      <td>0</td>\n",
       "    </tr>\n",
       "    <tr>\n",
       "      <th>2</th>\n",
       "      <td>15000000</td>\n",
       "      <td>1350</td>\n",
       "      <td>Sarita Vihar</td>\n",
       "      <td>2</td>\n",
       "      <td>1</td>\n",
       "      <td>0</td>\n",
       "      <td>0</td>\n",
       "      <td>0</td>\n",
       "      <td>0</td>\n",
       "      <td>0</td>\n",
       "      <td>...</td>\n",
       "      <td>0</td>\n",
       "      <td>0</td>\n",
       "      <td>0</td>\n",
       "      <td>0</td>\n",
       "      <td>0</td>\n",
       "      <td>0</td>\n",
       "      <td>0</td>\n",
       "      <td>0</td>\n",
       "      <td>0</td>\n",
       "      <td>0</td>\n",
       "    </tr>\n",
       "    <tr>\n",
       "      <th>3</th>\n",
       "      <td>2500000</td>\n",
       "      <td>435</td>\n",
       "      <td>Uttam Nagar</td>\n",
       "      <td>2</td>\n",
       "      <td>0</td>\n",
       "      <td>0</td>\n",
       "      <td>0</td>\n",
       "      <td>0</td>\n",
       "      <td>0</td>\n",
       "      <td>0</td>\n",
       "      <td>...</td>\n",
       "      <td>0</td>\n",
       "      <td>0</td>\n",
       "      <td>1</td>\n",
       "      <td>0</td>\n",
       "      <td>0</td>\n",
       "      <td>0</td>\n",
       "      <td>0</td>\n",
       "      <td>0</td>\n",
       "      <td>0</td>\n",
       "      <td>0</td>\n",
       "    </tr>\n",
       "    <tr>\n",
       "      <th>4</th>\n",
       "      <td>5800000</td>\n",
       "      <td>900</td>\n",
       "      <td>Dwarka Mor</td>\n",
       "      <td>3</td>\n",
       "      <td>0</td>\n",
       "      <td>0</td>\n",
       "      <td>0</td>\n",
       "      <td>0</td>\n",
       "      <td>0</td>\n",
       "      <td>0</td>\n",
       "      <td>...</td>\n",
       "      <td>1</td>\n",
       "      <td>0</td>\n",
       "      <td>0</td>\n",
       "      <td>0</td>\n",
       "      <td>0</td>\n",
       "      <td>0</td>\n",
       "      <td>0</td>\n",
       "      <td>0</td>\n",
       "      <td>0</td>\n",
       "      <td>0</td>\n",
       "    </tr>\n",
       "  </tbody>\n",
       "</table>\n",
       "<p>5 rows × 40 columns</p>\n",
       "</div>"
      ],
      "text/plain": [
       "      Price  Area          Location  No. of Bedrooms  Resale  \\\n",
       "0  10500000  1200  Sector 10 Dwarka                2       1   \n",
       "1   6000000  1000       Uttam Nagar                3       0   \n",
       "2  15000000  1350      Sarita Vihar                2       1   \n",
       "3   2500000   435       Uttam Nagar                2       0   \n",
       "4   5800000   900        Dwarka Mor                3       0   \n",
       "\n",
       "   MaintenanceStaff  Gymnasium  SwimmingPool  LandscapedGardens  JoggingTrack  \\\n",
       "0                 0          1             0                  0             1   \n",
       "1                 0          0             0                  0             0   \n",
       "2                 0          0             0                  0             0   \n",
       "3                 0          0             0                  0             0   \n",
       "4                 0          0             0                  0             0   \n",
       "\n",
       "   ...  LiftAvailable  BED  VaastuCompliant  Microwave  GolfCourse  TV  \\\n",
       "0  ...              1    0                1          0           0   0   \n",
       "1  ...              0    0                0          0           0   0   \n",
       "2  ...              0    0                0          0           0   0   \n",
       "3  ...              0    0                1          0           0   0   \n",
       "4  ...              1    0                0          0           0   0   \n",
       "\n",
       "   DiningTable  Sofa  Wardrobe  Refrigerator  \n",
       "0            0     0         0             0  \n",
       "1            0     0         0             0  \n",
       "2            0     0         0             0  \n",
       "3            0     0         0             0  \n",
       "4            0     0         0             0  \n",
       "\n",
       "[5 rows x 40 columns]"
      ]
     },
     "execution_count": 2,
     "metadata": {},
     "output_type": "execute_result"
    }
   ],
   "source": [
    "df1=pd.read_csv(\"./data/delhi.csv\")\n",
    "df1.head(5)"
   ]
  },
  {
   "cell_type": "code",
   "execution_count": null,
   "metadata": {},
   "outputs": [],
   "source": []
  },
  {
   "cell_type": "code",
   "execution_count": 3,
   "metadata": {
    "scrolled": true
   },
   "outputs": [
    {
     "data": {
      "text/html": [
       "<div>\n",
       "<style scoped>\n",
       "    .dataframe tbody tr th:only-of-type {\n",
       "        vertical-align: middle;\n",
       "    }\n",
       "\n",
       "    .dataframe tbody tr th {\n",
       "        vertical-align: top;\n",
       "    }\n",
       "\n",
       "    .dataframe thead th {\n",
       "        text-align: right;\n",
       "    }\n",
       "</style>\n",
       "<table border=\"1\" class=\"dataframe\">\n",
       "  <thead>\n",
       "    <tr style=\"text-align: right;\">\n",
       "      <th></th>\n",
       "      <th>Price</th>\n",
       "      <th>Area</th>\n",
       "      <th>Location</th>\n",
       "      <th>No. of Bedrooms</th>\n",
       "      <th>Resale</th>\n",
       "      <th>MaintenanceStaff</th>\n",
       "      <th>Gymnasium</th>\n",
       "      <th>SwimmingPool</th>\n",
       "      <th>LandscapedGardens</th>\n",
       "      <th>JoggingTrack</th>\n",
       "      <th>...</th>\n",
       "      <th>LiftAvailable</th>\n",
       "      <th>BED</th>\n",
       "      <th>VaastuCompliant</th>\n",
       "      <th>Microwave</th>\n",
       "      <th>GolfCourse</th>\n",
       "      <th>TV</th>\n",
       "      <th>DiningTable</th>\n",
       "      <th>Sofa</th>\n",
       "      <th>Wardrobe</th>\n",
       "      <th>Refrigerator</th>\n",
       "    </tr>\n",
       "  </thead>\n",
       "  <tbody>\n",
       "    <tr>\n",
       "      <th>0</th>\n",
       "      <td>30000000</td>\n",
       "      <td>3340</td>\n",
       "      <td>JP Nagar Phase 1</td>\n",
       "      <td>4</td>\n",
       "      <td>0</td>\n",
       "      <td>1</td>\n",
       "      <td>1</td>\n",
       "      <td>1</td>\n",
       "      <td>1</td>\n",
       "      <td>1</td>\n",
       "      <td>...</td>\n",
       "      <td>1</td>\n",
       "      <td>0</td>\n",
       "      <td>0</td>\n",
       "      <td>0</td>\n",
       "      <td>0</td>\n",
       "      <td>0</td>\n",
       "      <td>0</td>\n",
       "      <td>0</td>\n",
       "      <td>0</td>\n",
       "      <td>0</td>\n",
       "    </tr>\n",
       "    <tr>\n",
       "      <th>1</th>\n",
       "      <td>7888000</td>\n",
       "      <td>1045</td>\n",
       "      <td>Dasarahalli on Tumkur Road</td>\n",
       "      <td>2</td>\n",
       "      <td>0</td>\n",
       "      <td>0</td>\n",
       "      <td>1</td>\n",
       "      <td>1</td>\n",
       "      <td>1</td>\n",
       "      <td>1</td>\n",
       "      <td>...</td>\n",
       "      <td>1</td>\n",
       "      <td>0</td>\n",
       "      <td>1</td>\n",
       "      <td>0</td>\n",
       "      <td>0</td>\n",
       "      <td>0</td>\n",
       "      <td>0</td>\n",
       "      <td>0</td>\n",
       "      <td>0</td>\n",
       "      <td>0</td>\n",
       "    </tr>\n",
       "    <tr>\n",
       "      <th>2</th>\n",
       "      <td>4866000</td>\n",
       "      <td>1179</td>\n",
       "      <td>Kannur on Thanisandra Main Road</td>\n",
       "      <td>2</td>\n",
       "      <td>0</td>\n",
       "      <td>0</td>\n",
       "      <td>1</td>\n",
       "      <td>1</td>\n",
       "      <td>1</td>\n",
       "      <td>1</td>\n",
       "      <td>...</td>\n",
       "      <td>1</td>\n",
       "      <td>0</td>\n",
       "      <td>0</td>\n",
       "      <td>0</td>\n",
       "      <td>0</td>\n",
       "      <td>0</td>\n",
       "      <td>0</td>\n",
       "      <td>0</td>\n",
       "      <td>0</td>\n",
       "      <td>0</td>\n",
       "    </tr>\n",
       "    <tr>\n",
       "      <th>3</th>\n",
       "      <td>8358000</td>\n",
       "      <td>1675</td>\n",
       "      <td>Doddanekundi</td>\n",
       "      <td>3</td>\n",
       "      <td>0</td>\n",
       "      <td>0</td>\n",
       "      <td>0</td>\n",
       "      <td>0</td>\n",
       "      <td>0</td>\n",
       "      <td>0</td>\n",
       "      <td>...</td>\n",
       "      <td>1</td>\n",
       "      <td>0</td>\n",
       "      <td>0</td>\n",
       "      <td>0</td>\n",
       "      <td>0</td>\n",
       "      <td>0</td>\n",
       "      <td>0</td>\n",
       "      <td>0</td>\n",
       "      <td>0</td>\n",
       "      <td>0</td>\n",
       "    </tr>\n",
       "    <tr>\n",
       "      <th>4</th>\n",
       "      <td>6845000</td>\n",
       "      <td>1670</td>\n",
       "      <td>Kengeri</td>\n",
       "      <td>3</td>\n",
       "      <td>0</td>\n",
       "      <td>1</td>\n",
       "      <td>1</td>\n",
       "      <td>1</td>\n",
       "      <td>1</td>\n",
       "      <td>1</td>\n",
       "      <td>...</td>\n",
       "      <td>1</td>\n",
       "      <td>0</td>\n",
       "      <td>0</td>\n",
       "      <td>0</td>\n",
       "      <td>0</td>\n",
       "      <td>0</td>\n",
       "      <td>0</td>\n",
       "      <td>0</td>\n",
       "      <td>0</td>\n",
       "      <td>0</td>\n",
       "    </tr>\n",
       "  </tbody>\n",
       "</table>\n",
       "<p>5 rows × 40 columns</p>\n",
       "</div>"
      ],
      "text/plain": [
       "      Price  Area                         Location  No. of Bedrooms  Resale  \\\n",
       "0  30000000  3340                 JP Nagar Phase 1                4       0   \n",
       "1   7888000  1045       Dasarahalli on Tumkur Road                2       0   \n",
       "2   4866000  1179  Kannur on Thanisandra Main Road                2       0   \n",
       "3   8358000  1675                     Doddanekundi                3       0   \n",
       "4   6845000  1670                          Kengeri                3       0   \n",
       "\n",
       "   MaintenanceStaff  Gymnasium  SwimmingPool  LandscapedGardens  JoggingTrack  \\\n",
       "0                 1          1             1                  1             1   \n",
       "1                 0          1             1                  1             1   \n",
       "2                 0          1             1                  1             1   \n",
       "3                 0          0             0                  0             0   \n",
       "4                 1          1             1                  1             1   \n",
       "\n",
       "   ...  LiftAvailable  BED  VaastuCompliant  Microwave  GolfCourse  TV  \\\n",
       "0  ...              1    0                0          0           0   0   \n",
       "1  ...              1    0                1          0           0   0   \n",
       "2  ...              1    0                0          0           0   0   \n",
       "3  ...              1    0                0          0           0   0   \n",
       "4  ...              1    0                0          0           0   0   \n",
       "\n",
       "   DiningTable  Sofa  Wardrobe  Refrigerator  \n",
       "0            0     0         0             0  \n",
       "1            0     0         0             0  \n",
       "2            0     0         0             0  \n",
       "3            0     0         0             0  \n",
       "4            0     0         0             0  \n",
       "\n",
       "[5 rows x 40 columns]"
      ]
     },
     "execution_count": 3,
     "metadata": {},
     "output_type": "execute_result"
    }
   ],
   "source": [
    "df2=pd.read_csv(\"./data/Bangalore.csv\")\n",
    "df2.head(5)"
   ]
  },
  {
   "cell_type": "code",
   "execution_count": 4,
   "metadata": {},
   "outputs": [
    {
     "data": {
      "text/html": [
       "<div>\n",
       "<style scoped>\n",
       "    .dataframe tbody tr th:only-of-type {\n",
       "        vertical-align: middle;\n",
       "    }\n",
       "\n",
       "    .dataframe tbody tr th {\n",
       "        vertical-align: top;\n",
       "    }\n",
       "\n",
       "    .dataframe thead th {\n",
       "        text-align: right;\n",
       "    }\n",
       "</style>\n",
       "<table border=\"1\" class=\"dataframe\">\n",
       "  <thead>\n",
       "    <tr style=\"text-align: right;\">\n",
       "      <th></th>\n",
       "      <th>Price</th>\n",
       "      <th>Area</th>\n",
       "      <th>Location</th>\n",
       "      <th>No. of Bedrooms</th>\n",
       "      <th>Resale</th>\n",
       "      <th>MaintenanceStaff</th>\n",
       "      <th>Gymnasium</th>\n",
       "      <th>SwimmingPool</th>\n",
       "      <th>LandscapedGardens</th>\n",
       "      <th>JoggingTrack</th>\n",
       "      <th>...</th>\n",
       "      <th>LiftAvailable</th>\n",
       "      <th>BED</th>\n",
       "      <th>VaastuCompliant</th>\n",
       "      <th>Microwave</th>\n",
       "      <th>GolfCourse</th>\n",
       "      <th>TV</th>\n",
       "      <th>DiningTable</th>\n",
       "      <th>Sofa</th>\n",
       "      <th>Wardrobe</th>\n",
       "      <th>Refrigerator</th>\n",
       "    </tr>\n",
       "  </thead>\n",
       "  <tbody>\n",
       "    <tr>\n",
       "      <th>0</th>\n",
       "      <td>5500000</td>\n",
       "      <td>1310</td>\n",
       "      <td>Perungalathur</td>\n",
       "      <td>3</td>\n",
       "      <td>0</td>\n",
       "      <td>0</td>\n",
       "      <td>0</td>\n",
       "      <td>0</td>\n",
       "      <td>0</td>\n",
       "      <td>0</td>\n",
       "      <td>...</td>\n",
       "      <td>0</td>\n",
       "      <td>0</td>\n",
       "      <td>0</td>\n",
       "      <td>0</td>\n",
       "      <td>0</td>\n",
       "      <td>0</td>\n",
       "      <td>0</td>\n",
       "      <td>0</td>\n",
       "      <td>0</td>\n",
       "      <td>0</td>\n",
       "    </tr>\n",
       "    <tr>\n",
       "      <th>1</th>\n",
       "      <td>5350000</td>\n",
       "      <td>1126</td>\n",
       "      <td>Madhavaram</td>\n",
       "      <td>2</td>\n",
       "      <td>0</td>\n",
       "      <td>0</td>\n",
       "      <td>1</td>\n",
       "      <td>1</td>\n",
       "      <td>1</td>\n",
       "      <td>0</td>\n",
       "      <td>...</td>\n",
       "      <td>1</td>\n",
       "      <td>0</td>\n",
       "      <td>0</td>\n",
       "      <td>0</td>\n",
       "      <td>0</td>\n",
       "      <td>0</td>\n",
       "      <td>0</td>\n",
       "      <td>0</td>\n",
       "      <td>0</td>\n",
       "      <td>0</td>\n",
       "    </tr>\n",
       "    <tr>\n",
       "      <th>2</th>\n",
       "      <td>8205000</td>\n",
       "      <td>1307</td>\n",
       "      <td>Karapakkam</td>\n",
       "      <td>3</td>\n",
       "      <td>0</td>\n",
       "      <td>0</td>\n",
       "      <td>1</td>\n",
       "      <td>1</td>\n",
       "      <td>1</td>\n",
       "      <td>1</td>\n",
       "      <td>...</td>\n",
       "      <td>0</td>\n",
       "      <td>0</td>\n",
       "      <td>0</td>\n",
       "      <td>0</td>\n",
       "      <td>0</td>\n",
       "      <td>0</td>\n",
       "      <td>0</td>\n",
       "      <td>0</td>\n",
       "      <td>0</td>\n",
       "      <td>0</td>\n",
       "    </tr>\n",
       "    <tr>\n",
       "      <th>3</th>\n",
       "      <td>23400000</td>\n",
       "      <td>3600</td>\n",
       "      <td>Thiruvidandhai</td>\n",
       "      <td>3</td>\n",
       "      <td>0</td>\n",
       "      <td>0</td>\n",
       "      <td>1</td>\n",
       "      <td>1</td>\n",
       "      <td>0</td>\n",
       "      <td>1</td>\n",
       "      <td>...</td>\n",
       "      <td>0</td>\n",
       "      <td>0</td>\n",
       "      <td>0</td>\n",
       "      <td>0</td>\n",
       "      <td>0</td>\n",
       "      <td>0</td>\n",
       "      <td>0</td>\n",
       "      <td>0</td>\n",
       "      <td>0</td>\n",
       "      <td>0</td>\n",
       "    </tr>\n",
       "    <tr>\n",
       "      <th>4</th>\n",
       "      <td>10100000</td>\n",
       "      <td>1700</td>\n",
       "      <td>Iyappanthangal</td>\n",
       "      <td>3</td>\n",
       "      <td>0</td>\n",
       "      <td>0</td>\n",
       "      <td>1</td>\n",
       "      <td>1</td>\n",
       "      <td>1</td>\n",
       "      <td>1</td>\n",
       "      <td>...</td>\n",
       "      <td>0</td>\n",
       "      <td>0</td>\n",
       "      <td>1</td>\n",
       "      <td>0</td>\n",
       "      <td>0</td>\n",
       "      <td>0</td>\n",
       "      <td>0</td>\n",
       "      <td>0</td>\n",
       "      <td>0</td>\n",
       "      <td>0</td>\n",
       "    </tr>\n",
       "  </tbody>\n",
       "</table>\n",
       "<p>5 rows × 40 columns</p>\n",
       "</div>"
      ],
      "text/plain": [
       "      Price  Area        Location  No. of Bedrooms  Resale  MaintenanceStaff  \\\n",
       "0   5500000  1310   Perungalathur                3       0                 0   \n",
       "1   5350000  1126      Madhavaram                2       0                 0   \n",
       "2   8205000  1307      Karapakkam                3       0                 0   \n",
       "3  23400000  3600  Thiruvidandhai                3       0                 0   \n",
       "4  10100000  1700  Iyappanthangal                3       0                 0   \n",
       "\n",
       "   Gymnasium  SwimmingPool  LandscapedGardens  JoggingTrack  ...  \\\n",
       "0          0             0                  0             0  ...   \n",
       "1          1             1                  1             0  ...   \n",
       "2          1             1                  1             1  ...   \n",
       "3          1             1                  0             1  ...   \n",
       "4          1             1                  1             1  ...   \n",
       "\n",
       "   LiftAvailable  BED  VaastuCompliant  Microwave  GolfCourse  TV  \\\n",
       "0              0    0                0          0           0   0   \n",
       "1              1    0                0          0           0   0   \n",
       "2              0    0                0          0           0   0   \n",
       "3              0    0                0          0           0   0   \n",
       "4              0    0                1          0           0   0   \n",
       "\n",
       "   DiningTable  Sofa  Wardrobe  Refrigerator  \n",
       "0            0     0         0             0  \n",
       "1            0     0         0             0  \n",
       "2            0     0         0             0  \n",
       "3            0     0         0             0  \n",
       "4            0     0         0             0  \n",
       "\n",
       "[5 rows x 40 columns]"
      ]
     },
     "execution_count": 4,
     "metadata": {},
     "output_type": "execute_result"
    }
   ],
   "source": [
    "df3=pd.read_csv(\"./data/Chennai.csv\")\n",
    "df3.head(5)"
   ]
  },
  {
   "cell_type": "code",
   "execution_count": 5,
   "metadata": {
    "scrolled": true
   },
   "outputs": [
    {
     "data": {
      "text/html": [
       "<div>\n",
       "<style scoped>\n",
       "    .dataframe tbody tr th:only-of-type {\n",
       "        vertical-align: middle;\n",
       "    }\n",
       "\n",
       "    .dataframe tbody tr th {\n",
       "        vertical-align: top;\n",
       "    }\n",
       "\n",
       "    .dataframe thead th {\n",
       "        text-align: right;\n",
       "    }\n",
       "</style>\n",
       "<table border=\"1\" class=\"dataframe\">\n",
       "  <thead>\n",
       "    <tr style=\"text-align: right;\">\n",
       "      <th></th>\n",
       "      <th>Price</th>\n",
       "      <th>Area</th>\n",
       "      <th>Location</th>\n",
       "      <th>No. of Bedrooms</th>\n",
       "      <th>Resale</th>\n",
       "      <th>MaintenanceStaff</th>\n",
       "      <th>Gymnasium</th>\n",
       "      <th>SwimmingPool</th>\n",
       "      <th>LandscapedGardens</th>\n",
       "      <th>JoggingTrack</th>\n",
       "      <th>...</th>\n",
       "      <th>LiftAvailable</th>\n",
       "      <th>BED</th>\n",
       "      <th>VaastuCompliant</th>\n",
       "      <th>Microwave</th>\n",
       "      <th>GolfCourse</th>\n",
       "      <th>TV</th>\n",
       "      <th>DiningTable</th>\n",
       "      <th>Sofa</th>\n",
       "      <th>Wardrobe</th>\n",
       "      <th>Refrigerator</th>\n",
       "    </tr>\n",
       "  </thead>\n",
       "  <tbody>\n",
       "    <tr>\n",
       "      <th>0</th>\n",
       "      <td>6968000</td>\n",
       "      <td>1340</td>\n",
       "      <td>Nizampet</td>\n",
       "      <td>2</td>\n",
       "      <td>0</td>\n",
       "      <td>0</td>\n",
       "      <td>1</td>\n",
       "      <td>1</td>\n",
       "      <td>1</td>\n",
       "      <td>1</td>\n",
       "      <td>...</td>\n",
       "      <td>1</td>\n",
       "      <td>0</td>\n",
       "      <td>1</td>\n",
       "      <td>0</td>\n",
       "      <td>0</td>\n",
       "      <td>0</td>\n",
       "      <td>0</td>\n",
       "      <td>0</td>\n",
       "      <td>0</td>\n",
       "      <td>0</td>\n",
       "    </tr>\n",
       "    <tr>\n",
       "      <th>1</th>\n",
       "      <td>29000000</td>\n",
       "      <td>3498</td>\n",
       "      <td>Hitech City</td>\n",
       "      <td>4</td>\n",
       "      <td>0</td>\n",
       "      <td>0</td>\n",
       "      <td>1</td>\n",
       "      <td>1</td>\n",
       "      <td>1</td>\n",
       "      <td>1</td>\n",
       "      <td>...</td>\n",
       "      <td>1</td>\n",
       "      <td>0</td>\n",
       "      <td>1</td>\n",
       "      <td>0</td>\n",
       "      <td>0</td>\n",
       "      <td>0</td>\n",
       "      <td>0</td>\n",
       "      <td>0</td>\n",
       "      <td>0</td>\n",
       "      <td>0</td>\n",
       "    </tr>\n",
       "    <tr>\n",
       "      <th>2</th>\n",
       "      <td>6590000</td>\n",
       "      <td>1318</td>\n",
       "      <td>Manikonda</td>\n",
       "      <td>2</td>\n",
       "      <td>0</td>\n",
       "      <td>0</td>\n",
       "      <td>1</td>\n",
       "      <td>0</td>\n",
       "      <td>0</td>\n",
       "      <td>0</td>\n",
       "      <td>...</td>\n",
       "      <td>0</td>\n",
       "      <td>0</td>\n",
       "      <td>0</td>\n",
       "      <td>0</td>\n",
       "      <td>0</td>\n",
       "      <td>0</td>\n",
       "      <td>0</td>\n",
       "      <td>0</td>\n",
       "      <td>0</td>\n",
       "      <td>0</td>\n",
       "    </tr>\n",
       "    <tr>\n",
       "      <th>3</th>\n",
       "      <td>5739000</td>\n",
       "      <td>1295</td>\n",
       "      <td>Alwal</td>\n",
       "      <td>3</td>\n",
       "      <td>1</td>\n",
       "      <td>0</td>\n",
       "      <td>0</td>\n",
       "      <td>0</td>\n",
       "      <td>0</td>\n",
       "      <td>0</td>\n",
       "      <td>...</td>\n",
       "      <td>1</td>\n",
       "      <td>0</td>\n",
       "      <td>0</td>\n",
       "      <td>0</td>\n",
       "      <td>0</td>\n",
       "      <td>0</td>\n",
       "      <td>0</td>\n",
       "      <td>0</td>\n",
       "      <td>0</td>\n",
       "      <td>0</td>\n",
       "    </tr>\n",
       "    <tr>\n",
       "      <th>4</th>\n",
       "      <td>5679000</td>\n",
       "      <td>1145</td>\n",
       "      <td>Kukatpally</td>\n",
       "      <td>2</td>\n",
       "      <td>0</td>\n",
       "      <td>0</td>\n",
       "      <td>0</td>\n",
       "      <td>0</td>\n",
       "      <td>1</td>\n",
       "      <td>0</td>\n",
       "      <td>...</td>\n",
       "      <td>1</td>\n",
       "      <td>0</td>\n",
       "      <td>0</td>\n",
       "      <td>0</td>\n",
       "      <td>0</td>\n",
       "      <td>0</td>\n",
       "      <td>0</td>\n",
       "      <td>0</td>\n",
       "      <td>0</td>\n",
       "      <td>0</td>\n",
       "    </tr>\n",
       "  </tbody>\n",
       "</table>\n",
       "<p>5 rows × 40 columns</p>\n",
       "</div>"
      ],
      "text/plain": [
       "      Price  Area     Location  No. of Bedrooms  Resale  MaintenanceStaff  \\\n",
       "0   6968000  1340     Nizampet                2       0                 0   \n",
       "1  29000000  3498  Hitech City                4       0                 0   \n",
       "2   6590000  1318    Manikonda                2       0                 0   \n",
       "3   5739000  1295        Alwal                3       1                 0   \n",
       "4   5679000  1145   Kukatpally                2       0                 0   \n",
       "\n",
       "   Gymnasium  SwimmingPool  LandscapedGardens  JoggingTrack  ...  \\\n",
       "0          1             1                  1             1  ...   \n",
       "1          1             1                  1             1  ...   \n",
       "2          1             0                  0             0  ...   \n",
       "3          0             0                  0             0  ...   \n",
       "4          0             0                  1             0  ...   \n",
       "\n",
       "   LiftAvailable  BED  VaastuCompliant  Microwave  GolfCourse  TV  \\\n",
       "0              1    0                1          0           0   0   \n",
       "1              1    0                1          0           0   0   \n",
       "2              0    0                0          0           0   0   \n",
       "3              1    0                0          0           0   0   \n",
       "4              1    0                0          0           0   0   \n",
       "\n",
       "   DiningTable  Sofa  Wardrobe  Refrigerator  \n",
       "0            0     0         0             0  \n",
       "1            0     0         0             0  \n",
       "2            0     0         0             0  \n",
       "3            0     0         0             0  \n",
       "4            0     0         0             0  \n",
       "\n",
       "[5 rows x 40 columns]"
      ]
     },
     "execution_count": 5,
     "metadata": {},
     "output_type": "execute_result"
    }
   ],
   "source": [
    "df4=pd.read_csv(\"./data/Hyderabad.csv\")\n",
    "df4.head(5)\n"
   ]
  },
  {
   "cell_type": "code",
   "execution_count": 6,
   "metadata": {},
   "outputs": [
    {
     "data": {
      "text/html": [
       "<div>\n",
       "<style scoped>\n",
       "    .dataframe tbody tr th:only-of-type {\n",
       "        vertical-align: middle;\n",
       "    }\n",
       "\n",
       "    .dataframe tbody tr th {\n",
       "        vertical-align: top;\n",
       "    }\n",
       "\n",
       "    .dataframe thead th {\n",
       "        text-align: right;\n",
       "    }\n",
       "</style>\n",
       "<table border=\"1\" class=\"dataframe\">\n",
       "  <thead>\n",
       "    <tr style=\"text-align: right;\">\n",
       "      <th></th>\n",
       "      <th>Price</th>\n",
       "      <th>Area</th>\n",
       "      <th>Location</th>\n",
       "      <th>No. of Bedrooms</th>\n",
       "      <th>Resale</th>\n",
       "      <th>MaintenanceStaff</th>\n",
       "      <th>Gymnasium</th>\n",
       "      <th>SwimmingPool</th>\n",
       "      <th>LandscapedGardens</th>\n",
       "      <th>JoggingTrack</th>\n",
       "      <th>...</th>\n",
       "      <th>LiftAvailable</th>\n",
       "      <th>BED</th>\n",
       "      <th>VaastuCompliant</th>\n",
       "      <th>Microwave</th>\n",
       "      <th>GolfCourse</th>\n",
       "      <th>TV</th>\n",
       "      <th>DiningTable</th>\n",
       "      <th>Sofa</th>\n",
       "      <th>Wardrobe</th>\n",
       "      <th>Refrigerator</th>\n",
       "    </tr>\n",
       "  </thead>\n",
       "  <tbody>\n",
       "    <tr>\n",
       "      <th>0</th>\n",
       "      <td>2235000</td>\n",
       "      <td>1016</td>\n",
       "      <td>Barasat</td>\n",
       "      <td>3</td>\n",
       "      <td>0</td>\n",
       "      <td>0</td>\n",
       "      <td>1</td>\n",
       "      <td>1</td>\n",
       "      <td>1</td>\n",
       "      <td>1</td>\n",
       "      <td>...</td>\n",
       "      <td>1</td>\n",
       "      <td>0</td>\n",
       "      <td>0</td>\n",
       "      <td>0</td>\n",
       "      <td>0</td>\n",
       "      <td>0</td>\n",
       "      <td>0</td>\n",
       "      <td>0</td>\n",
       "      <td>0</td>\n",
       "      <td>0</td>\n",
       "    </tr>\n",
       "    <tr>\n",
       "      <th>1</th>\n",
       "      <td>3665999</td>\n",
       "      <td>1111</td>\n",
       "      <td>Keshtopur</td>\n",
       "      <td>2</td>\n",
       "      <td>0</td>\n",
       "      <td>1</td>\n",
       "      <td>1</td>\n",
       "      <td>0</td>\n",
       "      <td>1</td>\n",
       "      <td>1</td>\n",
       "      <td>...</td>\n",
       "      <td>0</td>\n",
       "      <td>0</td>\n",
       "      <td>0</td>\n",
       "      <td>0</td>\n",
       "      <td>0</td>\n",
       "      <td>0</td>\n",
       "      <td>0</td>\n",
       "      <td>0</td>\n",
       "      <td>0</td>\n",
       "      <td>0</td>\n",
       "    </tr>\n",
       "    <tr>\n",
       "      <th>2</th>\n",
       "      <td>3774000</td>\n",
       "      <td>1020</td>\n",
       "      <td>Rajarhat</td>\n",
       "      <td>2</td>\n",
       "      <td>0</td>\n",
       "      <td>0</td>\n",
       "      <td>1</td>\n",
       "      <td>0</td>\n",
       "      <td>0</td>\n",
       "      <td>0</td>\n",
       "      <td>...</td>\n",
       "      <td>1</td>\n",
       "      <td>0</td>\n",
       "      <td>0</td>\n",
       "      <td>0</td>\n",
       "      <td>0</td>\n",
       "      <td>0</td>\n",
       "      <td>0</td>\n",
       "      <td>0</td>\n",
       "      <td>0</td>\n",
       "      <td>0</td>\n",
       "    </tr>\n",
       "    <tr>\n",
       "      <th>3</th>\n",
       "      <td>2524000</td>\n",
       "      <td>935</td>\n",
       "      <td>Narendrapur</td>\n",
       "      <td>2</td>\n",
       "      <td>0</td>\n",
       "      <td>0</td>\n",
       "      <td>1</td>\n",
       "      <td>1</td>\n",
       "      <td>1</td>\n",
       "      <td>1</td>\n",
       "      <td>...</td>\n",
       "      <td>0</td>\n",
       "      <td>0</td>\n",
       "      <td>0</td>\n",
       "      <td>0</td>\n",
       "      <td>0</td>\n",
       "      <td>0</td>\n",
       "      <td>0</td>\n",
       "      <td>0</td>\n",
       "      <td>0</td>\n",
       "      <td>0</td>\n",
       "    </tr>\n",
       "    <tr>\n",
       "      <th>4</th>\n",
       "      <td>8300000</td>\n",
       "      <td>1956</td>\n",
       "      <td>New Town</td>\n",
       "      <td>3</td>\n",
       "      <td>1</td>\n",
       "      <td>0</td>\n",
       "      <td>1</td>\n",
       "      <td>1</td>\n",
       "      <td>1</td>\n",
       "      <td>1</td>\n",
       "      <td>...</td>\n",
       "      <td>1</td>\n",
       "      <td>0</td>\n",
       "      <td>1</td>\n",
       "      <td>0</td>\n",
       "      <td>0</td>\n",
       "      <td>0</td>\n",
       "      <td>0</td>\n",
       "      <td>0</td>\n",
       "      <td>0</td>\n",
       "      <td>0</td>\n",
       "    </tr>\n",
       "  </tbody>\n",
       "</table>\n",
       "<p>5 rows × 40 columns</p>\n",
       "</div>"
      ],
      "text/plain": [
       "     Price  Area     Location  No. of Bedrooms  Resale  MaintenanceStaff  \\\n",
       "0  2235000  1016      Barasat                3       0                 0   \n",
       "1  3665999  1111    Keshtopur                2       0                 1   \n",
       "2  3774000  1020     Rajarhat                2       0                 0   \n",
       "3  2524000   935  Narendrapur                2       0                 0   \n",
       "4  8300000  1956     New Town                3       1                 0   \n",
       "\n",
       "   Gymnasium  SwimmingPool  LandscapedGardens  JoggingTrack  ...  \\\n",
       "0          1             1                  1             1  ...   \n",
       "1          1             0                  1             1  ...   \n",
       "2          1             0                  0             0  ...   \n",
       "3          1             1                  1             1  ...   \n",
       "4          1             1                  1             1  ...   \n",
       "\n",
       "   LiftAvailable  BED  VaastuCompliant  Microwave  GolfCourse  TV  \\\n",
       "0              1    0                0          0           0   0   \n",
       "1              0    0                0          0           0   0   \n",
       "2              1    0                0          0           0   0   \n",
       "3              0    0                0          0           0   0   \n",
       "4              1    0                1          0           0   0   \n",
       "\n",
       "   DiningTable  Sofa  Wardrobe  Refrigerator  \n",
       "0            0     0         0             0  \n",
       "1            0     0         0             0  \n",
       "2            0     0         0             0  \n",
       "3            0     0         0             0  \n",
       "4            0     0         0             0  \n",
       "\n",
       "[5 rows x 40 columns]"
      ]
     },
     "execution_count": 6,
     "metadata": {},
     "output_type": "execute_result"
    }
   ],
   "source": [
    "df5=pd.read_csv(\"./data/Kolkata.csv\")\n",
    "df5.head(5)"
   ]
  },
  {
   "cell_type": "code",
   "execution_count": 7,
   "metadata": {
    "scrolled": true
   },
   "outputs": [
    {
     "data": {
      "text/html": [
       "<div>\n",
       "<style scoped>\n",
       "    .dataframe tbody tr th:only-of-type {\n",
       "        vertical-align: middle;\n",
       "    }\n",
       "\n",
       "    .dataframe tbody tr th {\n",
       "        vertical-align: top;\n",
       "    }\n",
       "\n",
       "    .dataframe thead th {\n",
       "        text-align: right;\n",
       "    }\n",
       "</style>\n",
       "<table border=\"1\" class=\"dataframe\">\n",
       "  <thead>\n",
       "    <tr style=\"text-align: right;\">\n",
       "      <th></th>\n",
       "      <th>Price</th>\n",
       "      <th>Area</th>\n",
       "      <th>Location</th>\n",
       "      <th>No. of Bedrooms</th>\n",
       "      <th>Resale</th>\n",
       "      <th>MaintenanceStaff</th>\n",
       "      <th>Gymnasium</th>\n",
       "      <th>SwimmingPool</th>\n",
       "      <th>LandscapedGardens</th>\n",
       "      <th>JoggingTrack</th>\n",
       "      <th>...</th>\n",
       "      <th>LiftAvailable</th>\n",
       "      <th>BED</th>\n",
       "      <th>VaastuCompliant</th>\n",
       "      <th>Microwave</th>\n",
       "      <th>GolfCourse</th>\n",
       "      <th>TV</th>\n",
       "      <th>DiningTable</th>\n",
       "      <th>Sofa</th>\n",
       "      <th>Wardrobe</th>\n",
       "      <th>Refrigerator</th>\n",
       "    </tr>\n",
       "  </thead>\n",
       "  <tbody>\n",
       "    <tr>\n",
       "      <th>0</th>\n",
       "      <td>4850000</td>\n",
       "      <td>720</td>\n",
       "      <td>Kharghar</td>\n",
       "      <td>1</td>\n",
       "      <td>1</td>\n",
       "      <td>1</td>\n",
       "      <td>0</td>\n",
       "      <td>0</td>\n",
       "      <td>0</td>\n",
       "      <td>0</td>\n",
       "      <td>...</td>\n",
       "      <td>1</td>\n",
       "      <td>0</td>\n",
       "      <td>1</td>\n",
       "      <td>0</td>\n",
       "      <td>0</td>\n",
       "      <td>0</td>\n",
       "      <td>0</td>\n",
       "      <td>0</td>\n",
       "      <td>0</td>\n",
       "      <td>0</td>\n",
       "    </tr>\n",
       "    <tr>\n",
       "      <th>1</th>\n",
       "      <td>4500000</td>\n",
       "      <td>600</td>\n",
       "      <td>Kharghar</td>\n",
       "      <td>1</td>\n",
       "      <td>1</td>\n",
       "      <td>1</td>\n",
       "      <td>1</td>\n",
       "      <td>1</td>\n",
       "      <td>0</td>\n",
       "      <td>1</td>\n",
       "      <td>...</td>\n",
       "      <td>1</td>\n",
       "      <td>0</td>\n",
       "      <td>1</td>\n",
       "      <td>0</td>\n",
       "      <td>0</td>\n",
       "      <td>0</td>\n",
       "      <td>0</td>\n",
       "      <td>0</td>\n",
       "      <td>0</td>\n",
       "      <td>0</td>\n",
       "    </tr>\n",
       "    <tr>\n",
       "      <th>2</th>\n",
       "      <td>6700000</td>\n",
       "      <td>650</td>\n",
       "      <td>Kharghar</td>\n",
       "      <td>1</td>\n",
       "      <td>1</td>\n",
       "      <td>1</td>\n",
       "      <td>1</td>\n",
       "      <td>1</td>\n",
       "      <td>0</td>\n",
       "      <td>1</td>\n",
       "      <td>...</td>\n",
       "      <td>1</td>\n",
       "      <td>0</td>\n",
       "      <td>1</td>\n",
       "      <td>0</td>\n",
       "      <td>0</td>\n",
       "      <td>0</td>\n",
       "      <td>0</td>\n",
       "      <td>0</td>\n",
       "      <td>0</td>\n",
       "      <td>0</td>\n",
       "    </tr>\n",
       "    <tr>\n",
       "      <th>3</th>\n",
       "      <td>4500000</td>\n",
       "      <td>650</td>\n",
       "      <td>Kharghar</td>\n",
       "      <td>1</td>\n",
       "      <td>1</td>\n",
       "      <td>1</td>\n",
       "      <td>0</td>\n",
       "      <td>0</td>\n",
       "      <td>1</td>\n",
       "      <td>0</td>\n",
       "      <td>...</td>\n",
       "      <td>1</td>\n",
       "      <td>1</td>\n",
       "      <td>1</td>\n",
       "      <td>0</td>\n",
       "      <td>0</td>\n",
       "      <td>0</td>\n",
       "      <td>0</td>\n",
       "      <td>0</td>\n",
       "      <td>1</td>\n",
       "      <td>0</td>\n",
       "    </tr>\n",
       "    <tr>\n",
       "      <th>4</th>\n",
       "      <td>5000000</td>\n",
       "      <td>665</td>\n",
       "      <td>Kharghar</td>\n",
       "      <td>1</td>\n",
       "      <td>1</td>\n",
       "      <td>1</td>\n",
       "      <td>0</td>\n",
       "      <td>0</td>\n",
       "      <td>1</td>\n",
       "      <td>0</td>\n",
       "      <td>...</td>\n",
       "      <td>1</td>\n",
       "      <td>0</td>\n",
       "      <td>1</td>\n",
       "      <td>0</td>\n",
       "      <td>0</td>\n",
       "      <td>0</td>\n",
       "      <td>0</td>\n",
       "      <td>0</td>\n",
       "      <td>0</td>\n",
       "      <td>0</td>\n",
       "    </tr>\n",
       "  </tbody>\n",
       "</table>\n",
       "<p>5 rows × 40 columns</p>\n",
       "</div>"
      ],
      "text/plain": [
       "     Price  Area  Location  No. of Bedrooms  Resale  MaintenanceStaff  \\\n",
       "0  4850000   720  Kharghar                1       1                 1   \n",
       "1  4500000   600  Kharghar                1       1                 1   \n",
       "2  6700000   650  Kharghar                1       1                 1   \n",
       "3  4500000   650  Kharghar                1       1                 1   \n",
       "4  5000000   665  Kharghar                1       1                 1   \n",
       "\n",
       "   Gymnasium  SwimmingPool  LandscapedGardens  JoggingTrack  ...  \\\n",
       "0          0             0                  0             0  ...   \n",
       "1          1             1                  0             1  ...   \n",
       "2          1             1                  0             1  ...   \n",
       "3          0             0                  1             0  ...   \n",
       "4          0             0                  1             0  ...   \n",
       "\n",
       "   LiftAvailable  BED  VaastuCompliant  Microwave  GolfCourse  TV  \\\n",
       "0              1    0                1          0           0   0   \n",
       "1              1    0                1          0           0   0   \n",
       "2              1    0                1          0           0   0   \n",
       "3              1    1                1          0           0   0   \n",
       "4              1    0                1          0           0   0   \n",
       "\n",
       "   DiningTable  Sofa  Wardrobe  Refrigerator  \n",
       "0            0     0         0             0  \n",
       "1            0     0         0             0  \n",
       "2            0     0         0             0  \n",
       "3            0     0         1             0  \n",
       "4            0     0         0             0  \n",
       "\n",
       "[5 rows x 40 columns]"
      ]
     },
     "execution_count": 7,
     "metadata": {},
     "output_type": "execute_result"
    }
   ],
   "source": [
    "df6=pd.read_csv(\"./data/Mumbai.csv\")\n",
    "df6.head(5)"
   ]
  },
  {
   "cell_type": "code",
   "execution_count": 8,
   "metadata": {},
   "outputs": [
    {
     "data": {
      "text/plain": [
       "(4998, 40)"
      ]
     },
     "execution_count": 8,
     "metadata": {},
     "output_type": "execute_result"
    }
   ],
   "source": [
    "df1.shape"
   ]
  },
  {
   "cell_type": "code",
   "execution_count": 9,
   "metadata": {},
   "outputs": [
    {
     "data": {
      "text/plain": [
       "(6207, 40)"
      ]
     },
     "execution_count": 9,
     "metadata": {},
     "output_type": "execute_result"
    }
   ],
   "source": [
    "df2.shape"
   ]
  },
  {
   "cell_type": "code",
   "execution_count": 10,
   "metadata": {},
   "outputs": [
    {
     "data": {
      "text/plain": [
       "(5014, 40)"
      ]
     },
     "execution_count": 10,
     "metadata": {},
     "output_type": "execute_result"
    }
   ],
   "source": [
    "df3.shape"
   ]
  },
  {
   "cell_type": "code",
   "execution_count": 11,
   "metadata": {},
   "outputs": [
    {
     "data": {
      "text/plain": [
       "(2518, 40)"
      ]
     },
     "execution_count": 11,
     "metadata": {},
     "output_type": "execute_result"
    }
   ],
   "source": [
    "df4.shape"
   ]
  },
  {
   "cell_type": "code",
   "execution_count": 12,
   "metadata": {},
   "outputs": [
    {
     "data": {
      "text/plain": [
       "(6507, 40)"
      ]
     },
     "execution_count": 12,
     "metadata": {},
     "output_type": "execute_result"
    }
   ],
   "source": [
    "df5.shape"
   ]
  },
  {
   "cell_type": "code",
   "execution_count": 13,
   "metadata": {},
   "outputs": [
    {
     "data": {
      "text/plain": [
       "7719"
      ]
     },
     "execution_count": 13,
     "metadata": {},
     "output_type": "execute_result"
    }
   ],
   "source": [
    "df6.shape[0]"
   ]
  },
  {
   "cell_type": "code",
   "execution_count": null,
   "metadata": {},
   "outputs": [],
   "source": []
  },
  {
   "cell_type": "markdown",
   "metadata": {},
   "source": [
    "## Data Preprocessing"
   ]
  },
  {
   "cell_type": "markdown",
   "metadata": {},
   "source": [
    "## Adding States column to dataset"
   ]
  },
  {
   "cell_type": "code",
   "execution_count": null,
   "metadata": {},
   "outputs": [],
   "source": []
  },
  {
   "cell_type": "code",
   "execution_count": 14,
   "metadata": {},
   "outputs": [],
   "source": [
    "def def_state(n,s):\n",
    "    state=[]\n",
    "    state += n * [s]\n",
    "    return state"
   ]
  },
  {
   "cell_type": "code",
   "execution_count": 15,
   "metadata": {},
   "outputs": [],
   "source": [
    "res = def_state(df1.shape[0],\"Delhi\")"
   ]
  },
  {
   "cell_type": "code",
   "execution_count": 16,
   "metadata": {},
   "outputs": [],
   "source": [
    "df1['State'] = res"
   ]
  },
  {
   "cell_type": "code",
   "execution_count": 17,
   "metadata": {},
   "outputs": [],
   "source": [
    "res = def_state(df2.shape[0],\"Bangalore\")\n"
   ]
  },
  {
   "cell_type": "code",
   "execution_count": 18,
   "metadata": {},
   "outputs": [],
   "source": [
    "df2['State'] = res\n"
   ]
  },
  {
   "cell_type": "code",
   "execution_count": 19,
   "metadata": {},
   "outputs": [],
   "source": [
    "res = def_state(df3.shape[0],\"Chennai\")"
   ]
  },
  {
   "cell_type": "code",
   "execution_count": 20,
   "metadata": {},
   "outputs": [],
   "source": [
    "df3['State'] = res"
   ]
  },
  {
   "cell_type": "code",
   "execution_count": 21,
   "metadata": {},
   "outputs": [],
   "source": [
    "res = def_state(df4.shape[0],\"Hyderabad\")"
   ]
  },
  {
   "cell_type": "code",
   "execution_count": 22,
   "metadata": {},
   "outputs": [],
   "source": [
    "df4['State'] = res"
   ]
  },
  {
   "cell_type": "code",
   "execution_count": 23,
   "metadata": {},
   "outputs": [],
   "source": [
    "res = def_state(df5.shape[0],\"Hyderabad\")"
   ]
  },
  {
   "cell_type": "code",
   "execution_count": 24,
   "metadata": {},
   "outputs": [],
   "source": [
    "df5['State'] = res"
   ]
  },
  {
   "cell_type": "code",
   "execution_count": 25,
   "metadata": {},
   "outputs": [],
   "source": [
    "res = def_state(df6.shape[0],\"Hyderabad\")"
   ]
  },
  {
   "cell_type": "code",
   "execution_count": 26,
   "metadata": {},
   "outputs": [],
   "source": [
    "df6['State'] = res"
   ]
  },
  {
   "cell_type": "code",
   "execution_count": 27,
   "metadata": {},
   "outputs": [
    {
     "data": {
      "text/plain": [
       "(6207, 41)"
      ]
     },
     "execution_count": 27,
     "metadata": {},
     "output_type": "execute_result"
    }
   ],
   "source": [
    "df2.shape"
   ]
  },
  {
   "cell_type": "markdown",
   "metadata": {},
   "source": [
    "## Merging the dataframes"
   ]
  },
  {
   "cell_type": "code",
   "execution_count": 28,
   "metadata": {},
   "outputs": [],
   "source": [
    "frames = [df1,df2,df3,df4,df5, df6]"
   ]
  },
  {
   "cell_type": "code",
   "execution_count": 29,
   "metadata": {},
   "outputs": [],
   "source": [
    "data = pd.concat(frames)"
   ]
  },
  {
   "cell_type": "code",
   "execution_count": 30,
   "metadata": {},
   "outputs": [],
   "source": [
    "data.to_csv(r'.\\Merged_csv.csv', index = False)"
   ]
  },
  {
   "cell_type": "code",
   "execution_count": 31,
   "metadata": {},
   "outputs": [
    {
     "data": {
      "text/plain": [
       "(32963, 41)"
      ]
     },
     "execution_count": 31,
     "metadata": {},
     "output_type": "execute_result"
    }
   ],
   "source": [
    "data.shape"
   ]
  },
  {
   "cell_type": "code",
   "execution_count": 32,
   "metadata": {},
   "outputs": [
    {
     "data": {
      "text/html": [
       "<div>\n",
       "<style scoped>\n",
       "    .dataframe tbody tr th:only-of-type {\n",
       "        vertical-align: middle;\n",
       "    }\n",
       "\n",
       "    .dataframe tbody tr th {\n",
       "        vertical-align: top;\n",
       "    }\n",
       "\n",
       "    .dataframe thead th {\n",
       "        text-align: right;\n",
       "    }\n",
       "</style>\n",
       "<table border=\"1\" class=\"dataframe\">\n",
       "  <thead>\n",
       "    <tr style=\"text-align: right;\">\n",
       "      <th></th>\n",
       "      <th>Price</th>\n",
       "      <th>Area</th>\n",
       "      <th>Location</th>\n",
       "      <th>No. of Bedrooms</th>\n",
       "      <th>Resale</th>\n",
       "      <th>MaintenanceStaff</th>\n",
       "      <th>Gymnasium</th>\n",
       "      <th>SwimmingPool</th>\n",
       "      <th>LandscapedGardens</th>\n",
       "      <th>JoggingTrack</th>\n",
       "      <th>...</th>\n",
       "      <th>BED</th>\n",
       "      <th>VaastuCompliant</th>\n",
       "      <th>Microwave</th>\n",
       "      <th>GolfCourse</th>\n",
       "      <th>TV</th>\n",
       "      <th>DiningTable</th>\n",
       "      <th>Sofa</th>\n",
       "      <th>Wardrobe</th>\n",
       "      <th>Refrigerator</th>\n",
       "      <th>State</th>\n",
       "    </tr>\n",
       "  </thead>\n",
       "  <tbody>\n",
       "    <tr>\n",
       "      <th>0</th>\n",
       "      <td>10500000</td>\n",
       "      <td>1200</td>\n",
       "      <td>Sector 10 Dwarka</td>\n",
       "      <td>2</td>\n",
       "      <td>1</td>\n",
       "      <td>0</td>\n",
       "      <td>1</td>\n",
       "      <td>0</td>\n",
       "      <td>0</td>\n",
       "      <td>1</td>\n",
       "      <td>...</td>\n",
       "      <td>0</td>\n",
       "      <td>1</td>\n",
       "      <td>0</td>\n",
       "      <td>0</td>\n",
       "      <td>0</td>\n",
       "      <td>0</td>\n",
       "      <td>0</td>\n",
       "      <td>0</td>\n",
       "      <td>0</td>\n",
       "      <td>Delhi</td>\n",
       "    </tr>\n",
       "    <tr>\n",
       "      <th>1</th>\n",
       "      <td>6000000</td>\n",
       "      <td>1000</td>\n",
       "      <td>Uttam Nagar</td>\n",
       "      <td>3</td>\n",
       "      <td>0</td>\n",
       "      <td>0</td>\n",
       "      <td>0</td>\n",
       "      <td>0</td>\n",
       "      <td>0</td>\n",
       "      <td>0</td>\n",
       "      <td>...</td>\n",
       "      <td>0</td>\n",
       "      <td>0</td>\n",
       "      <td>0</td>\n",
       "      <td>0</td>\n",
       "      <td>0</td>\n",
       "      <td>0</td>\n",
       "      <td>0</td>\n",
       "      <td>0</td>\n",
       "      <td>0</td>\n",
       "      <td>Delhi</td>\n",
       "    </tr>\n",
       "    <tr>\n",
       "      <th>2</th>\n",
       "      <td>15000000</td>\n",
       "      <td>1350</td>\n",
       "      <td>Sarita Vihar</td>\n",
       "      <td>2</td>\n",
       "      <td>1</td>\n",
       "      <td>0</td>\n",
       "      <td>0</td>\n",
       "      <td>0</td>\n",
       "      <td>0</td>\n",
       "      <td>0</td>\n",
       "      <td>...</td>\n",
       "      <td>0</td>\n",
       "      <td>0</td>\n",
       "      <td>0</td>\n",
       "      <td>0</td>\n",
       "      <td>0</td>\n",
       "      <td>0</td>\n",
       "      <td>0</td>\n",
       "      <td>0</td>\n",
       "      <td>0</td>\n",
       "      <td>Delhi</td>\n",
       "    </tr>\n",
       "    <tr>\n",
       "      <th>3</th>\n",
       "      <td>2500000</td>\n",
       "      <td>435</td>\n",
       "      <td>Uttam Nagar</td>\n",
       "      <td>2</td>\n",
       "      <td>0</td>\n",
       "      <td>0</td>\n",
       "      <td>0</td>\n",
       "      <td>0</td>\n",
       "      <td>0</td>\n",
       "      <td>0</td>\n",
       "      <td>...</td>\n",
       "      <td>0</td>\n",
       "      <td>1</td>\n",
       "      <td>0</td>\n",
       "      <td>0</td>\n",
       "      <td>0</td>\n",
       "      <td>0</td>\n",
       "      <td>0</td>\n",
       "      <td>0</td>\n",
       "      <td>0</td>\n",
       "      <td>Delhi</td>\n",
       "    </tr>\n",
       "    <tr>\n",
       "      <th>4</th>\n",
       "      <td>5800000</td>\n",
       "      <td>900</td>\n",
       "      <td>Dwarka Mor</td>\n",
       "      <td>3</td>\n",
       "      <td>0</td>\n",
       "      <td>0</td>\n",
       "      <td>0</td>\n",
       "      <td>0</td>\n",
       "      <td>0</td>\n",
       "      <td>0</td>\n",
       "      <td>...</td>\n",
       "      <td>0</td>\n",
       "      <td>0</td>\n",
       "      <td>0</td>\n",
       "      <td>0</td>\n",
       "      <td>0</td>\n",
       "      <td>0</td>\n",
       "      <td>0</td>\n",
       "      <td>0</td>\n",
       "      <td>0</td>\n",
       "      <td>Delhi</td>\n",
       "    </tr>\n",
       "  </tbody>\n",
       "</table>\n",
       "<p>5 rows × 41 columns</p>\n",
       "</div>"
      ],
      "text/plain": [
       "      Price  Area          Location  No. of Bedrooms  Resale  \\\n",
       "0  10500000  1200  Sector 10 Dwarka                2       1   \n",
       "1   6000000  1000       Uttam Nagar                3       0   \n",
       "2  15000000  1350      Sarita Vihar                2       1   \n",
       "3   2500000   435       Uttam Nagar                2       0   \n",
       "4   5800000   900        Dwarka Mor                3       0   \n",
       "\n",
       "   MaintenanceStaff  Gymnasium  SwimmingPool  LandscapedGardens  JoggingTrack  \\\n",
       "0                 0          1             0                  0             1   \n",
       "1                 0          0             0                  0             0   \n",
       "2                 0          0             0                  0             0   \n",
       "3                 0          0             0                  0             0   \n",
       "4                 0          0             0                  0             0   \n",
       "\n",
       "   ...  BED  VaastuCompliant  Microwave  GolfCourse  TV  DiningTable  Sofa  \\\n",
       "0  ...    0                1          0           0   0            0     0   \n",
       "1  ...    0                0          0           0   0            0     0   \n",
       "2  ...    0                0          0           0   0            0     0   \n",
       "3  ...    0                1          0           0   0            0     0   \n",
       "4  ...    0                0          0           0   0            0     0   \n",
       "\n",
       "   Wardrobe  Refrigerator  State  \n",
       "0         0             0  Delhi  \n",
       "1         0             0  Delhi  \n",
       "2         0             0  Delhi  \n",
       "3         0             0  Delhi  \n",
       "4         0             0  Delhi  \n",
       "\n",
       "[5 rows x 41 columns]"
      ]
     },
     "execution_count": 32,
     "metadata": {},
     "output_type": "execute_result"
    }
   ],
   "source": [
    "data.head(5)"
   ]
  },
  {
   "cell_type": "code",
   "execution_count": 33,
   "metadata": {},
   "outputs": [
    {
     "data": {
      "text/plain": [
       "Price                   int64\n",
       "Area                    int64\n",
       "Location               object\n",
       "No. of Bedrooms         int64\n",
       "Resale                  int64\n",
       "MaintenanceStaff        int64\n",
       "Gymnasium               int64\n",
       "SwimmingPool            int64\n",
       "LandscapedGardens       int64\n",
       "JoggingTrack            int64\n",
       "RainWaterHarvesting     int64\n",
       "IndoorGames             int64\n",
       "ShoppingMall            int64\n",
       "Intercom                int64\n",
       "SportsFacility          int64\n",
       "ATM                     int64\n",
       "ClubHouse               int64\n",
       "School                  int64\n",
       "24X7Security            int64\n",
       "PowerBackup             int64\n",
       "CarParking              int64\n",
       "StaffQuarter            int64\n",
       "Cafeteria               int64\n",
       "MultipurposeRoom        int64\n",
       "Hospital                int64\n",
       "WashingMachine          int64\n",
       "Gasconnection           int64\n",
       "AC                      int64\n",
       "Wifi                    int64\n",
       "Children'splayarea      int64\n",
       "LiftAvailable           int64\n",
       "BED                     int64\n",
       "VaastuCompliant         int64\n",
       "Microwave               int64\n",
       "GolfCourse              int64\n",
       "TV                      int64\n",
       "DiningTable             int64\n",
       "Sofa                    int64\n",
       "Wardrobe                int64\n",
       "Refrigerator            int64\n",
       "State                  object\n",
       "dtype: object"
      ]
     },
     "execution_count": 33,
     "metadata": {},
     "output_type": "execute_result"
    }
   ],
   "source": [
    "data.dtypes"
   ]
  },
  {
   "cell_type": "code",
   "execution_count": 34,
   "metadata": {},
   "outputs": [
    {
     "name": "stdout",
     "output_type": "stream",
     "text": [
      "<class 'pandas.core.frame.DataFrame'>\n",
      "Int64Index: 32963 entries, 0 to 7718\n",
      "Data columns (total 41 columns):\n",
      " #   Column               Non-Null Count  Dtype \n",
      "---  ------               --------------  ----- \n",
      " 0   Price                32963 non-null  int64 \n",
      " 1   Area                 32963 non-null  int64 \n",
      " 2   Location             32963 non-null  object\n",
      " 3   No. of Bedrooms      32963 non-null  int64 \n",
      " 4   Resale               32963 non-null  int64 \n",
      " 5   MaintenanceStaff     32963 non-null  int64 \n",
      " 6   Gymnasium            32963 non-null  int64 \n",
      " 7   SwimmingPool         32963 non-null  int64 \n",
      " 8   LandscapedGardens    32963 non-null  int64 \n",
      " 9   JoggingTrack         32963 non-null  int64 \n",
      " 10  RainWaterHarvesting  32963 non-null  int64 \n",
      " 11  IndoorGames          32963 non-null  int64 \n",
      " 12  ShoppingMall         32963 non-null  int64 \n",
      " 13  Intercom             32963 non-null  int64 \n",
      " 14  SportsFacility       32963 non-null  int64 \n",
      " 15  ATM                  32963 non-null  int64 \n",
      " 16  ClubHouse            32963 non-null  int64 \n",
      " 17  School               32963 non-null  int64 \n",
      " 18  24X7Security         32963 non-null  int64 \n",
      " 19  PowerBackup          32963 non-null  int64 \n",
      " 20  CarParking           32963 non-null  int64 \n",
      " 21  StaffQuarter         32963 non-null  int64 \n",
      " 22  Cafeteria            32963 non-null  int64 \n",
      " 23  MultipurposeRoom     32963 non-null  int64 \n",
      " 24  Hospital             32963 non-null  int64 \n",
      " 25  WashingMachine       32963 non-null  int64 \n",
      " 26  Gasconnection        32963 non-null  int64 \n",
      " 27  AC                   32963 non-null  int64 \n",
      " 28  Wifi                 32963 non-null  int64 \n",
      " 29  Children'splayarea   32963 non-null  int64 \n",
      " 30  LiftAvailable        32963 non-null  int64 \n",
      " 31  BED                  32963 non-null  int64 \n",
      " 32  VaastuCompliant      32963 non-null  int64 \n",
      " 33  Microwave            32963 non-null  int64 \n",
      " 34  GolfCourse           32963 non-null  int64 \n",
      " 35  TV                   32963 non-null  int64 \n",
      " 36  DiningTable          32963 non-null  int64 \n",
      " 37  Sofa                 32963 non-null  int64 \n",
      " 38  Wardrobe             32963 non-null  int64 \n",
      " 39  Refrigerator         32963 non-null  int64 \n",
      " 40  State                32963 non-null  object\n",
      "dtypes: int64(39), object(2)\n",
      "memory usage: 10.6+ MB\n",
      "None\n"
     ]
    }
   ],
   "source": [
    "print(data.info())"
   ]
  },
  {
   "cell_type": "code",
   "execution_count": 35,
   "metadata": {},
   "outputs": [
    {
     "data": {
      "text/plain": [
       "Price                  0\n",
       "Area                   0\n",
       "Location               0\n",
       "No. of Bedrooms        0\n",
       "Resale                 0\n",
       "MaintenanceStaff       0\n",
       "Gymnasium              0\n",
       "SwimmingPool           0\n",
       "LandscapedGardens      0\n",
       "JoggingTrack           0\n",
       "RainWaterHarvesting    0\n",
       "IndoorGames            0\n",
       "ShoppingMall           0\n",
       "Intercom               0\n",
       "SportsFacility         0\n",
       "ATM                    0\n",
       "ClubHouse              0\n",
       "School                 0\n",
       "24X7Security           0\n",
       "PowerBackup            0\n",
       "CarParking             0\n",
       "StaffQuarter           0\n",
       "Cafeteria              0\n",
       "MultipurposeRoom       0\n",
       "Hospital               0\n",
       "WashingMachine         0\n",
       "Gasconnection          0\n",
       "AC                     0\n",
       "Wifi                   0\n",
       "Children'splayarea     0\n",
       "LiftAvailable          0\n",
       "BED                    0\n",
       "VaastuCompliant        0\n",
       "Microwave              0\n",
       "GolfCourse             0\n",
       "TV                     0\n",
       "DiningTable            0\n",
       "Sofa                   0\n",
       "Wardrobe               0\n",
       "Refrigerator           0\n",
       "State                  0\n",
       "dtype: int64"
      ]
     },
     "execution_count": 35,
     "metadata": {},
     "output_type": "execute_result"
    }
   ],
   "source": [
    "data.isnull().sum()"
   ]
  },
  {
   "cell_type": "code",
   "execution_count": 36,
   "metadata": {},
   "outputs": [
    {
     "data": {
      "text/html": [
       "<div>\n",
       "<style scoped>\n",
       "    .dataframe tbody tr th:only-of-type {\n",
       "        vertical-align: middle;\n",
       "    }\n",
       "\n",
       "    .dataframe tbody tr th {\n",
       "        vertical-align: top;\n",
       "    }\n",
       "\n",
       "    .dataframe thead th {\n",
       "        text-align: right;\n",
       "    }\n",
       "</style>\n",
       "<table border=\"1\" class=\"dataframe\">\n",
       "  <thead>\n",
       "    <tr style=\"text-align: right;\">\n",
       "      <th></th>\n",
       "      <th>Price</th>\n",
       "      <th>Area</th>\n",
       "      <th>No. of Bedrooms</th>\n",
       "      <th>Resale</th>\n",
       "      <th>MaintenanceStaff</th>\n",
       "      <th>Gymnasium</th>\n",
       "      <th>SwimmingPool</th>\n",
       "      <th>LandscapedGardens</th>\n",
       "      <th>JoggingTrack</th>\n",
       "      <th>RainWaterHarvesting</th>\n",
       "      <th>...</th>\n",
       "      <th>LiftAvailable</th>\n",
       "      <th>BED</th>\n",
       "      <th>VaastuCompliant</th>\n",
       "      <th>Microwave</th>\n",
       "      <th>GolfCourse</th>\n",
       "      <th>TV</th>\n",
       "      <th>DiningTable</th>\n",
       "      <th>Sofa</th>\n",
       "      <th>Wardrobe</th>\n",
       "      <th>Refrigerator</th>\n",
       "    </tr>\n",
       "  </thead>\n",
       "  <tbody>\n",
       "    <tr>\n",
       "      <th>count</th>\n",
       "      <td>3.296300e+04</td>\n",
       "      <td>32963.000000</td>\n",
       "      <td>32963.000000</td>\n",
       "      <td>32963.000000</td>\n",
       "      <td>32963.000000</td>\n",
       "      <td>32963.000000</td>\n",
       "      <td>32963.000000</td>\n",
       "      <td>32963.000000</td>\n",
       "      <td>32963.000000</td>\n",
       "      <td>32963.000000</td>\n",
       "      <td>...</td>\n",
       "      <td>32963.000000</td>\n",
       "      <td>32963.000000</td>\n",
       "      <td>32963.000000</td>\n",
       "      <td>32963.000000</td>\n",
       "      <td>32963.000000</td>\n",
       "      <td>32963.000000</td>\n",
       "      <td>32963.000000</td>\n",
       "      <td>32963.000000</td>\n",
       "      <td>32963.000000</td>\n",
       "      <td>32963.000000</td>\n",
       "    </tr>\n",
       "    <tr>\n",
       "      <th>mean</th>\n",
       "      <td>1.168672e+07</td>\n",
       "      <td>1293.362194</td>\n",
       "      <td>2.411765</td>\n",
       "      <td>0.381397</td>\n",
       "      <td>6.296454</td>\n",
       "      <td>6.403725</td>\n",
       "      <td>6.371325</td>\n",
       "      <td>6.351151</td>\n",
       "      <td>6.346328</td>\n",
       "      <td>6.356855</td>\n",
       "      <td>...</td>\n",
       "      <td>6.463671</td>\n",
       "      <td>6.272154</td>\n",
       "      <td>6.335497</td>\n",
       "      <td>6.259169</td>\n",
       "      <td>6.250887</td>\n",
       "      <td>6.261293</td>\n",
       "      <td>6.260413</td>\n",
       "      <td>6.259867</td>\n",
       "      <td>6.250675</td>\n",
       "      <td>6.260019</td>\n",
       "    </tr>\n",
       "    <tr>\n",
       "      <th>std</th>\n",
       "      <td>2.307368e+07</td>\n",
       "      <td>763.703754</td>\n",
       "      <td>0.812800</td>\n",
       "      <td>0.485737</td>\n",
       "      <td>4.075024</td>\n",
       "      <td>3.917995</td>\n",
       "      <td>3.966385</td>\n",
       "      <td>3.996086</td>\n",
       "      <td>4.003140</td>\n",
       "      <td>3.987722</td>\n",
       "      <td>...</td>\n",
       "      <td>3.826128</td>\n",
       "      <td>4.109373</td>\n",
       "      <td>4.018912</td>\n",
       "      <td>4.127551</td>\n",
       "      <td>4.139083</td>\n",
       "      <td>4.124586</td>\n",
       "      <td>4.125815</td>\n",
       "      <td>4.126577</td>\n",
       "      <td>4.139378</td>\n",
       "      <td>4.126365</td>\n",
       "    </tr>\n",
       "    <tr>\n",
       "      <th>min</th>\n",
       "      <td>2.000000e+06</td>\n",
       "      <td>200.000000</td>\n",
       "      <td>1.000000</td>\n",
       "      <td>0.000000</td>\n",
       "      <td>0.000000</td>\n",
       "      <td>0.000000</td>\n",
       "      <td>0.000000</td>\n",
       "      <td>0.000000</td>\n",
       "      <td>0.000000</td>\n",
       "      <td>0.000000</td>\n",
       "      <td>...</td>\n",
       "      <td>0.000000</td>\n",
       "      <td>0.000000</td>\n",
       "      <td>0.000000</td>\n",
       "      <td>0.000000</td>\n",
       "      <td>0.000000</td>\n",
       "      <td>0.000000</td>\n",
       "      <td>0.000000</td>\n",
       "      <td>0.000000</td>\n",
       "      <td>0.000000</td>\n",
       "      <td>0.000000</td>\n",
       "    </tr>\n",
       "    <tr>\n",
       "      <th>25%</th>\n",
       "      <td>4.071500e+06</td>\n",
       "      <td>853.000000</td>\n",
       "      <td>2.000000</td>\n",
       "      <td>0.000000</td>\n",
       "      <td>0.000000</td>\n",
       "      <td>1.000000</td>\n",
       "      <td>1.000000</td>\n",
       "      <td>1.000000</td>\n",
       "      <td>1.000000</td>\n",
       "      <td>1.000000</td>\n",
       "      <td>...</td>\n",
       "      <td>1.000000</td>\n",
       "      <td>0.000000</td>\n",
       "      <td>1.000000</td>\n",
       "      <td>0.000000</td>\n",
       "      <td>0.000000</td>\n",
       "      <td>0.000000</td>\n",
       "      <td>0.000000</td>\n",
       "      <td>0.000000</td>\n",
       "      <td>0.000000</td>\n",
       "      <td>0.000000</td>\n",
       "    </tr>\n",
       "    <tr>\n",
       "      <th>50%</th>\n",
       "      <td>6.711000e+06</td>\n",
       "      <td>1125.000000</td>\n",
       "      <td>2.000000</td>\n",
       "      <td>0.000000</td>\n",
       "      <td>9.000000</td>\n",
       "      <td>9.000000</td>\n",
       "      <td>9.000000</td>\n",
       "      <td>9.000000</td>\n",
       "      <td>9.000000</td>\n",
       "      <td>9.000000</td>\n",
       "      <td>...</td>\n",
       "      <td>9.000000</td>\n",
       "      <td>9.000000</td>\n",
       "      <td>9.000000</td>\n",
       "      <td>9.000000</td>\n",
       "      <td>9.000000</td>\n",
       "      <td>9.000000</td>\n",
       "      <td>9.000000</td>\n",
       "      <td>9.000000</td>\n",
       "      <td>9.000000</td>\n",
       "      <td>9.000000</td>\n",
       "    </tr>\n",
       "    <tr>\n",
       "      <th>75%</th>\n",
       "      <td>1.200000e+07</td>\n",
       "      <td>1500.000000</td>\n",
       "      <td>3.000000</td>\n",
       "      <td>1.000000</td>\n",
       "      <td>9.000000</td>\n",
       "      <td>9.000000</td>\n",
       "      <td>9.000000</td>\n",
       "      <td>9.000000</td>\n",
       "      <td>9.000000</td>\n",
       "      <td>9.000000</td>\n",
       "      <td>...</td>\n",
       "      <td>9.000000</td>\n",
       "      <td>9.000000</td>\n",
       "      <td>9.000000</td>\n",
       "      <td>9.000000</td>\n",
       "      <td>9.000000</td>\n",
       "      <td>9.000000</td>\n",
       "      <td>9.000000</td>\n",
       "      <td>9.000000</td>\n",
       "      <td>9.000000</td>\n",
       "      <td>9.000000</td>\n",
       "    </tr>\n",
       "    <tr>\n",
       "      <th>max</th>\n",
       "      <td>8.546000e+08</td>\n",
       "      <td>16000.000000</td>\n",
       "      <td>9.000000</td>\n",
       "      <td>1.000000</td>\n",
       "      <td>9.000000</td>\n",
       "      <td>9.000000</td>\n",
       "      <td>9.000000</td>\n",
       "      <td>9.000000</td>\n",
       "      <td>9.000000</td>\n",
       "      <td>9.000000</td>\n",
       "      <td>...</td>\n",
       "      <td>9.000000</td>\n",
       "      <td>9.000000</td>\n",
       "      <td>9.000000</td>\n",
       "      <td>9.000000</td>\n",
       "      <td>9.000000</td>\n",
       "      <td>9.000000</td>\n",
       "      <td>9.000000</td>\n",
       "      <td>9.000000</td>\n",
       "      <td>9.000000</td>\n",
       "      <td>9.000000</td>\n",
       "    </tr>\n",
       "  </tbody>\n",
       "</table>\n",
       "<p>8 rows × 39 columns</p>\n",
       "</div>"
      ],
      "text/plain": [
       "              Price          Area  No. of Bedrooms        Resale  \\\n",
       "count  3.296300e+04  32963.000000     32963.000000  32963.000000   \n",
       "mean   1.168672e+07   1293.362194         2.411765      0.381397   \n",
       "std    2.307368e+07    763.703754         0.812800      0.485737   \n",
       "min    2.000000e+06    200.000000         1.000000      0.000000   \n",
       "25%    4.071500e+06    853.000000         2.000000      0.000000   \n",
       "50%    6.711000e+06   1125.000000         2.000000      0.000000   \n",
       "75%    1.200000e+07   1500.000000         3.000000      1.000000   \n",
       "max    8.546000e+08  16000.000000         9.000000      1.000000   \n",
       "\n",
       "       MaintenanceStaff     Gymnasium  SwimmingPool  LandscapedGardens  \\\n",
       "count      32963.000000  32963.000000  32963.000000       32963.000000   \n",
       "mean           6.296454      6.403725      6.371325           6.351151   \n",
       "std            4.075024      3.917995      3.966385           3.996086   \n",
       "min            0.000000      0.000000      0.000000           0.000000   \n",
       "25%            0.000000      1.000000      1.000000           1.000000   \n",
       "50%            9.000000      9.000000      9.000000           9.000000   \n",
       "75%            9.000000      9.000000      9.000000           9.000000   \n",
       "max            9.000000      9.000000      9.000000           9.000000   \n",
       "\n",
       "       JoggingTrack  RainWaterHarvesting  ...  LiftAvailable           BED  \\\n",
       "count  32963.000000         32963.000000  ...   32963.000000  32963.000000   \n",
       "mean       6.346328             6.356855  ...       6.463671      6.272154   \n",
       "std        4.003140             3.987722  ...       3.826128      4.109373   \n",
       "min        0.000000             0.000000  ...       0.000000      0.000000   \n",
       "25%        1.000000             1.000000  ...       1.000000      0.000000   \n",
       "50%        9.000000             9.000000  ...       9.000000      9.000000   \n",
       "75%        9.000000             9.000000  ...       9.000000      9.000000   \n",
       "max        9.000000             9.000000  ...       9.000000      9.000000   \n",
       "\n",
       "       VaastuCompliant     Microwave    GolfCourse            TV  \\\n",
       "count     32963.000000  32963.000000  32963.000000  32963.000000   \n",
       "mean          6.335497      6.259169      6.250887      6.261293   \n",
       "std           4.018912      4.127551      4.139083      4.124586   \n",
       "min           0.000000      0.000000      0.000000      0.000000   \n",
       "25%           1.000000      0.000000      0.000000      0.000000   \n",
       "50%           9.000000      9.000000      9.000000      9.000000   \n",
       "75%           9.000000      9.000000      9.000000      9.000000   \n",
       "max           9.000000      9.000000      9.000000      9.000000   \n",
       "\n",
       "        DiningTable          Sofa      Wardrobe  Refrigerator  \n",
       "count  32963.000000  32963.000000  32963.000000  32963.000000  \n",
       "mean       6.260413      6.259867      6.250675      6.260019  \n",
       "std        4.125815      4.126577      4.139378      4.126365  \n",
       "min        0.000000      0.000000      0.000000      0.000000  \n",
       "25%        0.000000      0.000000      0.000000      0.000000  \n",
       "50%        9.000000      9.000000      9.000000      9.000000  \n",
       "75%        9.000000      9.000000      9.000000      9.000000  \n",
       "max        9.000000      9.000000      9.000000      9.000000  \n",
       "\n",
       "[8 rows x 39 columns]"
      ]
     },
     "execution_count": 36,
     "metadata": {},
     "output_type": "execute_result"
    }
   ],
   "source": [
    "data.describe()"
   ]
  },
  {
   "cell_type": "code",
   "execution_count": 37,
   "metadata": {},
   "outputs": [
    {
     "data": {
      "text/plain": [
       "array([[  2500000,       435],\n",
       "       [  2750000,       630],\n",
       "       [  3300000,       385],\n",
       "       [  3600000,      1050],\n",
       "       [  3621000,       900],\n",
       "       [  5000000,      1000],\n",
       "       [  5500000,      1000],\n",
       "       [  5800000,       900],\n",
       "       [  6000000,      1000],\n",
       "       [  6500000,      1000],\n",
       "       [  9200000,      1200],\n",
       "       [ 10400000,      1125],\n",
       "       [ 10500000,      1200],\n",
       "       [ 11000000,      1000],\n",
       "       [ 12500000,       600],\n",
       "       [ 12500000,      1000],\n",
       "       [ 12500000,      1300],\n",
       "       [ 12500000,      1550],\n",
       "       [ 13500000,      1350],\n",
       "       [ 13500000,      1800],\n",
       "       [ 14800000,      1800],\n",
       "       [ 15000000,      1350],\n",
       "       [ 15400000,      1500],\n",
       "       [ 15800000,      1800],\n",
       "       [ 16200000,      1600],\n",
       "       [ 16500000,      1600],\n",
       "       [ 17500000,      1300],\n",
       "       [ 23500000,      2000],\n",
       "       [110000000,      2500]], dtype=int64)"
      ]
     },
     "execution_count": 37,
     "metadata": {},
     "output_type": "execute_result"
    }
   ],
   "source": [
    "np.unique(data[['Price','Area']].head(50), axis=0)"
   ]
  },
  {
   "cell_type": "code",
   "execution_count": 38,
   "metadata": {},
   "outputs": [],
   "source": [
    "data=data.rename(columns={\"No. of Bedrooms\": \"Number_Bedrooms\", })"
   ]
  },
  {
   "cell_type": "code",
   "execution_count": 39,
   "metadata": {},
   "outputs": [
    {
     "data": {
      "text/plain": [
       "3"
      ]
     },
     "execution_count": 39,
     "metadata": {},
     "output_type": "execute_result"
    }
   ],
   "source": [
    "len(data.MaintenanceStaff.unique())"
   ]
  },
  {
   "cell_type": "code",
   "execution_count": 40,
   "metadata": {},
   "outputs": [
    {
     "data": {
      "text/plain": [
       "array([2, 3, 4, 1, 5, 6, 8, 7, 9], dtype=int64)"
      ]
     },
     "execution_count": 40,
     "metadata": {},
     "output_type": "execute_result"
    }
   ],
   "source": [
    "data.Number_Bedrooms.unique()"
   ]
  },
  {
   "cell_type": "code",
   "execution_count": 41,
   "metadata": {},
   "outputs": [
    {
     "data": {
      "text/plain": [
       "1776"
      ]
     },
     "execution_count": 41,
     "metadata": {},
     "output_type": "execute_result"
    }
   ],
   "source": [
    "len(data.Location.unique()) \n"
   ]
  },
  {
   "cell_type": "code",
   "execution_count": 42,
   "metadata": {},
   "outputs": [
    {
     "data": {
      "text/plain": [
       "Index(['Price', 'Area', 'Location', 'Number_Bedrooms', 'Resale',\n",
       "       'MaintenanceStaff', 'Gymnasium', 'SwimmingPool', 'LandscapedGardens',\n",
       "       'JoggingTrack', 'RainWaterHarvesting', 'IndoorGames', 'ShoppingMall',\n",
       "       'Intercom', 'SportsFacility', 'ATM', 'ClubHouse', 'School',\n",
       "       '24X7Security', 'PowerBackup', 'CarParking', 'StaffQuarter',\n",
       "       'Cafeteria', 'MultipurposeRoom', 'Hospital', 'WashingMachine',\n",
       "       'Gasconnection', 'AC', 'Wifi', 'Children'splayarea', 'LiftAvailable',\n",
       "       'BED', 'VaastuCompliant', 'Microwave', 'GolfCourse', 'TV',\n",
       "       'DiningTable', 'Sofa', 'Wardrobe', 'Refrigerator', 'State'],\n",
       "      dtype='object')"
      ]
     },
     "execution_count": 42,
     "metadata": {},
     "output_type": "execute_result"
    }
   ],
   "source": [
    "data.columns"
   ]
  },
  {
   "cell_type": "code",
   "execution_count": 43,
   "metadata": {},
   "outputs": [],
   "source": [
    "sns.set(rc={'figure.figsize':(10,8)})\n",
    "sns.set_style('white')"
   ]
  },
  {
   "cell_type": "markdown",
   "metadata": {},
   "source": [
    "# Deriving insights"
   ]
  },
  {
   "cell_type": "markdown",
   "metadata": {},
   "source": [
    "## What was the maximum price ??"
   ]
  },
  {
   "cell_type": "code",
   "execution_count": 44,
   "metadata": {},
   "outputs": [
    {
     "name": "stdout",
     "output_type": "stream",
     "text": [
      "854599999\n"
     ]
    }
   ],
   "source": [
    "max_price=data['Price'].max()\n",
    "print(max_price)"
   ]
  },
  {
   "cell_type": "markdown",
   "metadata": {},
   "source": [
    "## What was the minimum price ??"
   ]
  },
  {
   "cell_type": "code",
   "execution_count": 45,
   "metadata": {},
   "outputs": [
    {
     "name": "stdout",
     "output_type": "stream",
     "text": [
      "2000000\n"
     ]
    }
   ],
   "source": [
    "min_price=data['Price'].min()\n",
    "print(min_price)"
   ]
  },
  {
   "cell_type": "markdown",
   "metadata": {},
   "source": [
    "## What was the average price ??"
   ]
  },
  {
   "cell_type": "code",
   "execution_count": 46,
   "metadata": {},
   "outputs": [
    {
     "name": "stdout",
     "output_type": "stream",
     "text": [
      "11686718.07605497\n"
     ]
    }
   ],
   "source": [
    "avg=data[\"Price\"].mean()\n",
    "print(avg)"
   ]
  },
  {
   "cell_type": "markdown",
   "metadata": {},
   "source": [
    "## What is the location of maximum price? "
   ]
  },
  {
   "cell_type": "code",
   "execution_count": 47,
   "metadata": {},
   "outputs": [
    {
     "data": {
      "text/plain": [
       "'Vasant Kunj'"
      ]
     },
     "execution_count": 47,
     "metadata": {},
     "output_type": "execute_result"
    }
   ],
   "source": [
    "data.iloc[data['Price'].idxmax()]['Location']"
   ]
  },
  {
   "cell_type": "markdown",
   "metadata": {},
   "source": [
    "## What is the location of minimum price? "
   ]
  },
  {
   "cell_type": "code",
   "execution_count": 48,
   "metadata": {},
   "outputs": [
    {
     "data": {
      "text/plain": [
       "'Dwarka Mor'"
      ]
     },
     "execution_count": 48,
     "metadata": {},
     "output_type": "execute_result"
    }
   ],
   "source": [
    "data.iloc[data['Price'].idxmin()]['Location']"
   ]
  },
  {
   "cell_type": "markdown",
   "metadata": {},
   "source": [
    "## What is the area size of maximum price?"
   ]
  },
  {
   "cell_type": "code",
   "execution_count": 49,
   "metadata": {},
   "outputs": [
    {
     "data": {
      "text/plain": [
       "6852"
      ]
     },
     "execution_count": 49,
     "metadata": {},
     "output_type": "execute_result"
    }
   ],
   "source": [
    "data.iloc[data['Price'].idxmax()]['Area']"
   ]
  },
  {
   "cell_type": "markdown",
   "metadata": {},
   "source": [
    "## What is the area size of minimum price?"
   ]
  },
  {
   "cell_type": "code",
   "execution_count": 50,
   "metadata": {},
   "outputs": [
    {
     "data": {
      "text/plain": [
       "450"
      ]
     },
     "execution_count": 50,
     "metadata": {},
     "output_type": "execute_result"
    }
   ],
   "source": [
    "data.iloc[data['Price'].idxmin()]['Area']"
   ]
  },
  {
   "cell_type": "markdown",
   "metadata": {},
   "source": [
    "## Relationship between price and area"
   ]
  },
  {
   "cell_type": "code",
   "execution_count": 51,
   "metadata": {},
   "outputs": [
    {
     "data": {
      "image/png": "[encoded data removed]",
      "text/plain": [
       "<Figure size 432x432 with 3 Axes>"
      ]
     },
     "metadata": {},
     "output_type": "display_data"
    }
   ],
   "source": [
    "sns.jointplot(x=\"Area\", y=\"Price\", data=data)\n",
    "plt.title('Area vs Price in ')\n",
    "plt.show()"
   ]
  },
  {
   "cell_type": "code",
   "execution_count": null,
   "metadata": {},
   "outputs": [],
   "source": []
  },
  {
   "cell_type": "markdown",
   "metadata": {},
   "source": [
    "## What are the number of bedrooms of maximum price?"
   ]
  },
  {
   "cell_type": "code",
   "execution_count": 52,
   "metadata": {},
   "outputs": [
    {
     "data": {
      "text/plain": [
       "4"
      ]
     },
     "execution_count": 52,
     "metadata": {},
     "output_type": "execute_result"
    }
   ],
   "source": [
    "data.iloc[data['Price'].idxmax()]['Number_Bedrooms']"
   ]
  },
  {
   "cell_type": "markdown",
   "metadata": {},
   "source": [
    "## What are the number of bedrooms of minimum price??"
   ]
  },
  {
   "cell_type": "code",
   "execution_count": 53,
   "metadata": {},
   "outputs": [
    {
     "data": {
      "text/plain": [
       "2"
      ]
     },
     "execution_count": 53,
     "metadata": {},
     "output_type": "execute_result"
    }
   ],
   "source": [
    "data.iloc[data['Price'].idxmin()]['Number_Bedrooms']"
   ]
  },
  {
   "cell_type": "code",
   "execution_count": 106,
   "metadata": {},
   "outputs": [
    {
     "data": {
      "text/plain": [
       "[Text(0, 0, '1'),\n",
       " Text(0, 0, '2'),\n",
       " Text(0, 0, '3'),\n",
       " Text(0, 0, '4'),\n",
       " Text(0, 0, '5'),\n",
       " Text(0, 0, '6'),\n",
       " Text(0, 0, '7'),\n",
       " Text(0, 0, '8'),\n",
       " Text(0, 0, '9')]"
      ]
     },
     "execution_count": 106,
     "metadata": {},
     "output_type": "execute_result"
    },
    {
     "data": {
      "image/png": "[encoded data removed]",
      "text/plain": [
       "<Figure size 720x576 with 1 Axes>"
      ]
     },
     "metadata": {},
     "output_type": "display_data"
    }
   ],
   "source": [
    "viz_1=sns.barplot(x=\"Number_Bedrooms\", y=\"Price\", data=data,\n",
    "                 palette='dark')\n",
    "viz_1.set_title('Number of bedrooms according to price')\n",
    "viz_1.set_ylabel('Price')\n",
    "viz_1.set_xlabel('Number_Bedrooms')\n",
    "viz_1.set_xticklabels(viz_1.get_xticklabels(), rotation=45)"
   ]
  },
  {
   "cell_type": "markdown",
   "metadata": {},
   "source": [
    "## Did the property with maximum price resale??"
   ]
  },
  {
   "cell_type": "code",
   "execution_count": 55,
   "metadata": {},
   "outputs": [
    {
     "data": {
      "text/plain": [
       "0"
      ]
     },
     "execution_count": 55,
     "metadata": {},
     "output_type": "execute_result"
    }
   ],
   "source": [
    "data.iloc[data['Price'].idxmax()]['Resale']"
   ]
  },
  {
   "cell_type": "markdown",
   "metadata": {},
   "source": [
    "## Did the property with minimum price resale??"
   ]
  },
  {
   "cell_type": "code",
   "execution_count": 56,
   "metadata": {},
   "outputs": [
    {
     "data": {
      "text/plain": [
       "0"
      ]
     },
     "execution_count": 56,
     "metadata": {},
     "output_type": "execute_result"
    }
   ],
   "source": [
    "data.iloc[data['Price'].idxmin()]['Resale']"
   ]
  },
  {
   "cell_type": "markdown",
   "metadata": {},
   "source": [
    "## Total number of resales"
   ]
  },
  {
   "cell_type": "code",
   "execution_count": 57,
   "metadata": {},
   "outputs": [
    {
     "data": {
      "text/plain": [
       "12572"
      ]
     },
     "execution_count": 57,
     "metadata": {},
     "output_type": "execute_result"
    }
   ],
   "source": [
    "(data.Resale==1).sum()"
   ]
  },
  {
   "cell_type": "markdown",
   "metadata": {},
   "source": [
    "## Which state has highest price?"
   ]
  },
  {
   "cell_type": "code",
   "execution_count": 58,
   "metadata": {},
   "outputs": [
    {
     "data": {
      "text/plain": [
       "'Delhi'"
      ]
     },
     "execution_count": 58,
     "metadata": {},
     "output_type": "execute_result"
    }
   ],
   "source": [
    "data.iloc[data['Price'].idxmax()]['State']"
   ]
  },
  {
   "cell_type": "markdown",
   "metadata": {},
   "source": [
    "## Which state has lowest price?"
   ]
  },
  {
   "cell_type": "code",
   "execution_count": 59,
   "metadata": {},
   "outputs": [
    {
     "data": {
      "text/plain": [
       "'Delhi'"
      ]
     },
     "execution_count": 59,
     "metadata": {},
     "output_type": "execute_result"
    }
   ],
   "source": [
    "data.iloc[data['Price'].idxmin()]['State']"
   ]
  },
  {
   "cell_type": "markdown",
   "metadata": {},
   "source": [
    "## Relationship between State and Price"
   ]
  },
  {
   "cell_type": "code",
   "execution_count": 107,
   "metadata": {},
   "outputs": [
    {
     "data": {
      "text/plain": [
       "[Text(0, 0, 'Delhi'),\n",
       " Text(0, 0, 'Bangalore'),\n",
       " Text(0, 0, 'Chennai'),\n",
       " Text(0, 0, 'Hyderabad')]"
      ]
     },
     "execution_count": 107,
     "metadata": {},
     "output_type": "execute_result"
    },
    {
     "data": {
      "image/png": "[encoded data removed]",
      "text/plain": [
       "<Figure size 720x576 with 1 Axes>"
      ]
     },
     "metadata": {},
     "output_type": "display_data"
    }
   ],
   "source": [
    "viz_1=sns.barplot(x=\"State\", y=\"Price\", data=data,\n",
    "                 palette='rainbow')\n",
    "viz_1.set_title('State according to price')\n",
    "viz_1.set_ylabel('Price')\n",
    "viz_1.set_xlabel('ClubHouse')\n",
    "viz_1.set_xticklabels(viz_1.get_xticklabels(), rotation=45)"
   ]
  },
  {
   "cell_type": "markdown",
   "metadata": {},
   "source": [
    "## Which state has largest area?"
   ]
  },
  {
   "cell_type": "code",
   "execution_count": 61,
   "metadata": {},
   "outputs": [
    {
     "data": {
      "text/plain": [
       "'Delhi'"
      ]
     },
     "execution_count": 61,
     "metadata": {},
     "output_type": "execute_result"
    }
   ],
   "source": [
    "data.iloc[data['Area'].idxmax()]['State']"
   ]
  },
  {
   "cell_type": "markdown",
   "metadata": {},
   "source": [
    "## Which state has smallest area?"
   ]
  },
  {
   "cell_type": "code",
   "execution_count": 62,
   "metadata": {},
   "outputs": [
    {
     "data": {
      "text/plain": [
       "'Delhi'"
      ]
     },
     "execution_count": 62,
     "metadata": {},
     "output_type": "execute_result"
    }
   ],
   "source": [
    "data.iloc[data['Area'].idxmin()]['State']"
   ]
  },
  {
   "cell_type": "markdown",
   "metadata": {},
   "source": [
    "## Relationship between States and Areas"
   ]
  },
  {
   "cell_type": "code",
   "execution_count": 63,
   "metadata": {},
   "outputs": [
    {
     "data": {
      "image/png": "[encoded data removed]",
      "text/plain": [
       "<Figure size 720x576 with 1 Axes>"
      ]
     },
     "metadata": {},
     "output_type": "display_data"
    }
   ],
   "source": [
    "d = data.Area\n",
    "sns.barplot(y = data.State, x = d, orient='h', palette=\"Blues\")\n",
    "plt.show()"
   ]
  },
  {
   "cell_type": "markdown",
   "metadata": {},
   "source": []
  },
  {
   "cell_type": "code",
   "execution_count": null,
   "metadata": {},
   "outputs": [],
   "source": []
  },
  {
   "cell_type": "code",
   "execution_count": null,
   "metadata": {},
   "outputs": [],
   "source": []
  },
  {
   "cell_type": "code",
   "execution_count": null,
   "metadata": {},
   "outputs": [],
   "source": []
  },
  {
   "cell_type": "code",
   "execution_count": null,
   "metadata": {},
   "outputs": [],
   "source": []
  },
  {
   "cell_type": "markdown",
   "metadata": {},
   "source": [
    "## Lowest Area in Banglore"
   ]
  },
  {
   "cell_type": "code",
   "execution_count": 64,
   "metadata": {},
   "outputs": [
    {
     "data": {
      "text/plain": [
       "990"
      ]
     },
     "execution_count": 64,
     "metadata": {},
     "output_type": "execute_result"
    }
   ],
   "source": [
    "data.iloc[data[data['State'] == \"Bangalore\"].Area.idxmax()]['Area']"
   ]
  },
  {
   "cell_type": "code",
   "execution_count": null,
   "metadata": {},
   "outputs": [],
   "source": []
  },
  {
   "cell_type": "code",
   "execution_count": 65,
   "metadata": {
    "scrolled": true
   },
   "outputs": [
    {
     "data": {
      "text/plain": [
       "<seaborn.axisgrid.FacetGrid at 0x21e54483c48>"
      ]
     },
     "execution_count": 65,
     "metadata": {},
     "output_type": "execute_result"
    },
    {
     "data": {
      "image/png": "[encoded data removed]",
      "text/plain": [
       "<Figure size 406.3x360 with 1 Axes>"
      ]
     },
     "metadata": {},
     "output_type": "display_data"
    }
   ],
   "source": [
    "\n",
    "sns.catplot(x=\"State\", y=\"Area\", hue=\"Resale\",split=True, kind=\"violin\",data=data)"
   ]
  },
  {
   "cell_type": "markdown",
   "metadata": {},
   "source": [
    "## Locations"
   ]
  },
  {
   "cell_type": "code",
   "execution_count": 66,
   "metadata": {},
   "outputs": [
    {
     "data": {
      "text/plain": [
       "<matplotlib.axes._subplots.AxesSubplot at 0x21e544fdc88>"
      ]
     },
     "execution_count": 66,
     "metadata": {},
     "output_type": "execute_result"
    },
    {
     "data": {
      "image/png": "[encoded data removed]",
      "text/plain": [
       "<Figure size 864x720 with 1 Axes>"
      ]
     },
     "metadata": {},
     "output_type": "display_data"
    }
   ],
   "source": [
    "#data.reset_index(inplace=True)\n",
    "plt.figure(figsize=(12,10))\n",
    "plt.title('Total')\n",
    "sns.countplot(x='Location',data=data,order= data.Location.value_counts().index[:15],palette = \"rocket\")"
   ]
  },
  {
   "cell_type": "code",
   "execution_count": 67,
   "metadata": {},
   "outputs": [
    {
     "data": {
      "text/plain": [
       "<matplotlib.axes._subplots.AxesSubplot at 0x21e54499048>"
      ]
     },
     "execution_count": 67,
     "metadata": {},
     "output_type": "execute_result"
    },
    {
     "data": {
      "image/png": "[encoded data removed]",
      "text/plain": [
       "<Figure size 864x576 with 1 Axes>"
      ]
     },
     "metadata": {},
     "output_type": "display_data"
    }
   ],
   "source": [
    "fig,ax=plt.subplots(figsize=(12,8))\n",
    "sns.countplot(data[\"State\"], ax=ax)\n"
   ]
  },
  {
   "cell_type": "code",
   "execution_count": null,
   "metadata": {},
   "outputs": [],
   "source": []
  },
  {
   "cell_type": "markdown",
   "metadata": {},
   "source": [
    "## Availability of clubhouses according to price"
   ]
  },
  {
   "cell_type": "code",
   "execution_count": 68,
   "metadata": {},
   "outputs": [
    {
     "data": {
      "image/png": "[encoded data removed]",
      "text/plain": [
       "<Figure size 360x360 with 1 Axes>"
      ]
     },
     "metadata": {},
     "output_type": "display_data"
    }
   ],
   "source": [
    "viz_1=sns.catplot(x=\"ClubHouse\", y=\"Price\", data=data,\n",
    "                 palette='pink')\n"
   ]
  },
  {
   "cell_type": "markdown",
   "metadata": {},
   "source": [
    "## Number of bedrooms according to price"
   ]
  },
  {
   "cell_type": "code",
   "execution_count": 69,
   "metadata": {},
   "outputs": [
    {
     "data": {
      "text/plain": [
       "[Text(0, 0, '1'),\n",
       " Text(0, 0, '2'),\n",
       " Text(0, 0, '3'),\n",
       " Text(0, 0, '4'),\n",
       " Text(0, 0, '5'),\n",
       " Text(0, 0, '6'),\n",
       " Text(0, 0, '7'),\n",
       " Text(0, 0, '8'),\n",
       " Text(0, 0, '9')]"
      ]
     },
     "execution_count": 69,
     "metadata": {},
     "output_type": "execute_result"
    },
    {
     "data": {
      "image/png": "[encoded data removed]",
      "text/plain": [
       "<Figure size 720x576 with 1 Axes>"
      ]
     },
     "metadata": {},
     "output_type": "display_data"
    }
   ],
   "source": [
    "viz_1=sns.barplot(x=\"Number_Bedrooms\", y=\"Price\", data=data,\n",
    "                 )\n",
    "viz_1.set_title('Number of bedrooms according to price')\n",
    "viz_1.set_ylabel('Price')\n",
    "viz_1.set_xlabel('BHK')\n",
    "viz_1.set_xticklabels(viz_1.get_xticklabels(), rotation=45)"
   ]
  },
  {
   "cell_type": "markdown",
   "metadata": {},
   "source": [
    "## Gymnasium availability according to Price"
   ]
  },
  {
   "cell_type": "code",
   "execution_count": 70,
   "metadata": {},
   "outputs": [
    {
     "data": {
      "text/plain": [
       "[Text(0, 0, '0'), Text(0, 0, '1'), Text(0, 0, '9')]"
      ]
     },
     "execution_count": 70,
     "metadata": {},
     "output_type": "execute_result"
    },
    {
     "data": {
      "image/png": "[encoded data removed]",
      "text/plain": [
       "<Figure size 720x576 with 1 Axes>"
      ]
     },
     "metadata": {},
     "output_type": "display_data"
    }
   ],
   "source": [
    "viz_1=sns.barplot(x=\"Gymnasium\", y=\"Price\", data=data,\n",
    "                 )\n",
    "viz_1.set_title('Gymnasium according to price')\n",
    "viz_1.set_ylabel('Price')\n",
    "viz_1.set_xlabel('BHK')\n",
    "viz_1.set_xticklabels(viz_1.get_xticklabels(), rotation=45)"
   ]
  },
  {
   "cell_type": "markdown",
   "metadata": {},
   "source": [
    "## What is the percentage of resales??"
   ]
  },
  {
   "cell_type": "code",
   "execution_count": 71,
   "metadata": {},
   "outputs": [
    {
     "data": {
      "image/png": "[encoded data removed]",
      "text/plain": [
       "<Figure size 720x576 with 1 Axes>"
      ]
     },
     "metadata": {},
     "output_type": "display_data"
    }
   ],
   "source": [
    "resale = data.Resale.count()\n",
    "nosale = (data.Resale==0).sum()\n",
    "labels = [\"Resale\", \"No Resale\"]\n",
    "total = float(resale + nosale)\n",
    "sizes = [(resale/total)*100, (nosale/total)*100]\n",
    "colors = ['purple', 'pink']\n",
    "plt.pie(sizes, labels=labels, colors=colors,\n",
    "        autopct='%1.1f%%', shadow=True, startangle=90)\n",
    "plt.title(\"Percentage of resale\")\n",
    "plt.show()"
   ]
  },
  {
   "cell_type": "markdown",
   "metadata": {},
   "source": [
    "## Density distribution of Schools"
   ]
  },
  {
   "cell_type": "code",
   "execution_count": 72,
   "metadata": {},
   "outputs": [
    {
     "data": {
      "text/plain": [
       "Text(0.5, 1.0, 'Density and distribution of resale')"
      ]
     },
     "execution_count": 72,
     "metadata": {},
     "output_type": "execute_result"
    },
    {
     "data": {
      "image/png": "[encoded data removed]",
      "text/plain": [
       "<Figure size 720x576 with 1 Axes>"
      ]
     },
     "metadata": {},
     "output_type": "display_data"
    }
   ],
   "source": [
    "viz_2=sns.violinplot(data=data, x='School', y='Area')\n",
    "viz_2.set_title('Density and distribution of resale')"
   ]
  },
  {
   "cell_type": "markdown",
   "metadata": {},
   "source": [
    "## Density distribution of Hospitals"
   ]
  },
  {
   "cell_type": "code",
   "execution_count": 73,
   "metadata": {},
   "outputs": [
    {
     "data": {
      "text/plain": [
       "Text(0.5, 1.0, 'Density and distribution of resale')"
      ]
     },
     "execution_count": 73,
     "metadata": {},
     "output_type": "execute_result"
    },
    {
     "data": {
      "image/png": "[encoded data removed]",
      "text/plain": [
       "<Figure size 720x576 with 1 Axes>"
      ]
     },
     "metadata": {},
     "output_type": "display_data"
    }
   ],
   "source": [
    "viz_3=sns.violinplot(data=data, x='Hospital', y='Area')\n",
    "viz_3.set_title('Density and distribution of resale')"
   ]
  },
  {
   "cell_type": "markdown",
   "metadata": {},
   "source": [
    "## Resale count according to number of bedrooms"
   ]
  },
  {
   "cell_type": "code",
   "execution_count": 74,
   "metadata": {},
   "outputs": [
    {
     "data": {
      "image/png": "[encoded data removed]",
      "text/plain": [
       "<Figure size 864x432 with 1 Axes>"
      ]
     },
     "metadata": {},
     "output_type": "display_data"
    }
   ],
   "source": [
    "plt.figure(figsize=(12,6))\n",
    "sns.countplot(x='Number_Bedrooms', hue='Resale', data=data, palette=\"Blues\")\n",
    "plt.xticks(rotation='horizontal')\n",
    "plt.show()"
   ]
  },
  {
   "cell_type": "markdown",
   "metadata": {},
   "source": [
    "## Security conditions affecting resale value"
   ]
  },
  {
   "cell_type": "code",
   "execution_count": 75,
   "metadata": {},
   "outputs": [
    {
     "data": {
      "text/plain": [
       "[Text(0, 0, '0'), Text(0, 0, '1'), Text(0, 0, '9')]"
      ]
     },
     "execution_count": 75,
     "metadata": {},
     "output_type": "execute_result"
    },
    {
     "data": {
      "image/png": "[encoded data removed]",
      "text/plain": [
       "<Figure size 720x576 with 1 Axes>"
      ]
     },
     "metadata": {},
     "output_type": "display_data"
    }
   ],
   "source": [
    "viz_1=sns.barplot(x=\"24X7Security\", y=\"Resale\", data=data,\n",
    "                 palette='pastel')\n",
    "viz_1.set_title('Resale according security')\n",
    "viz_1.set_ylabel('Resale')\n",
    "viz_1.set_xlabel('24X7Security')\n",
    "viz_1.set_xticklabels(viz_1.get_xticklabels(), rotation=45)"
   ]
  },
  {
   "cell_type": "markdown",
   "metadata": {},
   "source": [
    "## What was the largest area ??\n"
   ]
  },
  {
   "cell_type": "code",
   "execution_count": 76,
   "metadata": {},
   "outputs": [
    {
     "data": {
      "text/plain": [
       "16000"
      ]
     },
     "execution_count": 76,
     "metadata": {},
     "output_type": "execute_result"
    }
   ],
   "source": [
    "data['Area'].max()\n"
   ]
  },
  {
   "cell_type": "markdown",
   "metadata": {},
   "source": [
    "## What was the smaller area ??"
   ]
  },
  {
   "cell_type": "code",
   "execution_count": 77,
   "metadata": {},
   "outputs": [
    {
     "data": {
      "text/plain": [
       "200"
      ]
     },
     "execution_count": 77,
     "metadata": {},
     "output_type": "execute_result"
    }
   ],
   "source": [
    "data['Area'].min()"
   ]
  },
  {
   "cell_type": "markdown",
   "metadata": {},
   "source": [
    "## What will be the average area ??"
   ]
  },
  {
   "cell_type": "code",
   "execution_count": 78,
   "metadata": {},
   "outputs": [
    {
     "data": {
      "text/plain": [
       "1293.3621939750628"
      ]
     },
     "execution_count": 78,
     "metadata": {},
     "output_type": "execute_result"
    }
   ],
   "source": [
    "data['Area'].mean()"
   ]
  },
  {
   "cell_type": "markdown",
   "metadata": {},
   "source": [
    "## What is the location of largest area? "
   ]
  },
  {
   "cell_type": "code",
   "execution_count": 79,
   "metadata": {},
   "outputs": [
    {
     "data": {
      "text/plain": [
       "'Sainik Farms'"
      ]
     },
     "execution_count": 79,
     "metadata": {},
     "output_type": "execute_result"
    }
   ],
   "source": [
    "data.iloc[data['Area'].idxmax()]['Location']"
   ]
  },
  {
   "cell_type": "markdown",
   "metadata": {},
   "source": [
    "## What is the location of smallest area? "
   ]
  },
  {
   "cell_type": "code",
   "execution_count": 80,
   "metadata": {},
   "outputs": [
    {
     "data": {
      "text/plain": [
       "'Sarvodaya Enclave'"
      ]
     },
     "execution_count": 80,
     "metadata": {},
     "output_type": "execute_result"
    }
   ],
   "source": [
    "data.iloc[data['Area'].idxmin()]['Location']"
   ]
  },
  {
   "cell_type": "markdown",
   "metadata": {},
   "source": [
    "## What is the price of largest area?"
   ]
  },
  {
   "cell_type": "code",
   "execution_count": 81,
   "metadata": {},
   "outputs": [
    {
     "data": {
      "text/plain": [
       "6852"
      ]
     },
     "execution_count": 81,
     "metadata": {},
     "output_type": "execute_result"
    }
   ],
   "source": [
    "data.iloc[data['Price'].idxmax()]['Area']"
   ]
  },
  {
   "cell_type": "markdown",
   "metadata": {},
   "source": [
    "## What is the price of smallest area?"
   ]
  },
  {
   "cell_type": "code",
   "execution_count": 82,
   "metadata": {},
   "outputs": [
    {
     "data": {
      "text/plain": [
       "450"
      ]
     },
     "execution_count": 82,
     "metadata": {},
     "output_type": "execute_result"
    }
   ],
   "source": [
    "data.iloc[data['Price'].idxmin()]['Area']"
   ]
  },
  {
   "cell_type": "markdown",
   "metadata": {},
   "source": [
    "## Did the property with largest area resale??"
   ]
  },
  {
   "cell_type": "code",
   "execution_count": 83,
   "metadata": {},
   "outputs": [
    {
     "data": {
      "text/plain": [
       "0"
      ]
     },
     "execution_count": 83,
     "metadata": {},
     "output_type": "execute_result"
    }
   ],
   "source": [
    "data.iloc[data['Area'].idxmax()]['Resale']"
   ]
  },
  {
   "cell_type": "markdown",
   "metadata": {},
   "source": [
    "## Did the property with smallest area resale??"
   ]
  },
  {
   "cell_type": "code",
   "execution_count": 84,
   "metadata": {},
   "outputs": [
    {
     "data": {
      "text/plain": [
       "1"
      ]
     },
     "execution_count": 84,
     "metadata": {},
     "output_type": "execute_result"
    }
   ],
   "source": [
    "data.iloc[data['Area'].idxmin()]['Resale']"
   ]
  },
  {
   "cell_type": "markdown",
   "metadata": {},
   "source": [
    "## Number of Bedrooms according to area "
   ]
  },
  {
   "cell_type": "code",
   "execution_count": 85,
   "metadata": {},
   "outputs": [
    {
     "data": {
      "text/plain": [
       "[Text(0, 0, '1'),\n",
       " Text(0, 0, '2'),\n",
       " Text(0, 0, '3'),\n",
       " Text(0, 0, '4'),\n",
       " Text(0, 0, '5'),\n",
       " Text(0, 0, '6'),\n",
       " Text(0, 0, '7'),\n",
       " Text(0, 0, '8'),\n",
       " Text(0, 0, '9')]"
      ]
     },
     "execution_count": 85,
     "metadata": {},
     "output_type": "execute_result"
    },
    {
     "data": {
      "image/png": "[encoded data removed]",
      "text/plain": [
       "<Figure size 720x576 with 1 Axes>"
      ]
     },
     "metadata": {},
     "output_type": "display_data"
    }
   ],
   "source": [
    "viz_1=sns.barplot(x=\"Number_Bedrooms\", y=\"Area\", data=data,\n",
    "                 palette='rocket')\n",
    "viz_1.set_title('Number of Bedrooms according to the area size')\n",
    "viz_1.set_ylabel('Area')\n",
    "viz_1.set_xlabel('Number of bedrooms')\n",
    "viz_1.set_xticklabels(viz_1.get_xticklabels(), rotation=45)\n",
    "\n"
   ]
  },
  {
   "cell_type": "markdown",
   "metadata": {},
   "source": [
    "## LandscapedGardens according to Area"
   ]
  },
  {
   "cell_type": "code",
   "execution_count": 86,
   "metadata": {},
   "outputs": [
    {
     "data": {
      "text/plain": [
       "[Text(0, 0, '0'), Text(0, 0, '1'), Text(0, 0, '9')]"
      ]
     },
     "execution_count": 86,
     "metadata": {},
     "output_type": "execute_result"
    },
    {
     "data": {
      "image/png": "[encoded data removed]",
      "text/plain": [
       "<Figure size 720x576 with 1 Axes>"
      ]
     },
     "metadata": {},
     "output_type": "display_data"
    }
   ],
   "source": [
    "viz_1=sns.barplot(x=\"LandscapedGardens\", y=\"Area\", data=data,\n",
    "                 palette='pastel')\n",
    "viz_1.set_title('LandscapedGardense according to area')\n",
    "viz_1.set_ylabel('Area')\n",
    "viz_1.set_xlabel('LandscapedGardens')\n",
    "viz_1.set_xticklabels(viz_1.get_xticklabels(), rotation=45)"
   ]
  },
  {
   "cell_type": "markdown",
   "metadata": {},
   "source": [
    "## Availability of Children's playarea according to Area"
   ]
  },
  {
   "cell_type": "code",
   "execution_count": 87,
   "metadata": {},
   "outputs": [
    {
     "data": {
      "text/plain": [
       "[Text(0, 0, '0'), Text(0, 0, '1'), Text(0, 0, '9')]"
      ]
     },
     "execution_count": 87,
     "metadata": {},
     "output_type": "execute_result"
    },
    {
     "data": {
      "image/png": "[encoded data removed]",
      "text/plain": [
       "<Figure size 720x576 with 1 Axes>"
      ]
     },
     "metadata": {},
     "output_type": "display_data"
    }
   ],
   "source": [
    "viz_1=sns.barplot(x=\"Children'splayarea\", y=\"Area\", data=data,\n",
    "                 palette='rocket')\n",
    "viz_1.set_title(\"Children'splayarea according to area\")\n",
    "viz_1.set_ylabel('Area')\n",
    "viz_1.set_xlabel(\"Children'splayarea\")\n",
    "viz_1.set_xticklabels(viz_1.get_xticklabels(), rotation=45)"
   ]
  },
  {
   "cell_type": "code",
   "execution_count": null,
   "metadata": {},
   "outputs": [],
   "source": []
  },
  {
   "cell_type": "code",
   "execution_count": null,
   "metadata": {},
   "outputs": [],
   "source": []
  },
  {
   "cell_type": "markdown",
   "metadata": {},
   "source": [
    "## Percentage of Golfcourses "
   ]
  },
  {
   "cell_type": "code",
   "execution_count": 88,
   "metadata": {},
   "outputs": [
    {
     "data": {
      "image/png": "[encoded data removed]",
      "text/plain": [
       "<Figure size 720x576 with 1 Axes>"
      ]
     },
     "metadata": {},
     "output_type": "display_data"
    }
   ],
   "source": [
    "park = data.GolfCourse.count()\n",
    "nopark = (data.GolfCourse==0).sum()\n",
    "labels = [\"GolfCourse\", \"No GolfCourse\"]\n",
    "total = float(park + nopark)\n",
    "sizes = [(park/total)*100, (nopark/total)*100]\n",
    "colors = ['yellow', 'red']\n",
    "plt.pie(sizes, labels=labels, colors=colors,\n",
    "        autopct='%1.1f%%', shadow=True, startangle=90)\n",
    "plt.title(\"Percentage of GolfCourses available\")\n",
    "plt.show()"
   ]
  },
  {
   "cell_type": "markdown",
   "metadata": {},
   "source": [
    "## Count of Shopping Malls"
   ]
  },
  {
   "cell_type": "code",
   "execution_count": 89,
   "metadata": {},
   "outputs": [
    {
     "data": {
      "text/plain": [
       "Text(0.5, 1.0, 'ShoppingMall')"
      ]
     },
     "execution_count": 89,
     "metadata": {},
     "output_type": "execute_result"
    },
    {
     "data": {
      "image/png": "[encoded data removed]",
      "text/plain": [
       "<Figure size 576x360 with 1 Axes>"
      ]
     },
     "metadata": {},
     "output_type": "display_data"
    }
   ],
   "source": [
    "fig,ax=plt.subplots(figsize=(8,5))\n",
    "sns.countplot(data[\"ShoppingMall\"], ax=ax)\n",
    "plt.title(\"ShoppingMall\")"
   ]
  },
  {
   "cell_type": "code",
   "execution_count": null,
   "metadata": {},
   "outputs": [],
   "source": []
  },
  {
   "cell_type": "markdown",
   "metadata": {},
   "source": [
    "## Maintenance Staff availability"
   ]
  },
  {
   "cell_type": "code",
   "execution_count": 90,
   "metadata": {},
   "outputs": [
    {
     "data": {
      "text/plain": [
       "Text(0.5, 1.0, 'MaintenanceStaff')"
      ]
     },
     "execution_count": 90,
     "metadata": {},
     "output_type": "execute_result"
    },
    {
     "data": {
      "image/png": "[encoded data removed]",
      "text/plain": [
       "<Figure size 576x360 with 1 Axes>"
      ]
     },
     "metadata": {},
     "output_type": "display_data"
    }
   ],
   "source": [
    "fig,ax=plt.subplots(figsize=(8,5))\n",
    "sns.countplot(data[\"MaintenanceStaff\"], ax=ax)\n",
    "plt.title(\"MaintenanceStaff\")"
   ]
  },
  {
   "cell_type": "markdown",
   "metadata": {},
   "source": [
    "## Count of resales affected by vaastu complain"
   ]
  },
  {
   "cell_type": "code",
   "execution_count": 91,
   "metadata": {},
   "outputs": [
    {
     "data": {
      "image/png": "[encoded data removed]",
      "text/plain": [
       "<Figure size 864x432 with 1 Axes>"
      ]
     },
     "metadata": {},
     "output_type": "display_data"
    }
   ],
   "source": [
    "plt.figure(figsize=(12,6))\n",
    "sns.countplot(x='VaastuCompliant', hue='Resale', data=data, palette=\"bright\")\n",
    "plt.xticks(rotation='horizontal')\n",
    "plt.show()"
   ]
  },
  {
   "cell_type": "code",
   "execution_count": null,
   "metadata": {},
   "outputs": [],
   "source": []
  },
  {
   "cell_type": "markdown",
   "metadata": {},
   "source": [
    "## Price variations according to SwimmingPool "
   ]
  },
  {
   "cell_type": "code",
   "execution_count": 92,
   "metadata": {},
   "outputs": [
    {
     "data": {
      "text/plain": [
       "[Text(0, 0, '0'), Text(0, 0, '1'), Text(0, 0, '9')]"
      ]
     },
     "execution_count": 92,
     "metadata": {},
     "output_type": "execute_result"
    },
    {
     "data": {
      "image/png": "[encoded data removed]",
      "text/plain": [
       "<Figure size 720x576 with 1 Axes>"
      ]
     },
     "metadata": {},
     "output_type": "display_data"
    }
   ],
   "source": [
    "viz_1=sns.barplot(x=\"SwimmingPool\", y=\"Price\", data=data,\n",
    "                 palette='pastel')\n",
    "viz_1.set_title('Resale according security')\n",
    "viz_1.set_ylabel('Resale')\n",
    "viz_1.set_xlabel('24X7Security')\n",
    "viz_1.set_xticklabels(viz_1.get_xticklabels(), rotation=45)"
   ]
  },
  {
   "cell_type": "markdown",
   "metadata": {},
   "source": [
    "## Rainwater Harvesting according to area size"
   ]
  },
  {
   "cell_type": "code",
   "execution_count": 93,
   "metadata": {},
   "outputs": [
    {
     "data": {
      "text/plain": [
       "[Text(0, 0, '0'), Text(0, 0, '1'), Text(0, 0, '9')]"
      ]
     },
     "execution_count": 93,
     "metadata": {},
     "output_type": "execute_result"
    },
    {
     "data": {
      "image/png": "[encoded data removed]",
      "text/plain": [
       "<Figure size 720x576 with 1 Axes>"
      ]
     },
     "metadata": {},
     "output_type": "display_data"
    }
   ],
   "source": [
    "viz_1=sns.barplot(x=\"RainWaterHarvesting\", y=\"Area\", data=data, palette=\"dark\")\n",
    "viz_1.set_title('RainwaterHarvesting to area')\n",
    "viz_1.set_ylabel('Area')\n",
    "viz_1.set_xlabel('RainwaterHarvesting')\n",
    "viz_1.set_xticklabels(viz_1.get_xticklabels(), rotation=45)"
   ]
  },
  {
   "cell_type": "markdown",
   "metadata": {},
   "source": [
    "## Finding the corelation between features"
   ]
  },
  {
   "cell_type": "code",
   "execution_count": 94,
   "metadata": {},
   "outputs": [
    {
     "data": {
      "text/html": [
       "<div>\n",
       "<style scoped>\n",
       "    .dataframe tbody tr th:only-of-type {\n",
       "        vertical-align: middle;\n",
       "    }\n",
       "\n",
       "    .dataframe tbody tr th {\n",
       "        vertical-align: top;\n",
       "    }\n",
       "\n",
       "    .dataframe thead th {\n",
       "        text-align: right;\n",
       "    }\n",
       "</style>\n",
       "<table border=\"1\" class=\"dataframe\">\n",
       "  <thead>\n",
       "    <tr style=\"text-align: right;\">\n",
       "      <th></th>\n",
       "      <th>Price</th>\n",
       "      <th>Area</th>\n",
       "      <th>Number_Bedrooms</th>\n",
       "      <th>Resale</th>\n",
       "      <th>MaintenanceStaff</th>\n",
       "      <th>Gymnasium</th>\n",
       "      <th>SwimmingPool</th>\n",
       "      <th>LandscapedGardens</th>\n",
       "      <th>JoggingTrack</th>\n",
       "      <th>RainWaterHarvesting</th>\n",
       "      <th>...</th>\n",
       "      <th>LiftAvailable</th>\n",
       "      <th>BED</th>\n",
       "      <th>VaastuCompliant</th>\n",
       "      <th>Microwave</th>\n",
       "      <th>GolfCourse</th>\n",
       "      <th>TV</th>\n",
       "      <th>DiningTable</th>\n",
       "      <th>Sofa</th>\n",
       "      <th>Wardrobe</th>\n",
       "      <th>Refrigerator</th>\n",
       "    </tr>\n",
       "  </thead>\n",
       "  <tbody>\n",
       "    <tr>\n",
       "      <th>Price</th>\n",
       "      <td>1.000000</td>\n",
       "      <td>0.295062</td>\n",
       "      <td>0.163689</td>\n",
       "      <td>0.057410</td>\n",
       "      <td>0.039533</td>\n",
       "      <td>0.041247</td>\n",
       "      <td>0.041525</td>\n",
       "      <td>0.040677</td>\n",
       "      <td>0.040188</td>\n",
       "      <td>0.040948</td>\n",
       "      <td>...</td>\n",
       "      <td>0.039589</td>\n",
       "      <td>0.039500</td>\n",
       "      <td>0.039279</td>\n",
       "      <td>0.039016</td>\n",
       "      <td>0.038514</td>\n",
       "      <td>0.039125</td>\n",
       "      <td>0.038966</td>\n",
       "      <td>0.039052</td>\n",
       "      <td>0.038882</td>\n",
       "      <td>0.039134</td>\n",
       "    </tr>\n",
       "    <tr>\n",
       "      <th>Area</th>\n",
       "      <td>0.295062</td>\n",
       "      <td>1.000000</td>\n",
       "      <td>0.706007</td>\n",
       "      <td>-0.057304</td>\n",
       "      <td>-0.048674</td>\n",
       "      <td>-0.038306</td>\n",
       "      <td>-0.037183</td>\n",
       "      <td>-0.040399</td>\n",
       "      <td>-0.039786</td>\n",
       "      <td>-0.041423</td>\n",
       "      <td>...</td>\n",
       "      <td>-0.044236</td>\n",
       "      <td>-0.047606</td>\n",
       "      <td>-0.043396</td>\n",
       "      <td>-0.046494</td>\n",
       "      <td>-0.047808</td>\n",
       "      <td>-0.046955</td>\n",
       "      <td>-0.046786</td>\n",
       "      <td>-0.046696</td>\n",
       "      <td>-0.047988</td>\n",
       "      <td>-0.046777</td>\n",
       "    </tr>\n",
       "    <tr>\n",
       "      <th>Number_Bedrooms</th>\n",
       "      <td>0.163689</td>\n",
       "      <td>0.706007</td>\n",
       "      <td>1.000000</td>\n",
       "      <td>-0.081430</td>\n",
       "      <td>-0.041628</td>\n",
       "      <td>-0.034151</td>\n",
       "      <td>-0.032588</td>\n",
       "      <td>-0.034879</td>\n",
       "      <td>-0.034571</td>\n",
       "      <td>-0.036622</td>\n",
       "      <td>...</td>\n",
       "      <td>-0.035475</td>\n",
       "      <td>-0.039420</td>\n",
       "      <td>-0.036385</td>\n",
       "      <td>-0.037706</td>\n",
       "      <td>-0.038932</td>\n",
       "      <td>-0.037976</td>\n",
       "      <td>-0.037857</td>\n",
       "      <td>-0.037964</td>\n",
       "      <td>-0.038994</td>\n",
       "      <td>-0.037885</td>\n",
       "    </tr>\n",
       "    <tr>\n",
       "      <th>Resale</th>\n",
       "      <td>0.057410</td>\n",
       "      <td>-0.057304</td>\n",
       "      <td>-0.081430</td>\n",
       "      <td>1.000000</td>\n",
       "      <td>0.060388</td>\n",
       "      <td>0.047160</td>\n",
       "      <td>0.044637</td>\n",
       "      <td>0.048145</td>\n",
       "      <td>0.046946</td>\n",
       "      <td>0.052463</td>\n",
       "      <td>...</td>\n",
       "      <td>0.053522</td>\n",
       "      <td>0.057033</td>\n",
       "      <td>0.053369</td>\n",
       "      <td>0.052851</td>\n",
       "      <td>0.052646</td>\n",
       "      <td>0.053394</td>\n",
       "      <td>0.052925</td>\n",
       "      <td>0.053503</td>\n",
       "      <td>0.054885</td>\n",
       "      <td>0.052993</td>\n",
       "    </tr>\n",
       "    <tr>\n",
       "      <th>MaintenanceStaff</th>\n",
       "      <td>0.039533</td>\n",
       "      <td>-0.048674</td>\n",
       "      <td>-0.041628</td>\n",
       "      <td>0.060388</td>\n",
       "      <td>1.000000</td>\n",
       "      <td>0.996703</td>\n",
       "      <td>0.996574</td>\n",
       "      <td>0.997164</td>\n",
       "      <td>0.997125</td>\n",
       "      <td>0.997564</td>\n",
       "      <td>...</td>\n",
       "      <td>0.996997</td>\n",
       "      <td>0.998400</td>\n",
       "      <td>0.997422</td>\n",
       "      <td>0.998261</td>\n",
       "      <td>0.998651</td>\n",
       "      <td>0.998261</td>\n",
       "      <td>0.998213</td>\n",
       "      <td>0.998244</td>\n",
       "      <td>0.998626</td>\n",
       "      <td>0.998233</td>\n",
       "    </tr>\n",
       "    <tr>\n",
       "      <th>Gymnasium</th>\n",
       "      <td>0.041247</td>\n",
       "      <td>-0.038306</td>\n",
       "      <td>-0.034151</td>\n",
       "      <td>0.047160</td>\n",
       "      <td>0.996703</td>\n",
       "      <td>1.000000</td>\n",
       "      <td>0.998830</td>\n",
       "      <td>0.998032</td>\n",
       "      <td>0.998295</td>\n",
       "      <td>0.997547</td>\n",
       "      <td>...</td>\n",
       "      <td>0.997088</td>\n",
       "      <td>0.997103</td>\n",
       "      <td>0.997156</td>\n",
       "      <td>0.997313</td>\n",
       "      <td>0.997511</td>\n",
       "      <td>0.997188</td>\n",
       "      <td>0.997315</td>\n",
       "      <td>0.997362</td>\n",
       "      <td>0.997290</td>\n",
       "      <td>0.997291</td>\n",
       "    </tr>\n",
       "    <tr>\n",
       "      <th>SwimmingPool</th>\n",
       "      <td>0.041525</td>\n",
       "      <td>-0.037183</td>\n",
       "      <td>-0.032588</td>\n",
       "      <td>0.044637</td>\n",
       "      <td>0.996574</td>\n",
       "      <td>0.998830</td>\n",
       "      <td>1.000000</td>\n",
       "      <td>0.998323</td>\n",
       "      <td>0.998604</td>\n",
       "      <td>0.997828</td>\n",
       "      <td>...</td>\n",
       "      <td>0.996931</td>\n",
       "      <td>0.996909</td>\n",
       "      <td>0.997494</td>\n",
       "      <td>0.997504</td>\n",
       "      <td>0.997671</td>\n",
       "      <td>0.997355</td>\n",
       "      <td>0.997502</td>\n",
       "      <td>0.997523</td>\n",
       "      <td>0.997442</td>\n",
       "      <td>0.997480</td>\n",
       "    </tr>\n",
       "    <tr>\n",
       "      <th>LandscapedGardens</th>\n",
       "      <td>0.040677</td>\n",
       "      <td>-0.040399</td>\n",
       "      <td>-0.034879</td>\n",
       "      <td>0.048145</td>\n",
       "      <td>0.997164</td>\n",
       "      <td>0.998032</td>\n",
       "      <td>0.998323</td>\n",
       "      <td>1.000000</td>\n",
       "      <td>0.998626</td>\n",
       "      <td>0.998166</td>\n",
       "      <td>...</td>\n",
       "      <td>0.996891</td>\n",
       "      <td>0.997102</td>\n",
       "      <td>0.997687</td>\n",
       "      <td>0.997552</td>\n",
       "      <td>0.997864</td>\n",
       "      <td>0.997429</td>\n",
       "      <td>0.997545</td>\n",
       "      <td>0.997591</td>\n",
       "      <td>0.997672</td>\n",
       "      <td>0.997545</td>\n",
       "    </tr>\n",
       "    <tr>\n",
       "      <th>JoggingTrack</th>\n",
       "      <td>0.040188</td>\n",
       "      <td>-0.039786</td>\n",
       "      <td>-0.034571</td>\n",
       "      <td>0.046946</td>\n",
       "      <td>0.997125</td>\n",
       "      <td>0.998295</td>\n",
       "      <td>0.998604</td>\n",
       "      <td>0.998626</td>\n",
       "      <td>1.000000</td>\n",
       "      <td>0.998315</td>\n",
       "      <td>...</td>\n",
       "      <td>0.996812</td>\n",
       "      <td>0.997035</td>\n",
       "      <td>0.998100</td>\n",
       "      <td>0.997593</td>\n",
       "      <td>0.997932</td>\n",
       "      <td>0.997475</td>\n",
       "      <td>0.997556</td>\n",
       "      <td>0.997576</td>\n",
       "      <td>0.997661</td>\n",
       "      <td>0.997573</td>\n",
       "    </tr>\n",
       "    <tr>\n",
       "      <th>RainWaterHarvesting</th>\n",
       "      <td>0.040948</td>\n",
       "      <td>-0.041423</td>\n",
       "      <td>-0.036622</td>\n",
       "      <td>0.052463</td>\n",
       "      <td>0.997564</td>\n",
       "      <td>0.997547</td>\n",
       "      <td>0.997828</td>\n",
       "      <td>0.998166</td>\n",
       "      <td>0.998315</td>\n",
       "      <td>1.000000</td>\n",
       "      <td>...</td>\n",
       "      <td>0.996884</td>\n",
       "      <td>0.996962</td>\n",
       "      <td>0.998125</td>\n",
       "      <td>0.997408</td>\n",
       "      <td>0.997765</td>\n",
       "      <td>0.997392</td>\n",
       "      <td>0.997384</td>\n",
       "      <td>0.997416</td>\n",
       "      <td>0.997656</td>\n",
       "      <td>0.997405</td>\n",
       "    </tr>\n",
       "    <tr>\n",
       "      <th>IndoorGames</th>\n",
       "      <td>0.039938</td>\n",
       "      <td>-0.040664</td>\n",
       "      <td>-0.034170</td>\n",
       "      <td>0.045880</td>\n",
       "      <td>0.997139</td>\n",
       "      <td>0.998099</td>\n",
       "      <td>0.998431</td>\n",
       "      <td>0.998549</td>\n",
       "      <td>0.998541</td>\n",
       "      <td>0.998216</td>\n",
       "      <td>...</td>\n",
       "      <td>0.996931</td>\n",
       "      <td>0.997269</td>\n",
       "      <td>0.997673</td>\n",
       "      <td>0.997816</td>\n",
       "      <td>0.998153</td>\n",
       "      <td>0.997695</td>\n",
       "      <td>0.997766</td>\n",
       "      <td>0.997786</td>\n",
       "      <td>0.997895</td>\n",
       "      <td>0.997785</td>\n",
       "    </tr>\n",
       "    <tr>\n",
       "      <th>ShoppingMall</th>\n",
       "      <td>0.038587</td>\n",
       "      <td>-0.047442</td>\n",
       "      <td>-0.038918</td>\n",
       "      <td>0.053152</td>\n",
       "      <td>0.998543</td>\n",
       "      <td>0.997453</td>\n",
       "      <td>0.997671</td>\n",
       "      <td>0.997812</td>\n",
       "      <td>0.998027</td>\n",
       "      <td>0.997783</td>\n",
       "      <td>...</td>\n",
       "      <td>0.997527</td>\n",
       "      <td>0.998579</td>\n",
       "      <td>0.998129</td>\n",
       "      <td>0.998962</td>\n",
       "      <td>0.999423</td>\n",
       "      <td>0.998891</td>\n",
       "      <td>0.998932</td>\n",
       "      <td>0.998951</td>\n",
       "      <td>0.999218</td>\n",
       "      <td>0.998944</td>\n",
       "    </tr>\n",
       "    <tr>\n",
       "      <th>Intercom</th>\n",
       "      <td>0.040241</td>\n",
       "      <td>-0.039977</td>\n",
       "      <td>-0.031698</td>\n",
       "      <td>0.049889</td>\n",
       "      <td>0.996676</td>\n",
       "      <td>0.997486</td>\n",
       "      <td>0.997494</td>\n",
       "      <td>0.997250</td>\n",
       "      <td>0.997327</td>\n",
       "      <td>0.996996</td>\n",
       "      <td>...</td>\n",
       "      <td>0.997098</td>\n",
       "      <td>0.996826</td>\n",
       "      <td>0.996940</td>\n",
       "      <td>0.997550</td>\n",
       "      <td>0.997509</td>\n",
       "      <td>0.997312</td>\n",
       "      <td>0.997406</td>\n",
       "      <td>0.997436</td>\n",
       "      <td>0.997322</td>\n",
       "      <td>0.997413</td>\n",
       "    </tr>\n",
       "    <tr>\n",
       "      <th>SportsFacility</th>\n",
       "      <td>0.040651</td>\n",
       "      <td>-0.040189</td>\n",
       "      <td>-0.033400</td>\n",
       "      <td>0.052318</td>\n",
       "      <td>0.997019</td>\n",
       "      <td>0.997779</td>\n",
       "      <td>0.997777</td>\n",
       "      <td>0.997290</td>\n",
       "      <td>0.997371</td>\n",
       "      <td>0.997083</td>\n",
       "      <td>...</td>\n",
       "      <td>0.997108</td>\n",
       "      <td>0.997577</td>\n",
       "      <td>0.996891</td>\n",
       "      <td>0.998128</td>\n",
       "      <td>0.998143</td>\n",
       "      <td>0.998019</td>\n",
       "      <td>0.998077</td>\n",
       "      <td>0.998102</td>\n",
       "      <td>0.997878</td>\n",
       "      <td>0.998081</td>\n",
       "    </tr>\n",
       "    <tr>\n",
       "      <th>ATM</th>\n",
       "      <td>0.038568</td>\n",
       "      <td>-0.047087</td>\n",
       "      <td>-0.039125</td>\n",
       "      <td>0.052242</td>\n",
       "      <td>0.998298</td>\n",
       "      <td>0.997454</td>\n",
       "      <td>0.997705</td>\n",
       "      <td>0.997830</td>\n",
       "      <td>0.998006</td>\n",
       "      <td>0.997827</td>\n",
       "      <td>...</td>\n",
       "      <td>0.997496</td>\n",
       "      <td>0.998370</td>\n",
       "      <td>0.998005</td>\n",
       "      <td>0.998776</td>\n",
       "      <td>0.999113</td>\n",
       "      <td>0.998695</td>\n",
       "      <td>0.998741</td>\n",
       "      <td>0.998761</td>\n",
       "      <td>0.999006</td>\n",
       "      <td>0.998752</td>\n",
       "    </tr>\n",
       "    <tr>\n",
       "      <th>ClubHouse</th>\n",
       "      <td>0.041541</td>\n",
       "      <td>-0.037714</td>\n",
       "      <td>-0.033060</td>\n",
       "      <td>0.048590</td>\n",
       "      <td>0.996847</td>\n",
       "      <td>0.998637</td>\n",
       "      <td>0.998761</td>\n",
       "      <td>0.997902</td>\n",
       "      <td>0.998243</td>\n",
       "      <td>0.997694</td>\n",
       "      <td>...</td>\n",
       "      <td>0.997101</td>\n",
       "      <td>0.997101</td>\n",
       "      <td>0.997476</td>\n",
       "      <td>0.997597</td>\n",
       "      <td>0.997668</td>\n",
       "      <td>0.997363</td>\n",
       "      <td>0.997472</td>\n",
       "      <td>0.997493</td>\n",
       "      <td>0.997382</td>\n",
       "      <td>0.997474</td>\n",
       "    </tr>\n",
       "    <tr>\n",
       "      <th>School</th>\n",
       "      <td>0.038333</td>\n",
       "      <td>-0.048048</td>\n",
       "      <td>-0.039359</td>\n",
       "      <td>0.054212</td>\n",
       "      <td>0.998394</td>\n",
       "      <td>0.997382</td>\n",
       "      <td>0.997540</td>\n",
       "      <td>0.997746</td>\n",
       "      <td>0.997974</td>\n",
       "      <td>0.997767</td>\n",
       "      <td>...</td>\n",
       "      <td>0.997565</td>\n",
       "      <td>0.998610</td>\n",
       "      <td>0.998099</td>\n",
       "      <td>0.998967</td>\n",
       "      <td>0.999366</td>\n",
       "      <td>0.998892</td>\n",
       "      <td>0.998935</td>\n",
       "      <td>0.998954</td>\n",
       "      <td>0.999231</td>\n",
       "      <td>0.998948</td>\n",
       "    </tr>\n",
       "    <tr>\n",
       "      <th>24X7Security</th>\n",
       "      <td>0.041381</td>\n",
       "      <td>-0.041710</td>\n",
       "      <td>-0.038476</td>\n",
       "      <td>0.054250</td>\n",
       "      <td>0.997864</td>\n",
       "      <td>0.997688</td>\n",
       "      <td>0.997651</td>\n",
       "      <td>0.998098</td>\n",
       "      <td>0.998395</td>\n",
       "      <td>0.998401</td>\n",
       "      <td>...</td>\n",
       "      <td>0.996836</td>\n",
       "      <td>0.997273</td>\n",
       "      <td>0.997745</td>\n",
       "      <td>0.997245</td>\n",
       "      <td>0.997581</td>\n",
       "      <td>0.997191</td>\n",
       "      <td>0.997228</td>\n",
       "      <td>0.997283</td>\n",
       "      <td>0.997552</td>\n",
       "      <td>0.997231</td>\n",
       "    </tr>\n",
       "    <tr>\n",
       "      <th>PowerBackup</th>\n",
       "      <td>0.041507</td>\n",
       "      <td>-0.039831</td>\n",
       "      <td>-0.036378</td>\n",
       "      <td>0.051027</td>\n",
       "      <td>0.997168</td>\n",
       "      <td>0.997814</td>\n",
       "      <td>0.997585</td>\n",
       "      <td>0.997442</td>\n",
       "      <td>0.997425</td>\n",
       "      <td>0.997593</td>\n",
       "      <td>...</td>\n",
       "      <td>0.997706</td>\n",
       "      <td>0.997170</td>\n",
       "      <td>0.996982</td>\n",
       "      <td>0.997535</td>\n",
       "      <td>0.997578</td>\n",
       "      <td>0.997483</td>\n",
       "      <td>0.997521</td>\n",
       "      <td>0.997480</td>\n",
       "      <td>0.997557</td>\n",
       "      <td>0.997508</td>\n",
       "    </tr>\n",
       "    <tr>\n",
       "      <th>CarParking</th>\n",
       "      <td>0.041293</td>\n",
       "      <td>-0.043253</td>\n",
       "      <td>-0.038415</td>\n",
       "      <td>0.056156</td>\n",
       "      <td>0.997782</td>\n",
       "      <td>0.996964</td>\n",
       "      <td>0.997066</td>\n",
       "      <td>0.997624</td>\n",
       "      <td>0.997615</td>\n",
       "      <td>0.997878</td>\n",
       "      <td>...</td>\n",
       "      <td>0.996875</td>\n",
       "      <td>0.997234</td>\n",
       "      <td>0.997600</td>\n",
       "      <td>0.997154</td>\n",
       "      <td>0.997555</td>\n",
       "      <td>0.997115</td>\n",
       "      <td>0.997134</td>\n",
       "      <td>0.997199</td>\n",
       "      <td>0.997547</td>\n",
       "      <td>0.997148</td>\n",
       "    </tr>\n",
       "    <tr>\n",
       "      <th>StaffQuarter</th>\n",
       "      <td>0.039389</td>\n",
       "      <td>-0.045127</td>\n",
       "      <td>-0.037621</td>\n",
       "      <td>0.054603</td>\n",
       "      <td>0.998217</td>\n",
       "      <td>0.997523</td>\n",
       "      <td>0.997823</td>\n",
       "      <td>0.997868</td>\n",
       "      <td>0.998387</td>\n",
       "      <td>0.998179</td>\n",
       "      <td>...</td>\n",
       "      <td>0.997546</td>\n",
       "      <td>0.998189</td>\n",
       "      <td>0.998624</td>\n",
       "      <td>0.998609</td>\n",
       "      <td>0.998964</td>\n",
       "      <td>0.998528</td>\n",
       "      <td>0.998577</td>\n",
       "      <td>0.998593</td>\n",
       "      <td>0.998793</td>\n",
       "      <td>0.998596</td>\n",
       "    </tr>\n",
       "    <tr>\n",
       "      <th>Cafeteria</th>\n",
       "      <td>0.039311</td>\n",
       "      <td>-0.045142</td>\n",
       "      <td>-0.037445</td>\n",
       "      <td>0.050769</td>\n",
       "      <td>0.998204</td>\n",
       "      <td>0.997609</td>\n",
       "      <td>0.997764</td>\n",
       "      <td>0.997840</td>\n",
       "      <td>0.998012</td>\n",
       "      <td>0.997517</td>\n",
       "      <td>...</td>\n",
       "      <td>0.997285</td>\n",
       "      <td>0.998477</td>\n",
       "      <td>0.997584</td>\n",
       "      <td>0.998721</td>\n",
       "      <td>0.999116</td>\n",
       "      <td>0.998630</td>\n",
       "      <td>0.998683</td>\n",
       "      <td>0.998696</td>\n",
       "      <td>0.998866</td>\n",
       "      <td>0.998693</td>\n",
       "    </tr>\n",
       "    <tr>\n",
       "      <th>MultipurposeRoom</th>\n",
       "      <td>0.039227</td>\n",
       "      <td>-0.041912</td>\n",
       "      <td>-0.035457</td>\n",
       "      <td>0.047187</td>\n",
       "      <td>0.997312</td>\n",
       "      <td>0.997902</td>\n",
       "      <td>0.998262</td>\n",
       "      <td>0.998269</td>\n",
       "      <td>0.998599</td>\n",
       "      <td>0.998132</td>\n",
       "      <td>...</td>\n",
       "      <td>0.996821</td>\n",
       "      <td>0.997435</td>\n",
       "      <td>0.997952</td>\n",
       "      <td>0.997947</td>\n",
       "      <td>0.998320</td>\n",
       "      <td>0.997849</td>\n",
       "      <td>0.997910</td>\n",
       "      <td>0.997933</td>\n",
       "      <td>0.998075</td>\n",
       "      <td>0.997927</td>\n",
       "    </tr>\n",
       "    <tr>\n",
       "      <th>Hospital</th>\n",
       "      <td>0.038504</td>\n",
       "      <td>-0.048143</td>\n",
       "      <td>-0.039424</td>\n",
       "      <td>0.053629</td>\n",
       "      <td>0.998546</td>\n",
       "      <td>0.997381</td>\n",
       "      <td>0.997529</td>\n",
       "      <td>0.997697</td>\n",
       "      <td>0.997942</td>\n",
       "      <td>0.997724</td>\n",
       "      <td>...</td>\n",
       "      <td>0.997620</td>\n",
       "      <td>0.998750</td>\n",
       "      <td>0.998073</td>\n",
       "      <td>0.999094</td>\n",
       "      <td>0.999470</td>\n",
       "      <td>0.999024</td>\n",
       "      <td>0.999064</td>\n",
       "      <td>0.999084</td>\n",
       "      <td>0.999363</td>\n",
       "      <td>0.999078</td>\n",
       "    </tr>\n",
       "    <tr>\n",
       "      <th>WashingMachine</th>\n",
       "      <td>0.039018</td>\n",
       "      <td>-0.046667</td>\n",
       "      <td>-0.037785</td>\n",
       "      <td>0.053014</td>\n",
       "      <td>0.998323</td>\n",
       "      <td>0.997411</td>\n",
       "      <td>0.997591</td>\n",
       "      <td>0.997629</td>\n",
       "      <td>0.997673</td>\n",
       "      <td>0.997499</td>\n",
       "      <td>...</td>\n",
       "      <td>0.997688</td>\n",
       "      <td>0.999494</td>\n",
       "      <td>0.997683</td>\n",
       "      <td>0.999869</td>\n",
       "      <td>0.999476</td>\n",
       "      <td>0.999804</td>\n",
       "      <td>0.999884</td>\n",
       "      <td>0.999884</td>\n",
       "      <td>0.999503</td>\n",
       "      <td>0.999883</td>\n",
       "    </tr>\n",
       "    <tr>\n",
       "      <th>Gasconnection</th>\n",
       "      <td>0.041036</td>\n",
       "      <td>-0.043953</td>\n",
       "      <td>-0.034905</td>\n",
       "      <td>0.059601</td>\n",
       "      <td>0.997356</td>\n",
       "      <td>0.996473</td>\n",
       "      <td>0.996356</td>\n",
       "      <td>0.996601</td>\n",
       "      <td>0.996524</td>\n",
       "      <td>0.996457</td>\n",
       "      <td>...</td>\n",
       "      <td>0.996974</td>\n",
       "      <td>0.998430</td>\n",
       "      <td>0.996679</td>\n",
       "      <td>0.998932</td>\n",
       "      <td>0.998489</td>\n",
       "      <td>0.998740</td>\n",
       "      <td>0.998800</td>\n",
       "      <td>0.998836</td>\n",
       "      <td>0.998508</td>\n",
       "      <td>0.998814</td>\n",
       "    </tr>\n",
       "    <tr>\n",
       "      <th>AC</th>\n",
       "      <td>0.039870</td>\n",
       "      <td>-0.045837</td>\n",
       "      <td>-0.037347</td>\n",
       "      <td>0.054619</td>\n",
       "      <td>0.998243</td>\n",
       "      <td>0.997197</td>\n",
       "      <td>0.997356</td>\n",
       "      <td>0.997406</td>\n",
       "      <td>0.997432</td>\n",
       "      <td>0.997366</td>\n",
       "      <td>...</td>\n",
       "      <td>0.997505</td>\n",
       "      <td>0.999508</td>\n",
       "      <td>0.997485</td>\n",
       "      <td>0.999683</td>\n",
       "      <td>0.999314</td>\n",
       "      <td>0.999753</td>\n",
       "      <td>0.999672</td>\n",
       "      <td>0.999737</td>\n",
       "      <td>0.999504</td>\n",
       "      <td>0.999702</td>\n",
       "    </tr>\n",
       "    <tr>\n",
       "      <th>Wifi</th>\n",
       "      <td>0.038441</td>\n",
       "      <td>-0.048359</td>\n",
       "      <td>-0.039378</td>\n",
       "      <td>0.054007</td>\n",
       "      <td>0.998659</td>\n",
       "      <td>0.997424</td>\n",
       "      <td>0.997548</td>\n",
       "      <td>0.997803</td>\n",
       "      <td>0.997835</td>\n",
       "      <td>0.997737</td>\n",
       "      <td>...</td>\n",
       "      <td>0.997783</td>\n",
       "      <td>0.999113</td>\n",
       "      <td>0.998006</td>\n",
       "      <td>0.999462</td>\n",
       "      <td>0.999670</td>\n",
       "      <td>0.999390</td>\n",
       "      <td>0.999441</td>\n",
       "      <td>0.999460</td>\n",
       "      <td>0.999719</td>\n",
       "      <td>0.999452</td>\n",
       "    </tr>\n",
       "    <tr>\n",
       "      <th>Children'splayarea</th>\n",
       "      <td>0.041518</td>\n",
       "      <td>-0.036862</td>\n",
       "      <td>-0.032089</td>\n",
       "      <td>0.047107</td>\n",
       "      <td>0.996317</td>\n",
       "      <td>0.998610</td>\n",
       "      <td>0.998395</td>\n",
       "      <td>0.997902</td>\n",
       "      <td>0.998056</td>\n",
       "      <td>0.997416</td>\n",
       "      <td>...</td>\n",
       "      <td>0.997032</td>\n",
       "      <td>0.996690</td>\n",
       "      <td>0.997084</td>\n",
       "      <td>0.997398</td>\n",
       "      <td>0.997508</td>\n",
       "      <td>0.997235</td>\n",
       "      <td>0.997335</td>\n",
       "      <td>0.997356</td>\n",
       "      <td>0.997242</td>\n",
       "      <td>0.997341</td>\n",
       "    </tr>\n",
       "    <tr>\n",
       "      <th>LiftAvailable</th>\n",
       "      <td>0.039589</td>\n",
       "      <td>-0.044236</td>\n",
       "      <td>-0.035475</td>\n",
       "      <td>0.053522</td>\n",
       "      <td>0.996997</td>\n",
       "      <td>0.997088</td>\n",
       "      <td>0.996931</td>\n",
       "      <td>0.996891</td>\n",
       "      <td>0.996812</td>\n",
       "      <td>0.996884</td>\n",
       "      <td>...</td>\n",
       "      <td>1.000000</td>\n",
       "      <td>0.997380</td>\n",
       "      <td>0.997107</td>\n",
       "      <td>0.997637</td>\n",
       "      <td>0.997782</td>\n",
       "      <td>0.997577</td>\n",
       "      <td>0.997665</td>\n",
       "      <td>0.997651</td>\n",
       "      <td>0.997712</td>\n",
       "      <td>0.997659</td>\n",
       "    </tr>\n",
       "    <tr>\n",
       "      <th>BED</th>\n",
       "      <td>0.039500</td>\n",
       "      <td>-0.047606</td>\n",
       "      <td>-0.039420</td>\n",
       "      <td>0.057033</td>\n",
       "      <td>0.998400</td>\n",
       "      <td>0.997103</td>\n",
       "      <td>0.996909</td>\n",
       "      <td>0.997102</td>\n",
       "      <td>0.997035</td>\n",
       "      <td>0.996962</td>\n",
       "      <td>...</td>\n",
       "      <td>0.997380</td>\n",
       "      <td>1.000000</td>\n",
       "      <td>0.997129</td>\n",
       "      <td>0.999473</td>\n",
       "      <td>0.999072</td>\n",
       "      <td>0.999515</td>\n",
       "      <td>0.999462</td>\n",
       "      <td>0.999538</td>\n",
       "      <td>0.999286</td>\n",
       "      <td>0.999469</td>\n",
       "    </tr>\n",
       "    <tr>\n",
       "      <th>VaastuCompliant</th>\n",
       "      <td>0.039279</td>\n",
       "      <td>-0.043396</td>\n",
       "      <td>-0.036385</td>\n",
       "      <td>0.053369</td>\n",
       "      <td>0.997422</td>\n",
       "      <td>0.997156</td>\n",
       "      <td>0.997494</td>\n",
       "      <td>0.997687</td>\n",
       "      <td>0.998100</td>\n",
       "      <td>0.998125</td>\n",
       "      <td>...</td>\n",
       "      <td>0.997107</td>\n",
       "      <td>0.997129</td>\n",
       "      <td>1.000000</td>\n",
       "      <td>0.997616</td>\n",
       "      <td>0.998017</td>\n",
       "      <td>0.997501</td>\n",
       "      <td>0.997573</td>\n",
       "      <td>0.997601</td>\n",
       "      <td>0.997862</td>\n",
       "      <td>0.997598</td>\n",
       "    </tr>\n",
       "    <tr>\n",
       "      <th>Microwave</th>\n",
       "      <td>0.039016</td>\n",
       "      <td>-0.046494</td>\n",
       "      <td>-0.037706</td>\n",
       "      <td>0.052851</td>\n",
       "      <td>0.998261</td>\n",
       "      <td>0.997313</td>\n",
       "      <td>0.997504</td>\n",
       "      <td>0.997552</td>\n",
       "      <td>0.997593</td>\n",
       "      <td>0.997408</td>\n",
       "      <td>...</td>\n",
       "      <td>0.997637</td>\n",
       "      <td>0.999473</td>\n",
       "      <td>0.997616</td>\n",
       "      <td>1.000000</td>\n",
       "      <td>0.999426</td>\n",
       "      <td>0.999719</td>\n",
       "      <td>0.999800</td>\n",
       "      <td>0.999819</td>\n",
       "      <td>0.999445</td>\n",
       "      <td>0.999811</td>\n",
       "    </tr>\n",
       "    <tr>\n",
       "      <th>GolfCourse</th>\n",
       "      <td>0.038514</td>\n",
       "      <td>-0.047808</td>\n",
       "      <td>-0.038932</td>\n",
       "      <td>0.052646</td>\n",
       "      <td>0.998651</td>\n",
       "      <td>0.997511</td>\n",
       "      <td>0.997671</td>\n",
       "      <td>0.997864</td>\n",
       "      <td>0.997932</td>\n",
       "      <td>0.997765</td>\n",
       "      <td>...</td>\n",
       "      <td>0.997782</td>\n",
       "      <td>0.999072</td>\n",
       "      <td>0.998017</td>\n",
       "      <td>0.999426</td>\n",
       "      <td>1.000000</td>\n",
       "      <td>0.999363</td>\n",
       "      <td>0.999398</td>\n",
       "      <td>0.999414</td>\n",
       "      <td>0.999638</td>\n",
       "      <td>0.999408</td>\n",
       "    </tr>\n",
       "    <tr>\n",
       "      <th>TV</th>\n",
       "      <td>0.039125</td>\n",
       "      <td>-0.046955</td>\n",
       "      <td>-0.037976</td>\n",
       "      <td>0.053394</td>\n",
       "      <td>0.998261</td>\n",
       "      <td>0.997188</td>\n",
       "      <td>0.997355</td>\n",
       "      <td>0.997429</td>\n",
       "      <td>0.997475</td>\n",
       "      <td>0.997392</td>\n",
       "      <td>...</td>\n",
       "      <td>0.997577</td>\n",
       "      <td>0.999515</td>\n",
       "      <td>0.997501</td>\n",
       "      <td>0.999719</td>\n",
       "      <td>0.999363</td>\n",
       "      <td>1.000000</td>\n",
       "      <td>0.999839</td>\n",
       "      <td>0.999780</td>\n",
       "      <td>0.999487</td>\n",
       "      <td>0.999840</td>\n",
       "    </tr>\n",
       "    <tr>\n",
       "      <th>DiningTable</th>\n",
       "      <td>0.038966</td>\n",
       "      <td>-0.046786</td>\n",
       "      <td>-0.037857</td>\n",
       "      <td>0.052925</td>\n",
       "      <td>0.998213</td>\n",
       "      <td>0.997315</td>\n",
       "      <td>0.997502</td>\n",
       "      <td>0.997545</td>\n",
       "      <td>0.997556</td>\n",
       "      <td>0.997384</td>\n",
       "      <td>...</td>\n",
       "      <td>0.997665</td>\n",
       "      <td>0.999462</td>\n",
       "      <td>0.997573</td>\n",
       "      <td>0.999800</td>\n",
       "      <td>0.999398</td>\n",
       "      <td>0.999839</td>\n",
       "      <td>1.000000</td>\n",
       "      <td>0.999865</td>\n",
       "      <td>0.999460</td>\n",
       "      <td>0.999931</td>\n",
       "    </tr>\n",
       "    <tr>\n",
       "      <th>Sofa</th>\n",
       "      <td>0.039052</td>\n",
       "      <td>-0.046696</td>\n",
       "      <td>-0.037964</td>\n",
       "      <td>0.053503</td>\n",
       "      <td>0.998244</td>\n",
       "      <td>0.997362</td>\n",
       "      <td>0.997523</td>\n",
       "      <td>0.997591</td>\n",
       "      <td>0.997576</td>\n",
       "      <td>0.997416</td>\n",
       "      <td>...</td>\n",
       "      <td>0.997651</td>\n",
       "      <td>0.999538</td>\n",
       "      <td>0.997601</td>\n",
       "      <td>0.999819</td>\n",
       "      <td>0.999414</td>\n",
       "      <td>0.999780</td>\n",
       "      <td>0.999865</td>\n",
       "      <td>1.000000</td>\n",
       "      <td>0.999504</td>\n",
       "      <td>0.999871</td>\n",
       "    </tr>\n",
       "    <tr>\n",
       "      <th>Wardrobe</th>\n",
       "      <td>0.038882</td>\n",
       "      <td>-0.047988</td>\n",
       "      <td>-0.038994</td>\n",
       "      <td>0.054885</td>\n",
       "      <td>0.998626</td>\n",
       "      <td>0.997290</td>\n",
       "      <td>0.997442</td>\n",
       "      <td>0.997672</td>\n",
       "      <td>0.997661</td>\n",
       "      <td>0.997656</td>\n",
       "      <td>...</td>\n",
       "      <td>0.997712</td>\n",
       "      <td>0.999286</td>\n",
       "      <td>0.997862</td>\n",
       "      <td>0.999445</td>\n",
       "      <td>0.999638</td>\n",
       "      <td>0.999487</td>\n",
       "      <td>0.999460</td>\n",
       "      <td>0.999504</td>\n",
       "      <td>1.000000</td>\n",
       "      <td>0.999453</td>\n",
       "    </tr>\n",
       "    <tr>\n",
       "      <th>Refrigerator</th>\n",
       "      <td>0.039134</td>\n",
       "      <td>-0.046777</td>\n",
       "      <td>-0.037885</td>\n",
       "      <td>0.052993</td>\n",
       "      <td>0.998233</td>\n",
       "      <td>0.997291</td>\n",
       "      <td>0.997480</td>\n",
       "      <td>0.997545</td>\n",
       "      <td>0.997573</td>\n",
       "      <td>0.997405</td>\n",
       "      <td>...</td>\n",
       "      <td>0.997659</td>\n",
       "      <td>0.999469</td>\n",
       "      <td>0.997598</td>\n",
       "      <td>0.999811</td>\n",
       "      <td>0.999408</td>\n",
       "      <td>0.999840</td>\n",
       "      <td>0.999931</td>\n",
       "      <td>0.999871</td>\n",
       "      <td>0.999453</td>\n",
       "      <td>1.000000</td>\n",
       "    </tr>\n",
       "  </tbody>\n",
       "</table>\n",
       "<p>39 rows × 39 columns</p>\n",
       "</div>"
      ],
      "text/plain": [
       "                        Price      Area  Number_Bedrooms    Resale  \\\n",
       "Price                1.000000  0.295062         0.163689  0.057410   \n",
       "Area                 0.295062  1.000000         0.706007 -0.057304   \n",
       "Number_Bedrooms      0.163689  0.706007         1.000000 -0.081430   \n",
       "Resale               0.057410 -0.057304        -0.081430  1.000000   \n",
       "MaintenanceStaff     0.039533 -0.048674        -0.041628  0.060388   \n",
       "Gymnasium            0.041247 -0.038306        -0.034151  0.047160   \n",
       "SwimmingPool         0.041525 -0.037183        -0.032588  0.044637   \n",
       "LandscapedGardens    0.040677 -0.040399        -0.034879  0.048145   \n",
       "JoggingTrack         0.040188 -0.039786        -0.034571  0.046946   \n",
       "RainWaterHarvesting  0.040948 -0.041423        -0.036622  0.052463   \n",
       "IndoorGames          0.039938 -0.040664        -0.034170  0.045880   \n",
       "ShoppingMall         0.038587 -0.047442        -0.038918  0.053152   \n",
       "Intercom             0.040241 -0.039977        -0.031698  0.049889   \n",
       "SportsFacility       0.040651 -0.040189        -0.033400  0.052318   \n",
       "ATM                  0.038568 -0.047087        -0.039125  0.052242   \n",
       "ClubHouse            0.041541 -0.037714        -0.033060  0.048590   \n",
       "School               0.038333 -0.048048        -0.039359  0.054212   \n",
       "24X7Security         0.041381 -0.041710        -0.038476  0.054250   \n",
       "PowerBackup          0.041507 -0.039831        -0.036378  0.051027   \n",
       "CarParking           0.041293 -0.043253        -0.038415  0.056156   \n",
       "StaffQuarter         0.039389 -0.045127        -0.037621  0.054603   \n",
       "Cafeteria            0.039311 -0.045142        -0.037445  0.050769   \n",
       "MultipurposeRoom     0.039227 -0.041912        -0.035457  0.047187   \n",
       "Hospital             0.038504 -0.048143        -0.039424  0.053629   \n",
       "WashingMachine       0.039018 -0.046667        -0.037785  0.053014   \n",
       "Gasconnection        0.041036 -0.043953        -0.034905  0.059601   \n",
       "AC                   0.039870 -0.045837        -0.037347  0.054619   \n",
       "Wifi                 0.038441 -0.048359        -0.039378  0.054007   \n",
       "Children'splayarea   0.041518 -0.036862        -0.032089  0.047107   \n",
       "LiftAvailable        0.039589 -0.044236        -0.035475  0.053522   \n",
       "BED                  0.039500 -0.047606        -0.039420  0.057033   \n",
       "VaastuCompliant      0.039279 -0.043396        -0.036385  0.053369   \n",
       "Microwave            0.039016 -0.046494        -0.037706  0.052851   \n",
       "GolfCourse           0.038514 -0.047808        -0.038932  0.052646   \n",
       "TV                   0.039125 -0.046955        -0.037976  0.053394   \n",
       "DiningTable          0.038966 -0.046786        -0.037857  0.052925   \n",
       "Sofa                 0.039052 -0.046696        -0.037964  0.053503   \n",
       "Wardrobe             0.038882 -0.047988        -0.038994  0.054885   \n",
       "Refrigerator         0.039134 -0.046777        -0.037885  0.052993   \n",
       "\n",
       "                     MaintenanceStaff  Gymnasium  SwimmingPool  \\\n",
       "Price                        0.039533   0.041247      0.041525   \n",
       "Area                        -0.048674  -0.038306     -0.037183   \n",
       "Number_Bedrooms             -0.041628  -0.034151     -0.032588   \n",
       "Resale                       0.060388   0.047160      0.044637   \n",
       "MaintenanceStaff             1.000000   0.996703      0.996574   \n",
       "Gymnasium                    0.996703   1.000000      0.998830   \n",
       "SwimmingPool                 0.996574   0.998830      1.000000   \n",
       "LandscapedGardens            0.997164   0.998032      0.998323   \n",
       "JoggingTrack                 0.997125   0.998295      0.998604   \n",
       "RainWaterHarvesting          0.997564   0.997547      0.997828   \n",
       "IndoorGames                  0.997139   0.998099      0.998431   \n",
       "ShoppingMall                 0.998543   0.997453      0.997671   \n",
       "Intercom                     0.996676   0.997486      0.997494   \n",
       "SportsFacility               0.997019   0.997779      0.997777   \n",
       "ATM                          0.998298   0.997454      0.997705   \n",
       "ClubHouse                    0.996847   0.998637      0.998761   \n",
       "School                       0.998394   0.997382      0.997540   \n",
       "24X7Security                 0.997864   0.997688      0.997651   \n",
       "PowerBackup                  0.997168   0.997814      0.997585   \n",
       "CarParking                   0.997782   0.996964      0.997066   \n",
       "StaffQuarter                 0.998217   0.997523      0.997823   \n",
       "Cafeteria                    0.998204   0.997609      0.997764   \n",
       "MultipurposeRoom             0.997312   0.997902      0.998262   \n",
       "Hospital                     0.998546   0.997381      0.997529   \n",
       "WashingMachine               0.998323   0.997411      0.997591   \n",
       "Gasconnection                0.997356   0.996473      0.996356   \n",
       "AC                           0.998243   0.997197      0.997356   \n",
       "Wifi                         0.998659   0.997424      0.997548   \n",
       "Children'splayarea           0.996317   0.998610      0.998395   \n",
       "LiftAvailable                0.996997   0.997088      0.996931   \n",
       "BED                          0.998400   0.997103      0.996909   \n",
       "VaastuCompliant              0.997422   0.997156      0.997494   \n",
       "Microwave                    0.998261   0.997313      0.997504   \n",
       "GolfCourse                   0.998651   0.997511      0.997671   \n",
       "TV                           0.998261   0.997188      0.997355   \n",
       "DiningTable                  0.998213   0.997315      0.997502   \n",
       "Sofa                         0.998244   0.997362      0.997523   \n",
       "Wardrobe                     0.998626   0.997290      0.997442   \n",
       "Refrigerator                 0.998233   0.997291      0.997480   \n",
       "\n",
       "                     LandscapedGardens  JoggingTrack  RainWaterHarvesting  \\\n",
       "Price                         0.040677      0.040188             0.040948   \n",
       "Area                         -0.040399     -0.039786            -0.041423   \n",
       "Number_Bedrooms              -0.034879     -0.034571            -0.036622   \n",
       "Resale                        0.048145      0.046946             0.052463   \n",
       "MaintenanceStaff              0.997164      0.997125             0.997564   \n",
       "Gymnasium                     0.998032      0.998295             0.997547   \n",
       "SwimmingPool                  0.998323      0.998604             0.997828   \n",
       "LandscapedGardens             1.000000      0.998626             0.998166   \n",
       "JoggingTrack                  0.998626      1.000000             0.998315   \n",
       "RainWaterHarvesting           0.998166      0.998315             1.000000   \n",
       "IndoorGames                   0.998549      0.998541             0.998216   \n",
       "ShoppingMall                  0.997812      0.998027             0.997783   \n",
       "Intercom                      0.997250      0.997327             0.996996   \n",
       "SportsFacility                0.997290      0.997371             0.997083   \n",
       "ATM                           0.997830      0.998006             0.997827   \n",
       "ClubHouse                     0.997902      0.998243             0.997694   \n",
       "School                        0.997746      0.997974             0.997767   \n",
       "24X7Security                  0.998098      0.998395             0.998401   \n",
       "PowerBackup                   0.997442      0.997425             0.997593   \n",
       "CarParking                    0.997624      0.997615             0.997878   \n",
       "StaffQuarter                  0.997868      0.998387             0.998179   \n",
       "Cafeteria                     0.997840      0.998012             0.997517   \n",
       "MultipurposeRoom              0.998269      0.998599             0.998132   \n",
       "Hospital                      0.997697      0.997942             0.997724   \n",
       "WashingMachine                0.997629      0.997673             0.997499   \n",
       "Gasconnection                 0.996601      0.996524             0.996457   \n",
       "AC                            0.997406      0.997432             0.997366   \n",
       "Wifi                          0.997803      0.997835             0.997737   \n",
       "Children'splayarea            0.997902      0.998056             0.997416   \n",
       "LiftAvailable                 0.996891      0.996812             0.996884   \n",
       "BED                           0.997102      0.997035             0.996962   \n",
       "VaastuCompliant               0.997687      0.998100             0.998125   \n",
       "Microwave                     0.997552      0.997593             0.997408   \n",
       "GolfCourse                    0.997864      0.997932             0.997765   \n",
       "TV                            0.997429      0.997475             0.997392   \n",
       "DiningTable                   0.997545      0.997556             0.997384   \n",
       "Sofa                          0.997591      0.997576             0.997416   \n",
       "Wardrobe                      0.997672      0.997661             0.997656   \n",
       "Refrigerator                  0.997545      0.997573             0.997405   \n",
       "\n",
       "                     ...  LiftAvailable       BED  VaastuCompliant  Microwave  \\\n",
       "Price                ...       0.039589  0.039500         0.039279   0.039016   \n",
       "Area                 ...      -0.044236 -0.047606        -0.043396  -0.046494   \n",
       "Number_Bedrooms      ...      -0.035475 -0.039420        -0.036385  -0.037706   \n",
       "Resale               ...       0.053522  0.057033         0.053369   0.052851   \n",
       "MaintenanceStaff     ...       0.996997  0.998400         0.997422   0.998261   \n",
       "Gymnasium            ...       0.997088  0.997103         0.997156   0.997313   \n",
       "SwimmingPool         ...       0.996931  0.996909         0.997494   0.997504   \n",
       "LandscapedGardens    ...       0.996891  0.997102         0.997687   0.997552   \n",
       "JoggingTrack         ...       0.996812  0.997035         0.998100   0.997593   \n",
       "RainWaterHarvesting  ...       0.996884  0.996962         0.998125   0.997408   \n",
       "IndoorGames          ...       0.996931  0.997269         0.997673   0.997816   \n",
       "ShoppingMall         ...       0.997527  0.998579         0.998129   0.998962   \n",
       "Intercom             ...       0.997098  0.996826         0.996940   0.997550   \n",
       "SportsFacility       ...       0.997108  0.997577         0.996891   0.998128   \n",
       "ATM                  ...       0.997496  0.998370         0.998005   0.998776   \n",
       "ClubHouse            ...       0.997101  0.997101         0.997476   0.997597   \n",
       "School               ...       0.997565  0.998610         0.998099   0.998967   \n",
       "24X7Security         ...       0.996836  0.997273         0.997745   0.997245   \n",
       "PowerBackup          ...       0.997706  0.997170         0.996982   0.997535   \n",
       "CarParking           ...       0.996875  0.997234         0.997600   0.997154   \n",
       "StaffQuarter         ...       0.997546  0.998189         0.998624   0.998609   \n",
       "Cafeteria            ...       0.997285  0.998477         0.997584   0.998721   \n",
       "MultipurposeRoom     ...       0.996821  0.997435         0.997952   0.997947   \n",
       "Hospital             ...       0.997620  0.998750         0.998073   0.999094   \n",
       "WashingMachine       ...       0.997688  0.999494         0.997683   0.999869   \n",
       "Gasconnection        ...       0.996974  0.998430         0.996679   0.998932   \n",
       "AC                   ...       0.997505  0.999508         0.997485   0.999683   \n",
       "Wifi                 ...       0.997783  0.999113         0.998006   0.999462   \n",
       "Children'splayarea   ...       0.997032  0.996690         0.997084   0.997398   \n",
       "LiftAvailable        ...       1.000000  0.997380         0.997107   0.997637   \n",
       "BED                  ...       0.997380  1.000000         0.997129   0.999473   \n",
       "VaastuCompliant      ...       0.997107  0.997129         1.000000   0.997616   \n",
       "Microwave            ...       0.997637  0.999473         0.997616   1.000000   \n",
       "GolfCourse           ...       0.997782  0.999072         0.998017   0.999426   \n",
       "TV                   ...       0.997577  0.999515         0.997501   0.999719   \n",
       "DiningTable          ...       0.997665  0.999462         0.997573   0.999800   \n",
       "Sofa                 ...       0.997651  0.999538         0.997601   0.999819   \n",
       "Wardrobe             ...       0.997712  0.999286         0.997862   0.999445   \n",
       "Refrigerator         ...       0.997659  0.999469         0.997598   0.999811   \n",
       "\n",
       "                     GolfCourse        TV  DiningTable      Sofa  Wardrobe  \\\n",
       "Price                  0.038514  0.039125     0.038966  0.039052  0.038882   \n",
       "Area                  -0.047808 -0.046955    -0.046786 -0.046696 -0.047988   \n",
       "Number_Bedrooms       -0.038932 -0.037976    -0.037857 -0.037964 -0.038994   \n",
       "Resale                 0.052646  0.053394     0.052925  0.053503  0.054885   \n",
       "MaintenanceStaff       0.998651  0.998261     0.998213  0.998244  0.998626   \n",
       "Gymnasium              0.997511  0.997188     0.997315  0.997362  0.997290   \n",
       "SwimmingPool           0.997671  0.997355     0.997502  0.997523  0.997442   \n",
       "LandscapedGardens      0.997864  0.997429     0.997545  0.997591  0.997672   \n",
       "JoggingTrack           0.997932  0.997475     0.997556  0.997576  0.997661   \n",
       "RainWaterHarvesting    0.997765  0.997392     0.997384  0.997416  0.997656   \n",
       "IndoorGames            0.998153  0.997695     0.997766  0.997786  0.997895   \n",
       "ShoppingMall           0.999423  0.998891     0.998932  0.998951  0.999218   \n",
       "Intercom               0.997509  0.997312     0.997406  0.997436  0.997322   \n",
       "SportsFacility         0.998143  0.998019     0.998077  0.998102  0.997878   \n",
       "ATM                    0.999113  0.998695     0.998741  0.998761  0.999006   \n",
       "ClubHouse              0.997668  0.997363     0.997472  0.997493  0.997382   \n",
       "School                 0.999366  0.998892     0.998935  0.998954  0.999231   \n",
       "24X7Security           0.997581  0.997191     0.997228  0.997283  0.997552   \n",
       "PowerBackup            0.997578  0.997483     0.997521  0.997480  0.997557   \n",
       "CarParking             0.997555  0.997115     0.997134  0.997199  0.997547   \n",
       "StaffQuarter           0.998964  0.998528     0.998577  0.998593  0.998793   \n",
       "Cafeteria              0.999116  0.998630     0.998683  0.998696  0.998866   \n",
       "MultipurposeRoom       0.998320  0.997849     0.997910  0.997933  0.998075   \n",
       "Hospital               0.999470  0.999024     0.999064  0.999084  0.999363   \n",
       "WashingMachine         0.999476  0.999804     0.999884  0.999884  0.999503   \n",
       "Gasconnection          0.998489  0.998740     0.998800  0.998836  0.998508   \n",
       "AC                     0.999314  0.999753     0.999672  0.999737  0.999504   \n",
       "Wifi                   0.999670  0.999390     0.999441  0.999460  0.999719   \n",
       "Children'splayarea     0.997508  0.997235     0.997335  0.997356  0.997242   \n",
       "LiftAvailable          0.997782  0.997577     0.997665  0.997651  0.997712   \n",
       "BED                    0.999072  0.999515     0.999462  0.999538  0.999286   \n",
       "VaastuCompliant        0.998017  0.997501     0.997573  0.997601  0.997862   \n",
       "Microwave              0.999426  0.999719     0.999800  0.999819  0.999445   \n",
       "GolfCourse             1.000000  0.999363     0.999398  0.999414  0.999638   \n",
       "TV                     0.999363  1.000000     0.999839  0.999780  0.999487   \n",
       "DiningTable            0.999398  0.999839     1.000000  0.999865  0.999460   \n",
       "Sofa                   0.999414  0.999780     0.999865  1.000000  0.999504   \n",
       "Wardrobe               0.999638  0.999487     0.999460  0.999504  1.000000   \n",
       "Refrigerator           0.999408  0.999840     0.999931  0.999871  0.999453   \n",
       "\n",
       "                     Refrigerator  \n",
       "Price                    0.039134  \n",
       "Area                    -0.046777  \n",
       "Number_Bedrooms         -0.037885  \n",
       "Resale                   0.052993  \n",
       "MaintenanceStaff         0.998233  \n",
       "Gymnasium                0.997291  \n",
       "SwimmingPool             0.997480  \n",
       "LandscapedGardens        0.997545  \n",
       "JoggingTrack             0.997573  \n",
       "RainWaterHarvesting      0.997405  \n",
       "IndoorGames              0.997785  \n",
       "ShoppingMall             0.998944  \n",
       "Intercom                 0.997413  \n",
       "SportsFacility           0.998081  \n",
       "ATM                      0.998752  \n",
       "ClubHouse                0.997474  \n",
       "School                   0.998948  \n",
       "24X7Security             0.997231  \n",
       "PowerBackup              0.997508  \n",
       "CarParking               0.997148  \n",
       "StaffQuarter             0.998596  \n",
       "Cafeteria                0.998693  \n",
       "MultipurposeRoom         0.997927  \n",
       "Hospital                 0.999078  \n",
       "WashingMachine           0.999883  \n",
       "Gasconnection            0.998814  \n",
       "AC                       0.999702  \n",
       "Wifi                     0.999452  \n",
       "Children'splayarea       0.997341  \n",
       "LiftAvailable            0.997659  \n",
       "BED                      0.999469  \n",
       "VaastuCompliant          0.997598  \n",
       "Microwave                0.999811  \n",
       "GolfCourse               0.999408  \n",
       "TV                       0.999840  \n",
       "DiningTable              0.999931  \n",
       "Sofa                     0.999871  \n",
       "Wardrobe                 0.999453  \n",
       "Refrigerator             1.000000  \n",
       "\n",
       "[39 rows x 39 columns]"
      ]
     },
     "execution_count": 94,
     "metadata": {},
     "output_type": "execute_result"
    }
   ],
   "source": [
    "data.corr()"
   ]
  },
  {
   "cell_type": "markdown",
   "metadata": {},
   "source": [
    "## Extracting upper matrix"
   ]
  },
  {
   "cell_type": "code",
   "execution_count": 95,
   "metadata": {},
   "outputs": [],
   "source": [
    "corr_matrix = data.corr().abs()\n",
    "\n",
    "#the matrix is symmetric so we need to extract upper triangle matrix without diagonal (k = 1)\n",
    "\n",
    "sol = (corr_matrix.where(np.triu(np.ones(corr_matrix.shape), k=1).astype(np.bool))\n",
    "                  .stack()\n",
    "                  .sort_values(ascending=False))\n"
   ]
  },
  {
   "cell_type": "markdown",
   "metadata": {},
   "source": [
    "## Corelation above 0.9"
   ]
  },
  {
   "cell_type": "code",
   "execution_count": 105,
   "metadata": {},
   "outputs": [
    {
     "name": "stdout",
     "output_type": "stream",
     "text": [
      "('DiningTable', 'Refrigerator') 0.9999314062590547\n",
      "('WashingMachine', 'DiningTable') 0.9998841955719451\n",
      "('WashingMachine', 'Sofa') 0.9998839533807635\n",
      "('WashingMachine', 'Refrigerator') 0.9998831253867794\n",
      "('Sofa', 'Refrigerator') 0.9998708304590601\n",
      "('WashingMachine', 'Microwave') 0.9998685921229894\n",
      "('DiningTable', 'Sofa') 0.9998646003537516\n",
      "('TV', 'Refrigerator') 0.9998397124268604\n",
      "('TV', 'DiningTable') 0.9998387260295087\n",
      "('Microwave', 'Sofa') 0.9998192539229964\n",
      "('Microwave', 'Refrigerator') 0.9998112493083959\n",
      "('School', 'Hospital') 0.9998109681839668\n",
      "('WashingMachine', 'TV') 0.9998036623981049\n",
      "('Microwave', 'DiningTable') 0.9997997158804585\n",
      "('TV', 'Sofa') 0.9997800442294572\n",
      "('AC', 'TV') 0.9997532008406925\n",
      "('AC', 'Sofa') 0.9997370542315939\n",
      "('WashingMachine', 'AC') 0.9997224044563847\n",
      "('Microwave', 'TV') 0.9997188307509117\n",
      "('Wifi', 'Wardrobe') 0.9997185328178068\n",
      "('AC', 'Refrigerator') 0.9997021683222399\n",
      "('ShoppingMall', 'Hospital') 0.9996898052244745\n",
      "('AC', 'Microwave') 0.9996831876451796\n",
      "('AC', 'DiningTable') 0.9996724797436025\n",
      "('Wifi', 'GolfCourse') 0.9996698444642917\n",
      "('GolfCourse', 'Wardrobe') 0.9996378937899524\n",
      "('ShoppingMall', 'School') 0.9995847179810065\n",
      "('BED', 'Sofa') 0.9995381872101737\n",
      "('WashingMachine', 'Wifi') 0.999519939922017\n",
      "('BED', 'TV') 0.9995145027662904\n",
      "('AC', 'BED') 0.9995079868083729\n",
      "('AC', 'Wardrobe') 0.9995043591618978\n",
      "('Sofa', 'Wardrobe') 0.9995037522944014\n",
      "('WashingMachine', 'Wardrobe') 0.9995033985973875\n",
      "('WashingMachine', 'BED') 0.9994935691538229\n",
      "('TV', 'Wardrobe') 0.9994872910031527\n",
      "('WashingMachine', 'GolfCourse') 0.999475616123804\n",
      "('BED', 'Microwave') 0.9994727583022573\n",
      "('Hospital', 'GolfCourse') 0.9994697508539148\n",
      "('BED', 'Refrigerator') 0.9994689590633663\n",
      "('BED', 'DiningTable') 0.9994618048116747\n",
      "('Wifi', 'Microwave') 0.9994617902165944\n",
      "('DiningTable', 'Wardrobe') 0.9994601415606356\n",
      "('Wifi', 'Sofa') 0.9994601135286488\n",
      "('Wardrobe', 'Refrigerator') 0.9994533483804166\n",
      "('Wifi', 'Refrigerator') 0.9994523475650355\n",
      "('Microwave', 'Wardrobe') 0.9994450975596753\n",
      "('ShoppingMall', 'ATM') 0.9994430180082382\n",
      "('ATM', 'Hospital') 0.9994417572575137\n",
      "('Wifi', 'DiningTable') 0.9994414069515036\n",
      "('Microwave', 'GolfCourse') 0.9994261063082414\n",
      "('ShoppingMall', 'GolfCourse') 0.9994226451191609\n",
      "('GolfCourse', 'Sofa') 0.9994136871711029\n",
      "('Hospital', 'Wifi') 0.9994115553534897\n",
      "('GolfCourse', 'Refrigerator') 0.9994076768330675\n",
      "('GolfCourse', 'DiningTable') 0.9993984612177919\n",
      "('Wifi', 'TV') 0.9993904373544583\n",
      "('School', 'GolfCourse') 0.9993663619624079\n",
      "('GolfCourse', 'TV') 0.9993633649738097\n",
      "('Hospital', 'Wardrobe') 0.9993626681510451\n",
      "('AC', 'Wifi') 0.9993453584484295\n",
      "('AC', 'GolfCourse') 0.9993144780160482\n",
      "('ATM', 'School') 0.9992983218376806\n",
      "('ShoppingMall', 'Wifi') 0.9992901794176766\n",
      "('BED', 'Wardrobe') 0.9992855986853594\n",
      "('School', 'Wifi') 0.999271259023335\n",
      "('School', 'Wardrobe') 0.999230805239827\n",
      "('ShoppingMall', 'Wardrobe') 0.9992176435382888\n",
      "('Hospital', 'WashingMachine') 0.9991511213030643\n",
      "('School', 'StaffQuarter') 0.9991260700461616\n",
      "('Cafeteria', 'GolfCourse') 0.999115967096121\n",
      "('ATM', 'GolfCourse') 0.9991133064508493\n",
      "('Wifi', 'BED') 0.9991125336363216\n",
      "('Hospital', 'Microwave') 0.999094268851102\n",
      "('Hospital', 'Sofa') 0.999083988118038\n",
      "('Hospital', 'Refrigerator') 0.9990776555441194\n",
      "('StaffQuarter', 'Hospital') 0.9990749783562821\n",
      "('BED', 'GolfCourse') 0.9990716182203201\n",
      "('Hospital', 'DiningTable') 0.9990640592651294\n",
      "('ATM', 'Wifi') 0.9990635561657437\n",
      "('School', 'WashingMachine') 0.9990235569619912\n",
      "('Hospital', 'TV') 0.9990235234155916\n",
      "('ShoppingMall', 'WashingMachine') 0.999022335226908\n",
      "('ATM', 'Wardrobe') 0.9990062526295733\n",
      "('ShoppingMall', 'StaffQuarter') 0.9990039843616411\n",
      "('Hospital', 'AC') 0.9989829127008432\n",
      "('School', 'Microwave') 0.9989667434024988\n",
      "('StaffQuarter', 'GolfCourse') 0.998964411332765\n",
      "('ShoppingMall', 'Microwave') 0.998961807328301\n",
      "('School', 'Sofa') 0.9989540265956034\n",
      "('ShoppingMall', 'Sofa') 0.9989508219555966\n",
      "('School', 'Refrigerator') 0.9989475455566297\n",
      "('ShoppingMall', 'Refrigerator') 0.998944328613915\n",
      "('School', 'DiningTable') 0.9989353540444096\n",
      "('ShoppingMall', 'DiningTable') 0.9989321057801248\n",
      "('Gasconnection', 'Microwave') 0.9989320238792203\n",
      "('Cafeteria', 'Wifi') 0.99891468250324\n",
      "('StaffQuarter', 'Wifi') 0.9989119561918396\n",
      "('ATM', 'StaffQuarter') 0.9989019533961546\n",
      "('School', 'TV') 0.9988921638904892\n",
      "('ShoppingMall', 'TV') 0.9988906302163291\n",
      "('WashingMachine', 'Gasconnection') 0.9988787002852915\n",
      "('Cafeteria', 'Wardrobe') 0.9988658421665254\n",
      "('ShoppingMall', 'AC') 0.9988586710923931\n",
      "('School', 'AC') 0.9988549974342432\n",
      "('Gasconnection', 'Sofa') 0.9988358739411562\n",
      "('ATM', 'WashingMachine') 0.9988326487863006\n",
      "('Gymnasium', 'SwimmingPool') 0.9988304137610883\n",
      "('ShoppingMall', 'Cafeteria') 0.9988227066154507\n",
      "('Gasconnection', 'AC') 0.9988176543959036\n",
      "('Gasconnection', 'Refrigerator') 0.99881403507597\n",
      "('Gasconnection', 'DiningTable') 0.9987995092870465\n",
      "('StaffQuarter', 'Wardrobe') 0.9987928964748203\n",
      "('Cafeteria', 'WashingMachine') 0.9987791389554537\n",
      "('ATM', 'Microwave') 0.9987764056944285\n",
      "('ATM', 'Cafeteria') 0.9987695155830059\n",
      "('ATM', 'Sofa') 0.9987607699455008\n",
      "('SwimmingPool', 'ClubHouse') 0.9987605402023468\n",
      "('ATM', 'Refrigerator') 0.9987522415505553\n",
      "('Hospital', 'BED') 0.9987502067176864\n",
      "('ATM', 'DiningTable') 0.9987411881318793\n",
      "('Cafeteria', 'Hospital') 0.9987410522110205\n",
      "('Gasconnection', 'TV') 0.9987400991151774\n",
      "('Cafeteria', 'Microwave') 0.998721211513897\n",
      "('Cafeteria', 'Sofa') 0.9986959695299151\n",
      "('ATM', 'TV') 0.9986947017680725\n",
      "('Cafeteria', 'Refrigerator') 0.9986926757503679\n",
      "('Cafeteria', 'DiningTable') 0.9986830524026538\n",
      "('StaffQuarter', 'WashingMachine') 0.9986688060429404\n",
      "('MaintenanceStaff', 'Wifi') 0.9986588285781609\n",
      "('MaintenanceStaff', 'GolfCourse') 0.9986507260858943\n",
      "('ATM', 'AC') 0.9986506513956379\n",
      "('Gasconnection', 'Wifi') 0.9986449489907786\n",
      "('Gymnasium', 'ClubHouse') 0.9986373982451252\n",
      "('Cafeteria', 'TV') 0.9986303325239354\n",
      "('MaintenanceStaff', 'Wardrobe') 0.9986264414320638\n",
      "('LandscapedGardens', 'JoggingTrack') 0.9986263781034816\n",
      "('StaffQuarter', 'VaastuCompliant') 0.9986243490014022\n",
      "('Gymnasium', \"Children'splayarea\") 0.9986104014975083\n",
      "('School', 'BED') 0.9986102457621348\n",
      "('StaffQuarter', 'Microwave') 0.9986094195052087\n",
      "('SwimmingPool', 'JoggingTrack') 0.9986043618020063\n",
      "('Cafeteria', 'AC') 0.9986005849260639\n",
      "('JoggingTrack', 'MultipurposeRoom') 0.9985988160964782\n",
      "('StaffQuarter', 'Refrigerator') 0.998596368987639\n",
      "('StaffQuarter', 'Sofa') 0.9985925956353742\n",
      "('School', 'Cafeteria') 0.9985865201833748\n",
      "('ShoppingMall', 'BED') 0.9985791635797155\n",
      "('StaffQuarter', 'DiningTable') 0.9985774511331664\n",
      "('IndoorGames', 'MultipurposeRoom') 0.9985730913226919\n",
      "('LandscapedGardens', 'IndoorGames') 0.9985489985892447\n",
      "('MaintenanceStaff', 'Hospital') 0.9985459006487266\n",
      "('MaintenanceStaff', 'ShoppingMall') 0.9985432821020114\n",
      "('JoggingTrack', 'IndoorGames') 0.9985408842693766\n",
      "('StaffQuarter', 'TV') 0.9985275861596021\n",
      "('Gasconnection', 'Wardrobe') 0.9985080544497426\n",
      "('StaffQuarter', 'AC') 0.9984944610552663\n",
      "('Gasconnection', 'GolfCourse') 0.9984890943366337\n",
      "('24X7Security', 'CarParking') 0.9984773852179065\n",
      "('Cafeteria', 'BED') 0.9984770986123065\n",
      "('SwimmingPool', 'IndoorGames') 0.9984309763820567\n",
      "('Gasconnection', 'BED') 0.9984302918035359\n",
      "('StaffQuarter', 'Cafeteria') 0.9984159558930819\n",
      "('RainWaterHarvesting', '24X7Security') 0.9984005154148698\n",
      "('MaintenanceStaff', 'BED') 0.9983997046653911\n",
      "('SwimmingPool', \"Children'splayarea\") 0.9983954419814209\n",
      "('JoggingTrack', '24X7Security') 0.9983951121356078\n",
      "('MaintenanceStaff', 'School') 0.9983938259986261\n",
      "('JoggingTrack', 'StaffQuarter') 0.9983874805691346\n",
      "('ATM', 'BED') 0.9983696620396147\n",
      "('ClubHouse', \"Children'splayarea\") 0.9983435605315834\n",
      "('MaintenanceStaff', 'WashingMachine') 0.9983230090665384\n",
      "('SwimmingPool', 'LandscapedGardens') 0.9983227947028748\n",
      "('MultipurposeRoom', 'GolfCourse') 0.9983201236352953\n",
      "('JoggingTrack', 'RainWaterHarvesting') 0.9983147480317521\n",
      "('MaintenanceStaff', 'ATM') 0.9982983805584091\n",
      "('Gymnasium', 'JoggingTrack') 0.9982954650633205\n",
      "('LandscapedGardens', 'MultipurposeRoom') 0.9982689976130277\n",
      "('SwimmingPool', 'MultipurposeRoom') 0.9982624852906615\n",
      "('MaintenanceStaff', 'Microwave') 0.9982610247733735\n",
      "('MaintenanceStaff', 'TV') 0.9982606342559125\n",
      "('MaintenanceStaff', 'Sofa') 0.998244341450207\n",
      "('JoggingTrack', 'ClubHouse') 0.9982432369528833\n",
      "('MaintenanceStaff', 'AC') 0.998242645685053\n",
      "('MaintenanceStaff', 'Refrigerator') 0.9982333509779454\n",
      "('IndoorGames', 'ATM') 0.9982202576637458\n",
      "('Hospital', 'Gasconnection') 0.9982199049730947\n",
      "('MaintenanceStaff', 'StaffQuarter') 0.9982170238033439\n",
      "('RainWaterHarvesting', 'IndoorGames') 0.9982158543806519\n",
      "('MaintenanceStaff', 'DiningTable') 0.9982134504853385\n",
      "('MaintenanceStaff', 'Cafeteria') 0.9982037029545856\n",
      "('Cafeteria', 'MultipurposeRoom') 0.998192219826091\n",
      "('StaffQuarter', 'BED') 0.9981890940722195\n",
      "('RainWaterHarvesting', 'StaffQuarter') 0.9981788618224011\n",
      "('SportsFacility', 'WashingMachine') 0.998177896337693\n",
      "('LandscapedGardens', 'RainWaterHarvesting') 0.9981660258446349\n",
      "('StaffQuarter', 'MultipurposeRoom') 0.9981618686384869\n",
      "('ShoppingMall', 'MultipurposeRoom') 0.9981538737331221\n",
      "('MultipurposeRoom', 'Wifi') 0.9981532430278486\n",
      "('IndoorGames', 'GolfCourse') 0.9981528815082104\n",
      "('School', 'MultipurposeRoom') 0.9981453009786192\n",
      "('SportsFacility', 'GolfCourse') 0.9981427859716938\n",
      "('IndoorGames', 'ClubHouse') 0.9981343763873524\n",
      "('RainWaterHarvesting', 'MultipurposeRoom') 0.9981318844697077\n",
      "('ShoppingMall', 'VaastuCompliant') 0.9981286526041913\n",
      "('SportsFacility', 'Microwave') 0.9981283740499121\n",
      "('RainWaterHarvesting', 'VaastuCompliant') 0.9981250682191428\n",
      "('SportsFacility', 'ClubHouse') 0.9981186139383774\n",
      "('IndoorGames', 'Cafeteria') 0.998114347552389\n",
      "('MultipurposeRoom', 'Hospital') 0.9981037903143282\n",
      "('SportsFacility', 'Sofa') 0.9981019843098342\n",
      "('JoggingTrack', 'VaastuCompliant') 0.9981001990309328\n",
      "('School', 'VaastuCompliant') 0.9980993664786064\n",
      "('Gymnasium', 'IndoorGames') 0.9980990163700477\n",
      "('LandscapedGardens', '24X7Security') 0.9980977668173151\n",
      "('ShoppingMall', 'Gasconnection') 0.9980903403246124\n",
      "('SportsFacility', 'Refrigerator') 0.9980808659825975\n",
      "('IndoorGames', 'ShoppingMall') 0.9980799752883186\n",
      "('ATM', 'MultipurposeRoom') 0.9980785015775043\n",
      "('SportsFacility', 'DiningTable') 0.9980767001107468\n",
      "('MultipurposeRoom', 'Wardrobe') 0.9980753869773202\n",
      "('Hospital', 'VaastuCompliant') 0.9980733156073871\n",
      "('School', 'Gasconnection') 0.9980712531658272\n",
      "('SportsFacility', 'AC') 0.9980600857950304\n",
      "('IndoorGames', 'StaffQuarter') 0.9980596537352302\n",
      "('JoggingTrack', \"Children'splayarea\") 0.998056392156483\n",
      "('Gymnasium', 'LandscapedGardens') 0.9980323777877996\n",
      "('SportsFacility', \"Children'splayarea\") 0.9980311411057987\n",
      "('JoggingTrack', 'ShoppingMall') 0.9980267946272905\n",
      "('SportsFacility', 'TV') 0.9980189140492068\n",
      "('MultipurposeRoom', 'WashingMachine') 0.9980166547527358\n",
      "('VaastuCompliant', 'GolfCourse') 0.9980166176665455\n",
      "('JoggingTrack', 'Cafeteria') 0.9980119833602634\n",
      "('IndoorGames', 'School') 0.9980099797893907\n",
      "('JoggingTrack', 'ATM') 0.9980058570397594\n",
      "('Wifi', 'VaastuCompliant') 0.9980057405290057\n",
      "('ATM', 'VaastuCompliant') 0.9980048407084088\n",
      "('IndoorGames', 'Wifi') 0.9979993181124571\n",
      "('JoggingTrack', 'School') 0.9979743253750524\n",
      "('IndoorGames', 'Hospital') 0.9979666570202347\n",
      "('SportsFacility', 'Wifi') 0.9979637665474744\n",
      "('SportsFacility', 'Cafeteria') 0.997956844704287\n",
      "('MultipurposeRoom', 'VaastuCompliant') 0.9979515821931121\n",
      "('MultipurposeRoom', 'Microwave') 0.9979468973420162\n",
      "('JoggingTrack', 'Hospital') 0.9979417445630598\n",
      "('MultipurposeRoom', 'Sofa') 0.9979327393439321\n",
      "('JoggingTrack', 'GolfCourse') 0.9979322902513145\n",
      "('MultipurposeRoom', 'Refrigerator') 0.9979265098162283\n",
      "('IndoorGames', \"Children'splayarea\") 0.997918782278874\n",
      "('MultipurposeRoom', 'DiningTable') 0.9979103286676853\n",
      "('IndoorGames', '24X7Security') 0.9979064137567489\n",
      "('Gymnasium', 'MultipurposeRoom') 0.9979024323735294\n",
      "('LandscapedGardens', 'ClubHouse') 0.9979019906453626\n",
      "('LandscapedGardens', \"Children'splayarea\") 0.9979018018930788\n",
      "('IndoorGames', 'Wardrobe') 0.9978949281332999\n",
      "('ClubHouse', 'MultipurposeRoom') 0.9978940715745199\n",
      "('24X7Security', 'StaffQuarter') 0.997888855061477\n",
      "('IndoorGames', 'WashingMachine') 0.9978818181981817\n",
      "('24X7Security', 'MultipurposeRoom') 0.9978781112258336\n",
      "('RainWaterHarvesting', 'CarParking') 0.9978779833900439\n",
      "('SportsFacility', 'Wardrobe') 0.9978775541809993\n",
      "('ATM', 'Gasconnection') 0.9978744427707404\n",
      "('LandscapedGardens', 'StaffQuarter') 0.997867645919107\n",
      "('MaintenanceStaff', '24X7Security') 0.9978635806679885\n",
      "('LandscapedGardens', 'GolfCourse') 0.9978635014640531\n",
      "('VaastuCompliant', 'Wardrobe') 0.9978622281783436\n",
      "('ClubHouse', 'StaffQuarter') 0.997857087735541\n",
      "('ShoppingMall', 'SportsFacility') 0.9978556420220701\n",
      "('MultipurposeRoom', 'TV') 0.9978488489899832\n",
      "('SportsFacility', 'ATM') 0.9978429735663714\n",
      "('LandscapedGardens', 'Cafeteria') 0.997840482543798\n",
      "('JoggingTrack', 'Wifi') 0.9978347773814018\n",
      "('ClubHouse', 'PowerBackup') 0.9978336969860794\n",
      "('LandscapedGardens', 'ATM') 0.9978297747698754\n",
      "('SwimmingPool', 'RainWaterHarvesting') 0.9978276877357116\n",
      "('RainWaterHarvesting', 'ATM') 0.9978270619526942\n",
      "('MultipurposeRoom', \"Children'splayarea\") 0.9978256462857747\n",
      "('SwimmingPool', 'StaffQuarter') 0.9978227183479841\n",
      "('SportsFacility', 'School') 0.9978222583768339\n",
      "('Intercom', 'SportsFacility') 0.9978222520259612\n",
      "('SportsFacility', 'Hospital') 0.9978176465939017\n",
      "('IndoorGames', 'Microwave') 0.9978157177127193\n",
      "('Gymnasium', 'PowerBackup') 0.9978144727754771\n",
      "('LandscapedGardens', 'ShoppingMall') 0.9978124287850085\n",
      "('MultipurposeRoom', 'AC') 0.9978042783930196\n",
      "('CarParking', 'StaffQuarter') 0.9978039619146504\n",
      "('LandscapedGardens', 'Wifi') 0.9978030697394027\n",
      "('SportsFacility', 'Gasconnection') 0.9977915692344488\n",
      "('SportsFacility', 'StaffQuarter') 0.9977859702849363\n",
      "('IndoorGames', 'Sofa') 0.9977856133199235\n",
      "('IndoorGames', 'Refrigerator') 0.9977845521025919\n",
      "('StaffQuarter', 'Gasconnection') 0.9977837661417485\n",
      "('RainWaterHarvesting', 'ShoppingMall') 0.9977832329571641\n",
      "('Wifi', 'LiftAvailable') 0.9977830877943358\n",
      "('LiftAvailable', 'GolfCourse') 0.9977823880056094\n",
      "('MaintenanceStaff', 'CarParking') 0.9977823320141168\n",
      "('Gymnasium', 'SportsFacility') 0.9977790575378116\n",
      "('SwimmingPool', 'SportsFacility') 0.9977774202932134\n",
      "('RainWaterHarvesting', 'School') 0.9977665356503154\n",
      "('IndoorGames', 'DiningTable') 0.9977657519228664\n",
      "('RainWaterHarvesting', 'GolfCourse') 0.9977652104020804\n",
      "('SwimmingPool', 'Cafeteria') 0.9977643820473039\n",
      "('LandscapedGardens', 'School') 0.9977455249454896\n",
      "('24X7Security', 'VaastuCompliant') 0.9977454414626246\n",
      "('Cafeteria', 'Gasconnection') 0.9977394733110443\n",
      "('RainWaterHarvesting', 'Wifi') 0.9977365806540498\n",
      "('RainWaterHarvesting', 'Hospital') 0.9977235839863856\n",
      "('Intercom', \"Children'splayarea\") 0.9977219507358912\n",
      "('LiftAvailable', 'Wardrobe') 0.9977117385267872\n",
      "('Intercom', 'ClubHouse') 0.9977108038956696\n",
      "('PowerBackup', 'LiftAvailable') 0.9977064397219957\n",
      "('SwimmingPool', 'ATM') 0.9977052199224169\n",
      "('PowerBackup', \"Children'splayarea\") 0.9976983107339928\n",
      "('LandscapedGardens', 'Hospital') 0.9976974522305116\n",
      "('24X7Security', 'Cafeteria') 0.9976961922409243\n",
      "('IndoorGames', 'TV') 0.9976951060802312\n",
      "('RainWaterHarvesting', 'ClubHouse') 0.9976938179171467\n",
      "('ATM', 'ClubHouse') 0.9976916114152432\n",
      "('WashingMachine', 'LiftAvailable') 0.9976881482993234\n",
      "('Gymnasium', '24X7Security') 0.9976880665977892\n",
      "('LandscapedGardens', 'VaastuCompliant') 0.9976870969410304\n",
      "('WashingMachine', 'VaastuCompliant') 0.9976830769829281\n",
      "('24X7Security', 'PowerBackup') 0.997681941193029\n",
      "('School', '24X7Security') 0.9976757701211979\n",
      "('IndoorGames', 'VaastuCompliant') 0.9976725554317455\n",
      "('JoggingTrack', 'WashingMachine') 0.9976725349551064\n",
      "('LandscapedGardens', 'Wardrobe') 0.997672166869233\n",
      "('SwimmingPool', 'GolfCourse') 0.9976708761860462\n",
      "('SwimmingPool', 'ShoppingMall') 0.9976706608323642\n",
      "('ShoppingMall', '24X7Security') 0.9976700685323502\n",
      "('ClubHouse', 'GolfCourse') 0.9976678247464914\n",
      "('LiftAvailable', 'DiningTable') 0.9976651659966439\n",
      "('JoggingTrack', 'Wardrobe') 0.9976605437519722\n",
      "('LiftAvailable', 'Refrigerator') 0.9976589226493139\n",
      "('RainWaterHarvesting', 'Wardrobe') 0.9976564104400611\n",
      "('IndoorGames', 'AC') 0.9976538746152319\n",
      "('SwimmingPool', '24X7Security') 0.9976506588446509\n",
      "('LiftAvailable', 'Sofa') 0.9976506167007433\n",
      "('24X7Security', 'Hospital') 0.9976505986899576\n",
      "('LiftAvailable', 'Microwave') 0.9976374448837405\n",
      "('LandscapedGardens', 'WashingMachine') 0.9976286628846265\n",
      "('ShoppingMall', 'ClubHouse') 0.9976240332635852\n",
      "('LandscapedGardens', 'CarParking') 0.9976235304222955\n",
      "('Hospital', 'LiftAvailable') 0.9976198655569499\n",
      "('ATM', 'CarParking') 0.9976167410219263\n",
      "('VaastuCompliant', 'Microwave') 0.9976161207295399\n",
      "('JoggingTrack', 'CarParking') 0.9976154367317909\n",
      "('ATM', '24X7Security') 0.9976151138495567\n",
      "('Gymnasium', 'Cafeteria') 0.9976091268781948\n",
      "('PowerBackup', 'Wifi') 0.9976014862514071\n",
      "('VaastuCompliant', 'Sofa') 0.997601437815126\n",
      "('ClubHouse', 'Cafeteria') 0.9976000115490554\n",
      "('CarParking', 'VaastuCompliant') 0.9975999305073784\n",
      "('VaastuCompliant', 'Refrigerator') 0.997598335624633\n",
      "('ClubHouse', 'Microwave') 0.9975965170662946\n",
      "('RainWaterHarvesting', 'PowerBackup') 0.9975934095802156\n",
      "('JoggingTrack', 'Microwave') 0.997592517272735\n",
      "('SwimmingPool', 'WashingMachine') 0.9975911230742546\n",
      "('LandscapedGardens', 'Sofa') 0.9975907834316438\n",
      "('ClubHouse', 'WashingMachine') 0.9975880805978523\n",
      "('SwimmingPool', 'PowerBackup') 0.9975848890260323\n",
      "('Cafeteria', 'VaastuCompliant') 0.9975841734009516\n",
      "('24X7Security', 'GolfCourse') 0.997580551989241\n",
      "('PowerBackup', 'GolfCourse') 0.9975784796448784\n",
      "('SportsFacility', 'BED') 0.9975772811039553\n",
      "('LiftAvailable', 'TV') 0.9975770128034845\n",
      "('JoggingTrack', 'Sofa') 0.9975763859727113\n",
      "('VaastuCompliant', 'DiningTable') 0.997573454261607\n",
      "('24X7Security', 'Wifi') 0.9975732401449194\n",
      "('JoggingTrack', 'Refrigerator') 0.9975729691397653\n",
      "('School', 'LiftAvailable') 0.9975652598048701\n",
      "('MaintenanceStaff', 'RainWaterHarvesting') 0.9975640880762702\n",
      "('ShoppingMall', 'CarParking') 0.9975594318414954\n",
      "('PowerBackup', 'Wardrobe') 0.9975569991376108\n",
      "('JoggingTrack', 'DiningTable') 0.9975563875281752\n",
      "('School', 'CarParking') 0.9975561932230007\n",
      "('CarParking', 'Wifi') 0.9975559249080324\n",
      "('CarParking', 'GolfCourse') 0.9975552520495681\n",
      "('LandscapedGardens', 'Microwave') 0.9975523794679834\n",
      "('24X7Security', 'Wardrobe') 0.997551514237183\n",
      "('Intercom', 'Microwave') 0.9975498145639283\n",
      "('CarParking', 'Hospital') 0.9975486409162132\n",
      "('SwimmingPool', 'Wifi') 0.9975477492517232\n",
      "('Gymnasium', 'RainWaterHarvesting') 0.9975472272389374\n",
      "('CarParking', 'Wardrobe') 0.9975467953806483\n",
      "('StaffQuarter', 'LiftAvailable') 0.9975458267289335\n",
      "('SportsFacility', 'MultipurposeRoom') 0.9975453943574932\n",
      "('LandscapedGardens', 'Refrigerator') 0.9975449098757155\n",
      "('LandscapedGardens', 'DiningTable') 0.9975445057867097\n",
      "('ClubHouse', 'Wifi') 0.997542957668147\n",
      "('SwimmingPool', 'School') 0.9975398574167564\n",
      "('PowerBackup', 'WashingMachine') 0.9975378994168866\n",
      "('PowerBackup', 'Microwave') 0.9975345246665168\n",
      "('SwimmingPool', 'Hospital') 0.997529064337921\n",
      "('Intercom', 'WashingMachine') 0.9975279906517466\n",
      "('ShoppingMall', 'LiftAvailable') 0.9975274332974006\n",
      "('SwimmingPool', 'Sofa') 0.997523076684366\n",
      "('Gymnasium', 'StaffQuarter') 0.9975230715311871\n",
      "('PowerBackup', 'DiningTable') 0.9975210085575266\n",
      "('ClubHouse', 'School') 0.9975193065738422\n",
      "('RainWaterHarvesting', 'Cafeteria') 0.9975169790482221\n",
      "('ClubHouse', 'Hospital') 0.9975136409083274\n",
      "('Gymnasium', 'GolfCourse') 0.9975111156056823\n",
      "('Intercom', 'GolfCourse') 0.9975086739529407\n",
      "(\"Children'splayarea\", 'GolfCourse') 0.9975082601523937\n",
      "('PowerBackup', 'Refrigerator') 0.9975075954391982\n",
      "('AC', 'LiftAvailable') 0.9975045406865044\n",
      "('SwimmingPool', 'Microwave') 0.9975037012724766\n",
      "('SwimmingPool', 'DiningTable') 0.9975021947094325\n",
      "('VaastuCompliant', 'TV') 0.9975014101134319\n",
      "('RainWaterHarvesting', 'WashingMachine') 0.9974989233942081\n",
      "('PowerBackup', 'StaffQuarter') 0.9974961529223874\n",
      "('ATM', 'LiftAvailable') 0.997495860844665\n",
      "('SwimmingPool', 'VaastuCompliant') 0.9974937390232087\n",
      "('SwimmingPool', 'Intercom') 0.9974935364732457\n",
      "('ClubHouse', 'Sofa') 0.997493329523371\n",
      "('IndoorGames', 'SportsFacility') 0.9974923159249638\n",
      "('Gymnasium', 'Intercom') 0.9974863250615268\n",
      "('AC', 'VaastuCompliant') 0.9974847333485312\n",
      "('PowerBackup', 'TV') 0.9974826658604258\n",
      "('SwimmingPool', 'Refrigerator') 0.9974799931053835\n",
      "('PowerBackup', 'Sofa') 0.9974797131713404\n",
      "('ClubHouse', 'VaastuCompliant') 0.9974755581711727\n",
      "('JoggingTrack', 'TV') 0.9974749569697398\n",
      "('ClubHouse', 'Refrigerator') 0.9974742889057352\n",
      "('ClubHouse', 'DiningTable') 0.9974722784713577\n",
      "('CarParking', 'Cafeteria') 0.9974683231756987\n",
      "('WashingMachine', \"Children'splayarea\") 0.9974633268338404\n",
      "('PowerBackup', 'Hospital') 0.9974599223189853\n",
      "('Intercom', 'Wifi') 0.9974587638271193\n",
      "('Gymnasium', 'ATM') 0.9974536074720859\n",
      "('Gymnasium', 'ShoppingMall') 0.9974530831186357\n",
      "('Intercom', 'PowerBackup') 0.9974485776628981\n",
      "('SwimmingPool', 'Wardrobe') 0.9974419599679609\n",
      "('LandscapedGardens', 'PowerBackup') 0.9974417179490922\n",
      "('Intercom', 'Sofa') 0.9974356416062773\n",
      "('MultipurposeRoom', 'BED') 0.997435399228143\n",
      "('ClubHouse', '24X7Security') 0.9974341774102918\n",
      "('JoggingTrack', 'AC') 0.9974320894339027\n",
      "('ShoppingMall', 'PowerBackup') 0.997430825239848\n",
      "('LandscapedGardens', 'TV') 0.9974290142316937\n",
      "('JoggingTrack', 'PowerBackup') 0.9974246902066204\n",
      "('Gymnasium', 'Wifi') 0.9974240754170788\n",
      "('StaffQuarter', \"Children'splayarea\") 0.9974231170244258\n",
      "('MaintenanceStaff', 'VaastuCompliant') 0.997422338633117\n",
      "('School', 'PowerBackup') 0.9974189562042293\n",
      "('RainWaterHarvesting', 'Sofa') 0.9974157969889053\n",
      "('RainWaterHarvesting', \"Children'splayarea\") 0.9974155390711137\n",
      "('Intercom', 'Refrigerator') 0.9974125250199145\n",
      "('Gymnasium', 'WashingMachine') 0.9974108836470925\n",
      "('Wifi', \"Children'splayarea\") 0.9974098111691801\n",
      "('RainWaterHarvesting', 'Microwave') 0.997407580158345\n",
      "('PowerBackup', 'AC') 0.9974070776712681\n",
      "('LandscapedGardens', 'AC') 0.9974063336106164\n",
      "('Intercom', 'DiningTable') 0.9974060477034357\n",
      "('RainWaterHarvesting', 'Refrigerator') 0.9974046888866293\n",
      "('ShoppingMall', \"Children'splayarea\") 0.9974046134648714\n",
      "('Cafeteria', \"Children'splayarea\") 0.9974017355758056\n",
      "('IndoorGames', 'CarParking') 0.9974016788455529\n",
      "(\"Children'splayarea\", 'Microwave') 0.9973981279446896\n",
      "('RainWaterHarvesting', 'TV') 0.9973922823807522\n",
      "('RainWaterHarvesting', 'DiningTable') 0.9973835657230887\n",
      "('Gymnasium', 'School') 0.9973816330472718\n",
      "('ClubHouse', 'Wardrobe') 0.9973815265294846\n",
      "('Gymnasium', 'Hospital') 0.9973810895689669\n",
      "('LiftAvailable', 'BED') 0.9973801902585292\n",
      "('ATM', 'PowerBackup') 0.9973791724386053\n",
      "('ClubHouse', 'AC') 0.9973786950497509\n",
      "('ATM', \"Children'splayarea\") 0.9973765011376258\n",
      "('School', \"Children'splayarea\") 0.9973743897541284\n",
      "('JoggingTrack', 'SportsFacility') 0.9973707448674474\n",
      "('RainWaterHarvesting', 'AC') 0.9973655359207237\n",
      "('Hospital', \"Children'splayarea\") 0.9973642132309027\n",
      "('ClubHouse', 'TV') 0.9973634117807787\n",
      "('Intercom', 'AC') 0.9973625791242071\n",
      "('Gymnasium', 'Sofa') 0.9973619623366081\n",
      "('CarParking', 'MultipurposeRoom') 0.9973615613339846\n",
      "('ShoppingMall', 'Intercom') 0.9973611221616971\n",
      "('MaintenanceStaff', 'Gasconnection') 0.997356109757641\n",
      "('SwimmingPool', 'AC') 0.9973556885256382\n",
      "(\"Children'splayarea\", 'Sofa') 0.9973555795634795\n",
      "('SwimmingPool', 'TV') 0.9973546991052065\n",
      "('SportsFacility', 'PowerBackup') 0.9973532591975528\n",
      "(\"Children'splayarea\", 'Refrigerator') 0.9973411212413926\n",
      "(\"Children'splayarea\", 'DiningTable') 0.9973350439456686\n",
      "('Intercom', 'StaffQuarter') 0.9973324342383207\n",
      "('JoggingTrack', 'Intercom') 0.9973269065574107\n",
      "('24X7Security', 'WashingMachine') 0.9973235887199398\n",
      "('Intercom', 'Wardrobe') 0.9973219262339931\n",
      "('Gymnasium', 'DiningTable') 0.9973149004395805\n",
      "('Gymnasium', 'Microwave') 0.9973129223882488\n",
      "('Intercom', 'TV') 0.997311896529722\n",
      "('MaintenanceStaff', 'MultipurposeRoom') 0.9973117774557084\n",
      "('Intercom', 'Hospital') 0.9972999022455376\n",
      "('PowerBackup', 'CarParking') 0.9972986857231195\n",
      "('Gymnasium', 'Refrigerator') 0.9972911308210478\n",
      "('LandscapedGardens', 'SportsFacility') 0.9972900648061394\n",
      "('Gymnasium', 'Wardrobe') 0.9972900391969045\n",
      "('AC', \"Children'splayarea\") 0.9972882054771877\n",
      "('Cafeteria', 'LiftAvailable') 0.9972847977461241\n",
      "('24X7Security', 'Sofa') 0.9972834375366071\n",
      "('24X7Security', 'BED') 0.997272912923208\n",
      "('IndoorGames', 'BED') 0.9972688940792329\n",
      "('IndoorGames', 'PowerBackup') 0.9972668851795201\n",
      "('PowerBackup', 'MultipurposeRoom') 0.9972527893746456\n",
      "('LandscapedGardens', 'Intercom') 0.9972500911198672\n",
      "('Intercom', 'School') 0.9972493719810067\n",
      "('IndoorGames', 'Intercom') 0.997245335385354\n",
      "('24X7Security', 'Microwave') 0.9972449870256626\n",
      "(\"Children'splayarea\", 'Wardrobe') 0.9972424274959377\n",
      "(\"Children'splayarea\", 'TV') 0.9972351506257362\n",
      "('CarParking', 'BED') 0.9972336323503678\n",
      "('24X7Security', 'Refrigerator') 0.9972305542013543\n",
      "('24X7Security', 'DiningTable') 0.9972278149881758\n",
      "('CarParking', 'WashingMachine') 0.9972268932493936\n",
      "('Intercom', 'Cafeteria') 0.9972027759026504\n",
      "('CarParking', 'Sofa') 0.997199281084863\n",
      "('Gymnasium', 'AC') 0.9971972378230082\n",
      "('Intercom', 'MultipurposeRoom') 0.997191922821188\n",
      "('24X7Security', 'TV') 0.9971914347589237\n",
      "('24X7Security', 'AC') 0.9971900522645191\n",
      "('Gymnasium', 'TV') 0.9971882536366253\n",
      "('PowerBackup', 'Cafeteria') 0.997186680126768\n",
      "('PowerBackup', 'BED') 0.9971701897439537\n",
      "('MaintenanceStaff', 'PowerBackup') 0.9971678228715669\n",
      "('MaintenanceStaff', 'LandscapedGardens') 0.9971635380376066\n",
      "('Intercom', 'ATM') 0.997156670490207\n",
      "('Gymnasium', 'VaastuCompliant') 0.9971563228116219\n",
      "('CarParking', 'Microwave') 0.9971539428281587\n",
      "('CarParking', 'Refrigerator') 0.9971480304995173\n",
      "('MaintenanceStaff', 'IndoorGames') 0.997138984563996\n",
      "('CarParking', 'DiningTable') 0.997133739080204\n",
      "('BED', 'VaastuCompliant') 0.9971288111060421\n",
      "('MaintenanceStaff', 'JoggingTrack') 0.9971251159860997\n",
      "('CarParking', 'TV') 0.9971151414268267\n",
      "('CarParking', 'AC') 0.99711190569589\n",
      "('SportsFacility', 'LiftAvailable') 0.9971083876455291\n",
      "('LiftAvailable', 'VaastuCompliant') 0.9971072263681463\n",
      "('Intercom', 'Gasconnection') 0.9971043214439945\n",
      "('Gymnasium', 'BED') 0.9971027951622214\n",
      "('LandscapedGardens', 'BED') 0.9971020131557229\n",
      "('ClubHouse', 'BED') 0.9971011177269894\n",
      "('ClubHouse', 'LiftAvailable') 0.9971010615922925\n",
      "('Intercom', 'LiftAvailable') 0.9970983860150037\n",
      "('Gymnasium', 'LiftAvailable') 0.997088423650728\n",
      "(\"Children'splayarea\", 'VaastuCompliant') 0.9970836532746659\n",
      "('RainWaterHarvesting', 'SportsFacility') 0.9970825988724079\n",
      "('24X7Security', \"Children'splayarea\") 0.9970693562665196\n",
      "('SwimmingPool', 'CarParking') 0.9970655703781536\n",
      "('JoggingTrack', 'BED') 0.9970348314370004\n",
      "(\"Children'splayarea\", 'LiftAvailable') 0.9970321828403921\n",
      "('ClubHouse', 'CarParking') 0.9970313253767508\n",
      "('MaintenanceStaff', 'SportsFacility') 0.9970191846577067\n",
      "('Gasconnection', \"Children'splayarea\") 0.9970024872326155\n",
      "('MaintenanceStaff', 'LiftAvailable') 0.996997317167564\n",
      "('RainWaterHarvesting', 'Intercom') 0.9969957759483982\n",
      "('PowerBackup', 'VaastuCompliant') 0.9969824083389588\n",
      "('Gasconnection', 'LiftAvailable') 0.9969743332237788\n",
      "('Gymnasium', 'CarParking') 0.996964113527828\n",
      "('RainWaterHarvesting', 'BED') 0.9969622188049693\n",
      "('Intercom', 'VaastuCompliant') 0.9969404367590186\n",
      "('IndoorGames', 'LiftAvailable') 0.9969310670091709\n",
      "('SwimmingPool', 'LiftAvailable') 0.9969309208519587\n",
      "('SwimmingPool', 'BED') 0.9969094283195525\n",
      "('SportsFacility', 'VaastuCompliant') 0.9968911790651404\n",
      "('LandscapedGardens', 'LiftAvailable') 0.9968911720325747\n",
      "('PowerBackup', 'Gasconnection') 0.9968904437945069\n",
      "('RainWaterHarvesting', 'LiftAvailable') 0.9968840124076968\n",
      "('CarParking', 'LiftAvailable') 0.9968748255106373\n",
      "('ClubHouse', 'Gasconnection') 0.9968746937958269\n",
      "('MultipurposeRoom', 'Gasconnection') 0.9968705360321015\n",
      "('MaintenanceStaff', 'ClubHouse') 0.9968469330632794\n",
      "('24X7Security', 'LiftAvailable') 0.9968360470378901\n",
      "('Intercom', 'BED') 0.9968264071757278\n",
      "('MultipurposeRoom', 'LiftAvailable') 0.9968214475262873\n",
      "('JoggingTrack', 'LiftAvailable') 0.9968116984732602\n",
      "('MaintenanceStaff', 'Gymnasium') 0.9967032960361647\n",
      "(\"Children'splayarea\", 'BED') 0.9966896175844995\n",
      "('Gasconnection', 'VaastuCompliant') 0.9966787391582645\n",
      "('MaintenanceStaff', 'Intercom') 0.9966758817020677\n",
      "('IndoorGames', 'Gasconnection') 0.996654356812751\n",
      "('Intercom', '24X7Security') 0.9966099332879207\n",
      "('SportsFacility', '24X7Security') 0.9966039457647895\n",
      "('LandscapedGardens', 'Gasconnection') 0.9966011156542449\n",
      "('MaintenanceStaff', 'SwimmingPool') 0.9965743271745747\n",
      "('JoggingTrack', 'Gasconnection') 0.9965241347805156\n",
      "('Gymnasium', 'Gasconnection') 0.9964728993701548\n",
      "('RainWaterHarvesting', 'Gasconnection') 0.996457322012423\n",
      "('SportsFacility', 'CarParking') 0.9964328874258803\n",
      "('CarParking', \"Children'splayarea\") 0.996405988647077\n",
      "('SwimmingPool', 'Gasconnection') 0.99635634826517\n",
      "('MaintenanceStaff', \"Children'splayarea\") 0.9963166253482283\n",
      "('Intercom', 'CarParking') 0.9961966560928662\n",
      "('CarParking', 'Gasconnection') 0.9961065230770831\n",
      "('24X7Security', 'Gasconnection') 0.996092233880654\n"
     ]
    }
   ],
   "source": [
    "for index, value in sol.items():\n",
    "    if (value > 0.9):\n",
    "        print(index, value)"
   ]
  },
  {
   "cell_type": "markdown",
   "metadata": {},
   "source": [
    "## Corelation between Price and Area"
   ]
  },
  {
   "cell_type": "code",
   "execution_count": 97,
   "metadata": {},
   "outputs": [
    {
     "data": {
      "text/html": [
       "<div>\n",
       "<style scoped>\n",
       "    .dataframe tbody tr th:only-of-type {\n",
       "        vertical-align: middle;\n",
       "    }\n",
       "\n",
       "    .dataframe tbody tr th {\n",
       "        vertical-align: top;\n",
       "    }\n",
       "\n",
       "    .dataframe thead th {\n",
       "        text-align: right;\n",
       "    }\n",
       "</style>\n",
       "<table border=\"1\" class=\"dataframe\">\n",
       "  <thead>\n",
       "    <tr style=\"text-align: right;\">\n",
       "      <th></th>\n",
       "      <th>Price</th>\n",
       "      <th>Area</th>\n",
       "    </tr>\n",
       "  </thead>\n",
       "  <tbody>\n",
       "    <tr>\n",
       "      <th>Price</th>\n",
       "      <td>1.000000</td>\n",
       "      <td>0.295062</td>\n",
       "    </tr>\n",
       "    <tr>\n",
       "      <th>Area</th>\n",
       "      <td>0.295062</td>\n",
       "      <td>1.000000</td>\n",
       "    </tr>\n",
       "  </tbody>\n",
       "</table>\n",
       "</div>"
      ],
      "text/plain": [
       "          Price      Area\n",
       "Price  1.000000  0.295062\n",
       "Area   0.295062  1.000000"
      ]
     },
     "execution_count": 97,
     "metadata": {},
     "output_type": "execute_result"
    }
   ],
   "source": [
    "data[['Price','Area']].corr()"
   ]
  },
  {
   "cell_type": "code",
   "execution_count": 98,
   "metadata": {
    "scrolled": true
   },
   "outputs": [
    {
     "data": {
      "text/plain": [
       "<matplotlib.axes._subplots.AxesSubplot at 0x21e55b40648>"
      ]
     },
     "execution_count": 98,
     "metadata": {},
     "output_type": "execute_result"
    },
    {
     "data": {
      "image/png": "[encoded data removed]",
      "text/plain": [
       "<Figure size 1080x576 with 2 Axes>"
      ]
     },
     "metadata": {},
     "output_type": "display_data"
    }
   ],
   "source": [
    "hm = data[['Price', 'Area', 'Number_Bedrooms', 'Resale',\n",
    "       'MaintenanceStaff', 'Gymnasium', 'SwimmingPool', 'LandscapedGardens',\n",
    "       'JoggingTrack', 'RainWaterHarvesting', 'IndoorGames', 'ShoppingMall',\n",
    "       'Intercom', 'SportsFacility', 'ATM', 'ClubHouse', 'School'\n",
    "       ]]\n",
    "plt.figure(figsize=(15,8))\n",
    "sns.heatmap(hm.corr(),annot=True)"
   ]
  },
  {
   "cell_type": "code",
   "execution_count": null,
   "metadata": {},
   "outputs": [],
   "source": []
  },
  {
   "cell_type": "code",
   "execution_count": null,
   "metadata": {},
   "outputs": [],
   "source": []
  },
  {
   "cell_type": "code",
   "execution_count": null,
   "metadata": {},
   "outputs": [],
   "source": []
  },
  {
   "cell_type": "code",
   "execution_count": null,
   "metadata": {},
   "outputs": [],
   "source": []
  },
  {
   "cell_type": "code",
   "execution_count": null,
   "metadata": {},
   "outputs": [],
   "source": []
  },
  {
   "cell_type": "code",
   "execution_count": null,
   "metadata": {},
   "outputs": [],
   "source": []
  },
  {
   "cell_type": "code",
   "execution_count": null,
   "metadata": {},
   "outputs": [],
   "source": [
    "\n"
   ]
  },
  {
   "cell_type": "code",
   "execution_count": null,
   "metadata": {},
   "outputs": [],
   "source": []
  },
  {
   "cell_type": "code",
   "execution_count": null,
   "metadata": {},
   "outputs": [],
   "source": []
  },
  {
   "cell_type": "code",
   "execution_count": null,
   "metadata": {},
   "outputs": [],
   "source": []
  },
  {
   "cell_type": "code",
   "execution_count": null,
   "metadata": {},
   "outputs": [],
   "source": []
  },
  {
   "cell_type": "code",
   "execution_count": null,
   "metadata": {},
   "outputs": [],
   "source": [
    "\n"
   ]
  },
  {
   "cell_type": "code",
   "execution_count": null,
   "metadata": {},
   "outputs": [],
   "source": []
  },
  {
   "cell_type": "code",
   "execution_count": null,
   "metadata": {},
   "outputs": [],
   "source": []
  }
 ],
 "metadata": {
  "kernelspec": {
   "display_name": "Python 3",
   "language": "python",
   "name": "python3"
  },
  "language_info": {
   "codemirror_mode": {
    "name": "ipython",
    "version": 3
   },
   "file_extension": ".py",
   "mimetype": "text/x-python",
   "name": "python",
   "nbconvert_exporter": "python",
   "pygments_lexer": "ipython3",
   "version": "3.7.7"
  }
 },
 "nbformat": 4,
 "nbformat_minor": 4
}

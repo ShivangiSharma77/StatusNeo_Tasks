{
  "nbformat": 4,
  "nbformat_minor": 0,
  "metadata": {
    "colab": {
      "name": "Bitcoin_EDA_Prediction.ipynb",
      "provenance": [],
      "collapsed_sections": []
    },
    "kernelspec": {
      "name": "python3",
      "display_name": "Python 3"
    },
    "language_info": {
      "name": "python"
    }
  },
  "cells": [
    {
      "cell_type": "markdown",
      "metadata": {
        "id": "lsBHXkkAGslz"
      },
      "source": [
        "# Exploratory Data Analysis (EDA) and Prediction on Bitcoin cryptocurrency"
      ]
    },
    {
      "cell_type": "markdown",
      "metadata": {
        "id": "HSq35Ex6ggyp"
      },
      "source": [
        "## Importing necessary libraries\n",
        "\n",
        "---\n",
        "\n",
        "\n",
        "\n",
        "\n"
      ]
    },
    {
      "cell_type": "code",
      "metadata": {
        "colab": {
          "base_uri": "https://localhost:8080/"
        },
        "id": "tHAjn24XLo8L",
        "outputId": "0876a446-bbd1-4d31-9c0f-4a904efa6fda"
      },
      "source": [
        "import numpy as np\n",
        "import pandas as pd\n",
        "import matplotlib.pyplot as plt\n",
        "import seaborn as sns\n",
        "import plotly.graph_objs as go\n",
        "import plotly.express as px\n",
        "import plotly.figure_factory as ff\n",
        "from plotly.subplots import make_subplots\n",
        "%matplotlib inline\n",
        "\n",
        "# To hide warnings\n",
        "import warnings\n",
        "warnings.filterwarnings('ignore')\n",
        "\n",
        "# Import for datareading:\n",
        "import pandas_datareader as web\n",
        "from pandas_datareader import data, wb\n",
        "import requests\n",
        "import datetime, dateutil.relativedelta\n",
        "%pip install --upgrade mplfinance\n",
        "import mplfinance as mpl\n",
        "\n",
        "# Import tensorflow and keras:\n",
        "import tensorflow as tf\n",
        "from tensorflow import keras\n",
        "from tensorflow.keras import layers\n",
        "assert tf.__version__ >= \"2.0\"\n",
        "from sklearn.preprocessing import MinMaxScaler\n",
        "from tensorflow.keras.layers import  Dropout, Dense, LSTM\n",
        "from tensorflow.keras.models import Sequential\n",
        "\n",
        "# Initilise scaler:\n",
        "scaler = MinMaxScaler()"
      ],
      "execution_count": 2,
      "outputs": [
        {
          "output_type": "stream",
          "text": [
            "Collecting mplfinance\n",
            "\u001b[?25l  Downloading https://files.pythonhosted.org/packages/44/fe/9a4018a4bed7264ecc630c373cbf3315711944bf93ebd8e2fa1279a04262/mplfinance-0.12.7a12-py3-none-any.whl (61kB)\n",
            "\r\u001b[K     |█████▎                          | 10kB 12.1MB/s eta 0:00:01\r\u001b[K     |██████████▋                     | 20kB 17.9MB/s eta 0:00:01\r\u001b[K     |████████████████                | 30kB 10.8MB/s eta 0:00:01\r\u001b[K     |█████████████████████▎          | 40kB 9.1MB/s eta 0:00:01\r\u001b[K     |██████████████████████████▋     | 51kB 8.5MB/s eta 0:00:01\r\u001b[K     |████████████████████████████████| 61kB 8.9MB/s eta 0:00:01\r\u001b[K     |████████████████████████████████| 71kB 4.9MB/s \n",
            "\u001b[?25hRequirement already satisfied, skipping upgrade: matplotlib in /usr/local/lib/python3.7/dist-packages (from mplfinance) (3.2.2)\n",
            "Requirement already satisfied, skipping upgrade: pandas in /usr/local/lib/python3.7/dist-packages (from mplfinance) (1.1.5)\n",
            "Requirement already satisfied, skipping upgrade: pyparsing!=2.0.4,!=2.1.2,!=2.1.6,>=2.0.1 in /usr/local/lib/python3.7/dist-packages (from matplotlib->mplfinance) (2.4.7)\n",
            "Requirement already satisfied, skipping upgrade: python-dateutil>=2.1 in /usr/local/lib/python3.7/dist-packages (from matplotlib->mplfinance) (2.8.1)\n",
            "Requirement already satisfied, skipping upgrade: numpy>=1.11 in /usr/local/lib/python3.7/dist-packages (from matplotlib->mplfinance) (1.19.5)\n",
            "Requirement already satisfied, skipping upgrade: cycler>=0.10 in /usr/local/lib/python3.7/dist-packages (from matplotlib->mplfinance) (0.10.0)\n",
            "Requirement already satisfied, skipping upgrade: kiwisolver>=1.0.1 in /usr/local/lib/python3.7/dist-packages (from matplotlib->mplfinance) (1.3.1)\n",
            "Requirement already satisfied, skipping upgrade: pytz>=2017.2 in /usr/local/lib/python3.7/dist-packages (from pandas->mplfinance) (2018.9)\n",
            "Requirement already satisfied, skipping upgrade: six>=1.5 in /usr/local/lib/python3.7/dist-packages (from python-dateutil>=2.1->matplotlib->mplfinance) (1.15.0)\n",
            "Installing collected packages: mplfinance\n",
            "Successfully installed mplfinance-0.12.7a12\n"
          ],
          "name": "stdout"
        }
      ]
    },
    {
      "cell_type": "markdown",
      "metadata": {
        "id": "lYat4AjLkQBr"
      },
      "source": [
        "## Reading recent data from Yahoo Finance\n",
        "\n",
        "\n",
        "---\n",
        "\n",
        "\n",
        "\n",
        "\n",
        "\n",
        "\n"
      ]
    },
    {
      "cell_type": "code",
      "metadata": {
        "id": "ZC4hTarxOCo7"
      },
      "source": [
        "# Bitcoin data from today till past 2 year ago:\n",
        "end = datetime.datetime.now()\n",
        "end_t = datetime.datetime.now().strftime('%Y-%m-%d')\n",
        "start = datetime.datetime(end.year - 2,end.month,end.day).strftime('%Y-%m-%d')"
      ],
      "execution_count": 3,
      "outputs": []
    },
    {
      "cell_type": "code",
      "metadata": {
        "id": "UHt5zK1ZOHLS"
      },
      "source": [
        "# Bitcoin data in INR \n",
        "bitcoin = globals()['BTC-INR'] = web.DataReader('BTC-INR', 'yahoo', start, end_t).reset_index()"
      ],
      "execution_count": 4,
      "outputs": []
    },
    {
      "cell_type": "code",
      "metadata": {
        "colab": {
          "base_uri": "https://localhost:8080/",
          "height": 195
        },
        "id": "0_NRPloxOMk4",
        "outputId": "76ed987b-fbe2-47e1-d7bf-573dfc8471ea"
      },
      "source": [
        "bitcoin.tail()\n"
      ],
      "execution_count": 5,
      "outputs": [
        {
          "output_type": "execute_result",
          "data": {
            "text/html": [
              "<div>\n",
              "<style scoped>\n",
              "    .dataframe tbody tr th:only-of-type {\n",
              "        vertical-align: middle;\n",
              "    }\n",
              "\n",
              "    .dataframe tbody tr th {\n",
              "        vertical-align: top;\n",
              "    }\n",
              "\n",
              "    .dataframe thead th {\n",
              "        text-align: right;\n",
              "    }\n",
              "</style>\n",
              "<table border=\"1\" class=\"dataframe\">\n",
              "  <thead>\n",
              "    <tr style=\"text-align: right;\">\n",
              "      <th></th>\n",
              "      <th>Date</th>\n",
              "      <th>High</th>\n",
              "      <th>Low</th>\n",
              "      <th>Open</th>\n",
              "      <th>Close</th>\n",
              "      <th>Volume</th>\n",
              "      <th>Adj Close</th>\n",
              "    </tr>\n",
              "  </thead>\n",
              "  <tbody>\n",
              "    <tr>\n",
              "      <th>570</th>\n",
              "      <td>2021-04-13</td>\n",
              "      <td>4874119.0</td>\n",
              "      <td>4619650.0</td>\n",
              "      <td>4775827.0</td>\n",
              "      <td>4734890.50</td>\n",
              "      <td>5.810924e+12</td>\n",
              "      <td>4734890.50</td>\n",
              "    </tr>\n",
              "    <tr>\n",
              "      <th>571</th>\n",
              "      <td>2021-04-14</td>\n",
              "      <td>4769128.5</td>\n",
              "      <td>4671974.0</td>\n",
              "      <td>4732302.0</td>\n",
              "      <td>4731307.50</td>\n",
              "      <td>4.554978e+12</td>\n",
              "      <td>4731307.50</td>\n",
              "    </tr>\n",
              "    <tr>\n",
              "      <th>572</th>\n",
              "      <td>2021-04-15</td>\n",
              "      <td>4750986.0</td>\n",
              "      <td>4480725.0</td>\n",
              "      <td>4727160.0</td>\n",
              "      <td>4591076.50</td>\n",
              "      <td>6.285173e+12</td>\n",
              "      <td>4591076.50</td>\n",
              "    </tr>\n",
              "    <tr>\n",
              "      <th>573</th>\n",
              "      <td>2021-04-16</td>\n",
              "      <td>4665594.0</td>\n",
              "      <td>4500174.0</td>\n",
              "      <td>4587880.0</td>\n",
              "      <td>4524215.50</td>\n",
              "      <td>4.930902e+12</td>\n",
              "      <td>4524215.50</td>\n",
              "    </tr>\n",
              "    <tr>\n",
              "      <th>574</th>\n",
              "      <td>2021-04-18</td>\n",
              "      <td>4546303.0</td>\n",
              "      <td>3977803.5</td>\n",
              "      <td>4212293.5</td>\n",
              "      <td>4130716.75</td>\n",
              "      <td>7.058531e+12</td>\n",
              "      <td>4130716.75</td>\n",
              "    </tr>\n",
              "  </tbody>\n",
              "</table>\n",
              "</div>"
            ],
            "text/plain": [
              "          Date       High        Low  ...       Close        Volume   Adj Close\n",
              "570 2021-04-13  4874119.0  4619650.0  ...  4734890.50  5.810924e+12  4734890.50\n",
              "571 2021-04-14  4769128.5  4671974.0  ...  4731307.50  4.554978e+12  4731307.50\n",
              "572 2021-04-15  4750986.0  4480725.0  ...  4591076.50  6.285173e+12  4591076.50\n",
              "573 2021-04-16  4665594.0  4500174.0  ...  4524215.50  4.930902e+12  4524215.50\n",
              "574 2021-04-18  4546303.0  3977803.5  ...  4130716.75  7.058531e+12  4130716.75\n",
              "\n",
              "[5 rows x 7 columns]"
            ]
          },
          "metadata": {
            "tags": []
          },
          "execution_count": 5
        }
      ]
    },
    {
      "cell_type": "code",
      "metadata": {
        "colab": {
          "base_uri": "https://localhost:8080/"
        },
        "id": "AXCduD-8ORVk",
        "outputId": "83019ed1-b472-489d-b713-d23a2fcb4f59"
      },
      "source": [
        "# Datatype\n",
        "bitcoin.dtypes"
      ],
      "execution_count": 6,
      "outputs": [
        {
          "output_type": "execute_result",
          "data": {
            "text/plain": [
              "Date         datetime64[ns]\n",
              "High                float64\n",
              "Low                 float64\n",
              "Open                float64\n",
              "Close               float64\n",
              "Volume              float64\n",
              "Adj Close           float64\n",
              "dtype: object"
            ]
          },
          "metadata": {
            "tags": []
          },
          "execution_count": 6
        }
      ]
    },
    {
      "cell_type": "code",
      "metadata": {
        "colab": {
          "base_uri": "https://localhost:8080/"
        },
        "id": "xhvkH6ysE6Se",
        "outputId": "a8e7e564-ad46-4f7f-b80d-719093300d37"
      },
      "source": [
        "bitcoin.shape"
      ],
      "execution_count": 7,
      "outputs": [
        {
          "output_type": "execute_result",
          "data": {
            "text/plain": [
              "(575, 7)"
            ]
          },
          "metadata": {
            "tags": []
          },
          "execution_count": 7
        }
      ]
    },
    {
      "cell_type": "markdown",
      "metadata": {
        "id": "YHqkUOzdGeuJ"
      },
      "source": [
        "## Exploratory Data Analysis (EDA) on bitcoin data\n",
        "\n",
        "---\n",
        "\n",
        "\n",
        "\n",
        "\n",
        "\n"
      ]
    },
    {
      "cell_type": "code",
      "metadata": {
        "colab": {
          "base_uri": "https://localhost:8080/",
          "height": 195
        },
        "id": "aNlfDpKfHFo4",
        "outputId": "8dc3e7d2-d769-4fd3-e4e4-00f68e2484b6"
      },
      "source": [
        "# Displaying first five rows\n",
        "bitcoin.head()"
      ],
      "execution_count": 8,
      "outputs": [
        {
          "output_type": "execute_result",
          "data": {
            "text/html": [
              "<div>\n",
              "<style scoped>\n",
              "    .dataframe tbody tr th:only-of-type {\n",
              "        vertical-align: middle;\n",
              "    }\n",
              "\n",
              "    .dataframe tbody tr th {\n",
              "        vertical-align: top;\n",
              "    }\n",
              "\n",
              "    .dataframe thead th {\n",
              "        text-align: right;\n",
              "    }\n",
              "</style>\n",
              "<table border=\"1\" class=\"dataframe\">\n",
              "  <thead>\n",
              "    <tr style=\"text-align: right;\">\n",
              "      <th></th>\n",
              "      <th>Date</th>\n",
              "      <th>High</th>\n",
              "      <th>Low</th>\n",
              "      <th>Open</th>\n",
              "      <th>Close</th>\n",
              "      <th>Volume</th>\n",
              "      <th>Adj Close</th>\n",
              "    </tr>\n",
              "  </thead>\n",
              "  <tbody>\n",
              "    <tr>\n",
              "      <th>0</th>\n",
              "      <td>2019-09-17</td>\n",
              "      <td>731490.6875</td>\n",
              "      <td>725478.5000</td>\n",
              "      <td>734975.8750</td>\n",
              "      <td>725961.0000</td>\n",
              "      <td>1.151007e+12</td>\n",
              "      <td>725961.0000</td>\n",
              "    </tr>\n",
              "    <tr>\n",
              "      <th>1</th>\n",
              "      <td>2019-09-18</td>\n",
              "      <td>735039.7500</td>\n",
              "      <td>703342.8125</td>\n",
              "      <td>726121.0000</td>\n",
              "      <td>732951.1875</td>\n",
              "      <td>1.423414e+12</td>\n",
              "      <td>732951.1875</td>\n",
              "    </tr>\n",
              "    <tr>\n",
              "      <th>2</th>\n",
              "      <td>2019-09-19</td>\n",
              "      <td>732415.8125</td>\n",
              "      <td>721472.4375</td>\n",
              "      <td>732944.3125</td>\n",
              "      <td>724993.9375</td>\n",
              "      <td>1.049163e+12</td>\n",
              "      <td>724993.9375</td>\n",
              "    </tr>\n",
              "    <tr>\n",
              "      <th>3</th>\n",
              "      <td>2019-09-20</td>\n",
              "      <td>725453.6875</td>\n",
              "      <td>712110.4375</td>\n",
              "      <td>725136.8750</td>\n",
              "      <td>713463.9375</td>\n",
              "      <td>9.559595e+11</td>\n",
              "      <td>713463.9375</td>\n",
              "    </tr>\n",
              "    <tr>\n",
              "      <th>4</th>\n",
              "      <td>2019-09-21</td>\n",
              "      <td>717307.0625</td>\n",
              "      <td>706490.9375</td>\n",
              "      <td>713777.1250</td>\n",
              "      <td>717018.5625</td>\n",
              "      <td>9.398239e+11</td>\n",
              "      <td>717018.5625</td>\n",
              "    </tr>\n",
              "  </tbody>\n",
              "</table>\n",
              "</div>"
            ],
            "text/plain": [
              "        Date         High          Low  ...        Close        Volume    Adj Close\n",
              "0 2019-09-17  731490.6875  725478.5000  ...  725961.0000  1.151007e+12  725961.0000\n",
              "1 2019-09-18  735039.7500  703342.8125  ...  732951.1875  1.423414e+12  732951.1875\n",
              "2 2019-09-19  732415.8125  721472.4375  ...  724993.9375  1.049163e+12  724993.9375\n",
              "3 2019-09-20  725453.6875  712110.4375  ...  713463.9375  9.559595e+11  713463.9375\n",
              "4 2019-09-21  717307.0625  706490.9375  ...  717018.5625  9.398239e+11  717018.5625\n",
              "\n",
              "[5 rows x 7 columns]"
            ]
          },
          "metadata": {
            "tags": []
          },
          "execution_count": 8
        }
      ]
    },
    {
      "cell_type": "code",
      "metadata": {
        "colab": {
          "base_uri": "https://localhost:8080/"
        },
        "id": "mWCBGR4oOb9E",
        "outputId": "f2252e88-06a6-4b00-926f-3fe2a9032527"
      },
      "source": [
        "# Checking null values\n",
        "bitcoin.isnull().sum().values"
      ],
      "execution_count": 9,
      "outputs": [
        {
          "output_type": "execute_result",
          "data": {
            "text/plain": [
              "array([0, 0, 0, 0, 0, 0, 0])"
            ]
          },
          "metadata": {
            "tags": []
          },
          "execution_count": 9
        }
      ]
    },
    {
      "cell_type": "code",
      "metadata": {
        "colab": {
          "base_uri": "https://localhost:8080/"
        },
        "id": "gUB5lasLPTSe",
        "outputId": "a3dc9e19-d48b-41d8-bfa1-7ddd273523d1"
      },
      "source": [
        "# Checking unique values\n",
        "bitcoin.nunique().values"
      ],
      "execution_count": 10,
      "outputs": [
        {
          "output_type": "execute_result",
          "data": {
            "text/plain": [
              "array([573, 575, 575, 574, 575, 575, 575])"
            ]
          },
          "metadata": {
            "tags": []
          },
          "execution_count": 10
        }
      ]
    },
    {
      "cell_type": "code",
      "metadata": {
        "colab": {
          "base_uri": "https://localhost:8080/",
          "height": 284
        },
        "id": "Bs1LlxAmPVOK",
        "outputId": "28cc8a88-1084-48c0-f5db-a6f086e7eb97"
      },
      "source": [
        "# Describing the columns\n",
        "bitcoin.describe()\n"
      ],
      "execution_count": 11,
      "outputs": [
        {
          "output_type": "execute_result",
          "data": {
            "text/html": [
              "<div>\n",
              "<style scoped>\n",
              "    .dataframe tbody tr th:only-of-type {\n",
              "        vertical-align: middle;\n",
              "    }\n",
              "\n",
              "    .dataframe tbody tr th {\n",
              "        vertical-align: top;\n",
              "    }\n",
              "\n",
              "    .dataframe thead th {\n",
              "        text-align: right;\n",
              "    }\n",
              "</style>\n",
              "<table border=\"1\" class=\"dataframe\">\n",
              "  <thead>\n",
              "    <tr style=\"text-align: right;\">\n",
              "      <th></th>\n",
              "      <th>High</th>\n",
              "      <th>Low</th>\n",
              "      <th>Open</th>\n",
              "      <th>Close</th>\n",
              "      <th>Volume</th>\n",
              "      <th>Adj Close</th>\n",
              "    </tr>\n",
              "  </thead>\n",
              "  <tbody>\n",
              "    <tr>\n",
              "      <th>count</th>\n",
              "      <td>5.750000e+02</td>\n",
              "      <td>5.750000e+02</td>\n",
              "      <td>5.750000e+02</td>\n",
              "      <td>5.750000e+02</td>\n",
              "      <td>5.750000e+02</td>\n",
              "      <td>5.750000e+02</td>\n",
              "    </tr>\n",
              "    <tr>\n",
              "      <th>mean</th>\n",
              "      <td>1.309500e+06</td>\n",
              "      <td>1.239724e+06</td>\n",
              "      <td>1.273880e+06</td>\n",
              "      <td>1.280027e+06</td>\n",
              "      <td>2.676410e+12</td>\n",
              "      <td>1.280027e+06</td>\n",
              "    </tr>\n",
              "    <tr>\n",
              "      <th>std</th>\n",
              "      <td>1.177475e+06</td>\n",
              "      <td>1.100001e+06</td>\n",
              "      <td>1.137872e+06</td>\n",
              "      <td>1.145088e+06</td>\n",
              "      <td>1.664462e+12</td>\n",
              "      <td>1.145088e+06</td>\n",
              "    </tr>\n",
              "    <tr>\n",
              "      <th>min</th>\n",
              "      <td>3.973455e+05</td>\n",
              "      <td>3.099744e+05</td>\n",
              "      <td>3.717216e+05</td>\n",
              "      <td>3.700086e+05</td>\n",
              "      <td>8.640972e+11</td>\n",
              "      <td>3.700086e+05</td>\n",
              "    </tr>\n",
              "    <tr>\n",
              "      <th>25%</th>\n",
              "      <td>6.228961e+05</td>\n",
              "      <td>5.975309e+05</td>\n",
              "      <td>6.128964e+05</td>\n",
              "      <td>6.129255e+05</td>\n",
              "      <td>1.563123e+12</td>\n",
              "      <td>6.129255e+05</td>\n",
              "    </tr>\n",
              "    <tr>\n",
              "      <th>50%</th>\n",
              "      <td>7.350398e+05</td>\n",
              "      <td>7.123572e+05</td>\n",
              "      <td>7.272802e+05</td>\n",
              "      <td>7.274208e+05</td>\n",
              "      <td>2.345102e+12</td>\n",
              "      <td>7.274208e+05</td>\n",
              "    </tr>\n",
              "    <tr>\n",
              "      <th>75%</th>\n",
              "      <td>1.380204e+06</td>\n",
              "      <td>1.313590e+06</td>\n",
              "      <td>1.346009e+06</td>\n",
              "      <td>1.349281e+06</td>\n",
              "      <td>3.382939e+12</td>\n",
              "      <td>1.349281e+06</td>\n",
              "    </tr>\n",
              "    <tr>\n",
              "      <th>max</th>\n",
              "      <td>4.874119e+06</td>\n",
              "      <td>4.671974e+06</td>\n",
              "      <td>4.775827e+06</td>\n",
              "      <td>4.774301e+06</td>\n",
              "      <td>2.582998e+13</td>\n",
              "      <td>4.774301e+06</td>\n",
              "    </tr>\n",
              "  </tbody>\n",
              "</table>\n",
              "</div>"
            ],
            "text/plain": [
              "               High           Low  ...        Volume     Adj Close\n",
              "count  5.750000e+02  5.750000e+02  ...  5.750000e+02  5.750000e+02\n",
              "mean   1.309500e+06  1.239724e+06  ...  2.676410e+12  1.280027e+06\n",
              "std    1.177475e+06  1.100001e+06  ...  1.664462e+12  1.145088e+06\n",
              "min    3.973455e+05  3.099744e+05  ...  8.640972e+11  3.700086e+05\n",
              "25%    6.228961e+05  5.975309e+05  ...  1.563123e+12  6.129255e+05\n",
              "50%    7.350398e+05  7.123572e+05  ...  2.345102e+12  7.274208e+05\n",
              "75%    1.380204e+06  1.313590e+06  ...  3.382939e+12  1.349281e+06\n",
              "max    4.874119e+06  4.671974e+06  ...  2.582998e+13  4.774301e+06\n",
              "\n",
              "[8 rows x 6 columns]"
            ]
          },
          "metadata": {
            "tags": []
          },
          "execution_count": 11
        }
      ]
    },
    {
      "cell_type": "markdown",
      "metadata": {
        "id": "95RZ3DxaH50d"
      },
      "source": [
        "### Mean price of bitcoin in past 2 years\n"
      ]
    },
    {
      "cell_type": "code",
      "metadata": {
        "colab": {
          "base_uri": "https://localhost:8080/"
        },
        "id": "DbTHydedIAVV",
        "outputId": "671e9f9d-3532-4d35-fee7-8d3209fd3f53"
      },
      "source": [
        "round(np.mean(bitcoin['Close']),2)"
      ],
      "execution_count": 12,
      "outputs": [
        {
          "output_type": "execute_result",
          "data": {
            "text/plain": [
              "1280026.75"
            ]
          },
          "metadata": {
            "tags": []
          },
          "execution_count": 12
        }
      ]
    },
    {
      "cell_type": "markdown",
      "metadata": {
        "id": "8uFnFN7AIqb7"
      },
      "source": [
        "### Highest price of bitcoin in past 2 years"
      ]
    },
    {
      "cell_type": "code",
      "metadata": {
        "colab": {
          "base_uri": "https://localhost:8080/"
        },
        "id": "b9i0si1fI2eR",
        "outputId": "faf67820-2aaf-4ae3-9006-140cc3b84f79"
      },
      "source": [
        "round(max(bitcoin['Close']),2)"
      ],
      "execution_count": 13,
      "outputs": [
        {
          "output_type": "execute_result",
          "data": {
            "text/plain": [
              "4774301.0"
            ]
          },
          "metadata": {
            "tags": []
          },
          "execution_count": 13
        }
      ]
    },
    {
      "cell_type": "markdown",
      "metadata": {
        "id": "ton-OjRIJAmo"
      },
      "source": [
        "### Lowest price of bitcoin in past 2 years"
      ]
    },
    {
      "cell_type": "code",
      "metadata": {
        "colab": {
          "base_uri": "https://localhost:8080/"
        },
        "id": "coZMck0XJJIU",
        "outputId": "968911ad-7c62-4cba-8e37-787fc01d641c"
      },
      "source": [
        "round(min(bitcoin['Close']),2)"
      ],
      "execution_count": 14,
      "outputs": [
        {
          "output_type": "execute_result",
          "data": {
            "text/plain": [
              "370008.56"
            ]
          },
          "metadata": {
            "tags": []
          },
          "execution_count": 14
        }
      ]
    },
    {
      "cell_type": "markdown",
      "metadata": {
        "id": "V6XyAnEwJdMm"
      },
      "source": [
        "### Line graph for Closing price of bitcoin"
      ]
    },
    {
      "cell_type": "code",
      "metadata": {
        "colab": {
          "base_uri": "https://localhost:8080/",
          "height": 542
        },
        "id": "0nWr0iCmRUZg",
        "outputId": "d5809468-840e-4466-c287-d90507420a13"
      },
      "source": [
        "from plotly.subplots import make_subplots\n",
        "\n",
        "fig = make_subplots(specs=[[{'secondary_y': True}]])\n",
        "\n",
        "fig.add_trace(go.Scatter(x=bitcoin['Date']\n",
        "                         , y=bitcoin['Adj Close']\n",
        "                         , name='Bitcoin'\n",
        "                        )\n",
        "             , secondary_y=False\n",
        "             )\n",
        "# Add figure title\n",
        "fig.update_layout(\n",
        "    title_text='Bitcoin closing price'\n",
        ")\n",
        "\n",
        "# Set x-axis title\n",
        "fig.update_xaxes(title_text='Date')\n",
        "\n",
        "# Set y-axes titles\n",
        "fig.update_yaxes(title_text='Bitcoin (INR)', secondary_y=False)\n",
        "\n",
        "fig.show()"
      ],
      "execution_count": 15,
      "outputs": [
        {
          "output_type": "display_data",
          "data": {
            "text/html": [
              "<html>\n",
              "<head><meta charset=\"utf-8\" /></head>\n",
              "<body>\n",
              "    <div>\n",
              "            <script src=\"https://cdnjs.cloudflare.com/ajax/libs/mathjax/2.7.5/MathJax.js?config=TeX-AMS-MML_SVG\"></script><script type=\"text/javascript\">if (window.MathJax) {MathJax.Hub.Config({SVG: {font: \"STIX-Web\"}});}</script>\n",
              "                <script type=\"text/javascript\">window.PlotlyConfig = {MathJaxConfig: 'local'};</script>\n",
              "        <script src=\"https://cdn.plot.ly/plotly-latest.min.js\"></script>    \n",
              "            <div id=\"dd71da0a-f9b9-4261-820b-f2a7782d0849\" class=\"plotly-graph-div\" style=\"height:525px; width:100%;\"></div>\n",
              "            <script type=\"text/javascript\">\n",
              "                \n",
              "                    window.PLOTLYENV=window.PLOTLYENV || {};\n",
              "                    \n",
              "                if (document.getElementById(\"dd71da0a-f9b9-4261-820b-f2a7782d0849\")) {\n",
              "                    Plotly.newPlot(\n",
              "                        'dd71da0a-f9b9-4261-820b-f2a7782d0849',\n",
              "                        [{\"name\": \"Bitcoin\", \"type\": \"scatter\", \"x\": [\"2019-09-17T00:00:00\", \"2019-09-18T00:00:00\", \"2019-09-19T00:00:00\", \"2019-09-20T00:00:00\", \"2019-09-21T00:00:00\", \"2019-09-22T00:00:00\", \"2019-09-23T00:00:00\", \"2019-09-24T00:00:00\", \"2019-09-25T00:00:00\", \"2019-09-26T00:00:00\", \"2019-09-27T00:00:00\", \"2019-09-28T00:00:00\", \"2019-09-29T00:00:00\", \"2019-09-30T00:00:00\", \"2019-10-01T00:00:00\", \"2019-10-02T00:00:00\", \"2019-10-03T00:00:00\", \"2019-10-04T00:00:00\", \"2019-10-05T00:00:00\", \"2019-10-06T00:00:00\", \"2019-10-07T00:00:00\", \"2019-10-08T00:00:00\", \"2019-10-09T00:00:00\", \"2019-10-10T00:00:00\", \"2019-10-11T00:00:00\", \"2019-10-12T00:00:00\", \"2019-10-13T00:00:00\", \"2019-10-14T00:00:00\", \"2019-10-15T00:00:00\", \"2019-10-16T00:00:00\", \"2019-10-17T00:00:00\", \"2019-10-18T00:00:00\", \"2019-10-19T00:00:00\", \"2019-10-20T00:00:00\", \"2019-10-21T00:00:00\", \"2019-10-22T00:00:00\", \"2019-10-23T00:00:00\", \"2019-10-24T00:00:00\", \"2019-10-25T00:00:00\", \"2019-10-26T00:00:00\", \"2019-10-28T00:00:00\", \"2019-10-29T00:00:00\", \"2019-10-30T00:00:00\", \"2019-10-31T00:00:00\", \"2019-11-01T00:00:00\", \"2019-11-02T00:00:00\", \"2019-11-03T00:00:00\", \"2019-11-04T00:00:00\", \"2019-11-05T00:00:00\", \"2019-11-06T00:00:00\", \"2019-11-07T00:00:00\", \"2019-11-08T00:00:00\", \"2019-11-09T00:00:00\", \"2019-11-10T00:00:00\", \"2019-11-11T00:00:00\", \"2019-11-12T00:00:00\", \"2019-11-13T00:00:00\", \"2019-11-14T00:00:00\", \"2019-11-15T00:00:00\", \"2019-11-16T00:00:00\", \"2019-11-17T00:00:00\", \"2019-11-18T00:00:00\", \"2019-11-19T00:00:00\", \"2019-11-20T00:00:00\", \"2019-11-21T00:00:00\", \"2019-11-22T00:00:00\", \"2019-11-23T00:00:00\", \"2019-11-24T00:00:00\", \"2019-11-25T00:00:00\", \"2019-11-26T00:00:00\", \"2019-11-27T00:00:00\", \"2019-11-28T00:00:00\", \"2019-11-29T00:00:00\", \"2019-11-30T00:00:00\", \"2019-12-01T00:00:00\", \"2019-12-02T00:00:00\", \"2019-12-03T00:00:00\", \"2019-12-04T00:00:00\", \"2019-12-05T00:00:00\", \"2019-12-06T00:00:00\", \"2019-12-07T00:00:00\", \"2019-12-08T00:00:00\", \"2019-12-09T00:00:00\", \"2019-12-10T00:00:00\", \"2019-12-11T00:00:00\", \"2019-12-12T00:00:00\", \"2019-12-13T00:00:00\", \"2019-12-14T00:00:00\", \"2019-12-15T00:00:00\", \"2019-12-16T00:00:00\", \"2019-12-17T00:00:00\", \"2019-12-18T00:00:00\", \"2019-12-19T00:00:00\", \"2019-12-20T00:00:00\", \"2019-12-21T00:00:00\", \"2019-12-22T00:00:00\", \"2019-12-23T00:00:00\", \"2019-12-24T00:00:00\", \"2019-12-25T00:00:00\", \"2019-12-26T00:00:00\", \"2019-12-27T00:00:00\", \"2019-12-28T00:00:00\", \"2019-12-29T00:00:00\", \"2019-12-30T00:00:00\", \"2019-12-31T00:00:00\", \"2020-01-01T00:00:00\", \"2020-01-02T00:00:00\", \"2020-01-03T00:00:00\", \"2020-01-04T00:00:00\", \"2020-01-05T00:00:00\", \"2020-01-06T00:00:00\", \"2020-01-07T00:00:00\", \"2020-01-08T00:00:00\", \"2020-01-09T00:00:00\", \"2020-01-10T00:00:00\", \"2020-01-11T00:00:00\", \"2020-01-12T00:00:00\", \"2020-01-13T00:00:00\", \"2020-01-14T00:00:00\", \"2020-01-15T00:00:00\", \"2020-01-16T00:00:00\", \"2020-01-17T00:00:00\", \"2020-01-18T00:00:00\", \"2020-01-19T00:00:00\", \"2020-01-20T00:00:00\", \"2020-01-21T00:00:00\", \"2020-01-22T00:00:00\", \"2020-01-23T00:00:00\", \"2020-01-24T00:00:00\", \"2020-01-25T00:00:00\", \"2020-01-26T00:00:00\", \"2020-01-27T00:00:00\", \"2020-01-28T00:00:00\", \"2020-01-29T00:00:00\", \"2020-01-30T00:00:00\", \"2020-01-31T00:00:00\", \"2020-02-01T00:00:00\", \"2020-02-02T00:00:00\", \"2020-02-03T00:00:00\", \"2020-02-04T00:00:00\", \"2020-02-05T00:00:00\", \"2020-02-06T00:00:00\", \"2020-02-07T00:00:00\", \"2020-02-08T00:00:00\", \"2020-02-09T00:00:00\", \"2020-02-10T00:00:00\", \"2020-02-11T00:00:00\", \"2020-02-12T00:00:00\", \"2020-02-13T00:00:00\", \"2020-02-14T00:00:00\", \"2020-02-15T00:00:00\", \"2020-02-16T00:00:00\", \"2020-02-17T00:00:00\", \"2020-02-18T00:00:00\", \"2020-02-19T00:00:00\", \"2020-02-20T00:00:00\", \"2020-02-21T00:00:00\", \"2020-02-22T00:00:00\", \"2020-02-23T00:00:00\", \"2020-02-24T00:00:00\", \"2020-02-25T00:00:00\", \"2020-02-26T00:00:00\", \"2020-02-27T00:00:00\", \"2020-02-28T00:00:00\", \"2020-02-29T00:00:00\", \"2020-03-01T00:00:00\", \"2020-03-02T00:00:00\", \"2020-03-03T00:00:00\", \"2020-03-04T00:00:00\", \"2020-03-05T00:00:00\", \"2020-03-06T00:00:00\", \"2020-03-07T00:00:00\", \"2020-03-08T00:00:00\", \"2020-03-09T00:00:00\", \"2020-03-10T00:00:00\", \"2020-03-11T00:00:00\", \"2020-03-12T00:00:00\", \"2020-03-13T00:00:00\", \"2020-03-14T00:00:00\", \"2020-03-15T00:00:00\", \"2020-03-16T00:00:00\", \"2020-03-17T00:00:00\", \"2020-03-18T00:00:00\", \"2020-03-19T00:00:00\", \"2020-03-20T00:00:00\", \"2020-03-21T00:00:00\", \"2020-03-22T00:00:00\", \"2020-03-23T00:00:00\", \"2020-03-24T00:00:00\", \"2020-03-25T00:00:00\", \"2020-03-26T00:00:00\", \"2020-03-27T00:00:00\", \"2020-03-28T00:00:00\", \"2020-03-29T00:00:00\", \"2020-03-29T00:00:00\", \"2020-03-30T00:00:00\", \"2020-03-31T00:00:00\", \"2020-04-01T00:00:00\", \"2020-04-02T00:00:00\", \"2020-04-03T00:00:00\", \"2020-04-04T00:00:00\", \"2020-04-05T00:00:00\", \"2020-04-06T00:00:00\", \"2020-04-07T00:00:00\", \"2020-04-08T00:00:00\", \"2020-04-09T00:00:00\", \"2020-04-10T00:00:00\", \"2020-04-11T00:00:00\", \"2020-04-12T00:00:00\", \"2020-04-13T00:00:00\", \"2020-04-14T00:00:00\", \"2020-04-15T00:00:00\", \"2020-04-17T00:00:00\", \"2020-04-18T00:00:00\", \"2020-04-19T00:00:00\", \"2020-04-20T00:00:00\", \"2020-04-21T00:00:00\", \"2020-04-22T00:00:00\", \"2020-04-23T00:00:00\", \"2020-04-24T00:00:00\", \"2020-04-25T00:00:00\", \"2020-04-26T00:00:00\", \"2020-04-27T00:00:00\", \"2020-04-28T00:00:00\", \"2020-04-29T00:00:00\", \"2020-04-30T00:00:00\", \"2020-05-01T00:00:00\", \"2020-05-02T00:00:00\", \"2020-05-03T00:00:00\", \"2020-05-04T00:00:00\", \"2020-05-05T00:00:00\", \"2020-05-06T00:00:00\", \"2020-05-07T00:00:00\", \"2020-05-08T00:00:00\", \"2020-05-09T00:00:00\", \"2020-05-10T00:00:00\", \"2020-05-11T00:00:00\", \"2020-05-12T00:00:00\", \"2020-05-13T00:00:00\", \"2020-05-14T00:00:00\", \"2020-05-15T00:00:00\", \"2020-05-16T00:00:00\", \"2020-05-17T00:00:00\", \"2020-05-18T00:00:00\", \"2020-05-19T00:00:00\", \"2020-05-20T00:00:00\", \"2020-05-21T00:00:00\", \"2020-05-22T00:00:00\", \"2020-05-23T00:00:00\", \"2020-05-24T00:00:00\", \"2020-05-25T00:00:00\", \"2020-05-26T00:00:00\", \"2020-05-27T00:00:00\", \"2020-05-28T00:00:00\", \"2020-05-29T00:00:00\", \"2020-05-30T00:00:00\", \"2020-05-31T00:00:00\", \"2020-06-01T00:00:00\", \"2020-06-02T00:00:00\", \"2020-06-03T00:00:00\", \"2020-06-04T00:00:00\", \"2020-06-05T00:00:00\", \"2020-06-06T00:00:00\", \"2020-06-07T00:00:00\", \"2020-06-08T00:00:00\", \"2020-06-09T00:00:00\", \"2020-06-10T00:00:00\", \"2020-06-11T00:00:00\", \"2020-06-12T00:00:00\", \"2020-06-13T00:00:00\", \"2020-06-14T00:00:00\", \"2020-06-15T00:00:00\", \"2020-06-16T00:00:00\", \"2020-06-17T00:00:00\", \"2020-06-18T00:00:00\", \"2020-06-19T00:00:00\", \"2020-06-20T00:00:00\", \"2020-06-21T00:00:00\", \"2020-06-22T00:00:00\", \"2020-06-23T00:00:00\", \"2020-06-24T00:00:00\", \"2020-06-25T00:00:00\", \"2020-06-26T00:00:00\", \"2020-06-27T00:00:00\", \"2020-06-28T00:00:00\", \"2020-06-29T00:00:00\", \"2020-06-30T00:00:00\", \"2020-07-01T00:00:00\", \"2020-07-02T00:00:00\", \"2020-07-03T00:00:00\", \"2020-07-04T00:00:00\", \"2020-07-05T00:00:00\", \"2020-07-06T00:00:00\", \"2020-07-07T00:00:00\", \"2020-07-08T00:00:00\", \"2020-07-09T00:00:00\", \"2020-07-10T00:00:00\", \"2020-07-11T00:00:00\", \"2020-07-12T00:00:00\", \"2020-07-13T00:00:00\", \"2020-07-14T00:00:00\", \"2020-07-15T00:00:00\", \"2020-07-16T00:00:00\", \"2020-07-17T00:00:00\", \"2020-07-18T00:00:00\", \"2020-07-19T00:00:00\", \"2020-07-20T00:00:00\", \"2020-07-21T00:00:00\", \"2020-07-22T00:00:00\", \"2020-07-23T00:00:00\", \"2020-07-24T00:00:00\", \"2020-07-25T00:00:00\", \"2020-07-26T00:00:00\", \"2020-07-27T00:00:00\", \"2020-07-28T00:00:00\", \"2020-07-29T00:00:00\", \"2020-07-30T00:00:00\", \"2020-07-31T00:00:00\", \"2020-08-01T00:00:00\", \"2020-08-02T00:00:00\", \"2020-08-03T00:00:00\", \"2020-08-04T00:00:00\", \"2020-08-05T00:00:00\", \"2020-08-06T00:00:00\", \"2020-08-07T00:00:00\", \"2020-08-08T00:00:00\", \"2020-08-09T00:00:00\", \"2020-08-10T00:00:00\", \"2020-08-11T00:00:00\", \"2020-08-12T00:00:00\", \"2020-08-13T00:00:00\", \"2020-08-14T00:00:00\", \"2020-08-15T00:00:00\", \"2020-08-16T00:00:00\", \"2020-08-17T00:00:00\", \"2020-08-18T00:00:00\", \"2020-08-19T00:00:00\", \"2020-08-20T00:00:00\", \"2020-08-21T00:00:00\", \"2020-08-22T00:00:00\", \"2020-08-23T00:00:00\", \"2020-08-24T00:00:00\", \"2020-08-25T00:00:00\", \"2020-08-26T00:00:00\", \"2020-08-27T00:00:00\", \"2020-08-28T00:00:00\", \"2020-08-29T00:00:00\", \"2020-08-30T00:00:00\", \"2020-08-31T00:00:00\", \"2020-09-01T00:00:00\", \"2020-09-02T00:00:00\", \"2020-09-03T00:00:00\", \"2020-09-04T00:00:00\", \"2020-09-05T00:00:00\", \"2020-09-06T00:00:00\", \"2020-09-07T00:00:00\", \"2020-09-08T00:00:00\", \"2020-09-09T00:00:00\", \"2020-09-10T00:00:00\", \"2020-09-11T00:00:00\", \"2020-09-12T00:00:00\", \"2020-09-13T00:00:00\", \"2020-09-14T00:00:00\", \"2020-09-15T00:00:00\", \"2020-09-16T00:00:00\", \"2020-09-17T00:00:00\", \"2020-09-18T00:00:00\", \"2020-09-19T00:00:00\", \"2020-09-20T00:00:00\", \"2020-09-21T00:00:00\", \"2020-09-22T00:00:00\", \"2020-09-23T00:00:00\", \"2020-09-24T00:00:00\", \"2020-09-25T00:00:00\", \"2020-09-26T00:00:00\", \"2020-09-27T00:00:00\", \"2020-09-28T00:00:00\", \"2020-09-29T00:00:00\", \"2020-09-30T00:00:00\", \"2020-10-01T00:00:00\", \"2020-10-02T00:00:00\", \"2020-10-03T00:00:00\", \"2020-10-04T00:00:00\", \"2020-10-05T00:00:00\", \"2020-10-06T00:00:00\", \"2020-10-07T00:00:00\", \"2020-10-09T00:00:00\", \"2020-10-10T00:00:00\", \"2020-10-13T00:00:00\", \"2020-10-14T00:00:00\", \"2020-10-15T00:00:00\", \"2020-10-16T00:00:00\", \"2020-10-17T00:00:00\", \"2020-10-18T00:00:00\", \"2020-10-19T00:00:00\", \"2020-10-20T00:00:00\", \"2020-10-21T00:00:00\", \"2020-10-22T00:00:00\", \"2020-10-23T00:00:00\", \"2020-10-24T00:00:00\", \"2020-10-26T00:00:00\", \"2020-10-27T00:00:00\", \"2020-10-28T00:00:00\", \"2020-10-29T00:00:00\", \"2020-10-30T00:00:00\", \"2020-10-31T00:00:00\", \"2020-11-01T00:00:00\", \"2020-11-02T00:00:00\", \"2020-11-03T00:00:00\", \"2020-11-04T00:00:00\", \"2020-11-05T00:00:00\", \"2020-11-06T00:00:00\", \"2020-11-07T00:00:00\", \"2020-11-08T00:00:00\", \"2020-11-09T00:00:00\", \"2020-11-10T00:00:00\", \"2020-11-11T00:00:00\", \"2020-11-12T00:00:00\", \"2020-11-13T00:00:00\", \"2020-11-14T00:00:00\", \"2020-11-15T00:00:00\", \"2020-11-16T00:00:00\", \"2020-11-17T00:00:00\", \"2020-11-18T00:00:00\", \"2020-11-19T00:00:00\", \"2020-11-20T00:00:00\", \"2020-11-21T00:00:00\", \"2020-11-22T00:00:00\", \"2020-11-23T00:00:00\", \"2020-11-24T00:00:00\", \"2020-11-25T00:00:00\", \"2020-11-26T00:00:00\", \"2020-11-27T00:00:00\", \"2020-11-28T00:00:00\", \"2020-11-29T00:00:00\", \"2020-11-30T00:00:00\", \"2020-12-01T00:00:00\", \"2020-12-02T00:00:00\", \"2020-12-03T00:00:00\", \"2020-12-04T00:00:00\", \"2020-12-05T00:00:00\", \"2020-12-06T00:00:00\", \"2020-12-07T00:00:00\", \"2020-12-08T00:00:00\", \"2020-12-09T00:00:00\", \"2020-12-10T00:00:00\", \"2020-12-11T00:00:00\", \"2020-12-12T00:00:00\", \"2020-12-13T00:00:00\", \"2020-12-14T00:00:00\", \"2020-12-15T00:00:00\", \"2020-12-16T00:00:00\", \"2020-12-17T00:00:00\", \"2020-12-18T00:00:00\", \"2020-12-19T00:00:00\", \"2020-12-20T00:00:00\", \"2020-12-21T00:00:00\", \"2020-12-22T00:00:00\", \"2020-12-23T00:00:00\", \"2020-12-24T00:00:00\", \"2020-12-25T00:00:00\", \"2020-12-26T00:00:00\", \"2020-12-27T00:00:00\", \"2020-12-28T00:00:00\", \"2020-12-29T00:00:00\", \"2020-12-30T00:00:00\", \"2020-12-31T00:00:00\", \"2021-01-01T00:00:00\", \"2021-01-02T00:00:00\", \"2021-01-03T00:00:00\", \"2021-01-04T00:00:00\", \"2021-01-05T00:00:00\", \"2021-01-06T00:00:00\", \"2021-01-07T00:00:00\", \"2021-01-08T00:00:00\", \"2021-01-09T00:00:00\", \"2021-01-10T00:00:00\", \"2021-01-11T00:00:00\", \"2021-01-12T00:00:00\", \"2021-01-13T00:00:00\", \"2021-01-14T00:00:00\", \"2021-01-15T00:00:00\", \"2021-01-16T00:00:00\", \"2021-01-17T00:00:00\", \"2021-01-18T00:00:00\", \"2021-01-19T00:00:00\", \"2021-01-20T00:00:00\", \"2021-01-21T00:00:00\", \"2021-01-22T00:00:00\", \"2021-01-23T00:00:00\", \"2021-01-24T00:00:00\", \"2021-01-25T00:00:00\", \"2021-01-26T00:00:00\", \"2021-01-27T00:00:00\", \"2021-01-28T00:00:00\", \"2021-01-29T00:00:00\", \"2021-01-30T00:00:00\", \"2021-01-31T00:00:00\", \"2021-02-01T00:00:00\", \"2021-02-02T00:00:00\", \"2021-02-03T00:00:00\", \"2021-02-04T00:00:00\", \"2021-02-05T00:00:00\", \"2021-02-06T00:00:00\", \"2021-02-07T00:00:00\", \"2021-02-08T00:00:00\", \"2021-02-09T00:00:00\", \"2021-02-10T00:00:00\", \"2021-02-11T00:00:00\", \"2021-02-12T00:00:00\", \"2021-02-13T00:00:00\", \"2021-02-14T00:00:00\", \"2021-02-15T00:00:00\", \"2021-02-16T00:00:00\", \"2021-02-17T00:00:00\", \"2021-02-18T00:00:00\", \"2021-02-19T00:00:00\", \"2021-02-20T00:00:00\", \"2021-02-21T00:00:00\", \"2021-02-22T00:00:00\", \"2021-02-23T00:00:00\", \"2021-02-24T00:00:00\", \"2021-02-25T00:00:00\", \"2021-02-26T00:00:00\", \"2021-02-27T00:00:00\", \"2021-02-28T00:00:00\", \"2021-03-01T00:00:00\", \"2021-03-02T00:00:00\", \"2021-03-03T00:00:00\", \"2021-03-04T00:00:00\", \"2021-03-05T00:00:00\", \"2021-03-06T00:00:00\", \"2021-03-07T00:00:00\", \"2021-03-08T00:00:00\", \"2021-03-09T00:00:00\", \"2021-03-10T00:00:00\", \"2021-03-11T00:00:00\", \"2021-03-12T00:00:00\", \"2021-03-13T00:00:00\", \"2021-03-14T00:00:00\", \"2021-03-15T00:00:00\", \"2021-03-16T00:00:00\", \"2021-03-17T00:00:00\", \"2021-03-18T00:00:00\", \"2021-03-19T00:00:00\", \"2021-03-20T00:00:00\", \"2021-03-21T00:00:00\", \"2021-03-22T00:00:00\", \"2021-03-23T00:00:00\", \"2021-03-24T00:00:00\", \"2021-03-25T00:00:00\", \"2021-03-26T00:00:00\", \"2021-03-27T00:00:00\", \"2021-03-28T00:00:00\", \"2021-03-28T00:00:00\", \"2021-03-29T00:00:00\", \"2021-03-30T00:00:00\", \"2021-03-31T00:00:00\", \"2021-04-01T00:00:00\", \"2021-04-02T00:00:00\", \"2021-04-03T00:00:00\", \"2021-04-04T00:00:00\", \"2021-04-05T00:00:00\", \"2021-04-06T00:00:00\", \"2021-04-07T00:00:00\", \"2021-04-08T00:00:00\", \"2021-04-09T00:00:00\", \"2021-04-10T00:00:00\", \"2021-04-11T00:00:00\", \"2021-04-12T00:00:00\", \"2021-04-13T00:00:00\", \"2021-04-14T00:00:00\", \"2021-04-15T00:00:00\", \"2021-04-16T00:00:00\", \"2021-04-18T00:00:00\"], \"xaxis\": \"x\", \"y\": [725961.0, 732951.1875, 724993.9375, 713463.9375, 717018.5625, 688840.875, 611785.25, 602472.6875, 576215.6875, 583067.125, 581412.25, 571408.5, 585926.1875, 593290.375, 597178.3125, 586688.8125, 581185.625, 577328.0, 565767.3125, 586185.4375, 586053.9375, 611323.4375, 609553.5625, 591260.8125, 592312.25, 590159.0, 596671.25, 586683.875, 574306.125, 576431.25, 566819.3125, 567910.75, 584096.375, 584640.5625, 572292.25, 531475.1875, 532109.625, 613524.0625, 654913.8125, 676643.4375, 654827.125, 668372.0625, 652155.3125, 652986.5625, 654806.4375, 657598.75, 651296.6875, 666309.5, 661194.0, 664716.0625, 658432.4375, 628466.0, 629087.0625, 646299.125, 626781.8125, 632876.3125, 635529.25, 626685.0, 608323.875, 612666.1875, 614565.8125, 597812.375, 589701.8125, 576182.875, 548371.125, 523840.28125, 531107.0625, 505996.15625, 512302.03125, 515668.875, 536541.4375, 534040.5, 556900.25, 543151.25, 532704.625, 524510.5625, 525264.375, 518448.71875, 531771.875, 538078.25, 538737.125, 539284.25, 525241.75, 515525.1875, 510555.71875, 511147.21875, 513890.375, 503639.625, 505572.75, 491538.84375, 471708.9375, 516652.3125, 513070.84375, 513254.25, 511287.78125, 534074.4375, 523873.0, 521803.625, 518427.5625, 516144.125, 520712.8125, 522705.71875, 530212.125, 520151.0, 512910.8125, 512853.96875, 498416.75, 527076.25, 531796.125, 531863.1875, 557805.0, 587512.375, 577281.125, 560959.5625, 579751.875, 570347.625, 581358.3125, 576030.0, 625492.125, 622867.0, 619001.5, 634351.875, 635330.25, 618567.375, 615025.9375, 622532.8125, 617293.625, 599645.0625, 602374.8125, 596840.9375, 613184.875, 636606.5625, 666709.6875, 664368.875, 680558.6875, 668553.5, 671581.1875, 668112.75, 662852.0, 652858.25, 684379.6875, 693764.0625, 700566.6875, 705513.875, 723501.875, 702781.3125, 727697.125, 736310.6875, 728065.625, 737593.6875, 707359.875, 710589.75, 691482.6875, 726014.75, 689985.5625, 690676.4375, 696334.0625, 694662.0, 713421.3125, 695287.375, 671481.8125, 632196.0, 629795.5, 625934.4375, 620669.5625, 617995.125, 642377.0, 645247.625, 643466.8125, 670517.5, 675041.0, 659383.8125, 600030.75, 589784.625, 587119.4375, 586831.125, 370008.5625, 411486.1875, 384613.875, 398630.21875, 372605.9375, 386826.6875, 392791.21875, 465331.3125, 468767.71875, 467730.8125, 440398.625, 491303.625, 511582.4375, 506731.90625, 501893.40625, 484432.59375, 467390.5, 446500.71875, 484874.40625, 485055.25, 505986.5625, 517483.96875, 514565.46875, 524816.4375, 517755.6875, 552472.875, 542859.875, 557164.125, 554308.9375, 522989.25, 522500.9375, 531033.3125, 521994.03125, 519791.875, 508125.40625, 546993.3125, 555218.625, 550494.25, 527109.1875, 529577.8125, 543825.8125, 564617.4375, 576269.6875, 577601.25, 585831.8125, 593921.875, 593896.1875, 662441.8125, 652947.5625, 672472.375, 681614.25, 672054.6875, 674153.1875, 683718.375, 706511.875, 753450.375, 742885.0625, 724377.5625, 661405.1875, 653199.75, 663584.6875, 699292.625, 734847.1875, 707795.625, 711499.6875, 733332.25, 735426.3125, 736585.4375, 719366.0, 686917.1875, 697830.8125, 699860.6875, 668024.0625, 675890.25, 666958.125, 696799.8125, 721099.1875, 712872.875, 732606.3125, 714529.4375, 767767.0, 715364.75, 727420.75, 739536.4375, 730371.125, 729475.4375, 736968.5, 736812.8125, 739674.75, 746965.1875, 708222.8125, 720136.4375, 719713.625, 712992.6875, 718047.8125, 728741.8125, 724133.625, 719070.6875, 708232.3125, 711612.0, 709423.625, 731276.8125, 728123.0, 705452.875, 699862.625, 692973.125, 684084.8125, 691438.1875, 694011.0625, 690443.9375, 696325.6875, 683252.1875, 678634.875, 682009.1875, 677638.0, 699483.0625, 693029.3125, 706560.625, 697124.25, 697383.125, 694832.4375, 697210.0, 695231.125, 696265.9375, 690849.5625, 686567.75, 685416.75, 685989.5625, 687995.0625, 685029.5, 698836.9375, 710687.8125, 717179.625, 712641.4375, 723119.375, 740510.875, 822141.9375, 817375.875, 830489.3125, 830777.6875, 848466.1875, 881145.125, 828115.3125, 845338.0625, 841131.125, 878648.375, 882346.75, 870409.25, 881853.25, 875972.8125, 889387.3125, 851413.5, 866195.5625, 881735.6875, 880955.25, 888203.3125, 890807.1875, 915978.5625, 894266.0, 881539.6875, 890749.0, 868617.0625, 875311.0, 873954.3125, 873601.4375, 843803.6875, 853137.9375, 835375.125, 844085.6875, 841479.8125, 856445.4375, 857813.75, 874639.1875, 836109.375, 752531.375, 769950.4375, 744882.125, 753452.625, 761595.1875, 747574.6875, 751046.25, 762048.75, 764222.8125, 767254.125, 758577.6875, 783969.75, 794767.375, 807217.4375, 805666.625, 805632.625, 816656.5, 804346.375, 769813.625, 774611.125, 754483.6875, 794391.5625, 788753.4375, 792596.6875, 794070.375, 790859.25, 799846.3125, 793269.0625, 778205.125, 776131.75, 774689.4375, 783410.6875, 789945.875, 781949.875, 783190.8125, 800505.3125, 824196.0625, 831216.6875, 837731.9375, 843431.0625, 831547.75, 834190.1875, 843384.5, 861833.8125, 875624.8125, 945436.75, 955938.875, 954789.1875, 967822.6875, 962171.1875, 966898.375, 1007752.875, 984616.5625, 998199.5625, 1010758.25, 1028253.1875, 1025276.0625, 1008973.5, 1041555.25, 1048590.375, 1155050.875, 1151581.75, 1097418.25, 1145147.375, 1133938.25, 1135889.25, 1170436.875, 1218894.75, 1216295.125, 1197685.375, 1189296.0, 1243985.5, 1315554.25, 1321773.875, 1320301.625, 1381006.0, 1382557.375, 1362157.375, 1363430.5, 1413212.875, 1382251.625, 1266291.375, 1264934.5, 1310423.375, 1344213.625, 1452322.5, 1385217.0, 1414407.125, 1437778.25, 1380015.625, 1413554.5, 1427727.5, 1416537.0, 1350741.875, 1369604.5, 1347820.25, 1331632.875, 1386549.75, 1411568.625, 1417556.75, 1427655.25, 1568584.75, 1676864.375, 1703118.125, 1756989.125, 1727846.0, 1685955.875, 1762833.75, 1716141.375, 1745972.625, 1814318.625, 1944683.375, 1936930.75, 1991956.25, 2009443.875, 2110859.25, 2118790.25, 2147022.75, 2348254.25, 2395940.25, 2336819.0, 2487166.5, 2693424.25, 2891625.75, 2993704.25, 2953814.25, 2813688.5, 2614815.75, 2481337.5, 2730439.75, 2864221.75, 2694199.0, 2645725.5, 2617995.75, 2680935.25, 2640030.25, 2591756.25, 2248893.5, 2409401.0, 2340918.75, 2356991.0, 2361793.5, 2374998.5, 2222773.5, 2308492.25, 2501913.5, 2498482.75, 2414384.5, 2452240.0, 2589344.75, 2730151.0, 2695098.25, 2776459.25, 2858106.25, 2831977.75, 3369115.0, 3386420.25, 3270382.75, 3483475.5, 3448422.25, 3419439.0, 3536634.0, 3482678.5, 3588405.0, 3796127.0, 3752245.0, 4054759.5, 4071170.25, 4175234.25, 3927762.0, 3534027.0, 3598459.75, 3444981.25, 3410439.5, 3399303.75, 3326373.5, 3638530.75, 3545103.5, 3689294.5, 3551448.0, 3580544.25, 3579452.0, 3747472.0, 3831271.25, 3989882.75, 4072166.0, 4198921.0, 4167426.5, 4451714.0, 4310706.5, 4054141.25, 4119249.75, 4272263.5, 4204622.0, 4226751.0, 4224360.0, 4165414.75, 3946860.5, 3974729.0, 3833831.5, 3754396.75, 3994554.75, 4055135.0, 4053488.75, 4200873.5, 4327242.0, 4313079.0, 4330986.5, 4357392.5, 4226751.5, 4311483.0, 4327746.5, 4276035.5, 4170133.5, 4347744.0, 4352631.5, 4468330.5, 4499101.5, 4491485.5, 4774301.0, 4734890.5, 4731307.5, 4591076.5, 4524215.5, 4130716.75], \"yaxis\": \"y\"}],\n",
              "                        {\"template\": {\"data\": {\"bar\": [{\"error_x\": {\"color\": \"#2a3f5f\"}, \"error_y\": {\"color\": \"#2a3f5f\"}, \"marker\": {\"line\": {\"color\": \"#E5ECF6\", \"width\": 0.5}}, \"type\": \"bar\"}], \"barpolar\": [{\"marker\": {\"line\": {\"color\": \"#E5ECF6\", \"width\": 0.5}}, \"type\": \"barpolar\"}], \"carpet\": [{\"aaxis\": {\"endlinecolor\": \"#2a3f5f\", \"gridcolor\": \"white\", \"linecolor\": \"white\", \"minorgridcolor\": \"white\", \"startlinecolor\": \"#2a3f5f\"}, \"baxis\": {\"endlinecolor\": \"#2a3f5f\", \"gridcolor\": \"white\", \"linecolor\": \"white\", \"minorgridcolor\": \"white\", \"startlinecolor\": \"#2a3f5f\"}, \"type\": \"carpet\"}], \"choropleth\": [{\"colorbar\": {\"outlinewidth\": 0, \"ticks\": \"\"}, \"type\": \"choropleth\"}], \"contour\": [{\"colorbar\": {\"outlinewidth\": 0, \"ticks\": \"\"}, \"colorscale\": [[0.0, \"#0d0887\"], [0.1111111111111111, \"#46039f\"], [0.2222222222222222, \"#7201a8\"], [0.3333333333333333, \"#9c179e\"], [0.4444444444444444, \"#bd3786\"], [0.5555555555555556, \"#d8576b\"], [0.6666666666666666, \"#ed7953\"], [0.7777777777777778, \"#fb9f3a\"], [0.8888888888888888, \"#fdca26\"], [1.0, \"#f0f921\"]], \"type\": \"contour\"}], \"contourcarpet\": [{\"colorbar\": {\"outlinewidth\": 0, \"ticks\": \"\"}, \"type\": \"contourcarpet\"}], \"heatmap\": [{\"colorbar\": {\"outlinewidth\": 0, \"ticks\": \"\"}, \"colorscale\": [[0.0, \"#0d0887\"], [0.1111111111111111, \"#46039f\"], [0.2222222222222222, \"#7201a8\"], [0.3333333333333333, \"#9c179e\"], [0.4444444444444444, \"#bd3786\"], [0.5555555555555556, \"#d8576b\"], [0.6666666666666666, \"#ed7953\"], [0.7777777777777778, \"#fb9f3a\"], [0.8888888888888888, \"#fdca26\"], [1.0, \"#f0f921\"]], \"type\": \"heatmap\"}], \"heatmapgl\": [{\"colorbar\": {\"outlinewidth\": 0, \"ticks\": \"\"}, \"colorscale\": [[0.0, \"#0d0887\"], [0.1111111111111111, \"#46039f\"], [0.2222222222222222, \"#7201a8\"], [0.3333333333333333, \"#9c179e\"], [0.4444444444444444, \"#bd3786\"], [0.5555555555555556, \"#d8576b\"], [0.6666666666666666, \"#ed7953\"], [0.7777777777777778, \"#fb9f3a\"], [0.8888888888888888, \"#fdca26\"], [1.0, \"#f0f921\"]], \"type\": \"heatmapgl\"}], \"histogram\": [{\"marker\": {\"colorbar\": {\"outlinewidth\": 0, \"ticks\": \"\"}}, \"type\": \"histogram\"}], \"histogram2d\": [{\"colorbar\": {\"outlinewidth\": 0, \"ticks\": \"\"}, \"colorscale\": [[0.0, \"#0d0887\"], [0.1111111111111111, \"#46039f\"], [0.2222222222222222, \"#7201a8\"], [0.3333333333333333, \"#9c179e\"], [0.4444444444444444, \"#bd3786\"], [0.5555555555555556, \"#d8576b\"], [0.6666666666666666, \"#ed7953\"], [0.7777777777777778, \"#fb9f3a\"], [0.8888888888888888, \"#fdca26\"], [1.0, \"#f0f921\"]], \"type\": \"histogram2d\"}], \"histogram2dcontour\": [{\"colorbar\": {\"outlinewidth\": 0, \"ticks\": \"\"}, \"colorscale\": [[0.0, \"#0d0887\"], [0.1111111111111111, \"#46039f\"], [0.2222222222222222, \"#7201a8\"], [0.3333333333333333, \"#9c179e\"], [0.4444444444444444, \"#bd3786\"], [0.5555555555555556, \"#d8576b\"], [0.6666666666666666, \"#ed7953\"], [0.7777777777777778, \"#fb9f3a\"], [0.8888888888888888, \"#fdca26\"], [1.0, \"#f0f921\"]], \"type\": \"histogram2dcontour\"}], \"mesh3d\": [{\"colorbar\": {\"outlinewidth\": 0, \"ticks\": \"\"}, \"type\": \"mesh3d\"}], \"parcoords\": [{\"line\": {\"colorbar\": {\"outlinewidth\": 0, \"ticks\": \"\"}}, \"type\": \"parcoords\"}], \"pie\": [{\"automargin\": true, \"type\": \"pie\"}], \"scatter\": [{\"marker\": {\"colorbar\": {\"outlinewidth\": 0, \"ticks\": \"\"}}, \"type\": \"scatter\"}], \"scatter3d\": [{\"line\": {\"colorbar\": {\"outlinewidth\": 0, \"ticks\": \"\"}}, \"marker\": {\"colorbar\": {\"outlinewidth\": 0, \"ticks\": \"\"}}, \"type\": \"scatter3d\"}], \"scattercarpet\": [{\"marker\": {\"colorbar\": {\"outlinewidth\": 0, \"ticks\": \"\"}}, \"type\": \"scattercarpet\"}], \"scattergeo\": [{\"marker\": {\"colorbar\": {\"outlinewidth\": 0, \"ticks\": \"\"}}, \"type\": \"scattergeo\"}], \"scattergl\": [{\"marker\": {\"colorbar\": {\"outlinewidth\": 0, \"ticks\": \"\"}}, \"type\": \"scattergl\"}], \"scattermapbox\": [{\"marker\": {\"colorbar\": {\"outlinewidth\": 0, \"ticks\": \"\"}}, \"type\": \"scattermapbox\"}], \"scatterpolar\": [{\"marker\": {\"colorbar\": {\"outlinewidth\": 0, \"ticks\": \"\"}}, \"type\": \"scatterpolar\"}], \"scatterpolargl\": [{\"marker\": {\"colorbar\": {\"outlinewidth\": 0, \"ticks\": \"\"}}, \"type\": \"scatterpolargl\"}], \"scatterternary\": [{\"marker\": {\"colorbar\": {\"outlinewidth\": 0, \"ticks\": \"\"}}, \"type\": \"scatterternary\"}], \"surface\": [{\"colorbar\": {\"outlinewidth\": 0, \"ticks\": \"\"}, \"colorscale\": [[0.0, \"#0d0887\"], [0.1111111111111111, \"#46039f\"], [0.2222222222222222, \"#7201a8\"], [0.3333333333333333, \"#9c179e\"], [0.4444444444444444, \"#bd3786\"], [0.5555555555555556, \"#d8576b\"], [0.6666666666666666, \"#ed7953\"], [0.7777777777777778, \"#fb9f3a\"], [0.8888888888888888, \"#fdca26\"], [1.0, \"#f0f921\"]], \"type\": \"surface\"}], \"table\": [{\"cells\": {\"fill\": {\"color\": \"#EBF0F8\"}, \"line\": {\"color\": \"white\"}}, \"header\": {\"fill\": {\"color\": \"#C8D4E3\"}, \"line\": {\"color\": \"white\"}}, \"type\": \"table\"}]}, \"layout\": {\"annotationdefaults\": {\"arrowcolor\": \"#2a3f5f\", \"arrowhead\": 0, \"arrowwidth\": 1}, \"coloraxis\": {\"colorbar\": {\"outlinewidth\": 0, \"ticks\": \"\"}}, \"colorscale\": {\"diverging\": [[0, \"#8e0152\"], [0.1, \"#c51b7d\"], [0.2, \"#de77ae\"], [0.3, \"#f1b6da\"], [0.4, \"#fde0ef\"], [0.5, \"#f7f7f7\"], [0.6, \"#e6f5d0\"], [0.7, \"#b8e186\"], [0.8, \"#7fbc41\"], [0.9, \"#4d9221\"], [1, \"#276419\"]], \"sequential\": [[0.0, \"#0d0887\"], [0.1111111111111111, \"#46039f\"], [0.2222222222222222, \"#7201a8\"], [0.3333333333333333, \"#9c179e\"], [0.4444444444444444, \"#bd3786\"], [0.5555555555555556, \"#d8576b\"], [0.6666666666666666, \"#ed7953\"], [0.7777777777777778, \"#fb9f3a\"], [0.8888888888888888, \"#fdca26\"], [1.0, \"#f0f921\"]], \"sequentialminus\": [[0.0, \"#0d0887\"], [0.1111111111111111, \"#46039f\"], [0.2222222222222222, \"#7201a8\"], [0.3333333333333333, \"#9c179e\"], [0.4444444444444444, \"#bd3786\"], [0.5555555555555556, \"#d8576b\"], [0.6666666666666666, \"#ed7953\"], [0.7777777777777778, \"#fb9f3a\"], [0.8888888888888888, \"#fdca26\"], [1.0, \"#f0f921\"]]}, \"colorway\": [\"#636efa\", \"#EF553B\", \"#00cc96\", \"#ab63fa\", \"#FFA15A\", \"#19d3f3\", \"#FF6692\", \"#B6E880\", \"#FF97FF\", \"#FECB52\"], \"font\": {\"color\": \"#2a3f5f\"}, \"geo\": {\"bgcolor\": \"white\", \"lakecolor\": \"white\", \"landcolor\": \"#E5ECF6\", \"showlakes\": true, \"showland\": true, \"subunitcolor\": \"white\"}, \"hoverlabel\": {\"align\": \"left\"}, \"hovermode\": \"closest\", \"mapbox\": {\"style\": \"light\"}, \"paper_bgcolor\": \"white\", \"plot_bgcolor\": \"#E5ECF6\", \"polar\": {\"angularaxis\": {\"gridcolor\": \"white\", \"linecolor\": \"white\", \"ticks\": \"\"}, \"bgcolor\": \"#E5ECF6\", \"radialaxis\": {\"gridcolor\": \"white\", \"linecolor\": \"white\", \"ticks\": \"\"}}, \"scene\": {\"xaxis\": {\"backgroundcolor\": \"#E5ECF6\", \"gridcolor\": \"white\", \"gridwidth\": 2, \"linecolor\": \"white\", \"showbackground\": true, \"ticks\": \"\", \"zerolinecolor\": \"white\"}, \"yaxis\": {\"backgroundcolor\": \"#E5ECF6\", \"gridcolor\": \"white\", \"gridwidth\": 2, \"linecolor\": \"white\", \"showbackground\": true, \"ticks\": \"\", \"zerolinecolor\": \"white\"}, \"zaxis\": {\"backgroundcolor\": \"#E5ECF6\", \"gridcolor\": \"white\", \"gridwidth\": 2, \"linecolor\": \"white\", \"showbackground\": true, \"ticks\": \"\", \"zerolinecolor\": \"white\"}}, \"shapedefaults\": {\"line\": {\"color\": \"#2a3f5f\"}}, \"ternary\": {\"aaxis\": {\"gridcolor\": \"white\", \"linecolor\": \"white\", \"ticks\": \"\"}, \"baxis\": {\"gridcolor\": \"white\", \"linecolor\": \"white\", \"ticks\": \"\"}, \"bgcolor\": \"#E5ECF6\", \"caxis\": {\"gridcolor\": \"white\", \"linecolor\": \"white\", \"ticks\": \"\"}}, \"title\": {\"x\": 0.05}, \"xaxis\": {\"automargin\": true, \"gridcolor\": \"white\", \"linecolor\": \"white\", \"ticks\": \"\", \"title\": {\"standoff\": 15}, \"zerolinecolor\": \"white\", \"zerolinewidth\": 2}, \"yaxis\": {\"automargin\": true, \"gridcolor\": \"white\", \"linecolor\": \"white\", \"ticks\": \"\", \"title\": {\"standoff\": 15}, \"zerolinecolor\": \"white\", \"zerolinewidth\": 2}}}, \"title\": {\"text\": \"Bitcoin closing price\"}, \"xaxis\": {\"anchor\": \"y\", \"domain\": [0.0, 0.94], \"title\": {\"text\": \"Date\"}}, \"yaxis\": {\"anchor\": \"x\", \"domain\": [0.0, 1.0], \"title\": {\"text\": \"Bitcoin (INR)\"}}, \"yaxis2\": {\"anchor\": \"x\", \"overlaying\": \"y\", \"side\": \"right\"}},\n",
              "                        {\"responsive\": true}\n",
              "                    ).then(function(){\n",
              "                            \n",
              "var gd = document.getElementById('dd71da0a-f9b9-4261-820b-f2a7782d0849');\n",
              "var x = new MutationObserver(function (mutations, observer) {{\n",
              "        var display = window.getComputedStyle(gd).display;\n",
              "        if (!display || display === 'none') {{\n",
              "            console.log([gd, 'removed!']);\n",
              "            Plotly.purge(gd);\n",
              "            observer.disconnect();\n",
              "        }}\n",
              "}});\n",
              "\n",
              "// Listen for the removal of the full notebook cells\n",
              "var notebookContainer = gd.closest('#notebook-container');\n",
              "if (notebookContainer) {{\n",
              "    x.observe(notebookContainer, {childList: true});\n",
              "}}\n",
              "\n",
              "// Listen for the clearing of the current output cell\n",
              "var outputEl = gd.closest('.output');\n",
              "if (outputEl) {{\n",
              "    x.observe(outputEl, {childList: true});\n",
              "}}\n",
              "\n",
              "                        })\n",
              "                };\n",
              "                \n",
              "            </script>\n",
              "        </div>\n",
              "</body>\n",
              "</html>"
            ]
          },
          "metadata": {
            "tags": []
          }
        }
      ]
    },
    {
      "cell_type": "markdown",
      "metadata": {
        "id": "d6s63sdnKRAP"
      },
      "source": [
        "### Finding the moving average for a week, mid month and full month ie. 7,15 and 30 days"
      ]
    },
    {
      "cell_type": "code",
      "metadata": {
        "id": "6FhKP4CCRqLz"
      },
      "source": [
        "ma_day = [7,15,30]\n",
        "for ma in ma_day:\n",
        "    column_name = 'Moving avg %s' %(str(ma))\n",
        "    bitcoin[column_name] = bitcoin['Adj Close'].rolling(window=ma).mean()"
      ],
      "execution_count": 16,
      "outputs": []
    },
    {
      "cell_type": "code",
      "metadata": {
        "colab": {
          "base_uri": "https://localhost:8080/"
        },
        "id": "FRv6NFe7LPJV",
        "outputId": "34018b0a-02d0-4505-c610-25278380223e"
      },
      "source": [
        "bitcoin.columns"
      ],
      "execution_count": 17,
      "outputs": [
        {
          "output_type": "execute_result",
          "data": {
            "text/plain": [
              "Index(['Date', 'High', 'Low', 'Open', 'Close', 'Volume', 'Adj Close',\n",
              "       'Moving avg 7', 'Moving avg 15', 'Moving avg 30'],\n",
              "      dtype='object')"
            ]
          },
          "metadata": {
            "tags": []
          },
          "execution_count": 17
        }
      ]
    },
    {
      "cell_type": "markdown",
      "metadata": {
        "id": "-X2ooKedKpdf"
      },
      "source": [
        "### 15 Day moving average graph "
      ]
    },
    {
      "cell_type": "code",
      "metadata": {
        "colab": {
          "base_uri": "https://localhost:8080/",
          "height": 542
        },
        "id": "A520K43dXX7f",
        "outputId": "93163d02-f096-4bab-d2da-5b2ae73c5454"
      },
      "source": [
        "fig = go.Figure()\n",
        "\n",
        "# Add Traces for Adj close\n",
        "fig.add_trace(go.Scatter(x=bitcoin['Date']\n",
        "                         , y=bitcoin['Adj Close']\n",
        "                         , name='Adj Close'\n",
        "                         , visible=True\n",
        "                        ))\n",
        "\n",
        "# Add Traces for 15 days moving average\n",
        "fig.add_trace(go.Scatter(x=bitcoin['Date']\n",
        "                         , y=bitcoin['Moving avg 15']\n",
        "                         , name='15 days moving average'\n",
        "                         , visible=True\n",
        "                        ))\n",
        "# Set title\n",
        "fig.update_layout(title_text='15 Days Moving Average')\n",
        "\n",
        "# Set x and y-axis titles\n",
        "fig.update_xaxes(title_text='Date')\n",
        "fig.update_yaxes(title_text='Price')\n",
        "\n",
        "fig.show() "
      ],
      "execution_count": 18,
      "outputs": [
        {
          "output_type": "display_data",
          "data": {
            "text/html": [
              "<html>\n",
              "<head><meta charset=\"utf-8\" /></head>\n",
              "<body>\n",
              "    <div>\n",
              "            <script src=\"https://cdnjs.cloudflare.com/ajax/libs/mathjax/2.7.5/MathJax.js?config=TeX-AMS-MML_SVG\"></script><script type=\"text/javascript\">if (window.MathJax) {MathJax.Hub.Config({SVG: {font: \"STIX-Web\"}});}</script>\n",
              "                <script type=\"text/javascript\">window.PlotlyConfig = {MathJaxConfig: 'local'};</script>\n",
              "        <script src=\"https://cdn.plot.ly/plotly-latest.min.js\"></script>    \n",
              "            <div id=\"e254c01e-e15d-4e94-a97b-30efba3fe54d\" class=\"plotly-graph-div\" style=\"height:525px; width:100%;\"></div>\n",
              "            <script type=\"text/javascript\">\n",
              "                \n",
              "                    window.PLOTLYENV=window.PLOTLYENV || {};\n",
              "                    \n",
              "                if (document.getElementById(\"e254c01e-e15d-4e94-a97b-30efba3fe54d\")) {\n",
              "                    Plotly.newPlot(\n",
              "                        'e254c01e-e15d-4e94-a97b-30efba3fe54d',\n",
              "                        [{\"name\": \"Adj Close\", \"type\": \"scatter\", \"visible\": true, \"x\": [\"2019-09-17T00:00:00\", \"2019-09-18T00:00:00\", \"2019-09-19T00:00:00\", \"2019-09-20T00:00:00\", \"2019-09-21T00:00:00\", \"2019-09-22T00:00:00\", \"2019-09-23T00:00:00\", \"2019-09-24T00:00:00\", \"2019-09-25T00:00:00\", \"2019-09-26T00:00:00\", \"2019-09-27T00:00:00\", \"2019-09-28T00:00:00\", \"2019-09-29T00:00:00\", \"2019-09-30T00:00:00\", \"2019-10-01T00:00:00\", \"2019-10-02T00:00:00\", \"2019-10-03T00:00:00\", \"2019-10-04T00:00:00\", \"2019-10-05T00:00:00\", \"2019-10-06T00:00:00\", \"2019-10-07T00:00:00\", \"2019-10-08T00:00:00\", \"2019-10-09T00:00:00\", \"2019-10-10T00:00:00\", \"2019-10-11T00:00:00\", \"2019-10-12T00:00:00\", \"2019-10-13T00:00:00\", \"2019-10-14T00:00:00\", \"2019-10-15T00:00:00\", \"2019-10-16T00:00:00\", \"2019-10-17T00:00:00\", \"2019-10-18T00:00:00\", \"2019-10-19T00:00:00\", \"2019-10-20T00:00:00\", \"2019-10-21T00:00:00\", \"2019-10-22T00:00:00\", \"2019-10-23T00:00:00\", \"2019-10-24T00:00:00\", \"2019-10-25T00:00:00\", \"2019-10-26T00:00:00\", \"2019-10-28T00:00:00\", \"2019-10-29T00:00:00\", \"2019-10-30T00:00:00\", \"2019-10-31T00:00:00\", \"2019-11-01T00:00:00\", \"2019-11-02T00:00:00\", \"2019-11-03T00:00:00\", \"2019-11-04T00:00:00\", \"2019-11-05T00:00:00\", \"2019-11-06T00:00:00\", \"2019-11-07T00:00:00\", \"2019-11-08T00:00:00\", \"2019-11-09T00:00:00\", \"2019-11-10T00:00:00\", \"2019-11-11T00:00:00\", \"2019-11-12T00:00:00\", \"2019-11-13T00:00:00\", \"2019-11-14T00:00:00\", \"2019-11-15T00:00:00\", \"2019-11-16T00:00:00\", \"2019-11-17T00:00:00\", \"2019-11-18T00:00:00\", \"2019-11-19T00:00:00\", \"2019-11-20T00:00:00\", \"2019-11-21T00:00:00\", \"2019-11-22T00:00:00\", \"2019-11-23T00:00:00\", \"2019-11-24T00:00:00\", \"2019-11-25T00:00:00\", \"2019-11-26T00:00:00\", \"2019-11-27T00:00:00\", \"2019-11-28T00:00:00\", \"2019-11-29T00:00:00\", \"2019-11-30T00:00:00\", \"2019-12-01T00:00:00\", \"2019-12-02T00:00:00\", \"2019-12-03T00:00:00\", \"2019-12-04T00:00:00\", \"2019-12-05T00:00:00\", \"2019-12-06T00:00:00\", \"2019-12-07T00:00:00\", \"2019-12-08T00:00:00\", \"2019-12-09T00:00:00\", \"2019-12-10T00:00:00\", \"2019-12-11T00:00:00\", \"2019-12-12T00:00:00\", \"2019-12-13T00:00:00\", \"2019-12-14T00:00:00\", \"2019-12-15T00:00:00\", \"2019-12-16T00:00:00\", \"2019-12-17T00:00:00\", \"2019-12-18T00:00:00\", \"2019-12-19T00:00:00\", \"2019-12-20T00:00:00\", \"2019-12-21T00:00:00\", \"2019-12-22T00:00:00\", \"2019-12-23T00:00:00\", \"2019-12-24T00:00:00\", \"2019-12-25T00:00:00\", \"2019-12-26T00:00:00\", \"2019-12-27T00:00:00\", \"2019-12-28T00:00:00\", \"2019-12-29T00:00:00\", \"2019-12-30T00:00:00\", \"2019-12-31T00:00:00\", \"2020-01-01T00:00:00\", \"2020-01-02T00:00:00\", \"2020-01-03T00:00:00\", \"2020-01-04T00:00:00\", \"2020-01-05T00:00:00\", \"2020-01-06T00:00:00\", \"2020-01-07T00:00:00\", \"2020-01-08T00:00:00\", \"2020-01-09T00:00:00\", \"2020-01-10T00:00:00\", \"2020-01-11T00:00:00\", \"2020-01-12T00:00:00\", \"2020-01-13T00:00:00\", \"2020-01-14T00:00:00\", \"2020-01-15T00:00:00\", \"2020-01-16T00:00:00\", \"2020-01-17T00:00:00\", \"2020-01-18T00:00:00\", \"2020-01-19T00:00:00\", \"2020-01-20T00:00:00\", \"2020-01-21T00:00:00\", \"2020-01-22T00:00:00\", \"2020-01-23T00:00:00\", \"2020-01-24T00:00:00\", \"2020-01-25T00:00:00\", \"2020-01-26T00:00:00\", \"2020-01-27T00:00:00\", \"2020-01-28T00:00:00\", \"2020-01-29T00:00:00\", \"2020-01-30T00:00:00\", \"2020-01-31T00:00:00\", \"2020-02-01T00:00:00\", \"2020-02-02T00:00:00\", \"2020-02-03T00:00:00\", \"2020-02-04T00:00:00\", \"2020-02-05T00:00:00\", \"2020-02-06T00:00:00\", \"2020-02-07T00:00:00\", \"2020-02-08T00:00:00\", \"2020-02-09T00:00:00\", \"2020-02-10T00:00:00\", \"2020-02-11T00:00:00\", \"2020-02-12T00:00:00\", \"2020-02-13T00:00:00\", \"2020-02-14T00:00:00\", \"2020-02-15T00:00:00\", \"2020-02-16T00:00:00\", \"2020-02-17T00:00:00\", \"2020-02-18T00:00:00\", \"2020-02-19T00:00:00\", \"2020-02-20T00:00:00\", \"2020-02-21T00:00:00\", \"2020-02-22T00:00:00\", \"2020-02-23T00:00:00\", \"2020-02-24T00:00:00\", \"2020-02-25T00:00:00\", \"2020-02-26T00:00:00\", \"2020-02-27T00:00:00\", \"2020-02-28T00:00:00\", \"2020-02-29T00:00:00\", \"2020-03-01T00:00:00\", \"2020-03-02T00:00:00\", \"2020-03-03T00:00:00\", \"2020-03-04T00:00:00\", \"2020-03-05T00:00:00\", \"2020-03-06T00:00:00\", \"2020-03-07T00:00:00\", \"2020-03-08T00:00:00\", \"2020-03-09T00:00:00\", \"2020-03-10T00:00:00\", \"2020-03-11T00:00:00\", \"2020-03-12T00:00:00\", \"2020-03-13T00:00:00\", \"2020-03-14T00:00:00\", \"2020-03-15T00:00:00\", \"2020-03-16T00:00:00\", \"2020-03-17T00:00:00\", \"2020-03-18T00:00:00\", \"2020-03-19T00:00:00\", \"2020-03-20T00:00:00\", \"2020-03-21T00:00:00\", \"2020-03-22T00:00:00\", \"2020-03-23T00:00:00\", \"2020-03-24T00:00:00\", \"2020-03-25T00:00:00\", \"2020-03-26T00:00:00\", \"2020-03-27T00:00:00\", \"2020-03-28T00:00:00\", \"2020-03-29T00:00:00\", \"2020-03-29T00:00:00\", \"2020-03-30T00:00:00\", \"2020-03-31T00:00:00\", \"2020-04-01T00:00:00\", \"2020-04-02T00:00:00\", \"2020-04-03T00:00:00\", \"2020-04-04T00:00:00\", \"2020-04-05T00:00:00\", \"2020-04-06T00:00:00\", \"2020-04-07T00:00:00\", \"2020-04-08T00:00:00\", \"2020-04-09T00:00:00\", \"2020-04-10T00:00:00\", \"2020-04-11T00:00:00\", \"2020-04-12T00:00:00\", \"2020-04-13T00:00:00\", \"2020-04-14T00:00:00\", \"2020-04-15T00:00:00\", \"2020-04-17T00:00:00\", \"2020-04-18T00:00:00\", \"2020-04-19T00:00:00\", \"2020-04-20T00:00:00\", \"2020-04-21T00:00:00\", \"2020-04-22T00:00:00\", \"2020-04-23T00:00:00\", \"2020-04-24T00:00:00\", \"2020-04-25T00:00:00\", \"2020-04-26T00:00:00\", \"2020-04-27T00:00:00\", \"2020-04-28T00:00:00\", \"2020-04-29T00:00:00\", \"2020-04-30T00:00:00\", \"2020-05-01T00:00:00\", \"2020-05-02T00:00:00\", \"2020-05-03T00:00:00\", \"2020-05-04T00:00:00\", \"2020-05-05T00:00:00\", \"2020-05-06T00:00:00\", \"2020-05-07T00:00:00\", \"2020-05-08T00:00:00\", \"2020-05-09T00:00:00\", \"2020-05-10T00:00:00\", \"2020-05-11T00:00:00\", \"2020-05-12T00:00:00\", \"2020-05-13T00:00:00\", \"2020-05-14T00:00:00\", \"2020-05-15T00:00:00\", \"2020-05-16T00:00:00\", \"2020-05-17T00:00:00\", \"2020-05-18T00:00:00\", \"2020-05-19T00:00:00\", \"2020-05-20T00:00:00\", \"2020-05-21T00:00:00\", \"2020-05-22T00:00:00\", \"2020-05-23T00:00:00\", \"2020-05-24T00:00:00\", \"2020-05-25T00:00:00\", \"2020-05-26T00:00:00\", \"2020-05-27T00:00:00\", \"2020-05-28T00:00:00\", \"2020-05-29T00:00:00\", \"2020-05-30T00:00:00\", \"2020-05-31T00:00:00\", \"2020-06-01T00:00:00\", \"2020-06-02T00:00:00\", \"2020-06-03T00:00:00\", \"2020-06-04T00:00:00\", \"2020-06-05T00:00:00\", \"2020-06-06T00:00:00\", \"2020-06-07T00:00:00\", \"2020-06-08T00:00:00\", \"2020-06-09T00:00:00\", \"2020-06-10T00:00:00\", \"2020-06-11T00:00:00\", \"2020-06-12T00:00:00\", \"2020-06-13T00:00:00\", \"2020-06-14T00:00:00\", \"2020-06-15T00:00:00\", \"2020-06-16T00:00:00\", \"2020-06-17T00:00:00\", \"2020-06-18T00:00:00\", \"2020-06-19T00:00:00\", \"2020-06-20T00:00:00\", \"2020-06-21T00:00:00\", \"2020-06-22T00:00:00\", \"2020-06-23T00:00:00\", \"2020-06-24T00:00:00\", \"2020-06-25T00:00:00\", \"2020-06-26T00:00:00\", \"2020-06-27T00:00:00\", \"2020-06-28T00:00:00\", \"2020-06-29T00:00:00\", \"2020-06-30T00:00:00\", \"2020-07-01T00:00:00\", \"2020-07-02T00:00:00\", \"2020-07-03T00:00:00\", \"2020-07-04T00:00:00\", \"2020-07-05T00:00:00\", \"2020-07-06T00:00:00\", \"2020-07-07T00:00:00\", \"2020-07-08T00:00:00\", \"2020-07-09T00:00:00\", \"2020-07-10T00:00:00\", \"2020-07-11T00:00:00\", \"2020-07-12T00:00:00\", \"2020-07-13T00:00:00\", \"2020-07-14T00:00:00\", \"2020-07-15T00:00:00\", \"2020-07-16T00:00:00\", \"2020-07-17T00:00:00\", \"2020-07-18T00:00:00\", \"2020-07-19T00:00:00\", \"2020-07-20T00:00:00\", \"2020-07-21T00:00:00\", \"2020-07-22T00:00:00\", \"2020-07-23T00:00:00\", \"2020-07-24T00:00:00\", \"2020-07-25T00:00:00\", \"2020-07-26T00:00:00\", \"2020-07-27T00:00:00\", \"2020-07-28T00:00:00\", \"2020-07-29T00:00:00\", \"2020-07-30T00:00:00\", \"2020-07-31T00:00:00\", \"2020-08-01T00:00:00\", \"2020-08-02T00:00:00\", \"2020-08-03T00:00:00\", \"2020-08-04T00:00:00\", \"2020-08-05T00:00:00\", \"2020-08-06T00:00:00\", \"2020-08-07T00:00:00\", \"2020-08-08T00:00:00\", \"2020-08-09T00:00:00\", \"2020-08-10T00:00:00\", \"2020-08-11T00:00:00\", \"2020-08-12T00:00:00\", \"2020-08-13T00:00:00\", \"2020-08-14T00:00:00\", \"2020-08-15T00:00:00\", \"2020-08-16T00:00:00\", \"2020-08-17T00:00:00\", \"2020-08-18T00:00:00\", \"2020-08-19T00:00:00\", \"2020-08-20T00:00:00\", \"2020-08-21T00:00:00\", \"2020-08-22T00:00:00\", \"2020-08-23T00:00:00\", \"2020-08-24T00:00:00\", \"2020-08-25T00:00:00\", \"2020-08-26T00:00:00\", \"2020-08-27T00:00:00\", \"2020-08-28T00:00:00\", \"2020-08-29T00:00:00\", \"2020-08-30T00:00:00\", \"2020-08-31T00:00:00\", \"2020-09-01T00:00:00\", \"2020-09-02T00:00:00\", \"2020-09-03T00:00:00\", \"2020-09-04T00:00:00\", \"2020-09-05T00:00:00\", \"2020-09-06T00:00:00\", \"2020-09-07T00:00:00\", \"2020-09-08T00:00:00\", \"2020-09-09T00:00:00\", \"2020-09-10T00:00:00\", \"2020-09-11T00:00:00\", \"2020-09-12T00:00:00\", \"2020-09-13T00:00:00\", \"2020-09-14T00:00:00\", \"2020-09-15T00:00:00\", \"2020-09-16T00:00:00\", \"2020-09-17T00:00:00\", \"2020-09-18T00:00:00\", \"2020-09-19T00:00:00\", \"2020-09-20T00:00:00\", \"2020-09-21T00:00:00\", \"2020-09-22T00:00:00\", \"2020-09-23T00:00:00\", \"2020-09-24T00:00:00\", \"2020-09-25T00:00:00\", \"2020-09-26T00:00:00\", \"2020-09-27T00:00:00\", \"2020-09-28T00:00:00\", \"2020-09-29T00:00:00\", \"2020-09-30T00:00:00\", \"2020-10-01T00:00:00\", \"2020-10-02T00:00:00\", \"2020-10-03T00:00:00\", \"2020-10-04T00:00:00\", \"2020-10-05T00:00:00\", \"2020-10-06T00:00:00\", \"2020-10-07T00:00:00\", \"2020-10-09T00:00:00\", \"2020-10-10T00:00:00\", \"2020-10-13T00:00:00\", \"2020-10-14T00:00:00\", \"2020-10-15T00:00:00\", \"2020-10-16T00:00:00\", \"2020-10-17T00:00:00\", \"2020-10-18T00:00:00\", \"2020-10-19T00:00:00\", \"2020-10-20T00:00:00\", \"2020-10-21T00:00:00\", \"2020-10-22T00:00:00\", \"2020-10-23T00:00:00\", \"2020-10-24T00:00:00\", \"2020-10-26T00:00:00\", \"2020-10-27T00:00:00\", \"2020-10-28T00:00:00\", \"2020-10-29T00:00:00\", \"2020-10-30T00:00:00\", \"2020-10-31T00:00:00\", \"2020-11-01T00:00:00\", \"2020-11-02T00:00:00\", \"2020-11-03T00:00:00\", \"2020-11-04T00:00:00\", \"2020-11-05T00:00:00\", \"2020-11-06T00:00:00\", \"2020-11-07T00:00:00\", \"2020-11-08T00:00:00\", \"2020-11-09T00:00:00\", \"2020-11-10T00:00:00\", \"2020-11-11T00:00:00\", \"2020-11-12T00:00:00\", \"2020-11-13T00:00:00\", \"2020-11-14T00:00:00\", \"2020-11-15T00:00:00\", \"2020-11-16T00:00:00\", \"2020-11-17T00:00:00\", \"2020-11-18T00:00:00\", \"2020-11-19T00:00:00\", \"2020-11-20T00:00:00\", \"2020-11-21T00:00:00\", \"2020-11-22T00:00:00\", \"2020-11-23T00:00:00\", \"2020-11-24T00:00:00\", \"2020-11-25T00:00:00\", \"2020-11-26T00:00:00\", \"2020-11-27T00:00:00\", \"2020-11-28T00:00:00\", \"2020-11-29T00:00:00\", \"2020-11-30T00:00:00\", \"2020-12-01T00:00:00\", \"2020-12-02T00:00:00\", \"2020-12-03T00:00:00\", \"2020-12-04T00:00:00\", \"2020-12-05T00:00:00\", \"2020-12-06T00:00:00\", \"2020-12-07T00:00:00\", \"2020-12-08T00:00:00\", \"2020-12-09T00:00:00\", \"2020-12-10T00:00:00\", \"2020-12-11T00:00:00\", \"2020-12-12T00:00:00\", \"2020-12-13T00:00:00\", \"2020-12-14T00:00:00\", \"2020-12-15T00:00:00\", \"2020-12-16T00:00:00\", \"2020-12-17T00:00:00\", \"2020-12-18T00:00:00\", \"2020-12-19T00:00:00\", \"2020-12-20T00:00:00\", \"2020-12-21T00:00:00\", \"2020-12-22T00:00:00\", \"2020-12-23T00:00:00\", \"2020-12-24T00:00:00\", \"2020-12-25T00:00:00\", \"2020-12-26T00:00:00\", \"2020-12-27T00:00:00\", \"2020-12-28T00:00:00\", \"2020-12-29T00:00:00\", \"2020-12-30T00:00:00\", \"2020-12-31T00:00:00\", \"2021-01-01T00:00:00\", \"2021-01-02T00:00:00\", \"2021-01-03T00:00:00\", \"2021-01-04T00:00:00\", \"2021-01-05T00:00:00\", \"2021-01-06T00:00:00\", \"2021-01-07T00:00:00\", \"2021-01-08T00:00:00\", \"2021-01-09T00:00:00\", \"2021-01-10T00:00:00\", \"2021-01-11T00:00:00\", \"2021-01-12T00:00:00\", \"2021-01-13T00:00:00\", \"2021-01-14T00:00:00\", \"2021-01-15T00:00:00\", \"2021-01-16T00:00:00\", \"2021-01-17T00:00:00\", \"2021-01-18T00:00:00\", \"2021-01-19T00:00:00\", \"2021-01-20T00:00:00\", \"2021-01-21T00:00:00\", \"2021-01-22T00:00:00\", \"2021-01-23T00:00:00\", \"2021-01-24T00:00:00\", \"2021-01-25T00:00:00\", \"2021-01-26T00:00:00\", \"2021-01-27T00:00:00\", \"2021-01-28T00:00:00\", \"2021-01-29T00:00:00\", \"2021-01-30T00:00:00\", \"2021-01-31T00:00:00\", \"2021-02-01T00:00:00\", \"2021-02-02T00:00:00\", \"2021-02-03T00:00:00\", \"2021-02-04T00:00:00\", \"2021-02-05T00:00:00\", \"2021-02-06T00:00:00\", \"2021-02-07T00:00:00\", \"2021-02-08T00:00:00\", \"2021-02-09T00:00:00\", \"2021-02-10T00:00:00\", \"2021-02-11T00:00:00\", \"2021-02-12T00:00:00\", \"2021-02-13T00:00:00\", \"2021-02-14T00:00:00\", \"2021-02-15T00:00:00\", \"2021-02-16T00:00:00\", \"2021-02-17T00:00:00\", \"2021-02-18T00:00:00\", \"2021-02-19T00:00:00\", \"2021-02-20T00:00:00\", \"2021-02-21T00:00:00\", \"2021-02-22T00:00:00\", \"2021-02-23T00:00:00\", \"2021-02-24T00:00:00\", \"2021-02-25T00:00:00\", \"2021-02-26T00:00:00\", \"2021-02-27T00:00:00\", \"2021-02-28T00:00:00\", \"2021-03-01T00:00:00\", \"2021-03-02T00:00:00\", \"2021-03-03T00:00:00\", \"2021-03-04T00:00:00\", \"2021-03-05T00:00:00\", \"2021-03-06T00:00:00\", \"2021-03-07T00:00:00\", \"2021-03-08T00:00:00\", \"2021-03-09T00:00:00\", \"2021-03-10T00:00:00\", \"2021-03-11T00:00:00\", \"2021-03-12T00:00:00\", \"2021-03-13T00:00:00\", \"2021-03-14T00:00:00\", \"2021-03-15T00:00:00\", \"2021-03-16T00:00:00\", \"2021-03-17T00:00:00\", \"2021-03-18T00:00:00\", \"2021-03-19T00:00:00\", \"2021-03-20T00:00:00\", \"2021-03-21T00:00:00\", \"2021-03-22T00:00:00\", \"2021-03-23T00:00:00\", \"2021-03-24T00:00:00\", \"2021-03-25T00:00:00\", \"2021-03-26T00:00:00\", \"2021-03-27T00:00:00\", \"2021-03-28T00:00:00\", \"2021-03-28T00:00:00\", \"2021-03-29T00:00:00\", \"2021-03-30T00:00:00\", \"2021-03-31T00:00:00\", \"2021-04-01T00:00:00\", \"2021-04-02T00:00:00\", \"2021-04-03T00:00:00\", \"2021-04-04T00:00:00\", \"2021-04-05T00:00:00\", \"2021-04-06T00:00:00\", \"2021-04-07T00:00:00\", \"2021-04-08T00:00:00\", \"2021-04-09T00:00:00\", \"2021-04-10T00:00:00\", \"2021-04-11T00:00:00\", \"2021-04-12T00:00:00\", \"2021-04-13T00:00:00\", \"2021-04-14T00:00:00\", \"2021-04-15T00:00:00\", \"2021-04-16T00:00:00\", \"2021-04-18T00:00:00\"], \"y\": [725961.0, 732951.1875, 724993.9375, 713463.9375, 717018.5625, 688840.875, 611785.25, 602472.6875, 576215.6875, 583067.125, 581412.25, 571408.5, 585926.1875, 593290.375, 597178.3125, 586688.8125, 581185.625, 577328.0, 565767.3125, 586185.4375, 586053.9375, 611323.4375, 609553.5625, 591260.8125, 592312.25, 590159.0, 596671.25, 586683.875, 574306.125, 576431.25, 566819.3125, 567910.75, 584096.375, 584640.5625, 572292.25, 531475.1875, 532109.625, 613524.0625, 654913.8125, 676643.4375, 654827.125, 668372.0625, 652155.3125, 652986.5625, 654806.4375, 657598.75, 651296.6875, 666309.5, 661194.0, 664716.0625, 658432.4375, 628466.0, 629087.0625, 646299.125, 626781.8125, 632876.3125, 635529.25, 626685.0, 608323.875, 612666.1875, 614565.8125, 597812.375, 589701.8125, 576182.875, 548371.125, 523840.28125, 531107.0625, 505996.15625, 512302.03125, 515668.875, 536541.4375, 534040.5, 556900.25, 543151.25, 532704.625, 524510.5625, 525264.375, 518448.71875, 531771.875, 538078.25, 538737.125, 539284.25, 525241.75, 515525.1875, 510555.71875, 511147.21875, 513890.375, 503639.625, 505572.75, 491538.84375, 471708.9375, 516652.3125, 513070.84375, 513254.25, 511287.78125, 534074.4375, 523873.0, 521803.625, 518427.5625, 516144.125, 520712.8125, 522705.71875, 530212.125, 520151.0, 512910.8125, 512853.96875, 498416.75, 527076.25, 531796.125, 531863.1875, 557805.0, 587512.375, 577281.125, 560959.5625, 579751.875, 570347.625, 581358.3125, 576030.0, 625492.125, 622867.0, 619001.5, 634351.875, 635330.25, 618567.375, 615025.9375, 622532.8125, 617293.625, 599645.0625, 602374.8125, 596840.9375, 613184.875, 636606.5625, 666709.6875, 664368.875, 680558.6875, 668553.5, 671581.1875, 668112.75, 662852.0, 652858.25, 684379.6875, 693764.0625, 700566.6875, 705513.875, 723501.875, 702781.3125, 727697.125, 736310.6875, 728065.625, 737593.6875, 707359.875, 710589.75, 691482.6875, 726014.75, 689985.5625, 690676.4375, 696334.0625, 694662.0, 713421.3125, 695287.375, 671481.8125, 632196.0, 629795.5, 625934.4375, 620669.5625, 617995.125, 642377.0, 645247.625, 643466.8125, 670517.5, 675041.0, 659383.8125, 600030.75, 589784.625, 587119.4375, 586831.125, 370008.5625, 411486.1875, 384613.875, 398630.21875, 372605.9375, 386826.6875, 392791.21875, 465331.3125, 468767.71875, 467730.8125, 440398.625, 491303.625, 511582.4375, 506731.90625, 501893.40625, 484432.59375, 467390.5, 446500.71875, 484874.40625, 485055.25, 505986.5625, 517483.96875, 514565.46875, 524816.4375, 517755.6875, 552472.875, 542859.875, 557164.125, 554308.9375, 522989.25, 522500.9375, 531033.3125, 521994.03125, 519791.875, 508125.40625, 546993.3125, 555218.625, 550494.25, 527109.1875, 529577.8125, 543825.8125, 564617.4375, 576269.6875, 577601.25, 585831.8125, 593921.875, 593896.1875, 662441.8125, 652947.5625, 672472.375, 681614.25, 672054.6875, 674153.1875, 683718.375, 706511.875, 753450.375, 742885.0625, 724377.5625, 661405.1875, 653199.75, 663584.6875, 699292.625, 734847.1875, 707795.625, 711499.6875, 733332.25, 735426.3125, 736585.4375, 719366.0, 686917.1875, 697830.8125, 699860.6875, 668024.0625, 675890.25, 666958.125, 696799.8125, 721099.1875, 712872.875, 732606.3125, 714529.4375, 767767.0, 715364.75, 727420.75, 739536.4375, 730371.125, 729475.4375, 736968.5, 736812.8125, 739674.75, 746965.1875, 708222.8125, 720136.4375, 719713.625, 712992.6875, 718047.8125, 728741.8125, 724133.625, 719070.6875, 708232.3125, 711612.0, 709423.625, 731276.8125, 728123.0, 705452.875, 699862.625, 692973.125, 684084.8125, 691438.1875, 694011.0625, 690443.9375, 696325.6875, 683252.1875, 678634.875, 682009.1875, 677638.0, 699483.0625, 693029.3125, 706560.625, 697124.25, 697383.125, 694832.4375, 697210.0, 695231.125, 696265.9375, 690849.5625, 686567.75, 685416.75, 685989.5625, 687995.0625, 685029.5, 698836.9375, 710687.8125, 717179.625, 712641.4375, 723119.375, 740510.875, 822141.9375, 817375.875, 830489.3125, 830777.6875, 848466.1875, 881145.125, 828115.3125, 845338.0625, 841131.125, 878648.375, 882346.75, 870409.25, 881853.25, 875972.8125, 889387.3125, 851413.5, 866195.5625, 881735.6875, 880955.25, 888203.3125, 890807.1875, 915978.5625, 894266.0, 881539.6875, 890749.0, 868617.0625, 875311.0, 873954.3125, 873601.4375, 843803.6875, 853137.9375, 835375.125, 844085.6875, 841479.8125, 856445.4375, 857813.75, 874639.1875, 836109.375, 752531.375, 769950.4375, 744882.125, 753452.625, 761595.1875, 747574.6875, 751046.25, 762048.75, 764222.8125, 767254.125, 758577.6875, 783969.75, 794767.375, 807217.4375, 805666.625, 805632.625, 816656.5, 804346.375, 769813.625, 774611.125, 754483.6875, 794391.5625, 788753.4375, 792596.6875, 794070.375, 790859.25, 799846.3125, 793269.0625, 778205.125, 776131.75, 774689.4375, 783410.6875, 789945.875, 781949.875, 783190.8125, 800505.3125, 824196.0625, 831216.6875, 837731.9375, 843431.0625, 831547.75, 834190.1875, 843384.5, 861833.8125, 875624.8125, 945436.75, 955938.875, 954789.1875, 967822.6875, 962171.1875, 966898.375, 1007752.875, 984616.5625, 998199.5625, 1010758.25, 1028253.1875, 1025276.0625, 1008973.5, 1041555.25, 1048590.375, 1155050.875, 1151581.75, 1097418.25, 1145147.375, 1133938.25, 1135889.25, 1170436.875, 1218894.75, 1216295.125, 1197685.375, 1189296.0, 1243985.5, 1315554.25, 1321773.875, 1320301.625, 1381006.0, 1382557.375, 1362157.375, 1363430.5, 1413212.875, 1382251.625, 1266291.375, 1264934.5, 1310423.375, 1344213.625, 1452322.5, 1385217.0, 1414407.125, 1437778.25, 1380015.625, 1413554.5, 1427727.5, 1416537.0, 1350741.875, 1369604.5, 1347820.25, 1331632.875, 1386549.75, 1411568.625, 1417556.75, 1427655.25, 1568584.75, 1676864.375, 1703118.125, 1756989.125, 1727846.0, 1685955.875, 1762833.75, 1716141.375, 1745972.625, 1814318.625, 1944683.375, 1936930.75, 1991956.25, 2009443.875, 2110859.25, 2118790.25, 2147022.75, 2348254.25, 2395940.25, 2336819.0, 2487166.5, 2693424.25, 2891625.75, 2993704.25, 2953814.25, 2813688.5, 2614815.75, 2481337.5, 2730439.75, 2864221.75, 2694199.0, 2645725.5, 2617995.75, 2680935.25, 2640030.25, 2591756.25, 2248893.5, 2409401.0, 2340918.75, 2356991.0, 2361793.5, 2374998.5, 2222773.5, 2308492.25, 2501913.5, 2498482.75, 2414384.5, 2452240.0, 2589344.75, 2730151.0, 2695098.25, 2776459.25, 2858106.25, 2831977.75, 3369115.0, 3386420.25, 3270382.75, 3483475.5, 3448422.25, 3419439.0, 3536634.0, 3482678.5, 3588405.0, 3796127.0, 3752245.0, 4054759.5, 4071170.25, 4175234.25, 3927762.0, 3534027.0, 3598459.75, 3444981.25, 3410439.5, 3399303.75, 3326373.5, 3638530.75, 3545103.5, 3689294.5, 3551448.0, 3580544.25, 3579452.0, 3747472.0, 3831271.25, 3989882.75, 4072166.0, 4198921.0, 4167426.5, 4451714.0, 4310706.5, 4054141.25, 4119249.75, 4272263.5, 4204622.0, 4226751.0, 4224360.0, 4165414.75, 3946860.5, 3974729.0, 3833831.5, 3754396.75, 3994554.75, 4055135.0, 4053488.75, 4200873.5, 4327242.0, 4313079.0, 4330986.5, 4357392.5, 4226751.5, 4311483.0, 4327746.5, 4276035.5, 4170133.5, 4347744.0, 4352631.5, 4468330.5, 4499101.5, 4491485.5, 4774301.0, 4734890.5, 4731307.5, 4591076.5, 4524215.5, 4130716.75]}, {\"name\": \"15 days moving average\", \"type\": \"scatter\", \"visible\": true, \"x\": [\"2019-09-17T00:00:00\", \"2019-09-18T00:00:00\", \"2019-09-19T00:00:00\", \"2019-09-20T00:00:00\", \"2019-09-21T00:00:00\", \"2019-09-22T00:00:00\", \"2019-09-23T00:00:00\", \"2019-09-24T00:00:00\", \"2019-09-25T00:00:00\", \"2019-09-26T00:00:00\", \"2019-09-27T00:00:00\", \"2019-09-28T00:00:00\", \"2019-09-29T00:00:00\", \"2019-09-30T00:00:00\", \"2019-10-01T00:00:00\", \"2019-10-02T00:00:00\", \"2019-10-03T00:00:00\", \"2019-10-04T00:00:00\", \"2019-10-05T00:00:00\", \"2019-10-06T00:00:00\", \"2019-10-07T00:00:00\", \"2019-10-08T00:00:00\", \"2019-10-09T00:00:00\", \"2019-10-10T00:00:00\", \"2019-10-11T00:00:00\", \"2019-10-12T00:00:00\", \"2019-10-13T00:00:00\", \"2019-10-14T00:00:00\", \"2019-10-15T00:00:00\", \"2019-10-16T00:00:00\", \"2019-10-17T00:00:00\", \"2019-10-18T00:00:00\", \"2019-10-19T00:00:00\", \"2019-10-20T00:00:00\", \"2019-10-21T00:00:00\", \"2019-10-22T00:00:00\", \"2019-10-23T00:00:00\", \"2019-10-24T00:00:00\", \"2019-10-25T00:00:00\", \"2019-10-26T00:00:00\", \"2019-10-28T00:00:00\", \"2019-10-29T00:00:00\", \"2019-10-30T00:00:00\", \"2019-10-31T00:00:00\", \"2019-11-01T00:00:00\", \"2019-11-02T00:00:00\", \"2019-11-03T00:00:00\", \"2019-11-04T00:00:00\", \"2019-11-05T00:00:00\", \"2019-11-06T00:00:00\", \"2019-11-07T00:00:00\", \"2019-11-08T00:00:00\", \"2019-11-09T00:00:00\", \"2019-11-10T00:00:00\", \"2019-11-11T00:00:00\", \"2019-11-12T00:00:00\", \"2019-11-13T00:00:00\", \"2019-11-14T00:00:00\", \"2019-11-15T00:00:00\", \"2019-11-16T00:00:00\", \"2019-11-17T00:00:00\", \"2019-11-18T00:00:00\", \"2019-11-19T00:00:00\", \"2019-11-20T00:00:00\", \"2019-11-21T00:00:00\", \"2019-11-22T00:00:00\", \"2019-11-23T00:00:00\", \"2019-11-24T00:00:00\", \"2019-11-25T00:00:00\", \"2019-11-26T00:00:00\", \"2019-11-27T00:00:00\", \"2019-11-28T00:00:00\", \"2019-11-29T00:00:00\", \"2019-11-30T00:00:00\", \"2019-12-01T00:00:00\", \"2019-12-02T00:00:00\", \"2019-12-03T00:00:00\", \"2019-12-04T00:00:00\", \"2019-12-05T00:00:00\", \"2019-12-06T00:00:00\", \"2019-12-07T00:00:00\", \"2019-12-08T00:00:00\", \"2019-12-09T00:00:00\", \"2019-12-10T00:00:00\", \"2019-12-11T00:00:00\", \"2019-12-12T00:00:00\", \"2019-12-13T00:00:00\", \"2019-12-14T00:00:00\", \"2019-12-15T00:00:00\", \"2019-12-16T00:00:00\", \"2019-12-17T00:00:00\", \"2019-12-18T00:00:00\", \"2019-12-19T00:00:00\", \"2019-12-20T00:00:00\", \"2019-12-21T00:00:00\", \"2019-12-22T00:00:00\", \"2019-12-23T00:00:00\", \"2019-12-24T00:00:00\", \"2019-12-25T00:00:00\", \"2019-12-26T00:00:00\", \"2019-12-27T00:00:00\", \"2019-12-28T00:00:00\", \"2019-12-29T00:00:00\", \"2019-12-30T00:00:00\", \"2019-12-31T00:00:00\", \"2020-01-01T00:00:00\", \"2020-01-02T00:00:00\", \"2020-01-03T00:00:00\", \"2020-01-04T00:00:00\", \"2020-01-05T00:00:00\", \"2020-01-06T00:00:00\", \"2020-01-07T00:00:00\", \"2020-01-08T00:00:00\", \"2020-01-09T00:00:00\", \"2020-01-10T00:00:00\", \"2020-01-11T00:00:00\", \"2020-01-12T00:00:00\", \"2020-01-13T00:00:00\", \"2020-01-14T00:00:00\", \"2020-01-15T00:00:00\", \"2020-01-16T00:00:00\", \"2020-01-17T00:00:00\", \"2020-01-18T00:00:00\", \"2020-01-19T00:00:00\", \"2020-01-20T00:00:00\", \"2020-01-21T00:00:00\", \"2020-01-22T00:00:00\", \"2020-01-23T00:00:00\", \"2020-01-24T00:00:00\", \"2020-01-25T00:00:00\", \"2020-01-26T00:00:00\", \"2020-01-27T00:00:00\", \"2020-01-28T00:00:00\", \"2020-01-29T00:00:00\", \"2020-01-30T00:00:00\", \"2020-01-31T00:00:00\", \"2020-02-01T00:00:00\", \"2020-02-02T00:00:00\", \"2020-02-03T00:00:00\", \"2020-02-04T00:00:00\", \"2020-02-05T00:00:00\", \"2020-02-06T00:00:00\", \"2020-02-07T00:00:00\", \"2020-02-08T00:00:00\", \"2020-02-09T00:00:00\", \"2020-02-10T00:00:00\", \"2020-02-11T00:00:00\", \"2020-02-12T00:00:00\", \"2020-02-13T00:00:00\", \"2020-02-14T00:00:00\", \"2020-02-15T00:00:00\", \"2020-02-16T00:00:00\", \"2020-02-17T00:00:00\", \"2020-02-18T00:00:00\", \"2020-02-19T00:00:00\", \"2020-02-20T00:00:00\", \"2020-02-21T00:00:00\", \"2020-02-22T00:00:00\", \"2020-02-23T00:00:00\", \"2020-02-24T00:00:00\", \"2020-02-25T00:00:00\", \"2020-02-26T00:00:00\", \"2020-02-27T00:00:00\", \"2020-02-28T00:00:00\", \"2020-02-29T00:00:00\", \"2020-03-01T00:00:00\", \"2020-03-02T00:00:00\", \"2020-03-03T00:00:00\", \"2020-03-04T00:00:00\", \"2020-03-05T00:00:00\", \"2020-03-06T00:00:00\", \"2020-03-07T00:00:00\", \"2020-03-08T00:00:00\", \"2020-03-09T00:00:00\", \"2020-03-10T00:00:00\", \"2020-03-11T00:00:00\", \"2020-03-12T00:00:00\", \"2020-03-13T00:00:00\", \"2020-03-14T00:00:00\", \"2020-03-15T00:00:00\", \"2020-03-16T00:00:00\", \"2020-03-17T00:00:00\", \"2020-03-18T00:00:00\", \"2020-03-19T00:00:00\", \"2020-03-20T00:00:00\", \"2020-03-21T00:00:00\", \"2020-03-22T00:00:00\", \"2020-03-23T00:00:00\", \"2020-03-24T00:00:00\", \"2020-03-25T00:00:00\", \"2020-03-26T00:00:00\", \"2020-03-27T00:00:00\", \"2020-03-28T00:00:00\", \"2020-03-29T00:00:00\", \"2020-03-29T00:00:00\", \"2020-03-30T00:00:00\", \"2020-03-31T00:00:00\", \"2020-04-01T00:00:00\", \"2020-04-02T00:00:00\", \"2020-04-03T00:00:00\", \"2020-04-04T00:00:00\", \"2020-04-05T00:00:00\", \"2020-04-06T00:00:00\", \"2020-04-07T00:00:00\", \"2020-04-08T00:00:00\", \"2020-04-09T00:00:00\", \"2020-04-10T00:00:00\", \"2020-04-11T00:00:00\", \"2020-04-12T00:00:00\", \"2020-04-13T00:00:00\", \"2020-04-14T00:00:00\", \"2020-04-15T00:00:00\", \"2020-04-17T00:00:00\", \"2020-04-18T00:00:00\", \"2020-04-19T00:00:00\", \"2020-04-20T00:00:00\", \"2020-04-21T00:00:00\", \"2020-04-22T00:00:00\", \"2020-04-23T00:00:00\", \"2020-04-24T00:00:00\", \"2020-04-25T00:00:00\", \"2020-04-26T00:00:00\", \"2020-04-27T00:00:00\", \"2020-04-28T00:00:00\", \"2020-04-29T00:00:00\", \"2020-04-30T00:00:00\", \"2020-05-01T00:00:00\", \"2020-05-02T00:00:00\", \"2020-05-03T00:00:00\", \"2020-05-04T00:00:00\", \"2020-05-05T00:00:00\", \"2020-05-06T00:00:00\", \"2020-05-07T00:00:00\", \"2020-05-08T00:00:00\", \"2020-05-09T00:00:00\", \"2020-05-10T00:00:00\", \"2020-05-11T00:00:00\", \"2020-05-12T00:00:00\", \"2020-05-13T00:00:00\", \"2020-05-14T00:00:00\", \"2020-05-15T00:00:00\", \"2020-05-16T00:00:00\", \"2020-05-17T00:00:00\", \"2020-05-18T00:00:00\", \"2020-05-19T00:00:00\", \"2020-05-20T00:00:00\", \"2020-05-21T00:00:00\", \"2020-05-22T00:00:00\", \"2020-05-23T00:00:00\", \"2020-05-24T00:00:00\", \"2020-05-25T00:00:00\", \"2020-05-26T00:00:00\", \"2020-05-27T00:00:00\", \"2020-05-28T00:00:00\", \"2020-05-29T00:00:00\", \"2020-05-30T00:00:00\", \"2020-05-31T00:00:00\", \"2020-06-01T00:00:00\", \"2020-06-02T00:00:00\", \"2020-06-03T00:00:00\", \"2020-06-04T00:00:00\", \"2020-06-05T00:00:00\", \"2020-06-06T00:00:00\", \"2020-06-07T00:00:00\", \"2020-06-08T00:00:00\", \"2020-06-09T00:00:00\", \"2020-06-10T00:00:00\", \"2020-06-11T00:00:00\", \"2020-06-12T00:00:00\", \"2020-06-13T00:00:00\", \"2020-06-14T00:00:00\", \"2020-06-15T00:00:00\", \"2020-06-16T00:00:00\", \"2020-06-17T00:00:00\", \"2020-06-18T00:00:00\", \"2020-06-19T00:00:00\", \"2020-06-20T00:00:00\", \"2020-06-21T00:00:00\", \"2020-06-22T00:00:00\", \"2020-06-23T00:00:00\", \"2020-06-24T00:00:00\", \"2020-06-25T00:00:00\", \"2020-06-26T00:00:00\", \"2020-06-27T00:00:00\", \"2020-06-28T00:00:00\", \"2020-06-29T00:00:00\", \"2020-06-30T00:00:00\", \"2020-07-01T00:00:00\", \"2020-07-02T00:00:00\", \"2020-07-03T00:00:00\", \"2020-07-04T00:00:00\", \"2020-07-05T00:00:00\", \"2020-07-06T00:00:00\", \"2020-07-07T00:00:00\", \"2020-07-08T00:00:00\", \"2020-07-09T00:00:00\", \"2020-07-10T00:00:00\", \"2020-07-11T00:00:00\", \"2020-07-12T00:00:00\", \"2020-07-13T00:00:00\", \"2020-07-14T00:00:00\", \"2020-07-15T00:00:00\", \"2020-07-16T00:00:00\", \"2020-07-17T00:00:00\", \"2020-07-18T00:00:00\", \"2020-07-19T00:00:00\", \"2020-07-20T00:00:00\", \"2020-07-21T00:00:00\", \"2020-07-22T00:00:00\", \"2020-07-23T00:00:00\", \"2020-07-24T00:00:00\", \"2020-07-25T00:00:00\", \"2020-07-26T00:00:00\", \"2020-07-27T00:00:00\", \"2020-07-28T00:00:00\", \"2020-07-29T00:00:00\", \"2020-07-30T00:00:00\", \"2020-07-31T00:00:00\", \"2020-08-01T00:00:00\", \"2020-08-02T00:00:00\", \"2020-08-03T00:00:00\", \"2020-08-04T00:00:00\", \"2020-08-05T00:00:00\", \"2020-08-06T00:00:00\", \"2020-08-07T00:00:00\", \"2020-08-08T00:00:00\", \"2020-08-09T00:00:00\", \"2020-08-10T00:00:00\", \"2020-08-11T00:00:00\", \"2020-08-12T00:00:00\", \"2020-08-13T00:00:00\", \"2020-08-14T00:00:00\", \"2020-08-15T00:00:00\", \"2020-08-16T00:00:00\", \"2020-08-17T00:00:00\", \"2020-08-18T00:00:00\", \"2020-08-19T00:00:00\", \"2020-08-20T00:00:00\", \"2020-08-21T00:00:00\", \"2020-08-22T00:00:00\", \"2020-08-23T00:00:00\", \"2020-08-24T00:00:00\", \"2020-08-25T00:00:00\", \"2020-08-26T00:00:00\", \"2020-08-27T00:00:00\", \"2020-08-28T00:00:00\", \"2020-08-29T00:00:00\", \"2020-08-30T00:00:00\", \"2020-08-31T00:00:00\", \"2020-09-01T00:00:00\", \"2020-09-02T00:00:00\", \"2020-09-03T00:00:00\", \"2020-09-04T00:00:00\", \"2020-09-05T00:00:00\", \"2020-09-06T00:00:00\", \"2020-09-07T00:00:00\", \"2020-09-08T00:00:00\", \"2020-09-09T00:00:00\", \"2020-09-10T00:00:00\", \"2020-09-11T00:00:00\", \"2020-09-12T00:00:00\", \"2020-09-13T00:00:00\", \"2020-09-14T00:00:00\", \"2020-09-15T00:00:00\", \"2020-09-16T00:00:00\", \"2020-09-17T00:00:00\", \"2020-09-18T00:00:00\", \"2020-09-19T00:00:00\", \"2020-09-20T00:00:00\", \"2020-09-21T00:00:00\", \"2020-09-22T00:00:00\", \"2020-09-23T00:00:00\", \"2020-09-24T00:00:00\", \"2020-09-25T00:00:00\", \"2020-09-26T00:00:00\", \"2020-09-27T00:00:00\", \"2020-09-28T00:00:00\", \"2020-09-29T00:00:00\", \"2020-09-30T00:00:00\", \"2020-10-01T00:00:00\", \"2020-10-02T00:00:00\", \"2020-10-03T00:00:00\", \"2020-10-04T00:00:00\", \"2020-10-05T00:00:00\", \"2020-10-06T00:00:00\", \"2020-10-07T00:00:00\", \"2020-10-09T00:00:00\", \"2020-10-10T00:00:00\", \"2020-10-13T00:00:00\", \"2020-10-14T00:00:00\", \"2020-10-15T00:00:00\", \"2020-10-16T00:00:00\", \"2020-10-17T00:00:00\", \"2020-10-18T00:00:00\", \"2020-10-19T00:00:00\", \"2020-10-20T00:00:00\", \"2020-10-21T00:00:00\", \"2020-10-22T00:00:00\", \"2020-10-23T00:00:00\", \"2020-10-24T00:00:00\", \"2020-10-26T00:00:00\", \"2020-10-27T00:00:00\", \"2020-10-28T00:00:00\", \"2020-10-29T00:00:00\", \"2020-10-30T00:00:00\", \"2020-10-31T00:00:00\", \"2020-11-01T00:00:00\", \"2020-11-02T00:00:00\", \"2020-11-03T00:00:00\", \"2020-11-04T00:00:00\", \"2020-11-05T00:00:00\", \"2020-11-06T00:00:00\", \"2020-11-07T00:00:00\", \"2020-11-08T00:00:00\", \"2020-11-09T00:00:00\", \"2020-11-10T00:00:00\", \"2020-11-11T00:00:00\", \"2020-11-12T00:00:00\", \"2020-11-13T00:00:00\", \"2020-11-14T00:00:00\", \"2020-11-15T00:00:00\", \"2020-11-16T00:00:00\", \"2020-11-17T00:00:00\", \"2020-11-18T00:00:00\", \"2020-11-19T00:00:00\", \"2020-11-20T00:00:00\", \"2020-11-21T00:00:00\", \"2020-11-22T00:00:00\", \"2020-11-23T00:00:00\", \"2020-11-24T00:00:00\", \"2020-11-25T00:00:00\", \"2020-11-26T00:00:00\", \"2020-11-27T00:00:00\", \"2020-11-28T00:00:00\", \"2020-11-29T00:00:00\", \"2020-11-30T00:00:00\", \"2020-12-01T00:00:00\", \"2020-12-02T00:00:00\", \"2020-12-03T00:00:00\", \"2020-12-04T00:00:00\", \"2020-12-05T00:00:00\", \"2020-12-06T00:00:00\", \"2020-12-07T00:00:00\", \"2020-12-08T00:00:00\", \"2020-12-09T00:00:00\", \"2020-12-10T00:00:00\", \"2020-12-11T00:00:00\", \"2020-12-12T00:00:00\", \"2020-12-13T00:00:00\", \"2020-12-14T00:00:00\", \"2020-12-15T00:00:00\", \"2020-12-16T00:00:00\", \"2020-12-17T00:00:00\", \"2020-12-18T00:00:00\", \"2020-12-19T00:00:00\", \"2020-12-20T00:00:00\", \"2020-12-21T00:00:00\", \"2020-12-22T00:00:00\", \"2020-12-23T00:00:00\", \"2020-12-24T00:00:00\", \"2020-12-25T00:00:00\", \"2020-12-26T00:00:00\", \"2020-12-27T00:00:00\", \"2020-12-28T00:00:00\", \"2020-12-29T00:00:00\", \"2020-12-30T00:00:00\", \"2020-12-31T00:00:00\", \"2021-01-01T00:00:00\", \"2021-01-02T00:00:00\", \"2021-01-03T00:00:00\", \"2021-01-04T00:00:00\", \"2021-01-05T00:00:00\", \"2021-01-06T00:00:00\", \"2021-01-07T00:00:00\", \"2021-01-08T00:00:00\", \"2021-01-09T00:00:00\", \"2021-01-10T00:00:00\", \"2021-01-11T00:00:00\", \"2021-01-12T00:00:00\", \"2021-01-13T00:00:00\", \"2021-01-14T00:00:00\", \"2021-01-15T00:00:00\", \"2021-01-16T00:00:00\", \"2021-01-17T00:00:00\", \"2021-01-18T00:00:00\", \"2021-01-19T00:00:00\", \"2021-01-20T00:00:00\", \"2021-01-21T00:00:00\", \"2021-01-22T00:00:00\", \"2021-01-23T00:00:00\", \"2021-01-24T00:00:00\", \"2021-01-25T00:00:00\", \"2021-01-26T00:00:00\", \"2021-01-27T00:00:00\", \"2021-01-28T00:00:00\", \"2021-01-29T00:00:00\", \"2021-01-30T00:00:00\", \"2021-01-31T00:00:00\", \"2021-02-01T00:00:00\", \"2021-02-02T00:00:00\", \"2021-02-03T00:00:00\", \"2021-02-04T00:00:00\", \"2021-02-05T00:00:00\", \"2021-02-06T00:00:00\", \"2021-02-07T00:00:00\", \"2021-02-08T00:00:00\", \"2021-02-09T00:00:00\", \"2021-02-10T00:00:00\", \"2021-02-11T00:00:00\", \"2021-02-12T00:00:00\", \"2021-02-13T00:00:00\", \"2021-02-14T00:00:00\", \"2021-02-15T00:00:00\", \"2021-02-16T00:00:00\", \"2021-02-17T00:00:00\", \"2021-02-18T00:00:00\", \"2021-02-19T00:00:00\", \"2021-02-20T00:00:00\", \"2021-02-21T00:00:00\", \"2021-02-22T00:00:00\", \"2021-02-23T00:00:00\", \"2021-02-24T00:00:00\", \"2021-02-25T00:00:00\", \"2021-02-26T00:00:00\", \"2021-02-27T00:00:00\", \"2021-02-28T00:00:00\", \"2021-03-01T00:00:00\", \"2021-03-02T00:00:00\", \"2021-03-03T00:00:00\", \"2021-03-04T00:00:00\", \"2021-03-05T00:00:00\", \"2021-03-06T00:00:00\", \"2021-03-07T00:00:00\", \"2021-03-08T00:00:00\", \"2021-03-09T00:00:00\", \"2021-03-10T00:00:00\", \"2021-03-11T00:00:00\", \"2021-03-12T00:00:00\", \"2021-03-13T00:00:00\", \"2021-03-14T00:00:00\", \"2021-03-15T00:00:00\", \"2021-03-16T00:00:00\", \"2021-03-17T00:00:00\", \"2021-03-18T00:00:00\", \"2021-03-19T00:00:00\", \"2021-03-20T00:00:00\", \"2021-03-21T00:00:00\", \"2021-03-22T00:00:00\", \"2021-03-23T00:00:00\", \"2021-03-24T00:00:00\", \"2021-03-25T00:00:00\", \"2021-03-26T00:00:00\", \"2021-03-27T00:00:00\", \"2021-03-28T00:00:00\", \"2021-03-28T00:00:00\", \"2021-03-29T00:00:00\", \"2021-03-30T00:00:00\", \"2021-03-31T00:00:00\", \"2021-04-01T00:00:00\", \"2021-04-02T00:00:00\", \"2021-04-03T00:00:00\", \"2021-04-04T00:00:00\", \"2021-04-05T00:00:00\", \"2021-04-06T00:00:00\", \"2021-04-07T00:00:00\", \"2021-04-08T00:00:00\", \"2021-04-09T00:00:00\", \"2021-04-10T00:00:00\", \"2021-04-11T00:00:00\", \"2021-04-12T00:00:00\", \"2021-04-13T00:00:00\", \"2021-04-14T00:00:00\", \"2021-04-15T00:00:00\", \"2021-04-16T00:00:00\", \"2021-04-18T00:00:00\"], \"y\": [null, null, null, null, null, null, null, null, null, null, null, null, null, null, 640399.0583333333, 631114.2458333333, 620996.5416666666, 611152.1458333334, 601305.7041666667, 592583.4958333333, 585731.0333333333, 585700.2458333333, 586172.3041666667, 587175.3125, 587791.6541666667, 588374.7708333334, 590058.9541666667, 590109.4666666667, 588843.85, 587460.7125, 586136.0791666667, 585251.0875, 585702.3125, 586960.5291666667, 586034.3166666667, 582395.7333333333, 577114.8125, 577379.5125, 581623.0458333333, 587245.125, 591556.3333333334, 596336.3875, 600701.15, 605946.5125, 611171.525, 617223.4875, 622782.55, 628263.425, 633366.9875, 639528.575, 647992.3916666667, 654416.15, 655453.6833333333, 654879.3708333333, 651555.2625, 650091.875, 647902.3541666666, 646204.3333333334, 643226.8208333333, 640417.4708333333, 637548.6083333333, 633982.9875, 628875.8083333333, 623208.4, 615452.0708333333, 606479.2604166666, 599988.6645833333, 591782.6041666666, 582849.4645833333, 575441.9354166667, 569019.6104166667, 562253.69375, 557601.3770833333, 553256.5354166667, 547925.7645833333, 541922.08125, 537085.5479166667, 532335.3416666667, 529374.6083333333, 528688.4166666666, 529681.5395833333, 530226.6854166667, 531509.725, 531724.6020833333, 531383.725, 529690.7770833333, 528347.4354166667, 524796.7270833333, 522291.49375, 519547.10833333334, 516027.0, 515452.8625, 515094.3375, 513859.82916666666, 512073.79791666666, 511762.95208333334, 510735.53541666665, 510506.32708333334, 510699.81875, 511072.37916666665, 511710.08541666664, 512297.775, 514069.275, 515041.1583333333, 516465.95625, 519208.9583333333, 517993.25416666665, 518926.9479166667, 520163.0729166667, 521534.76666666666, 523116.80416666664, 527359.4291666667, 531057.9291666667, 533893.3958333334, 538133.9125, 541442.9, 545353.0729166666, 548407.5979166667, 555430.3395833333, 562760.7520833333, 569837.2541666667, 578899.5958333333, 586116.5291666667, 591901.2791666667, 597445.4625, 601760.65, 603746.0666666667, 605236.9958333333, 607998.0125, 609137.2833333333, 611993.1, 615676.3166666667, 621721.6291666667, 624313.4125, 628159.525, 631462.9916666667, 633944.9458333333, 636130.4458333333, 639082.7541666667, 641604.9083333333, 645728.0333333333, 650826.0625, 657554.1708333333, 664430.1083333333, 672874.1708333333, 678847.2666666667, 684919.9708333333, 689560.0375, 693806.4875, 697608.8208333333, 700195.9125, 702796.4833333333, 704354.4791666666, 708565.3291666667, 711040.4833333333, 711460.2666666667, 711631.6, 711237.9541666667, 711765.1166666667, 709884.15, 707797.5166666667, 701430.775, 694329.7625, 687521.0166666667, 679726.075, 673768.425, 669220.9083333333, 666138.5708333333, 660635.375, 659337.5041666667, 658295.1416666667, 655831.7916666666, 649523.0416666666, 641280.5958333333, 634069.4, 628426.0208333334, 610946.8583333333, 596392.9041666667, 580304.8666666667, 565502.24375, 549142.9645833333, 532106.2770833333, 515275.85, 503400.15, 489950.16458333336, 476129.48541666666, 461530.47291666665, 454281.9979166667, 449068.51875, 443709.35, 438046.83541666664, 445675.1041666667, 449402.05833333335, 453527.84791666665, 459277.46041666664, 466774.08125, 474718.0729166667, 483030.92291666666, 486313.2, 490049.78125, 493384.77291666664, 500856.38958333334, 504293.47291666665, 507332.2520833333, 510504.05416666664, 511910.44375, 514448.3333333333, 518691.1875, 523724.075, 526051.90625, 527589.9166666666, 530323.7, 532839.34375, 535234.5958333333, 535387.4458333333, 536175.5875, 535599.1166666667, 537049.6208333333, 538323.325, 539876.1458333334, 544065.65, 548827.0458333333, 553017.9041666667, 562381.0895833333, 571258.1354166666, 582214.6, 591189.3291666667, 598978.4, 607222.3291666667, 617662.9416666667, 629458.5458333333, 643433.5166666667, 655318.025, 665191.8833333333, 670778.8125, 675270.0083333333, 679914.1958333333, 686940.625, 691767.65, 695424.1875, 698026.0083333333, 701473.875, 705698.65, 709860.8, 712237.3083333333, 710930.9958333333, 707223.025, 704354.7333333333, 700597.8333333334, 701563.5041666667, 702480.7291666666, 704695.0708333333, 706148.8416666667, 704683.8875, 706337.9333333333, 706539.9166666666, 708835.5666666667, 707498.1291666667, 706887.15, 708231.8458333333, 711128.775, 713238.4166666666, 715712.2708333334, 720298.1875, 724550.4875, 729884.2916666666, 730645.825, 730581.6416666667, 731037.6916666667, 729730.1166666667, 729964.675, 727362.9958333333, 727947.5875, 727390.9166666666, 725303.975, 724053.3666666667, 722716.5791666667, 722337.1333333333, 721757.8125, 719476.3541666666, 716336.1833333333, 715319.5375, 712916.0958333333, 711031.0666666667, 709765.625, 707925.3666666667, 705764.2916666666, 703038.8625, 700343.1416666667, 698594.9333333333, 696330.0, 695667.2958333333, 693117.4625, 691679.9708333333, 691124.7291666666, 690959.4291666667, 691083.3833333333, 691958.3958333334, 692211.2583333333, 692361.5833333334, 692388.625, 691738.0958333333, 691882.4, 692372.7125, 692771.7708333334, 693264.5375, 693221.4625, 694398.6958333333, 695106.6291666667, 696141.1083333333, 697856.8583333333, 700902.0875, 709230.8833333333, 717373.8666666667, 726322.0916666667, 735650.6333333333, 746443.8625, 759492.4208333333, 768967.4708333333, 779457.0041666667, 789863.7791666667, 801851.2083333334, 813295.1375, 823510.4458333333, 834791.2333333333, 844981.4625, 854906.5583333333, 856857.9958333333, 860112.6416666667, 863529.0666666667, 866874.2375, 869523.3791666667, 870167.5166666667, 876025.0666666667, 879286.9291666667, 881980.8333333334, 882787.5416666666, 881872.2291666666, 882199.0125, 881672.4166666666, 881514.325, 878475.4166666666, 878590.3791666667, 876535.6833333333, 874025.6833333333, 871393.9875, 869276.7958333333, 867077.2333333333, 864321.275, 860444.1666666666, 851843.6125, 843790.375, 835541.3791666667, 827417.4875, 819926.8791666667, 811525.0958333333, 805341.2666666667, 799268.6541666667, 794525.1666666666, 789403.0625, 783876.2541666667, 779044.5416666666, 774841.45, 770346.6666666666, 768317.15, 771857.2333333333, 774970.9708333333, 778935.2541666667, 780025.9875, 780893.7166666667, 781354.3166666667, 784244.0041666667, 786024.3166666667, 787915.9083333333, 789703.6583333333, 791855.7625, 792914.2, 792814.3125, 790880.1583333333, 788911.1666666666, 786848.2875, 784631.9, 783671.8666666667, 784480.95, 785052.9291666667, 788121.0375, 790108.0041666667, 792938.8875, 795947.9041666667, 799238.6166666667, 801951.1833333333, 804240.775, 807581.8041666667, 813157.05, 819789.9208333333, 831173.075, 842674.9541666667, 853664.5083333333, 866056.0291666667, 877988.0541666667, 889080.925, 901318.0458333333, 911544.7041666667, 922242.5458333333, 933397.6916666667, 946511.3875, 959250.4458333333, 970289.7125, 982271.1416666667, 993802.1791666667, 1007776.4541666667, 1020819.3125, 1030327.9166666666, 1042149.5625, 1053600.7, 1064866.7583333333, 1075712.3583333334, 1091330.9041666666, 1105870.6083333334, 1118332.4166666667, 1129068.6041666667, 1143649.2333333334, 1164087.95, 1182769.1916666667, 1200883.275, 1215946.95, 1231345.325, 1248994.6, 1263546.8083333333, 1282165.1166666667, 1298589.275, 1304979.575, 1308048.8916666666, 1314324.1083333334, 1324092.6583333334, 1341627.7583333333, 1351043.1916666667, 1357633.3833333333, 1365367.0083333333, 1369347.9416666667, 1371517.8416666666, 1374529.1833333333, 1378154.4916666667, 1377308.5833333333, 1374401.3583333334, 1372105.9333333333, 1376462.0333333334, 1384569.7166666666, 1391312.7333333334, 1396202.275, 1394557.7916666667, 1406782.3083333333, 1424279.4583333333, 1441968.7833333334, 1467100.35, 1488053.1166666667, 1505268.3416666666, 1528354.7916666667, 1552714.7583333333, 1577805.9666666666, 1608905.8583333334, 1649775.8916666666, 1686467.9583333333, 1725160.4666666666, 1764619.6083333334, 1810166.5416666667, 1846846.9083333334, 1878190.8, 1921199.875, 1963796.6166666667, 2004394.8166666667, 2057808.8583333334, 2119848.225, 2198213.85, 2281395.9583333335, 2357362.3333333335, 2415296.0083333333, 2460488.341666667, 2493113.7583333333, 2541180.15, 2591404.316666667, 2629764.9, 2663011.75, 2680994.5166666666, 2699994.183333333, 2720208.2666666666, 2727180.9166666665, 2697545.533333333, 2665397.216666667, 2621878.183333333, 2582089.966666667, 2551963.6333333333, 2535975.816666667, 2518738.216666667, 2490608.3833333333, 2466454.5, 2453406.75, 2437984.0166666666, 2426933.6333333333, 2420827.6, 2426835.65, 2433725.1166666667, 2468896.1666666665, 2498809.85, 2531547.1166666667, 2599022.05, 2667330.5, 2727022.783333333, 2811069.5833333335, 2887064.9166666665, 2948233.283333333, 3017443.3666666667, 3088662.966666667, 3164407.3, 3244859.45, 3312999.05, 3403643.1333333333, 3489957.2, 3577765.7333333334, 3650818.0166666666, 3661812.15, 3675948.1166666667, 3687588.0166666666, 3682718.95, 3679444.3833333333, 3673240.0166666666, 3680033.1333333333, 3684194.8, 3690920.7666666666, 3674608.8333333335, 3663162.1166666667, 3631474.95, 3609895.066666667, 3586964.2, 3591105.5833333335, 3626981.5166666666, 3667012.2666666666, 3715175.283333333, 3784593.5833333335, 3845353.7666666666, 3893871.6166666667, 3925919.55, 3974396.8833333333, 4008752.05, 4053772.25, 4096693.3, 4135757.4833333334, 4149050.05, 4158613.9, 4148210.4833333334, 4127025.8666666667, 4113401.45, 4105915.35, 4079367.0, 4072044.8, 4090251.5166666666, 4103173.466666667, 4107088.3333333335, 4117273.033333333, 4117273.066666667, 4123081.2666666666, 4133903.3833333333, 4155848.3833333333, 4168875.35, 4203136.183333334, 4243018.5, 4274603.55, 4304201.316666666, 4333401.1, 4371629.6, 4398806.166666667, 4426688.066666666, 4444027.4, 4455148.933333334, 4448746.616666666]}],\n",
              "                        {\"template\": {\"data\": {\"bar\": [{\"error_x\": {\"color\": \"#2a3f5f\"}, \"error_y\": {\"color\": \"#2a3f5f\"}, \"marker\": {\"line\": {\"color\": \"#E5ECF6\", \"width\": 0.5}}, \"type\": \"bar\"}], \"barpolar\": [{\"marker\": {\"line\": {\"color\": \"#E5ECF6\", \"width\": 0.5}}, \"type\": \"barpolar\"}], \"carpet\": [{\"aaxis\": {\"endlinecolor\": \"#2a3f5f\", \"gridcolor\": \"white\", \"linecolor\": \"white\", \"minorgridcolor\": \"white\", \"startlinecolor\": \"#2a3f5f\"}, \"baxis\": {\"endlinecolor\": \"#2a3f5f\", \"gridcolor\": \"white\", \"linecolor\": \"white\", \"minorgridcolor\": \"white\", \"startlinecolor\": \"#2a3f5f\"}, \"type\": \"carpet\"}], \"choropleth\": [{\"colorbar\": {\"outlinewidth\": 0, \"ticks\": \"\"}, \"type\": \"choropleth\"}], \"contour\": [{\"colorbar\": {\"outlinewidth\": 0, \"ticks\": \"\"}, \"colorscale\": [[0.0, \"#0d0887\"], [0.1111111111111111, \"#46039f\"], [0.2222222222222222, \"#7201a8\"], [0.3333333333333333, \"#9c179e\"], [0.4444444444444444, \"#bd3786\"], [0.5555555555555556, \"#d8576b\"], [0.6666666666666666, \"#ed7953\"], [0.7777777777777778, \"#fb9f3a\"], [0.8888888888888888, \"#fdca26\"], [1.0, \"#f0f921\"]], \"type\": \"contour\"}], \"contourcarpet\": [{\"colorbar\": {\"outlinewidth\": 0, \"ticks\": \"\"}, \"type\": \"contourcarpet\"}], \"heatmap\": [{\"colorbar\": {\"outlinewidth\": 0, \"ticks\": \"\"}, \"colorscale\": [[0.0, \"#0d0887\"], [0.1111111111111111, \"#46039f\"], [0.2222222222222222, \"#7201a8\"], [0.3333333333333333, \"#9c179e\"], [0.4444444444444444, \"#bd3786\"], [0.5555555555555556, \"#d8576b\"], [0.6666666666666666, \"#ed7953\"], [0.7777777777777778, \"#fb9f3a\"], [0.8888888888888888, \"#fdca26\"], [1.0, \"#f0f921\"]], \"type\": \"heatmap\"}], \"heatmapgl\": [{\"colorbar\": {\"outlinewidth\": 0, \"ticks\": \"\"}, \"colorscale\": [[0.0, \"#0d0887\"], [0.1111111111111111, \"#46039f\"], [0.2222222222222222, \"#7201a8\"], [0.3333333333333333, \"#9c179e\"], [0.4444444444444444, \"#bd3786\"], [0.5555555555555556, \"#d8576b\"], [0.6666666666666666, \"#ed7953\"], [0.7777777777777778, \"#fb9f3a\"], [0.8888888888888888, \"#fdca26\"], [1.0, \"#f0f921\"]], \"type\": \"heatmapgl\"}], \"histogram\": [{\"marker\": {\"colorbar\": {\"outlinewidth\": 0, \"ticks\": \"\"}}, \"type\": \"histogram\"}], \"histogram2d\": [{\"colorbar\": {\"outlinewidth\": 0, \"ticks\": \"\"}, \"colorscale\": [[0.0, \"#0d0887\"], [0.1111111111111111, \"#46039f\"], [0.2222222222222222, \"#7201a8\"], [0.3333333333333333, \"#9c179e\"], [0.4444444444444444, \"#bd3786\"], [0.5555555555555556, \"#d8576b\"], [0.6666666666666666, \"#ed7953\"], [0.7777777777777778, \"#fb9f3a\"], [0.8888888888888888, \"#fdca26\"], [1.0, \"#f0f921\"]], \"type\": \"histogram2d\"}], \"histogram2dcontour\": [{\"colorbar\": {\"outlinewidth\": 0, \"ticks\": \"\"}, \"colorscale\": [[0.0, \"#0d0887\"], [0.1111111111111111, \"#46039f\"], [0.2222222222222222, \"#7201a8\"], [0.3333333333333333, \"#9c179e\"], [0.4444444444444444, \"#bd3786\"], [0.5555555555555556, \"#d8576b\"], [0.6666666666666666, \"#ed7953\"], [0.7777777777777778, \"#fb9f3a\"], [0.8888888888888888, \"#fdca26\"], [1.0, \"#f0f921\"]], \"type\": \"histogram2dcontour\"}], \"mesh3d\": [{\"colorbar\": {\"outlinewidth\": 0, \"ticks\": \"\"}, \"type\": \"mesh3d\"}], \"parcoords\": [{\"line\": {\"colorbar\": {\"outlinewidth\": 0, \"ticks\": \"\"}}, \"type\": \"parcoords\"}], \"pie\": [{\"automargin\": true, \"type\": \"pie\"}], \"scatter\": [{\"marker\": {\"colorbar\": {\"outlinewidth\": 0, \"ticks\": \"\"}}, \"type\": \"scatter\"}], \"scatter3d\": [{\"line\": {\"colorbar\": {\"outlinewidth\": 0, \"ticks\": \"\"}}, \"marker\": {\"colorbar\": {\"outlinewidth\": 0, \"ticks\": \"\"}}, \"type\": \"scatter3d\"}], \"scattercarpet\": [{\"marker\": {\"colorbar\": {\"outlinewidth\": 0, \"ticks\": \"\"}}, \"type\": \"scattercarpet\"}], \"scattergeo\": [{\"marker\": {\"colorbar\": {\"outlinewidth\": 0, \"ticks\": \"\"}}, \"type\": \"scattergeo\"}], \"scattergl\": [{\"marker\": {\"colorbar\": {\"outlinewidth\": 0, \"ticks\": \"\"}}, \"type\": \"scattergl\"}], \"scattermapbox\": [{\"marker\": {\"colorbar\": {\"outlinewidth\": 0, \"ticks\": \"\"}}, \"type\": \"scattermapbox\"}], \"scatterpolar\": [{\"marker\": {\"colorbar\": {\"outlinewidth\": 0, \"ticks\": \"\"}}, \"type\": \"scatterpolar\"}], \"scatterpolargl\": [{\"marker\": {\"colorbar\": {\"outlinewidth\": 0, \"ticks\": \"\"}}, \"type\": \"scatterpolargl\"}], \"scatterternary\": [{\"marker\": {\"colorbar\": {\"outlinewidth\": 0, \"ticks\": \"\"}}, \"type\": \"scatterternary\"}], \"surface\": [{\"colorbar\": {\"outlinewidth\": 0, \"ticks\": \"\"}, \"colorscale\": [[0.0, \"#0d0887\"], [0.1111111111111111, \"#46039f\"], [0.2222222222222222, \"#7201a8\"], [0.3333333333333333, \"#9c179e\"], [0.4444444444444444, \"#bd3786\"], [0.5555555555555556, \"#d8576b\"], [0.6666666666666666, \"#ed7953\"], [0.7777777777777778, \"#fb9f3a\"], [0.8888888888888888, \"#fdca26\"], [1.0, \"#f0f921\"]], \"type\": \"surface\"}], \"table\": [{\"cells\": {\"fill\": {\"color\": \"#EBF0F8\"}, \"line\": {\"color\": \"white\"}}, \"header\": {\"fill\": {\"color\": \"#C8D4E3\"}, \"line\": {\"color\": \"white\"}}, \"type\": \"table\"}]}, \"layout\": {\"annotationdefaults\": {\"arrowcolor\": \"#2a3f5f\", \"arrowhead\": 0, \"arrowwidth\": 1}, \"coloraxis\": {\"colorbar\": {\"outlinewidth\": 0, \"ticks\": \"\"}}, \"colorscale\": {\"diverging\": [[0, \"#8e0152\"], [0.1, \"#c51b7d\"], [0.2, \"#de77ae\"], [0.3, \"#f1b6da\"], [0.4, \"#fde0ef\"], [0.5, \"#f7f7f7\"], [0.6, \"#e6f5d0\"], [0.7, \"#b8e186\"], [0.8, \"#7fbc41\"], [0.9, \"#4d9221\"], [1, \"#276419\"]], \"sequential\": [[0.0, \"#0d0887\"], [0.1111111111111111, \"#46039f\"], [0.2222222222222222, \"#7201a8\"], [0.3333333333333333, \"#9c179e\"], [0.4444444444444444, \"#bd3786\"], [0.5555555555555556, \"#d8576b\"], [0.6666666666666666, \"#ed7953\"], [0.7777777777777778, \"#fb9f3a\"], [0.8888888888888888, \"#fdca26\"], [1.0, \"#f0f921\"]], \"sequentialminus\": [[0.0, \"#0d0887\"], [0.1111111111111111, \"#46039f\"], [0.2222222222222222, \"#7201a8\"], [0.3333333333333333, \"#9c179e\"], [0.4444444444444444, \"#bd3786\"], [0.5555555555555556, \"#d8576b\"], [0.6666666666666666, \"#ed7953\"], [0.7777777777777778, \"#fb9f3a\"], [0.8888888888888888, \"#fdca26\"], [1.0, \"#f0f921\"]]}, \"colorway\": [\"#636efa\", \"#EF553B\", \"#00cc96\", \"#ab63fa\", \"#FFA15A\", \"#19d3f3\", \"#FF6692\", \"#B6E880\", \"#FF97FF\", \"#FECB52\"], \"font\": {\"color\": \"#2a3f5f\"}, \"geo\": {\"bgcolor\": \"white\", \"lakecolor\": \"white\", \"landcolor\": \"#E5ECF6\", \"showlakes\": true, \"showland\": true, \"subunitcolor\": \"white\"}, \"hoverlabel\": {\"align\": \"left\"}, \"hovermode\": \"closest\", \"mapbox\": {\"style\": \"light\"}, \"paper_bgcolor\": \"white\", \"plot_bgcolor\": \"#E5ECF6\", \"polar\": {\"angularaxis\": {\"gridcolor\": \"white\", \"linecolor\": \"white\", \"ticks\": \"\"}, \"bgcolor\": \"#E5ECF6\", \"radialaxis\": {\"gridcolor\": \"white\", \"linecolor\": \"white\", \"ticks\": \"\"}}, \"scene\": {\"xaxis\": {\"backgroundcolor\": \"#E5ECF6\", \"gridcolor\": \"white\", \"gridwidth\": 2, \"linecolor\": \"white\", \"showbackground\": true, \"ticks\": \"\", \"zerolinecolor\": \"white\"}, \"yaxis\": {\"backgroundcolor\": \"#E5ECF6\", \"gridcolor\": \"white\", \"gridwidth\": 2, \"linecolor\": \"white\", \"showbackground\": true, \"ticks\": \"\", \"zerolinecolor\": \"white\"}, \"zaxis\": {\"backgroundcolor\": \"#E5ECF6\", \"gridcolor\": \"white\", \"gridwidth\": 2, \"linecolor\": \"white\", \"showbackground\": true, \"ticks\": \"\", \"zerolinecolor\": \"white\"}}, \"shapedefaults\": {\"line\": {\"color\": \"#2a3f5f\"}}, \"ternary\": {\"aaxis\": {\"gridcolor\": \"white\", \"linecolor\": \"white\", \"ticks\": \"\"}, \"baxis\": {\"gridcolor\": \"white\", \"linecolor\": \"white\", \"ticks\": \"\"}, \"bgcolor\": \"#E5ECF6\", \"caxis\": {\"gridcolor\": \"white\", \"linecolor\": \"white\", \"ticks\": \"\"}}, \"title\": {\"x\": 0.05}, \"xaxis\": {\"automargin\": true, \"gridcolor\": \"white\", \"linecolor\": \"white\", \"ticks\": \"\", \"title\": {\"standoff\": 15}, \"zerolinecolor\": \"white\", \"zerolinewidth\": 2}, \"yaxis\": {\"automargin\": true, \"gridcolor\": \"white\", \"linecolor\": \"white\", \"ticks\": \"\", \"title\": {\"standoff\": 15}, \"zerolinecolor\": \"white\", \"zerolinewidth\": 2}}}, \"title\": {\"text\": \"15 Days Moving Average\"}, \"xaxis\": {\"title\": {\"text\": \"Date\"}}, \"yaxis\": {\"title\": {\"text\": \"Price\"}}},\n",
              "                        {\"responsive\": true}\n",
              "                    ).then(function(){\n",
              "                            \n",
              "var gd = document.getElementById('e254c01e-e15d-4e94-a97b-30efba3fe54d');\n",
              "var x = new MutationObserver(function (mutations, observer) {{\n",
              "        var display = window.getComputedStyle(gd).display;\n",
              "        if (!display || display === 'none') {{\n",
              "            console.log([gd, 'removed!']);\n",
              "            Plotly.purge(gd);\n",
              "            observer.disconnect();\n",
              "        }}\n",
              "}});\n",
              "\n",
              "// Listen for the removal of the full notebook cells\n",
              "var notebookContainer = gd.closest('#notebook-container');\n",
              "if (notebookContainer) {{\n",
              "    x.observe(notebookContainer, {childList: true});\n",
              "}}\n",
              "\n",
              "// Listen for the clearing of the current output cell\n",
              "var outputEl = gd.closest('.output');\n",
              "if (outputEl) {{\n",
              "    x.observe(outputEl, {childList: true});\n",
              "}}\n",
              "\n",
              "                        })\n",
              "                };\n",
              "                \n",
              "            </script>\n",
              "        </div>\n",
              "</body>\n",
              "</html>"
            ]
          },
          "metadata": {
            "tags": []
          }
        }
      ]
    },
    {
      "cell_type": "markdown",
      "metadata": {
        "id": "-uSaiLOjMu28"
      },
      "source": [
        "### 30 days moving average graph"
      ]
    },
    {
      "cell_type": "code",
      "metadata": {
        "colab": {
          "base_uri": "https://localhost:8080/",
          "height": 542
        },
        "id": "xE3Ux8SKf71R",
        "outputId": "4a498fcb-1740-490a-a5ed-978870aad75f"
      },
      "source": [
        "fig = go.Figure()\n",
        "\n",
        "# Add Traces for adj close\n",
        "fig.add_trace(go.Scatter(x=bitcoin['Date']\n",
        "                         , y=bitcoin['Adj Close']\n",
        "                         , name='Adj Close'\n",
        "                         , visible=True\n",
        "                        ))\n",
        "\n",
        "# Add Traces for 30 days moving average\n",
        "fig.add_trace(go.Scatter(x=bitcoin['Date']\n",
        "                         , y=bitcoin['Moving avg 30']\n",
        "                         , name='30 days moving average'\n",
        "                         , visible=True\n",
        "                        ))\n",
        "# Set title\n",
        "fig.update_layout(title_text='30 Days Moving Average')\n",
        "\n",
        "# Set x and y-axis titles\n",
        "fig.update_xaxes(title_text='Date')\n",
        "fig.update_yaxes(title_text='Price')\n",
        "\n",
        "fig.show() "
      ],
      "execution_count": 19,
      "outputs": [
        {
          "output_type": "display_data",
          "data": {
            "text/html": [
              "<html>\n",
              "<head><meta charset=\"utf-8\" /></head>\n",
              "<body>\n",
              "    <div>\n",
              "            <script src=\"https://cdnjs.cloudflare.com/ajax/libs/mathjax/2.7.5/MathJax.js?config=TeX-AMS-MML_SVG\"></script><script type=\"text/javascript\">if (window.MathJax) {MathJax.Hub.Config({SVG: {font: \"STIX-Web\"}});}</script>\n",
              "                <script type=\"text/javascript\">window.PlotlyConfig = {MathJaxConfig: 'local'};</script>\n",
              "        <script src=\"https://cdn.plot.ly/plotly-latest.min.js\"></script>    \n",
              "            <div id=\"c709d715-279b-4cbe-9814-9ab3bc21b43a\" class=\"plotly-graph-div\" style=\"height:525px; width:100%;\"></div>\n",
              "            <script type=\"text/javascript\">\n",
              "                \n",
              "                    window.PLOTLYENV=window.PLOTLYENV || {};\n",
              "                    \n",
              "                if (document.getElementById(\"c709d715-279b-4cbe-9814-9ab3bc21b43a\")) {\n",
              "                    Plotly.newPlot(\n",
              "                        'c709d715-279b-4cbe-9814-9ab3bc21b43a',\n",
              "                        [{\"name\": \"Adj Close\", \"type\": \"scatter\", \"visible\": true, \"x\": [\"2019-09-17T00:00:00\", \"2019-09-18T00:00:00\", \"2019-09-19T00:00:00\", \"2019-09-20T00:00:00\", \"2019-09-21T00:00:00\", \"2019-09-22T00:00:00\", \"2019-09-23T00:00:00\", \"2019-09-24T00:00:00\", \"2019-09-25T00:00:00\", \"2019-09-26T00:00:00\", \"2019-09-27T00:00:00\", \"2019-09-28T00:00:00\", \"2019-09-29T00:00:00\", \"2019-09-30T00:00:00\", \"2019-10-01T00:00:00\", \"2019-10-02T00:00:00\", \"2019-10-03T00:00:00\", \"2019-10-04T00:00:00\", \"2019-10-05T00:00:00\", \"2019-10-06T00:00:00\", \"2019-10-07T00:00:00\", \"2019-10-08T00:00:00\", \"2019-10-09T00:00:00\", \"2019-10-10T00:00:00\", \"2019-10-11T00:00:00\", \"2019-10-12T00:00:00\", \"2019-10-13T00:00:00\", \"2019-10-14T00:00:00\", \"2019-10-15T00:00:00\", \"2019-10-16T00:00:00\", \"2019-10-17T00:00:00\", \"2019-10-18T00:00:00\", \"2019-10-19T00:00:00\", \"2019-10-20T00:00:00\", \"2019-10-21T00:00:00\", \"2019-10-22T00:00:00\", \"2019-10-23T00:00:00\", \"2019-10-24T00:00:00\", \"2019-10-25T00:00:00\", \"2019-10-26T00:00:00\", \"2019-10-28T00:00:00\", \"2019-10-29T00:00:00\", \"2019-10-30T00:00:00\", \"2019-10-31T00:00:00\", \"2019-11-01T00:00:00\", \"2019-11-02T00:00:00\", \"2019-11-03T00:00:00\", \"2019-11-04T00:00:00\", \"2019-11-05T00:00:00\", \"2019-11-06T00:00:00\", \"2019-11-07T00:00:00\", \"2019-11-08T00:00:00\", \"2019-11-09T00:00:00\", \"2019-11-10T00:00:00\", \"2019-11-11T00:00:00\", \"2019-11-12T00:00:00\", \"2019-11-13T00:00:00\", \"2019-11-14T00:00:00\", \"2019-11-15T00:00:00\", \"2019-11-16T00:00:00\", \"2019-11-17T00:00:00\", \"2019-11-18T00:00:00\", \"2019-11-19T00:00:00\", \"2019-11-20T00:00:00\", \"2019-11-21T00:00:00\", \"2019-11-22T00:00:00\", \"2019-11-23T00:00:00\", \"2019-11-24T00:00:00\", \"2019-11-25T00:00:00\", \"2019-11-26T00:00:00\", \"2019-11-27T00:00:00\", \"2019-11-28T00:00:00\", \"2019-11-29T00:00:00\", \"2019-11-30T00:00:00\", \"2019-12-01T00:00:00\", \"2019-12-02T00:00:00\", \"2019-12-03T00:00:00\", \"2019-12-04T00:00:00\", \"2019-12-05T00:00:00\", \"2019-12-06T00:00:00\", \"2019-12-07T00:00:00\", \"2019-12-08T00:00:00\", \"2019-12-09T00:00:00\", \"2019-12-10T00:00:00\", \"2019-12-11T00:00:00\", \"2019-12-12T00:00:00\", \"2019-12-13T00:00:00\", \"2019-12-14T00:00:00\", \"2019-12-15T00:00:00\", \"2019-12-16T00:00:00\", \"2019-12-17T00:00:00\", \"2019-12-18T00:00:00\", \"2019-12-19T00:00:00\", \"2019-12-20T00:00:00\", \"2019-12-21T00:00:00\", \"2019-12-22T00:00:00\", \"2019-12-23T00:00:00\", \"2019-12-24T00:00:00\", \"2019-12-25T00:00:00\", \"2019-12-26T00:00:00\", \"2019-12-27T00:00:00\", \"2019-12-28T00:00:00\", \"2019-12-29T00:00:00\", \"2019-12-30T00:00:00\", \"2019-12-31T00:00:00\", \"2020-01-01T00:00:00\", \"2020-01-02T00:00:00\", \"2020-01-03T00:00:00\", \"2020-01-04T00:00:00\", \"2020-01-05T00:00:00\", \"2020-01-06T00:00:00\", \"2020-01-07T00:00:00\", \"2020-01-08T00:00:00\", \"2020-01-09T00:00:00\", \"2020-01-10T00:00:00\", \"2020-01-11T00:00:00\", \"2020-01-12T00:00:00\", \"2020-01-13T00:00:00\", \"2020-01-14T00:00:00\", \"2020-01-15T00:00:00\", \"2020-01-16T00:00:00\", \"2020-01-17T00:00:00\", \"2020-01-18T00:00:00\", \"2020-01-19T00:00:00\", \"2020-01-20T00:00:00\", \"2020-01-21T00:00:00\", \"2020-01-22T00:00:00\", \"2020-01-23T00:00:00\", \"2020-01-24T00:00:00\", \"2020-01-25T00:00:00\", \"2020-01-26T00:00:00\", \"2020-01-27T00:00:00\", \"2020-01-28T00:00:00\", \"2020-01-29T00:00:00\", \"2020-01-30T00:00:00\", \"2020-01-31T00:00:00\", \"2020-02-01T00:00:00\", \"2020-02-02T00:00:00\", \"2020-02-03T00:00:00\", \"2020-02-04T00:00:00\", \"2020-02-05T00:00:00\", \"2020-02-06T00:00:00\", \"2020-02-07T00:00:00\", \"2020-02-08T00:00:00\", \"2020-02-09T00:00:00\", \"2020-02-10T00:00:00\", \"2020-02-11T00:00:00\", \"2020-02-12T00:00:00\", \"2020-02-13T00:00:00\", \"2020-02-14T00:00:00\", \"2020-02-15T00:00:00\", \"2020-02-16T00:00:00\", \"2020-02-17T00:00:00\", \"2020-02-18T00:00:00\", \"2020-02-19T00:00:00\", \"2020-02-20T00:00:00\", \"2020-02-21T00:00:00\", \"2020-02-22T00:00:00\", \"2020-02-23T00:00:00\", \"2020-02-24T00:00:00\", \"2020-02-25T00:00:00\", \"2020-02-26T00:00:00\", \"2020-02-27T00:00:00\", \"2020-02-28T00:00:00\", \"2020-02-29T00:00:00\", \"2020-03-01T00:00:00\", \"2020-03-02T00:00:00\", \"2020-03-03T00:00:00\", \"2020-03-04T00:00:00\", \"2020-03-05T00:00:00\", \"2020-03-06T00:00:00\", \"2020-03-07T00:00:00\", \"2020-03-08T00:00:00\", \"2020-03-09T00:00:00\", \"2020-03-10T00:00:00\", \"2020-03-11T00:00:00\", \"2020-03-12T00:00:00\", \"2020-03-13T00:00:00\", \"2020-03-14T00:00:00\", \"2020-03-15T00:00:00\", \"2020-03-16T00:00:00\", \"2020-03-17T00:00:00\", \"2020-03-18T00:00:00\", \"2020-03-19T00:00:00\", \"2020-03-20T00:00:00\", \"2020-03-21T00:00:00\", \"2020-03-22T00:00:00\", \"2020-03-23T00:00:00\", \"2020-03-24T00:00:00\", \"2020-03-25T00:00:00\", \"2020-03-26T00:00:00\", \"2020-03-27T00:00:00\", \"2020-03-28T00:00:00\", \"2020-03-29T00:00:00\", \"2020-03-29T00:00:00\", \"2020-03-30T00:00:00\", \"2020-03-31T00:00:00\", \"2020-04-01T00:00:00\", \"2020-04-02T00:00:00\", \"2020-04-03T00:00:00\", \"2020-04-04T00:00:00\", \"2020-04-05T00:00:00\", \"2020-04-06T00:00:00\", \"2020-04-07T00:00:00\", \"2020-04-08T00:00:00\", \"2020-04-09T00:00:00\", \"2020-04-10T00:00:00\", \"2020-04-11T00:00:00\", \"2020-04-12T00:00:00\", \"2020-04-13T00:00:00\", \"2020-04-14T00:00:00\", \"2020-04-15T00:00:00\", \"2020-04-17T00:00:00\", \"2020-04-18T00:00:00\", \"2020-04-19T00:00:00\", \"2020-04-20T00:00:00\", \"2020-04-21T00:00:00\", \"2020-04-22T00:00:00\", \"2020-04-23T00:00:00\", \"2020-04-24T00:00:00\", \"2020-04-25T00:00:00\", \"2020-04-26T00:00:00\", \"2020-04-27T00:00:00\", \"2020-04-28T00:00:00\", \"2020-04-29T00:00:00\", \"2020-04-30T00:00:00\", \"2020-05-01T00:00:00\", \"2020-05-02T00:00:00\", \"2020-05-03T00:00:00\", \"2020-05-04T00:00:00\", \"2020-05-05T00:00:00\", \"2020-05-06T00:00:00\", \"2020-05-07T00:00:00\", \"2020-05-08T00:00:00\", \"2020-05-09T00:00:00\", \"2020-05-10T00:00:00\", \"2020-05-11T00:00:00\", \"2020-05-12T00:00:00\", \"2020-05-13T00:00:00\", \"2020-05-14T00:00:00\", \"2020-05-15T00:00:00\", \"2020-05-16T00:00:00\", \"2020-05-17T00:00:00\", \"2020-05-18T00:00:00\", \"2020-05-19T00:00:00\", \"2020-05-20T00:00:00\", \"2020-05-21T00:00:00\", \"2020-05-22T00:00:00\", \"2020-05-23T00:00:00\", \"2020-05-24T00:00:00\", \"2020-05-25T00:00:00\", \"2020-05-26T00:00:00\", \"2020-05-27T00:00:00\", \"2020-05-28T00:00:00\", \"2020-05-29T00:00:00\", \"2020-05-30T00:00:00\", \"2020-05-31T00:00:00\", \"2020-06-01T00:00:00\", \"2020-06-02T00:00:00\", \"2020-06-03T00:00:00\", \"2020-06-04T00:00:00\", \"2020-06-05T00:00:00\", \"2020-06-06T00:00:00\", \"2020-06-07T00:00:00\", \"2020-06-08T00:00:00\", \"2020-06-09T00:00:00\", \"2020-06-10T00:00:00\", \"2020-06-11T00:00:00\", \"2020-06-12T00:00:00\", \"2020-06-13T00:00:00\", \"2020-06-14T00:00:00\", \"2020-06-15T00:00:00\", \"2020-06-16T00:00:00\", \"2020-06-17T00:00:00\", \"2020-06-18T00:00:00\", \"2020-06-19T00:00:00\", \"2020-06-20T00:00:00\", \"2020-06-21T00:00:00\", \"2020-06-22T00:00:00\", \"2020-06-23T00:00:00\", \"2020-06-24T00:00:00\", \"2020-06-25T00:00:00\", \"2020-06-26T00:00:00\", \"2020-06-27T00:00:00\", \"2020-06-28T00:00:00\", \"2020-06-29T00:00:00\", \"2020-06-30T00:00:00\", \"2020-07-01T00:00:00\", \"2020-07-02T00:00:00\", \"2020-07-03T00:00:00\", \"2020-07-04T00:00:00\", \"2020-07-05T00:00:00\", \"2020-07-06T00:00:00\", \"2020-07-07T00:00:00\", \"2020-07-08T00:00:00\", \"2020-07-09T00:00:00\", \"2020-07-10T00:00:00\", \"2020-07-11T00:00:00\", \"2020-07-12T00:00:00\", \"2020-07-13T00:00:00\", \"2020-07-14T00:00:00\", \"2020-07-15T00:00:00\", \"2020-07-16T00:00:00\", \"2020-07-17T00:00:00\", \"2020-07-18T00:00:00\", \"2020-07-19T00:00:00\", \"2020-07-20T00:00:00\", \"2020-07-21T00:00:00\", \"2020-07-22T00:00:00\", \"2020-07-23T00:00:00\", \"2020-07-24T00:00:00\", \"2020-07-25T00:00:00\", \"2020-07-26T00:00:00\", \"2020-07-27T00:00:00\", \"2020-07-28T00:00:00\", \"2020-07-29T00:00:00\", \"2020-07-30T00:00:00\", \"2020-07-31T00:00:00\", \"2020-08-01T00:00:00\", \"2020-08-02T00:00:00\", \"2020-08-03T00:00:00\", \"2020-08-04T00:00:00\", \"2020-08-05T00:00:00\", \"2020-08-06T00:00:00\", \"2020-08-07T00:00:00\", \"2020-08-08T00:00:00\", \"2020-08-09T00:00:00\", \"2020-08-10T00:00:00\", \"2020-08-11T00:00:00\", \"2020-08-12T00:00:00\", \"2020-08-13T00:00:00\", \"2020-08-14T00:00:00\", \"2020-08-15T00:00:00\", \"2020-08-16T00:00:00\", \"2020-08-17T00:00:00\", \"2020-08-18T00:00:00\", \"2020-08-19T00:00:00\", \"2020-08-20T00:00:00\", \"2020-08-21T00:00:00\", \"2020-08-22T00:00:00\", \"2020-08-23T00:00:00\", \"2020-08-24T00:00:00\", \"2020-08-25T00:00:00\", \"2020-08-26T00:00:00\", \"2020-08-27T00:00:00\", \"2020-08-28T00:00:00\", \"2020-08-29T00:00:00\", \"2020-08-30T00:00:00\", \"2020-08-31T00:00:00\", \"2020-09-01T00:00:00\", \"2020-09-02T00:00:00\", \"2020-09-03T00:00:00\", \"2020-09-04T00:00:00\", \"2020-09-05T00:00:00\", \"2020-09-06T00:00:00\", \"2020-09-07T00:00:00\", \"2020-09-08T00:00:00\", \"2020-09-09T00:00:00\", \"2020-09-10T00:00:00\", \"2020-09-11T00:00:00\", \"2020-09-12T00:00:00\", \"2020-09-13T00:00:00\", \"2020-09-14T00:00:00\", \"2020-09-15T00:00:00\", \"2020-09-16T00:00:00\", \"2020-09-17T00:00:00\", \"2020-09-18T00:00:00\", \"2020-09-19T00:00:00\", \"2020-09-20T00:00:00\", \"2020-09-21T00:00:00\", \"2020-09-22T00:00:00\", \"2020-09-23T00:00:00\", \"2020-09-24T00:00:00\", \"2020-09-25T00:00:00\", \"2020-09-26T00:00:00\", \"2020-09-27T00:00:00\", \"2020-09-28T00:00:00\", \"2020-09-29T00:00:00\", \"2020-09-30T00:00:00\", \"2020-10-01T00:00:00\", \"2020-10-02T00:00:00\", \"2020-10-03T00:00:00\", \"2020-10-04T00:00:00\", \"2020-10-05T00:00:00\", \"2020-10-06T00:00:00\", \"2020-10-07T00:00:00\", \"2020-10-09T00:00:00\", \"2020-10-10T00:00:00\", \"2020-10-13T00:00:00\", \"2020-10-14T00:00:00\", \"2020-10-15T00:00:00\", \"2020-10-16T00:00:00\", \"2020-10-17T00:00:00\", \"2020-10-18T00:00:00\", \"2020-10-19T00:00:00\", \"2020-10-20T00:00:00\", \"2020-10-21T00:00:00\", \"2020-10-22T00:00:00\", \"2020-10-23T00:00:00\", \"2020-10-24T00:00:00\", \"2020-10-26T00:00:00\", \"2020-10-27T00:00:00\", \"2020-10-28T00:00:00\", \"2020-10-29T00:00:00\", \"2020-10-30T00:00:00\", \"2020-10-31T00:00:00\", \"2020-11-01T00:00:00\", \"2020-11-02T00:00:00\", \"2020-11-03T00:00:00\", \"2020-11-04T00:00:00\", \"2020-11-05T00:00:00\", \"2020-11-06T00:00:00\", \"2020-11-07T00:00:00\", \"2020-11-08T00:00:00\", \"2020-11-09T00:00:00\", \"2020-11-10T00:00:00\", \"2020-11-11T00:00:00\", \"2020-11-12T00:00:00\", \"2020-11-13T00:00:00\", \"2020-11-14T00:00:00\", \"2020-11-15T00:00:00\", \"2020-11-16T00:00:00\", \"2020-11-17T00:00:00\", \"2020-11-18T00:00:00\", \"2020-11-19T00:00:00\", \"2020-11-20T00:00:00\", \"2020-11-21T00:00:00\", \"2020-11-22T00:00:00\", \"2020-11-23T00:00:00\", \"2020-11-24T00:00:00\", \"2020-11-25T00:00:00\", \"2020-11-26T00:00:00\", \"2020-11-27T00:00:00\", \"2020-11-28T00:00:00\", \"2020-11-29T00:00:00\", \"2020-11-30T00:00:00\", \"2020-12-01T00:00:00\", \"2020-12-02T00:00:00\", \"2020-12-03T00:00:00\", \"2020-12-04T00:00:00\", \"2020-12-05T00:00:00\", \"2020-12-06T00:00:00\", \"2020-12-07T00:00:00\", \"2020-12-08T00:00:00\", \"2020-12-09T00:00:00\", \"2020-12-10T00:00:00\", \"2020-12-11T00:00:00\", \"2020-12-12T00:00:00\", \"2020-12-13T00:00:00\", \"2020-12-14T00:00:00\", \"2020-12-15T00:00:00\", \"2020-12-16T00:00:00\", \"2020-12-17T00:00:00\", \"2020-12-18T00:00:00\", \"2020-12-19T00:00:00\", \"2020-12-20T00:00:00\", \"2020-12-21T00:00:00\", \"2020-12-22T00:00:00\", \"2020-12-23T00:00:00\", \"2020-12-24T00:00:00\", \"2020-12-25T00:00:00\", \"2020-12-26T00:00:00\", \"2020-12-27T00:00:00\", \"2020-12-28T00:00:00\", \"2020-12-29T00:00:00\", \"2020-12-30T00:00:00\", \"2020-12-31T00:00:00\", \"2021-01-01T00:00:00\", \"2021-01-02T00:00:00\", \"2021-01-03T00:00:00\", \"2021-01-04T00:00:00\", \"2021-01-05T00:00:00\", \"2021-01-06T00:00:00\", \"2021-01-07T00:00:00\", \"2021-01-08T00:00:00\", \"2021-01-09T00:00:00\", \"2021-01-10T00:00:00\", \"2021-01-11T00:00:00\", \"2021-01-12T00:00:00\", \"2021-01-13T00:00:00\", \"2021-01-14T00:00:00\", \"2021-01-15T00:00:00\", \"2021-01-16T00:00:00\", \"2021-01-17T00:00:00\", \"2021-01-18T00:00:00\", \"2021-01-19T00:00:00\", \"2021-01-20T00:00:00\", \"2021-01-21T00:00:00\", \"2021-01-22T00:00:00\", \"2021-01-23T00:00:00\", \"2021-01-24T00:00:00\", \"2021-01-25T00:00:00\", \"2021-01-26T00:00:00\", \"2021-01-27T00:00:00\", \"2021-01-28T00:00:00\", \"2021-01-29T00:00:00\", \"2021-01-30T00:00:00\", \"2021-01-31T00:00:00\", \"2021-02-01T00:00:00\", \"2021-02-02T00:00:00\", \"2021-02-03T00:00:00\", \"2021-02-04T00:00:00\", \"2021-02-05T00:00:00\", \"2021-02-06T00:00:00\", \"2021-02-07T00:00:00\", \"2021-02-08T00:00:00\", \"2021-02-09T00:00:00\", \"2021-02-10T00:00:00\", \"2021-02-11T00:00:00\", \"2021-02-12T00:00:00\", \"2021-02-13T00:00:00\", \"2021-02-14T00:00:00\", \"2021-02-15T00:00:00\", \"2021-02-16T00:00:00\", \"2021-02-17T00:00:00\", \"2021-02-18T00:00:00\", \"2021-02-19T00:00:00\", \"2021-02-20T00:00:00\", \"2021-02-21T00:00:00\", \"2021-02-22T00:00:00\", \"2021-02-23T00:00:00\", \"2021-02-24T00:00:00\", \"2021-02-25T00:00:00\", \"2021-02-26T00:00:00\", \"2021-02-27T00:00:00\", \"2021-02-28T00:00:00\", \"2021-03-01T00:00:00\", \"2021-03-02T00:00:00\", \"2021-03-03T00:00:00\", \"2021-03-04T00:00:00\", \"2021-03-05T00:00:00\", \"2021-03-06T00:00:00\", \"2021-03-07T00:00:00\", \"2021-03-08T00:00:00\", \"2021-03-09T00:00:00\", \"2021-03-10T00:00:00\", \"2021-03-11T00:00:00\", \"2021-03-12T00:00:00\", \"2021-03-13T00:00:00\", \"2021-03-14T00:00:00\", \"2021-03-15T00:00:00\", \"2021-03-16T00:00:00\", \"2021-03-17T00:00:00\", \"2021-03-18T00:00:00\", \"2021-03-19T00:00:00\", \"2021-03-20T00:00:00\", \"2021-03-21T00:00:00\", \"2021-03-22T00:00:00\", \"2021-03-23T00:00:00\", \"2021-03-24T00:00:00\", \"2021-03-25T00:00:00\", \"2021-03-26T00:00:00\", \"2021-03-27T00:00:00\", \"2021-03-28T00:00:00\", \"2021-03-28T00:00:00\", \"2021-03-29T00:00:00\", \"2021-03-30T00:00:00\", \"2021-03-31T00:00:00\", \"2021-04-01T00:00:00\", \"2021-04-02T00:00:00\", \"2021-04-03T00:00:00\", \"2021-04-04T00:00:00\", \"2021-04-05T00:00:00\", \"2021-04-06T00:00:00\", \"2021-04-07T00:00:00\", \"2021-04-08T00:00:00\", \"2021-04-09T00:00:00\", \"2021-04-10T00:00:00\", \"2021-04-11T00:00:00\", \"2021-04-12T00:00:00\", \"2021-04-13T00:00:00\", \"2021-04-14T00:00:00\", \"2021-04-15T00:00:00\", \"2021-04-16T00:00:00\", \"2021-04-18T00:00:00\"], \"y\": [725961.0, 732951.1875, 724993.9375, 713463.9375, 717018.5625, 688840.875, 611785.25, 602472.6875, 576215.6875, 583067.125, 581412.25, 571408.5, 585926.1875, 593290.375, 597178.3125, 586688.8125, 581185.625, 577328.0, 565767.3125, 586185.4375, 586053.9375, 611323.4375, 609553.5625, 591260.8125, 592312.25, 590159.0, 596671.25, 586683.875, 574306.125, 576431.25, 566819.3125, 567910.75, 584096.375, 584640.5625, 572292.25, 531475.1875, 532109.625, 613524.0625, 654913.8125, 676643.4375, 654827.125, 668372.0625, 652155.3125, 652986.5625, 654806.4375, 657598.75, 651296.6875, 666309.5, 661194.0, 664716.0625, 658432.4375, 628466.0, 629087.0625, 646299.125, 626781.8125, 632876.3125, 635529.25, 626685.0, 608323.875, 612666.1875, 614565.8125, 597812.375, 589701.8125, 576182.875, 548371.125, 523840.28125, 531107.0625, 505996.15625, 512302.03125, 515668.875, 536541.4375, 534040.5, 556900.25, 543151.25, 532704.625, 524510.5625, 525264.375, 518448.71875, 531771.875, 538078.25, 538737.125, 539284.25, 525241.75, 515525.1875, 510555.71875, 511147.21875, 513890.375, 503639.625, 505572.75, 491538.84375, 471708.9375, 516652.3125, 513070.84375, 513254.25, 511287.78125, 534074.4375, 523873.0, 521803.625, 518427.5625, 516144.125, 520712.8125, 522705.71875, 530212.125, 520151.0, 512910.8125, 512853.96875, 498416.75, 527076.25, 531796.125, 531863.1875, 557805.0, 587512.375, 577281.125, 560959.5625, 579751.875, 570347.625, 581358.3125, 576030.0, 625492.125, 622867.0, 619001.5, 634351.875, 635330.25, 618567.375, 615025.9375, 622532.8125, 617293.625, 599645.0625, 602374.8125, 596840.9375, 613184.875, 636606.5625, 666709.6875, 664368.875, 680558.6875, 668553.5, 671581.1875, 668112.75, 662852.0, 652858.25, 684379.6875, 693764.0625, 700566.6875, 705513.875, 723501.875, 702781.3125, 727697.125, 736310.6875, 728065.625, 737593.6875, 707359.875, 710589.75, 691482.6875, 726014.75, 689985.5625, 690676.4375, 696334.0625, 694662.0, 713421.3125, 695287.375, 671481.8125, 632196.0, 629795.5, 625934.4375, 620669.5625, 617995.125, 642377.0, 645247.625, 643466.8125, 670517.5, 675041.0, 659383.8125, 600030.75, 589784.625, 587119.4375, 586831.125, 370008.5625, 411486.1875, 384613.875, 398630.21875, 372605.9375, 386826.6875, 392791.21875, 465331.3125, 468767.71875, 467730.8125, 440398.625, 491303.625, 511582.4375, 506731.90625, 501893.40625, 484432.59375, 467390.5, 446500.71875, 484874.40625, 485055.25, 505986.5625, 517483.96875, 514565.46875, 524816.4375, 517755.6875, 552472.875, 542859.875, 557164.125, 554308.9375, 522989.25, 522500.9375, 531033.3125, 521994.03125, 519791.875, 508125.40625, 546993.3125, 555218.625, 550494.25, 527109.1875, 529577.8125, 543825.8125, 564617.4375, 576269.6875, 577601.25, 585831.8125, 593921.875, 593896.1875, 662441.8125, 652947.5625, 672472.375, 681614.25, 672054.6875, 674153.1875, 683718.375, 706511.875, 753450.375, 742885.0625, 724377.5625, 661405.1875, 653199.75, 663584.6875, 699292.625, 734847.1875, 707795.625, 711499.6875, 733332.25, 735426.3125, 736585.4375, 719366.0, 686917.1875, 697830.8125, 699860.6875, 668024.0625, 675890.25, 666958.125, 696799.8125, 721099.1875, 712872.875, 732606.3125, 714529.4375, 767767.0, 715364.75, 727420.75, 739536.4375, 730371.125, 729475.4375, 736968.5, 736812.8125, 739674.75, 746965.1875, 708222.8125, 720136.4375, 719713.625, 712992.6875, 718047.8125, 728741.8125, 724133.625, 719070.6875, 708232.3125, 711612.0, 709423.625, 731276.8125, 728123.0, 705452.875, 699862.625, 692973.125, 684084.8125, 691438.1875, 694011.0625, 690443.9375, 696325.6875, 683252.1875, 678634.875, 682009.1875, 677638.0, 699483.0625, 693029.3125, 706560.625, 697124.25, 697383.125, 694832.4375, 697210.0, 695231.125, 696265.9375, 690849.5625, 686567.75, 685416.75, 685989.5625, 687995.0625, 685029.5, 698836.9375, 710687.8125, 717179.625, 712641.4375, 723119.375, 740510.875, 822141.9375, 817375.875, 830489.3125, 830777.6875, 848466.1875, 881145.125, 828115.3125, 845338.0625, 841131.125, 878648.375, 882346.75, 870409.25, 881853.25, 875972.8125, 889387.3125, 851413.5, 866195.5625, 881735.6875, 880955.25, 888203.3125, 890807.1875, 915978.5625, 894266.0, 881539.6875, 890749.0, 868617.0625, 875311.0, 873954.3125, 873601.4375, 843803.6875, 853137.9375, 835375.125, 844085.6875, 841479.8125, 856445.4375, 857813.75, 874639.1875, 836109.375, 752531.375, 769950.4375, 744882.125, 753452.625, 761595.1875, 747574.6875, 751046.25, 762048.75, 764222.8125, 767254.125, 758577.6875, 783969.75, 794767.375, 807217.4375, 805666.625, 805632.625, 816656.5, 804346.375, 769813.625, 774611.125, 754483.6875, 794391.5625, 788753.4375, 792596.6875, 794070.375, 790859.25, 799846.3125, 793269.0625, 778205.125, 776131.75, 774689.4375, 783410.6875, 789945.875, 781949.875, 783190.8125, 800505.3125, 824196.0625, 831216.6875, 837731.9375, 843431.0625, 831547.75, 834190.1875, 843384.5, 861833.8125, 875624.8125, 945436.75, 955938.875, 954789.1875, 967822.6875, 962171.1875, 966898.375, 1007752.875, 984616.5625, 998199.5625, 1010758.25, 1028253.1875, 1025276.0625, 1008973.5, 1041555.25, 1048590.375, 1155050.875, 1151581.75, 1097418.25, 1145147.375, 1133938.25, 1135889.25, 1170436.875, 1218894.75, 1216295.125, 1197685.375, 1189296.0, 1243985.5, 1315554.25, 1321773.875, 1320301.625, 1381006.0, 1382557.375, 1362157.375, 1363430.5, 1413212.875, 1382251.625, 1266291.375, 1264934.5, 1310423.375, 1344213.625, 1452322.5, 1385217.0, 1414407.125, 1437778.25, 1380015.625, 1413554.5, 1427727.5, 1416537.0, 1350741.875, 1369604.5, 1347820.25, 1331632.875, 1386549.75, 1411568.625, 1417556.75, 1427655.25, 1568584.75, 1676864.375, 1703118.125, 1756989.125, 1727846.0, 1685955.875, 1762833.75, 1716141.375, 1745972.625, 1814318.625, 1944683.375, 1936930.75, 1991956.25, 2009443.875, 2110859.25, 2118790.25, 2147022.75, 2348254.25, 2395940.25, 2336819.0, 2487166.5, 2693424.25, 2891625.75, 2993704.25, 2953814.25, 2813688.5, 2614815.75, 2481337.5, 2730439.75, 2864221.75, 2694199.0, 2645725.5, 2617995.75, 2680935.25, 2640030.25, 2591756.25, 2248893.5, 2409401.0, 2340918.75, 2356991.0, 2361793.5, 2374998.5, 2222773.5, 2308492.25, 2501913.5, 2498482.75, 2414384.5, 2452240.0, 2589344.75, 2730151.0, 2695098.25, 2776459.25, 2858106.25, 2831977.75, 3369115.0, 3386420.25, 3270382.75, 3483475.5, 3448422.25, 3419439.0, 3536634.0, 3482678.5, 3588405.0, 3796127.0, 3752245.0, 4054759.5, 4071170.25, 4175234.25, 3927762.0, 3534027.0, 3598459.75, 3444981.25, 3410439.5, 3399303.75, 3326373.5, 3638530.75, 3545103.5, 3689294.5, 3551448.0, 3580544.25, 3579452.0, 3747472.0, 3831271.25, 3989882.75, 4072166.0, 4198921.0, 4167426.5, 4451714.0, 4310706.5, 4054141.25, 4119249.75, 4272263.5, 4204622.0, 4226751.0, 4224360.0, 4165414.75, 3946860.5, 3974729.0, 3833831.5, 3754396.75, 3994554.75, 4055135.0, 4053488.75, 4200873.5, 4327242.0, 4313079.0, 4330986.5, 4357392.5, 4226751.5, 4311483.0, 4327746.5, 4276035.5, 4170133.5, 4347744.0, 4352631.5, 4468330.5, 4499101.5, 4491485.5, 4774301.0, 4734890.5, 4731307.5, 4591076.5, 4524215.5, 4130716.75]}, {\"name\": \"30 days moving average\", \"type\": \"scatter\", \"visible\": true, \"x\": [\"2019-09-17T00:00:00\", \"2019-09-18T00:00:00\", \"2019-09-19T00:00:00\", \"2019-09-20T00:00:00\", \"2019-09-21T00:00:00\", \"2019-09-22T00:00:00\", \"2019-09-23T00:00:00\", \"2019-09-24T00:00:00\", \"2019-09-25T00:00:00\", \"2019-09-26T00:00:00\", \"2019-09-27T00:00:00\", \"2019-09-28T00:00:00\", \"2019-09-29T00:00:00\", \"2019-09-30T00:00:00\", \"2019-10-01T00:00:00\", \"2019-10-02T00:00:00\", \"2019-10-03T00:00:00\", \"2019-10-04T00:00:00\", \"2019-10-05T00:00:00\", \"2019-10-06T00:00:00\", \"2019-10-07T00:00:00\", \"2019-10-08T00:00:00\", \"2019-10-09T00:00:00\", \"2019-10-10T00:00:00\", \"2019-10-11T00:00:00\", \"2019-10-12T00:00:00\", \"2019-10-13T00:00:00\", \"2019-10-14T00:00:00\", \"2019-10-15T00:00:00\", \"2019-10-16T00:00:00\", \"2019-10-17T00:00:00\", \"2019-10-18T00:00:00\", \"2019-10-19T00:00:00\", \"2019-10-20T00:00:00\", \"2019-10-21T00:00:00\", \"2019-10-22T00:00:00\", \"2019-10-23T00:00:00\", \"2019-10-24T00:00:00\", \"2019-10-25T00:00:00\", \"2019-10-26T00:00:00\", \"2019-10-28T00:00:00\", \"2019-10-29T00:00:00\", \"2019-10-30T00:00:00\", \"2019-10-31T00:00:00\", \"2019-11-01T00:00:00\", \"2019-11-02T00:00:00\", \"2019-11-03T00:00:00\", \"2019-11-04T00:00:00\", \"2019-11-05T00:00:00\", \"2019-11-06T00:00:00\", \"2019-11-07T00:00:00\", \"2019-11-08T00:00:00\", \"2019-11-09T00:00:00\", \"2019-11-10T00:00:00\", \"2019-11-11T00:00:00\", \"2019-11-12T00:00:00\", \"2019-11-13T00:00:00\", \"2019-11-14T00:00:00\", \"2019-11-15T00:00:00\", \"2019-11-16T00:00:00\", \"2019-11-17T00:00:00\", \"2019-11-18T00:00:00\", \"2019-11-19T00:00:00\", \"2019-11-20T00:00:00\", \"2019-11-21T00:00:00\", \"2019-11-22T00:00:00\", \"2019-11-23T00:00:00\", \"2019-11-24T00:00:00\", \"2019-11-25T00:00:00\", \"2019-11-26T00:00:00\", \"2019-11-27T00:00:00\", \"2019-11-28T00:00:00\", \"2019-11-29T00:00:00\", \"2019-11-30T00:00:00\", \"2019-12-01T00:00:00\", \"2019-12-02T00:00:00\", \"2019-12-03T00:00:00\", \"2019-12-04T00:00:00\", \"2019-12-05T00:00:00\", \"2019-12-06T00:00:00\", \"2019-12-07T00:00:00\", \"2019-12-08T00:00:00\", \"2019-12-09T00:00:00\", \"2019-12-10T00:00:00\", \"2019-12-11T00:00:00\", \"2019-12-12T00:00:00\", \"2019-12-13T00:00:00\", \"2019-12-14T00:00:00\", \"2019-12-15T00:00:00\", \"2019-12-16T00:00:00\", \"2019-12-17T00:00:00\", \"2019-12-18T00:00:00\", \"2019-12-19T00:00:00\", \"2019-12-20T00:00:00\", \"2019-12-21T00:00:00\", \"2019-12-22T00:00:00\", \"2019-12-23T00:00:00\", \"2019-12-24T00:00:00\", \"2019-12-25T00:00:00\", \"2019-12-26T00:00:00\", \"2019-12-27T00:00:00\", \"2019-12-28T00:00:00\", \"2019-12-29T00:00:00\", \"2019-12-30T00:00:00\", \"2019-12-31T00:00:00\", \"2020-01-01T00:00:00\", \"2020-01-02T00:00:00\", \"2020-01-03T00:00:00\", \"2020-01-04T00:00:00\", \"2020-01-05T00:00:00\", \"2020-01-06T00:00:00\", \"2020-01-07T00:00:00\", \"2020-01-08T00:00:00\", \"2020-01-09T00:00:00\", \"2020-01-10T00:00:00\", \"2020-01-11T00:00:00\", \"2020-01-12T00:00:00\", \"2020-01-13T00:00:00\", \"2020-01-14T00:00:00\", \"2020-01-15T00:00:00\", \"2020-01-16T00:00:00\", \"2020-01-17T00:00:00\", \"2020-01-18T00:00:00\", \"2020-01-19T00:00:00\", \"2020-01-20T00:00:00\", \"2020-01-21T00:00:00\", \"2020-01-22T00:00:00\", \"2020-01-23T00:00:00\", \"2020-01-24T00:00:00\", \"2020-01-25T00:00:00\", \"2020-01-26T00:00:00\", \"2020-01-27T00:00:00\", \"2020-01-28T00:00:00\", \"2020-01-29T00:00:00\", \"2020-01-30T00:00:00\", \"2020-01-31T00:00:00\", \"2020-02-01T00:00:00\", \"2020-02-02T00:00:00\", \"2020-02-03T00:00:00\", \"2020-02-04T00:00:00\", \"2020-02-05T00:00:00\", \"2020-02-06T00:00:00\", \"2020-02-07T00:00:00\", \"2020-02-08T00:00:00\", \"2020-02-09T00:00:00\", \"2020-02-10T00:00:00\", \"2020-02-11T00:00:00\", \"2020-02-12T00:00:00\", \"2020-02-13T00:00:00\", \"2020-02-14T00:00:00\", \"2020-02-15T00:00:00\", \"2020-02-16T00:00:00\", \"2020-02-17T00:00:00\", \"2020-02-18T00:00:00\", \"2020-02-19T00:00:00\", \"2020-02-20T00:00:00\", \"2020-02-21T00:00:00\", \"2020-02-22T00:00:00\", \"2020-02-23T00:00:00\", \"2020-02-24T00:00:00\", \"2020-02-25T00:00:00\", \"2020-02-26T00:00:00\", \"2020-02-27T00:00:00\", \"2020-02-28T00:00:00\", \"2020-02-29T00:00:00\", \"2020-03-01T00:00:00\", \"2020-03-02T00:00:00\", \"2020-03-03T00:00:00\", \"2020-03-04T00:00:00\", \"2020-03-05T00:00:00\", \"2020-03-06T00:00:00\", \"2020-03-07T00:00:00\", \"2020-03-08T00:00:00\", \"2020-03-09T00:00:00\", \"2020-03-10T00:00:00\", \"2020-03-11T00:00:00\", \"2020-03-12T00:00:00\", \"2020-03-13T00:00:00\", \"2020-03-14T00:00:00\", \"2020-03-15T00:00:00\", \"2020-03-16T00:00:00\", \"2020-03-17T00:00:00\", \"2020-03-18T00:00:00\", \"2020-03-19T00:00:00\", \"2020-03-20T00:00:00\", \"2020-03-21T00:00:00\", \"2020-03-22T00:00:00\", \"2020-03-23T00:00:00\", \"2020-03-24T00:00:00\", \"2020-03-25T00:00:00\", \"2020-03-26T00:00:00\", \"2020-03-27T00:00:00\", \"2020-03-28T00:00:00\", \"2020-03-29T00:00:00\", \"2020-03-29T00:00:00\", \"2020-03-30T00:00:00\", \"2020-03-31T00:00:00\", \"2020-04-01T00:00:00\", \"2020-04-02T00:00:00\", \"2020-04-03T00:00:00\", \"2020-04-04T00:00:00\", \"2020-04-05T00:00:00\", \"2020-04-06T00:00:00\", \"2020-04-07T00:00:00\", \"2020-04-08T00:00:00\", \"2020-04-09T00:00:00\", \"2020-04-10T00:00:00\", \"2020-04-11T00:00:00\", \"2020-04-12T00:00:00\", \"2020-04-13T00:00:00\", \"2020-04-14T00:00:00\", \"2020-04-15T00:00:00\", \"2020-04-17T00:00:00\", \"2020-04-18T00:00:00\", \"2020-04-19T00:00:00\", \"2020-04-20T00:00:00\", \"2020-04-21T00:00:00\", \"2020-04-22T00:00:00\", \"2020-04-23T00:00:00\", \"2020-04-24T00:00:00\", \"2020-04-25T00:00:00\", \"2020-04-26T00:00:00\", \"2020-04-27T00:00:00\", \"2020-04-28T00:00:00\", \"2020-04-29T00:00:00\", \"2020-04-30T00:00:00\", \"2020-05-01T00:00:00\", \"2020-05-02T00:00:00\", \"2020-05-03T00:00:00\", \"2020-05-04T00:00:00\", \"2020-05-05T00:00:00\", \"2020-05-06T00:00:00\", \"2020-05-07T00:00:00\", \"2020-05-08T00:00:00\", \"2020-05-09T00:00:00\", \"2020-05-10T00:00:00\", \"2020-05-11T00:00:00\", \"2020-05-12T00:00:00\", \"2020-05-13T00:00:00\", \"2020-05-14T00:00:00\", \"2020-05-15T00:00:00\", \"2020-05-16T00:00:00\", \"2020-05-17T00:00:00\", \"2020-05-18T00:00:00\", \"2020-05-19T00:00:00\", \"2020-05-20T00:00:00\", \"2020-05-21T00:00:00\", \"2020-05-22T00:00:00\", \"2020-05-23T00:00:00\", \"2020-05-24T00:00:00\", \"2020-05-25T00:00:00\", \"2020-05-26T00:00:00\", \"2020-05-27T00:00:00\", \"2020-05-28T00:00:00\", \"2020-05-29T00:00:00\", \"2020-05-30T00:00:00\", \"2020-05-31T00:00:00\", \"2020-06-01T00:00:00\", \"2020-06-02T00:00:00\", \"2020-06-03T00:00:00\", \"2020-06-04T00:00:00\", \"2020-06-05T00:00:00\", \"2020-06-06T00:00:00\", \"2020-06-07T00:00:00\", \"2020-06-08T00:00:00\", \"2020-06-09T00:00:00\", \"2020-06-10T00:00:00\", \"2020-06-11T00:00:00\", \"2020-06-12T00:00:00\", \"2020-06-13T00:00:00\", \"2020-06-14T00:00:00\", \"2020-06-15T00:00:00\", \"2020-06-16T00:00:00\", \"2020-06-17T00:00:00\", \"2020-06-18T00:00:00\", \"2020-06-19T00:00:00\", \"2020-06-20T00:00:00\", \"2020-06-21T00:00:00\", \"2020-06-22T00:00:00\", \"2020-06-23T00:00:00\", \"2020-06-24T00:00:00\", \"2020-06-25T00:00:00\", \"2020-06-26T00:00:00\", \"2020-06-27T00:00:00\", \"2020-06-28T00:00:00\", \"2020-06-29T00:00:00\", \"2020-06-30T00:00:00\", \"2020-07-01T00:00:00\", \"2020-07-02T00:00:00\", \"2020-07-03T00:00:00\", \"2020-07-04T00:00:00\", \"2020-07-05T00:00:00\", \"2020-07-06T00:00:00\", \"2020-07-07T00:00:00\", \"2020-07-08T00:00:00\", \"2020-07-09T00:00:00\", \"2020-07-10T00:00:00\", \"2020-07-11T00:00:00\", \"2020-07-12T00:00:00\", \"2020-07-13T00:00:00\", \"2020-07-14T00:00:00\", \"2020-07-15T00:00:00\", \"2020-07-16T00:00:00\", \"2020-07-17T00:00:00\", \"2020-07-18T00:00:00\", \"2020-07-19T00:00:00\", \"2020-07-20T00:00:00\", \"2020-07-21T00:00:00\", \"2020-07-22T00:00:00\", \"2020-07-23T00:00:00\", \"2020-07-24T00:00:00\", \"2020-07-25T00:00:00\", \"2020-07-26T00:00:00\", \"2020-07-27T00:00:00\", \"2020-07-28T00:00:00\", \"2020-07-29T00:00:00\", \"2020-07-30T00:00:00\", \"2020-07-31T00:00:00\", \"2020-08-01T00:00:00\", \"2020-08-02T00:00:00\", \"2020-08-03T00:00:00\", \"2020-08-04T00:00:00\", \"2020-08-05T00:00:00\", \"2020-08-06T00:00:00\", \"2020-08-07T00:00:00\", \"2020-08-08T00:00:00\", \"2020-08-09T00:00:00\", \"2020-08-10T00:00:00\", \"2020-08-11T00:00:00\", \"2020-08-12T00:00:00\", \"2020-08-13T00:00:00\", \"2020-08-14T00:00:00\", \"2020-08-15T00:00:00\", \"2020-08-16T00:00:00\", \"2020-08-17T00:00:00\", \"2020-08-18T00:00:00\", \"2020-08-19T00:00:00\", \"2020-08-20T00:00:00\", \"2020-08-21T00:00:00\", \"2020-08-22T00:00:00\", \"2020-08-23T00:00:00\", \"2020-08-24T00:00:00\", \"2020-08-25T00:00:00\", \"2020-08-26T00:00:00\", \"2020-08-27T00:00:00\", \"2020-08-28T00:00:00\", \"2020-08-29T00:00:00\", \"2020-08-30T00:00:00\", \"2020-08-31T00:00:00\", \"2020-09-01T00:00:00\", \"2020-09-02T00:00:00\", \"2020-09-03T00:00:00\", \"2020-09-04T00:00:00\", \"2020-09-05T00:00:00\", \"2020-09-06T00:00:00\", \"2020-09-07T00:00:00\", \"2020-09-08T00:00:00\", \"2020-09-09T00:00:00\", \"2020-09-10T00:00:00\", \"2020-09-11T00:00:00\", \"2020-09-12T00:00:00\", \"2020-09-13T00:00:00\", \"2020-09-14T00:00:00\", \"2020-09-15T00:00:00\", \"2020-09-16T00:00:00\", \"2020-09-17T00:00:00\", \"2020-09-18T00:00:00\", \"2020-09-19T00:00:00\", \"2020-09-20T00:00:00\", \"2020-09-21T00:00:00\", \"2020-09-22T00:00:00\", \"2020-09-23T00:00:00\", \"2020-09-24T00:00:00\", \"2020-09-25T00:00:00\", \"2020-09-26T00:00:00\", \"2020-09-27T00:00:00\", \"2020-09-28T00:00:00\", \"2020-09-29T00:00:00\", \"2020-09-30T00:00:00\", \"2020-10-01T00:00:00\", \"2020-10-02T00:00:00\", \"2020-10-03T00:00:00\", \"2020-10-04T00:00:00\", \"2020-10-05T00:00:00\", \"2020-10-06T00:00:00\", \"2020-10-07T00:00:00\", \"2020-10-09T00:00:00\", \"2020-10-10T00:00:00\", \"2020-10-13T00:00:00\", \"2020-10-14T00:00:00\", \"2020-10-15T00:00:00\", \"2020-10-16T00:00:00\", \"2020-10-17T00:00:00\", \"2020-10-18T00:00:00\", \"2020-10-19T00:00:00\", \"2020-10-20T00:00:00\", \"2020-10-21T00:00:00\", \"2020-10-22T00:00:00\", \"2020-10-23T00:00:00\", \"2020-10-24T00:00:00\", \"2020-10-26T00:00:00\", \"2020-10-27T00:00:00\", \"2020-10-28T00:00:00\", \"2020-10-29T00:00:00\", \"2020-10-30T00:00:00\", \"2020-10-31T00:00:00\", \"2020-11-01T00:00:00\", \"2020-11-02T00:00:00\", \"2020-11-03T00:00:00\", \"2020-11-04T00:00:00\", \"2020-11-05T00:00:00\", \"2020-11-06T00:00:00\", \"2020-11-07T00:00:00\", \"2020-11-08T00:00:00\", \"2020-11-09T00:00:00\", \"2020-11-10T00:00:00\", \"2020-11-11T00:00:00\", \"2020-11-12T00:00:00\", \"2020-11-13T00:00:00\", \"2020-11-14T00:00:00\", \"2020-11-15T00:00:00\", \"2020-11-16T00:00:00\", \"2020-11-17T00:00:00\", \"2020-11-18T00:00:00\", \"2020-11-19T00:00:00\", \"2020-11-20T00:00:00\", \"2020-11-21T00:00:00\", \"2020-11-22T00:00:00\", \"2020-11-23T00:00:00\", \"2020-11-24T00:00:00\", \"2020-11-25T00:00:00\", \"2020-11-26T00:00:00\", \"2020-11-27T00:00:00\", \"2020-11-28T00:00:00\", \"2020-11-29T00:00:00\", \"2020-11-30T00:00:00\", \"2020-12-01T00:00:00\", \"2020-12-02T00:00:00\", \"2020-12-03T00:00:00\", \"2020-12-04T00:00:00\", \"2020-12-05T00:00:00\", \"2020-12-06T00:00:00\", \"2020-12-07T00:00:00\", \"2020-12-08T00:00:00\", \"2020-12-09T00:00:00\", \"2020-12-10T00:00:00\", \"2020-12-11T00:00:00\", \"2020-12-12T00:00:00\", \"2020-12-13T00:00:00\", \"2020-12-14T00:00:00\", \"2020-12-15T00:00:00\", \"2020-12-16T00:00:00\", \"2020-12-17T00:00:00\", \"2020-12-18T00:00:00\", \"2020-12-19T00:00:00\", \"2020-12-20T00:00:00\", \"2020-12-21T00:00:00\", \"2020-12-22T00:00:00\", \"2020-12-23T00:00:00\", \"2020-12-24T00:00:00\", \"2020-12-25T00:00:00\", \"2020-12-26T00:00:00\", \"2020-12-27T00:00:00\", \"2020-12-28T00:00:00\", \"2020-12-29T00:00:00\", \"2020-12-30T00:00:00\", \"2020-12-31T00:00:00\", \"2021-01-01T00:00:00\", \"2021-01-02T00:00:00\", \"2021-01-03T00:00:00\", \"2021-01-04T00:00:00\", \"2021-01-05T00:00:00\", \"2021-01-06T00:00:00\", \"2021-01-07T00:00:00\", \"2021-01-08T00:00:00\", \"2021-01-09T00:00:00\", \"2021-01-10T00:00:00\", \"2021-01-11T00:00:00\", \"2021-01-12T00:00:00\", \"2021-01-13T00:00:00\", \"2021-01-14T00:00:00\", \"2021-01-15T00:00:00\", \"2021-01-16T00:00:00\", \"2021-01-17T00:00:00\", \"2021-01-18T00:00:00\", \"2021-01-19T00:00:00\", \"2021-01-20T00:00:00\", \"2021-01-21T00:00:00\", \"2021-01-22T00:00:00\", \"2021-01-23T00:00:00\", \"2021-01-24T00:00:00\", \"2021-01-25T00:00:00\", \"2021-01-26T00:00:00\", \"2021-01-27T00:00:00\", \"2021-01-28T00:00:00\", \"2021-01-29T00:00:00\", \"2021-01-30T00:00:00\", \"2021-01-31T00:00:00\", \"2021-02-01T00:00:00\", \"2021-02-02T00:00:00\", \"2021-02-03T00:00:00\", \"2021-02-04T00:00:00\", \"2021-02-05T00:00:00\", \"2021-02-06T00:00:00\", \"2021-02-07T00:00:00\", \"2021-02-08T00:00:00\", \"2021-02-09T00:00:00\", \"2021-02-10T00:00:00\", \"2021-02-11T00:00:00\", \"2021-02-12T00:00:00\", \"2021-02-13T00:00:00\", \"2021-02-14T00:00:00\", \"2021-02-15T00:00:00\", \"2021-02-16T00:00:00\", \"2021-02-17T00:00:00\", \"2021-02-18T00:00:00\", \"2021-02-19T00:00:00\", \"2021-02-20T00:00:00\", \"2021-02-21T00:00:00\", \"2021-02-22T00:00:00\", \"2021-02-23T00:00:00\", \"2021-02-24T00:00:00\", \"2021-02-25T00:00:00\", \"2021-02-26T00:00:00\", \"2021-02-27T00:00:00\", \"2021-02-28T00:00:00\", \"2021-03-01T00:00:00\", \"2021-03-02T00:00:00\", \"2021-03-03T00:00:00\", \"2021-03-04T00:00:00\", \"2021-03-05T00:00:00\", \"2021-03-06T00:00:00\", \"2021-03-07T00:00:00\", \"2021-03-08T00:00:00\", \"2021-03-09T00:00:00\", \"2021-03-10T00:00:00\", \"2021-03-11T00:00:00\", \"2021-03-12T00:00:00\", \"2021-03-13T00:00:00\", \"2021-03-14T00:00:00\", \"2021-03-15T00:00:00\", \"2021-03-16T00:00:00\", \"2021-03-17T00:00:00\", \"2021-03-18T00:00:00\", \"2021-03-19T00:00:00\", \"2021-03-20T00:00:00\", \"2021-03-21T00:00:00\", \"2021-03-22T00:00:00\", \"2021-03-23T00:00:00\", \"2021-03-24T00:00:00\", \"2021-03-25T00:00:00\", \"2021-03-26T00:00:00\", \"2021-03-27T00:00:00\", \"2021-03-28T00:00:00\", \"2021-03-28T00:00:00\", \"2021-03-29T00:00:00\", \"2021-03-30T00:00:00\", \"2021-03-31T00:00:00\", \"2021-04-01T00:00:00\", \"2021-04-02T00:00:00\", \"2021-04-03T00:00:00\", \"2021-04-04T00:00:00\", \"2021-04-05T00:00:00\", \"2021-04-06T00:00:00\", \"2021-04-07T00:00:00\", \"2021-04-08T00:00:00\", \"2021-04-09T00:00:00\", \"2021-04-10T00:00:00\", \"2021-04-11T00:00:00\", \"2021-04-12T00:00:00\", \"2021-04-13T00:00:00\", \"2021-04-14T00:00:00\", \"2021-04-15T00:00:00\", \"2021-04-16T00:00:00\", \"2021-04-18T00:00:00\"], \"y\": [null, null, null, null, null, null, null, null, null, null, null, null, null, null, null, null, null, null, null, null, null, null, null, null, null, null, null, null, null, 613929.8854166666, 608625.1625, 603123.8145833333, 598427.2291666666, 594133.1166666667, 589308.90625, 584063.3833333333, 581407.5291666667, 581775.9083333333, 584399.1791666667, 587518.3895833333, 589965.5520833334, 593197.6708333333, 595405.3083333333, 597395.18125, 599316.11875, 601679.7833333333, 604016.81875, 606982.86875, 610163.7583333333, 612781.4458333333, 615194.0625, 615765.48125, 616416.5979166667, 618251.2083333334, 619400.19375, 620824.1041666666, 622119.3708333333, 623452.7416666667, 624586.6666666666, 625794.4979166667, 627386.0479166667, 628382.76875, 628569.6166666667, 628287.69375, 627490.3229166666, 627235.8260416667, 627202.4072916667, 623618.14375, 618864.4177083333, 613498.5989583334, 609555.7427083333, 605078.0239583333, 601902.8552083333, 598241.678125, 594171.6177083333, 589735.3447916667, 585534.2677083333, 580605.575, 576291.5041666667, 572070.24375, 568080.4, 565107.675, 561646.1645833333, 557287.0333333333, 553412.8302083333, 549355.19375, 545300.5645833333, 541199.0520833334, 537774.0145833333, 533736.4364583333, 528974.540625, 526269.2052083333, 523714.83958333335, 521617.21875, 520381.1072916667, 520722.24583333335, 520481.11041666666, 521008.0260416667, 521212.21041666664, 521228.0520833333, 520700.43125, 520322.60520833335, 519433.00104166666, 518666.3260416667, 518006.53229166666, 517617.9791666667, 516723.05833333335, 517010.6427083333, 517011.4510416667, 516804.28229166666, 517439.878125, 519047.4822916667, 520782.128125, 522296.6072916667, 524603.1458333334, 526576.4927083333, 528825.4239583333, 531238.4364583333, 535235.7489583333, 539613.3541666666, 544523.10625, 548446.425, 552521.7385416667, 556032.1760416667, 559490.1145833334, 562438.7270833333, 565552.7479166667, 568147.4625, 570945.7041666667, 573635.5979166667, 576718.0, 580514.6947916667, 585064.6135416667, 589871.8760416667, 595460.1385416667, 600650.1229166667, 606422.2708333334, 611123.4875, 615492.0166666667, 619525.1854166667, 623744.3416666667, 627286.0645833333, 631395.5833333334, 636214.0604166667, 641005.7270833333, 645420.1833333333, 650298.14375, 655640.8333333334, 659059.95, 662884.1729166667, 665829.4520833333, 668370.7145833333, 670242.4625, 673824.0416666666, 676322.6958333333, 678594.15, 681228.83125, 684396.0625, 688097.6125, 691379.1604166667, 693322.3916666667, 693175.3729166667, 691944.9, 690663.7520833333, 688667.4479166666, 686982.16875, 686008.6958333333, 685246.525, 684600.3520833333, 685188.99375, 684877.7041666667, 683731.6958333333, 680380.4979166667, 676522.85625, 671976.775, 668111.76875, 656188.8166666667, 645361.3333333334, 633912.9416666667, 622614.159375, 611455.6947916667, 600663.5927083333, 590707.2104166667, 582017.7625, 574643.834375, 567212.3135416667, 558681.1322916667, 551902.5197916667, 545174.5572916666, 538889.375, 533236.428125, 528310.98125, 522897.48125, 516916.3572916667, 512389.85208333336, 507958.52291666664, 503412.175, 499153.38645833335, 494856.675, 489999.97291666665, 484757.12916666665, 481193.43125, 479287.73541666666, 478200.3854166667, 477106.70208333334, 474978.63958333334, 480061.71875, 484046.6229166667, 488625.96145833336, 492664.68333333335, 497181.99895833334, 502520.88645833335, 507935.13333333336, 510773.89791666664, 512718.61354166665, 514780.18020833336, 518227.753125, 520671.546875, 522827.78854166664, 525190.1, 527988.046875, 531637.6895833333, 535854.5458333333, 543052.5822916667, 548655.0208333334, 554902.2583333333, 560756.5145833333, 565908.871875, 571228.4625, 576525.19375, 582817.0666666667, 589516.3166666667, 596183.8229166666, 601757.6041666666, 605327.4791666666, 609667.8291666667, 614370.6208333333, 619979.2645833333, 627074.3697916666, 633341.1614583334, 640120.3041666667, 646331.6020833333, 652338.525, 658541.5645833333, 664950.125, 670194.7708333334, 675328.2708333334, 679836.3791666667, 682894.8583333333, 686171.1583333333, 688875.36875, 692304.6333333333, 696544.7333333333, 698225.76875, 700881.0604166667, 702282.9625, 705154.7208333333, 706598.3895833333, 708373.975, 710234.5770833333, 711029.8854166666, 710230.7208333333, 710033.5020833333, 710448.0104166666, 713056.9958333333, 716182.5104166666, 717670.4479166666, 718365.2416666667, 717860.7895833333, 718034.025, 718252.2958333333, 718099.28125, 717722.8583333333, 717139.0333333333, 716767.9104166667, 717591.0708333333, 717977.4979166667, 719024.7020833333, 721028.0, 722013.4208333333, 723110.2375, 722982.68125, 721748.86875, 721034.3791666667, 719747.8708333333, 718945.0208333334, 716563.64375, 715493.225, 713867.0291666667, 711949.4541666667, 710191.6833333333, 709191.9375, 707727.2979166667, 706718.8916666667, 705300.5416666666, 703647.80625, 703201.4604166667, 702437.2458333333, 701621.1625, 701063.6041666666, 700156.9958333333, 698751.19375, 697460.63125, 696357.9270833334, 695683.3520833333, 694797.26875, 694444.3791666667, 693758.0791666667, 693393.3, 693632.91875, 694408.14375, 695992.7354166667, 700594.6395833333, 704792.5625, 709341.8375, 714019.6291666667, 719090.9791666666, 725687.4104166667, 730670.0916666667, 736114.3875, 741564.1583333333, 747536.3354166667, 753846.9166666666, 759308.5375, 765466.1708333333, 771419.1604166667, 777904.3229166666, 783044.4395833333, 788743.2541666667, 794925.5791666667, 801262.4354166667, 807983.6208333333, 814829.96875, 822496.26875, 829371.9666666667, 835922.30625, 842319.375, 847583.6833333333, 852854.7291666666, 858231.825, 863247.89375, 866690.9875, 867724.1875, 868324.1625, 868777.375, 869134.1125, 869400.0875, 868622.375, 870173.1708333333, 869865.5479166667, 866912.2229166667, 863288.9583333334, 858706.8041666667, 854808.25, 850799.6479166667, 846519.7104166667, 841908.3416666667, 838929.5166666667, 835530.425, 831714.3729166667, 827635.1208333333, 824160.66875, 820959.3416666667, 817333.9708333333, 814380.6583333333, 811850.4229166667, 809380.6729166667, 807238.3166666667, 803721.7375, 800410.2979166667, 796439.70625, 794792.6354166666, 792646.4854166667, 791220.5375, 789553.3604166667, 787866.0083333333, 785979.3708333333, 783827.88125, 780613.4125, 778614.1583333333, 779352.7604166666, 779801.4354166667, 781303.5604166667, 782253.46875, 782973.3229166666, 784737.6770833334, 787176.0041666667, 789481.6020833333, 791931.90625, 794471.1375, 796903.4729166667, 798577.4875, 800198.0583333333, 802018.6041666666, 804350.54375, 809010.68125, 813653.4270833334, 818668.1875, 825268.4895833334, 831520.4916666667, 838600.98125, 845713.025, 852241.7958333333, 859095.225, 866318.1541666667, 874231.2854166667, 881745.6104166667, 888935.7583333333, 897714.0958333333, 906796.05, 919474.7645833333, 931747.1333333333, 941996.2125, 954102.7958333333, 965794.3770833333, 976973.8416666667, 988515.2020833333, 1001437.8041666667, 1014056.5770833333, 1025865.0541666667, 1037789.9958333333, 1051449.8395833333, 1067188.83125, 1082520.1666666667, 1097342.7270833333, 1111861.7020833334, 1126082.31875, 1139661.2583333333, 1152848.1854166666, 1167882.9083333334, 1181728.0166666666, 1190345.9666666666, 1199689.8979166667, 1210097.3583333334, 1221212.5375, 1235348.18125, 1247346.2125, 1260860.6666666667, 1274068.1, 1285115.6083333334, 1293732.3958333333, 1302937.2541666667, 1313574.5458333334, 1320427.6958333333, 1328283.2375, 1335347.6041666667, 1340720.8041666667, 1346309.3041666667, 1352818.4208333334, 1360147.4666666666, 1368092.775, 1378912.75, 1390956.4208333334, 1403667.8958333333, 1418224.1458333333, 1429785.4791666667, 1439898.7625, 1453254.6416666666, 1465011.6708333334, 1476103.6625, 1490505.8958333333, 1513118.9625, 1535518.8375, 1558236.6, 1580410.9416666667, 1602362.1666666667, 1626814.6083333334, 1651235.1291666667, 1681584.3291666666, 1715448.4833333334, 1746223.9666666666, 1781538.6, 1824101.5083333333, 1875464.3041666667, 1929600.9625, 1983134.0958333334, 2032535.95, 2073478.15, 2109137.1125, 2152899.879166667, 2200785.4291666667, 2238305.904166667, 2270601.275, 2301097.1958333333, 2331895.4, 2362301.5416666665, 2392494.8875, 2408696.879166667, 2431805.533333333, 2451637.0708333333, 2469726.15, 2483629.8208333333, 2498232.0791666666, 2505925.9875, 2515894.2666666666, 2528929.408333333, 2541585.825, 2550497.8833333333, 2553964.075, 2560410.8916666666, 2573521.9583333335, 2580453.0166666666, 2583220.85, 2582103.533333333, 2576712.65, 2590556.0083333333, 2609647.066666667, 2631499.3, 2664903.9, 2688836.65, 2707343.8916666666, 2735425.058333333, 2763323.4916666667, 2795670.466666667, 2832843.525, 2869917.35, 2918684.125, 2979426.683333333, 3038287.7916666665, 3091182.566666667, 3130417.1, 3171639.308333333, 3207305.4, 3246894.2666666666, 3283254.65, 3310736.65, 3348738.25, 3386428.8833333333, 3427664.033333333, 3459734.1416666666, 3488080.5833333335, 3517559.0416666665, 3549926.1333333333, 3582364.966666667, 3620961.8, 3644396.8333333335, 3671480.191666667, 3701381.65, 3733656.2666666666, 3762399.075, 3783555.816666667, 3802976.341666667, 3829295.841666667, 3849836.408333333, 3864190.5416666665, 3879927.7083333335, 3883616.216666667, 3879472.558333333, 3872789.05, 3869658.033333333, 3877003.691666667, 3890206.8583333334, 3910545.316666667, 3931980.2916666665, 3958699.283333333, 3992061.566666667, 4014546.5083333333, 4040742.6083333334, 4063012.5416666665, 4085522.658333333, 4109887.283333333, 4134830.433333333, 4152449.216666667, 4163744.625, 4175673.3333333335, 4185022.183333333, 4194002.5, 4205058.333333333, 4206384.05, 4221837.2, 4244528.841666667, 4264930.766666667, 4275557.866666666, 4286210.983333333, 4283009.841666667]}],\n",
              "                        {\"template\": {\"data\": {\"bar\": [{\"error_x\": {\"color\": \"#2a3f5f\"}, \"error_y\": {\"color\": \"#2a3f5f\"}, \"marker\": {\"line\": {\"color\": \"#E5ECF6\", \"width\": 0.5}}, \"type\": \"bar\"}], \"barpolar\": [{\"marker\": {\"line\": {\"color\": \"#E5ECF6\", \"width\": 0.5}}, \"type\": \"barpolar\"}], \"carpet\": [{\"aaxis\": {\"endlinecolor\": \"#2a3f5f\", \"gridcolor\": \"white\", \"linecolor\": \"white\", \"minorgridcolor\": \"white\", \"startlinecolor\": \"#2a3f5f\"}, \"baxis\": {\"endlinecolor\": \"#2a3f5f\", \"gridcolor\": \"white\", \"linecolor\": \"white\", \"minorgridcolor\": \"white\", \"startlinecolor\": \"#2a3f5f\"}, \"type\": \"carpet\"}], \"choropleth\": [{\"colorbar\": {\"outlinewidth\": 0, \"ticks\": \"\"}, \"type\": \"choropleth\"}], \"contour\": [{\"colorbar\": {\"outlinewidth\": 0, \"ticks\": \"\"}, \"colorscale\": [[0.0, \"#0d0887\"], [0.1111111111111111, \"#46039f\"], [0.2222222222222222, \"#7201a8\"], [0.3333333333333333, \"#9c179e\"], [0.4444444444444444, \"#bd3786\"], [0.5555555555555556, \"#d8576b\"], [0.6666666666666666, \"#ed7953\"], [0.7777777777777778, \"#fb9f3a\"], [0.8888888888888888, \"#fdca26\"], [1.0, \"#f0f921\"]], \"type\": \"contour\"}], \"contourcarpet\": [{\"colorbar\": {\"outlinewidth\": 0, \"ticks\": \"\"}, \"type\": \"contourcarpet\"}], \"heatmap\": [{\"colorbar\": {\"outlinewidth\": 0, \"ticks\": \"\"}, \"colorscale\": [[0.0, \"#0d0887\"], [0.1111111111111111, \"#46039f\"], [0.2222222222222222, \"#7201a8\"], [0.3333333333333333, \"#9c179e\"], [0.4444444444444444, \"#bd3786\"], [0.5555555555555556, \"#d8576b\"], [0.6666666666666666, \"#ed7953\"], [0.7777777777777778, \"#fb9f3a\"], [0.8888888888888888, \"#fdca26\"], [1.0, \"#f0f921\"]], \"type\": \"heatmap\"}], \"heatmapgl\": [{\"colorbar\": {\"outlinewidth\": 0, \"ticks\": \"\"}, \"colorscale\": [[0.0, \"#0d0887\"], [0.1111111111111111, \"#46039f\"], [0.2222222222222222, \"#7201a8\"], [0.3333333333333333, \"#9c179e\"], [0.4444444444444444, \"#bd3786\"], [0.5555555555555556, \"#d8576b\"], [0.6666666666666666, \"#ed7953\"], [0.7777777777777778, \"#fb9f3a\"], [0.8888888888888888, \"#fdca26\"], [1.0, \"#f0f921\"]], \"type\": \"heatmapgl\"}], \"histogram\": [{\"marker\": {\"colorbar\": {\"outlinewidth\": 0, \"ticks\": \"\"}}, \"type\": \"histogram\"}], \"histogram2d\": [{\"colorbar\": {\"outlinewidth\": 0, \"ticks\": \"\"}, \"colorscale\": [[0.0, \"#0d0887\"], [0.1111111111111111, \"#46039f\"], [0.2222222222222222, \"#7201a8\"], [0.3333333333333333, \"#9c179e\"], [0.4444444444444444, \"#bd3786\"], [0.5555555555555556, \"#d8576b\"], [0.6666666666666666, \"#ed7953\"], [0.7777777777777778, \"#fb9f3a\"], [0.8888888888888888, \"#fdca26\"], [1.0, \"#f0f921\"]], \"type\": \"histogram2d\"}], \"histogram2dcontour\": [{\"colorbar\": {\"outlinewidth\": 0, \"ticks\": \"\"}, \"colorscale\": [[0.0, \"#0d0887\"], [0.1111111111111111, \"#46039f\"], [0.2222222222222222, \"#7201a8\"], [0.3333333333333333, \"#9c179e\"], [0.4444444444444444, \"#bd3786\"], [0.5555555555555556, \"#d8576b\"], [0.6666666666666666, \"#ed7953\"], [0.7777777777777778, \"#fb9f3a\"], [0.8888888888888888, \"#fdca26\"], [1.0, \"#f0f921\"]], \"type\": \"histogram2dcontour\"}], \"mesh3d\": [{\"colorbar\": {\"outlinewidth\": 0, \"ticks\": \"\"}, \"type\": \"mesh3d\"}], \"parcoords\": [{\"line\": {\"colorbar\": {\"outlinewidth\": 0, \"ticks\": \"\"}}, \"type\": \"parcoords\"}], \"pie\": [{\"automargin\": true, \"type\": \"pie\"}], \"scatter\": [{\"marker\": {\"colorbar\": {\"outlinewidth\": 0, \"ticks\": \"\"}}, \"type\": \"scatter\"}], \"scatter3d\": [{\"line\": {\"colorbar\": {\"outlinewidth\": 0, \"ticks\": \"\"}}, \"marker\": {\"colorbar\": {\"outlinewidth\": 0, \"ticks\": \"\"}}, \"type\": \"scatter3d\"}], \"scattercarpet\": [{\"marker\": {\"colorbar\": {\"outlinewidth\": 0, \"ticks\": \"\"}}, \"type\": \"scattercarpet\"}], \"scattergeo\": [{\"marker\": {\"colorbar\": {\"outlinewidth\": 0, \"ticks\": \"\"}}, \"type\": \"scattergeo\"}], \"scattergl\": [{\"marker\": {\"colorbar\": {\"outlinewidth\": 0, \"ticks\": \"\"}}, \"type\": \"scattergl\"}], \"scattermapbox\": [{\"marker\": {\"colorbar\": {\"outlinewidth\": 0, \"ticks\": \"\"}}, \"type\": \"scattermapbox\"}], \"scatterpolar\": [{\"marker\": {\"colorbar\": {\"outlinewidth\": 0, \"ticks\": \"\"}}, \"type\": \"scatterpolar\"}], \"scatterpolargl\": [{\"marker\": {\"colorbar\": {\"outlinewidth\": 0, \"ticks\": \"\"}}, \"type\": \"scatterpolargl\"}], \"scatterternary\": [{\"marker\": {\"colorbar\": {\"outlinewidth\": 0, \"ticks\": \"\"}}, \"type\": \"scatterternary\"}], \"surface\": [{\"colorbar\": {\"outlinewidth\": 0, \"ticks\": \"\"}, \"colorscale\": [[0.0, \"#0d0887\"], [0.1111111111111111, \"#46039f\"], [0.2222222222222222, \"#7201a8\"], [0.3333333333333333, \"#9c179e\"], [0.4444444444444444, \"#bd3786\"], [0.5555555555555556, \"#d8576b\"], [0.6666666666666666, \"#ed7953\"], [0.7777777777777778, \"#fb9f3a\"], [0.8888888888888888, \"#fdca26\"], [1.0, \"#f0f921\"]], \"type\": \"surface\"}], \"table\": [{\"cells\": {\"fill\": {\"color\": \"#EBF0F8\"}, \"line\": {\"color\": \"white\"}}, \"header\": {\"fill\": {\"color\": \"#C8D4E3\"}, \"line\": {\"color\": \"white\"}}, \"type\": \"table\"}]}, \"layout\": {\"annotationdefaults\": {\"arrowcolor\": \"#2a3f5f\", \"arrowhead\": 0, \"arrowwidth\": 1}, \"coloraxis\": {\"colorbar\": {\"outlinewidth\": 0, \"ticks\": \"\"}}, \"colorscale\": {\"diverging\": [[0, \"#8e0152\"], [0.1, \"#c51b7d\"], [0.2, \"#de77ae\"], [0.3, \"#f1b6da\"], [0.4, \"#fde0ef\"], [0.5, \"#f7f7f7\"], [0.6, \"#e6f5d0\"], [0.7, \"#b8e186\"], [0.8, \"#7fbc41\"], [0.9, \"#4d9221\"], [1, \"#276419\"]], \"sequential\": [[0.0, \"#0d0887\"], [0.1111111111111111, \"#46039f\"], [0.2222222222222222, \"#7201a8\"], [0.3333333333333333, \"#9c179e\"], [0.4444444444444444, \"#bd3786\"], [0.5555555555555556, \"#d8576b\"], [0.6666666666666666, \"#ed7953\"], [0.7777777777777778, \"#fb9f3a\"], [0.8888888888888888, \"#fdca26\"], [1.0, \"#f0f921\"]], \"sequentialminus\": [[0.0, \"#0d0887\"], [0.1111111111111111, \"#46039f\"], [0.2222222222222222, \"#7201a8\"], [0.3333333333333333, \"#9c179e\"], [0.4444444444444444, \"#bd3786\"], [0.5555555555555556, \"#d8576b\"], [0.6666666666666666, \"#ed7953\"], [0.7777777777777778, \"#fb9f3a\"], [0.8888888888888888, \"#fdca26\"], [1.0, \"#f0f921\"]]}, \"colorway\": [\"#636efa\", \"#EF553B\", \"#00cc96\", \"#ab63fa\", \"#FFA15A\", \"#19d3f3\", \"#FF6692\", \"#B6E880\", \"#FF97FF\", \"#FECB52\"], \"font\": {\"color\": \"#2a3f5f\"}, \"geo\": {\"bgcolor\": \"white\", \"lakecolor\": \"white\", \"landcolor\": \"#E5ECF6\", \"showlakes\": true, \"showland\": true, \"subunitcolor\": \"white\"}, \"hoverlabel\": {\"align\": \"left\"}, \"hovermode\": \"closest\", \"mapbox\": {\"style\": \"light\"}, \"paper_bgcolor\": \"white\", \"plot_bgcolor\": \"#E5ECF6\", \"polar\": {\"angularaxis\": {\"gridcolor\": \"white\", \"linecolor\": \"white\", \"ticks\": \"\"}, \"bgcolor\": \"#E5ECF6\", \"radialaxis\": {\"gridcolor\": \"white\", \"linecolor\": \"white\", \"ticks\": \"\"}}, \"scene\": {\"xaxis\": {\"backgroundcolor\": \"#E5ECF6\", \"gridcolor\": \"white\", \"gridwidth\": 2, \"linecolor\": \"white\", \"showbackground\": true, \"ticks\": \"\", \"zerolinecolor\": \"white\"}, \"yaxis\": {\"backgroundcolor\": \"#E5ECF6\", \"gridcolor\": \"white\", \"gridwidth\": 2, \"linecolor\": \"white\", \"showbackground\": true, \"ticks\": \"\", \"zerolinecolor\": \"white\"}, \"zaxis\": {\"backgroundcolor\": \"#E5ECF6\", \"gridcolor\": \"white\", \"gridwidth\": 2, \"linecolor\": \"white\", \"showbackground\": true, \"ticks\": \"\", \"zerolinecolor\": \"white\"}}, \"shapedefaults\": {\"line\": {\"color\": \"#2a3f5f\"}}, \"ternary\": {\"aaxis\": {\"gridcolor\": \"white\", \"linecolor\": \"white\", \"ticks\": \"\"}, \"baxis\": {\"gridcolor\": \"white\", \"linecolor\": \"white\", \"ticks\": \"\"}, \"bgcolor\": \"#E5ECF6\", \"caxis\": {\"gridcolor\": \"white\", \"linecolor\": \"white\", \"ticks\": \"\"}}, \"title\": {\"x\": 0.05}, \"xaxis\": {\"automargin\": true, \"gridcolor\": \"white\", \"linecolor\": \"white\", \"ticks\": \"\", \"title\": {\"standoff\": 15}, \"zerolinecolor\": \"white\", \"zerolinewidth\": 2}, \"yaxis\": {\"automargin\": true, \"gridcolor\": \"white\", \"linecolor\": \"white\", \"ticks\": \"\", \"title\": {\"standoff\": 15}, \"zerolinecolor\": \"white\", \"zerolinewidth\": 2}}}, \"title\": {\"text\": \"30 Days Moving Average\"}, \"xaxis\": {\"title\": {\"text\": \"Date\"}}, \"yaxis\": {\"title\": {\"text\": \"Price\"}}},\n",
              "                        {\"responsive\": true}\n",
              "                    ).then(function(){\n",
              "                            \n",
              "var gd = document.getElementById('c709d715-279b-4cbe-9814-9ab3bc21b43a');\n",
              "var x = new MutationObserver(function (mutations, observer) {{\n",
              "        var display = window.getComputedStyle(gd).display;\n",
              "        if (!display || display === 'none') {{\n",
              "            console.log([gd, 'removed!']);\n",
              "            Plotly.purge(gd);\n",
              "            observer.disconnect();\n",
              "        }}\n",
              "}});\n",
              "\n",
              "// Listen for the removal of the full notebook cells\n",
              "var notebookContainer = gd.closest('#notebook-container');\n",
              "if (notebookContainer) {{\n",
              "    x.observe(notebookContainer, {childList: true});\n",
              "}}\n",
              "\n",
              "// Listen for the clearing of the current output cell\n",
              "var outputEl = gd.closest('.output');\n",
              "if (outputEl) {{\n",
              "    x.observe(outputEl, {childList: true});\n",
              "}}\n",
              "\n",
              "                        })\n",
              "                };\n",
              "                \n",
              "            </script>\n",
              "        </div>\n",
              "</body>\n",
              "</html>"
            ]
          },
          "metadata": {
            "tags": []
          }
        }
      ]
    },
    {
      "cell_type": "markdown",
      "metadata": {
        "id": "JTNVA3GRNXKS"
      },
      "source": [
        "### 7 days moving average graph"
      ]
    },
    {
      "cell_type": "code",
      "metadata": {
        "colab": {
          "base_uri": "https://localhost:8080/",
          "height": 542
        },
        "id": "6DTIajQ7NexH",
        "outputId": "4df30066-73b1-4308-fcaa-a089e03aecef"
      },
      "source": [
        "fig = go.Figure()\n",
        "\n",
        "# Add Traces for adj close\n",
        "fig.add_trace(go.Scatter(x=bitcoin['Date']\n",
        "                         , y=bitcoin['Adj Close']\n",
        "                         , name='Adj Close'\n",
        "                         , visible=True\n",
        "                        ))\n",
        "\n",
        "# Add Traces for 7 days moving average\n",
        "fig.add_trace(go.Scatter(x=bitcoin['Date']\n",
        "                         , y=bitcoin['Moving avg 7']\n",
        "                         , name='7 days moving average'\n",
        "                        , visible=True\n",
        "                        ))\n",
        "# Set title\n",
        "fig.update_layout(title_text='7 Days Moving Average')\n",
        "\n",
        "# Set x and y-axis titles\n",
        "fig.update_xaxes(title_text='Date')\n",
        "fig.update_yaxes(title_text='Price')\n",
        "\n",
        "fig.show() "
      ],
      "execution_count": 20,
      "outputs": [
        {
          "output_type": "display_data",
          "data": {
            "text/html": [
              "<html>\n",
              "<head><meta charset=\"utf-8\" /></head>\n",
              "<body>\n",
              "    <div>\n",
              "            <script src=\"https://cdnjs.cloudflare.com/ajax/libs/mathjax/2.7.5/MathJax.js?config=TeX-AMS-MML_SVG\"></script><script type=\"text/javascript\">if (window.MathJax) {MathJax.Hub.Config({SVG: {font: \"STIX-Web\"}});}</script>\n",
              "                <script type=\"text/javascript\">window.PlotlyConfig = {MathJaxConfig: 'local'};</script>\n",
              "        <script src=\"https://cdn.plot.ly/plotly-latest.min.js\"></script>    \n",
              "            <div id=\"9477e645-9f33-4c23-973c-b26e57a1a9b3\" class=\"plotly-graph-div\" style=\"height:525px; width:100%;\"></div>\n",
              "            <script type=\"text/javascript\">\n",
              "                \n",
              "                    window.PLOTLYENV=window.PLOTLYENV || {};\n",
              "                    \n",
              "                if (document.getElementById(\"9477e645-9f33-4c23-973c-b26e57a1a9b3\")) {\n",
              "                    Plotly.newPlot(\n",
              "                        '9477e645-9f33-4c23-973c-b26e57a1a9b3',\n",
              "                        [{\"name\": \"Adj Close\", \"type\": \"scatter\", \"visible\": true, \"x\": [\"2019-09-17T00:00:00\", \"2019-09-18T00:00:00\", \"2019-09-19T00:00:00\", \"2019-09-20T00:00:00\", \"2019-09-21T00:00:00\", \"2019-09-22T00:00:00\", \"2019-09-23T00:00:00\", \"2019-09-24T00:00:00\", \"2019-09-25T00:00:00\", \"2019-09-26T00:00:00\", \"2019-09-27T00:00:00\", \"2019-09-28T00:00:00\", \"2019-09-29T00:00:00\", \"2019-09-30T00:00:00\", \"2019-10-01T00:00:00\", \"2019-10-02T00:00:00\", \"2019-10-03T00:00:00\", \"2019-10-04T00:00:00\", \"2019-10-05T00:00:00\", \"2019-10-06T00:00:00\", \"2019-10-07T00:00:00\", \"2019-10-08T00:00:00\", \"2019-10-09T00:00:00\", \"2019-10-10T00:00:00\", \"2019-10-11T00:00:00\", \"2019-10-12T00:00:00\", \"2019-10-13T00:00:00\", \"2019-10-14T00:00:00\", \"2019-10-15T00:00:00\", \"2019-10-16T00:00:00\", \"2019-10-17T00:00:00\", \"2019-10-18T00:00:00\", \"2019-10-19T00:00:00\", \"2019-10-20T00:00:00\", \"2019-10-21T00:00:00\", \"2019-10-22T00:00:00\", \"2019-10-23T00:00:00\", \"2019-10-24T00:00:00\", \"2019-10-25T00:00:00\", \"2019-10-26T00:00:00\", \"2019-10-28T00:00:00\", \"2019-10-29T00:00:00\", \"2019-10-30T00:00:00\", \"2019-10-31T00:00:00\", \"2019-11-01T00:00:00\", \"2019-11-02T00:00:00\", \"2019-11-03T00:00:00\", \"2019-11-04T00:00:00\", \"2019-11-05T00:00:00\", \"2019-11-06T00:00:00\", \"2019-11-07T00:00:00\", \"2019-11-08T00:00:00\", \"2019-11-09T00:00:00\", \"2019-11-10T00:00:00\", \"2019-11-11T00:00:00\", \"2019-11-12T00:00:00\", \"2019-11-13T00:00:00\", \"2019-11-14T00:00:00\", \"2019-11-15T00:00:00\", \"2019-11-16T00:00:00\", \"2019-11-17T00:00:00\", \"2019-11-18T00:00:00\", \"2019-11-19T00:00:00\", \"2019-11-20T00:00:00\", \"2019-11-21T00:00:00\", \"2019-11-22T00:00:00\", \"2019-11-23T00:00:00\", \"2019-11-24T00:00:00\", \"2019-11-25T00:00:00\", \"2019-11-26T00:00:00\", \"2019-11-27T00:00:00\", \"2019-11-28T00:00:00\", \"2019-11-29T00:00:00\", \"2019-11-30T00:00:00\", \"2019-12-01T00:00:00\", \"2019-12-02T00:00:00\", \"2019-12-03T00:00:00\", \"2019-12-04T00:00:00\", \"2019-12-05T00:00:00\", \"2019-12-06T00:00:00\", \"2019-12-07T00:00:00\", \"2019-12-08T00:00:00\", \"2019-12-09T00:00:00\", \"2019-12-10T00:00:00\", \"2019-12-11T00:00:00\", \"2019-12-12T00:00:00\", \"2019-12-13T00:00:00\", \"2019-12-14T00:00:00\", \"2019-12-15T00:00:00\", \"2019-12-16T00:00:00\", \"2019-12-17T00:00:00\", \"2019-12-18T00:00:00\", \"2019-12-19T00:00:00\", \"2019-12-20T00:00:00\", \"2019-12-21T00:00:00\", \"2019-12-22T00:00:00\", \"2019-12-23T00:00:00\", \"2019-12-24T00:00:00\", \"2019-12-25T00:00:00\", \"2019-12-26T00:00:00\", \"2019-12-27T00:00:00\", \"2019-12-28T00:00:00\", \"2019-12-29T00:00:00\", \"2019-12-30T00:00:00\", \"2019-12-31T00:00:00\", \"2020-01-01T00:00:00\", \"2020-01-02T00:00:00\", \"2020-01-03T00:00:00\", \"2020-01-04T00:00:00\", \"2020-01-05T00:00:00\", \"2020-01-06T00:00:00\", \"2020-01-07T00:00:00\", \"2020-01-08T00:00:00\", \"2020-01-09T00:00:00\", \"2020-01-10T00:00:00\", \"2020-01-11T00:00:00\", \"2020-01-12T00:00:00\", \"2020-01-13T00:00:00\", \"2020-01-14T00:00:00\", \"2020-01-15T00:00:00\", \"2020-01-16T00:00:00\", \"2020-01-17T00:00:00\", \"2020-01-18T00:00:00\", \"2020-01-19T00:00:00\", \"2020-01-20T00:00:00\", \"2020-01-21T00:00:00\", \"2020-01-22T00:00:00\", \"2020-01-23T00:00:00\", \"2020-01-24T00:00:00\", \"2020-01-25T00:00:00\", \"2020-01-26T00:00:00\", \"2020-01-27T00:00:00\", \"2020-01-28T00:00:00\", \"2020-01-29T00:00:00\", \"2020-01-30T00:00:00\", \"2020-01-31T00:00:00\", \"2020-02-01T00:00:00\", \"2020-02-02T00:00:00\", \"2020-02-03T00:00:00\", \"2020-02-04T00:00:00\", \"2020-02-05T00:00:00\", \"2020-02-06T00:00:00\", \"2020-02-07T00:00:00\", \"2020-02-08T00:00:00\", \"2020-02-09T00:00:00\", \"2020-02-10T00:00:00\", \"2020-02-11T00:00:00\", \"2020-02-12T00:00:00\", \"2020-02-13T00:00:00\", \"2020-02-14T00:00:00\", \"2020-02-15T00:00:00\", \"2020-02-16T00:00:00\", \"2020-02-17T00:00:00\", \"2020-02-18T00:00:00\", \"2020-02-19T00:00:00\", \"2020-02-20T00:00:00\", \"2020-02-21T00:00:00\", \"2020-02-22T00:00:00\", \"2020-02-23T00:00:00\", \"2020-02-24T00:00:00\", \"2020-02-25T00:00:00\", \"2020-02-26T00:00:00\", \"2020-02-27T00:00:00\", \"2020-02-28T00:00:00\", \"2020-02-29T00:00:00\", \"2020-03-01T00:00:00\", \"2020-03-02T00:00:00\", \"2020-03-03T00:00:00\", \"2020-03-04T00:00:00\", \"2020-03-05T00:00:00\", \"2020-03-06T00:00:00\", \"2020-03-07T00:00:00\", \"2020-03-08T00:00:00\", \"2020-03-09T00:00:00\", \"2020-03-10T00:00:00\", \"2020-03-11T00:00:00\", \"2020-03-12T00:00:00\", \"2020-03-13T00:00:00\", \"2020-03-14T00:00:00\", \"2020-03-15T00:00:00\", \"2020-03-16T00:00:00\", \"2020-03-17T00:00:00\", \"2020-03-18T00:00:00\", \"2020-03-19T00:00:00\", \"2020-03-20T00:00:00\", \"2020-03-21T00:00:00\", \"2020-03-22T00:00:00\", \"2020-03-23T00:00:00\", \"2020-03-24T00:00:00\", \"2020-03-25T00:00:00\", \"2020-03-26T00:00:00\", \"2020-03-27T00:00:00\", \"2020-03-28T00:00:00\", \"2020-03-29T00:00:00\", \"2020-03-29T00:00:00\", \"2020-03-30T00:00:00\", \"2020-03-31T00:00:00\", \"2020-04-01T00:00:00\", \"2020-04-02T00:00:00\", \"2020-04-03T00:00:00\", \"2020-04-04T00:00:00\", \"2020-04-05T00:00:00\", \"2020-04-06T00:00:00\", \"2020-04-07T00:00:00\", \"2020-04-08T00:00:00\", \"2020-04-09T00:00:00\", \"2020-04-10T00:00:00\", \"2020-04-11T00:00:00\", \"2020-04-12T00:00:00\", \"2020-04-13T00:00:00\", \"2020-04-14T00:00:00\", \"2020-04-15T00:00:00\", \"2020-04-17T00:00:00\", \"2020-04-18T00:00:00\", \"2020-04-19T00:00:00\", \"2020-04-20T00:00:00\", \"2020-04-21T00:00:00\", \"2020-04-22T00:00:00\", \"2020-04-23T00:00:00\", \"2020-04-24T00:00:00\", \"2020-04-25T00:00:00\", \"2020-04-26T00:00:00\", \"2020-04-27T00:00:00\", \"2020-04-28T00:00:00\", \"2020-04-29T00:00:00\", \"2020-04-30T00:00:00\", \"2020-05-01T00:00:00\", \"2020-05-02T00:00:00\", \"2020-05-03T00:00:00\", \"2020-05-04T00:00:00\", \"2020-05-05T00:00:00\", \"2020-05-06T00:00:00\", \"2020-05-07T00:00:00\", \"2020-05-08T00:00:00\", \"2020-05-09T00:00:00\", \"2020-05-10T00:00:00\", \"2020-05-11T00:00:00\", \"2020-05-12T00:00:00\", \"2020-05-13T00:00:00\", \"2020-05-14T00:00:00\", \"2020-05-15T00:00:00\", \"2020-05-16T00:00:00\", \"2020-05-17T00:00:00\", \"2020-05-18T00:00:00\", \"2020-05-19T00:00:00\", \"2020-05-20T00:00:00\", \"2020-05-21T00:00:00\", \"2020-05-22T00:00:00\", \"2020-05-23T00:00:00\", \"2020-05-24T00:00:00\", \"2020-05-25T00:00:00\", \"2020-05-26T00:00:00\", \"2020-05-27T00:00:00\", \"2020-05-28T00:00:00\", \"2020-05-29T00:00:00\", \"2020-05-30T00:00:00\", \"2020-05-31T00:00:00\", \"2020-06-01T00:00:00\", \"2020-06-02T00:00:00\", \"2020-06-03T00:00:00\", \"2020-06-04T00:00:00\", \"2020-06-05T00:00:00\", \"2020-06-06T00:00:00\", \"2020-06-07T00:00:00\", \"2020-06-08T00:00:00\", \"2020-06-09T00:00:00\", \"2020-06-10T00:00:00\", \"2020-06-11T00:00:00\", \"2020-06-12T00:00:00\", \"2020-06-13T00:00:00\", \"2020-06-14T00:00:00\", \"2020-06-15T00:00:00\", \"2020-06-16T00:00:00\", \"2020-06-17T00:00:00\", \"2020-06-18T00:00:00\", \"2020-06-19T00:00:00\", \"2020-06-20T00:00:00\", \"2020-06-21T00:00:00\", \"2020-06-22T00:00:00\", \"2020-06-23T00:00:00\", \"2020-06-24T00:00:00\", \"2020-06-25T00:00:00\", \"2020-06-26T00:00:00\", \"2020-06-27T00:00:00\", \"2020-06-28T00:00:00\", \"2020-06-29T00:00:00\", \"2020-06-30T00:00:00\", \"2020-07-01T00:00:00\", \"2020-07-02T00:00:00\", \"2020-07-03T00:00:00\", \"2020-07-04T00:00:00\", \"2020-07-05T00:00:00\", \"2020-07-06T00:00:00\", \"2020-07-07T00:00:00\", \"2020-07-08T00:00:00\", \"2020-07-09T00:00:00\", \"2020-07-10T00:00:00\", \"2020-07-11T00:00:00\", \"2020-07-12T00:00:00\", \"2020-07-13T00:00:00\", \"2020-07-14T00:00:00\", \"2020-07-15T00:00:00\", \"2020-07-16T00:00:00\", \"2020-07-17T00:00:00\", \"2020-07-18T00:00:00\", \"2020-07-19T00:00:00\", \"2020-07-20T00:00:00\", \"2020-07-21T00:00:00\", \"2020-07-22T00:00:00\", \"2020-07-23T00:00:00\", \"2020-07-24T00:00:00\", \"2020-07-25T00:00:00\", \"2020-07-26T00:00:00\", \"2020-07-27T00:00:00\", \"2020-07-28T00:00:00\", \"2020-07-29T00:00:00\", \"2020-07-30T00:00:00\", \"2020-07-31T00:00:00\", \"2020-08-01T00:00:00\", \"2020-08-02T00:00:00\", \"2020-08-03T00:00:00\", \"2020-08-04T00:00:00\", \"2020-08-05T00:00:00\", \"2020-08-06T00:00:00\", \"2020-08-07T00:00:00\", \"2020-08-08T00:00:00\", \"2020-08-09T00:00:00\", \"2020-08-10T00:00:00\", \"2020-08-11T00:00:00\", \"2020-08-12T00:00:00\", \"2020-08-13T00:00:00\", \"2020-08-14T00:00:00\", \"2020-08-15T00:00:00\", \"2020-08-16T00:00:00\", \"2020-08-17T00:00:00\", \"2020-08-18T00:00:00\", \"2020-08-19T00:00:00\", \"2020-08-20T00:00:00\", \"2020-08-21T00:00:00\", \"2020-08-22T00:00:00\", \"2020-08-23T00:00:00\", \"2020-08-24T00:00:00\", \"2020-08-25T00:00:00\", \"2020-08-26T00:00:00\", \"2020-08-27T00:00:00\", \"2020-08-28T00:00:00\", \"2020-08-29T00:00:00\", \"2020-08-30T00:00:00\", \"2020-08-31T00:00:00\", \"2020-09-01T00:00:00\", \"2020-09-02T00:00:00\", \"2020-09-03T00:00:00\", \"2020-09-04T00:00:00\", \"2020-09-05T00:00:00\", \"2020-09-06T00:00:00\", \"2020-09-07T00:00:00\", \"2020-09-08T00:00:00\", \"2020-09-09T00:00:00\", \"2020-09-10T00:00:00\", \"2020-09-11T00:00:00\", \"2020-09-12T00:00:00\", \"2020-09-13T00:00:00\", \"2020-09-14T00:00:00\", \"2020-09-15T00:00:00\", \"2020-09-16T00:00:00\", \"2020-09-17T00:00:00\", \"2020-09-18T00:00:00\", \"2020-09-19T00:00:00\", \"2020-09-20T00:00:00\", \"2020-09-21T00:00:00\", \"2020-09-22T00:00:00\", \"2020-09-23T00:00:00\", \"2020-09-24T00:00:00\", \"2020-09-25T00:00:00\", \"2020-09-26T00:00:00\", \"2020-09-27T00:00:00\", \"2020-09-28T00:00:00\", \"2020-09-29T00:00:00\", \"2020-09-30T00:00:00\", \"2020-10-01T00:00:00\", \"2020-10-02T00:00:00\", \"2020-10-03T00:00:00\", \"2020-10-04T00:00:00\", \"2020-10-05T00:00:00\", \"2020-10-06T00:00:00\", \"2020-10-07T00:00:00\", \"2020-10-09T00:00:00\", \"2020-10-10T00:00:00\", \"2020-10-13T00:00:00\", \"2020-10-14T00:00:00\", \"2020-10-15T00:00:00\", \"2020-10-16T00:00:00\", \"2020-10-17T00:00:00\", \"2020-10-18T00:00:00\", \"2020-10-19T00:00:00\", \"2020-10-20T00:00:00\", \"2020-10-21T00:00:00\", \"2020-10-22T00:00:00\", \"2020-10-23T00:00:00\", \"2020-10-24T00:00:00\", \"2020-10-26T00:00:00\", \"2020-10-27T00:00:00\", \"2020-10-28T00:00:00\", \"2020-10-29T00:00:00\", \"2020-10-30T00:00:00\", \"2020-10-31T00:00:00\", \"2020-11-01T00:00:00\", \"2020-11-02T00:00:00\", \"2020-11-03T00:00:00\", \"2020-11-04T00:00:00\", \"2020-11-05T00:00:00\", \"2020-11-06T00:00:00\", \"2020-11-07T00:00:00\", \"2020-11-08T00:00:00\", \"2020-11-09T00:00:00\", \"2020-11-10T00:00:00\", \"2020-11-11T00:00:00\", \"2020-11-12T00:00:00\", \"2020-11-13T00:00:00\", \"2020-11-14T00:00:00\", \"2020-11-15T00:00:00\", \"2020-11-16T00:00:00\", \"2020-11-17T00:00:00\", \"2020-11-18T00:00:00\", \"2020-11-19T00:00:00\", \"2020-11-20T00:00:00\", \"2020-11-21T00:00:00\", \"2020-11-22T00:00:00\", \"2020-11-23T00:00:00\", \"2020-11-24T00:00:00\", \"2020-11-25T00:00:00\", \"2020-11-26T00:00:00\", \"2020-11-27T00:00:00\", \"2020-11-28T00:00:00\", \"2020-11-29T00:00:00\", \"2020-11-30T00:00:00\", \"2020-12-01T00:00:00\", \"2020-12-02T00:00:00\", \"2020-12-03T00:00:00\", \"2020-12-04T00:00:00\", \"2020-12-05T00:00:00\", \"2020-12-06T00:00:00\", \"2020-12-07T00:00:00\", \"2020-12-08T00:00:00\", \"2020-12-09T00:00:00\", \"2020-12-10T00:00:00\", \"2020-12-11T00:00:00\", \"2020-12-12T00:00:00\", \"2020-12-13T00:00:00\", \"2020-12-14T00:00:00\", \"2020-12-15T00:00:00\", \"2020-12-16T00:00:00\", \"2020-12-17T00:00:00\", \"2020-12-18T00:00:00\", \"2020-12-19T00:00:00\", \"2020-12-20T00:00:00\", \"2020-12-21T00:00:00\", \"2020-12-22T00:00:00\", \"2020-12-23T00:00:00\", \"2020-12-24T00:00:00\", \"2020-12-25T00:00:00\", \"2020-12-26T00:00:00\", \"2020-12-27T00:00:00\", \"2020-12-28T00:00:00\", \"2020-12-29T00:00:00\", \"2020-12-30T00:00:00\", \"2020-12-31T00:00:00\", \"2021-01-01T00:00:00\", \"2021-01-02T00:00:00\", \"2021-01-03T00:00:00\", \"2021-01-04T00:00:00\", \"2021-01-05T00:00:00\", \"2021-01-06T00:00:00\", \"2021-01-07T00:00:00\", \"2021-01-08T00:00:00\", \"2021-01-09T00:00:00\", \"2021-01-10T00:00:00\", \"2021-01-11T00:00:00\", \"2021-01-12T00:00:00\", \"2021-01-13T00:00:00\", \"2021-01-14T00:00:00\", \"2021-01-15T00:00:00\", \"2021-01-16T00:00:00\", \"2021-01-17T00:00:00\", \"2021-01-18T00:00:00\", \"2021-01-19T00:00:00\", \"2021-01-20T00:00:00\", \"2021-01-21T00:00:00\", \"2021-01-22T00:00:00\", \"2021-01-23T00:00:00\", \"2021-01-24T00:00:00\", \"2021-01-25T00:00:00\", \"2021-01-26T00:00:00\", \"2021-01-27T00:00:00\", \"2021-01-28T00:00:00\", \"2021-01-29T00:00:00\", \"2021-01-30T00:00:00\", \"2021-01-31T00:00:00\", \"2021-02-01T00:00:00\", \"2021-02-02T00:00:00\", \"2021-02-03T00:00:00\", \"2021-02-04T00:00:00\", \"2021-02-05T00:00:00\", \"2021-02-06T00:00:00\", \"2021-02-07T00:00:00\", \"2021-02-08T00:00:00\", \"2021-02-09T00:00:00\", \"2021-02-10T00:00:00\", \"2021-02-11T00:00:00\", \"2021-02-12T00:00:00\", \"2021-02-13T00:00:00\", \"2021-02-14T00:00:00\", \"2021-02-15T00:00:00\", \"2021-02-16T00:00:00\", \"2021-02-17T00:00:00\", \"2021-02-18T00:00:00\", \"2021-02-19T00:00:00\", \"2021-02-20T00:00:00\", \"2021-02-21T00:00:00\", \"2021-02-22T00:00:00\", \"2021-02-23T00:00:00\", \"2021-02-24T00:00:00\", \"2021-02-25T00:00:00\", \"2021-02-26T00:00:00\", \"2021-02-27T00:00:00\", \"2021-02-28T00:00:00\", \"2021-03-01T00:00:00\", \"2021-03-02T00:00:00\", \"2021-03-03T00:00:00\", \"2021-03-04T00:00:00\", \"2021-03-05T00:00:00\", \"2021-03-06T00:00:00\", \"2021-03-07T00:00:00\", \"2021-03-08T00:00:00\", \"2021-03-09T00:00:00\", \"2021-03-10T00:00:00\", \"2021-03-11T00:00:00\", \"2021-03-12T00:00:00\", \"2021-03-13T00:00:00\", \"2021-03-14T00:00:00\", \"2021-03-15T00:00:00\", \"2021-03-16T00:00:00\", \"2021-03-17T00:00:00\", \"2021-03-18T00:00:00\", \"2021-03-19T00:00:00\", \"2021-03-20T00:00:00\", \"2021-03-21T00:00:00\", \"2021-03-22T00:00:00\", \"2021-03-23T00:00:00\", \"2021-03-24T00:00:00\", \"2021-03-25T00:00:00\", \"2021-03-26T00:00:00\", \"2021-03-27T00:00:00\", \"2021-03-28T00:00:00\", \"2021-03-28T00:00:00\", \"2021-03-29T00:00:00\", \"2021-03-30T00:00:00\", \"2021-03-31T00:00:00\", \"2021-04-01T00:00:00\", \"2021-04-02T00:00:00\", \"2021-04-03T00:00:00\", \"2021-04-04T00:00:00\", \"2021-04-05T00:00:00\", \"2021-04-06T00:00:00\", \"2021-04-07T00:00:00\", \"2021-04-08T00:00:00\", \"2021-04-09T00:00:00\", \"2021-04-10T00:00:00\", \"2021-04-11T00:00:00\", \"2021-04-12T00:00:00\", \"2021-04-13T00:00:00\", \"2021-04-14T00:00:00\", \"2021-04-15T00:00:00\", \"2021-04-16T00:00:00\", \"2021-04-18T00:00:00\"], \"y\": [725961.0, 732951.1875, 724993.9375, 713463.9375, 717018.5625, 688840.875, 611785.25, 602472.6875, 576215.6875, 583067.125, 581412.25, 571408.5, 585926.1875, 593290.375, 597178.3125, 586688.8125, 581185.625, 577328.0, 565767.3125, 586185.4375, 586053.9375, 611323.4375, 609553.5625, 591260.8125, 592312.25, 590159.0, 596671.25, 586683.875, 574306.125, 576431.25, 566819.3125, 567910.75, 584096.375, 584640.5625, 572292.25, 531475.1875, 532109.625, 613524.0625, 654913.8125, 676643.4375, 654827.125, 668372.0625, 652155.3125, 652986.5625, 654806.4375, 657598.75, 651296.6875, 666309.5, 661194.0, 664716.0625, 658432.4375, 628466.0, 629087.0625, 646299.125, 626781.8125, 632876.3125, 635529.25, 626685.0, 608323.875, 612666.1875, 614565.8125, 597812.375, 589701.8125, 576182.875, 548371.125, 523840.28125, 531107.0625, 505996.15625, 512302.03125, 515668.875, 536541.4375, 534040.5, 556900.25, 543151.25, 532704.625, 524510.5625, 525264.375, 518448.71875, 531771.875, 538078.25, 538737.125, 539284.25, 525241.75, 515525.1875, 510555.71875, 511147.21875, 513890.375, 503639.625, 505572.75, 491538.84375, 471708.9375, 516652.3125, 513070.84375, 513254.25, 511287.78125, 534074.4375, 523873.0, 521803.625, 518427.5625, 516144.125, 520712.8125, 522705.71875, 530212.125, 520151.0, 512910.8125, 512853.96875, 498416.75, 527076.25, 531796.125, 531863.1875, 557805.0, 587512.375, 577281.125, 560959.5625, 579751.875, 570347.625, 581358.3125, 576030.0, 625492.125, 622867.0, 619001.5, 634351.875, 635330.25, 618567.375, 615025.9375, 622532.8125, 617293.625, 599645.0625, 602374.8125, 596840.9375, 613184.875, 636606.5625, 666709.6875, 664368.875, 680558.6875, 668553.5, 671581.1875, 668112.75, 662852.0, 652858.25, 684379.6875, 693764.0625, 700566.6875, 705513.875, 723501.875, 702781.3125, 727697.125, 736310.6875, 728065.625, 737593.6875, 707359.875, 710589.75, 691482.6875, 726014.75, 689985.5625, 690676.4375, 696334.0625, 694662.0, 713421.3125, 695287.375, 671481.8125, 632196.0, 629795.5, 625934.4375, 620669.5625, 617995.125, 642377.0, 645247.625, 643466.8125, 670517.5, 675041.0, 659383.8125, 600030.75, 589784.625, 587119.4375, 586831.125, 370008.5625, 411486.1875, 384613.875, 398630.21875, 372605.9375, 386826.6875, 392791.21875, 465331.3125, 468767.71875, 467730.8125, 440398.625, 491303.625, 511582.4375, 506731.90625, 501893.40625, 484432.59375, 467390.5, 446500.71875, 484874.40625, 485055.25, 505986.5625, 517483.96875, 514565.46875, 524816.4375, 517755.6875, 552472.875, 542859.875, 557164.125, 554308.9375, 522989.25, 522500.9375, 531033.3125, 521994.03125, 519791.875, 508125.40625, 546993.3125, 555218.625, 550494.25, 527109.1875, 529577.8125, 543825.8125, 564617.4375, 576269.6875, 577601.25, 585831.8125, 593921.875, 593896.1875, 662441.8125, 652947.5625, 672472.375, 681614.25, 672054.6875, 674153.1875, 683718.375, 706511.875, 753450.375, 742885.0625, 724377.5625, 661405.1875, 653199.75, 663584.6875, 699292.625, 734847.1875, 707795.625, 711499.6875, 733332.25, 735426.3125, 736585.4375, 719366.0, 686917.1875, 697830.8125, 699860.6875, 668024.0625, 675890.25, 666958.125, 696799.8125, 721099.1875, 712872.875, 732606.3125, 714529.4375, 767767.0, 715364.75, 727420.75, 739536.4375, 730371.125, 729475.4375, 736968.5, 736812.8125, 739674.75, 746965.1875, 708222.8125, 720136.4375, 719713.625, 712992.6875, 718047.8125, 728741.8125, 724133.625, 719070.6875, 708232.3125, 711612.0, 709423.625, 731276.8125, 728123.0, 705452.875, 699862.625, 692973.125, 684084.8125, 691438.1875, 694011.0625, 690443.9375, 696325.6875, 683252.1875, 678634.875, 682009.1875, 677638.0, 699483.0625, 693029.3125, 706560.625, 697124.25, 697383.125, 694832.4375, 697210.0, 695231.125, 696265.9375, 690849.5625, 686567.75, 685416.75, 685989.5625, 687995.0625, 685029.5, 698836.9375, 710687.8125, 717179.625, 712641.4375, 723119.375, 740510.875, 822141.9375, 817375.875, 830489.3125, 830777.6875, 848466.1875, 881145.125, 828115.3125, 845338.0625, 841131.125, 878648.375, 882346.75, 870409.25, 881853.25, 875972.8125, 889387.3125, 851413.5, 866195.5625, 881735.6875, 880955.25, 888203.3125, 890807.1875, 915978.5625, 894266.0, 881539.6875, 890749.0, 868617.0625, 875311.0, 873954.3125, 873601.4375, 843803.6875, 853137.9375, 835375.125, 844085.6875, 841479.8125, 856445.4375, 857813.75, 874639.1875, 836109.375, 752531.375, 769950.4375, 744882.125, 753452.625, 761595.1875, 747574.6875, 751046.25, 762048.75, 764222.8125, 767254.125, 758577.6875, 783969.75, 794767.375, 807217.4375, 805666.625, 805632.625, 816656.5, 804346.375, 769813.625, 774611.125, 754483.6875, 794391.5625, 788753.4375, 792596.6875, 794070.375, 790859.25, 799846.3125, 793269.0625, 778205.125, 776131.75, 774689.4375, 783410.6875, 789945.875, 781949.875, 783190.8125, 800505.3125, 824196.0625, 831216.6875, 837731.9375, 843431.0625, 831547.75, 834190.1875, 843384.5, 861833.8125, 875624.8125, 945436.75, 955938.875, 954789.1875, 967822.6875, 962171.1875, 966898.375, 1007752.875, 984616.5625, 998199.5625, 1010758.25, 1028253.1875, 1025276.0625, 1008973.5, 1041555.25, 1048590.375, 1155050.875, 1151581.75, 1097418.25, 1145147.375, 1133938.25, 1135889.25, 1170436.875, 1218894.75, 1216295.125, 1197685.375, 1189296.0, 1243985.5, 1315554.25, 1321773.875, 1320301.625, 1381006.0, 1382557.375, 1362157.375, 1363430.5, 1413212.875, 1382251.625, 1266291.375, 1264934.5, 1310423.375, 1344213.625, 1452322.5, 1385217.0, 1414407.125, 1437778.25, 1380015.625, 1413554.5, 1427727.5, 1416537.0, 1350741.875, 1369604.5, 1347820.25, 1331632.875, 1386549.75, 1411568.625, 1417556.75, 1427655.25, 1568584.75, 1676864.375, 1703118.125, 1756989.125, 1727846.0, 1685955.875, 1762833.75, 1716141.375, 1745972.625, 1814318.625, 1944683.375, 1936930.75, 1991956.25, 2009443.875, 2110859.25, 2118790.25, 2147022.75, 2348254.25, 2395940.25, 2336819.0, 2487166.5, 2693424.25, 2891625.75, 2993704.25, 2953814.25, 2813688.5, 2614815.75, 2481337.5, 2730439.75, 2864221.75, 2694199.0, 2645725.5, 2617995.75, 2680935.25, 2640030.25, 2591756.25, 2248893.5, 2409401.0, 2340918.75, 2356991.0, 2361793.5, 2374998.5, 2222773.5, 2308492.25, 2501913.5, 2498482.75, 2414384.5, 2452240.0, 2589344.75, 2730151.0, 2695098.25, 2776459.25, 2858106.25, 2831977.75, 3369115.0, 3386420.25, 3270382.75, 3483475.5, 3448422.25, 3419439.0, 3536634.0, 3482678.5, 3588405.0, 3796127.0, 3752245.0, 4054759.5, 4071170.25, 4175234.25, 3927762.0, 3534027.0, 3598459.75, 3444981.25, 3410439.5, 3399303.75, 3326373.5, 3638530.75, 3545103.5, 3689294.5, 3551448.0, 3580544.25, 3579452.0, 3747472.0, 3831271.25, 3989882.75, 4072166.0, 4198921.0, 4167426.5, 4451714.0, 4310706.5, 4054141.25, 4119249.75, 4272263.5, 4204622.0, 4226751.0, 4224360.0, 4165414.75, 3946860.5, 3974729.0, 3833831.5, 3754396.75, 3994554.75, 4055135.0, 4053488.75, 4200873.5, 4327242.0, 4313079.0, 4330986.5, 4357392.5, 4226751.5, 4311483.0, 4327746.5, 4276035.5, 4170133.5, 4347744.0, 4352631.5, 4468330.5, 4499101.5, 4491485.5, 4774301.0, 4734890.5, 4731307.5, 4591076.5, 4524215.5, 4130716.75]}, {\"name\": \"7 days moving average\", \"type\": \"scatter\", \"visible\": true, \"x\": [\"2019-09-17T00:00:00\", \"2019-09-18T00:00:00\", \"2019-09-19T00:00:00\", \"2019-09-20T00:00:00\", \"2019-09-21T00:00:00\", \"2019-09-22T00:00:00\", \"2019-09-23T00:00:00\", \"2019-09-24T00:00:00\", \"2019-09-25T00:00:00\", \"2019-09-26T00:00:00\", \"2019-09-27T00:00:00\", \"2019-09-28T00:00:00\", \"2019-09-29T00:00:00\", \"2019-09-30T00:00:00\", \"2019-10-01T00:00:00\", \"2019-10-02T00:00:00\", \"2019-10-03T00:00:00\", \"2019-10-04T00:00:00\", \"2019-10-05T00:00:00\", \"2019-10-06T00:00:00\", \"2019-10-07T00:00:00\", \"2019-10-08T00:00:00\", \"2019-10-09T00:00:00\", \"2019-10-10T00:00:00\", \"2019-10-11T00:00:00\", \"2019-10-12T00:00:00\", \"2019-10-13T00:00:00\", \"2019-10-14T00:00:00\", \"2019-10-15T00:00:00\", \"2019-10-16T00:00:00\", \"2019-10-17T00:00:00\", \"2019-10-18T00:00:00\", \"2019-10-19T00:00:00\", \"2019-10-20T00:00:00\", \"2019-10-21T00:00:00\", \"2019-10-22T00:00:00\", \"2019-10-23T00:00:00\", \"2019-10-24T00:00:00\", \"2019-10-25T00:00:00\", \"2019-10-26T00:00:00\", \"2019-10-28T00:00:00\", \"2019-10-29T00:00:00\", \"2019-10-30T00:00:00\", \"2019-10-31T00:00:00\", \"2019-11-01T00:00:00\", \"2019-11-02T00:00:00\", \"2019-11-03T00:00:00\", \"2019-11-04T00:00:00\", \"2019-11-05T00:00:00\", \"2019-11-06T00:00:00\", \"2019-11-07T00:00:00\", \"2019-11-08T00:00:00\", \"2019-11-09T00:00:00\", \"2019-11-10T00:00:00\", \"2019-11-11T00:00:00\", \"2019-11-12T00:00:00\", \"2019-11-13T00:00:00\", \"2019-11-14T00:00:00\", \"2019-11-15T00:00:00\", \"2019-11-16T00:00:00\", \"2019-11-17T00:00:00\", \"2019-11-18T00:00:00\", \"2019-11-19T00:00:00\", \"2019-11-20T00:00:00\", \"2019-11-21T00:00:00\", \"2019-11-22T00:00:00\", \"2019-11-23T00:00:00\", \"2019-11-24T00:00:00\", \"2019-11-25T00:00:00\", \"2019-11-26T00:00:00\", \"2019-11-27T00:00:00\", \"2019-11-28T00:00:00\", \"2019-11-29T00:00:00\", \"2019-11-30T00:00:00\", \"2019-12-01T00:00:00\", \"2019-12-02T00:00:00\", \"2019-12-03T00:00:00\", \"2019-12-04T00:00:00\", \"2019-12-05T00:00:00\", \"2019-12-06T00:00:00\", \"2019-12-07T00:00:00\", \"2019-12-08T00:00:00\", \"2019-12-09T00:00:00\", \"2019-12-10T00:00:00\", \"2019-12-11T00:00:00\", \"2019-12-12T00:00:00\", \"2019-12-13T00:00:00\", \"2019-12-14T00:00:00\", \"2019-12-15T00:00:00\", \"2019-12-16T00:00:00\", \"2019-12-17T00:00:00\", \"2019-12-18T00:00:00\", \"2019-12-19T00:00:00\", \"2019-12-20T00:00:00\", \"2019-12-21T00:00:00\", \"2019-12-22T00:00:00\", \"2019-12-23T00:00:00\", \"2019-12-24T00:00:00\", \"2019-12-25T00:00:00\", \"2019-12-26T00:00:00\", \"2019-12-27T00:00:00\", \"2019-12-28T00:00:00\", \"2019-12-29T00:00:00\", \"2019-12-30T00:00:00\", \"2019-12-31T00:00:00\", \"2020-01-01T00:00:00\", \"2020-01-02T00:00:00\", \"2020-01-03T00:00:00\", \"2020-01-04T00:00:00\", \"2020-01-05T00:00:00\", \"2020-01-06T00:00:00\", \"2020-01-07T00:00:00\", \"2020-01-08T00:00:00\", \"2020-01-09T00:00:00\", \"2020-01-10T00:00:00\", \"2020-01-11T00:00:00\", \"2020-01-12T00:00:00\", \"2020-01-13T00:00:00\", \"2020-01-14T00:00:00\", \"2020-01-15T00:00:00\", \"2020-01-16T00:00:00\", \"2020-01-17T00:00:00\", \"2020-01-18T00:00:00\", \"2020-01-19T00:00:00\", \"2020-01-20T00:00:00\", \"2020-01-21T00:00:00\", \"2020-01-22T00:00:00\", \"2020-01-23T00:00:00\", \"2020-01-24T00:00:00\", \"2020-01-25T00:00:00\", \"2020-01-26T00:00:00\", \"2020-01-27T00:00:00\", \"2020-01-28T00:00:00\", \"2020-01-29T00:00:00\", \"2020-01-30T00:00:00\", \"2020-01-31T00:00:00\", \"2020-02-01T00:00:00\", \"2020-02-02T00:00:00\", \"2020-02-03T00:00:00\", \"2020-02-04T00:00:00\", \"2020-02-05T00:00:00\", \"2020-02-06T00:00:00\", \"2020-02-07T00:00:00\", \"2020-02-08T00:00:00\", \"2020-02-09T00:00:00\", \"2020-02-10T00:00:00\", \"2020-02-11T00:00:00\", \"2020-02-12T00:00:00\", \"2020-02-13T00:00:00\", \"2020-02-14T00:00:00\", \"2020-02-15T00:00:00\", \"2020-02-16T00:00:00\", \"2020-02-17T00:00:00\", \"2020-02-18T00:00:00\", \"2020-02-19T00:00:00\", \"2020-02-20T00:00:00\", \"2020-02-21T00:00:00\", \"2020-02-22T00:00:00\", \"2020-02-23T00:00:00\", \"2020-02-24T00:00:00\", \"2020-02-25T00:00:00\", \"2020-02-26T00:00:00\", \"2020-02-27T00:00:00\", \"2020-02-28T00:00:00\", \"2020-02-29T00:00:00\", \"2020-03-01T00:00:00\", \"2020-03-02T00:00:00\", \"2020-03-03T00:00:00\", \"2020-03-04T00:00:00\", \"2020-03-05T00:00:00\", \"2020-03-06T00:00:00\", \"2020-03-07T00:00:00\", \"2020-03-08T00:00:00\", \"2020-03-09T00:00:00\", \"2020-03-10T00:00:00\", \"2020-03-11T00:00:00\", \"2020-03-12T00:00:00\", \"2020-03-13T00:00:00\", \"2020-03-14T00:00:00\", \"2020-03-15T00:00:00\", \"2020-03-16T00:00:00\", \"2020-03-17T00:00:00\", \"2020-03-18T00:00:00\", \"2020-03-19T00:00:00\", \"2020-03-20T00:00:00\", \"2020-03-21T00:00:00\", \"2020-03-22T00:00:00\", \"2020-03-23T00:00:00\", \"2020-03-24T00:00:00\", \"2020-03-25T00:00:00\", \"2020-03-26T00:00:00\", \"2020-03-27T00:00:00\", \"2020-03-28T00:00:00\", \"2020-03-29T00:00:00\", \"2020-03-29T00:00:00\", \"2020-03-30T00:00:00\", \"2020-03-31T00:00:00\", \"2020-04-01T00:00:00\", \"2020-04-02T00:00:00\", \"2020-04-03T00:00:00\", \"2020-04-04T00:00:00\", \"2020-04-05T00:00:00\", \"2020-04-06T00:00:00\", \"2020-04-07T00:00:00\", \"2020-04-08T00:00:00\", \"2020-04-09T00:00:00\", \"2020-04-10T00:00:00\", \"2020-04-11T00:00:00\", \"2020-04-12T00:00:00\", \"2020-04-13T00:00:00\", \"2020-04-14T00:00:00\", \"2020-04-15T00:00:00\", \"2020-04-17T00:00:00\", \"2020-04-18T00:00:00\", \"2020-04-19T00:00:00\", \"2020-04-20T00:00:00\", \"2020-04-21T00:00:00\", \"2020-04-22T00:00:00\", \"2020-04-23T00:00:00\", \"2020-04-24T00:00:00\", \"2020-04-25T00:00:00\", \"2020-04-26T00:00:00\", \"2020-04-27T00:00:00\", \"2020-04-28T00:00:00\", \"2020-04-29T00:00:00\", \"2020-04-30T00:00:00\", \"2020-05-01T00:00:00\", \"2020-05-02T00:00:00\", \"2020-05-03T00:00:00\", \"2020-05-04T00:00:00\", \"2020-05-05T00:00:00\", \"2020-05-06T00:00:00\", \"2020-05-07T00:00:00\", \"2020-05-08T00:00:00\", \"2020-05-09T00:00:00\", \"2020-05-10T00:00:00\", \"2020-05-11T00:00:00\", \"2020-05-12T00:00:00\", \"2020-05-13T00:00:00\", \"2020-05-14T00:00:00\", \"2020-05-15T00:00:00\", \"2020-05-16T00:00:00\", \"2020-05-17T00:00:00\", \"2020-05-18T00:00:00\", \"2020-05-19T00:00:00\", \"2020-05-20T00:00:00\", \"2020-05-21T00:00:00\", \"2020-05-22T00:00:00\", \"2020-05-23T00:00:00\", \"2020-05-24T00:00:00\", \"2020-05-25T00:00:00\", \"2020-05-26T00:00:00\", \"2020-05-27T00:00:00\", \"2020-05-28T00:00:00\", \"2020-05-29T00:00:00\", \"2020-05-30T00:00:00\", \"2020-05-31T00:00:00\", \"2020-06-01T00:00:00\", \"2020-06-02T00:00:00\", \"2020-06-03T00:00:00\", \"2020-06-04T00:00:00\", \"2020-06-05T00:00:00\", \"2020-06-06T00:00:00\", \"2020-06-07T00:00:00\", \"2020-06-08T00:00:00\", \"2020-06-09T00:00:00\", \"2020-06-10T00:00:00\", \"2020-06-11T00:00:00\", \"2020-06-12T00:00:00\", \"2020-06-13T00:00:00\", \"2020-06-14T00:00:00\", \"2020-06-15T00:00:00\", \"2020-06-16T00:00:00\", \"2020-06-17T00:00:00\", \"2020-06-18T00:00:00\", \"2020-06-19T00:00:00\", \"2020-06-20T00:00:00\", \"2020-06-21T00:00:00\", \"2020-06-22T00:00:00\", \"2020-06-23T00:00:00\", \"2020-06-24T00:00:00\", \"2020-06-25T00:00:00\", \"2020-06-26T00:00:00\", \"2020-06-27T00:00:00\", \"2020-06-28T00:00:00\", \"2020-06-29T00:00:00\", \"2020-06-30T00:00:00\", \"2020-07-01T00:00:00\", \"2020-07-02T00:00:00\", \"2020-07-03T00:00:00\", \"2020-07-04T00:00:00\", \"2020-07-05T00:00:00\", \"2020-07-06T00:00:00\", \"2020-07-07T00:00:00\", \"2020-07-08T00:00:00\", \"2020-07-09T00:00:00\", \"2020-07-10T00:00:00\", \"2020-07-11T00:00:00\", \"2020-07-12T00:00:00\", \"2020-07-13T00:00:00\", \"2020-07-14T00:00:00\", \"2020-07-15T00:00:00\", \"2020-07-16T00:00:00\", \"2020-07-17T00:00:00\", \"2020-07-18T00:00:00\", \"2020-07-19T00:00:00\", \"2020-07-20T00:00:00\", \"2020-07-21T00:00:00\", \"2020-07-22T00:00:00\", \"2020-07-23T00:00:00\", \"2020-07-24T00:00:00\", \"2020-07-25T00:00:00\", \"2020-07-26T00:00:00\", \"2020-07-27T00:00:00\", \"2020-07-28T00:00:00\", \"2020-07-29T00:00:00\", \"2020-07-30T00:00:00\", \"2020-07-31T00:00:00\", \"2020-08-01T00:00:00\", \"2020-08-02T00:00:00\", \"2020-08-03T00:00:00\", \"2020-08-04T00:00:00\", \"2020-08-05T00:00:00\", \"2020-08-06T00:00:00\", \"2020-08-07T00:00:00\", \"2020-08-08T00:00:00\", \"2020-08-09T00:00:00\", \"2020-08-10T00:00:00\", \"2020-08-11T00:00:00\", \"2020-08-12T00:00:00\", \"2020-08-13T00:00:00\", \"2020-08-14T00:00:00\", \"2020-08-15T00:00:00\", \"2020-08-16T00:00:00\", \"2020-08-17T00:00:00\", \"2020-08-18T00:00:00\", \"2020-08-19T00:00:00\", \"2020-08-20T00:00:00\", \"2020-08-21T00:00:00\", \"2020-08-22T00:00:00\", \"2020-08-23T00:00:00\", \"2020-08-24T00:00:00\", \"2020-08-25T00:00:00\", \"2020-08-26T00:00:00\", \"2020-08-27T00:00:00\", \"2020-08-28T00:00:00\", \"2020-08-29T00:00:00\", \"2020-08-30T00:00:00\", \"2020-08-31T00:00:00\", \"2020-09-01T00:00:00\", \"2020-09-02T00:00:00\", \"2020-09-03T00:00:00\", \"2020-09-04T00:00:00\", \"2020-09-05T00:00:00\", \"2020-09-06T00:00:00\", \"2020-09-07T00:00:00\", \"2020-09-08T00:00:00\", \"2020-09-09T00:00:00\", \"2020-09-10T00:00:00\", \"2020-09-11T00:00:00\", \"2020-09-12T00:00:00\", \"2020-09-13T00:00:00\", \"2020-09-14T00:00:00\", \"2020-09-15T00:00:00\", \"2020-09-16T00:00:00\", \"2020-09-17T00:00:00\", \"2020-09-18T00:00:00\", \"2020-09-19T00:00:00\", \"2020-09-20T00:00:00\", \"2020-09-21T00:00:00\", \"2020-09-22T00:00:00\", \"2020-09-23T00:00:00\", \"2020-09-24T00:00:00\", \"2020-09-25T00:00:00\", \"2020-09-26T00:00:00\", \"2020-09-27T00:00:00\", \"2020-09-28T00:00:00\", \"2020-09-29T00:00:00\", \"2020-09-30T00:00:00\", \"2020-10-01T00:00:00\", \"2020-10-02T00:00:00\", \"2020-10-03T00:00:00\", \"2020-10-04T00:00:00\", \"2020-10-05T00:00:00\", \"2020-10-06T00:00:00\", \"2020-10-07T00:00:00\", \"2020-10-09T00:00:00\", \"2020-10-10T00:00:00\", \"2020-10-13T00:00:00\", \"2020-10-14T00:00:00\", \"2020-10-15T00:00:00\", \"2020-10-16T00:00:00\", \"2020-10-17T00:00:00\", \"2020-10-18T00:00:00\", \"2020-10-19T00:00:00\", \"2020-10-20T00:00:00\", \"2020-10-21T00:00:00\", \"2020-10-22T00:00:00\", \"2020-10-23T00:00:00\", \"2020-10-24T00:00:00\", \"2020-10-26T00:00:00\", \"2020-10-27T00:00:00\", \"2020-10-28T00:00:00\", \"2020-10-29T00:00:00\", \"2020-10-30T00:00:00\", \"2020-10-31T00:00:00\", \"2020-11-01T00:00:00\", \"2020-11-02T00:00:00\", \"2020-11-03T00:00:00\", \"2020-11-04T00:00:00\", \"2020-11-05T00:00:00\", \"2020-11-06T00:00:00\", \"2020-11-07T00:00:00\", \"2020-11-08T00:00:00\", \"2020-11-09T00:00:00\", \"2020-11-10T00:00:00\", \"2020-11-11T00:00:00\", \"2020-11-12T00:00:00\", \"2020-11-13T00:00:00\", \"2020-11-14T00:00:00\", \"2020-11-15T00:00:00\", \"2020-11-16T00:00:00\", \"2020-11-17T00:00:00\", \"2020-11-18T00:00:00\", \"2020-11-19T00:00:00\", \"2020-11-20T00:00:00\", \"2020-11-21T00:00:00\", \"2020-11-22T00:00:00\", \"2020-11-23T00:00:00\", \"2020-11-24T00:00:00\", \"2020-11-25T00:00:00\", \"2020-11-26T00:00:00\", \"2020-11-27T00:00:00\", \"2020-11-28T00:00:00\", \"2020-11-29T00:00:00\", \"2020-11-30T00:00:00\", \"2020-12-01T00:00:00\", \"2020-12-02T00:00:00\", \"2020-12-03T00:00:00\", \"2020-12-04T00:00:00\", \"2020-12-05T00:00:00\", \"2020-12-06T00:00:00\", \"2020-12-07T00:00:00\", \"2020-12-08T00:00:00\", \"2020-12-09T00:00:00\", \"2020-12-10T00:00:00\", \"2020-12-11T00:00:00\", \"2020-12-12T00:00:00\", \"2020-12-13T00:00:00\", \"2020-12-14T00:00:00\", \"2020-12-15T00:00:00\", \"2020-12-16T00:00:00\", \"2020-12-17T00:00:00\", \"2020-12-18T00:00:00\", \"2020-12-19T00:00:00\", \"2020-12-20T00:00:00\", \"2020-12-21T00:00:00\", \"2020-12-22T00:00:00\", \"2020-12-23T00:00:00\", \"2020-12-24T00:00:00\", \"2020-12-25T00:00:00\", \"2020-12-26T00:00:00\", \"2020-12-27T00:00:00\", \"2020-12-28T00:00:00\", \"2020-12-29T00:00:00\", \"2020-12-30T00:00:00\", \"2020-12-31T00:00:00\", \"2021-01-01T00:00:00\", \"2021-01-02T00:00:00\", \"2021-01-03T00:00:00\", \"2021-01-04T00:00:00\", \"2021-01-05T00:00:00\", \"2021-01-06T00:00:00\", \"2021-01-07T00:00:00\", \"2021-01-08T00:00:00\", \"2021-01-09T00:00:00\", \"2021-01-10T00:00:00\", \"2021-01-11T00:00:00\", \"2021-01-12T00:00:00\", \"2021-01-13T00:00:00\", \"2021-01-14T00:00:00\", \"2021-01-15T00:00:00\", \"2021-01-16T00:00:00\", \"2021-01-17T00:00:00\", \"2021-01-18T00:00:00\", \"2021-01-19T00:00:00\", \"2021-01-20T00:00:00\", \"2021-01-21T00:00:00\", \"2021-01-22T00:00:00\", \"2021-01-23T00:00:00\", \"2021-01-24T00:00:00\", \"2021-01-25T00:00:00\", \"2021-01-26T00:00:00\", \"2021-01-27T00:00:00\", \"2021-01-28T00:00:00\", \"2021-01-29T00:00:00\", \"2021-01-30T00:00:00\", \"2021-01-31T00:00:00\", \"2021-02-01T00:00:00\", \"2021-02-02T00:00:00\", \"2021-02-03T00:00:00\", \"2021-02-04T00:00:00\", \"2021-02-05T00:00:00\", \"2021-02-06T00:00:00\", \"2021-02-07T00:00:00\", \"2021-02-08T00:00:00\", \"2021-02-09T00:00:00\", \"2021-02-10T00:00:00\", \"2021-02-11T00:00:00\", \"2021-02-12T00:00:00\", \"2021-02-13T00:00:00\", \"2021-02-14T00:00:00\", \"2021-02-15T00:00:00\", \"2021-02-16T00:00:00\", \"2021-02-17T00:00:00\", \"2021-02-18T00:00:00\", \"2021-02-19T00:00:00\", \"2021-02-20T00:00:00\", \"2021-02-21T00:00:00\", \"2021-02-22T00:00:00\", \"2021-02-23T00:00:00\", \"2021-02-24T00:00:00\", \"2021-02-25T00:00:00\", \"2021-02-26T00:00:00\", \"2021-02-27T00:00:00\", \"2021-02-28T00:00:00\", \"2021-03-01T00:00:00\", \"2021-03-02T00:00:00\", \"2021-03-03T00:00:00\", \"2021-03-04T00:00:00\", \"2021-03-05T00:00:00\", \"2021-03-06T00:00:00\", \"2021-03-07T00:00:00\", \"2021-03-08T00:00:00\", \"2021-03-09T00:00:00\", \"2021-03-10T00:00:00\", \"2021-03-11T00:00:00\", \"2021-03-12T00:00:00\", \"2021-03-13T00:00:00\", \"2021-03-14T00:00:00\", \"2021-03-15T00:00:00\", \"2021-03-16T00:00:00\", \"2021-03-17T00:00:00\", \"2021-03-18T00:00:00\", \"2021-03-19T00:00:00\", \"2021-03-20T00:00:00\", \"2021-03-21T00:00:00\", \"2021-03-22T00:00:00\", \"2021-03-23T00:00:00\", \"2021-03-24T00:00:00\", \"2021-03-25T00:00:00\", \"2021-03-26T00:00:00\", \"2021-03-27T00:00:00\", \"2021-03-28T00:00:00\", \"2021-03-28T00:00:00\", \"2021-03-29T00:00:00\", \"2021-03-30T00:00:00\", \"2021-03-31T00:00:00\", \"2021-04-01T00:00:00\", \"2021-04-02T00:00:00\", \"2021-04-03T00:00:00\", \"2021-04-04T00:00:00\", \"2021-04-05T00:00:00\", \"2021-04-06T00:00:00\", \"2021-04-07T00:00:00\", \"2021-04-08T00:00:00\", \"2021-04-09T00:00:00\", \"2021-04-10T00:00:00\", \"2021-04-11T00:00:00\", \"2021-04-12T00:00:00\", \"2021-04-13T00:00:00\", \"2021-04-14T00:00:00\", \"2021-04-15T00:00:00\", \"2021-04-16T00:00:00\", \"2021-04-18T00:00:00\"], \"y\": [null, null, null, null, null, null, 702144.9642857143, 684503.7767857143, 662112.9910714285, 641837.7321428572, 622973.2053571428, 602171.7678571428, 587469.6696428572, 584827.5446428572, 584071.2053571428, 585567.3660714285, 585298.5803571428, 584715.1160714285, 583909.2321428572, 583946.2678571428, 582912.4910714285, 584933.2232142857, 588199.6160714285, 589638.9285714285, 591779.5357142857, 595264.0625, 596762.0357142857, 596852.0267857143, 591563.8392857143, 586832.0803571428, 583340.4375, 579854.5089285715, 578988.4196428572, 577269.75, 575213.8035714285, 569095.0982142857, 562763.4375, 569435.5446428572, 581864.5535714285, 595085.5625, 605112.2142857143, 618837.9017857143, 636077.9196428572, 653346.0535714285, 659243.5357142857, 659627.0982142857, 656006.1339285715, 657646.4732142857, 656621.0357142857, 658415.4285714285, 659193.4107142857, 655430.4910714285, 651357.3928571428, 650643.4553571428, 644996.6428571428, 640951.2589285715, 636781.7142857143, 632246.3660714285, 629368.9196428572, 627023.0803571428, 622489.75, 618351.2589285715, 612183.4732142857, 603705.4196428572, 592517.7232142857, 580448.6383928572, 568797.3348214285, 553287.3839285715, 541071.6205357143, 530495.4866071428, 524832.4241071428, 522785.19196428574, 527508.0446428572, 529228.6428571428, 533044.1383928572, 534788.2142857143, 536159.0, 533574.3258928572, 533250.2366071428, 530561.3794642857, 529930.7901785715, 530870.7366071428, 530975.1919642857, 529583.8794642857, 528456.3080357143, 525509.9285714285, 522054.51785714284, 517040.58928571426, 512224.66071428574, 507409.9598214286, 501150.49553571426, 502021.4375, 502296.2410714286, 502205.3660714286, 503297.9598214286, 507369.62946428574, 511988.79464285716, 519145.1785714286, 519398.78571428574, 519837.82589285716, 520903.3348214286, 522534.46875, 521982.7098214286, 521450.99553571426, 520180.59375, 519384.3660714286, 516851.8839285714, 517760.9464285714, 519059.57589285716, 519295.44196428574, 524674.5848214285, 535331.9508928572, 544535.8303571428, 553470.5178571428, 560995.6071428572, 566502.9642857143, 573573.6964285715, 576177.2678571428, 581602.9464285715, 588115.2142857143, 596406.9196428572, 604206.9196428572, 613490.1517857143, 618805.7321428572, 624376.5803571428, 623953.8214285715, 623157.625, 620392.4196428572, 615824.2678571428, 610325.7946428572, 609556.8660714285, 612639.8125, 618950.7946428572, 625675.8303571428, 637234.9196428572, 646689.0178571428, 657366.1964285715, 665213.0357142857, 668962.3839285715, 666983.6071428572, 669842.2946428572, 671728.7767857143, 676302.0892857143, 681149.6160714285, 689062.3482142857, 694766.5357142857, 705457.8035714285, 712876.5178571428, 717776.7410714285, 723066.3125, 723330.0267857143, 721485.4375, 719871.3482142857, 719631.0089285715, 713013.1339285715, 707671.8214285715, 701777.5892857143, 699963.6071428572, 700368.1160714285, 700911.6428571428, 693121.2232142857, 684865.5714285715, 676168.2946428572, 666111.2053571428, 655540.8571428572, 641908.5446428572, 634349.9196428572, 630602.1785714285, 632212.2946428572, 638029.7232142857, 645044.9464285715, 650575.5535714285, 648009.2142857143, 640496.0178571428, 632191.9910714285, 624101.1785714285, 581171.3303571428, 543520.6428571428, 504267.79464285716, 475496.2901785714, 444470.76339285716, 415857.51339285716, 388137.52678571426, 401755.0625, 409938.13839285716, 421811.98660714284, 427778.90178571426, 444735.71428571426, 462557.96428571426, 478835.20535714284, 484058.36160714284, 486296.20089285716, 486247.5848214286, 487119.3125, 486200.8526785714, 482411.25446428574, 482304.77678571426, 484532.0, 488836.6964285714, 497040.40178571426, 507219.68303571426, 516876.60714285716, 525134.4107142857, 532445.4910714285, 537706.2008928572, 538909.5982142857, 538578.8125, 540475.6160714285, 536121.4955357143, 532826.0669642857, 525820.5357142857, 524775.4464285715, 529379.6428571428, 533378.6875, 532818.0982142857, 533901.4955357143, 537334.9151785715, 545405.2053571428, 549587.5446428572, 552785.0625, 557833.2857142857, 567377.9553571428, 576566.2946428572, 593511.4375, 606130.0267857143, 619873.2678571428, 634732.2678571428, 647049.8214285715, 658511.4375, 671343.1785714285, 677638.9017857143, 691996.4464285715, 702055.4017857143, 708164.4464285715, 706643.0892857143, 703649.7410714285, 700773.5, 699742.1785714285, 697084.5803571428, 692071.8035714285, 690232.1071428572, 700507.4017857143, 712254.0535714285, 722682.7321428572, 725550.3571428572, 718703.2142857143, 717279.6696428572, 715616.9553571428, 706287.2142857143, 697782.0625, 687835.3035714285, 684611.5625, 689494.7053571428, 691643.5714285715, 696321.5178571428, 702965.1428571428, 716090.3928571428, 723005.625, 727380.0446428572, 730013.9375, 732513.6875, 732066.4196428572, 735272.0, 730849.9732142857, 734322.8303571428, 737114.8928571428, 732641.5178571428, 731179.4196428572, 729784.875, 726359.7589285715, 723679.0446428572, 722117.1964285715, 718855.5446428572, 720405.2410714285, 718704.6517857143, 717547.2767857143, 717037.4107142857, 718927.2678571428, 718838.8660714285, 716170.1875, 713426.1785714285, 711246.2946428572, 707313.8392857143, 704744.4910714285, 699420.8125, 694038.0892857143, 692734.2053571428, 690361.2857142857, 688312.9642857143, 688016.4464285715, 686044.9910714285, 686826.7053571428, 687196.0446428572, 688658.1785714285, 690639.9017857143, 693318.2232142857, 695150.1160714285, 697946.1160714285, 697338.6964285715, 697801.0714285715, 695556.6339285715, 694048.5625, 692339.0803571428, 691075.8125, 689759.3928571428, 688302.0178571428, 688669.3035714285, 691503.3392857143, 695876.4642857143, 699765.7053571428, 705069.9642857143, 712572.2232142857, 732159.7142857143, 749093.8482142857, 766208.3482142857, 782436.6428571428, 801840.1785714285, 824415.2857142857, 836930.2053571428, 840243.9375, 843637.5446428572, 850517.4107142857, 857884.4196428572, 861019.1428571428, 861120.3035714285, 867957.0892857143, 874249.8392857143, 875718.75, 873939.7767857143, 873852.4821428572, 875359.0535714285, 876266.2053571428, 878385.4017857143, 882184.1517857143, 888305.9375, 890497.9553571428, 891785.5714285715, 890022.9732142857, 888181.2142857143, 885773.6607142857, 879719.7857142857, 872510.8839285715, 868453.4910714285, 860542.9375, 857038.4553571428, 852205.4285714285, 849704.1607142857, 847448.7767857143, 851853.8482142857, 849421.1964285715, 837586.375, 826995.625, 813195.9553571428, 798482.6964285715, 784737.1875, 766585.1160714285, 754433.2410714285, 755792.8660714285, 754974.6339285715, 758170.6339285715, 758902.7857142857, 762099.1517857143, 768840.9642857143, 776865.4196428572, 783096.5446428572, 789012.2321428572, 796069.7142857143, 802608.0982142857, 800585.7946428572, 797706.3303571428, 790172.9375, 788562.2142857143, 786150.9017857143, 782713.7857142857, 781245.7857142857, 784252.3035714285, 787857.3303571428, 793398.0982142857, 791085.75, 789282.6517857143, 786724.4732142857, 785201.6607142857, 785071.1785714285, 782514.5446428572, 781074.7946428572, 784260.5357142857, 791126.8660714285, 799202.1875, 806962.3660714285, 814603.1071428572, 821688.5178571428, 828974.1428571428, 835099.7410714285, 840476.5625, 846820.5803571428, 862206.9821428572, 878279.5267857143, 895885.4464285715, 914975.8035714285, 931945.3303571428, 946954.5535714285, 965829.9910714285, 971427.1071428572, 977464.3482142857, 985459.9285714285, 994092.8571428572, 1003107.8392857143, 1009118.5714285715, 1013947.4821428572, 1023086.5982142857, 1045493.9285714285, 1065611.5714285714, 1075492.294642857, 1092616.767857143, 1110468.875, 1123945.1607142857, 1141351.8035714286, 1150472.357142857, 1159717.125, 1174041.0, 1180347.9464285714, 1196068.982142857, 1221735.4107142857, 1243354.982142857, 1257841.6785714286, 1281371.8035714286, 1307782.0892857143, 1332476.5714285714, 1349540.142857143, 1363491.375, 1372131.0535714286, 1364415.3035714286, 1347833.6607142857, 1337528.8035714286, 1334965.4107142857, 1347664.267857143, 1343664.857142857, 1348258.5, 1372756.625, 1389196.7857142857, 1403929.8035714286, 1415860.357142857, 1410748.142857143, 1405823.125, 1399422.75, 1386571.607142857, 1379659.7857142857, 1375801.9642857143, 1373493.5535714286, 1373639.232142857, 1384626.857142857, 1413052.607142857, 1460058.9107142857, 1513128.232142857, 1566048.142857143, 1611230.625, 1649573.357142857, 1697456.0, 1718535.517857143, 1728408.125, 1744293.9107142857, 1771107.375, 1800976.625, 1844690.9642857143, 1879920.982142857, 1936309.25, 1989568.9107142857, 2037098.0714285714, 2094751.0535714286, 2160323.839285714, 2209589.9464285714, 2277836.035714286, 2361059.6071428573, 2471464.6785714286, 2592419.1785714286, 2678927.75, 2738606.0714285714, 2778319.8928571427, 2777487.1785714286, 2782775.1071428573, 2778860.25, 2736073.785714286, 2692061.1071428573, 2664105.0, 2673550.6428571427, 2696221.035714286, 2676409.1071428573, 2588505.0714285714, 2547819.6428571427, 2504275.8214285714, 2466989.4285714286, 2421397.75, 2383536.0714285714, 2330824.25, 2339338.3571428573, 2352554.4285714286, 2375063.5714285714, 2383262.6428571427, 2396183.5714285714, 2426804.464285714, 2499286.964285714, 2554516.3928571427, 2593737.214285714, 2645112.0, 2704768.1785714286, 2835750.3214285714, 2949618.25, 3026794.214285714, 3139419.535714286, 3235414.25, 3315604.6428571427, 3416269.8214285714, 3432493.1785714286, 3461348.1428571427, 3536454.464285714, 3574850.1071428573, 3661469.714285714, 3754574.1785714286, 3845802.785714286, 3909386.1428571427, 3901617.8571428573, 3873379.6785714286, 3829484.8571428573, 3737439.1428571427, 3641458.214285714, 3520192.3928571427, 3478873.6428571427, 3480456.0, 3493432.3928571427, 3508641.9285714286, 3532942.6071428573, 3558678.0714285714, 3618835.0, 3646369.3571428573, 3709909.25, 3764605.1785714286, 3857101.3214285714, 3940941.6428571427, 4065550.5, 4146012.5714285714, 4177851.1428571427, 4196332.142857143, 4224917.5, 4225731.928571428, 4234206.857142857, 4201727.714285715, 4180971.75, 4165645.9285714286, 4145000.1071428573, 4082366.964285714, 4018049.0714285714, 3984878.1785714286, 3960703.1785714286, 3944713.75, 3981001.3214285714, 4031360.3214285714, 4099824.25, 4182194.214285714, 4234028.178571428, 4258544.821428572, 4295401.142857143, 4313525.857142857, 4306210.642857143, 4285789.857142857, 4288183.785714285, 4287503.642857143, 4322014.928571428, 4348817.571428572, 4372208.857142857, 4443389.642857143, 4524069.214285715, 4578864.0, 4612927.571428572, 4620911.142857143, 4568284.75]}],\n",
              "                        {\"template\": {\"data\": {\"bar\": [{\"error_x\": {\"color\": \"#2a3f5f\"}, \"error_y\": {\"color\": \"#2a3f5f\"}, \"marker\": {\"line\": {\"color\": \"#E5ECF6\", \"width\": 0.5}}, \"type\": \"bar\"}], \"barpolar\": [{\"marker\": {\"line\": {\"color\": \"#E5ECF6\", \"width\": 0.5}}, \"type\": \"barpolar\"}], \"carpet\": [{\"aaxis\": {\"endlinecolor\": \"#2a3f5f\", \"gridcolor\": \"white\", \"linecolor\": \"white\", \"minorgridcolor\": \"white\", \"startlinecolor\": \"#2a3f5f\"}, \"baxis\": {\"endlinecolor\": \"#2a3f5f\", \"gridcolor\": \"white\", \"linecolor\": \"white\", \"minorgridcolor\": \"white\", \"startlinecolor\": \"#2a3f5f\"}, \"type\": \"carpet\"}], \"choropleth\": [{\"colorbar\": {\"outlinewidth\": 0, \"ticks\": \"\"}, \"type\": \"choropleth\"}], \"contour\": [{\"colorbar\": {\"outlinewidth\": 0, \"ticks\": \"\"}, \"colorscale\": [[0.0, \"#0d0887\"], [0.1111111111111111, \"#46039f\"], [0.2222222222222222, \"#7201a8\"], [0.3333333333333333, \"#9c179e\"], [0.4444444444444444, \"#bd3786\"], [0.5555555555555556, \"#d8576b\"], [0.6666666666666666, \"#ed7953\"], [0.7777777777777778, \"#fb9f3a\"], [0.8888888888888888, \"#fdca26\"], [1.0, \"#f0f921\"]], \"type\": \"contour\"}], \"contourcarpet\": [{\"colorbar\": {\"outlinewidth\": 0, \"ticks\": \"\"}, \"type\": \"contourcarpet\"}], \"heatmap\": [{\"colorbar\": {\"outlinewidth\": 0, \"ticks\": \"\"}, \"colorscale\": [[0.0, \"#0d0887\"], [0.1111111111111111, \"#46039f\"], [0.2222222222222222, \"#7201a8\"], [0.3333333333333333, \"#9c179e\"], [0.4444444444444444, \"#bd3786\"], [0.5555555555555556, \"#d8576b\"], [0.6666666666666666, \"#ed7953\"], [0.7777777777777778, \"#fb9f3a\"], [0.8888888888888888, \"#fdca26\"], [1.0, \"#f0f921\"]], \"type\": \"heatmap\"}], \"heatmapgl\": [{\"colorbar\": {\"outlinewidth\": 0, \"ticks\": \"\"}, \"colorscale\": [[0.0, \"#0d0887\"], [0.1111111111111111, \"#46039f\"], [0.2222222222222222, \"#7201a8\"], [0.3333333333333333, \"#9c179e\"], [0.4444444444444444, \"#bd3786\"], [0.5555555555555556, \"#d8576b\"], [0.6666666666666666, \"#ed7953\"], [0.7777777777777778, \"#fb9f3a\"], [0.8888888888888888, \"#fdca26\"], [1.0, \"#f0f921\"]], \"type\": \"heatmapgl\"}], \"histogram\": [{\"marker\": {\"colorbar\": {\"outlinewidth\": 0, \"ticks\": \"\"}}, \"type\": \"histogram\"}], \"histogram2d\": [{\"colorbar\": {\"outlinewidth\": 0, \"ticks\": \"\"}, \"colorscale\": [[0.0, \"#0d0887\"], [0.1111111111111111, \"#46039f\"], [0.2222222222222222, \"#7201a8\"], [0.3333333333333333, \"#9c179e\"], [0.4444444444444444, \"#bd3786\"], [0.5555555555555556, \"#d8576b\"], [0.6666666666666666, \"#ed7953\"], [0.7777777777777778, \"#fb9f3a\"], [0.8888888888888888, \"#fdca26\"], [1.0, \"#f0f921\"]], \"type\": \"histogram2d\"}], \"histogram2dcontour\": [{\"colorbar\": {\"outlinewidth\": 0, \"ticks\": \"\"}, \"colorscale\": [[0.0, \"#0d0887\"], [0.1111111111111111, \"#46039f\"], [0.2222222222222222, \"#7201a8\"], [0.3333333333333333, \"#9c179e\"], [0.4444444444444444, \"#bd3786\"], [0.5555555555555556, \"#d8576b\"], [0.6666666666666666, \"#ed7953\"], [0.7777777777777778, \"#fb9f3a\"], [0.8888888888888888, \"#fdca26\"], [1.0, \"#f0f921\"]], \"type\": \"histogram2dcontour\"}], \"mesh3d\": [{\"colorbar\": {\"outlinewidth\": 0, \"ticks\": \"\"}, \"type\": \"mesh3d\"}], \"parcoords\": [{\"line\": {\"colorbar\": {\"outlinewidth\": 0, \"ticks\": \"\"}}, \"type\": \"parcoords\"}], \"pie\": [{\"automargin\": true, \"type\": \"pie\"}], \"scatter\": [{\"marker\": {\"colorbar\": {\"outlinewidth\": 0, \"ticks\": \"\"}}, \"type\": \"scatter\"}], \"scatter3d\": [{\"line\": {\"colorbar\": {\"outlinewidth\": 0, \"ticks\": \"\"}}, \"marker\": {\"colorbar\": {\"outlinewidth\": 0, \"ticks\": \"\"}}, \"type\": \"scatter3d\"}], \"scattercarpet\": [{\"marker\": {\"colorbar\": {\"outlinewidth\": 0, \"ticks\": \"\"}}, \"type\": \"scattercarpet\"}], \"scattergeo\": [{\"marker\": {\"colorbar\": {\"outlinewidth\": 0, \"ticks\": \"\"}}, \"type\": \"scattergeo\"}], \"scattergl\": [{\"marker\": {\"colorbar\": {\"outlinewidth\": 0, \"ticks\": \"\"}}, \"type\": \"scattergl\"}], \"scattermapbox\": [{\"marker\": {\"colorbar\": {\"outlinewidth\": 0, \"ticks\": \"\"}}, \"type\": \"scattermapbox\"}], \"scatterpolar\": [{\"marker\": {\"colorbar\": {\"outlinewidth\": 0, \"ticks\": \"\"}}, \"type\": \"scatterpolar\"}], \"scatterpolargl\": [{\"marker\": {\"colorbar\": {\"outlinewidth\": 0, \"ticks\": \"\"}}, \"type\": \"scatterpolargl\"}], \"scatterternary\": [{\"marker\": {\"colorbar\": {\"outlinewidth\": 0, \"ticks\": \"\"}}, \"type\": \"scatterternary\"}], \"surface\": [{\"colorbar\": {\"outlinewidth\": 0, \"ticks\": \"\"}, \"colorscale\": [[0.0, \"#0d0887\"], [0.1111111111111111, \"#46039f\"], [0.2222222222222222, \"#7201a8\"], [0.3333333333333333, \"#9c179e\"], [0.4444444444444444, \"#bd3786\"], [0.5555555555555556, \"#d8576b\"], [0.6666666666666666, \"#ed7953\"], [0.7777777777777778, \"#fb9f3a\"], [0.8888888888888888, \"#fdca26\"], [1.0, \"#f0f921\"]], \"type\": \"surface\"}], \"table\": [{\"cells\": {\"fill\": {\"color\": \"#EBF0F8\"}, \"line\": {\"color\": \"white\"}}, \"header\": {\"fill\": {\"color\": \"#C8D4E3\"}, \"line\": {\"color\": \"white\"}}, \"type\": \"table\"}]}, \"layout\": {\"annotationdefaults\": {\"arrowcolor\": \"#2a3f5f\", \"arrowhead\": 0, \"arrowwidth\": 1}, \"coloraxis\": {\"colorbar\": {\"outlinewidth\": 0, \"ticks\": \"\"}}, \"colorscale\": {\"diverging\": [[0, \"#8e0152\"], [0.1, \"#c51b7d\"], [0.2, \"#de77ae\"], [0.3, \"#f1b6da\"], [0.4, \"#fde0ef\"], [0.5, \"#f7f7f7\"], [0.6, \"#e6f5d0\"], [0.7, \"#b8e186\"], [0.8, \"#7fbc41\"], [0.9, \"#4d9221\"], [1, \"#276419\"]], \"sequential\": [[0.0, \"#0d0887\"], [0.1111111111111111, \"#46039f\"], [0.2222222222222222, \"#7201a8\"], [0.3333333333333333, \"#9c179e\"], [0.4444444444444444, \"#bd3786\"], [0.5555555555555556, \"#d8576b\"], [0.6666666666666666, \"#ed7953\"], [0.7777777777777778, \"#fb9f3a\"], [0.8888888888888888, \"#fdca26\"], [1.0, \"#f0f921\"]], \"sequentialminus\": [[0.0, \"#0d0887\"], [0.1111111111111111, \"#46039f\"], [0.2222222222222222, \"#7201a8\"], [0.3333333333333333, \"#9c179e\"], [0.4444444444444444, \"#bd3786\"], [0.5555555555555556, \"#d8576b\"], [0.6666666666666666, \"#ed7953\"], [0.7777777777777778, \"#fb9f3a\"], [0.8888888888888888, \"#fdca26\"], [1.0, \"#f0f921\"]]}, \"colorway\": [\"#636efa\", \"#EF553B\", \"#00cc96\", \"#ab63fa\", \"#FFA15A\", \"#19d3f3\", \"#FF6692\", \"#B6E880\", \"#FF97FF\", \"#FECB52\"], \"font\": {\"color\": \"#2a3f5f\"}, \"geo\": {\"bgcolor\": \"white\", \"lakecolor\": \"white\", \"landcolor\": \"#E5ECF6\", \"showlakes\": true, \"showland\": true, \"subunitcolor\": \"white\"}, \"hoverlabel\": {\"align\": \"left\"}, \"hovermode\": \"closest\", \"mapbox\": {\"style\": \"light\"}, \"paper_bgcolor\": \"white\", \"plot_bgcolor\": \"#E5ECF6\", \"polar\": {\"angularaxis\": {\"gridcolor\": \"white\", \"linecolor\": \"white\", \"ticks\": \"\"}, \"bgcolor\": \"#E5ECF6\", \"radialaxis\": {\"gridcolor\": \"white\", \"linecolor\": \"white\", \"ticks\": \"\"}}, \"scene\": {\"xaxis\": {\"backgroundcolor\": \"#E5ECF6\", \"gridcolor\": \"white\", \"gridwidth\": 2, \"linecolor\": \"white\", \"showbackground\": true, \"ticks\": \"\", \"zerolinecolor\": \"white\"}, \"yaxis\": {\"backgroundcolor\": \"#E5ECF6\", \"gridcolor\": \"white\", \"gridwidth\": 2, \"linecolor\": \"white\", \"showbackground\": true, \"ticks\": \"\", \"zerolinecolor\": \"white\"}, \"zaxis\": {\"backgroundcolor\": \"#E5ECF6\", \"gridcolor\": \"white\", \"gridwidth\": 2, \"linecolor\": \"white\", \"showbackground\": true, \"ticks\": \"\", \"zerolinecolor\": \"white\"}}, \"shapedefaults\": {\"line\": {\"color\": \"#2a3f5f\"}}, \"ternary\": {\"aaxis\": {\"gridcolor\": \"white\", \"linecolor\": \"white\", \"ticks\": \"\"}, \"baxis\": {\"gridcolor\": \"white\", \"linecolor\": \"white\", \"ticks\": \"\"}, \"bgcolor\": \"#E5ECF6\", \"caxis\": {\"gridcolor\": \"white\", \"linecolor\": \"white\", \"ticks\": \"\"}}, \"title\": {\"x\": 0.05}, \"xaxis\": {\"automargin\": true, \"gridcolor\": \"white\", \"linecolor\": \"white\", \"ticks\": \"\", \"title\": {\"standoff\": 15}, \"zerolinecolor\": \"white\", \"zerolinewidth\": 2}, \"yaxis\": {\"automargin\": true, \"gridcolor\": \"white\", \"linecolor\": \"white\", \"ticks\": \"\", \"title\": {\"standoff\": 15}, \"zerolinecolor\": \"white\", \"zerolinewidth\": 2}}}, \"title\": {\"text\": \"7 Days Moving Average\"}, \"xaxis\": {\"title\": {\"text\": \"Date\"}}, \"yaxis\": {\"title\": {\"text\": \"Price\"}}},\n",
              "                        {\"responsive\": true}\n",
              "                    ).then(function(){\n",
              "                            \n",
              "var gd = document.getElementById('9477e645-9f33-4c23-973c-b26e57a1a9b3');\n",
              "var x = new MutationObserver(function (mutations, observer) {{\n",
              "        var display = window.getComputedStyle(gd).display;\n",
              "        if (!display || display === 'none') {{\n",
              "            console.log([gd, 'removed!']);\n",
              "            Plotly.purge(gd);\n",
              "            observer.disconnect();\n",
              "        }}\n",
              "}});\n",
              "\n",
              "// Listen for the removal of the full notebook cells\n",
              "var notebookContainer = gd.closest('#notebook-container');\n",
              "if (notebookContainer) {{\n",
              "    x.observe(notebookContainer, {childList: true});\n",
              "}}\n",
              "\n",
              "// Listen for the clearing of the current output cell\n",
              "var outputEl = gd.closest('.output');\n",
              "if (outputEl) {{\n",
              "    x.observe(outputEl, {childList: true});\n",
              "}}\n",
              "\n",
              "                        })\n",
              "                };\n",
              "                \n",
              "            </script>\n",
              "        </div>\n",
              "</body>\n",
              "</html>"
            ]
          },
          "metadata": {
            "tags": []
          }
        }
      ]
    },
    {
      "cell_type": "markdown",
      "metadata": {
        "id": "Gtm5Uic0N5Rs"
      },
      "source": [
        "### Candlestick chart for bitcoin analysis "
      ]
    },
    {
      "cell_type": "code",
      "metadata": {
        "colab": {
          "base_uri": "https://localhost:8080/",
          "height": 542
        },
        "id": "kHs8CWq_hSjq",
        "outputId": "431db252-7341-48b3-bd70-be9644086184"
      },
      "source": [
        "fig = go.Figure()\n",
        "\n",
        "fig.add_trace(go.Candlestick(x=bitcoin['Date']\n",
        "                             , open=bitcoin['Open']\n",
        "                             , high=bitcoin['High']\n",
        "                             , low=bitcoin['Low']\n",
        "                             , close=bitcoin['Adj Close']\n",
        "                            , visible = True\n",
        "                             ,increasing_line_color= 'cyan', decreasing_line_color= 'gray'\n",
        "                            ))\n",
        "# Set title\n",
        "fig.update_layout(title_text='Candlestick chart for bitcoin')\n",
        "\n",
        "# Set x and y-axis titles\n",
        "fig.update_xaxes(title_text='Date')\n",
        "fig.update_yaxes(title_text='Price')\n",
        "\n",
        "# fig.show() "
      ],
      "execution_count": 21,
      "outputs": [
        {
          "output_type": "display_data",
          "data": {
            "text/html": [
              "<html>\n",
              "<head><meta charset=\"utf-8\" /></head>\n",
              "<body>\n",
              "    <div>\n",
              "            <script src=\"https://cdnjs.cloudflare.com/ajax/libs/mathjax/2.7.5/MathJax.js?config=TeX-AMS-MML_SVG\"></script><script type=\"text/javascript\">if (window.MathJax) {MathJax.Hub.Config({SVG: {font: \"STIX-Web\"}});}</script>\n",
              "                <script type=\"text/javascript\">window.PlotlyConfig = {MathJaxConfig: 'local'};</script>\n",
              "        <script src=\"https://cdn.plot.ly/plotly-latest.min.js\"></script>    \n",
              "            <div id=\"1a09d02b-c28a-48bc-b957-ca3798a6a0da\" class=\"plotly-graph-div\" style=\"height:525px; width:100%;\"></div>\n",
              "            <script type=\"text/javascript\">\n",
              "                \n",
              "                    window.PLOTLYENV=window.PLOTLYENV || {};\n",
              "                    \n",
              "                if (document.getElementById(\"1a09d02b-c28a-48bc-b957-ca3798a6a0da\")) {\n",
              "                    Plotly.newPlot(\n",
              "                        '1a09d02b-c28a-48bc-b957-ca3798a6a0da',\n",
              "                        [{\"close\": [725961.0, 732951.1875, 724993.9375, 713463.9375, 717018.5625, 688840.875, 611785.25, 602472.6875, 576215.6875, 583067.125, 581412.25, 571408.5, 585926.1875, 593290.375, 597178.3125, 586688.8125, 581185.625, 577328.0, 565767.3125, 586185.4375, 586053.9375, 611323.4375, 609553.5625, 591260.8125, 592312.25, 590159.0, 596671.25, 586683.875, 574306.125, 576431.25, 566819.3125, 567910.75, 584096.375, 584640.5625, 572292.25, 531475.1875, 532109.625, 613524.0625, 654913.8125, 676643.4375, 654827.125, 668372.0625, 652155.3125, 652986.5625, 654806.4375, 657598.75, 651296.6875, 666309.5, 661194.0, 664716.0625, 658432.4375, 628466.0, 629087.0625, 646299.125, 626781.8125, 632876.3125, 635529.25, 626685.0, 608323.875, 612666.1875, 614565.8125, 597812.375, 589701.8125, 576182.875, 548371.125, 523840.28125, 531107.0625, 505996.15625, 512302.03125, 515668.875, 536541.4375, 534040.5, 556900.25, 543151.25, 532704.625, 524510.5625, 525264.375, 518448.71875, 531771.875, 538078.25, 538737.125, 539284.25, 525241.75, 515525.1875, 510555.71875, 511147.21875, 513890.375, 503639.625, 505572.75, 491538.84375, 471708.9375, 516652.3125, 513070.84375, 513254.25, 511287.78125, 534074.4375, 523873.0, 521803.625, 518427.5625, 516144.125, 520712.8125, 522705.71875, 530212.125, 520151.0, 512910.8125, 512853.96875, 498416.75, 527076.25, 531796.125, 531863.1875, 557805.0, 587512.375, 577281.125, 560959.5625, 579751.875, 570347.625, 581358.3125, 576030.0, 625492.125, 622867.0, 619001.5, 634351.875, 635330.25, 618567.375, 615025.9375, 622532.8125, 617293.625, 599645.0625, 602374.8125, 596840.9375, 613184.875, 636606.5625, 666709.6875, 664368.875, 680558.6875, 668553.5, 671581.1875, 668112.75, 662852.0, 652858.25, 684379.6875, 693764.0625, 700566.6875, 705513.875, 723501.875, 702781.3125, 727697.125, 736310.6875, 728065.625, 737593.6875, 707359.875, 710589.75, 691482.6875, 726014.75, 689985.5625, 690676.4375, 696334.0625, 694662.0, 713421.3125, 695287.375, 671481.8125, 632196.0, 629795.5, 625934.4375, 620669.5625, 617995.125, 642377.0, 645247.625, 643466.8125, 670517.5, 675041.0, 659383.8125, 600030.75, 589784.625, 587119.4375, 586831.125, 370008.5625, 411486.1875, 384613.875, 398630.21875, 372605.9375, 386826.6875, 392791.21875, 465331.3125, 468767.71875, 467730.8125, 440398.625, 491303.625, 511582.4375, 506731.90625, 501893.40625, 484432.59375, 467390.5, 446500.71875, 484874.40625, 485055.25, 505986.5625, 517483.96875, 514565.46875, 524816.4375, 517755.6875, 552472.875, 542859.875, 557164.125, 554308.9375, 522989.25, 522500.9375, 531033.3125, 521994.03125, 519791.875, 508125.40625, 546993.3125, 555218.625, 550494.25, 527109.1875, 529577.8125, 543825.8125, 564617.4375, 576269.6875, 577601.25, 585831.8125, 593921.875, 593896.1875, 662441.8125, 652947.5625, 672472.375, 681614.25, 672054.6875, 674153.1875, 683718.375, 706511.875, 753450.375, 742885.0625, 724377.5625, 661405.1875, 653199.75, 663584.6875, 699292.625, 734847.1875, 707795.625, 711499.6875, 733332.25, 735426.3125, 736585.4375, 719366.0, 686917.1875, 697830.8125, 699860.6875, 668024.0625, 675890.25, 666958.125, 696799.8125, 721099.1875, 712872.875, 732606.3125, 714529.4375, 767767.0, 715364.75, 727420.75, 739536.4375, 730371.125, 729475.4375, 736968.5, 736812.8125, 739674.75, 746965.1875, 708222.8125, 720136.4375, 719713.625, 712992.6875, 718047.8125, 728741.8125, 724133.625, 719070.6875, 708232.3125, 711612.0, 709423.625, 731276.8125, 728123.0, 705452.875, 699862.625, 692973.125, 684084.8125, 691438.1875, 694011.0625, 690443.9375, 696325.6875, 683252.1875, 678634.875, 682009.1875, 677638.0, 699483.0625, 693029.3125, 706560.625, 697124.25, 697383.125, 694832.4375, 697210.0, 695231.125, 696265.9375, 690849.5625, 686567.75, 685416.75, 685989.5625, 687995.0625, 685029.5, 698836.9375, 710687.8125, 717179.625, 712641.4375, 723119.375, 740510.875, 822141.9375, 817375.875, 830489.3125, 830777.6875, 848466.1875, 881145.125, 828115.3125, 845338.0625, 841131.125, 878648.375, 882346.75, 870409.25, 881853.25, 875972.8125, 889387.3125, 851413.5, 866195.5625, 881735.6875, 880955.25, 888203.3125, 890807.1875, 915978.5625, 894266.0, 881539.6875, 890749.0, 868617.0625, 875311.0, 873954.3125, 873601.4375, 843803.6875, 853137.9375, 835375.125, 844085.6875, 841479.8125, 856445.4375, 857813.75, 874639.1875, 836109.375, 752531.375, 769950.4375, 744882.125, 753452.625, 761595.1875, 747574.6875, 751046.25, 762048.75, 764222.8125, 767254.125, 758577.6875, 783969.75, 794767.375, 807217.4375, 805666.625, 805632.625, 816656.5, 804346.375, 769813.625, 774611.125, 754483.6875, 794391.5625, 788753.4375, 792596.6875, 794070.375, 790859.25, 799846.3125, 793269.0625, 778205.125, 776131.75, 774689.4375, 783410.6875, 789945.875, 781949.875, 783190.8125, 800505.3125, 824196.0625, 831216.6875, 837731.9375, 843431.0625, 831547.75, 834190.1875, 843384.5, 861833.8125, 875624.8125, 945436.75, 955938.875, 954789.1875, 967822.6875, 962171.1875, 966898.375, 1007752.875, 984616.5625, 998199.5625, 1010758.25, 1028253.1875, 1025276.0625, 1008973.5, 1041555.25, 1048590.375, 1155050.875, 1151581.75, 1097418.25, 1145147.375, 1133938.25, 1135889.25, 1170436.875, 1218894.75, 1216295.125, 1197685.375, 1189296.0, 1243985.5, 1315554.25, 1321773.875, 1320301.625, 1381006.0, 1382557.375, 1362157.375, 1363430.5, 1413212.875, 1382251.625, 1266291.375, 1264934.5, 1310423.375, 1344213.625, 1452322.5, 1385217.0, 1414407.125, 1437778.25, 1380015.625, 1413554.5, 1427727.5, 1416537.0, 1350741.875, 1369604.5, 1347820.25, 1331632.875, 1386549.75, 1411568.625, 1417556.75, 1427655.25, 1568584.75, 1676864.375, 1703118.125, 1756989.125, 1727846.0, 1685955.875, 1762833.75, 1716141.375, 1745972.625, 1814318.625, 1944683.375, 1936930.75, 1991956.25, 2009443.875, 2110859.25, 2118790.25, 2147022.75, 2348254.25, 2395940.25, 2336819.0, 2487166.5, 2693424.25, 2891625.75, 2993704.25, 2953814.25, 2813688.5, 2614815.75, 2481337.5, 2730439.75, 2864221.75, 2694199.0, 2645725.5, 2617995.75, 2680935.25, 2640030.25, 2591756.25, 2248893.5, 2409401.0, 2340918.75, 2356991.0, 2361793.5, 2374998.5, 2222773.5, 2308492.25, 2501913.5, 2498482.75, 2414384.5, 2452240.0, 2589344.75, 2730151.0, 2695098.25, 2776459.25, 2858106.25, 2831977.75, 3369115.0, 3386420.25, 3270382.75, 3483475.5, 3448422.25, 3419439.0, 3536634.0, 3482678.5, 3588405.0, 3796127.0, 3752245.0, 4054759.5, 4071170.25, 4175234.25, 3927762.0, 3534027.0, 3598459.75, 3444981.25, 3410439.5, 3399303.75, 3326373.5, 3638530.75, 3545103.5, 3689294.5, 3551448.0, 3580544.25, 3579452.0, 3747472.0, 3831271.25, 3989882.75, 4072166.0, 4198921.0, 4167426.5, 4451714.0, 4310706.5, 4054141.25, 4119249.75, 4272263.5, 4204622.0, 4226751.0, 4224360.0, 4165414.75, 3946860.5, 3974729.0, 3833831.5, 3754396.75, 3994554.75, 4055135.0, 4053488.75, 4200873.5, 4327242.0, 4313079.0, 4330986.5, 4357392.5, 4226751.5, 4311483.0, 4327746.5, 4276035.5, 4170133.5, 4347744.0, 4352631.5, 4468330.5, 4499101.5, 4491485.5, 4774301.0, 4734890.5, 4731307.5, 4591076.5, 4524215.5, 4130716.75], \"decreasing\": {\"line\": {\"color\": \"gray\"}}, \"high\": [731490.6875, 735039.75, 732415.8125, 725453.6875, 717307.0625, 713261.0, 695793.75, 620775.875, 604371.375, 584457.375, 584211.5625, 582515.0, 587364.75, 604270.875, 597178.3125, 597643.8125, 585018.4375, 581862.5625, 578038.1875, 590651.875, 593456.0, 613596.875, 612307.9375, 619682.5, 597902.9375, 600796.375, 597777.1875, 601366.0625, 586387.0, 578630.5625, 578563.875, 574598.1875, 588340.3125, 588397.375, 587767.9375, 572377.4375, 534905.875, 615708.6875, 709940.375, 690656.625, 693664.0625, 674645.75, 667821.9375, 666016.75, 655835.375, 661320.125, 661483.75, 672853.1875, 669325.125, 669144.0625, 665602.125, 661861.75, 634671.3125, 649746.3125, 649933.5625, 635611.9375, 637591.25, 635238.0625, 625436.125, 615620.8125, 625299.125, 622561.0625, 604244.375, 591254.25, 581903.625, 552615.125, 534299.125, 531889.3125, 524756.125, 522945.53125, 542812.5625, 553143.9375, 558330.75, 562271.625, 543275.375, 535458.5625, 532347.625, 539020.0, 552842.25, 538078.25, 541140.8125, 544293.375, 540655.875, 525859.8125, 518105.65625, 512805.96875, 515578.15625, 516658.0, 507606.65625, 508462.75, 494693.0, 520073.25, 523310.96875, 516034.625, 513567.78125, 534532.625, 545278.25, 536995.125, 524261.21875, 526791.875, 525958.5, 528495.0, 536733.5625, 531692.9375, 523013.53125, 516711.40625, 514590.875, 532015.625, 532996.625, 541420.625, 558713.125, 588557.5625, 599920.875, 575428.375, 579751.875, 583178.8125, 581895.4375, 579820.625, 629158.6875, 628744.6875, 627706.0, 636418.125, 640259.875, 651116.0, 621273.625, 623231.1875, 625266.25, 619705.5625, 607312.875, 603303.375, 613582.25, 641458.5625, 666709.6875, 670772.625, 683717.25, 680792.4375, 674902.1875, 677009.5625, 680458.4375, 663546.3125, 690635.5625, 700524.8125, 703339.625, 706345.625, 724414.5, 724824.125, 727826.625, 741127.9375, 745404.0, 738300.375, 739699.4375, 719139.875, 710903.25, 727619.875, 730122.0, 690410.4375, 697942.375, 697181.5625, 714347.8125, 715378.75, 695472.0, 672421.4375, 640131.1875, 637712.875, 633381.25, 629856.5625, 645929.5, 651223.125, 650208.5, 674889.3125, 678042.875, 678126.9375, 659708.6875, 605200.0625, 600579.75, 585056.6875, 588143.0, 430809.0625, 416036.125, 431477.59375, 398106.4375, 397345.53125, 399461.0, 475737.875, 514568.625, 482331.15625, 480936.84375, 493379.84375, 516593.65625, 523761.90625, 510282.125, 506582.34375, 484260.625, 468010.0, 491463.03125, 490440.46875, 506430.5625, 540461.0, 534118.125, 525689.625, 526030.5, 552472.875, 560828.0, 557804.0, 557722.5, 554439.9375, 527603.75, 542372.625, 530616.25, 528885.125, 526873.0, 548413.8125, 556158.9375, 556967.1875, 554054.375, 532105.5, 546419.25, 569225.8125, 578047.5, 583173.625, 587412.875, 593921.875, 594383.875, 667758.25, 707954.4375, 684844.9375, 683024.0625, 691337.8125, 677503.125, 684506.8125, 717596.6875, 756565.5625, 757394.25, 748843.625, 724504.75, 685381.1875, 672719.0625, 702900.625, 739127.375, 736516.125, 725703.1875, 745339.9375, 751174.4375, 744117.625, 742369.875, 721803.0, 701472.3125, 706944.5, 705873.125, 679157.5625, 680399.8125, 698497.9375, 722656.25, 724728.5, 732879.4375, 732601.0, 770001.875, 763553.9375, 729389.9375, 745624.75, 745899.25, 738524.5, 738194.1875, 738466.4375, 741707.875, 749608.5, 751236.4375, 724027.375, 721075.875, 720244.875, 721046.75, 726470.375, 728927.0, 724326.625, 718565.4375, 716387.75, 716855.625, 731543.6875, 730299.75, 732440.75, 705446.875, 705131.9375, 696368.3125, 695592.0625, 697373.9375, 695808.25, 703142.5625, 692955.75, 687875.6875, 685803.4375, 684226.8125, 699483.0625, 698375.5625, 708260.5, 706637.0625, 698034.3125, 698489.8125, 700778.375, 699493.1875, 699261.375, 698685.6875, 692463.4375, 688381.1875, 691377.9375, 689162.125, 690701.75, 701946.875, 711032.5, 719008.0, 719101.0, 725170.125, 749026.0, 844274.75, 838111.1875, 845689.875, 836322.375, 855488.1875, 883781.3125, 901717.1875, 861675.75, 855775.9375, 882705.0625, 892378.25, 892382.75, 885308.8125, 885755.375, 902903.8125, 893479.0625, 877887.6875, 882652.9375, 909529.1875, 895502.0, 893383.4375, 923830.75, 922063.25, 897081.625, 892342.1875, 892505.75, 875879.125, 877679.125, 875105.5, 873591.0625, 856043.6875, 855094.4375, 844313.5625, 847240.5, 856720.3125, 863236.4375, 881649.3125, 874225.9375, 838189.375, 780135.0625, 775059.875, 758517.0, 764267.625, 768096.375, 759233.0, 770357.4375, 766641.25, 777296.0, 777176.75, 792928.1875, 805171.375, 815449.0, 812299.5625, 810188.4375, 819582.25, 816768.625, 806349.1875, 776882.5625, 782580.75, 795888.3125, 792858.25, 794370.0, 796303.375, 807396.0625, 800548.1875, 800413.8125, 799047.4375, 781770.75, 778252.8125, 784609.8125, 789945.875, 789906.0625, 783910.625, 802138.375, 834837.4375, 833859.9375, 845284.3125, 848900.8125, 846780.875, 836258.375, 843384.5, 865449.4375, 881448.0, 971858.125, 969913.375, 958655.4375, 970554.8125, 984149.0, 978685.3125, 1015658.9375, 1019734.375, 1012870.4375, 1016995.625, 1046699.1875, 1034299.8125, 1031586.0625, 1044144.625, 1056543.875, 1164434.25, 1176536.375, 1164248.375, 1156867.0, 1167243.875, 1145966.25, 1185911.125, 1217627.5, 1229186.25, 1216295.125, 1201782.75, 1249956.125, 1323503.75, 1370303.875, 1343927.625, 1391527.125, 1404390.0, 1386023.5, 1385646.625, 1432885.5, 1432784.125, 1392131.875, 1288080.625, 1320521.125, 1352301.875, 1460409.875, 1461725.75, 1423786.75, 1444759.0, 1441099.75, 1414013.375, 1431076.625, 1432650.625, 1422506.5, 1374761.0, 1369559.125, 1348075.625, 1395095.5, 1429161.5, 1421642.25, 1434595.25, 1579503.5, 1737833.625, 1708066.25, 1772890.0, 1782002.875, 1773343.25, 1763343.25, 1772905.25, 1748355.125, 1817651.625, 1965356.0, 2089131.0, 2013748.875, 2010052.25, 2117999.5, 2140422.25, 2163227.25, 2423382.25, 2529617.25, 2437574.75, 2518591.25, 2697471.5, 2951202.0, 3074446.0, 3038962.0, 3039347.25, 2812961.5, 2680655.75, 2751168.5, 2920723.25, 2891636.5, 2770214.0, 2686699.0, 2734263.25, 2762476.0, 2662615.25, 2592080.25, 2467827.25, 2435331.5, 2404893.0, 2538292.5, 2391150.75, 2374574.0, 2331062.75, 2798397.5, 2539702.75, 2499854.0, 2530964.0, 2617681.5, 2729425.25, 2814054.75, 2785829.25, 2973150.75, 2884006.0, 3369659.75, 3498895.5, 3435026.25, 3524534.75, 3546137.5, 3487831.5, 3592359.75, 3548124.5, 3660943.5, 3821847.5, 3819792.25, 4071219.25, 4172082.0, 4232134.0, 4174758.75, 3927589.0, 3712092.75, 3773175.5, 3578067.25, 3551267.0, 3438161.25, 3649731.0, 3674925.5, 3825755.5, 3775394.25, 3613869.75, 3596637.75, 3760474.75, 3837072.25, 3989882.75, 4164058.0, 4219685.5, 4212831.0, 4483754.0, 4477506.5, 4402540.0, 4121218.25, 4263208.0, 4366282.5, 4311526.0, 4348789.5, 4257267.0, 4231253.5, 4061500.0, 4158823.5, 3876474.0, 3994554.75, 4098219.75, 4101269.5, 4238953.5, 4367168.5, 4399296.0, 4372515.0, 4416861.5, 4410660.0, 4322864.0, 4385289.0, 4357601.5, 4339996.5, 4348846.0, 4402753.5, 4579187.0, 4542860.0, 4587947.0, 4798035.0, 4874119.0, 4769128.5, 4750986.0, 4665594.0, 4546303.0], \"increasing\": {\"line\": {\"color\": \"cyan\"}}, \"low\": [725478.5, 703342.8125, 721472.4375, 712110.4375, 706490.9375, 688686.5, 594059.875, 591001.3125, 560365.0625, 562864.125, 572917.0625, 563392.5625, 553209.5, 585425.875, 585413.625, 578623.25, 577311.3125, 571635.125, 563691.75, 562024.875, 582990.0625, 580995.25, 601422.375, 590864.6875, 590662.875, 587010.4375, 590219.5, 585063.5, 569850.3125, 569107.0625, 561768.8125, 564798.1875, 564728.125, 581285.75, 572027.25, 528267.875, 528807.625, 529882.0625, 613660.1875, 645532.4375, 654827.125, 654544.8125, 643629.0, 640858.375, 645681.4375, 652300.4375, 644660.3125, 650656.1875, 655136.25, 660812.5625, 653799.5625, 626371.3125, 627629.625, 628501.875, 622689.5, 623526.8125, 632166.125, 625566.4375, 607811.8125, 607164.375, 609048.625, 595243.0, 582071.4375, 574980.125, 545115.9375, 498004.1875, 513418.875, 504658.8125, 474380.71875, 507110.625, 496826.96875, 533397.5625, 535339.125, 539292.25, 523165.25, 518164.5, 518749.75, 512650.0, 516376.9375, 527039.875, 536560.625, 532992.375, 522763.90625, 513253.1875, 509006.53125, 505615.03125, 510881.6875, 501698.15625, 489461.40625, 489497.0, 467976.6875, 464342.875, 501569.625, 503819.875, 505711.96875, 509586.90625, 521776.5625, 518026.59375, 514567.78125, 513393.3125, 513559.0, 520485.40625, 520012.625, 518960.84375, 511212.3125, 511056.875, 494834.96875, 496227.03125, 524538.0625, 531089.4375, 531963.5, 559052.1875, 568486.875, 558348.9375, 548531.5, 569787.375, 568341.3125, 571468.4375, 576826.625, 612270.9375, 611076.4375, 616468.6875, 627126.375, 612445.4375, 608123.25, 608199.0, 614155.625, 594446.625, 589636.5625, 591732.0, 593831.625, 614277.6875, 634641.3125, 661005.75, 660655.3125, 659991.25, 665887.25, 659065.1875, 659650.5, 648012.0, 652364.125, 680217.625, 695564.8125, 692196.9375, 704458.5625, 697644.3125, 693558.5, 727492.5, 721064.8125, 724248.0625, 706287.1875, 695422.5, 678785.4375, 689702.625, 688591.8125, 684231.1875, 689003.875, 690172.375, 694274.4375, 687787.6875, 668640.1875, 623430.1875, 614757.875, 613249.0625, 620669.5625, 611409.75, 615842.625, 637684.0625, 639858.4375, 643614.375, 667335.3125, 657962.1875, 599818.8125, 571518.875, 577471.9375, 565759.1875, 361788.21875, 309974.40625, 379045.0, 382315.03125, 339365.6875, 370185.75, 376360.15625, 390219.625, 443687.71875, 448655.53125, 439904.5625, 440036.40625, 488411.0625, 497116.90625, 496497.1875, 484200.75, 458079.21875, 446353.15625, 445531.84375, 481058.0, 475039.78125, 503136.65625, 510159.78125, 511745.34375, 513231.3125, 517127.5, 539678.3125, 541362.1875, 547764.875, 517736.4375, 517232.40625, 518844.0625, 508771.53125, 517808.09375, 507432.75, 501604.90625, 542327.4375, 548286.8125, 523975.46875, 525722.4375, 528578.875, 539298.8125, 564956.1875, 573918.625, 576950.5625, 585797.625, 588210.75, 591778.6875, 643129.3125, 653642.0, 664460.75, 667630.25, 654676.875, 670900.3125, 680948.6875, 695609.125, 738056.4375, 723377.0, 634124.4375, 636116.9375, 650758.1875, 663653.25, 698492.375, 702727.125, 702673.6875, 709415.5, 727210.4375, 721839.4375, 713875.875, 670624.375, 683291.75, 692931.5625, 667787.1875, 661574.3125, 661631.0625, 666890.5625, 692675.375, 709007.6875, 707405.375, 712357.25, 713482.375, 709429.875, 712922.25, 719737.1875, 730684.625, 724741.0, 714700.4375, 730342.125, 730532.0625, 735070.0625, 705290.5625, 705493.0, 713692.6875, 710019.25, 684210.75, 714233.125, 711676.0, 712640.0, 707185.9375, 705133.5, 709179.6875, 708956.6875, 723541.9375, 702283.5, 689129.875, 688660.8125, 680517.125, 678801.0625, 682942.5, 686641.0625, 687681.0625, 675871.6875, 676505.8125, 676120.0625, 670295.0, 676498.6875, 688525.9375, 692829.625, 693951.125, 686015.6875, 691421.375, 691606.875, 693621.25, 691401.0, 688936.375, 684093.1875, 683085.375, 681629.375, 681390.3125, 683883.625, 683920.125, 697086.8125, 710468.4375, 709836.6875, 712142.25, 721306.125, 740086.625, 796006.5, 813217.8125, 815859.1875, 821144.875, 842188.3125, 825587.375, 825028.625, 834275.4375, 837241.1875, 867960.875, 855681.0625, 867180.0625, 865821.0625, 874961.3125, 836220.375, 841526.75, 839458.8125, 874945.5625, 880942.3125, 878583.75, 883527.0625, 892194.375, 876323.25, 878565.0625, 866555.8125, 857851.0, 866176.8125, 870837.75, 830927.5625, 838498.4375, 826108.625, 837245.6875, 838512.8125, 840420.625, 853660.75, 852007.75, 827301.8125, 747916.3125, 748254.3125, 728556.1875, 736628.6875, 728510.75, 734651.8125, 738947.5625, 750737.4375, 745097.875, 756248.5625, 751248.0, 754339.6875, 784334.625, 787992.4375, 793557.125, 796956.625, 803058.625, 796055.25, 764050.5, 764245.6875, 750730.5, 753411.25, 781079.5625, 787264.125, 784417.5625, 790289.0, 786830.4375, 788336.5625, 768765.125, 766867.0, 771938.75, 772185.4375, 780011.75, 777761.1875, 778694.6875, 774026.0, 806727.625, 823631.8125, 828964.625, 830131.0, 823297.9375, 828846.6875, 833417.375, 837054.75, 856953.375, 874730.875, 937535.9375, 941559.1875, 951408.125, 953203.375, 948453.0, 965728.0625, 957976.625, 966485.5, 980091.75, 1004118.1875, 1016865.875, 986205.625, 991763.875, 1016294.625, 1046237.5, 1126938.375, 1067045.125, 1090786.25, 1101734.75, 1124124.875, 1135822.75, 1159283.125, 1191920.875, 1173911.75, 1177216.875, 1184542.625, 1232982.75, 1285986.75, 1290906.875, 1316624.0, 1367882.5, 1310556.75, 1334219.875, 1340972.125, 1371111.125, 1206936.125, 1223648.75, 1250753.25, 1298715.375, 1344275.625, 1349377.375, 1347150.0, 1397163.375, 1379825.75, 1371929.375, 1394637.125, 1397255.875, 1346952.625, 1319207.5, 1323462.625, 1300480.0, 1330684.375, 1381437.875, 1401962.0, 1405073.0, 1423360.875, 1563722.75, 1646619.375, 1680190.375, 1703835.875, 1640704.25, 1657446.625, 1683869.25, 1678788.625, 1726106.125, 1803865.75, 1914396.625, 1932164.125, 1907740.5, 2009271.625, 2058085.375, 2104315.0, 2126340.0, 2342776.0, 2097177.5, 2209558.75, 2454056.75, 2671167.0, 2704389.0, 2860393.25, 2640494.25, 2245556.0, 2397142.75, 2383596.25, 2697886.5, 2536069.75, 2605899.75, 2492596.75, 2555848.5, 2640030.25, 2448464.5, 2207020.75, 2112309.25, 2298981.75, 2270769.5, 2340924.5, 2262643.25, 2145692.75, 2194028.5, 2340426.75, 2401578.5, 2352716.75, 2361031.75, 2448733.25, 2585644.0, 2649159.75, 2675466.75, 2776028.5, 2725642.0, 2773193.75, 3293362.0, 3196202.75, 3218205.5, 3373314.5, 3367664.5, 3420091.75, 3363142.0, 3427775.25, 3579116.0, 3702869.5, 3697975.0, 3963230.75, 4040189.0, 3551176.75, 3283611.25, 3417438.25, 3444981.25, 3252707.5, 3331637.25, 3182427.5, 3324702.5, 3460037.0, 3537433.5, 3487875.0, 3403796.0, 3458348.25, 3579913.0, 3619412.5, 3812786.5, 3889622.0, 3960319.25, 4026679.75, 4086442.25, 4310706.5, 4017405.25, 3886201.75, 3958972.0, 3941986.5, 4116323.5, 4217090.5, 4057161.75, 3929445.0, 3868578.0, 3815234.25, 3695673.25, 3745370.5, 3929757.5, 3989758.5, 4002151.5, 4167999.0, 4242098.0, 4296275.5, 4314397.0, 4226751.5, 4194817.5, 4235815.0, 4236046.0, 4137898.5, 4157496.0, 4327570.5, 4337215.0, 4430708.5, 4473311.5, 4489723.5, 4619650.0, 4671974.0, 4480725.0, 4500174.0, 3977803.5], \"open\": [734975.875, 726121.0, 732944.3125, 725136.875, 713777.125, 716845.5625, 688840.6875, 610569.0, 602520.75, 575799.3125, 583026.75, 581420.875, 571411.375, 586339.6875, 593356.9375, 597016.9375, 586653.5, 581483.8125, 577213.0, 565835.625, 586272.6875, 586129.25, 610579.5, 609467.625, 590828.0, 592336.875, 590146.6875, 596583.75, 586634.1875, 574326.5, 576219.4375, 566861.6875, 568568.125, 584312.125, 584617.9375, 572152.3125, 531125.5625, 531911.8125, 614011.1875, 654682.5, 677591.8125, 654281.875, 668001.6875, 651923.75, 652589.5625, 654713.0, 657603.625, 651314.4375, 666337.3125, 661076.3125, 664113.4375, 658276.625, 628793.5, 629009.0625, 646398.4375, 626922.3125, 632615.8125, 635794.3125, 626513.25, 608264.6875, 612573.75, 614279.5625, 597513.6875, 589519.8125, 575922.75, 548429.9375, 523810.625, 531167.1875, 505426.125, 512232.125, 515848.15625, 536908.8125, 534299.625, 557102.1875, 543293.75, 532686.25, 524652.875, 525262.875, 518535.03125, 531932.8125, 538097.375, 538387.8125, 539102.4375, 524974.5625, 515459.875, 510507.03125, 511255.03125, 513835.09375, 503608.9375, 505668.96875, 491456.25, 472219.21875, 516708.28125, 513483.46875, 513380.59375, 511289.90625, 533883.4375, 523785.0, 522033.34375, 518402.1875, 516085.25, 520637.28125, 522681.28125, 530042.1875, 520253.96875, 513003.0, 513023.28125, 498342.4375, 527111.5, 531781.4375, 531801.0625, 557766.4375, 587385.9375, 577455.0, 560905.1875, 579442.125, 570044.1875, 581165.125, 575799.3125, 625320.625, 623253.9375, 619102.5, 634222.1875, 635233.375, 618452.75, 615121.75, 622412.9375, 617277.5625, 599577.4375, 601995.75, 596595.75, 613219.0, 636799.875, 666629.9375, 664325.1875, 680510.0, 668255.25, 671362.8125, 668135.5625, 662803.5625, 653032.6875, 684692.6875, 693493.1875, 700361.25, 705426.3125, 723422.1875, 702730.0, 727280.1875, 736161.375, 727864.0, 737718.1875, 707342.375, 710741.875, 691560.3125, 726143.75, 689694.625, 690914.125, 696425.0, 694671.8125, 713210.5625, 695369.375, 671236.3125, 632523.625, 630099.125, 625844.75, 620687.5625, 618053.625, 642066.875, 645303.125, 643837.125, 670483.9375, 674971.0625, 659254.4375, 600255.0, 589673.125, 587146.1875, 586993.3125, 373510.28125, 412179.25, 384665.6875, 398106.4375, 371721.5625, 386936.5625, 393314.4375, 465365.9375, 469353.3125, 467767.96875, 440483.21875, 492860.15625, 511879.65625, 506285.0, 502113.71875, 484242.125, 467647.375, 446764.25, 484932.0625, 484955.40625, 505986.5625, 517771.28125, 514947.21875, 524435.125, 517520.90625, 552614.4375, 543076.875, 557457.9375, 554439.9375, 523137.5625, 522423.625, 530616.25, 521860.125, 520029.9375, 507998.71875, 542560.3125, 555467.8125, 550298.9375, 526942.625, 529509.8125, 544139.0, 564956.1875, 576237.75, 577616.75, 585797.625, 594026.25, 593869.875, 662188.3125, 654020.5, 672797.8125, 681236.4375, 671924.5, 674166.5625, 684050.3125, 705988.4375, 752287.75, 742752.25, 724171.625, 661337.5, 653852.0625, 663653.25, 699393.8125, 734890.125, 708178.25, 711341.5625, 733708.0625, 735463.25, 736304.6875, 719347.8125, 686809.25, 698019.6875, 700088.3125, 667700.25, 676091.4375, 667133.9375, 697097.8125, 721296.375, 712857.0, 732583.0, 714721.75, 767442.6875, 715661.75, 727355.75, 739504.6875, 730323.6875, 729424.375, 737059.9375, 737029.25, 739555.375, 746964.0, 708139.9375, 720128.25, 719886.5625, 712935.5625, 718318.625, 728417.8125, 724233.8125, 718952.5625, 708456.625, 711504.125, 709216.6875, 730925.0, 728311.375, 705492.0, 699574.1875, 693344.1875, 684317.0, 691169.5, 693612.875, 691047.75, 696538.0625, 683359.4375, 678405.5625, 681531.4375, 677556.375, 697519.875, 693084.9375, 706535.1875, 696777.8125, 697285.75, 694885.75, 697263.0, 694861.8125, 696166.75, 690785.125, 686536.5, 685401.1875, 685912.125, 688100.1875, 684901.125, 698851.3125, 710820.5625, 717512.1875, 712835.1875, 723352.625, 740514.6875, 824131.0, 817385.625, 830441.75, 830702.6875, 848399.0625, 881083.0625, 827377.75, 845327.125, 840975.75, 878861.4375, 882280.875, 870640.375, 880598.75, 874961.3125, 889652.125, 850971.125, 866455.0625, 880876.875, 880942.3125, 888277.1875, 891020.9375, 915791.25, 894240.0, 881780.8125, 890723.125, 868091.75, 875151.4375, 873867.5625, 873526.75, 843860.0625, 852933.3125, 835515.1875, 843980.0, 841615.0, 856577.125, 857703.3125, 874225.9375, 835608.125, 751434.625, 770002.875, 744710.0, 753499.9375, 761576.3125, 747769.125, 751045.0, 762481.8125, 764880.1875, 768005.6875, 758943.4375, 783743.5, 794827.0625, 807095.875, 805874.875, 804835.1875, 816768.625, 804100.375, 769619.6875, 774684.3125, 754602.875, 794533.8125, 788749.5625, 792486.3125, 793865.125, 790205.375, 799594.25, 793077.375, 778282.8125, 776032.1875, 774867.375, 783675.0, 789637.125, 781813.0, 783079.9375, 806888.3125, 824175.6875, 839104.125, 837519.0625, 843979.75, 831547.75, 834034.5625, 844242.1875, 862122.875, 875385.4375, 943810.8125, 956355.9375, 954791.75, 967822.6875, 962173.1875, 966898.0, 1007752.5625, 984617.5625, 998198.8125, 1010759.0625, 1028253.1875, 1025270.25, 1008970.625, 1041569.25, 1048592.375, 1155042.0, 1151581.75, 1097418.125, 1145149.5, 1133940.75, 1135889.75, 1170433.75, 1218901.875, 1216295.125, 1197685.375, 1189295.25, 1241721.625, 1315538.125, 1321763.125, 1320301.125, 1381006.125, 1382557.375, 1362158.5, 1363496.875, 1412987.0, 1382083.375, 1266534.25, 1265269.625, 1310587.625, 1344275.625, 1452909.75, 1385124.625, 1414763.25, 1437894.25, 1379913.75, 1413550.75, 1427580.5, 1416529.5, 1350722.75, 1369559.125, 1347741.875, 1331073.625, 1386779.0, 1411724.25, 1417577.125, 1427783.25, 1568419.375, 1676984.625, 1702743.125, 1756395.375, 1727637.0, 1685287.375, 1762755.625, 1716057.0, 1745797.625, 1815217.875, 1944855.25, 1937559.5, 1991735.75, 2009271.625, 2110904.75, 2118227.0, 2147191.25, 2348410.75, 2398054.25, 2337193.75, 2488716.75, 2694120.0, 2892413.25, 2993046.0, 2953790.0, 2812961.5, 2611118.25, 2480764.0, 2731080.0, 2861983.75, 2693927.0, 2644665.75, 2618066.0, 2681825.0, 2638588.75, 2591876.25, 2248304.5, 2407940.5, 2340680.25, 2356729.75, 2361225.75, 2374574.0, 2223394.0, 2503171.25, 2500422.25, 2498581.5, 2414400.5, 2451949.25, 2589383.5, 2730370.75, 2695498.5, 2776028.5, 2856954.75, 2830768.5, 3368278.5, 3385593.75, 3268965.0, 3481127.25, 3447431.5, 3420091.75, 3535127.25, 3482635.0, 3588945.0, 3795542.0, 3751968.0, 4054701.75, 4068924.0, 4174711.5, 3927589.0, 3534798.75, 3598731.25, 3451317.0, 3410808.5, 3399713.25, 3327975.25, 3637128.0, 3547802.0, 3688131.0, 3548951.5, 3578489.75, 3579913.0, 3745088.0, 3833210.5, 3989875.0, 4068867.25, 4200090.0, 4168246.5, 4450118.5, 4308170.5, 4049325.25, 4120767.25, 4273873.5, 4204006.0, 4225708.5, 4224089.5, 4165014.25, 3945595.0, 3972662.75, 3830379.5, 3752861.0, 3994573.0, 4055238.5, 4053282.5, 4200868.5, 4328166.5, 4313645.0, 4331211.5, 4358353.0, 4226821.5, 4311653.0, 4336104.5, 4275605.5, 4173926.0, 4347938.5, 4353287.5, 4472291.0, 4496932.5, 4491228.0, 4775827.0, 4732302.0, 4727160.0, 4587880.0, 4212293.5], \"type\": \"candlestick\", \"visible\": true, \"x\": [\"2019-09-17T00:00:00\", \"2019-09-18T00:00:00\", \"2019-09-19T00:00:00\", \"2019-09-20T00:00:00\", \"2019-09-21T00:00:00\", \"2019-09-22T00:00:00\", \"2019-09-23T00:00:00\", \"2019-09-24T00:00:00\", \"2019-09-25T00:00:00\", \"2019-09-26T00:00:00\", \"2019-09-27T00:00:00\", \"2019-09-28T00:00:00\", \"2019-09-29T00:00:00\", \"2019-09-30T00:00:00\", \"2019-10-01T00:00:00\", \"2019-10-02T00:00:00\", \"2019-10-03T00:00:00\", \"2019-10-04T00:00:00\", \"2019-10-05T00:00:00\", \"2019-10-06T00:00:00\", \"2019-10-07T00:00:00\", \"2019-10-08T00:00:00\", \"2019-10-09T00:00:00\", \"2019-10-10T00:00:00\", \"2019-10-11T00:00:00\", \"2019-10-12T00:00:00\", \"2019-10-13T00:00:00\", \"2019-10-14T00:00:00\", \"2019-10-15T00:00:00\", \"2019-10-16T00:00:00\", \"2019-10-17T00:00:00\", \"2019-10-18T00:00:00\", \"2019-10-19T00:00:00\", \"2019-10-20T00:00:00\", \"2019-10-21T00:00:00\", \"2019-10-22T00:00:00\", \"2019-10-23T00:00:00\", \"2019-10-24T00:00:00\", \"2019-10-25T00:00:00\", \"2019-10-26T00:00:00\", \"2019-10-28T00:00:00\", \"2019-10-29T00:00:00\", \"2019-10-30T00:00:00\", \"2019-10-31T00:00:00\", \"2019-11-01T00:00:00\", \"2019-11-02T00:00:00\", \"2019-11-03T00:00:00\", \"2019-11-04T00:00:00\", \"2019-11-05T00:00:00\", \"2019-11-06T00:00:00\", \"2019-11-07T00:00:00\", \"2019-11-08T00:00:00\", \"2019-11-09T00:00:00\", \"2019-11-10T00:00:00\", \"2019-11-11T00:00:00\", \"2019-11-12T00:00:00\", \"2019-11-13T00:00:00\", \"2019-11-14T00:00:00\", \"2019-11-15T00:00:00\", \"2019-11-16T00:00:00\", \"2019-11-17T00:00:00\", \"2019-11-18T00:00:00\", \"2019-11-19T00:00:00\", \"2019-11-20T00:00:00\", \"2019-11-21T00:00:00\", \"2019-11-22T00:00:00\", \"2019-11-23T00:00:00\", \"2019-11-24T00:00:00\", \"2019-11-25T00:00:00\", \"2019-11-26T00:00:00\", \"2019-11-27T00:00:00\", \"2019-11-28T00:00:00\", \"2019-11-29T00:00:00\", \"2019-11-30T00:00:00\", \"2019-12-01T00:00:00\", \"2019-12-02T00:00:00\", \"2019-12-03T00:00:00\", \"2019-12-04T00:00:00\", \"2019-12-05T00:00:00\", \"2019-12-06T00:00:00\", \"2019-12-07T00:00:00\", \"2019-12-08T00:00:00\", \"2019-12-09T00:00:00\", \"2019-12-10T00:00:00\", \"2019-12-11T00:00:00\", \"2019-12-12T00:00:00\", \"2019-12-13T00:00:00\", \"2019-12-14T00:00:00\", \"2019-12-15T00:00:00\", \"2019-12-16T00:00:00\", \"2019-12-17T00:00:00\", \"2019-12-18T00:00:00\", \"2019-12-19T00:00:00\", \"2019-12-20T00:00:00\", \"2019-12-21T00:00:00\", \"2019-12-22T00:00:00\", \"2019-12-23T00:00:00\", \"2019-12-24T00:00:00\", \"2019-12-25T00:00:00\", \"2019-12-26T00:00:00\", \"2019-12-27T00:00:00\", \"2019-12-28T00:00:00\", \"2019-12-29T00:00:00\", \"2019-12-30T00:00:00\", \"2019-12-31T00:00:00\", \"2020-01-01T00:00:00\", \"2020-01-02T00:00:00\", \"2020-01-03T00:00:00\", \"2020-01-04T00:00:00\", \"2020-01-05T00:00:00\", \"2020-01-06T00:00:00\", \"2020-01-07T00:00:00\", \"2020-01-08T00:00:00\", \"2020-01-09T00:00:00\", \"2020-01-10T00:00:00\", \"2020-01-11T00:00:00\", \"2020-01-12T00:00:00\", \"2020-01-13T00:00:00\", \"2020-01-14T00:00:00\", \"2020-01-15T00:00:00\", \"2020-01-16T00:00:00\", \"2020-01-17T00:00:00\", \"2020-01-18T00:00:00\", \"2020-01-19T00:00:00\", \"2020-01-20T00:00:00\", \"2020-01-21T00:00:00\", \"2020-01-22T00:00:00\", \"2020-01-23T00:00:00\", \"2020-01-24T00:00:00\", \"2020-01-25T00:00:00\", \"2020-01-26T00:00:00\", \"2020-01-27T00:00:00\", \"2020-01-28T00:00:00\", \"2020-01-29T00:00:00\", \"2020-01-30T00:00:00\", \"2020-01-31T00:00:00\", \"2020-02-01T00:00:00\", \"2020-02-02T00:00:00\", \"2020-02-03T00:00:00\", \"2020-02-04T00:00:00\", \"2020-02-05T00:00:00\", \"2020-02-06T00:00:00\", \"2020-02-07T00:00:00\", \"2020-02-08T00:00:00\", \"2020-02-09T00:00:00\", \"2020-02-10T00:00:00\", \"2020-02-11T00:00:00\", \"2020-02-12T00:00:00\", \"2020-02-13T00:00:00\", \"2020-02-14T00:00:00\", \"2020-02-15T00:00:00\", \"2020-02-16T00:00:00\", \"2020-02-17T00:00:00\", \"2020-02-18T00:00:00\", \"2020-02-19T00:00:00\", \"2020-02-20T00:00:00\", \"2020-02-21T00:00:00\", \"2020-02-22T00:00:00\", \"2020-02-23T00:00:00\", \"2020-02-24T00:00:00\", \"2020-02-25T00:00:00\", \"2020-02-26T00:00:00\", \"2020-02-27T00:00:00\", \"2020-02-28T00:00:00\", \"2020-02-29T00:00:00\", \"2020-03-01T00:00:00\", \"2020-03-02T00:00:00\", \"2020-03-03T00:00:00\", \"2020-03-04T00:00:00\", \"2020-03-05T00:00:00\", \"2020-03-06T00:00:00\", \"2020-03-07T00:00:00\", \"2020-03-08T00:00:00\", \"2020-03-09T00:00:00\", \"2020-03-10T00:00:00\", \"2020-03-11T00:00:00\", \"2020-03-12T00:00:00\", \"2020-03-13T00:00:00\", \"2020-03-14T00:00:00\", \"2020-03-15T00:00:00\", \"2020-03-16T00:00:00\", \"2020-03-17T00:00:00\", \"2020-03-18T00:00:00\", \"2020-03-19T00:00:00\", \"2020-03-20T00:00:00\", \"2020-03-21T00:00:00\", \"2020-03-22T00:00:00\", \"2020-03-23T00:00:00\", \"2020-03-24T00:00:00\", \"2020-03-25T00:00:00\", \"2020-03-26T00:00:00\", \"2020-03-27T00:00:00\", \"2020-03-28T00:00:00\", \"2020-03-29T00:00:00\", \"2020-03-29T00:00:00\", \"2020-03-30T00:00:00\", \"2020-03-31T00:00:00\", \"2020-04-01T00:00:00\", \"2020-04-02T00:00:00\", \"2020-04-03T00:00:00\", \"2020-04-04T00:00:00\", \"2020-04-05T00:00:00\", \"2020-04-06T00:00:00\", \"2020-04-07T00:00:00\", \"2020-04-08T00:00:00\", \"2020-04-09T00:00:00\", \"2020-04-10T00:00:00\", \"2020-04-11T00:00:00\", \"2020-04-12T00:00:00\", \"2020-04-13T00:00:00\", \"2020-04-14T00:00:00\", \"2020-04-15T00:00:00\", \"2020-04-17T00:00:00\", \"2020-04-18T00:00:00\", \"2020-04-19T00:00:00\", \"2020-04-20T00:00:00\", \"2020-04-21T00:00:00\", \"2020-04-22T00:00:00\", \"2020-04-23T00:00:00\", \"2020-04-24T00:00:00\", \"2020-04-25T00:00:00\", \"2020-04-26T00:00:00\", \"2020-04-27T00:00:00\", \"2020-04-28T00:00:00\", \"2020-04-29T00:00:00\", \"2020-04-30T00:00:00\", \"2020-05-01T00:00:00\", \"2020-05-02T00:00:00\", \"2020-05-03T00:00:00\", \"2020-05-04T00:00:00\", \"2020-05-05T00:00:00\", \"2020-05-06T00:00:00\", \"2020-05-07T00:00:00\", \"2020-05-08T00:00:00\", \"2020-05-09T00:00:00\", \"2020-05-10T00:00:00\", \"2020-05-11T00:00:00\", \"2020-05-12T00:00:00\", \"2020-05-13T00:00:00\", \"2020-05-14T00:00:00\", \"2020-05-15T00:00:00\", \"2020-05-16T00:00:00\", \"2020-05-17T00:00:00\", \"2020-05-18T00:00:00\", \"2020-05-19T00:00:00\", \"2020-05-20T00:00:00\", \"2020-05-21T00:00:00\", \"2020-05-22T00:00:00\", \"2020-05-23T00:00:00\", \"2020-05-24T00:00:00\", \"2020-05-25T00:00:00\", \"2020-05-26T00:00:00\", \"2020-05-27T00:00:00\", \"2020-05-28T00:00:00\", \"2020-05-29T00:00:00\", \"2020-05-30T00:00:00\", \"2020-05-31T00:00:00\", \"2020-06-01T00:00:00\", \"2020-06-02T00:00:00\", \"2020-06-03T00:00:00\", \"2020-06-04T00:00:00\", \"2020-06-05T00:00:00\", \"2020-06-06T00:00:00\", \"2020-06-07T00:00:00\", \"2020-06-08T00:00:00\", \"2020-06-09T00:00:00\", \"2020-06-10T00:00:00\", \"2020-06-11T00:00:00\", \"2020-06-12T00:00:00\", \"2020-06-13T00:00:00\", \"2020-06-14T00:00:00\", \"2020-06-15T00:00:00\", \"2020-06-16T00:00:00\", \"2020-06-17T00:00:00\", \"2020-06-18T00:00:00\", \"2020-06-19T00:00:00\", \"2020-06-20T00:00:00\", \"2020-06-21T00:00:00\", \"2020-06-22T00:00:00\", \"2020-06-23T00:00:00\", \"2020-06-24T00:00:00\", \"2020-06-25T00:00:00\", \"2020-06-26T00:00:00\", \"2020-06-27T00:00:00\", \"2020-06-28T00:00:00\", \"2020-06-29T00:00:00\", \"2020-06-30T00:00:00\", \"2020-07-01T00:00:00\", \"2020-07-02T00:00:00\", \"2020-07-03T00:00:00\", \"2020-07-04T00:00:00\", \"2020-07-05T00:00:00\", \"2020-07-06T00:00:00\", \"2020-07-07T00:00:00\", \"2020-07-08T00:00:00\", \"2020-07-09T00:00:00\", \"2020-07-10T00:00:00\", \"2020-07-11T00:00:00\", \"2020-07-12T00:00:00\", \"2020-07-13T00:00:00\", \"2020-07-14T00:00:00\", \"2020-07-15T00:00:00\", \"2020-07-16T00:00:00\", \"2020-07-17T00:00:00\", \"2020-07-18T00:00:00\", \"2020-07-19T00:00:00\", \"2020-07-20T00:00:00\", \"2020-07-21T00:00:00\", \"2020-07-22T00:00:00\", \"2020-07-23T00:00:00\", \"2020-07-24T00:00:00\", \"2020-07-25T00:00:00\", \"2020-07-26T00:00:00\", \"2020-07-27T00:00:00\", \"2020-07-28T00:00:00\", \"2020-07-29T00:00:00\", \"2020-07-30T00:00:00\", \"2020-07-31T00:00:00\", \"2020-08-01T00:00:00\", \"2020-08-02T00:00:00\", \"2020-08-03T00:00:00\", \"2020-08-04T00:00:00\", \"2020-08-05T00:00:00\", \"2020-08-06T00:00:00\", \"2020-08-07T00:00:00\", \"2020-08-08T00:00:00\", \"2020-08-09T00:00:00\", \"2020-08-10T00:00:00\", \"2020-08-11T00:00:00\", \"2020-08-12T00:00:00\", \"2020-08-13T00:00:00\", \"2020-08-14T00:00:00\", \"2020-08-15T00:00:00\", \"2020-08-16T00:00:00\", \"2020-08-17T00:00:00\", \"2020-08-18T00:00:00\", \"2020-08-19T00:00:00\", \"2020-08-20T00:00:00\", \"2020-08-21T00:00:00\", \"2020-08-22T00:00:00\", \"2020-08-23T00:00:00\", \"2020-08-24T00:00:00\", \"2020-08-25T00:00:00\", \"2020-08-26T00:00:00\", \"2020-08-27T00:00:00\", \"2020-08-28T00:00:00\", \"2020-08-29T00:00:00\", \"2020-08-30T00:00:00\", \"2020-08-31T00:00:00\", \"2020-09-01T00:00:00\", \"2020-09-02T00:00:00\", \"2020-09-03T00:00:00\", \"2020-09-04T00:00:00\", \"2020-09-05T00:00:00\", \"2020-09-06T00:00:00\", \"2020-09-07T00:00:00\", \"2020-09-08T00:00:00\", \"2020-09-09T00:00:00\", \"2020-09-10T00:00:00\", \"2020-09-11T00:00:00\", \"2020-09-12T00:00:00\", \"2020-09-13T00:00:00\", \"2020-09-14T00:00:00\", \"2020-09-15T00:00:00\", \"2020-09-16T00:00:00\", \"2020-09-17T00:00:00\", \"2020-09-18T00:00:00\", \"2020-09-19T00:00:00\", \"2020-09-20T00:00:00\", \"2020-09-21T00:00:00\", \"2020-09-22T00:00:00\", \"2020-09-23T00:00:00\", \"2020-09-24T00:00:00\", \"2020-09-25T00:00:00\", \"2020-09-26T00:00:00\", \"2020-09-27T00:00:00\", \"2020-09-28T00:00:00\", \"2020-09-29T00:00:00\", \"2020-09-30T00:00:00\", \"2020-10-01T00:00:00\", \"2020-10-02T00:00:00\", \"2020-10-03T00:00:00\", \"2020-10-04T00:00:00\", \"2020-10-05T00:00:00\", \"2020-10-06T00:00:00\", \"2020-10-07T00:00:00\", \"2020-10-09T00:00:00\", \"2020-10-10T00:00:00\", \"2020-10-13T00:00:00\", \"2020-10-14T00:00:00\", \"2020-10-15T00:00:00\", \"2020-10-16T00:00:00\", \"2020-10-17T00:00:00\", \"2020-10-18T00:00:00\", \"2020-10-19T00:00:00\", \"2020-10-20T00:00:00\", \"2020-10-21T00:00:00\", \"2020-10-22T00:00:00\", \"2020-10-23T00:00:00\", \"2020-10-24T00:00:00\", \"2020-10-26T00:00:00\", \"2020-10-27T00:00:00\", \"2020-10-28T00:00:00\", \"2020-10-29T00:00:00\", \"2020-10-30T00:00:00\", \"2020-10-31T00:00:00\", \"2020-11-01T00:00:00\", \"2020-11-02T00:00:00\", \"2020-11-03T00:00:00\", \"2020-11-04T00:00:00\", \"2020-11-05T00:00:00\", \"2020-11-06T00:00:00\", \"2020-11-07T00:00:00\", \"2020-11-08T00:00:00\", \"2020-11-09T00:00:00\", \"2020-11-10T00:00:00\", \"2020-11-11T00:00:00\", \"2020-11-12T00:00:00\", \"2020-11-13T00:00:00\", \"2020-11-14T00:00:00\", \"2020-11-15T00:00:00\", \"2020-11-16T00:00:00\", \"2020-11-17T00:00:00\", \"2020-11-18T00:00:00\", \"2020-11-19T00:00:00\", \"2020-11-20T00:00:00\", \"2020-11-21T00:00:00\", \"2020-11-22T00:00:00\", \"2020-11-23T00:00:00\", \"2020-11-24T00:00:00\", \"2020-11-25T00:00:00\", \"2020-11-26T00:00:00\", \"2020-11-27T00:00:00\", \"2020-11-28T00:00:00\", \"2020-11-29T00:00:00\", \"2020-11-30T00:00:00\", \"2020-12-01T00:00:00\", \"2020-12-02T00:00:00\", \"2020-12-03T00:00:00\", \"2020-12-04T00:00:00\", \"2020-12-05T00:00:00\", \"2020-12-06T00:00:00\", \"2020-12-07T00:00:00\", \"2020-12-08T00:00:00\", \"2020-12-09T00:00:00\", \"2020-12-10T00:00:00\", \"2020-12-11T00:00:00\", \"2020-12-12T00:00:00\", \"2020-12-13T00:00:00\", \"2020-12-14T00:00:00\", \"2020-12-15T00:00:00\", \"2020-12-16T00:00:00\", \"2020-12-17T00:00:00\", \"2020-12-18T00:00:00\", \"2020-12-19T00:00:00\", \"2020-12-20T00:00:00\", \"2020-12-21T00:00:00\", \"2020-12-22T00:00:00\", \"2020-12-23T00:00:00\", \"2020-12-24T00:00:00\", \"2020-12-25T00:00:00\", \"2020-12-26T00:00:00\", \"2020-12-27T00:00:00\", \"2020-12-28T00:00:00\", \"2020-12-29T00:00:00\", \"2020-12-30T00:00:00\", \"2020-12-31T00:00:00\", \"2021-01-01T00:00:00\", \"2021-01-02T00:00:00\", \"2021-01-03T00:00:00\", \"2021-01-04T00:00:00\", \"2021-01-05T00:00:00\", \"2021-01-06T00:00:00\", \"2021-01-07T00:00:00\", \"2021-01-08T00:00:00\", \"2021-01-09T00:00:00\", \"2021-01-10T00:00:00\", \"2021-01-11T00:00:00\", \"2021-01-12T00:00:00\", \"2021-01-13T00:00:00\", \"2021-01-14T00:00:00\", \"2021-01-15T00:00:00\", \"2021-01-16T00:00:00\", \"2021-01-17T00:00:00\", \"2021-01-18T00:00:00\", \"2021-01-19T00:00:00\", \"2021-01-20T00:00:00\", \"2021-01-21T00:00:00\", \"2021-01-22T00:00:00\", \"2021-01-23T00:00:00\", \"2021-01-24T00:00:00\", \"2021-01-25T00:00:00\", \"2021-01-26T00:00:00\", \"2021-01-27T00:00:00\", \"2021-01-28T00:00:00\", \"2021-01-29T00:00:00\", \"2021-01-30T00:00:00\", \"2021-01-31T00:00:00\", \"2021-02-01T00:00:00\", \"2021-02-02T00:00:00\", \"2021-02-03T00:00:00\", \"2021-02-04T00:00:00\", \"2021-02-05T00:00:00\", \"2021-02-06T00:00:00\", \"2021-02-07T00:00:00\", \"2021-02-08T00:00:00\", \"2021-02-09T00:00:00\", \"2021-02-10T00:00:00\", \"2021-02-11T00:00:00\", \"2021-02-12T00:00:00\", \"2021-02-13T00:00:00\", \"2021-02-14T00:00:00\", \"2021-02-15T00:00:00\", \"2021-02-16T00:00:00\", \"2021-02-17T00:00:00\", \"2021-02-18T00:00:00\", \"2021-02-19T00:00:00\", \"2021-02-20T00:00:00\", \"2021-02-21T00:00:00\", \"2021-02-22T00:00:00\", \"2021-02-23T00:00:00\", \"2021-02-24T00:00:00\", \"2021-02-25T00:00:00\", \"2021-02-26T00:00:00\", \"2021-02-27T00:00:00\", \"2021-02-28T00:00:00\", \"2021-03-01T00:00:00\", \"2021-03-02T00:00:00\", \"2021-03-03T00:00:00\", \"2021-03-04T00:00:00\", \"2021-03-05T00:00:00\", \"2021-03-06T00:00:00\", \"2021-03-07T00:00:00\", \"2021-03-08T00:00:00\", \"2021-03-09T00:00:00\", \"2021-03-10T00:00:00\", \"2021-03-11T00:00:00\", \"2021-03-12T00:00:00\", \"2021-03-13T00:00:00\", \"2021-03-14T00:00:00\", \"2021-03-15T00:00:00\", \"2021-03-16T00:00:00\", \"2021-03-17T00:00:00\", \"2021-03-18T00:00:00\", \"2021-03-19T00:00:00\", \"2021-03-20T00:00:00\", \"2021-03-21T00:00:00\", \"2021-03-22T00:00:00\", \"2021-03-23T00:00:00\", \"2021-03-24T00:00:00\", \"2021-03-25T00:00:00\", \"2021-03-26T00:00:00\", \"2021-03-27T00:00:00\", \"2021-03-28T00:00:00\", \"2021-03-28T00:00:00\", \"2021-03-29T00:00:00\", \"2021-03-30T00:00:00\", \"2021-03-31T00:00:00\", \"2021-04-01T00:00:00\", \"2021-04-02T00:00:00\", \"2021-04-03T00:00:00\", \"2021-04-04T00:00:00\", \"2021-04-05T00:00:00\", \"2021-04-06T00:00:00\", \"2021-04-07T00:00:00\", \"2021-04-08T00:00:00\", \"2021-04-09T00:00:00\", \"2021-04-10T00:00:00\", \"2021-04-11T00:00:00\", \"2021-04-12T00:00:00\", \"2021-04-13T00:00:00\", \"2021-04-14T00:00:00\", \"2021-04-15T00:00:00\", \"2021-04-16T00:00:00\", \"2021-04-18T00:00:00\"]}],\n",
              "                        {\"template\": {\"data\": {\"bar\": [{\"error_x\": {\"color\": \"#2a3f5f\"}, \"error_y\": {\"color\": \"#2a3f5f\"}, \"marker\": {\"line\": {\"color\": \"#E5ECF6\", \"width\": 0.5}}, \"type\": \"bar\"}], \"barpolar\": [{\"marker\": {\"line\": {\"color\": \"#E5ECF6\", \"width\": 0.5}}, \"type\": \"barpolar\"}], \"carpet\": [{\"aaxis\": {\"endlinecolor\": \"#2a3f5f\", \"gridcolor\": \"white\", \"linecolor\": \"white\", \"minorgridcolor\": \"white\", \"startlinecolor\": \"#2a3f5f\"}, \"baxis\": {\"endlinecolor\": \"#2a3f5f\", \"gridcolor\": \"white\", \"linecolor\": \"white\", \"minorgridcolor\": \"white\", \"startlinecolor\": \"#2a3f5f\"}, \"type\": \"carpet\"}], \"choropleth\": [{\"colorbar\": {\"outlinewidth\": 0, \"ticks\": \"\"}, \"type\": \"choropleth\"}], \"contour\": [{\"colorbar\": {\"outlinewidth\": 0, \"ticks\": \"\"}, \"colorscale\": [[0.0, \"#0d0887\"], [0.1111111111111111, \"#46039f\"], [0.2222222222222222, \"#7201a8\"], [0.3333333333333333, \"#9c179e\"], [0.4444444444444444, \"#bd3786\"], [0.5555555555555556, \"#d8576b\"], [0.6666666666666666, \"#ed7953\"], [0.7777777777777778, \"#fb9f3a\"], [0.8888888888888888, \"#fdca26\"], [1.0, \"#f0f921\"]], \"type\": \"contour\"}], \"contourcarpet\": [{\"colorbar\": {\"outlinewidth\": 0, \"ticks\": \"\"}, \"type\": \"contourcarpet\"}], \"heatmap\": [{\"colorbar\": {\"outlinewidth\": 0, \"ticks\": \"\"}, \"colorscale\": [[0.0, \"#0d0887\"], [0.1111111111111111, \"#46039f\"], [0.2222222222222222, \"#7201a8\"], [0.3333333333333333, \"#9c179e\"], [0.4444444444444444, \"#bd3786\"], [0.5555555555555556, \"#d8576b\"], [0.6666666666666666, \"#ed7953\"], [0.7777777777777778, \"#fb9f3a\"], [0.8888888888888888, \"#fdca26\"], [1.0, \"#f0f921\"]], \"type\": \"heatmap\"}], \"heatmapgl\": [{\"colorbar\": {\"outlinewidth\": 0, \"ticks\": \"\"}, \"colorscale\": [[0.0, \"#0d0887\"], [0.1111111111111111, \"#46039f\"], [0.2222222222222222, \"#7201a8\"], [0.3333333333333333, \"#9c179e\"], [0.4444444444444444, \"#bd3786\"], [0.5555555555555556, \"#d8576b\"], [0.6666666666666666, \"#ed7953\"], [0.7777777777777778, \"#fb9f3a\"], [0.8888888888888888, \"#fdca26\"], [1.0, \"#f0f921\"]], \"type\": \"heatmapgl\"}], \"histogram\": [{\"marker\": {\"colorbar\": {\"outlinewidth\": 0, \"ticks\": \"\"}}, \"type\": \"histogram\"}], \"histogram2d\": [{\"colorbar\": {\"outlinewidth\": 0, \"ticks\": \"\"}, \"colorscale\": [[0.0, \"#0d0887\"], [0.1111111111111111, \"#46039f\"], [0.2222222222222222, \"#7201a8\"], [0.3333333333333333, \"#9c179e\"], [0.4444444444444444, \"#bd3786\"], [0.5555555555555556, \"#d8576b\"], [0.6666666666666666, \"#ed7953\"], [0.7777777777777778, \"#fb9f3a\"], [0.8888888888888888, \"#fdca26\"], [1.0, \"#f0f921\"]], \"type\": \"histogram2d\"}], \"histogram2dcontour\": [{\"colorbar\": {\"outlinewidth\": 0, \"ticks\": \"\"}, \"colorscale\": [[0.0, \"#0d0887\"], [0.1111111111111111, \"#46039f\"], [0.2222222222222222, \"#7201a8\"], [0.3333333333333333, \"#9c179e\"], [0.4444444444444444, \"#bd3786\"], [0.5555555555555556, \"#d8576b\"], [0.6666666666666666, \"#ed7953\"], [0.7777777777777778, \"#fb9f3a\"], [0.8888888888888888, \"#fdca26\"], [1.0, \"#f0f921\"]], \"type\": \"histogram2dcontour\"}], \"mesh3d\": [{\"colorbar\": {\"outlinewidth\": 0, \"ticks\": \"\"}, \"type\": \"mesh3d\"}], \"parcoords\": [{\"line\": {\"colorbar\": {\"outlinewidth\": 0, \"ticks\": \"\"}}, \"type\": \"parcoords\"}], \"pie\": [{\"automargin\": true, \"type\": \"pie\"}], \"scatter\": [{\"marker\": {\"colorbar\": {\"outlinewidth\": 0, \"ticks\": \"\"}}, \"type\": \"scatter\"}], \"scatter3d\": [{\"line\": {\"colorbar\": {\"outlinewidth\": 0, \"ticks\": \"\"}}, \"marker\": {\"colorbar\": {\"outlinewidth\": 0, \"ticks\": \"\"}}, \"type\": \"scatter3d\"}], \"scattercarpet\": [{\"marker\": {\"colorbar\": {\"outlinewidth\": 0, \"ticks\": \"\"}}, \"type\": \"scattercarpet\"}], \"scattergeo\": [{\"marker\": {\"colorbar\": {\"outlinewidth\": 0, \"ticks\": \"\"}}, \"type\": \"scattergeo\"}], \"scattergl\": [{\"marker\": {\"colorbar\": {\"outlinewidth\": 0, \"ticks\": \"\"}}, \"type\": \"scattergl\"}], \"scattermapbox\": [{\"marker\": {\"colorbar\": {\"outlinewidth\": 0, \"ticks\": \"\"}}, \"type\": \"scattermapbox\"}], \"scatterpolar\": [{\"marker\": {\"colorbar\": {\"outlinewidth\": 0, \"ticks\": \"\"}}, \"type\": \"scatterpolar\"}], \"scatterpolargl\": [{\"marker\": {\"colorbar\": {\"outlinewidth\": 0, \"ticks\": \"\"}}, \"type\": \"scatterpolargl\"}], \"scatterternary\": [{\"marker\": {\"colorbar\": {\"outlinewidth\": 0, \"ticks\": \"\"}}, \"type\": \"scatterternary\"}], \"surface\": [{\"colorbar\": {\"outlinewidth\": 0, \"ticks\": \"\"}, \"colorscale\": [[0.0, \"#0d0887\"], [0.1111111111111111, \"#46039f\"], [0.2222222222222222, \"#7201a8\"], [0.3333333333333333, \"#9c179e\"], [0.4444444444444444, \"#bd3786\"], [0.5555555555555556, \"#d8576b\"], [0.6666666666666666, \"#ed7953\"], [0.7777777777777778, \"#fb9f3a\"], [0.8888888888888888, \"#fdca26\"], [1.0, \"#f0f921\"]], \"type\": \"surface\"}], \"table\": [{\"cells\": {\"fill\": {\"color\": \"#EBF0F8\"}, \"line\": {\"color\": \"white\"}}, \"header\": {\"fill\": {\"color\": \"#C8D4E3\"}, \"line\": {\"color\": \"white\"}}, \"type\": \"table\"}]}, \"layout\": {\"annotationdefaults\": {\"arrowcolor\": \"#2a3f5f\", \"arrowhead\": 0, \"arrowwidth\": 1}, \"coloraxis\": {\"colorbar\": {\"outlinewidth\": 0, \"ticks\": \"\"}}, \"colorscale\": {\"diverging\": [[0, \"#8e0152\"], [0.1, \"#c51b7d\"], [0.2, \"#de77ae\"], [0.3, \"#f1b6da\"], [0.4, \"#fde0ef\"], [0.5, \"#f7f7f7\"], [0.6, \"#e6f5d0\"], [0.7, \"#b8e186\"], [0.8, \"#7fbc41\"], [0.9, \"#4d9221\"], [1, \"#276419\"]], \"sequential\": [[0.0, \"#0d0887\"], [0.1111111111111111, \"#46039f\"], [0.2222222222222222, \"#7201a8\"], [0.3333333333333333, \"#9c179e\"], [0.4444444444444444, \"#bd3786\"], [0.5555555555555556, \"#d8576b\"], [0.6666666666666666, \"#ed7953\"], [0.7777777777777778, \"#fb9f3a\"], [0.8888888888888888, \"#fdca26\"], [1.0, \"#f0f921\"]], \"sequentialminus\": [[0.0, \"#0d0887\"], [0.1111111111111111, \"#46039f\"], [0.2222222222222222, \"#7201a8\"], [0.3333333333333333, \"#9c179e\"], [0.4444444444444444, \"#bd3786\"], [0.5555555555555556, \"#d8576b\"], [0.6666666666666666, \"#ed7953\"], [0.7777777777777778, \"#fb9f3a\"], [0.8888888888888888, \"#fdca26\"], [1.0, \"#f0f921\"]]}, \"colorway\": [\"#636efa\", \"#EF553B\", \"#00cc96\", \"#ab63fa\", \"#FFA15A\", \"#19d3f3\", \"#FF6692\", \"#B6E880\", \"#FF97FF\", \"#FECB52\"], \"font\": {\"color\": \"#2a3f5f\"}, \"geo\": {\"bgcolor\": \"white\", \"lakecolor\": \"white\", \"landcolor\": \"#E5ECF6\", \"showlakes\": true, \"showland\": true, \"subunitcolor\": \"white\"}, \"hoverlabel\": {\"align\": \"left\"}, \"hovermode\": \"closest\", \"mapbox\": {\"style\": \"light\"}, \"paper_bgcolor\": \"white\", \"plot_bgcolor\": \"#E5ECF6\", \"polar\": {\"angularaxis\": {\"gridcolor\": \"white\", \"linecolor\": \"white\", \"ticks\": \"\"}, \"bgcolor\": \"#E5ECF6\", \"radialaxis\": {\"gridcolor\": \"white\", \"linecolor\": \"white\", \"ticks\": \"\"}}, \"scene\": {\"xaxis\": {\"backgroundcolor\": \"#E5ECF6\", \"gridcolor\": \"white\", \"gridwidth\": 2, \"linecolor\": \"white\", \"showbackground\": true, \"ticks\": \"\", \"zerolinecolor\": \"white\"}, \"yaxis\": {\"backgroundcolor\": \"#E5ECF6\", \"gridcolor\": \"white\", \"gridwidth\": 2, \"linecolor\": \"white\", \"showbackground\": true, \"ticks\": \"\", \"zerolinecolor\": \"white\"}, \"zaxis\": {\"backgroundcolor\": \"#E5ECF6\", \"gridcolor\": \"white\", \"gridwidth\": 2, \"linecolor\": \"white\", \"showbackground\": true, \"ticks\": \"\", \"zerolinecolor\": \"white\"}}, \"shapedefaults\": {\"line\": {\"color\": \"#2a3f5f\"}}, \"ternary\": {\"aaxis\": {\"gridcolor\": \"white\", \"linecolor\": \"white\", \"ticks\": \"\"}, \"baxis\": {\"gridcolor\": \"white\", \"linecolor\": \"white\", \"ticks\": \"\"}, \"bgcolor\": \"#E5ECF6\", \"caxis\": {\"gridcolor\": \"white\", \"linecolor\": \"white\", \"ticks\": \"\"}}, \"title\": {\"x\": 0.05}, \"xaxis\": {\"automargin\": true, \"gridcolor\": \"white\", \"linecolor\": \"white\", \"ticks\": \"\", \"title\": {\"standoff\": 15}, \"zerolinecolor\": \"white\", \"zerolinewidth\": 2}, \"yaxis\": {\"automargin\": true, \"gridcolor\": \"white\", \"linecolor\": \"white\", \"ticks\": \"\", \"title\": {\"standoff\": 15}, \"zerolinecolor\": \"white\", \"zerolinewidth\": 2}}}, \"title\": {\"text\": \"Candlestick chart for bitcoin\"}, \"xaxis\": {\"title\": {\"text\": \"Date\"}}, \"yaxis\": {\"title\": {\"text\": \"Price\"}}},\n",
              "                        {\"responsive\": true}\n",
              "                    ).then(function(){\n",
              "                            \n",
              "var gd = document.getElementById('1a09d02b-c28a-48bc-b957-ca3798a6a0da');\n",
              "var x = new MutationObserver(function (mutations, observer) {{\n",
              "        var display = window.getComputedStyle(gd).display;\n",
              "        if (!display || display === 'none') {{\n",
              "            console.log([gd, 'removed!']);\n",
              "            Plotly.purge(gd);\n",
              "            observer.disconnect();\n",
              "        }}\n",
              "}});\n",
              "\n",
              "// Listen for the removal of the full notebook cells\n",
              "var notebookContainer = gd.closest('#notebook-container');\n",
              "if (notebookContainer) {{\n",
              "    x.observe(notebookContainer, {childList: true});\n",
              "}}\n",
              "\n",
              "// Listen for the clearing of the current output cell\n",
              "var outputEl = gd.closest('.output');\n",
              "if (outputEl) {{\n",
              "    x.observe(outputEl, {childList: true});\n",
              "}}\n",
              "\n",
              "                        })\n",
              "                };\n",
              "                \n",
              "            </script>\n",
              "        </div>\n",
              "</body>\n",
              "</html>"
            ]
          },
          "metadata": {
            "tags": []
          }
        }
      ]
    },
    {
      "cell_type": "markdown",
      "metadata": {
        "id": "u93-Mo28OS1A"
      },
      "source": [
        "### Difference between opening and closing price"
      ]
    },
    {
      "cell_type": "code",
      "metadata": {
        "colab": {
          "base_uri": "https://localhost:8080/",
          "height": 316
        },
        "id": "saVTMOPPh3fr",
        "outputId": "a63327ee-b6ee-4e1d-f730-b7c84f1cf17f"
      },
      "source": [
        "# Difference between Close and Open:\n",
        "bitcoin['Difference'] = bitcoin['Close'] - bitcoin['Open']\n",
        "# Specifying colors for positive and negative difference\n",
        "bitcoin['Color'] = np.where(bitcoin['Difference']<0, 'red', 'green')\n",
        "bitcoin.head()"
      ],
      "execution_count": 22,
      "outputs": [
        {
          "output_type": "execute_result",
          "data": {
            "text/html": [
              "<div>\n",
              "<style scoped>\n",
              "    .dataframe tbody tr th:only-of-type {\n",
              "        vertical-align: middle;\n",
              "    }\n",
              "\n",
              "    .dataframe tbody tr th {\n",
              "        vertical-align: top;\n",
              "    }\n",
              "\n",
              "    .dataframe thead th {\n",
              "        text-align: right;\n",
              "    }\n",
              "</style>\n",
              "<table border=\"1\" class=\"dataframe\">\n",
              "  <thead>\n",
              "    <tr style=\"text-align: right;\">\n",
              "      <th></th>\n",
              "      <th>Date</th>\n",
              "      <th>High</th>\n",
              "      <th>Low</th>\n",
              "      <th>Open</th>\n",
              "      <th>Close</th>\n",
              "      <th>Volume</th>\n",
              "      <th>Adj Close</th>\n",
              "      <th>Moving avg 7</th>\n",
              "      <th>Moving avg 15</th>\n",
              "      <th>Moving avg 30</th>\n",
              "      <th>Difference</th>\n",
              "      <th>Color</th>\n",
              "    </tr>\n",
              "  </thead>\n",
              "  <tbody>\n",
              "    <tr>\n",
              "      <th>0</th>\n",
              "      <td>2019-09-17</td>\n",
              "      <td>731490.6875</td>\n",
              "      <td>725478.5000</td>\n",
              "      <td>734975.8750</td>\n",
              "      <td>725961.0000</td>\n",
              "      <td>1.151007e+12</td>\n",
              "      <td>725961.0000</td>\n",
              "      <td>NaN</td>\n",
              "      <td>NaN</td>\n",
              "      <td>NaN</td>\n",
              "      <td>-9014.8750</td>\n",
              "      <td>red</td>\n",
              "    </tr>\n",
              "    <tr>\n",
              "      <th>1</th>\n",
              "      <td>2019-09-18</td>\n",
              "      <td>735039.7500</td>\n",
              "      <td>703342.8125</td>\n",
              "      <td>726121.0000</td>\n",
              "      <td>732951.1875</td>\n",
              "      <td>1.423414e+12</td>\n",
              "      <td>732951.1875</td>\n",
              "      <td>NaN</td>\n",
              "      <td>NaN</td>\n",
              "      <td>NaN</td>\n",
              "      <td>6830.1875</td>\n",
              "      <td>green</td>\n",
              "    </tr>\n",
              "    <tr>\n",
              "      <th>2</th>\n",
              "      <td>2019-09-19</td>\n",
              "      <td>732415.8125</td>\n",
              "      <td>721472.4375</td>\n",
              "      <td>732944.3125</td>\n",
              "      <td>724993.9375</td>\n",
              "      <td>1.049163e+12</td>\n",
              "      <td>724993.9375</td>\n",
              "      <td>NaN</td>\n",
              "      <td>NaN</td>\n",
              "      <td>NaN</td>\n",
              "      <td>-7950.3750</td>\n",
              "      <td>red</td>\n",
              "    </tr>\n",
              "    <tr>\n",
              "      <th>3</th>\n",
              "      <td>2019-09-20</td>\n",
              "      <td>725453.6875</td>\n",
              "      <td>712110.4375</td>\n",
              "      <td>725136.8750</td>\n",
              "      <td>713463.9375</td>\n",
              "      <td>9.559595e+11</td>\n",
              "      <td>713463.9375</td>\n",
              "      <td>NaN</td>\n",
              "      <td>NaN</td>\n",
              "      <td>NaN</td>\n",
              "      <td>-11672.9375</td>\n",
              "      <td>red</td>\n",
              "    </tr>\n",
              "    <tr>\n",
              "      <th>4</th>\n",
              "      <td>2019-09-21</td>\n",
              "      <td>717307.0625</td>\n",
              "      <td>706490.9375</td>\n",
              "      <td>713777.1250</td>\n",
              "      <td>717018.5625</td>\n",
              "      <td>9.398239e+11</td>\n",
              "      <td>717018.5625</td>\n",
              "      <td>NaN</td>\n",
              "      <td>NaN</td>\n",
              "      <td>NaN</td>\n",
              "      <td>3241.4375</td>\n",
              "      <td>green</td>\n",
              "    </tr>\n",
              "  </tbody>\n",
              "</table>\n",
              "</div>"
            ],
            "text/plain": [
              "        Date         High          Low  ...  Moving avg 30  Difference  Color\n",
              "0 2019-09-17  731490.6875  725478.5000  ...            NaN  -9014.8750    red\n",
              "1 2019-09-18  735039.7500  703342.8125  ...            NaN   6830.1875  green\n",
              "2 2019-09-19  732415.8125  721472.4375  ...            NaN  -7950.3750    red\n",
              "3 2019-09-20  725453.6875  712110.4375  ...            NaN -11672.9375    red\n",
              "4 2019-09-21  717307.0625  706490.9375  ...            NaN   3241.4375  green\n",
              "\n",
              "[5 rows x 12 columns]"
            ]
          },
          "metadata": {
            "tags": []
          },
          "execution_count": 22
        }
      ]
    },
    {
      "cell_type": "markdown",
      "metadata": {
        "id": "buw1eR__hAE1"
      },
      "source": [
        "### Bar chart for price difference"
      ]
    },
    {
      "cell_type": "code",
      "metadata": {
        "colab": {
          "base_uri": "https://localhost:8080/",
          "height": 542
        },
        "id": "m6eAidnrkHL9",
        "outputId": "fcd2bbad-3c31-4b8a-f859-fb3b20bcb9f5"
      },
      "source": [
        "fig = go.Figure()\n",
        "\n",
        "# Add Trace for price difference\n",
        "fig.add_trace(go.Bar(x=bitcoin['Date']\n",
        "                     , y=bitcoin['Difference']\n",
        "                     , marker_color=bitcoin['Color']\n",
        "                     , visible = True\n",
        "                    ))\n",
        "\n",
        "# Set x and y-axis titles\n",
        "fig.update_xaxes(title_text='Date')\n",
        "fig.update_yaxes(title_text='Price difference')\n",
        "\n",
        "#fig.show()   "
      ],
      "execution_count": 23,
      "outputs": [
        {
          "output_type": "display_data",
          "data": {
            "text/html": [
              "<html>\n",
              "<head><meta charset=\"utf-8\" /></head>\n",
              "<body>\n",
              "    <div>\n",
              "            <script src=\"https://cdnjs.cloudflare.com/ajax/libs/mathjax/2.7.5/MathJax.js?config=TeX-AMS-MML_SVG\"></script><script type=\"text/javascript\">if (window.MathJax) {MathJax.Hub.Config({SVG: {font: \"STIX-Web\"}});}</script>\n",
              "                <script type=\"text/javascript\">window.PlotlyConfig = {MathJaxConfig: 'local'};</script>\n",
              "        <script src=\"https://cdn.plot.ly/plotly-latest.min.js\"></script>    \n",
              "            <div id=\"c1b96e4c-8011-4aee-bb09-5443432cf6e5\" class=\"plotly-graph-div\" style=\"height:525px; width:100%;\"></div>\n",
              "            <script type=\"text/javascript\">\n",
              "                \n",
              "                    window.PLOTLYENV=window.PLOTLYENV || {};\n",
              "                    \n",
              "                if (document.getElementById(\"c1b96e4c-8011-4aee-bb09-5443432cf6e5\")) {\n",
              "                    Plotly.newPlot(\n",
              "                        'c1b96e4c-8011-4aee-bb09-5443432cf6e5',\n",
              "                        [{\"marker\": {\"color\": [\"red\", \"green\", \"red\", \"red\", \"green\", \"red\", \"red\", \"red\", \"red\", \"green\", \"red\", \"red\", \"green\", \"green\", \"green\", \"red\", \"red\", \"red\", \"red\", \"green\", \"red\", \"green\", \"red\", \"red\", \"green\", \"red\", \"green\", \"red\", \"red\", \"green\", \"red\", \"green\", \"green\", \"green\", \"red\", \"red\", \"green\", \"green\", \"green\", \"green\", \"red\", \"green\", \"red\", \"green\", \"green\", \"green\", \"red\", \"green\", \"red\", \"green\", \"red\", \"red\", \"green\", \"green\", \"red\", \"green\", \"green\", \"red\", \"red\", \"green\", \"green\", \"red\", \"red\", \"red\", \"red\", \"red\", \"green\", \"red\", \"green\", \"green\", \"green\", \"red\", \"green\", \"red\", \"red\", \"red\", \"green\", \"red\", \"green\", \"green\", \"green\", \"green\", \"red\", \"red\", \"red\", \"green\", \"green\", \"red\", \"green\", \"red\", \"red\", \"green\", \"red\", \"red\", \"red\", \"green\", \"red\", \"red\", \"red\", \"red\", \"green\", \"green\", \"green\", \"red\", \"red\", \"red\", \"red\", \"green\", \"green\", \"green\", \"green\", \"green\", \"red\", \"red\", \"green\", \"red\", \"green\", \"red\", \"green\", \"red\", \"red\", \"green\", \"green\", \"red\", \"red\", \"green\", \"red\", \"red\", \"green\", \"red\", \"green\", \"green\", \"green\", \"red\", \"green\", \"red\", \"green\", \"red\", \"red\", \"red\", \"green\", \"green\", \"green\", \"green\", \"green\", \"red\", \"green\", \"green\", \"red\", \"green\", \"red\", \"green\", \"red\", \"green\", \"red\", \"green\", \"green\", \"red\", \"green\", \"red\", \"red\", \"red\", \"red\", \"red\", \"red\", \"red\", \"green\", \"green\", \"red\", \"green\", \"green\", \"red\", \"red\", \"red\", \"red\", \"red\", \"red\", \"green\", \"red\", \"green\", \"red\", \"green\", \"green\", \"green\", \"green\", \"red\", \"red\", \"green\", \"green\", \"red\", \"red\", \"red\", \"red\", \"red\", \"green\", \"green\", \"green\", \"green\", \"red\", \"green\", \"red\", \"green\", \"red\", \"green\", \"red\", \"red\", \"red\", \"green\", \"red\", \"red\", \"red\", \"green\", \"green\", \"red\", \"red\", \"green\", \"green\", \"green\", \"green\", \"green\", \"green\", \"green\", \"red\", \"green\", \"red\", \"green\", \"green\", \"red\", \"green\", \"green\", \"green\", \"green\", \"red\", \"red\", \"red\", \"red\", \"green\", \"green\", \"green\", \"red\", \"green\", \"green\", \"green\", \"green\", \"red\", \"red\", \"green\", \"green\", \"red\", \"green\", \"red\", \"green\", \"green\", \"red\", \"green\", \"red\", \"green\", \"red\", \"green\", \"green\", \"red\", \"red\", \"green\", \"red\", \"green\", \"green\", \"red\", \"green\", \"red\", \"red\", \"green\", \"green\", \"red\", \"red\", \"red\", \"green\", \"red\", \"green\", \"red\", \"red\", \"red\", \"red\", \"red\", \"green\", \"green\", \"red\", \"green\", \"red\", \"red\", \"green\", \"red\", \"green\", \"red\", \"green\", \"red\", \"green\", \"red\", \"green\", \"red\", \"green\", \"red\", \"red\", \"red\", \"green\", \"green\", \"red\", \"green\", \"green\", \"green\", \"red\", \"green\", \"green\", \"green\", \"red\", \"green\", \"green\", \"green\", \"green\", \"red\", \"green\", \"red\", \"green\", \"green\", \"red\", \"green\", \"red\", \"green\", \"red\", \"green\", \"green\", \"green\", \"green\", \"green\", \"green\", \"red\", \"red\", \"green\", \"red\", \"green\", \"red\", \"red\", \"red\", \"green\", \"red\", \"green\", \"red\", \"green\", \"green\", \"green\", \"red\", \"red\", \"green\", \"red\", \"green\", \"green\", \"red\", \"green\", \"green\", \"green\", \"green\", \"red\", \"green\", \"green\", \"green\", \"red\", \"red\", \"green\", \"red\", \"red\", \"green\", \"red\", \"green\", \"red\", \"green\", \"green\", \"red\", \"green\", \"red\", \"red\", \"red\", \"red\", \"green\", \"green\", \"red\", \"green\", \"green\", \"green\", \"green\", \"red\", \"green\", \"red\", \"green\", \"green\", \"green\", \"green\", \"green\", \"green\", \"red\", \"green\", \"red\", \"green\", \"green\", \"red\", \"green\", \"green\", \"green\", \"red\", \"red\", \"green\", \"green\", \"green\", \"red\", \"red\", \"green\", \"red\", \"green\", \"green\", \"green\", \"red\", \"red\", \"red\", \"green\", \"green\", \"green\", \"red\", \"green\", \"green\", \"red\", \"green\", \"green\", \"red\", \"red\", \"red\", \"green\", \"green\", \"green\", \"red\", \"green\", \"green\", \"red\", \"green\", \"green\", \"red\", \"red\", \"green\", \"red\", \"red\", \"green\", \"green\", \"green\", \"green\", \"green\", \"green\", \"green\", \"green\", \"red\", \"red\", \"green\", \"red\", \"green\", \"green\", \"green\", \"red\", \"green\", \"green\", \"green\", \"green\", \"green\", \"green\", \"green\", \"red\", \"green\", \"green\", \"green\", \"green\", \"red\", \"red\", \"red\", \"red\", \"green\", \"green\", \"red\", \"red\", \"red\", \"green\", \"red\", \"red\", \"red\", \"green\", \"red\", \"green\", \"green\", \"green\", \"red\", \"green\", \"red\", \"red\", \"red\", \"green\", \"green\", \"green\", \"red\", \"green\", \"green\", \"red\", \"green\", \"green\", \"red\", \"green\", \"red\", \"red\", \"green\", \"red\", \"green\", \"green\", \"red\", \"green\", \"green\", \"green\", \"red\", \"red\", \"green\", \"red\", \"red\", \"red\", \"red\", \"green\", \"red\", \"green\", \"red\", \"green\", \"green\", \"green\", \"green\", \"green\", \"green\", \"green\", \"red\", \"green\", \"red\", \"red\", \"green\", \"green\", \"red\", \"green\", \"red\", \"red\", \"red\", \"green\", \"red\", \"red\", \"green\", \"green\", \"red\", \"green\", \"green\", \"red\", \"green\", \"green\", \"red\", \"green\", \"green\", \"red\", \"red\", \"green\", \"green\", \"green\", \"green\", \"red\", \"green\", \"red\", \"red\", \"red\", \"red\", \"red\"]}, \"type\": \"bar\", \"visible\": true, \"x\": [\"2019-09-17T00:00:00\", \"2019-09-18T00:00:00\", \"2019-09-19T00:00:00\", \"2019-09-20T00:00:00\", \"2019-09-21T00:00:00\", \"2019-09-22T00:00:00\", \"2019-09-23T00:00:00\", \"2019-09-24T00:00:00\", \"2019-09-25T00:00:00\", \"2019-09-26T00:00:00\", \"2019-09-27T00:00:00\", \"2019-09-28T00:00:00\", \"2019-09-29T00:00:00\", \"2019-09-30T00:00:00\", \"2019-10-01T00:00:00\", \"2019-10-02T00:00:00\", \"2019-10-03T00:00:00\", \"2019-10-04T00:00:00\", \"2019-10-05T00:00:00\", \"2019-10-06T00:00:00\", \"2019-10-07T00:00:00\", \"2019-10-08T00:00:00\", \"2019-10-09T00:00:00\", \"2019-10-10T00:00:00\", \"2019-10-11T00:00:00\", \"2019-10-12T00:00:00\", \"2019-10-13T00:00:00\", \"2019-10-14T00:00:00\", \"2019-10-15T00:00:00\", \"2019-10-16T00:00:00\", \"2019-10-17T00:00:00\", \"2019-10-18T00:00:00\", \"2019-10-19T00:00:00\", \"2019-10-20T00:00:00\", \"2019-10-21T00:00:00\", \"2019-10-22T00:00:00\", \"2019-10-23T00:00:00\", \"2019-10-24T00:00:00\", \"2019-10-25T00:00:00\", \"2019-10-26T00:00:00\", \"2019-10-28T00:00:00\", \"2019-10-29T00:00:00\", \"2019-10-30T00:00:00\", \"2019-10-31T00:00:00\", \"2019-11-01T00:00:00\", \"2019-11-02T00:00:00\", \"2019-11-03T00:00:00\", \"2019-11-04T00:00:00\", \"2019-11-05T00:00:00\", \"2019-11-06T00:00:00\", \"2019-11-07T00:00:00\", \"2019-11-08T00:00:00\", \"2019-11-09T00:00:00\", \"2019-11-10T00:00:00\", \"2019-11-11T00:00:00\", \"2019-11-12T00:00:00\", \"2019-11-13T00:00:00\", \"2019-11-14T00:00:00\", \"2019-11-15T00:00:00\", \"2019-11-16T00:00:00\", \"2019-11-17T00:00:00\", \"2019-11-18T00:00:00\", \"2019-11-19T00:00:00\", \"2019-11-20T00:00:00\", \"2019-11-21T00:00:00\", \"2019-11-22T00:00:00\", \"2019-11-23T00:00:00\", \"2019-11-24T00:00:00\", \"2019-11-25T00:00:00\", \"2019-11-26T00:00:00\", \"2019-11-27T00:00:00\", \"2019-11-28T00:00:00\", \"2019-11-29T00:00:00\", \"2019-11-30T00:00:00\", \"2019-12-01T00:00:00\", \"2019-12-02T00:00:00\", \"2019-12-03T00:00:00\", \"2019-12-04T00:00:00\", \"2019-12-05T00:00:00\", \"2019-12-06T00:00:00\", \"2019-12-07T00:00:00\", \"2019-12-08T00:00:00\", \"2019-12-09T00:00:00\", \"2019-12-10T00:00:00\", \"2019-12-11T00:00:00\", \"2019-12-12T00:00:00\", \"2019-12-13T00:00:00\", \"2019-12-14T00:00:00\", \"2019-12-15T00:00:00\", \"2019-12-16T00:00:00\", \"2019-12-17T00:00:00\", \"2019-12-18T00:00:00\", \"2019-12-19T00:00:00\", \"2019-12-20T00:00:00\", \"2019-12-21T00:00:00\", \"2019-12-22T00:00:00\", \"2019-12-23T00:00:00\", \"2019-12-24T00:00:00\", \"2019-12-25T00:00:00\", \"2019-12-26T00:00:00\", \"2019-12-27T00:00:00\", \"2019-12-28T00:00:00\", \"2019-12-29T00:00:00\", \"2019-12-30T00:00:00\", \"2019-12-31T00:00:00\", \"2020-01-01T00:00:00\", \"2020-01-02T00:00:00\", \"2020-01-03T00:00:00\", \"2020-01-04T00:00:00\", \"2020-01-05T00:00:00\", \"2020-01-06T00:00:00\", \"2020-01-07T00:00:00\", \"2020-01-08T00:00:00\", \"2020-01-09T00:00:00\", \"2020-01-10T00:00:00\", \"2020-01-11T00:00:00\", \"2020-01-12T00:00:00\", \"2020-01-13T00:00:00\", \"2020-01-14T00:00:00\", \"2020-01-15T00:00:00\", \"2020-01-16T00:00:00\", \"2020-01-17T00:00:00\", \"2020-01-18T00:00:00\", \"2020-01-19T00:00:00\", \"2020-01-20T00:00:00\", \"2020-01-21T00:00:00\", \"2020-01-22T00:00:00\", \"2020-01-23T00:00:00\", \"2020-01-24T00:00:00\", \"2020-01-25T00:00:00\", \"2020-01-26T00:00:00\", \"2020-01-27T00:00:00\", \"2020-01-28T00:00:00\", \"2020-01-29T00:00:00\", \"2020-01-30T00:00:00\", \"2020-01-31T00:00:00\", \"2020-02-01T00:00:00\", \"2020-02-02T00:00:00\", \"2020-02-03T00:00:00\", \"2020-02-04T00:00:00\", \"2020-02-05T00:00:00\", \"2020-02-06T00:00:00\", \"2020-02-07T00:00:00\", \"2020-02-08T00:00:00\", \"2020-02-09T00:00:00\", \"2020-02-10T00:00:00\", \"2020-02-11T00:00:00\", \"2020-02-12T00:00:00\", \"2020-02-13T00:00:00\", \"2020-02-14T00:00:00\", \"2020-02-15T00:00:00\", \"2020-02-16T00:00:00\", \"2020-02-17T00:00:00\", \"2020-02-18T00:00:00\", \"2020-02-19T00:00:00\", \"2020-02-20T00:00:00\", \"2020-02-21T00:00:00\", \"2020-02-22T00:00:00\", \"2020-02-23T00:00:00\", \"2020-02-24T00:00:00\", \"2020-02-25T00:00:00\", \"2020-02-26T00:00:00\", \"2020-02-27T00:00:00\", \"2020-02-28T00:00:00\", \"2020-02-29T00:00:00\", \"2020-03-01T00:00:00\", \"2020-03-02T00:00:00\", \"2020-03-03T00:00:00\", \"2020-03-04T00:00:00\", \"2020-03-05T00:00:00\", \"2020-03-06T00:00:00\", \"2020-03-07T00:00:00\", \"2020-03-08T00:00:00\", \"2020-03-09T00:00:00\", \"2020-03-10T00:00:00\", \"2020-03-11T00:00:00\", \"2020-03-12T00:00:00\", \"2020-03-13T00:00:00\", \"2020-03-14T00:00:00\", \"2020-03-15T00:00:00\", \"2020-03-16T00:00:00\", \"2020-03-17T00:00:00\", \"2020-03-18T00:00:00\", \"2020-03-19T00:00:00\", \"2020-03-20T00:00:00\", \"2020-03-21T00:00:00\", \"2020-03-22T00:00:00\", \"2020-03-23T00:00:00\", \"2020-03-24T00:00:00\", \"2020-03-25T00:00:00\", \"2020-03-26T00:00:00\", \"2020-03-27T00:00:00\", \"2020-03-28T00:00:00\", \"2020-03-29T00:00:00\", \"2020-03-29T00:00:00\", \"2020-03-30T00:00:00\", \"2020-03-31T00:00:00\", \"2020-04-01T00:00:00\", \"2020-04-02T00:00:00\", \"2020-04-03T00:00:00\", \"2020-04-04T00:00:00\", \"2020-04-05T00:00:00\", \"2020-04-06T00:00:00\", \"2020-04-07T00:00:00\", \"2020-04-08T00:00:00\", \"2020-04-09T00:00:00\", \"2020-04-10T00:00:00\", \"2020-04-11T00:00:00\", \"2020-04-12T00:00:00\", \"2020-04-13T00:00:00\", \"2020-04-14T00:00:00\", \"2020-04-15T00:00:00\", \"2020-04-17T00:00:00\", \"2020-04-18T00:00:00\", \"2020-04-19T00:00:00\", \"2020-04-20T00:00:00\", \"2020-04-21T00:00:00\", \"2020-04-22T00:00:00\", \"2020-04-23T00:00:00\", \"2020-04-24T00:00:00\", \"2020-04-25T00:00:00\", \"2020-04-26T00:00:00\", \"2020-04-27T00:00:00\", \"2020-04-28T00:00:00\", \"2020-04-29T00:00:00\", \"2020-04-30T00:00:00\", \"2020-05-01T00:00:00\", \"2020-05-02T00:00:00\", \"2020-05-03T00:00:00\", \"2020-05-04T00:00:00\", \"2020-05-05T00:00:00\", \"2020-05-06T00:00:00\", \"2020-05-07T00:00:00\", \"2020-05-08T00:00:00\", \"2020-05-09T00:00:00\", \"2020-05-10T00:00:00\", \"2020-05-11T00:00:00\", \"2020-05-12T00:00:00\", \"2020-05-13T00:00:00\", \"2020-05-14T00:00:00\", \"2020-05-15T00:00:00\", \"2020-05-16T00:00:00\", \"2020-05-17T00:00:00\", \"2020-05-18T00:00:00\", \"2020-05-19T00:00:00\", \"2020-05-20T00:00:00\", \"2020-05-21T00:00:00\", \"2020-05-22T00:00:00\", \"2020-05-23T00:00:00\", \"2020-05-24T00:00:00\", \"2020-05-25T00:00:00\", \"2020-05-26T00:00:00\", \"2020-05-27T00:00:00\", \"2020-05-28T00:00:00\", \"2020-05-29T00:00:00\", \"2020-05-30T00:00:00\", \"2020-05-31T00:00:00\", \"2020-06-01T00:00:00\", \"2020-06-02T00:00:00\", \"2020-06-03T00:00:00\", \"2020-06-04T00:00:00\", \"2020-06-05T00:00:00\", \"2020-06-06T00:00:00\", \"2020-06-07T00:00:00\", \"2020-06-08T00:00:00\", \"2020-06-09T00:00:00\", \"2020-06-10T00:00:00\", \"2020-06-11T00:00:00\", \"2020-06-12T00:00:00\", \"2020-06-13T00:00:00\", \"2020-06-14T00:00:00\", \"2020-06-15T00:00:00\", \"2020-06-16T00:00:00\", \"2020-06-17T00:00:00\", \"2020-06-18T00:00:00\", \"2020-06-19T00:00:00\", \"2020-06-20T00:00:00\", \"2020-06-21T00:00:00\", \"2020-06-22T00:00:00\", \"2020-06-23T00:00:00\", \"2020-06-24T00:00:00\", \"2020-06-25T00:00:00\", \"2020-06-26T00:00:00\", \"2020-06-27T00:00:00\", \"2020-06-28T00:00:00\", \"2020-06-29T00:00:00\", \"2020-06-30T00:00:00\", \"2020-07-01T00:00:00\", \"2020-07-02T00:00:00\", \"2020-07-03T00:00:00\", \"2020-07-04T00:00:00\", \"2020-07-05T00:00:00\", \"2020-07-06T00:00:00\", \"2020-07-07T00:00:00\", \"2020-07-08T00:00:00\", \"2020-07-09T00:00:00\", \"2020-07-10T00:00:00\", \"2020-07-11T00:00:00\", \"2020-07-12T00:00:00\", \"2020-07-13T00:00:00\", \"2020-07-14T00:00:00\", \"2020-07-15T00:00:00\", \"2020-07-16T00:00:00\", \"2020-07-17T00:00:00\", \"2020-07-18T00:00:00\", \"2020-07-19T00:00:00\", \"2020-07-20T00:00:00\", \"2020-07-21T00:00:00\", \"2020-07-22T00:00:00\", \"2020-07-23T00:00:00\", \"2020-07-24T00:00:00\", \"2020-07-25T00:00:00\", \"2020-07-26T00:00:00\", \"2020-07-27T00:00:00\", \"2020-07-28T00:00:00\", \"2020-07-29T00:00:00\", \"2020-07-30T00:00:00\", \"2020-07-31T00:00:00\", \"2020-08-01T00:00:00\", \"2020-08-02T00:00:00\", \"2020-08-03T00:00:00\", \"2020-08-04T00:00:00\", \"2020-08-05T00:00:00\", \"2020-08-06T00:00:00\", \"2020-08-07T00:00:00\", \"2020-08-08T00:00:00\", \"2020-08-09T00:00:00\", \"2020-08-10T00:00:00\", \"2020-08-11T00:00:00\", \"2020-08-12T00:00:00\", \"2020-08-13T00:00:00\", \"2020-08-14T00:00:00\", \"2020-08-15T00:00:00\", \"2020-08-16T00:00:00\", \"2020-08-17T00:00:00\", \"2020-08-18T00:00:00\", \"2020-08-19T00:00:00\", \"2020-08-20T00:00:00\", \"2020-08-21T00:00:00\", \"2020-08-22T00:00:00\", \"2020-08-23T00:00:00\", \"2020-08-24T00:00:00\", \"2020-08-25T00:00:00\", \"2020-08-26T00:00:00\", \"2020-08-27T00:00:00\", \"2020-08-28T00:00:00\", \"2020-08-29T00:00:00\", \"2020-08-30T00:00:00\", \"2020-08-31T00:00:00\", \"2020-09-01T00:00:00\", \"2020-09-02T00:00:00\", \"2020-09-03T00:00:00\", \"2020-09-04T00:00:00\", \"2020-09-05T00:00:00\", \"2020-09-06T00:00:00\", \"2020-09-07T00:00:00\", \"2020-09-08T00:00:00\", \"2020-09-09T00:00:00\", \"2020-09-10T00:00:00\", \"2020-09-11T00:00:00\", \"2020-09-12T00:00:00\", \"2020-09-13T00:00:00\", \"2020-09-14T00:00:00\", \"2020-09-15T00:00:00\", \"2020-09-16T00:00:00\", \"2020-09-17T00:00:00\", \"2020-09-18T00:00:00\", \"2020-09-19T00:00:00\", \"2020-09-20T00:00:00\", \"2020-09-21T00:00:00\", \"2020-09-22T00:00:00\", \"2020-09-23T00:00:00\", \"2020-09-24T00:00:00\", \"2020-09-25T00:00:00\", \"2020-09-26T00:00:00\", \"2020-09-27T00:00:00\", \"2020-09-28T00:00:00\", \"2020-09-29T00:00:00\", \"2020-09-30T00:00:00\", \"2020-10-01T00:00:00\", \"2020-10-02T00:00:00\", \"2020-10-03T00:00:00\", \"2020-10-04T00:00:00\", \"2020-10-05T00:00:00\", \"2020-10-06T00:00:00\", \"2020-10-07T00:00:00\", \"2020-10-09T00:00:00\", \"2020-10-10T00:00:00\", \"2020-10-13T00:00:00\", \"2020-10-14T00:00:00\", \"2020-10-15T00:00:00\", \"2020-10-16T00:00:00\", \"2020-10-17T00:00:00\", \"2020-10-18T00:00:00\", \"2020-10-19T00:00:00\", \"2020-10-20T00:00:00\", \"2020-10-21T00:00:00\", \"2020-10-22T00:00:00\", \"2020-10-23T00:00:00\", \"2020-10-24T00:00:00\", \"2020-10-26T00:00:00\", \"2020-10-27T00:00:00\", \"2020-10-28T00:00:00\", \"2020-10-29T00:00:00\", \"2020-10-30T00:00:00\", \"2020-10-31T00:00:00\", \"2020-11-01T00:00:00\", \"2020-11-02T00:00:00\", \"2020-11-03T00:00:00\", \"2020-11-04T00:00:00\", \"2020-11-05T00:00:00\", \"2020-11-06T00:00:00\", \"2020-11-07T00:00:00\", \"2020-11-08T00:00:00\", \"2020-11-09T00:00:00\", \"2020-11-10T00:00:00\", \"2020-11-11T00:00:00\", \"2020-11-12T00:00:00\", \"2020-11-13T00:00:00\", \"2020-11-14T00:00:00\", \"2020-11-15T00:00:00\", \"2020-11-16T00:00:00\", \"2020-11-17T00:00:00\", \"2020-11-18T00:00:00\", \"2020-11-19T00:00:00\", \"2020-11-20T00:00:00\", \"2020-11-21T00:00:00\", \"2020-11-22T00:00:00\", \"2020-11-23T00:00:00\", \"2020-11-24T00:00:00\", \"2020-11-25T00:00:00\", \"2020-11-26T00:00:00\", \"2020-11-27T00:00:00\", \"2020-11-28T00:00:00\", \"2020-11-29T00:00:00\", \"2020-11-30T00:00:00\", \"2020-12-01T00:00:00\", \"2020-12-02T00:00:00\", \"2020-12-03T00:00:00\", \"2020-12-04T00:00:00\", \"2020-12-05T00:00:00\", \"2020-12-06T00:00:00\", \"2020-12-07T00:00:00\", \"2020-12-08T00:00:00\", \"2020-12-09T00:00:00\", \"2020-12-10T00:00:00\", \"2020-12-11T00:00:00\", \"2020-12-12T00:00:00\", \"2020-12-13T00:00:00\", \"2020-12-14T00:00:00\", \"2020-12-15T00:00:00\", \"2020-12-16T00:00:00\", \"2020-12-17T00:00:00\", \"2020-12-18T00:00:00\", \"2020-12-19T00:00:00\", \"2020-12-20T00:00:00\", \"2020-12-21T00:00:00\", \"2020-12-22T00:00:00\", \"2020-12-23T00:00:00\", \"2020-12-24T00:00:00\", \"2020-12-25T00:00:00\", \"2020-12-26T00:00:00\", \"2020-12-27T00:00:00\", \"2020-12-28T00:00:00\", \"2020-12-29T00:00:00\", \"2020-12-30T00:00:00\", \"2020-12-31T00:00:00\", \"2021-01-01T00:00:00\", \"2021-01-02T00:00:00\", \"2021-01-03T00:00:00\", \"2021-01-04T00:00:00\", \"2021-01-05T00:00:00\", \"2021-01-06T00:00:00\", \"2021-01-07T00:00:00\", \"2021-01-08T00:00:00\", \"2021-01-09T00:00:00\", \"2021-01-10T00:00:00\", \"2021-01-11T00:00:00\", \"2021-01-12T00:00:00\", \"2021-01-13T00:00:00\", \"2021-01-14T00:00:00\", \"2021-01-15T00:00:00\", \"2021-01-16T00:00:00\", \"2021-01-17T00:00:00\", \"2021-01-18T00:00:00\", \"2021-01-19T00:00:00\", \"2021-01-20T00:00:00\", \"2021-01-21T00:00:00\", \"2021-01-22T00:00:00\", \"2021-01-23T00:00:00\", \"2021-01-24T00:00:00\", \"2021-01-25T00:00:00\", \"2021-01-26T00:00:00\", \"2021-01-27T00:00:00\", \"2021-01-28T00:00:00\", \"2021-01-29T00:00:00\", \"2021-01-30T00:00:00\", \"2021-01-31T00:00:00\", \"2021-02-01T00:00:00\", \"2021-02-02T00:00:00\", \"2021-02-03T00:00:00\", \"2021-02-04T00:00:00\", \"2021-02-05T00:00:00\", \"2021-02-06T00:00:00\", \"2021-02-07T00:00:00\", \"2021-02-08T00:00:00\", \"2021-02-09T00:00:00\", \"2021-02-10T00:00:00\", \"2021-02-11T00:00:00\", \"2021-02-12T00:00:00\", \"2021-02-13T00:00:00\", \"2021-02-14T00:00:00\", \"2021-02-15T00:00:00\", \"2021-02-16T00:00:00\", \"2021-02-17T00:00:00\", \"2021-02-18T00:00:00\", \"2021-02-19T00:00:00\", \"2021-02-20T00:00:00\", \"2021-02-21T00:00:00\", \"2021-02-22T00:00:00\", \"2021-02-23T00:00:00\", \"2021-02-24T00:00:00\", \"2021-02-25T00:00:00\", \"2021-02-26T00:00:00\", \"2021-02-27T00:00:00\", \"2021-02-28T00:00:00\", \"2021-03-01T00:00:00\", \"2021-03-02T00:00:00\", \"2021-03-03T00:00:00\", \"2021-03-04T00:00:00\", \"2021-03-05T00:00:00\", \"2021-03-06T00:00:00\", \"2021-03-07T00:00:00\", \"2021-03-08T00:00:00\", \"2021-03-09T00:00:00\", \"2021-03-10T00:00:00\", \"2021-03-11T00:00:00\", \"2021-03-12T00:00:00\", \"2021-03-13T00:00:00\", \"2021-03-14T00:00:00\", \"2021-03-15T00:00:00\", \"2021-03-16T00:00:00\", \"2021-03-17T00:00:00\", \"2021-03-18T00:00:00\", \"2021-03-19T00:00:00\", \"2021-03-20T00:00:00\", \"2021-03-21T00:00:00\", \"2021-03-22T00:00:00\", \"2021-03-23T00:00:00\", \"2021-03-24T00:00:00\", \"2021-03-25T00:00:00\", \"2021-03-26T00:00:00\", \"2021-03-27T00:00:00\", \"2021-03-28T00:00:00\", \"2021-03-28T00:00:00\", \"2021-03-29T00:00:00\", \"2021-03-30T00:00:00\", \"2021-03-31T00:00:00\", \"2021-04-01T00:00:00\", \"2021-04-02T00:00:00\", \"2021-04-03T00:00:00\", \"2021-04-04T00:00:00\", \"2021-04-05T00:00:00\", \"2021-04-06T00:00:00\", \"2021-04-07T00:00:00\", \"2021-04-08T00:00:00\", \"2021-04-09T00:00:00\", \"2021-04-10T00:00:00\", \"2021-04-11T00:00:00\", \"2021-04-12T00:00:00\", \"2021-04-13T00:00:00\", \"2021-04-14T00:00:00\", \"2021-04-15T00:00:00\", \"2021-04-16T00:00:00\", \"2021-04-18T00:00:00\"], \"y\": [-9014.875, 6830.1875, -7950.375, -11672.9375, 3241.4375, -28004.6875, -77055.4375, -8096.3125, -26305.0625, 7267.8125, -1614.5, -10012.375, 14514.8125, 6950.6875, 3821.375, -10328.125, -5467.875, -4155.8125, -11445.6875, 20349.8125, -218.75, 25194.1875, -1025.9375, -18206.8125, 1484.25, -2177.875, 6524.5625, -9899.875, -12328.0625, 2104.75, -9400.125, 1049.0625, 15528.25, 328.4375, -12325.6875, -40677.125, 984.0625, 81612.25, 40902.625, 21960.9375, -22764.6875, 14090.1875, -15846.375, 1062.8125, 2216.875, 2885.75, -6306.9375, 14995.0625, -5143.3125, 3639.75, -5681.0, -29810.625, 293.5625, 17290.0625, -19616.625, 5954.0, 2913.4375, -9109.3125, -18189.375, 4401.5, 1992.0625, -16467.1875, -7811.875, -13336.9375, -27551.625, -24589.65625, 7296.4375, -25171.03125, 6875.90625, 3436.75, 20693.28125, -2868.3125, 22600.625, -13950.9375, -10589.125, -8175.6875, 611.5, -6814.15625, 13236.84375, 6145.4375, 639.75, 896.4375, -13860.6875, -9449.375, -4904.15625, 640.1875, 2635.34375, -10195.46875, 1963.8125, -14130.125, -19747.3125, 44433.09375, -3637.4375, -229.21875, -2092.8125, 22784.53125, -10010.4375, -1981.375, -3605.78125, -2258.0625, 4627.5625, 2068.4375, 7530.84375, -9891.1875, -7343.15625, -149.03125, -14606.53125, 28733.8125, 4684.625, 81.75, 26003.9375, 29745.9375, -10104.8125, -16495.4375, 18846.6875, -9094.5, 11314.125, -5135.125, 49692.8125, -2453.625, -4252.4375, 15249.375, 1108.0625, -16666.0, -3426.8125, 7411.0625, -5119.3125, -17632.5, 2797.375, -5154.8125, 16589.125, 23387.5625, 29909.8125, -2261.0625, 16233.5, -11956.5, 3325.9375, -3250.0625, -5283.5625, -9945.3125, 31347.0, 9071.375, 7073.5, 5152.625, 18075.5625, -20640.875, 24967.125, 9030.5, -8095.75, 9729.6875, -30358.3125, 3247.375, -19259.1875, 34454.4375, -36158.1875, 981.8125, 5419.9375, -1763.0, 18749.5, -17923.1875, -23887.5625, -39040.3125, -2728.125, -4164.6875, -5175.1875, -2692.4375, 24323.375, 3180.75, -1836.3125, 26680.375, 4557.0625, -15587.25, -59223.6875, -10470.375, -2553.6875, -315.0625, -216984.75, 37975.90625, -27565.375, 13964.53125, -25500.5, 15105.125, 5854.65625, 72016.875, 3401.78125, -1622.5, -27369.34375, 50820.40625, 18722.28125, -5147.75, -4391.59375, -17681.125, -16851.625, -21146.65625, 38110.15625, 123.1875, 21031.15625, 11497.40625, -3205.8125, 9869.21875, -6679.4375, 34951.96875, -9754.5625, 14087.25, -3149.0, -31450.6875, -636.625, 8609.6875, -8622.21875, -2068.25, -11904.53125, 38994.59375, 12658.3125, -4973.5625, -23189.75, 2635.1875, 14316.0, 20478.4375, 11313.5, 1363.5, 8215.0625, 8124.25, -130.0625, 68571.9375, -9240.75, 18451.875, 8816.4375, -9181.75, 2228.6875, 9551.8125, 22461.5625, 47461.9375, -9402.6875, -18374.6875, -62766.4375, -8137.75, 9732.625, 35639.375, 35453.375, -27094.5, 3321.4375, 21990.6875, 1718.25, 1122.1875, -16938.6875, -32430.625, 11021.5625, 1841.0, -32064.25, 8190.0, -9133.3125, 29665.875, 24001.375, -8423.5, 19749.3125, -18053.5625, 53045.25, -52077.9375, 11759.0, 12180.6875, -9133.5625, -848.25, 7544.125, -247.125, 2645.5, 7409.8125, -38741.1875, 11996.5, -414.625, -6893.875, 5112.25, 10423.1875, -4284.1875, -5163.125, -10720.25, 3155.375, -2080.5, 22060.125, -2802.0, -22858.5, -5629.375, -6601.0625, -9259.375, 7121.1875, 2841.5625, -3168.9375, 5277.9375, -13285.875, -4724.5625, 3603.625, -3893.4375, 21926.6875, -4490.5625, 13475.6875, -9410.9375, 605.3125, -2453.3125, 2324.25, -2031.875, 1404.125, -5317.1875, -4217.375, -1119.75, 588.375, 2082.9375, -3070.6875, 13935.8125, 11836.5, 6359.0625, -4870.75, 10284.1875, 17158.25, 81627.25, -6755.125, 13103.6875, 335.9375, 17763.5, 32746.0625, -52967.75, 17960.3125, -4196.0, 37672.625, 3485.3125, -11871.625, 11212.875, -4625.9375, 14426.0, -38238.625, 15224.4375, 15280.625, 78.375, 7261.0, 2530.0, 24957.625, -21525.25, -12700.3125, 8968.1875, -22106.0625, 7219.25, -1197.125, -266.125, -29723.0625, 9277.875, -17558.1875, 8570.5, -2500.1875, 14830.4375, 1236.625, 16935.875, -38116.5625, -83076.75, 18515.8125, -25120.75, 8742.625, 8095.25, -14001.625, 3277.125, 11003.75, 1741.0, 2373.9375, -9428.0, 25026.3125, 11023.875, 12390.375, -1429.25, -242.25, 11821.3125, -12422.25, -34286.75, 4991.4375, -20200.625, 39788.6875, -5780.375, 3847.125, 1584.0625, -3005.875, 9640.9375, -6325.1875, -14872.25, -2151.0625, -1342.75, 8543.3125, 6270.875, -7687.25, 1377.8125, 17425.375, 17307.75, 7041.0, -1372.1875, 5912.0, -12432.0, 2642.4375, 9349.9375, 17591.625, 13501.9375, 70051.3125, 12128.0625, -1566.75, 13030.9375, -5651.5, 4725.1875, 40854.875, -23136.0, 13582.0, 12559.4375, 17494.125, -2977.125, -16296.75, 32584.625, 7021.125, 106458.5, -3460.25, -54163.5, 47729.25, -11211.25, 1948.5, 34547.125, 48461.0, -2606.75, -18609.75, -8389.375, 54690.25, 73832.625, 6235.75, -1461.5, 60704.875, 1551.25, -20400.0, 1272.0, 49716.0, -30735.375, -115792.0, -1599.75, 45153.75, 33626.0, 108046.875, -67692.75, 29282.5, 23015.0, -57878.625, 33640.75, 14176.75, -11043.5, -65787.625, 18881.75, -21738.875, -16109.0, 55476.125, 24789.625, 5832.5, 10078.125, 140801.5, 108445.0, 26133.5, 54246.0, -28549.375, -41681.125, 77546.375, -46614.25, 29915.625, 68521.0, 129465.5, -7924.5, 54396.75, 17708.125, 101587.625, 7885.5, 28795.75, 201063.0, 47529.5, -61235.25, 149972.75, 204707.5, 197505.75, 101291.0, -39231.75, -140101.5, -198145.75, -129780.75, 249675.75, 133141.75, -167784.75, -48201.5, -26670.0, 62869.25, -41794.75, -46832.5, -342982.75, 161096.5, -67021.75, 16310.75, 5063.75, 13772.75, -151800.5, 85098.25, -1257.75, -1939.5, -84197.0, 37839.5, 137395.5, 140767.5, -35272.5, 80960.75, 82077.75, -24977.0, 538346.5, 18141.75, -115211.0, 214510.5, -32705.0, -27992.5, 116542.25, -52448.75, 105770.0, 207182.0, -43297.0, 302791.5, 16468.5, 106310.25, -246949.5, -393562.0, 63661.0, -153750.0, -40877.5, -11504.75, -73339.75, 310555.5, -92024.5, 141492.5, -136683.0, 31592.75, 962.25, 167559.0, 86183.25, 156672.25, 82291.0, 130053.75, -32663.5, 283467.5, -139412.0, -254029.25, 69924.5, 151496.25, -69251.5, 22745.0, -1348.5, -58674.75, -218153.75, 29134.0, -138831.25, -75982.75, 241693.75, 60562.0, -1749.75, 147591.0, 126373.5, -15087.5, 17341.5, 26181.0, -131601.5, 84661.5, 16093.5, -60069.0, -105472.0, 173818.0, 4693.0, 115043.0, 26810.5, -5447.0, 283073.0, -40936.5, -994.5, -136083.5, -63664.5, -81576.75]}],\n",
              "                        {\"template\": {\"data\": {\"bar\": [{\"error_x\": {\"color\": \"#2a3f5f\"}, \"error_y\": {\"color\": \"#2a3f5f\"}, \"marker\": {\"line\": {\"color\": \"#E5ECF6\", \"width\": 0.5}}, \"type\": \"bar\"}], \"barpolar\": [{\"marker\": {\"line\": {\"color\": \"#E5ECF6\", \"width\": 0.5}}, \"type\": \"barpolar\"}], \"carpet\": [{\"aaxis\": {\"endlinecolor\": \"#2a3f5f\", \"gridcolor\": \"white\", \"linecolor\": \"white\", \"minorgridcolor\": \"white\", \"startlinecolor\": \"#2a3f5f\"}, \"baxis\": {\"endlinecolor\": \"#2a3f5f\", \"gridcolor\": \"white\", \"linecolor\": \"white\", \"minorgridcolor\": \"white\", \"startlinecolor\": \"#2a3f5f\"}, \"type\": \"carpet\"}], \"choropleth\": [{\"colorbar\": {\"outlinewidth\": 0, \"ticks\": \"\"}, \"type\": \"choropleth\"}], \"contour\": [{\"colorbar\": {\"outlinewidth\": 0, \"ticks\": \"\"}, \"colorscale\": [[0.0, \"#0d0887\"], [0.1111111111111111, \"#46039f\"], [0.2222222222222222, \"#7201a8\"], [0.3333333333333333, \"#9c179e\"], [0.4444444444444444, \"#bd3786\"], [0.5555555555555556, \"#d8576b\"], [0.6666666666666666, \"#ed7953\"], [0.7777777777777778, \"#fb9f3a\"], [0.8888888888888888, \"#fdca26\"], [1.0, \"#f0f921\"]], \"type\": \"contour\"}], \"contourcarpet\": [{\"colorbar\": {\"outlinewidth\": 0, \"ticks\": \"\"}, \"type\": \"contourcarpet\"}], \"heatmap\": [{\"colorbar\": {\"outlinewidth\": 0, \"ticks\": \"\"}, \"colorscale\": [[0.0, \"#0d0887\"], [0.1111111111111111, \"#46039f\"], [0.2222222222222222, \"#7201a8\"], [0.3333333333333333, \"#9c179e\"], [0.4444444444444444, \"#bd3786\"], [0.5555555555555556, \"#d8576b\"], [0.6666666666666666, \"#ed7953\"], [0.7777777777777778, \"#fb9f3a\"], [0.8888888888888888, \"#fdca26\"], [1.0, \"#f0f921\"]], \"type\": \"heatmap\"}], \"heatmapgl\": [{\"colorbar\": {\"outlinewidth\": 0, \"ticks\": \"\"}, \"colorscale\": [[0.0, \"#0d0887\"], [0.1111111111111111, \"#46039f\"], [0.2222222222222222, \"#7201a8\"], [0.3333333333333333, \"#9c179e\"], [0.4444444444444444, \"#bd3786\"], [0.5555555555555556, \"#d8576b\"], [0.6666666666666666, \"#ed7953\"], [0.7777777777777778, \"#fb9f3a\"], [0.8888888888888888, \"#fdca26\"], [1.0, \"#f0f921\"]], \"type\": \"heatmapgl\"}], \"histogram\": [{\"marker\": {\"colorbar\": {\"outlinewidth\": 0, \"ticks\": \"\"}}, \"type\": \"histogram\"}], \"histogram2d\": [{\"colorbar\": {\"outlinewidth\": 0, \"ticks\": \"\"}, \"colorscale\": [[0.0, \"#0d0887\"], [0.1111111111111111, \"#46039f\"], [0.2222222222222222, \"#7201a8\"], [0.3333333333333333, \"#9c179e\"], [0.4444444444444444, \"#bd3786\"], [0.5555555555555556, \"#d8576b\"], [0.6666666666666666, \"#ed7953\"], [0.7777777777777778, \"#fb9f3a\"], [0.8888888888888888, \"#fdca26\"], [1.0, \"#f0f921\"]], \"type\": \"histogram2d\"}], \"histogram2dcontour\": [{\"colorbar\": {\"outlinewidth\": 0, \"ticks\": \"\"}, \"colorscale\": [[0.0, \"#0d0887\"], [0.1111111111111111, \"#46039f\"], [0.2222222222222222, \"#7201a8\"], [0.3333333333333333, \"#9c179e\"], [0.4444444444444444, \"#bd3786\"], [0.5555555555555556, \"#d8576b\"], [0.6666666666666666, \"#ed7953\"], [0.7777777777777778, \"#fb9f3a\"], [0.8888888888888888, \"#fdca26\"], [1.0, \"#f0f921\"]], \"type\": \"histogram2dcontour\"}], \"mesh3d\": [{\"colorbar\": {\"outlinewidth\": 0, \"ticks\": \"\"}, \"type\": \"mesh3d\"}], \"parcoords\": [{\"line\": {\"colorbar\": {\"outlinewidth\": 0, \"ticks\": \"\"}}, \"type\": \"parcoords\"}], \"pie\": [{\"automargin\": true, \"type\": \"pie\"}], \"scatter\": [{\"marker\": {\"colorbar\": {\"outlinewidth\": 0, \"ticks\": \"\"}}, \"type\": \"scatter\"}], \"scatter3d\": [{\"line\": {\"colorbar\": {\"outlinewidth\": 0, \"ticks\": \"\"}}, \"marker\": {\"colorbar\": {\"outlinewidth\": 0, \"ticks\": \"\"}}, \"type\": \"scatter3d\"}], \"scattercarpet\": [{\"marker\": {\"colorbar\": {\"outlinewidth\": 0, \"ticks\": \"\"}}, \"type\": \"scattercarpet\"}], \"scattergeo\": [{\"marker\": {\"colorbar\": {\"outlinewidth\": 0, \"ticks\": \"\"}}, \"type\": \"scattergeo\"}], \"scattergl\": [{\"marker\": {\"colorbar\": {\"outlinewidth\": 0, \"ticks\": \"\"}}, \"type\": \"scattergl\"}], \"scattermapbox\": [{\"marker\": {\"colorbar\": {\"outlinewidth\": 0, \"ticks\": \"\"}}, \"type\": \"scattermapbox\"}], \"scatterpolar\": [{\"marker\": {\"colorbar\": {\"outlinewidth\": 0, \"ticks\": \"\"}}, \"type\": \"scatterpolar\"}], \"scatterpolargl\": [{\"marker\": {\"colorbar\": {\"outlinewidth\": 0, \"ticks\": \"\"}}, \"type\": \"scatterpolargl\"}], \"scatterternary\": [{\"marker\": {\"colorbar\": {\"outlinewidth\": 0, \"ticks\": \"\"}}, \"type\": \"scatterternary\"}], \"surface\": [{\"colorbar\": {\"outlinewidth\": 0, \"ticks\": \"\"}, \"colorscale\": [[0.0, \"#0d0887\"], [0.1111111111111111, \"#46039f\"], [0.2222222222222222, \"#7201a8\"], [0.3333333333333333, \"#9c179e\"], [0.4444444444444444, \"#bd3786\"], [0.5555555555555556, \"#d8576b\"], [0.6666666666666666, \"#ed7953\"], [0.7777777777777778, \"#fb9f3a\"], [0.8888888888888888, \"#fdca26\"], [1.0, \"#f0f921\"]], \"type\": \"surface\"}], \"table\": [{\"cells\": {\"fill\": {\"color\": \"#EBF0F8\"}, \"line\": {\"color\": \"white\"}}, \"header\": {\"fill\": {\"color\": \"#C8D4E3\"}, \"line\": {\"color\": \"white\"}}, \"type\": \"table\"}]}, \"layout\": {\"annotationdefaults\": {\"arrowcolor\": \"#2a3f5f\", \"arrowhead\": 0, \"arrowwidth\": 1}, \"coloraxis\": {\"colorbar\": {\"outlinewidth\": 0, \"ticks\": \"\"}}, \"colorscale\": {\"diverging\": [[0, \"#8e0152\"], [0.1, \"#c51b7d\"], [0.2, \"#de77ae\"], [0.3, \"#f1b6da\"], [0.4, \"#fde0ef\"], [0.5, \"#f7f7f7\"], [0.6, \"#e6f5d0\"], [0.7, \"#b8e186\"], [0.8, \"#7fbc41\"], [0.9, \"#4d9221\"], [1, \"#276419\"]], \"sequential\": [[0.0, \"#0d0887\"], [0.1111111111111111, \"#46039f\"], [0.2222222222222222, \"#7201a8\"], [0.3333333333333333, \"#9c179e\"], [0.4444444444444444, \"#bd3786\"], [0.5555555555555556, \"#d8576b\"], [0.6666666666666666, \"#ed7953\"], [0.7777777777777778, \"#fb9f3a\"], [0.8888888888888888, \"#fdca26\"], [1.0, \"#f0f921\"]], \"sequentialminus\": [[0.0, \"#0d0887\"], [0.1111111111111111, \"#46039f\"], [0.2222222222222222, \"#7201a8\"], [0.3333333333333333, \"#9c179e\"], [0.4444444444444444, \"#bd3786\"], [0.5555555555555556, \"#d8576b\"], [0.6666666666666666, \"#ed7953\"], [0.7777777777777778, \"#fb9f3a\"], [0.8888888888888888, \"#fdca26\"], [1.0, \"#f0f921\"]]}, \"colorway\": [\"#636efa\", \"#EF553B\", \"#00cc96\", \"#ab63fa\", \"#FFA15A\", \"#19d3f3\", \"#FF6692\", \"#B6E880\", \"#FF97FF\", \"#FECB52\"], \"font\": {\"color\": \"#2a3f5f\"}, \"geo\": {\"bgcolor\": \"white\", \"lakecolor\": \"white\", \"landcolor\": \"#E5ECF6\", \"showlakes\": true, \"showland\": true, \"subunitcolor\": \"white\"}, \"hoverlabel\": {\"align\": \"left\"}, \"hovermode\": \"closest\", \"mapbox\": {\"style\": \"light\"}, \"paper_bgcolor\": \"white\", \"plot_bgcolor\": \"#E5ECF6\", \"polar\": {\"angularaxis\": {\"gridcolor\": \"white\", \"linecolor\": \"white\", \"ticks\": \"\"}, \"bgcolor\": \"#E5ECF6\", \"radialaxis\": {\"gridcolor\": \"white\", \"linecolor\": \"white\", \"ticks\": \"\"}}, \"scene\": {\"xaxis\": {\"backgroundcolor\": \"#E5ECF6\", \"gridcolor\": \"white\", \"gridwidth\": 2, \"linecolor\": \"white\", \"showbackground\": true, \"ticks\": \"\", \"zerolinecolor\": \"white\"}, \"yaxis\": {\"backgroundcolor\": \"#E5ECF6\", \"gridcolor\": \"white\", \"gridwidth\": 2, \"linecolor\": \"white\", \"showbackground\": true, \"ticks\": \"\", \"zerolinecolor\": \"white\"}, \"zaxis\": {\"backgroundcolor\": \"#E5ECF6\", \"gridcolor\": \"white\", \"gridwidth\": 2, \"linecolor\": \"white\", \"showbackground\": true, \"ticks\": \"\", \"zerolinecolor\": \"white\"}}, \"shapedefaults\": {\"line\": {\"color\": \"#2a3f5f\"}}, \"ternary\": {\"aaxis\": {\"gridcolor\": \"white\", \"linecolor\": \"white\", \"ticks\": \"\"}, \"baxis\": {\"gridcolor\": \"white\", \"linecolor\": \"white\", \"ticks\": \"\"}, \"bgcolor\": \"#E5ECF6\", \"caxis\": {\"gridcolor\": \"white\", \"linecolor\": \"white\", \"ticks\": \"\"}}, \"title\": {\"x\": 0.05}, \"xaxis\": {\"automargin\": true, \"gridcolor\": \"white\", \"linecolor\": \"white\", \"ticks\": \"\", \"title\": {\"standoff\": 15}, \"zerolinecolor\": \"white\", \"zerolinewidth\": 2}, \"yaxis\": {\"automargin\": true, \"gridcolor\": \"white\", \"linecolor\": \"white\", \"ticks\": \"\", \"title\": {\"standoff\": 15}, \"zerolinecolor\": \"white\", \"zerolinewidth\": 2}}}, \"xaxis\": {\"title\": {\"text\": \"Date\"}}, \"yaxis\": {\"title\": {\"text\": \"Price difference\"}}},\n",
              "                        {\"responsive\": true}\n",
              "                    ).then(function(){\n",
              "                            \n",
              "var gd = document.getElementById('c1b96e4c-8011-4aee-bb09-5443432cf6e5');\n",
              "var x = new MutationObserver(function (mutations, observer) {{\n",
              "        var display = window.getComputedStyle(gd).display;\n",
              "        if (!display || display === 'none') {{\n",
              "            console.log([gd, 'removed!']);\n",
              "            Plotly.purge(gd);\n",
              "            observer.disconnect();\n",
              "        }}\n",
              "}});\n",
              "\n",
              "// Listen for the removal of the full notebook cells\n",
              "var notebookContainer = gd.closest('#notebook-container');\n",
              "if (notebookContainer) {{\n",
              "    x.observe(notebookContainer, {childList: true});\n",
              "}}\n",
              "\n",
              "// Listen for the clearing of the current output cell\n",
              "var outputEl = gd.closest('.output');\n",
              "if (outputEl) {{\n",
              "    x.observe(outputEl, {childList: true});\n",
              "}}\n",
              "\n",
              "                        })\n",
              "                };\n",
              "                \n",
              "            </script>\n",
              "        </div>\n",
              "</body>\n",
              "</html>"
            ]
          },
          "metadata": {
            "tags": []
          }
        }
      ]
    },
    {
      "cell_type": "markdown",
      "metadata": {
        "id": "31nTA49EjAPM"
      },
      "source": [
        "### Histogram for price "
      ]
    },
    {
      "cell_type": "code",
      "metadata": {
        "colab": {
          "base_uri": "https://localhost:8080/",
          "height": 817
        },
        "id": "qbGSlDFeoIpg",
        "outputId": "faa082d0-d425-4011-8a4c-4554e451a7e1"
      },
      "source": [
        "fig = px.histogram(bitcoin, x=\"Adj Close\")\n",
        "fig.update_layout(title_text='Distributions of Adj Close', height=800)\n",
        "fig.show()"
      ],
      "execution_count": 34,
      "outputs": [
        {
          "output_type": "display_data",
          "data": {
            "text/html": [
              "<html>\n",
              "<head><meta charset=\"utf-8\" /></head>\n",
              "<body>\n",
              "    <div>\n",
              "            <script src=\"https://cdnjs.cloudflare.com/ajax/libs/mathjax/2.7.5/MathJax.js?config=TeX-AMS-MML_SVG\"></script><script type=\"text/javascript\">if (window.MathJax) {MathJax.Hub.Config({SVG: {font: \"STIX-Web\"}});}</script>\n",
              "                <script type=\"text/javascript\">window.PlotlyConfig = {MathJaxConfig: 'local'};</script>\n",
              "        <script src=\"https://cdn.plot.ly/plotly-latest.min.js\"></script>    \n",
              "            <div id=\"eed135c8-43cb-475c-a024-01fdeaea2647\" class=\"plotly-graph-div\" style=\"height:800px; width:100%;\"></div>\n",
              "            <script type=\"text/javascript\">\n",
              "                \n",
              "                    window.PLOTLYENV=window.PLOTLYENV || {};\n",
              "                    \n",
              "                if (document.getElementById(\"eed135c8-43cb-475c-a024-01fdeaea2647\")) {\n",
              "                    Plotly.newPlot(\n",
              "                        'eed135c8-43cb-475c-a024-01fdeaea2647',\n",
              "                        [{\"alignmentgroup\": \"True\", \"bingroup\": \"x\", \"hoverlabel\": {\"namelength\": 0}, \"hovertemplate\": \"Adj Close=%{x}<br>count=%{y}\", \"legendgroup\": \"\", \"marker\": {\"color\": \"#636efa\"}, \"name\": \"\", \"offsetgroup\": \"\", \"orientation\": \"v\", \"showlegend\": false, \"type\": \"histogram\", \"x\": [725961.0, 732951.1875, 724993.9375, 713463.9375, 717018.5625, 688840.875, 611785.25, 602472.6875, 576215.6875, 583067.125, 581412.25, 571408.5, 585926.1875, 593290.375, 597178.3125, 586688.8125, 581185.625, 577328.0, 565767.3125, 586185.4375, 586053.9375, 611323.4375, 609553.5625, 591260.8125, 592312.25, 590159.0, 596671.25, 586683.875, 574306.125, 576431.25, 566819.3125, 567910.75, 584096.375, 584640.5625, 572292.25, 531475.1875, 532109.625, 613524.0625, 654913.8125, 676643.4375, 654827.125, 668372.0625, 652155.3125, 652986.5625, 654806.4375, 657598.75, 651296.6875, 666309.5, 661194.0, 664716.0625, 658432.4375, 628466.0, 629087.0625, 646299.125, 626781.8125, 632876.3125, 635529.25, 626685.0, 608323.875, 612666.1875, 614565.8125, 597812.375, 589701.8125, 576182.875, 548371.125, 523840.28125, 531107.0625, 505996.15625, 512302.03125, 515668.875, 536541.4375, 534040.5, 556900.25, 543151.25, 532704.625, 524510.5625, 525264.375, 518448.71875, 531771.875, 538078.25, 538737.125, 539284.25, 525241.75, 515525.1875, 510555.71875, 511147.21875, 513890.375, 503639.625, 505572.75, 491538.84375, 471708.9375, 516652.3125, 513070.84375, 513254.25, 511287.78125, 534074.4375, 523873.0, 521803.625, 518427.5625, 516144.125, 520712.8125, 522705.71875, 530212.125, 520151.0, 512910.8125, 512853.96875, 498416.75, 527076.25, 531796.125, 531863.1875, 557805.0, 587512.375, 577281.125, 560959.5625, 579751.875, 570347.625, 581358.3125, 576030.0, 625492.125, 622867.0, 619001.5, 634351.875, 635330.25, 618567.375, 615025.9375, 622532.8125, 617293.625, 599645.0625, 602374.8125, 596840.9375, 613184.875, 636606.5625, 666709.6875, 664368.875, 680558.6875, 668553.5, 671581.1875, 668112.75, 662852.0, 652858.25, 684379.6875, 693764.0625, 700566.6875, 705513.875, 723501.875, 702781.3125, 727697.125, 736310.6875, 728065.625, 737593.6875, 707359.875, 710589.75, 691482.6875, 726014.75, 689985.5625, 690676.4375, 696334.0625, 694662.0, 713421.3125, 695287.375, 671481.8125, 632196.0, 629795.5, 625934.4375, 620669.5625, 617995.125, 642377.0, 645247.625, 643466.8125, 670517.5, 675041.0, 659383.8125, 600030.75, 589784.625, 587119.4375, 586831.125, 370008.5625, 411486.1875, 384613.875, 398630.21875, 372605.9375, 386826.6875, 392791.21875, 465331.3125, 468767.71875, 467730.8125, 440398.625, 491303.625, 511582.4375, 506731.90625, 501893.40625, 484432.59375, 467390.5, 446500.71875, 484874.40625, 485055.25, 505986.5625, 517483.96875, 514565.46875, 524816.4375, 517755.6875, 552472.875, 542859.875, 557164.125, 554308.9375, 522989.25, 522500.9375, 531033.3125, 521994.03125, 519791.875, 508125.40625, 546993.3125, 555218.625, 550494.25, 527109.1875, 529577.8125, 543825.8125, 564617.4375, 576269.6875, 577601.25, 585831.8125, 593921.875, 593896.1875, 662441.8125, 652947.5625, 672472.375, 681614.25, 672054.6875, 674153.1875, 683718.375, 706511.875, 753450.375, 742885.0625, 724377.5625, 661405.1875, 653199.75, 663584.6875, 699292.625, 734847.1875, 707795.625, 711499.6875, 733332.25, 735426.3125, 736585.4375, 719366.0, 686917.1875, 697830.8125, 699860.6875, 668024.0625, 675890.25, 666958.125, 696799.8125, 721099.1875, 712872.875, 732606.3125, 714529.4375, 767767.0, 715364.75, 727420.75, 739536.4375, 730371.125, 729475.4375, 736968.5, 736812.8125, 739674.75, 746965.1875, 708222.8125, 720136.4375, 719713.625, 712992.6875, 718047.8125, 728741.8125, 724133.625, 719070.6875, 708232.3125, 711612.0, 709423.625, 731276.8125, 728123.0, 705452.875, 699862.625, 692973.125, 684084.8125, 691438.1875, 694011.0625, 690443.9375, 696325.6875, 683252.1875, 678634.875, 682009.1875, 677638.0, 699483.0625, 693029.3125, 706560.625, 697124.25, 697383.125, 694832.4375, 697210.0, 695231.125, 696265.9375, 690849.5625, 686567.75, 685416.75, 685989.5625, 687995.0625, 685029.5, 698836.9375, 710687.8125, 717179.625, 712641.4375, 723119.375, 740510.875, 822141.9375, 817375.875, 830489.3125, 830777.6875, 848466.1875, 881145.125, 828115.3125, 845338.0625, 841131.125, 878648.375, 882346.75, 870409.25, 881853.25, 875972.8125, 889387.3125, 851413.5, 866195.5625, 881735.6875, 880955.25, 888203.3125, 890807.1875, 915978.5625, 894266.0, 881539.6875, 890749.0, 868617.0625, 875311.0, 873954.3125, 873601.4375, 843803.6875, 853137.9375, 835375.125, 844085.6875, 841479.8125, 856445.4375, 857813.75, 874639.1875, 836109.375, 752531.375, 769950.4375, 744882.125, 753452.625, 761595.1875, 747574.6875, 751046.25, 762048.75, 764222.8125, 767254.125, 758577.6875, 783969.75, 794767.375, 807217.4375, 805666.625, 805632.625, 816656.5, 804346.375, 769813.625, 774611.125, 754483.6875, 794391.5625, 788753.4375, 792596.6875, 794070.375, 790859.25, 799846.3125, 793269.0625, 778205.125, 776131.75, 774689.4375, 783410.6875, 789945.875, 781949.875, 783190.8125, 800505.3125, 824196.0625, 831216.6875, 837731.9375, 843431.0625, 831547.75, 834190.1875, 843384.5, 861833.8125, 875624.8125, 945436.75, 955938.875, 954789.1875, 967822.6875, 962171.1875, 966898.375, 1007752.875, 984616.5625, 998199.5625, 1010758.25, 1028253.1875, 1025276.0625, 1008973.5, 1041555.25, 1048590.375, 1155050.875, 1151581.75, 1097418.25, 1145147.375, 1133938.25, 1135889.25, 1170436.875, 1218894.75, 1216295.125, 1197685.375, 1189296.0, 1243985.5, 1315554.25, 1321773.875, 1320301.625, 1381006.0, 1382557.375, 1362157.375, 1363430.5, 1413212.875, 1382251.625, 1266291.375, 1264934.5, 1310423.375, 1344213.625, 1452322.5, 1385217.0, 1414407.125, 1437778.25, 1380015.625, 1413554.5, 1427727.5, 1416537.0, 1350741.875, 1369604.5, 1347820.25, 1331632.875, 1386549.75, 1411568.625, 1417556.75, 1427655.25, 1568584.75, 1676864.375, 1703118.125, 1756989.125, 1727846.0, 1685955.875, 1762833.75, 1716141.375, 1745972.625, 1814318.625, 1944683.375, 1936930.75, 1991956.25, 2009443.875, 2110859.25, 2118790.25, 2147022.75, 2348254.25, 2395940.25, 2336819.0, 2487166.5, 2693424.25, 2891625.75, 2993704.25, 2953814.25, 2813688.5, 2614815.75, 2481337.5, 2730439.75, 2864221.75, 2694199.0, 2645725.5, 2617995.75, 2680935.25, 2640030.25, 2591756.25, 2248893.5, 2409401.0, 2340918.75, 2356991.0, 2361793.5, 2374998.5, 2222773.5, 2308492.25, 2501913.5, 2498482.75, 2414384.5, 2452240.0, 2589344.75, 2730151.0, 2695098.25, 2776459.25, 2858106.25, 2831977.75, 3369115.0, 3386420.25, 3270382.75, 3483475.5, 3448422.25, 3419439.0, 3536634.0, 3482678.5, 3588405.0, 3796127.0, 3752245.0, 4054759.5, 4071170.25, 4175234.25, 3927762.0, 3534027.0, 3598459.75, 3444981.25, 3410439.5, 3399303.75, 3326373.5, 3638530.75, 3545103.5, 3689294.5, 3551448.0, 3580544.25, 3579452.0, 3747472.0, 3831271.25, 3989882.75, 4072166.0, 4198921.0, 4167426.5, 4451714.0, 4310706.5, 4054141.25, 4119249.75, 4272263.5, 4204622.0, 4226751.0, 4224360.0, 4165414.75, 3946860.5, 3974729.0, 3833831.5, 3754396.75, 3994554.75, 4055135.0, 4053488.75, 4200873.5, 4327242.0, 4313079.0, 4330986.5, 4357392.5, 4226751.5, 4311483.0, 4327746.5, 4276035.5, 4170133.5, 4347744.0, 4352631.5, 4468330.5, 4499101.5, 4491485.5, 4774301.0, 4734890.5, 4731307.5, 4591076.5, 4524215.5, 4130716.75], \"xaxis\": \"x\", \"yaxis\": \"y\"}],\n",
              "                        {\"barmode\": \"relative\", \"height\": 800, \"legend\": {\"tracegroupgap\": 0}, \"margin\": {\"t\": 60}, \"template\": {\"data\": {\"bar\": [{\"error_x\": {\"color\": \"#2a3f5f\"}, \"error_y\": {\"color\": \"#2a3f5f\"}, \"marker\": {\"line\": {\"color\": \"#E5ECF6\", \"width\": 0.5}}, \"type\": \"bar\"}], \"barpolar\": [{\"marker\": {\"line\": {\"color\": \"#E5ECF6\", \"width\": 0.5}}, \"type\": \"barpolar\"}], \"carpet\": [{\"aaxis\": {\"endlinecolor\": \"#2a3f5f\", \"gridcolor\": \"white\", \"linecolor\": \"white\", \"minorgridcolor\": \"white\", \"startlinecolor\": \"#2a3f5f\"}, \"baxis\": {\"endlinecolor\": \"#2a3f5f\", \"gridcolor\": \"white\", \"linecolor\": \"white\", \"minorgridcolor\": \"white\", \"startlinecolor\": \"#2a3f5f\"}, \"type\": \"carpet\"}], \"choropleth\": [{\"colorbar\": {\"outlinewidth\": 0, \"ticks\": \"\"}, \"type\": \"choropleth\"}], \"contour\": [{\"colorbar\": {\"outlinewidth\": 0, \"ticks\": \"\"}, \"colorscale\": [[0.0, \"#0d0887\"], [0.1111111111111111, \"#46039f\"], [0.2222222222222222, \"#7201a8\"], [0.3333333333333333, \"#9c179e\"], [0.4444444444444444, \"#bd3786\"], [0.5555555555555556, \"#d8576b\"], [0.6666666666666666, \"#ed7953\"], [0.7777777777777778, \"#fb9f3a\"], [0.8888888888888888, \"#fdca26\"], [1.0, \"#f0f921\"]], \"type\": \"contour\"}], \"contourcarpet\": [{\"colorbar\": {\"outlinewidth\": 0, \"ticks\": \"\"}, \"type\": \"contourcarpet\"}], \"heatmap\": [{\"colorbar\": {\"outlinewidth\": 0, \"ticks\": \"\"}, \"colorscale\": [[0.0, \"#0d0887\"], [0.1111111111111111, \"#46039f\"], [0.2222222222222222, \"#7201a8\"], [0.3333333333333333, \"#9c179e\"], [0.4444444444444444, \"#bd3786\"], [0.5555555555555556, \"#d8576b\"], [0.6666666666666666, \"#ed7953\"], [0.7777777777777778, \"#fb9f3a\"], [0.8888888888888888, \"#fdca26\"], [1.0, \"#f0f921\"]], \"type\": \"heatmap\"}], \"heatmapgl\": [{\"colorbar\": {\"outlinewidth\": 0, \"ticks\": \"\"}, \"colorscale\": [[0.0, \"#0d0887\"], [0.1111111111111111, \"#46039f\"], [0.2222222222222222, \"#7201a8\"], [0.3333333333333333, \"#9c179e\"], [0.4444444444444444, \"#bd3786\"], [0.5555555555555556, \"#d8576b\"], [0.6666666666666666, \"#ed7953\"], [0.7777777777777778, \"#fb9f3a\"], [0.8888888888888888, \"#fdca26\"], [1.0, \"#f0f921\"]], \"type\": \"heatmapgl\"}], \"histogram\": [{\"marker\": {\"colorbar\": {\"outlinewidth\": 0, \"ticks\": \"\"}}, \"type\": \"histogram\"}], \"histogram2d\": [{\"colorbar\": {\"outlinewidth\": 0, \"ticks\": \"\"}, \"colorscale\": [[0.0, \"#0d0887\"], [0.1111111111111111, \"#46039f\"], [0.2222222222222222, \"#7201a8\"], [0.3333333333333333, \"#9c179e\"], [0.4444444444444444, \"#bd3786\"], [0.5555555555555556, \"#d8576b\"], [0.6666666666666666, \"#ed7953\"], [0.7777777777777778, \"#fb9f3a\"], [0.8888888888888888, \"#fdca26\"], [1.0, \"#f0f921\"]], \"type\": \"histogram2d\"}], \"histogram2dcontour\": [{\"colorbar\": {\"outlinewidth\": 0, \"ticks\": \"\"}, \"colorscale\": [[0.0, \"#0d0887\"], [0.1111111111111111, \"#46039f\"], [0.2222222222222222, \"#7201a8\"], [0.3333333333333333, \"#9c179e\"], [0.4444444444444444, \"#bd3786\"], [0.5555555555555556, \"#d8576b\"], [0.6666666666666666, \"#ed7953\"], [0.7777777777777778, \"#fb9f3a\"], [0.8888888888888888, \"#fdca26\"], [1.0, \"#f0f921\"]], \"type\": \"histogram2dcontour\"}], \"mesh3d\": [{\"colorbar\": {\"outlinewidth\": 0, \"ticks\": \"\"}, \"type\": \"mesh3d\"}], \"parcoords\": [{\"line\": {\"colorbar\": {\"outlinewidth\": 0, \"ticks\": \"\"}}, \"type\": \"parcoords\"}], \"pie\": [{\"automargin\": true, \"type\": \"pie\"}], \"scatter\": [{\"marker\": {\"colorbar\": {\"outlinewidth\": 0, \"ticks\": \"\"}}, \"type\": \"scatter\"}], \"scatter3d\": [{\"line\": {\"colorbar\": {\"outlinewidth\": 0, \"ticks\": \"\"}}, \"marker\": {\"colorbar\": {\"outlinewidth\": 0, \"ticks\": \"\"}}, \"type\": \"scatter3d\"}], \"scattercarpet\": [{\"marker\": {\"colorbar\": {\"outlinewidth\": 0, \"ticks\": \"\"}}, \"type\": \"scattercarpet\"}], \"scattergeo\": [{\"marker\": {\"colorbar\": {\"outlinewidth\": 0, \"ticks\": \"\"}}, \"type\": \"scattergeo\"}], \"scattergl\": [{\"marker\": {\"colorbar\": {\"outlinewidth\": 0, \"ticks\": \"\"}}, \"type\": \"scattergl\"}], \"scattermapbox\": [{\"marker\": {\"colorbar\": {\"outlinewidth\": 0, \"ticks\": \"\"}}, \"type\": \"scattermapbox\"}], \"scatterpolar\": [{\"marker\": {\"colorbar\": {\"outlinewidth\": 0, \"ticks\": \"\"}}, \"type\": \"scatterpolar\"}], \"scatterpolargl\": [{\"marker\": {\"colorbar\": {\"outlinewidth\": 0, \"ticks\": \"\"}}, \"type\": \"scatterpolargl\"}], \"scatterternary\": [{\"marker\": {\"colorbar\": {\"outlinewidth\": 0, \"ticks\": \"\"}}, \"type\": \"scatterternary\"}], \"surface\": [{\"colorbar\": {\"outlinewidth\": 0, \"ticks\": \"\"}, \"colorscale\": [[0.0, \"#0d0887\"], [0.1111111111111111, \"#46039f\"], [0.2222222222222222, \"#7201a8\"], [0.3333333333333333, \"#9c179e\"], [0.4444444444444444, \"#bd3786\"], [0.5555555555555556, \"#d8576b\"], [0.6666666666666666, \"#ed7953\"], [0.7777777777777778, \"#fb9f3a\"], [0.8888888888888888, \"#fdca26\"], [1.0, \"#f0f921\"]], \"type\": \"surface\"}], \"table\": [{\"cells\": {\"fill\": {\"color\": \"#EBF0F8\"}, \"line\": {\"color\": \"white\"}}, \"header\": {\"fill\": {\"color\": \"#C8D4E3\"}, \"line\": {\"color\": \"white\"}}, \"type\": \"table\"}]}, \"layout\": {\"annotationdefaults\": {\"arrowcolor\": \"#2a3f5f\", \"arrowhead\": 0, \"arrowwidth\": 1}, \"coloraxis\": {\"colorbar\": {\"outlinewidth\": 0, \"ticks\": \"\"}}, \"colorscale\": {\"diverging\": [[0, \"#8e0152\"], [0.1, \"#c51b7d\"], [0.2, \"#de77ae\"], [0.3, \"#f1b6da\"], [0.4, \"#fde0ef\"], [0.5, \"#f7f7f7\"], [0.6, \"#e6f5d0\"], [0.7, \"#b8e186\"], [0.8, \"#7fbc41\"], [0.9, \"#4d9221\"], [1, \"#276419\"]], \"sequential\": [[0.0, \"#0d0887\"], [0.1111111111111111, \"#46039f\"], [0.2222222222222222, \"#7201a8\"], [0.3333333333333333, \"#9c179e\"], [0.4444444444444444, \"#bd3786\"], [0.5555555555555556, \"#d8576b\"], [0.6666666666666666, \"#ed7953\"], [0.7777777777777778, \"#fb9f3a\"], [0.8888888888888888, \"#fdca26\"], [1.0, \"#f0f921\"]], \"sequentialminus\": [[0.0, \"#0d0887\"], [0.1111111111111111, \"#46039f\"], [0.2222222222222222, \"#7201a8\"], [0.3333333333333333, \"#9c179e\"], [0.4444444444444444, \"#bd3786\"], [0.5555555555555556, \"#d8576b\"], [0.6666666666666666, \"#ed7953\"], [0.7777777777777778, \"#fb9f3a\"], [0.8888888888888888, \"#fdca26\"], [1.0, \"#f0f921\"]]}, \"colorway\": [\"#636efa\", \"#EF553B\", \"#00cc96\", \"#ab63fa\", \"#FFA15A\", \"#19d3f3\", \"#FF6692\", \"#B6E880\", \"#FF97FF\", \"#FECB52\"], \"font\": {\"color\": \"#2a3f5f\"}, \"geo\": {\"bgcolor\": \"white\", \"lakecolor\": \"white\", \"landcolor\": \"#E5ECF6\", \"showlakes\": true, \"showland\": true, \"subunitcolor\": \"white\"}, \"hoverlabel\": {\"align\": \"left\"}, \"hovermode\": \"closest\", \"mapbox\": {\"style\": \"light\"}, \"paper_bgcolor\": \"white\", \"plot_bgcolor\": \"#E5ECF6\", \"polar\": {\"angularaxis\": {\"gridcolor\": \"white\", \"linecolor\": \"white\", \"ticks\": \"\"}, \"bgcolor\": \"#E5ECF6\", \"radialaxis\": {\"gridcolor\": \"white\", \"linecolor\": \"white\", \"ticks\": \"\"}}, \"scene\": {\"xaxis\": {\"backgroundcolor\": \"#E5ECF6\", \"gridcolor\": \"white\", \"gridwidth\": 2, \"linecolor\": \"white\", \"showbackground\": true, \"ticks\": \"\", \"zerolinecolor\": \"white\"}, \"yaxis\": {\"backgroundcolor\": \"#E5ECF6\", \"gridcolor\": \"white\", \"gridwidth\": 2, \"linecolor\": \"white\", \"showbackground\": true, \"ticks\": \"\", \"zerolinecolor\": \"white\"}, \"zaxis\": {\"backgroundcolor\": \"#E5ECF6\", \"gridcolor\": \"white\", \"gridwidth\": 2, \"linecolor\": \"white\", \"showbackground\": true, \"ticks\": \"\", \"zerolinecolor\": \"white\"}}, \"shapedefaults\": {\"line\": {\"color\": \"#2a3f5f\"}}, \"ternary\": {\"aaxis\": {\"gridcolor\": \"white\", \"linecolor\": \"white\", \"ticks\": \"\"}, \"baxis\": {\"gridcolor\": \"white\", \"linecolor\": \"white\", \"ticks\": \"\"}, \"bgcolor\": \"#E5ECF6\", \"caxis\": {\"gridcolor\": \"white\", \"linecolor\": \"white\", \"ticks\": \"\"}}, \"title\": {\"x\": 0.05}, \"xaxis\": {\"automargin\": true, \"gridcolor\": \"white\", \"linecolor\": \"white\", \"ticks\": \"\", \"title\": {\"standoff\": 15}, \"zerolinecolor\": \"white\", \"zerolinewidth\": 2}, \"yaxis\": {\"automargin\": true, \"gridcolor\": \"white\", \"linecolor\": \"white\", \"ticks\": \"\", \"title\": {\"standoff\": 15}, \"zerolinecolor\": \"white\", \"zerolinewidth\": 2}}}, \"title\": {\"text\": \"Distributions of Adj Close\"}, \"xaxis\": {\"anchor\": \"y\", \"domain\": [0.0, 1.0], \"title\": {\"text\": \"Adj Close\"}}, \"yaxis\": {\"anchor\": \"x\", \"domain\": [0.0, 1.0], \"title\": {\"text\": \"count\"}}},\n",
              "                        {\"responsive\": true}\n",
              "                    ).then(function(){\n",
              "                            \n",
              "var gd = document.getElementById('eed135c8-43cb-475c-a024-01fdeaea2647');\n",
              "var x = new MutationObserver(function (mutations, observer) {{\n",
              "        var display = window.getComputedStyle(gd).display;\n",
              "        if (!display || display === 'none') {{\n",
              "            console.log([gd, 'removed!']);\n",
              "            Plotly.purge(gd);\n",
              "            observer.disconnect();\n",
              "        }}\n",
              "}});\n",
              "\n",
              "// Listen for the removal of the full notebook cells\n",
              "var notebookContainer = gd.closest('#notebook-container');\n",
              "if (notebookContainer) {{\n",
              "    x.observe(notebookContainer, {childList: true});\n",
              "}}\n",
              "\n",
              "// Listen for the clearing of the current output cell\n",
              "var outputEl = gd.closest('.output');\n",
              "if (outputEl) {{\n",
              "    x.observe(outputEl, {childList: true});\n",
              "}}\n",
              "\n",
              "                        })\n",
              "                };\n",
              "                \n",
              "            </script>\n",
              "        </div>\n",
              "</body>\n",
              "</html>"
            ]
          },
          "metadata": {
            "tags": []
          }
        }
      ]
    },
    {
      "cell_type": "code",
      "metadata": {
        "colab": {
          "base_uri": "https://localhost:8080/",
          "height": 430
        },
        "id": "FdB53SsDpLdc",
        "outputId": "1ab89fea-3261-4c61-b408-ae5fff00f961"
      },
      "source": [
        "# Colrelation\n",
        "corr_matrix = bitcoin.corr()\n",
        "corr_matrix"
      ],
      "execution_count": 24,
      "outputs": [
        {
          "output_type": "execute_result",
          "data": {
            "text/html": [
              "<div>\n",
              "<style scoped>\n",
              "    .dataframe tbody tr th:only-of-type {\n",
              "        vertical-align: middle;\n",
              "    }\n",
              "\n",
              "    .dataframe tbody tr th {\n",
              "        vertical-align: top;\n",
              "    }\n",
              "\n",
              "    .dataframe thead th {\n",
              "        text-align: right;\n",
              "    }\n",
              "</style>\n",
              "<table border=\"1\" class=\"dataframe\">\n",
              "  <thead>\n",
              "    <tr style=\"text-align: right;\">\n",
              "      <th></th>\n",
              "      <th>High</th>\n",
              "      <th>Low</th>\n",
              "      <th>Open</th>\n",
              "      <th>Close</th>\n",
              "      <th>Volume</th>\n",
              "      <th>Adj Close</th>\n",
              "      <th>Moving avg 7</th>\n",
              "      <th>Moving avg 15</th>\n",
              "      <th>Moving avg 30</th>\n",
              "      <th>Difference</th>\n",
              "    </tr>\n",
              "  </thead>\n",
              "  <tbody>\n",
              "    <tr>\n",
              "      <th>High</th>\n",
              "      <td>1.000000</td>\n",
              "      <td>0.998558</td>\n",
              "      <td>0.999187</td>\n",
              "      <td>0.999290</td>\n",
              "      <td>0.619995</td>\n",
              "      <td>0.999290</td>\n",
              "      <td>0.997669</td>\n",
              "      <td>0.993487</td>\n",
              "      <td>0.988159</td>\n",
              "      <td>0.110535</td>\n",
              "    </tr>\n",
              "    <tr>\n",
              "      <th>Low</th>\n",
              "      <td>0.998558</td>\n",
              "      <td>1.000000</td>\n",
              "      <td>0.998732</td>\n",
              "      <td>0.998998</td>\n",
              "      <td>0.599167</td>\n",
              "      <td>0.998998</td>\n",
              "      <td>0.996822</td>\n",
              "      <td>0.993229</td>\n",
              "      <td>0.989568</td>\n",
              "      <td>0.113277</td>\n",
              "    </tr>\n",
              "    <tr>\n",
              "      <th>Open</th>\n",
              "      <td>0.999187</td>\n",
              "      <td>0.998732</td>\n",
              "      <td>1.000000</td>\n",
              "      <td>0.998333</td>\n",
              "      <td>0.612268</td>\n",
              "      <td>0.998333</td>\n",
              "      <td>0.997976</td>\n",
              "      <td>0.993971</td>\n",
              "      <td>0.988916</td>\n",
              "      <td>0.080043</td>\n",
              "    </tr>\n",
              "    <tr>\n",
              "      <th>Close</th>\n",
              "      <td>0.999290</td>\n",
              "      <td>0.998998</td>\n",
              "      <td>0.998333</td>\n",
              "      <td>1.000000</td>\n",
              "      <td>0.610607</td>\n",
              "      <td>1.000000</td>\n",
              "      <td>0.996713</td>\n",
              "      <td>0.992459</td>\n",
              "      <td>0.987863</td>\n",
              "      <td>0.137442</td>\n",
              "    </tr>\n",
              "    <tr>\n",
              "      <th>Volume</th>\n",
              "      <td>0.619995</td>\n",
              "      <td>0.599167</td>\n",
              "      <td>0.612268</td>\n",
              "      <td>0.610607</td>\n",
              "      <td>1.000000</td>\n",
              "      <td>0.610607</td>\n",
              "      <td>0.613341</td>\n",
              "      <td>0.600716</td>\n",
              "      <td>0.577637</td>\n",
              "      <td>0.037945</td>\n",
              "    </tr>\n",
              "    <tr>\n",
              "      <th>Adj Close</th>\n",
              "      <td>0.999290</td>\n",
              "      <td>0.998998</td>\n",
              "      <td>0.998333</td>\n",
              "      <td>1.000000</td>\n",
              "      <td>0.610607</td>\n",
              "      <td>1.000000</td>\n",
              "      <td>0.996713</td>\n",
              "      <td>0.992459</td>\n",
              "      <td>0.987863</td>\n",
              "      <td>0.137442</td>\n",
              "    </tr>\n",
              "    <tr>\n",
              "      <th>Moving avg 7</th>\n",
              "      <td>0.997669</td>\n",
              "      <td>0.996822</td>\n",
              "      <td>0.997976</td>\n",
              "      <td>0.996713</td>\n",
              "      <td>0.613341</td>\n",
              "      <td>0.996713</td>\n",
              "      <td>1.000000</td>\n",
              "      <td>0.997632</td>\n",
              "      <td>0.992259</td>\n",
              "      <td>0.085905</td>\n",
              "    </tr>\n",
              "    <tr>\n",
              "      <th>Moving avg 15</th>\n",
              "      <td>0.993487</td>\n",
              "      <td>0.993229</td>\n",
              "      <td>0.993971</td>\n",
              "      <td>0.992459</td>\n",
              "      <td>0.600716</td>\n",
              "      <td>0.992459</td>\n",
              "      <td>0.997632</td>\n",
              "      <td>1.000000</td>\n",
              "      <td>0.996483</td>\n",
              "      <td>0.079444</td>\n",
              "    </tr>\n",
              "    <tr>\n",
              "      <th>Moving avg 30</th>\n",
              "      <td>0.988159</td>\n",
              "      <td>0.989568</td>\n",
              "      <td>0.988916</td>\n",
              "      <td>0.987863</td>\n",
              "      <td>0.577637</td>\n",
              "      <td>0.987863</td>\n",
              "      <td>0.992259</td>\n",
              "      <td>0.996483</td>\n",
              "      <td>1.000000</td>\n",
              "      <td>0.085581</td>\n",
              "    </tr>\n",
              "    <tr>\n",
              "      <th>Difference</th>\n",
              "      <td>0.110535</td>\n",
              "      <td>0.113277</td>\n",
              "      <td>0.080043</td>\n",
              "      <td>0.137442</td>\n",
              "      <td>0.037945</td>\n",
              "      <td>0.137442</td>\n",
              "      <td>0.085905</td>\n",
              "      <td>0.079444</td>\n",
              "      <td>0.085581</td>\n",
              "      <td>1.000000</td>\n",
              "    </tr>\n",
              "  </tbody>\n",
              "</table>\n",
              "</div>"
            ],
            "text/plain": [
              "                   High       Low  ...  Moving avg 30  Difference\n",
              "High           1.000000  0.998558  ...       0.988159    0.110535\n",
              "Low            0.998558  1.000000  ...       0.989568    0.113277\n",
              "Open           0.999187  0.998732  ...       0.988916    0.080043\n",
              "Close          0.999290  0.998998  ...       0.987863    0.137442\n",
              "Volume         0.619995  0.599167  ...       0.577637    0.037945\n",
              "Adj Close      0.999290  0.998998  ...       0.987863    0.137442\n",
              "Moving avg 7   0.997669  0.996822  ...       0.992259    0.085905\n",
              "Moving avg 15  0.993487  0.993229  ...       0.996483    0.079444\n",
              "Moving avg 30  0.988159  0.989568  ...       1.000000    0.085581\n",
              "Difference     0.110535  0.113277  ...       0.085581    1.000000\n",
              "\n",
              "[10 rows x 10 columns]"
            ]
          },
          "metadata": {
            "tags": []
          },
          "execution_count": 24
        }
      ]
    },
    {
      "cell_type": "markdown",
      "metadata": {
        "id": "MPelNOqOspBE"
      },
      "source": [
        "### Line graph of Volume transaction distribution"
      ]
    },
    {
      "cell_type": "code",
      "metadata": {
        "colab": {
          "base_uri": "https://localhost:8080/",
          "height": 542
        },
        "id": "iG43OCTGjtQh",
        "outputId": "59c25d7e-d46d-4233-d2a8-282817c92754"
      },
      "source": [
        "fig = go.Figure()\n",
        "\n",
        "# Add Traces for adj close\n",
        "fig.add_trace(go.Scatter(x=bitcoin['Date']\n",
        "                         , y=bitcoin['Volume']\n",
        "                         , name='Volume of transactions'\n",
        "                        , line=dict(color=\"#FF00FF\")\n",
        "                         , visible=True\n",
        "                        ))\n",
        "\n",
        "# Set title\n",
        "fig.update_layout(title_text='Transaction volume')\n",
        "\n",
        "# Set x and y-axis titles\n",
        "fig.update_xaxes(title_text='Date')\n",
        "fig.update_yaxes(title_text='Volume')\n"
      ],
      "execution_count": 25,
      "outputs": [
        {
          "output_type": "display_data",
          "data": {
            "text/html": [
              "<html>\n",
              "<head><meta charset=\"utf-8\" /></head>\n",
              "<body>\n",
              "    <div>\n",
              "            <script src=\"https://cdnjs.cloudflare.com/ajax/libs/mathjax/2.7.5/MathJax.js?config=TeX-AMS-MML_SVG\"></script><script type=\"text/javascript\">if (window.MathJax) {MathJax.Hub.Config({SVG: {font: \"STIX-Web\"}});}</script>\n",
              "                <script type=\"text/javascript\">window.PlotlyConfig = {MathJaxConfig: 'local'};</script>\n",
              "        <script src=\"https://cdn.plot.ly/plotly-latest.min.js\"></script>    \n",
              "            <div id=\"e07ba83f-6d72-4db1-8352-9c00a5e78c3d\" class=\"plotly-graph-div\" style=\"height:525px; width:100%;\"></div>\n",
              "            <script type=\"text/javascript\">\n",
              "                \n",
              "                    window.PLOTLYENV=window.PLOTLYENV || {};\n",
              "                    \n",
              "                if (document.getElementById(\"e07ba83f-6d72-4db1-8352-9c00a5e78c3d\")) {\n",
              "                    Plotly.newPlot(\n",
              "                        'e07ba83f-6d72-4db1-8352-9c00a5e78c3d',\n",
              "                        [{\"line\": {\"color\": \"#FF00FF\"}, \"name\": \"Volume of transactions\", \"type\": \"scatter\", \"visible\": true, \"x\": [\"2019-09-17T00:00:00\", \"2019-09-18T00:00:00\", \"2019-09-19T00:00:00\", \"2019-09-20T00:00:00\", \"2019-09-21T00:00:00\", \"2019-09-22T00:00:00\", \"2019-09-23T00:00:00\", \"2019-09-24T00:00:00\", \"2019-09-25T00:00:00\", \"2019-09-26T00:00:00\", \"2019-09-27T00:00:00\", \"2019-09-28T00:00:00\", \"2019-09-29T00:00:00\", \"2019-09-30T00:00:00\", \"2019-10-01T00:00:00\", \"2019-10-02T00:00:00\", \"2019-10-03T00:00:00\", \"2019-10-04T00:00:00\", \"2019-10-05T00:00:00\", \"2019-10-06T00:00:00\", \"2019-10-07T00:00:00\", \"2019-10-08T00:00:00\", \"2019-10-09T00:00:00\", \"2019-10-10T00:00:00\", \"2019-10-11T00:00:00\", \"2019-10-12T00:00:00\", \"2019-10-13T00:00:00\", \"2019-10-14T00:00:00\", \"2019-10-15T00:00:00\", \"2019-10-16T00:00:00\", \"2019-10-17T00:00:00\", \"2019-10-18T00:00:00\", \"2019-10-19T00:00:00\", \"2019-10-20T00:00:00\", \"2019-10-21T00:00:00\", \"2019-10-22T00:00:00\", \"2019-10-23T00:00:00\", \"2019-10-24T00:00:00\", \"2019-10-25T00:00:00\", \"2019-10-26T00:00:00\", \"2019-10-28T00:00:00\", \"2019-10-29T00:00:00\", \"2019-10-30T00:00:00\", \"2019-10-31T00:00:00\", \"2019-11-01T00:00:00\", \"2019-11-02T00:00:00\", \"2019-11-03T00:00:00\", \"2019-11-04T00:00:00\", \"2019-11-05T00:00:00\", \"2019-11-06T00:00:00\", \"2019-11-07T00:00:00\", \"2019-11-08T00:00:00\", \"2019-11-09T00:00:00\", \"2019-11-10T00:00:00\", \"2019-11-11T00:00:00\", \"2019-11-12T00:00:00\", \"2019-11-13T00:00:00\", \"2019-11-14T00:00:00\", \"2019-11-15T00:00:00\", \"2019-11-16T00:00:00\", \"2019-11-17T00:00:00\", \"2019-11-18T00:00:00\", \"2019-11-19T00:00:00\", \"2019-11-20T00:00:00\", \"2019-11-21T00:00:00\", \"2019-11-22T00:00:00\", \"2019-11-23T00:00:00\", \"2019-11-24T00:00:00\", \"2019-11-25T00:00:00\", \"2019-11-26T00:00:00\", \"2019-11-27T00:00:00\", \"2019-11-28T00:00:00\", \"2019-11-29T00:00:00\", \"2019-11-30T00:00:00\", \"2019-12-01T00:00:00\", \"2019-12-02T00:00:00\", \"2019-12-03T00:00:00\", \"2019-12-04T00:00:00\", \"2019-12-05T00:00:00\", \"2019-12-06T00:00:00\", \"2019-12-07T00:00:00\", \"2019-12-08T00:00:00\", \"2019-12-09T00:00:00\", \"2019-12-10T00:00:00\", \"2019-12-11T00:00:00\", \"2019-12-12T00:00:00\", \"2019-12-13T00:00:00\", \"2019-12-14T00:00:00\", \"2019-12-15T00:00:00\", \"2019-12-16T00:00:00\", \"2019-12-17T00:00:00\", \"2019-12-18T00:00:00\", \"2019-12-19T00:00:00\", \"2019-12-20T00:00:00\", \"2019-12-21T00:00:00\", \"2019-12-22T00:00:00\", \"2019-12-23T00:00:00\", \"2019-12-24T00:00:00\", \"2019-12-25T00:00:00\", \"2019-12-26T00:00:00\", \"2019-12-27T00:00:00\", \"2019-12-28T00:00:00\", \"2019-12-29T00:00:00\", \"2019-12-30T00:00:00\", \"2019-12-31T00:00:00\", \"2020-01-01T00:00:00\", \"2020-01-02T00:00:00\", \"2020-01-03T00:00:00\", \"2020-01-04T00:00:00\", \"2020-01-05T00:00:00\", \"2020-01-06T00:00:00\", \"2020-01-07T00:00:00\", \"2020-01-08T00:00:00\", \"2020-01-09T00:00:00\", \"2020-01-10T00:00:00\", \"2020-01-11T00:00:00\", \"2020-01-12T00:00:00\", \"2020-01-13T00:00:00\", \"2020-01-14T00:00:00\", \"2020-01-15T00:00:00\", \"2020-01-16T00:00:00\", \"2020-01-17T00:00:00\", \"2020-01-18T00:00:00\", \"2020-01-19T00:00:00\", \"2020-01-20T00:00:00\", \"2020-01-21T00:00:00\", \"2020-01-22T00:00:00\", \"2020-01-23T00:00:00\", \"2020-01-24T00:00:00\", \"2020-01-25T00:00:00\", \"2020-01-26T00:00:00\", \"2020-01-27T00:00:00\", \"2020-01-28T00:00:00\", \"2020-01-29T00:00:00\", \"2020-01-30T00:00:00\", \"2020-01-31T00:00:00\", \"2020-02-01T00:00:00\", \"2020-02-02T00:00:00\", \"2020-02-03T00:00:00\", \"2020-02-04T00:00:00\", \"2020-02-05T00:00:00\", \"2020-02-06T00:00:00\", \"2020-02-07T00:00:00\", \"2020-02-08T00:00:00\", \"2020-02-09T00:00:00\", \"2020-02-10T00:00:00\", \"2020-02-11T00:00:00\", \"2020-02-12T00:00:00\", \"2020-02-13T00:00:00\", \"2020-02-14T00:00:00\", \"2020-02-15T00:00:00\", \"2020-02-16T00:00:00\", \"2020-02-17T00:00:00\", \"2020-02-18T00:00:00\", \"2020-02-19T00:00:00\", \"2020-02-20T00:00:00\", \"2020-02-21T00:00:00\", \"2020-02-22T00:00:00\", \"2020-02-23T00:00:00\", \"2020-02-24T00:00:00\", \"2020-02-25T00:00:00\", \"2020-02-26T00:00:00\", \"2020-02-27T00:00:00\", \"2020-02-28T00:00:00\", \"2020-02-29T00:00:00\", \"2020-03-01T00:00:00\", \"2020-03-02T00:00:00\", \"2020-03-03T00:00:00\", \"2020-03-04T00:00:00\", \"2020-03-05T00:00:00\", \"2020-03-06T00:00:00\", \"2020-03-07T00:00:00\", \"2020-03-08T00:00:00\", \"2020-03-09T00:00:00\", \"2020-03-10T00:00:00\", \"2020-03-11T00:00:00\", \"2020-03-12T00:00:00\", \"2020-03-13T00:00:00\", \"2020-03-14T00:00:00\", \"2020-03-15T00:00:00\", \"2020-03-16T00:00:00\", \"2020-03-17T00:00:00\", \"2020-03-18T00:00:00\", \"2020-03-19T00:00:00\", \"2020-03-20T00:00:00\", \"2020-03-21T00:00:00\", \"2020-03-22T00:00:00\", \"2020-03-23T00:00:00\", \"2020-03-24T00:00:00\", \"2020-03-25T00:00:00\", \"2020-03-26T00:00:00\", \"2020-03-27T00:00:00\", \"2020-03-28T00:00:00\", \"2020-03-29T00:00:00\", \"2020-03-29T00:00:00\", \"2020-03-30T00:00:00\", \"2020-03-31T00:00:00\", \"2020-04-01T00:00:00\", \"2020-04-02T00:00:00\", \"2020-04-03T00:00:00\", \"2020-04-04T00:00:00\", \"2020-04-05T00:00:00\", \"2020-04-06T00:00:00\", \"2020-04-07T00:00:00\", \"2020-04-08T00:00:00\", \"2020-04-09T00:00:00\", \"2020-04-10T00:00:00\", \"2020-04-11T00:00:00\", \"2020-04-12T00:00:00\", \"2020-04-13T00:00:00\", \"2020-04-14T00:00:00\", \"2020-04-15T00:00:00\", \"2020-04-17T00:00:00\", \"2020-04-18T00:00:00\", \"2020-04-19T00:00:00\", \"2020-04-20T00:00:00\", \"2020-04-21T00:00:00\", \"2020-04-22T00:00:00\", \"2020-04-23T00:00:00\", \"2020-04-24T00:00:00\", \"2020-04-25T00:00:00\", \"2020-04-26T00:00:00\", \"2020-04-27T00:00:00\", \"2020-04-28T00:00:00\", \"2020-04-29T00:00:00\", \"2020-04-30T00:00:00\", \"2020-05-01T00:00:00\", \"2020-05-02T00:00:00\", \"2020-05-03T00:00:00\", \"2020-05-04T00:00:00\", \"2020-05-05T00:00:00\", \"2020-05-06T00:00:00\", \"2020-05-07T00:00:00\", \"2020-05-08T00:00:00\", \"2020-05-09T00:00:00\", \"2020-05-10T00:00:00\", \"2020-05-11T00:00:00\", \"2020-05-12T00:00:00\", \"2020-05-13T00:00:00\", \"2020-05-14T00:00:00\", \"2020-05-15T00:00:00\", \"2020-05-16T00:00:00\", \"2020-05-17T00:00:00\", \"2020-05-18T00:00:00\", \"2020-05-19T00:00:00\", \"2020-05-20T00:00:00\", \"2020-05-21T00:00:00\", \"2020-05-22T00:00:00\", \"2020-05-23T00:00:00\", \"2020-05-24T00:00:00\", \"2020-05-25T00:00:00\", \"2020-05-26T00:00:00\", \"2020-05-27T00:00:00\", \"2020-05-28T00:00:00\", \"2020-05-29T00:00:00\", \"2020-05-30T00:00:00\", \"2020-05-31T00:00:00\", \"2020-06-01T00:00:00\", \"2020-06-02T00:00:00\", \"2020-06-03T00:00:00\", \"2020-06-04T00:00:00\", \"2020-06-05T00:00:00\", \"2020-06-06T00:00:00\", \"2020-06-07T00:00:00\", \"2020-06-08T00:00:00\", \"2020-06-09T00:00:00\", \"2020-06-10T00:00:00\", \"2020-06-11T00:00:00\", \"2020-06-12T00:00:00\", \"2020-06-13T00:00:00\", \"2020-06-14T00:00:00\", \"2020-06-15T00:00:00\", \"2020-06-16T00:00:00\", \"2020-06-17T00:00:00\", \"2020-06-18T00:00:00\", \"2020-06-19T00:00:00\", \"2020-06-20T00:00:00\", \"2020-06-21T00:00:00\", \"2020-06-22T00:00:00\", \"2020-06-23T00:00:00\", \"2020-06-24T00:00:00\", \"2020-06-25T00:00:00\", \"2020-06-26T00:00:00\", \"2020-06-27T00:00:00\", \"2020-06-28T00:00:00\", \"2020-06-29T00:00:00\", \"2020-06-30T00:00:00\", \"2020-07-01T00:00:00\", \"2020-07-02T00:00:00\", \"2020-07-03T00:00:00\", \"2020-07-04T00:00:00\", \"2020-07-05T00:00:00\", \"2020-07-06T00:00:00\", \"2020-07-07T00:00:00\", \"2020-07-08T00:00:00\", \"2020-07-09T00:00:00\", \"2020-07-10T00:00:00\", \"2020-07-11T00:00:00\", \"2020-07-12T00:00:00\", \"2020-07-13T00:00:00\", \"2020-07-14T00:00:00\", \"2020-07-15T00:00:00\", \"2020-07-16T00:00:00\", \"2020-07-17T00:00:00\", \"2020-07-18T00:00:00\", \"2020-07-19T00:00:00\", \"2020-07-20T00:00:00\", \"2020-07-21T00:00:00\", \"2020-07-22T00:00:00\", \"2020-07-23T00:00:00\", \"2020-07-24T00:00:00\", \"2020-07-25T00:00:00\", \"2020-07-26T00:00:00\", \"2020-07-27T00:00:00\", \"2020-07-28T00:00:00\", \"2020-07-29T00:00:00\", \"2020-07-30T00:00:00\", \"2020-07-31T00:00:00\", \"2020-08-01T00:00:00\", \"2020-08-02T00:00:00\", \"2020-08-03T00:00:00\", \"2020-08-04T00:00:00\", \"2020-08-05T00:00:00\", \"2020-08-06T00:00:00\", \"2020-08-07T00:00:00\", \"2020-08-08T00:00:00\", \"2020-08-09T00:00:00\", \"2020-08-10T00:00:00\", \"2020-08-11T00:00:00\", \"2020-08-12T00:00:00\", \"2020-08-13T00:00:00\", \"2020-08-14T00:00:00\", \"2020-08-15T00:00:00\", \"2020-08-16T00:00:00\", \"2020-08-17T00:00:00\", \"2020-08-18T00:00:00\", \"2020-08-19T00:00:00\", \"2020-08-20T00:00:00\", \"2020-08-21T00:00:00\", \"2020-08-22T00:00:00\", \"2020-08-23T00:00:00\", \"2020-08-24T00:00:00\", \"2020-08-25T00:00:00\", \"2020-08-26T00:00:00\", \"2020-08-27T00:00:00\", \"2020-08-28T00:00:00\", \"2020-08-29T00:00:00\", \"2020-08-30T00:00:00\", \"2020-08-31T00:00:00\", \"2020-09-01T00:00:00\", \"2020-09-02T00:00:00\", \"2020-09-03T00:00:00\", \"2020-09-04T00:00:00\", \"2020-09-05T00:00:00\", \"2020-09-06T00:00:00\", \"2020-09-07T00:00:00\", \"2020-09-08T00:00:00\", \"2020-09-09T00:00:00\", \"2020-09-10T00:00:00\", \"2020-09-11T00:00:00\", \"2020-09-12T00:00:00\", \"2020-09-13T00:00:00\", \"2020-09-14T00:00:00\", \"2020-09-15T00:00:00\", \"2020-09-16T00:00:00\", \"2020-09-17T00:00:00\", \"2020-09-18T00:00:00\", \"2020-09-19T00:00:00\", \"2020-09-20T00:00:00\", \"2020-09-21T00:00:00\", \"2020-09-22T00:00:00\", \"2020-09-23T00:00:00\", \"2020-09-24T00:00:00\", \"2020-09-25T00:00:00\", \"2020-09-26T00:00:00\", \"2020-09-27T00:00:00\", \"2020-09-28T00:00:00\", \"2020-09-29T00:00:00\", \"2020-09-30T00:00:00\", \"2020-10-01T00:00:00\", \"2020-10-02T00:00:00\", \"2020-10-03T00:00:00\", \"2020-10-04T00:00:00\", \"2020-10-05T00:00:00\", \"2020-10-06T00:00:00\", \"2020-10-07T00:00:00\", \"2020-10-09T00:00:00\", \"2020-10-10T00:00:00\", \"2020-10-13T00:00:00\", \"2020-10-14T00:00:00\", \"2020-10-15T00:00:00\", \"2020-10-16T00:00:00\", \"2020-10-17T00:00:00\", \"2020-10-18T00:00:00\", \"2020-10-19T00:00:00\", \"2020-10-20T00:00:00\", \"2020-10-21T00:00:00\", \"2020-10-22T00:00:00\", \"2020-10-23T00:00:00\", \"2020-10-24T00:00:00\", \"2020-10-26T00:00:00\", \"2020-10-27T00:00:00\", \"2020-10-28T00:00:00\", \"2020-10-29T00:00:00\", \"2020-10-30T00:00:00\", \"2020-10-31T00:00:00\", \"2020-11-01T00:00:00\", \"2020-11-02T00:00:00\", \"2020-11-03T00:00:00\", \"2020-11-04T00:00:00\", \"2020-11-05T00:00:00\", \"2020-11-06T00:00:00\", \"2020-11-07T00:00:00\", \"2020-11-08T00:00:00\", \"2020-11-09T00:00:00\", \"2020-11-10T00:00:00\", \"2020-11-11T00:00:00\", \"2020-11-12T00:00:00\", \"2020-11-13T00:00:00\", \"2020-11-14T00:00:00\", \"2020-11-15T00:00:00\", \"2020-11-16T00:00:00\", \"2020-11-17T00:00:00\", \"2020-11-18T00:00:00\", \"2020-11-19T00:00:00\", \"2020-11-20T00:00:00\", \"2020-11-21T00:00:00\", \"2020-11-22T00:00:00\", \"2020-11-23T00:00:00\", \"2020-11-24T00:00:00\", \"2020-11-25T00:00:00\", \"2020-11-26T00:00:00\", \"2020-11-27T00:00:00\", \"2020-11-28T00:00:00\", \"2020-11-29T00:00:00\", \"2020-11-30T00:00:00\", \"2020-12-01T00:00:00\", \"2020-12-02T00:00:00\", \"2020-12-03T00:00:00\", \"2020-12-04T00:00:00\", \"2020-12-05T00:00:00\", \"2020-12-06T00:00:00\", \"2020-12-07T00:00:00\", \"2020-12-08T00:00:00\", \"2020-12-09T00:00:00\", \"2020-12-10T00:00:00\", \"2020-12-11T00:00:00\", \"2020-12-12T00:00:00\", \"2020-12-13T00:00:00\", \"2020-12-14T00:00:00\", \"2020-12-15T00:00:00\", \"2020-12-16T00:00:00\", \"2020-12-17T00:00:00\", \"2020-12-18T00:00:00\", \"2020-12-19T00:00:00\", \"2020-12-20T00:00:00\", \"2020-12-21T00:00:00\", \"2020-12-22T00:00:00\", \"2020-12-23T00:00:00\", \"2020-12-24T00:00:00\", \"2020-12-25T00:00:00\", \"2020-12-26T00:00:00\", \"2020-12-27T00:00:00\", \"2020-12-28T00:00:00\", \"2020-12-29T00:00:00\", \"2020-12-30T00:00:00\", \"2020-12-31T00:00:00\", \"2021-01-01T00:00:00\", \"2021-01-02T00:00:00\", \"2021-01-03T00:00:00\", \"2021-01-04T00:00:00\", \"2021-01-05T00:00:00\", \"2021-01-06T00:00:00\", \"2021-01-07T00:00:00\", \"2021-01-08T00:00:00\", \"2021-01-09T00:00:00\", \"2021-01-10T00:00:00\", \"2021-01-11T00:00:00\", \"2021-01-12T00:00:00\", \"2021-01-13T00:00:00\", \"2021-01-14T00:00:00\", \"2021-01-15T00:00:00\", \"2021-01-16T00:00:00\", \"2021-01-17T00:00:00\", \"2021-01-18T00:00:00\", \"2021-01-19T00:00:00\", \"2021-01-20T00:00:00\", \"2021-01-21T00:00:00\", \"2021-01-22T00:00:00\", \"2021-01-23T00:00:00\", \"2021-01-24T00:00:00\", \"2021-01-25T00:00:00\", \"2021-01-26T00:00:00\", \"2021-01-27T00:00:00\", \"2021-01-28T00:00:00\", \"2021-01-29T00:00:00\", \"2021-01-30T00:00:00\", \"2021-01-31T00:00:00\", \"2021-02-01T00:00:00\", \"2021-02-02T00:00:00\", \"2021-02-03T00:00:00\", \"2021-02-04T00:00:00\", \"2021-02-05T00:00:00\", \"2021-02-06T00:00:00\", \"2021-02-07T00:00:00\", \"2021-02-08T00:00:00\", \"2021-02-09T00:00:00\", \"2021-02-10T00:00:00\", \"2021-02-11T00:00:00\", \"2021-02-12T00:00:00\", \"2021-02-13T00:00:00\", \"2021-02-14T00:00:00\", \"2021-02-15T00:00:00\", \"2021-02-16T00:00:00\", \"2021-02-17T00:00:00\", \"2021-02-18T00:00:00\", \"2021-02-19T00:00:00\", \"2021-02-20T00:00:00\", \"2021-02-21T00:00:00\", \"2021-02-22T00:00:00\", \"2021-02-23T00:00:00\", \"2021-02-24T00:00:00\", \"2021-02-25T00:00:00\", \"2021-02-26T00:00:00\", \"2021-02-27T00:00:00\", \"2021-02-28T00:00:00\", \"2021-03-01T00:00:00\", \"2021-03-02T00:00:00\", \"2021-03-03T00:00:00\", \"2021-03-04T00:00:00\", \"2021-03-05T00:00:00\", \"2021-03-06T00:00:00\", \"2021-03-07T00:00:00\", \"2021-03-08T00:00:00\", \"2021-03-09T00:00:00\", \"2021-03-10T00:00:00\", \"2021-03-11T00:00:00\", \"2021-03-12T00:00:00\", \"2021-03-13T00:00:00\", \"2021-03-14T00:00:00\", \"2021-03-15T00:00:00\", \"2021-03-16T00:00:00\", \"2021-03-17T00:00:00\", \"2021-03-18T00:00:00\", \"2021-03-19T00:00:00\", \"2021-03-20T00:00:00\", \"2021-03-21T00:00:00\", \"2021-03-22T00:00:00\", \"2021-03-23T00:00:00\", \"2021-03-24T00:00:00\", \"2021-03-25T00:00:00\", \"2021-03-26T00:00:00\", \"2021-03-27T00:00:00\", \"2021-03-28T00:00:00\", \"2021-03-28T00:00:00\", \"2021-03-29T00:00:00\", \"2021-03-30T00:00:00\", \"2021-03-31T00:00:00\", \"2021-04-01T00:00:00\", \"2021-04-02T00:00:00\", \"2021-04-03T00:00:00\", \"2021-04-04T00:00:00\", \"2021-04-05T00:00:00\", \"2021-04-06T00:00:00\", \"2021-04-07T00:00:00\", \"2021-04-08T00:00:00\", \"2021-04-09T00:00:00\", \"2021-04-10T00:00:00\", \"2021-04-11T00:00:00\", \"2021-04-12T00:00:00\", \"2021-04-13T00:00:00\", \"2021-04-14T00:00:00\", \"2021-04-15T00:00:00\", \"2021-04-16T00:00:00\", \"2021-04-18T00:00:00\"], \"y\": [1151007367909.0, 1423413584969.0, 1049162707455.0, 955959548212.0, 939823886302.0, 1072268094473.0, 1774407362828.0, 1543609731518.0, 1366784641087.0, 1159439373107.0, 997080249356.0, 919043322053.0, 1209134791447.0, 1088362970086.0, 933915349557.0, 970866086298.0, 930601987448.0, 864097163869.0, 932125992848.0, 1280321606834.0, 1110481044368.0, 1378644479141.0, 1250748333453.0, 1392891277242.0, 1032544186002.0, 979338880447.0, 1079490885338.0, 1088259472717.0, 1146941789468.0, 1018087434748.0, 1112679544457.0, 980894323678.0, 1101421756333.0, 1125403735181.0, 1190418500869.0, 1551910223986.0, 1155234426523.0, 2033466839188.0, 3152114747324.0, 2308897196053.0, 2189437418275.0, 2015304965537.0, 1962795807297.0, 1886907810299.0, 1719877376669.0, 1498078318255.0, 1490288718622.0, 1852566487808.0, 1854141058838.0, 1642737868843.0, 1612794170576.0, 1736819241631.0, 1254709916759.0, 1469374006398.0, 1450372207207.0, 1458038161732.0, 1265952325435.0, 1373448522808.0, 1561417813307.0, 1181902746018.0, 1337507558335.0, 1552537046068.0, 1515089488093.0, 1490424109615.0, 1615408241539.0, 2458344880213.0, 1508285307150.0, 2184935358028.0, 3060078447275.0, 1509458026488.0, 1709102805582.0, 1363176843467.0, 1414249487734.0, 1231169108704.0, 1343240243626.0, 1223671798056.0, 1061808388848.0, 1548778836341.0, 1343374292192.0, 1290794134274.0, 1101789655656.0, 1098617282757.0, 1268377170982.0, 1292618917909.0, 1156622200614.0, 1335682007284.0, 1210609781432.0, 1211408063095.0, 1193271661998.0, 1433196355575.0, 1588612653669.0, 2260390156456.0, 1845229010376.0, 1609252942394.0, 1373112802877.0, 1644867129293.0, 1982199426546.0, 1638382876273.0, 1536330250666.0, 1624732045057.0, 1626929952511.0, 1526096610073.0, 1603301276070.0, 1631428819109.0, 1509295725753.0, 1322395074997.0, 1484238993887.0, 2017307990333.0, 1323579350948.0, 1415543274095.0, 1671160912507.0, 2070281271282.0, 2262906174516.0, 1711981944091.0, 2038477021654.0, 1810994405350.0, 1625280871582.0, 1590191721617.0, 3177269141934.0, 2836232877784.0, 2221902438919.0, 2584011354240.0, 2297395017167.0, 2431096034324.0, 1877005934605.0, 1715254273782.0, 1607091469955.0, 1838248044065.0, 1740193345513.0, 1401355746375.0, 1581864168398.0, 2046852328192.0, 2450580310745.0, 2187976071614.0, 2317350204337.0, 2104393582428.0, 1853444016821.0, 2204724355910.0, 2206346592799.0, 2125704294051.0, 2507458513652.0, 2683048017387.0, 2468926711893.0, 2515363881671.0, 2560829016702.0, 2808280571000.0, 2683752944404.0, 3097843960238.0, 3518026733355.0, 3099851686858.0, 3137531390392.0, 3102509594071.0, 3282410515761.0, 3383895918809.0, 3365775216511.0, 3229317556344.0, 2942394734316.0, 2576306033277.0, 2960586740983.0, 3248013719116.0, 3055996911238.0, 3613771726795.0, 3259940210164.0, 3219398385705.0, 2583315931864.0, 2551325933363.0, 3103924211388.0, 3112265802482.0, 2553709184527.0, 2931923641126.0, 3021067057513.0, 2680244797086.0, 2958158096970.0, 3493684877489.0, 3133435305103.0, 2869297784475.0, 4018114259958.0, 5484560705892.0, 2673951109815.0, 2513315070237.0, 3371116571879.0, 2859037281017.0, 2840247197207.0, 3833225202041.0, 4117119404610.0, 3213536323732.0, 3028999232746.0, 3559932500014.0, 3662984556575.0, 3381981322869.0, 2639310730541.0, 2589631263294.0, 2612066174564.0, 2139274122502.0, 2797835689929.0, 2469968431239.0, 3089971401987.0, 3630406736589.0, 2978584504685.0, 2536073247574.0, 2249873617919.0, 3562987919810.0, 3346798246409.0, 2853642504983.0, 2642852030110.0, 3323035346805.0, 2378389230086.0, 2724038524943.0, 2945060203318.0, 2591233233184.0, 2470075166840.0, 3595731939128.0, 2482242358712.0, 2397499397498.0, 2891160922977.0, 2508429145106.0, 2540567846883.0, 3305815851640.0, 2643390413079.0, 2513505495484.0, 2522640989786.0, 2755078087712.0, 2524664530717.0, 4531248917812.0, 5049849053234.0, 3342983996778.0, 3043430828238.0, 3557750820810.0, 3458169567407.0, 3276815070336.0, 3763374549946.0, 4626970896226.0, 3908203739214.0, 3515928463491.0, 4783189168963.0, 4337544989759.0, 3176254477757.0, 3436733309707.0, 4259948658528.0, 3654145444192.0, 2744073980712.0, 3039589088530.0, 3162549922026.0, 2971942216781.0, 2760702947130.0, 2974512568234.0, 2265472549485.0, 2107181844772.0, 2471266521789.0, 2374258010573.0, 2233310272631.0, 2484865966578.0, 2601586919259.0, 2484459676437.0, 2471343796184.0, 2097527730099.0, 2657995735718.0, 2937878923652.0, 1883760640927.0, 1956007567122.0, 1776493333836.0, 1544418929326.0, 1889100462600.0, 1620163934552.0, 1790937723912.0, 1945463807353.0, 2298028235225.0, 1717430648890.0, 1334133230095.0, 1442555993737.0, 2028596843824.0, 1647690113206.0, 1541240975009.0, 1357645838650.0, 1497001184440.0, 1306242337463.0, 1168513976231.0, 1599473936264.0, 1285899786104.0, 1436241910945.0, 1406253576657.0, 1387128378290.0, 1306329488325.0, 1101093818614.0, 1242953193437.0, 1188957538042.0, 1205137468686.0, 1223621478854.0, 976730347665.0, 917849897427.0, 963620628770.0, 1334677680387.0, 1036640466392.0, 1476497627657.0, 1352529585977.0, 1267178358011.0, 996333640797.0, 1086221282035.0, 1317701673086.0, 1362296368753.0, 1190745045898.0, 1181387863829.0, 1044414045493.0, 917689709062.0, 969099478575.0, 1028236183087.0, 1346969882504.0, 1233472363541.0, 1358326921594.0, 1236900647229.0, 1241182567432.0, 1533179194456.0, 2644988510540.0, 2154629063795.0, 1841756769466.0, 1709020425459.0, 1735411683549.0, 1953847368222.0, 2053509041874.0, 1523734612035.0, 1595071601533.0, 1825901733931.0, 1752798336898.0, 1735519260887.0, 1318352530713.0, 1312158602302.0, 1955324392663.0, 2017613941351.0, 1874054634565.0, 2059319651549.0, 1814325118797.0, 1748225859510.0, 1541757377092.0, 2109932099421.0, 1942216674956.0, 1837022853393.0, 1512924319465.0, 1780501946403.0, 1515384497622.0, 1384714041033.0, 1534438912741.0, 1952582014930.0, 1668397832707.0, 1714544191919.0, 1448465529783.0, 1278695535729.0, 1445029504408.0, 1636629541661.0, 1995555661744.0, 2053817012968.0, 2345102059364.0, 2194831932382.0, 3289967724658.0, 2716987594276.0, 2475332488446.0, 2466769382478.0, 1769268593396.0, 4000753318586.0, 3321220224084.0, 2700267056463.0, 2682481414050.0, 2602280505622.0, 2393032232039.0, 2263169427714.0, 2807349510546.0, 1939031498276.0, 1675676471628.0, 1816280864904.0, 2125359717484.0, 1736278221617.0, 1696004909064.0, 1701628947465.0, 1564828305535.0, 1334330341344.0, 1327835910132.0, 1675968888906.0, 1508434608621.0, 1526561856163.0, 1990923412783.0, 1695793306888.0, 1253377279950.0, 1286577364029.0, 1417368650433.0, 1639110634555.0, 1293277839725.0, 1609428151229.0, 1669204771338.0, 1458010383089.0, 1766673797757.0, 1796665020298.0, 1882785323890.0, 1405025070206.0, 1342800743994.0, 1751316088616.0, 2271727094031.0, 3200784420125.0, 2560527931838.0, 2139342650611.0, 1812061184126.0, 1802111974712.0, 2178638339511.0, 2490917891024.0, 2661050189792.0, 4196924078909.0, 2281802563611.0, 2261282224700.0, 1825125862394.0, 2291251805569.0, 2230145847154.0, 2605309453786.0, 3028985122086.0, 2947249362565.0, 2591186353838.0, 1970187619852.0, 2525579799538.0, 1899841952446.0, 2219344622849.0, 2559337102991.0, 2355359787581.0, 2048428961902.0, 1763109616493.0, 2346170051383.0, 2908157863245.0, 3642583038828.0, 2740707255507.0, 2743489562504.0, 2940564699111.0, 3060992950047.0, 3173281998430.0, 3806755938476.0, 3225406940101.0, 4533146341225.0, 2875129367005.0, 2411252845209.0, 2302336869178.0, 3531933561567.0, 3656511984757.0, 2754084326172.0, 2360903848929.0, 2499733123696.0, 2010453682155.0, 1866755921934.0, 1985223984237.0, 2336540800241.0, 2540827506917.0, 1885187932868.0, 2058746862869.0, 1603998328936.0, 1876730027987.0, 1655258315734.0, 1966224483302.0, 3268763259634.0, 5248471710418.0, 2972835919879.0, 2832956689836.0, 2785201621724.0, 3390140629224.0, 3274067671735.0, 3776633515645.0, 3021824849377.0, 3094511275497.0, 3555303667369.0, 4901245194984.0, 3607885465491.0, 3324242771985.0, 3753709980901.0, 3415796168900.0, 2977069369481.0, 4960436300944.0, 5749407146511.0, 5932217878548.0, 4942319614003.0, 5506853873887.0, 6225397405318.0, 6465276914895.0, 4548298694325.0, 5867095800818.0, 9066373101192.0, 5469385028831.0, 5075390260328.0, 4649725155669.0, 4957478687690.0, 4220082430105.0, 3829924063089.0, 3623734467416.0, 4189831295290.0, 4872851852967.0, 5518551349620.0, 5636084568950.0, 3529866859354.0, 3550798540158.0, 4370720855214.0, 4393834492447.0, 4570566022713.0, 5758403962391.0, 8595369071680.0, 4749285084927.0, 3846360241705.0, 4489600366300.0, 4600303251342.0, 4456507573788.0, 5024239240167.0, 4265253636706.0, 5191700735343.0, 4768122185042.0, 7400019872088.0, 6688884157796.0, 6356178293089.0, 5917767430465.0, 5557203167694.0, 5099554375276.0, 5172300926880.0, 5598276842607.0, 5619630590149.0, 5883238497441.0, 3779466728671.0, 4606684020310.0, 4945350106812.0, 3765811415421.0, 6669948080246.0, 7679948514183.0, 4611291412102.0, 3987231608369.0, 25829977008274.0, 3378880374294.0, 3938482885801.0, 3950841269911.0, 3482957240411.0, 3885122041627.0, 3828086412461.0, 3558489239024.0, 2514756589065.0, 3156939387731.0, 3563680695516.0, 3705190805773.0, 4165740803027.0, 4123900459471.0, 4048060312950.0, 4410044426824.0, 3191195802876.0, 4816437138205.0, 4332801099232.0, 4372948680681.0, 4051078624517.0, 3554287597963.0, 3648307051250.0, 3761352557275.0, 4091065302129.0, 4097885352185.0, 5126416165813.0, 4937673673815.0, 4104304107841.0, 3424337808198.0, 3454770995980.0, 4191808749605.0, 3996474545870.0, 4796369724151.0, 4519581493210.0, 4309224310042.0, 4376252239033.0, 3723820363477.0, 4448540383286.0, 4854013257480.0, 5628135401372.0, 3954885821727.0, 3486529831369.0, 4352143430813.0, 3458511242469.0, 3886698708052.0, 5261478709934.0, 5810924485825.0, 4554978119306.0, 6285173233040.0, 4930902439372.0, 7058530762752.0]}],\n",
              "                        {\"template\": {\"data\": {\"bar\": [{\"error_x\": {\"color\": \"#2a3f5f\"}, \"error_y\": {\"color\": \"#2a3f5f\"}, \"marker\": {\"line\": {\"color\": \"#E5ECF6\", \"width\": 0.5}}, \"type\": \"bar\"}], \"barpolar\": [{\"marker\": {\"line\": {\"color\": \"#E5ECF6\", \"width\": 0.5}}, \"type\": \"barpolar\"}], \"carpet\": [{\"aaxis\": {\"endlinecolor\": \"#2a3f5f\", \"gridcolor\": \"white\", \"linecolor\": \"white\", \"minorgridcolor\": \"white\", \"startlinecolor\": \"#2a3f5f\"}, \"baxis\": {\"endlinecolor\": \"#2a3f5f\", \"gridcolor\": \"white\", \"linecolor\": \"white\", \"minorgridcolor\": \"white\", \"startlinecolor\": \"#2a3f5f\"}, \"type\": \"carpet\"}], \"choropleth\": [{\"colorbar\": {\"outlinewidth\": 0, \"ticks\": \"\"}, \"type\": \"choropleth\"}], \"contour\": [{\"colorbar\": {\"outlinewidth\": 0, \"ticks\": \"\"}, \"colorscale\": [[0.0, \"#0d0887\"], [0.1111111111111111, \"#46039f\"], [0.2222222222222222, \"#7201a8\"], [0.3333333333333333, \"#9c179e\"], [0.4444444444444444, \"#bd3786\"], [0.5555555555555556, \"#d8576b\"], [0.6666666666666666, \"#ed7953\"], [0.7777777777777778, \"#fb9f3a\"], [0.8888888888888888, \"#fdca26\"], [1.0, \"#f0f921\"]], \"type\": \"contour\"}], \"contourcarpet\": [{\"colorbar\": {\"outlinewidth\": 0, \"ticks\": \"\"}, \"type\": \"contourcarpet\"}], \"heatmap\": [{\"colorbar\": {\"outlinewidth\": 0, \"ticks\": \"\"}, \"colorscale\": [[0.0, \"#0d0887\"], [0.1111111111111111, \"#46039f\"], [0.2222222222222222, \"#7201a8\"], [0.3333333333333333, \"#9c179e\"], [0.4444444444444444, \"#bd3786\"], [0.5555555555555556, \"#d8576b\"], [0.6666666666666666, \"#ed7953\"], [0.7777777777777778, \"#fb9f3a\"], [0.8888888888888888, \"#fdca26\"], [1.0, \"#f0f921\"]], \"type\": \"heatmap\"}], \"heatmapgl\": [{\"colorbar\": {\"outlinewidth\": 0, \"ticks\": \"\"}, \"colorscale\": [[0.0, \"#0d0887\"], [0.1111111111111111, \"#46039f\"], [0.2222222222222222, \"#7201a8\"], [0.3333333333333333, \"#9c179e\"], [0.4444444444444444, \"#bd3786\"], [0.5555555555555556, \"#d8576b\"], [0.6666666666666666, \"#ed7953\"], [0.7777777777777778, \"#fb9f3a\"], [0.8888888888888888, \"#fdca26\"], [1.0, \"#f0f921\"]], \"type\": \"heatmapgl\"}], \"histogram\": [{\"marker\": {\"colorbar\": {\"outlinewidth\": 0, \"ticks\": \"\"}}, \"type\": \"histogram\"}], \"histogram2d\": [{\"colorbar\": {\"outlinewidth\": 0, \"ticks\": \"\"}, \"colorscale\": [[0.0, \"#0d0887\"], [0.1111111111111111, \"#46039f\"], [0.2222222222222222, \"#7201a8\"], [0.3333333333333333, \"#9c179e\"], [0.4444444444444444, \"#bd3786\"], [0.5555555555555556, \"#d8576b\"], [0.6666666666666666, \"#ed7953\"], [0.7777777777777778, \"#fb9f3a\"], [0.8888888888888888, \"#fdca26\"], [1.0, \"#f0f921\"]], \"type\": \"histogram2d\"}], \"histogram2dcontour\": [{\"colorbar\": {\"outlinewidth\": 0, \"ticks\": \"\"}, \"colorscale\": [[0.0, \"#0d0887\"], [0.1111111111111111, \"#46039f\"], [0.2222222222222222, \"#7201a8\"], [0.3333333333333333, \"#9c179e\"], [0.4444444444444444, \"#bd3786\"], [0.5555555555555556, \"#d8576b\"], [0.6666666666666666, \"#ed7953\"], [0.7777777777777778, \"#fb9f3a\"], [0.8888888888888888, \"#fdca26\"], [1.0, \"#f0f921\"]], \"type\": \"histogram2dcontour\"}], \"mesh3d\": [{\"colorbar\": {\"outlinewidth\": 0, \"ticks\": \"\"}, \"type\": \"mesh3d\"}], \"parcoords\": [{\"line\": {\"colorbar\": {\"outlinewidth\": 0, \"ticks\": \"\"}}, \"type\": \"parcoords\"}], \"pie\": [{\"automargin\": true, \"type\": \"pie\"}], \"scatter\": [{\"marker\": {\"colorbar\": {\"outlinewidth\": 0, \"ticks\": \"\"}}, \"type\": \"scatter\"}], \"scatter3d\": [{\"line\": {\"colorbar\": {\"outlinewidth\": 0, \"ticks\": \"\"}}, \"marker\": {\"colorbar\": {\"outlinewidth\": 0, \"ticks\": \"\"}}, \"type\": \"scatter3d\"}], \"scattercarpet\": [{\"marker\": {\"colorbar\": {\"outlinewidth\": 0, \"ticks\": \"\"}}, \"type\": \"scattercarpet\"}], \"scattergeo\": [{\"marker\": {\"colorbar\": {\"outlinewidth\": 0, \"ticks\": \"\"}}, \"type\": \"scattergeo\"}], \"scattergl\": [{\"marker\": {\"colorbar\": {\"outlinewidth\": 0, \"ticks\": \"\"}}, \"type\": \"scattergl\"}], \"scattermapbox\": [{\"marker\": {\"colorbar\": {\"outlinewidth\": 0, \"ticks\": \"\"}}, \"type\": \"scattermapbox\"}], \"scatterpolar\": [{\"marker\": {\"colorbar\": {\"outlinewidth\": 0, \"ticks\": \"\"}}, \"type\": \"scatterpolar\"}], \"scatterpolargl\": [{\"marker\": {\"colorbar\": {\"outlinewidth\": 0, \"ticks\": \"\"}}, \"type\": \"scatterpolargl\"}], \"scatterternary\": [{\"marker\": {\"colorbar\": {\"outlinewidth\": 0, \"ticks\": \"\"}}, \"type\": \"scatterternary\"}], \"surface\": [{\"colorbar\": {\"outlinewidth\": 0, \"ticks\": \"\"}, \"colorscale\": [[0.0, \"#0d0887\"], [0.1111111111111111, \"#46039f\"], [0.2222222222222222, \"#7201a8\"], [0.3333333333333333, \"#9c179e\"], [0.4444444444444444, \"#bd3786\"], [0.5555555555555556, \"#d8576b\"], [0.6666666666666666, \"#ed7953\"], [0.7777777777777778, \"#fb9f3a\"], [0.8888888888888888, \"#fdca26\"], [1.0, \"#f0f921\"]], \"type\": \"surface\"}], \"table\": [{\"cells\": {\"fill\": {\"color\": \"#EBF0F8\"}, \"line\": {\"color\": \"white\"}}, \"header\": {\"fill\": {\"color\": \"#C8D4E3\"}, \"line\": {\"color\": \"white\"}}, \"type\": \"table\"}]}, \"layout\": {\"annotationdefaults\": {\"arrowcolor\": \"#2a3f5f\", \"arrowhead\": 0, \"arrowwidth\": 1}, \"coloraxis\": {\"colorbar\": {\"outlinewidth\": 0, \"ticks\": \"\"}}, \"colorscale\": {\"diverging\": [[0, \"#8e0152\"], [0.1, \"#c51b7d\"], [0.2, \"#de77ae\"], [0.3, \"#f1b6da\"], [0.4, \"#fde0ef\"], [0.5, \"#f7f7f7\"], [0.6, \"#e6f5d0\"], [0.7, \"#b8e186\"], [0.8, \"#7fbc41\"], [0.9, \"#4d9221\"], [1, \"#276419\"]], \"sequential\": [[0.0, \"#0d0887\"], [0.1111111111111111, \"#46039f\"], [0.2222222222222222, \"#7201a8\"], [0.3333333333333333, \"#9c179e\"], [0.4444444444444444, \"#bd3786\"], [0.5555555555555556, \"#d8576b\"], [0.6666666666666666, \"#ed7953\"], [0.7777777777777778, \"#fb9f3a\"], [0.8888888888888888, \"#fdca26\"], [1.0, \"#f0f921\"]], \"sequentialminus\": [[0.0, \"#0d0887\"], [0.1111111111111111, \"#46039f\"], [0.2222222222222222, \"#7201a8\"], [0.3333333333333333, \"#9c179e\"], [0.4444444444444444, \"#bd3786\"], [0.5555555555555556, \"#d8576b\"], [0.6666666666666666, \"#ed7953\"], [0.7777777777777778, \"#fb9f3a\"], [0.8888888888888888, \"#fdca26\"], [1.0, \"#f0f921\"]]}, \"colorway\": [\"#636efa\", \"#EF553B\", \"#00cc96\", \"#ab63fa\", \"#FFA15A\", \"#19d3f3\", \"#FF6692\", \"#B6E880\", \"#FF97FF\", \"#FECB52\"], \"font\": {\"color\": \"#2a3f5f\"}, \"geo\": {\"bgcolor\": \"white\", \"lakecolor\": \"white\", \"landcolor\": \"#E5ECF6\", \"showlakes\": true, \"showland\": true, \"subunitcolor\": \"white\"}, \"hoverlabel\": {\"align\": \"left\"}, \"hovermode\": \"closest\", \"mapbox\": {\"style\": \"light\"}, \"paper_bgcolor\": \"white\", \"plot_bgcolor\": \"#E5ECF6\", \"polar\": {\"angularaxis\": {\"gridcolor\": \"white\", \"linecolor\": \"white\", \"ticks\": \"\"}, \"bgcolor\": \"#E5ECF6\", \"radialaxis\": {\"gridcolor\": \"white\", \"linecolor\": \"white\", \"ticks\": \"\"}}, \"scene\": {\"xaxis\": {\"backgroundcolor\": \"#E5ECF6\", \"gridcolor\": \"white\", \"gridwidth\": 2, \"linecolor\": \"white\", \"showbackground\": true, \"ticks\": \"\", \"zerolinecolor\": \"white\"}, \"yaxis\": {\"backgroundcolor\": \"#E5ECF6\", \"gridcolor\": \"white\", \"gridwidth\": 2, \"linecolor\": \"white\", \"showbackground\": true, \"ticks\": \"\", \"zerolinecolor\": \"white\"}, \"zaxis\": {\"backgroundcolor\": \"#E5ECF6\", \"gridcolor\": \"white\", \"gridwidth\": 2, \"linecolor\": \"white\", \"showbackground\": true, \"ticks\": \"\", \"zerolinecolor\": \"white\"}}, \"shapedefaults\": {\"line\": {\"color\": \"#2a3f5f\"}}, \"ternary\": {\"aaxis\": {\"gridcolor\": \"white\", \"linecolor\": \"white\", \"ticks\": \"\"}, \"baxis\": {\"gridcolor\": \"white\", \"linecolor\": \"white\", \"ticks\": \"\"}, \"bgcolor\": \"#E5ECF6\", \"caxis\": {\"gridcolor\": \"white\", \"linecolor\": \"white\", \"ticks\": \"\"}}, \"title\": {\"x\": 0.05}, \"xaxis\": {\"automargin\": true, \"gridcolor\": \"white\", \"linecolor\": \"white\", \"ticks\": \"\", \"title\": {\"standoff\": 15}, \"zerolinecolor\": \"white\", \"zerolinewidth\": 2}, \"yaxis\": {\"automargin\": true, \"gridcolor\": \"white\", \"linecolor\": \"white\", \"ticks\": \"\", \"title\": {\"standoff\": 15}, \"zerolinecolor\": \"white\", \"zerolinewidth\": 2}}}, \"title\": {\"text\": \"Transaction volume\"}, \"xaxis\": {\"title\": {\"text\": \"Date\"}}, \"yaxis\": {\"title\": {\"text\": \"Volume\"}}},\n",
              "                        {\"responsive\": true}\n",
              "                    ).then(function(){\n",
              "                            \n",
              "var gd = document.getElementById('e07ba83f-6d72-4db1-8352-9c00a5e78c3d');\n",
              "var x = new MutationObserver(function (mutations, observer) {{\n",
              "        var display = window.getComputedStyle(gd).display;\n",
              "        if (!display || display === 'none') {{\n",
              "            console.log([gd, 'removed!']);\n",
              "            Plotly.purge(gd);\n",
              "            observer.disconnect();\n",
              "        }}\n",
              "}});\n",
              "\n",
              "// Listen for the removal of the full notebook cells\n",
              "var notebookContainer = gd.closest('#notebook-container');\n",
              "if (notebookContainer) {{\n",
              "    x.observe(notebookContainer, {childList: true});\n",
              "}}\n",
              "\n",
              "// Listen for the clearing of the current output cell\n",
              "var outputEl = gd.closest('.output');\n",
              "if (outputEl) {{\n",
              "    x.observe(outputEl, {childList: true});\n",
              "}}\n",
              "\n",
              "                        })\n",
              "                };\n",
              "                \n",
              "            </script>\n",
              "        </div>\n",
              "</body>\n",
              "</html>"
            ]
          },
          "metadata": {
            "tags": []
          }
        }
      ]
    },
    {
      "cell_type": "markdown",
      "metadata": {
        "id": "az0vtaX9v8U0"
      },
      "source": [
        "## Price Prediction\n",
        "\n",
        "\n",
        "---\n",
        "\n",
        "\n",
        "\n"
      ]
    },
    {
      "cell_type": "markdown",
      "metadata": {
        "id": "32rM2ZERwfBo"
      },
      "source": [
        "### Data preprocessing"
      ]
    },
    {
      "cell_type": "code",
      "metadata": {
        "id": "XUokfyQ8wuc1"
      },
      "source": [
        "# Fill in missing values and sort index \n",
        "bitcoin_data = bitcoin[['Adj Close']].fillna(method='backfill').sort_index(ascending=True, axis=0)\n"
      ],
      "execution_count": 26,
      "outputs": []
    },
    {
      "cell_type": "code",
      "metadata": {
        "id": "nLy7fOh2-Pzr"
      },
      "source": [
        "# Scale and reshape Adj Close values\n",
        "adj_price = bitcoin_data['Adj Close'].values.reshape(-1, 1)\n",
        "bitcoin_data['Adj Close'] = scaler.fit_transform(adj_price)"
      ],
      "execution_count": 27,
      "outputs": []
    },
    {
      "cell_type": "markdown",
      "metadata": {
        "id": "xGwnecwl0Ngr"
      },
      "source": [
        "### Splitting into training and testing"
      ]
    },
    {
      "cell_type": "code",
      "metadata": {
        "id": "tWGqrvI7-enR"
      },
      "source": [
        "# Split data into training and testing \n",
        "prediction_days = 13\n",
        "\n",
        "training = bitcoin_data[:len(bitcoin_data)-prediction_days]\n",
        "testing = bitcoin_data[len(bitcoin_data)-prediction_days:]\n"
      ],
      "execution_count": 28,
      "outputs": []
    },
    {
      "cell_type": "markdown",
      "metadata": {
        "id": "BSopMslL0Vx1"
      },
      "source": [
        "### Training Data"
      ]
    },
    {
      "cell_type": "code",
      "metadata": {
        "id": "cgqE75mk8D9r"
      },
      "source": [
        "# Define X_train, y_train:\n",
        "training_set = training.values\n",
        "training_set = scaler.fit_transform(training_set)\n",
        "\n",
        "X_train = training_set[0:len(training_set)-1]\n",
        "X_train = np.reshape(X_train, (len(X_train), 1, 1))\n",
        "\n",
        "y_train = training_set[1:len(training_set)]"
      ],
      "execution_count": 29,
      "outputs": []
    },
    {
      "cell_type": "markdown",
      "metadata": {
        "id": "_-bM-K1L0bo8"
      },
      "source": [
        "### LSTM recurrent neural network model "
      ]
    },
    {
      "cell_type": "code",
      "metadata": {
        "colab": {
          "base_uri": "https://localhost:8080/"
        },
        "id": "rWnSQKr48N_W",
        "outputId": "251b34e6-dc2d-428e-e405-099834a0e782"
      },
      "source": [
        "# Sequential model\n",
        "model = Sequential()\n",
        "# Add the input layer and the LSTM layer\n",
        "model.add(LSTM(units = 4, activation = 'sigmoid', input_shape=(None, 1)))\n",
        "# Add the output layer\n",
        "model.add(Dense(units = 1))\n",
        "\n",
        "# Compile the model:\n",
        "model.compile(optimizer = 'adam', loss = 'mean_squared_error')\n",
        "\n",
        "# Using the training set to train the model:\n",
        "history= model.fit(X_train, y_train, batch_size = 5, epochs = 100 )\n",
        "history\n"
      ],
      "execution_count": 30,
      "outputs": [
        {
          "output_type": "stream",
          "text": [
            "Epoch 1/100\n",
            "113/113 [==============================] - 1s 1ms/step - loss: 0.3951\n",
            "Epoch 2/100\n",
            "113/113 [==============================] - 0s 1ms/step - loss: 0.1597\n",
            "Epoch 3/100\n",
            "113/113 [==============================] - 0s 1ms/step - loss: 0.0948\n",
            "Epoch 4/100\n",
            "113/113 [==============================] - 0s 1ms/step - loss: 0.0878\n",
            "Epoch 5/100\n",
            "113/113 [==============================] - 0s 1ms/step - loss: 0.0580\n",
            "Epoch 6/100\n",
            "113/113 [==============================] - 0s 1ms/step - loss: 0.0575\n",
            "Epoch 7/100\n",
            "113/113 [==============================] - 0s 1ms/step - loss: 0.0505\n",
            "Epoch 8/100\n",
            "113/113 [==============================] - 0s 1ms/step - loss: 0.0609\n",
            "Epoch 9/100\n",
            "113/113 [==============================] - 0s 1ms/step - loss: 0.0511\n",
            "Epoch 10/100\n",
            "113/113 [==============================] - 0s 2ms/step - loss: 0.0441\n",
            "Epoch 11/100\n",
            "113/113 [==============================] - 0s 1ms/step - loss: 0.0580\n",
            "Epoch 12/100\n",
            "113/113 [==============================] - 0s 1ms/step - loss: 0.0397\n",
            "Epoch 13/100\n",
            "113/113 [==============================] - 0s 1ms/step - loss: 0.0456\n",
            "Epoch 14/100\n",
            "113/113 [==============================] - 0s 1ms/step - loss: 0.0364\n",
            "Epoch 15/100\n",
            "113/113 [==============================] - 0s 1ms/step - loss: 0.0470\n",
            "Epoch 16/100\n",
            "113/113 [==============================] - 0s 1ms/step - loss: 0.0422\n",
            "Epoch 17/100\n",
            "113/113 [==============================] - 0s 1ms/step - loss: 0.0315\n",
            "Epoch 18/100\n",
            "113/113 [==============================] - 0s 1ms/step - loss: 0.0324\n",
            "Epoch 19/100\n",
            "113/113 [==============================] - 0s 1ms/step - loss: 0.0332\n",
            "Epoch 20/100\n",
            "113/113 [==============================] - 0s 1ms/step - loss: 0.0267\n",
            "Epoch 21/100\n",
            "113/113 [==============================] - 0s 1ms/step - loss: 0.0350\n",
            "Epoch 22/100\n",
            "113/113 [==============================] - 0s 1ms/step - loss: 0.0224\n",
            "Epoch 23/100\n",
            "113/113 [==============================] - 0s 2ms/step - loss: 0.0193\n",
            "Epoch 24/100\n",
            "113/113 [==============================] - 0s 1ms/step - loss: 0.0168\n",
            "Epoch 25/100\n",
            "113/113 [==============================] - 0s 1ms/step - loss: 0.0125\n",
            "Epoch 26/100\n",
            "113/113 [==============================] - 0s 1ms/step - loss: 0.0106\n",
            "Epoch 27/100\n",
            "113/113 [==============================] - 0s 1ms/step - loss: 0.0128\n",
            "Epoch 28/100\n",
            "113/113 [==============================] - 0s 1ms/step - loss: 0.0094\n",
            "Epoch 29/100\n",
            "113/113 [==============================] - 0s 1ms/step - loss: 0.0055\n",
            "Epoch 30/100\n",
            "113/113 [==============================] - 0s 1ms/step - loss: 0.0049\n",
            "Epoch 31/100\n",
            "113/113 [==============================] - 0s 1ms/step - loss: 0.0033\n",
            "Epoch 32/100\n",
            "113/113 [==============================] - 0s 1ms/step - loss: 0.0025\n",
            "Epoch 33/100\n",
            "113/113 [==============================] - 0s 1ms/step - loss: 0.0021\n",
            "Epoch 34/100\n",
            "113/113 [==============================] - 0s 1ms/step - loss: 0.0015\n",
            "Epoch 35/100\n",
            "113/113 [==============================] - 0s 1ms/step - loss: 0.0010\n",
            "Epoch 36/100\n",
            "113/113 [==============================] - 0s 1ms/step - loss: 7.6680e-04\n",
            "Epoch 37/100\n",
            "113/113 [==============================] - 0s 1ms/step - loss: 6.6879e-04\n",
            "Epoch 38/100\n",
            "113/113 [==============================] - 0s 1ms/step - loss: 6.3554e-04\n",
            "Epoch 39/100\n",
            "113/113 [==============================] - 0s 1ms/step - loss: 4.4260e-04\n",
            "Epoch 40/100\n",
            "113/113 [==============================] - 0s 1ms/step - loss: 5.0316e-04\n",
            "Epoch 41/100\n",
            "113/113 [==============================] - 0s 1ms/step - loss: 5.0584e-04\n",
            "Epoch 42/100\n",
            "113/113 [==============================] - 0s 1ms/step - loss: 3.9126e-04\n",
            "Epoch 43/100\n",
            "113/113 [==============================] - 0s 1ms/step - loss: 4.7437e-04\n",
            "Epoch 44/100\n",
            "113/113 [==============================] - 0s 1ms/step - loss: 4.3992e-04\n",
            "Epoch 45/100\n",
            "113/113 [==============================] - 0s 1ms/step - loss: 3.2989e-04\n",
            "Epoch 46/100\n",
            "113/113 [==============================] - 0s 1ms/step - loss: 4.1796e-04\n",
            "Epoch 47/100\n",
            "113/113 [==============================] - 0s 1ms/step - loss: 3.7334e-04\n",
            "Epoch 48/100\n",
            "113/113 [==============================] - 0s 1ms/step - loss: 3.8319e-04\n",
            "Epoch 49/100\n",
            "113/113 [==============================] - 0s 1ms/step - loss: 3.9680e-04\n",
            "Epoch 50/100\n",
            "113/113 [==============================] - 0s 1ms/step - loss: 3.2171e-04\n",
            "Epoch 51/100\n",
            "113/113 [==============================] - 0s 1ms/step - loss: 4.0582e-04\n",
            "Epoch 52/100\n",
            "113/113 [==============================] - 0s 1ms/step - loss: 4.4158e-04\n",
            "Epoch 53/100\n",
            "113/113 [==============================] - 0s 1ms/step - loss: 3.7986e-04\n",
            "Epoch 54/100\n",
            "113/113 [==============================] - 0s 1ms/step - loss: 3.2358e-04\n",
            "Epoch 55/100\n",
            "113/113 [==============================] - 0s 1ms/step - loss: 3.8997e-04\n",
            "Epoch 56/100\n",
            "113/113 [==============================] - 0s 1ms/step - loss: 4.1935e-04\n",
            "Epoch 57/100\n",
            "113/113 [==============================] - 0s 2ms/step - loss: 3.9504e-04\n",
            "Epoch 58/100\n",
            "113/113 [==============================] - 0s 1ms/step - loss: 3.6374e-04\n",
            "Epoch 59/100\n",
            "113/113 [==============================] - 0s 1ms/step - loss: 3.9343e-04\n",
            "Epoch 60/100\n",
            "113/113 [==============================] - 0s 1ms/step - loss: 4.0774e-04\n",
            "Epoch 61/100\n",
            "113/113 [==============================] - 0s 1ms/step - loss: 3.0284e-04\n",
            "Epoch 62/100\n",
            "113/113 [==============================] - 0s 1ms/step - loss: 3.0583e-04\n",
            "Epoch 63/100\n",
            "113/113 [==============================] - 0s 1ms/step - loss: 3.2512e-04\n",
            "Epoch 64/100\n",
            "113/113 [==============================] - 0s 1ms/step - loss: 4.9923e-04\n",
            "Epoch 65/100\n",
            "113/113 [==============================] - 0s 1ms/step - loss: 3.0594e-04\n",
            "Epoch 66/100\n",
            "113/113 [==============================] - 0s 1ms/step - loss: 3.1705e-04\n",
            "Epoch 67/100\n",
            "113/113 [==============================] - 0s 1ms/step - loss: 2.4088e-04\n",
            "Epoch 68/100\n",
            "113/113 [==============================] - 0s 1ms/step - loss: 3.3895e-04\n",
            "Epoch 69/100\n",
            "113/113 [==============================] - 0s 1ms/step - loss: 2.6030e-04\n",
            "Epoch 70/100\n",
            "113/113 [==============================] - 0s 1ms/step - loss: 2.9351e-04\n",
            "Epoch 71/100\n",
            "113/113 [==============================] - 0s 1ms/step - loss: 3.9154e-04\n",
            "Epoch 72/100\n",
            "113/113 [==============================] - 0s 1ms/step - loss: 3.1522e-04\n",
            "Epoch 73/100\n",
            "113/113 [==============================] - 0s 1ms/step - loss: 3.4149e-04\n",
            "Epoch 74/100\n",
            "113/113 [==============================] - 0s 1ms/step - loss: 3.9035e-04\n",
            "Epoch 75/100\n",
            "113/113 [==============================] - 0s 1ms/step - loss: 3.1746e-04\n",
            "Epoch 76/100\n",
            "113/113 [==============================] - 0s 1ms/step - loss: 2.9116e-04\n",
            "Epoch 77/100\n",
            "113/113 [==============================] - 0s 1ms/step - loss: 2.8100e-04\n",
            "Epoch 78/100\n",
            "113/113 [==============================] - 0s 1ms/step - loss: 3.1382e-04\n",
            "Epoch 79/100\n",
            "113/113 [==============================] - 0s 1ms/step - loss: 3.6329e-04\n",
            "Epoch 80/100\n",
            "113/113 [==============================] - 0s 1ms/step - loss: 3.0464e-04\n",
            "Epoch 81/100\n",
            "113/113 [==============================] - 0s 1ms/step - loss: 3.2259e-04\n",
            "Epoch 82/100\n",
            "113/113 [==============================] - 0s 1ms/step - loss: 3.1236e-04\n",
            "Epoch 83/100\n",
            "113/113 [==============================] - 0s 1ms/step - loss: 3.0596e-04\n",
            "Epoch 84/100\n",
            "113/113 [==============================] - 0s 1ms/step - loss: 3.0872e-04\n",
            "Epoch 85/100\n",
            "113/113 [==============================] - 0s 1ms/step - loss: 2.9343e-04\n",
            "Epoch 86/100\n",
            "113/113 [==============================] - 0s 1ms/step - loss: 3.5821e-04\n",
            "Epoch 87/100\n",
            "113/113 [==============================] - 0s 1ms/step - loss: 3.1353e-04\n",
            "Epoch 88/100\n",
            "113/113 [==============================] - 0s 1ms/step - loss: 2.9360e-04\n",
            "Epoch 89/100\n",
            "113/113 [==============================] - 0s 1ms/step - loss: 2.2108e-04\n",
            "Epoch 90/100\n",
            "113/113 [==============================] - 0s 1ms/step - loss: 3.2521e-04\n",
            "Epoch 91/100\n",
            "113/113 [==============================] - 0s 1ms/step - loss: 3.2611e-04\n",
            "Epoch 92/100\n",
            "113/113 [==============================] - 0s 1ms/step - loss: 2.4006e-04\n",
            "Epoch 93/100\n",
            "113/113 [==============================] - 0s 1ms/step - loss: 3.1668e-04\n",
            "Epoch 94/100\n",
            "113/113 [==============================] - 0s 1ms/step - loss: 3.2277e-04\n",
            "Epoch 95/100\n",
            "113/113 [==============================] - 0s 1ms/step - loss: 2.3056e-04\n",
            "Epoch 96/100\n",
            "113/113 [==============================] - 0s 1ms/step - loss: 3.1917e-04\n",
            "Epoch 97/100\n",
            "113/113 [==============================] - 0s 1ms/step - loss: 2.2544e-04\n",
            "Epoch 98/100\n",
            "113/113 [==============================] - 0s 1ms/step - loss: 3.0678e-04\n",
            "Epoch 99/100\n",
            "113/113 [==============================] - 0s 1ms/step - loss: 2.8528e-04\n",
            "Epoch 100/100\n",
            "113/113 [==============================] - 0s 1ms/step - loss: 3.5999e-04\n"
          ],
          "name": "stdout"
        },
        {
          "output_type": "execute_result",
          "data": {
            "text/plain": [
              "<tensorflow.python.keras.callbacks.History at 0x7fb1eb5f59d0>"
            ]
          },
          "metadata": {
            "tags": []
          },
          "execution_count": 30
        }
      ]
    },
    {
      "cell_type": "markdown",
      "metadata": {
        "id": "saQAvX5k0uTH"
      },
      "source": [
        "### Testing Data "
      ]
    },
    {
      "cell_type": "code",
      "metadata": {
        "id": "_Eqy93on8SUv"
      },
      "source": [
        "testing_set = testing.values\n",
        "\n",
        "inputs = np.reshape(testing_set, (len(testing_set), 1))\n",
        "inputs = scaler.transform(inputs)\n",
        "inputs = np.reshape(inputs, (len(inputs), 1, 1))\n",
        "\n",
        "predicted_price = model.predict(inputs)\n",
        "predicted_price = scaler.inverse_transform(predicted_price)"
      ],
      "execution_count": 31,
      "outputs": []
    },
    {
      "cell_type": "markdown",
      "metadata": {
        "id": "MHcpYBA3bM8S"
      },
      "source": [
        "###Line graph showing loss with epoch transition"
      ]
    },
    {
      "cell_type": "code",
      "metadata": {
        "colab": {
          "base_uri": "https://localhost:8080/",
          "height": 542
        },
        "id": "gHc6nup8LE6G",
        "outputId": "517e9a42-d90e-467b-98df-a67e3a14086b"
      },
      "source": [
        "loss_train = history.history['loss']\n",
        "epochs = list(range(1,101))\n",
        "fig = go.Figure()\n",
        "\n",
        "# Add Traces\n",
        "fig.add_trace(go.Scatter(x=epochs\n",
        "                         , y=loss_train\n",
        "                         , name='Training loss'\n",
        "                         , line = dict(color='orange')\n",
        "         \n",
        "                        ))\n",
        "\n",
        "# Set title\n",
        "fig.update_layout(title_text='Loss with epoch transition')\n",
        "\n",
        "# Set x and y-axis titles\n",
        "fig.update_xaxes(title_text='Epoch')\n",
        "fig.update_yaxes(title_text='Loss')\n",
        "\n",
        "fig.show()   "
      ],
      "execution_count": 32,
      "outputs": [
        {
          "output_type": "display_data",
          "data": {
            "text/html": [
              "<html>\n",
              "<head><meta charset=\"utf-8\" /></head>\n",
              "<body>\n",
              "    <div>\n",
              "            <script src=\"https://cdnjs.cloudflare.com/ajax/libs/mathjax/2.7.5/MathJax.js?config=TeX-AMS-MML_SVG\"></script><script type=\"text/javascript\">if (window.MathJax) {MathJax.Hub.Config({SVG: {font: \"STIX-Web\"}});}</script>\n",
              "                <script type=\"text/javascript\">window.PlotlyConfig = {MathJaxConfig: 'local'};</script>\n",
              "        <script src=\"https://cdn.plot.ly/plotly-latest.min.js\"></script>    \n",
              "            <div id=\"0d1496d1-bf71-45dd-a647-10ef9ac65d68\" class=\"plotly-graph-div\" style=\"height:525px; width:100%;\"></div>\n",
              "            <script type=\"text/javascript\">\n",
              "                \n",
              "                    window.PLOTLYENV=window.PLOTLYENV || {};\n",
              "                    \n",
              "                if (document.getElementById(\"0d1496d1-bf71-45dd-a647-10ef9ac65d68\")) {\n",
              "                    Plotly.newPlot(\n",
              "                        '0d1496d1-bf71-45dd-a647-10ef9ac65d68',\n",
              "                        [{\"line\": {\"color\": \"orange\"}, \"name\": \"Training loss\", \"type\": \"scatter\", \"x\": [1, 2, 3, 4, 5, 6, 7, 8, 9, 10, 11, 12, 13, 14, 15, 16, 17, 18, 19, 20, 21, 22, 23, 24, 25, 26, 27, 28, 29, 30, 31, 32, 33, 34, 35, 36, 37, 38, 39, 40, 41, 42, 43, 44, 45, 46, 47, 48, 49, 50, 51, 52, 53, 54, 55, 56, 57, 58, 59, 60, 61, 62, 63, 64, 65, 66, 67, 68, 69, 70, 71, 72, 73, 74, 75, 76, 77, 78, 79, 80, 81, 82, 83, 84, 85, 86, 87, 88, 89, 90, 91, 92, 93, 94, 95, 96, 97, 98, 99, 100], \"y\": [0.3124375343322754, 0.14623503386974335, 0.08528793603181839, 0.0671115443110466, 0.06181693077087402, 0.05949213355779648, 0.05777796357870102, 0.056104060262441635, 0.05425151437520981, 0.052577678114175797, 0.05043221265077591, 0.04848790541291237, 0.04634110629558563, 0.04415183514356613, 0.04190805181860924, 0.039619140326976776, 0.03701440617442131, 0.034542061388492584, 0.03169138357043266, 0.028916582465171814, 0.026052085682749748, 0.023277882486581802, 0.020366309210658073, 0.017581762745976448, 0.014900073409080505, 0.012342849746346474, 0.010034891776740551, 0.007972678169608116, 0.006199694704264402, 0.004714916925877333, 0.0034947467502206564, 0.0025871589314192533, 0.0018744368571788073, 0.0013688469771295786, 0.0010064980015158653, 0.0007695305394008756, 0.0006155453738756478, 0.0005180428270250559, 0.0004570898017846048, 0.00042567012133076787, 0.0004075326141901314, 0.0003958234447054565, 0.00039310555439442396, 0.00038926478009670973, 0.0003864965692628175, 0.0003854869573842734, 0.00038003490772098303, 0.00038237188709899783, 0.0003782510757446289, 0.00037420360604301095, 0.00037017668364569545, 0.00037054234417155385, 0.0003677498607430607, 0.00036715116584673524, 0.00036758894566446543, 0.0003626928373705596, 0.00035568783641792834, 0.0003556418523658067, 0.0003550357942003757, 0.0003493569674901664, 0.0003485665947664529, 0.0003436793922446668, 0.0003436577972024679, 0.00034321684506721795, 0.00033728478592820466, 0.0003336163645144552, 0.0003322362608741969, 0.0003402568108867854, 0.0003249267174396664, 0.00032645053579472005, 0.000331541639752686, 0.0003174171724822372, 0.0003212416486348957, 0.00031427625799551606, 0.00031784852035343647, 0.0003116124134976417, 0.00031684202258475125, 0.00030468928162008524, 0.0003225538821425289, 0.00030174979474395514, 0.00030465496820397675, 0.0003015879774466157, 0.0003017918497789651, 0.00029673916287720203, 0.000301662425044924, 0.0002967654727399349, 0.00029163644649088383, 0.0003020947624463588, 0.0002884924178943038, 0.0002935991215053946, 0.0002955583040602505, 0.00028426546487025917, 0.0002885043213609606, 0.00028564356034621596, 0.0002870507014449686, 0.00029548854217864573, 0.0002865163260139525, 0.0002883074921555817, 0.0002808618010021746, 0.00028637240757234395]}],\n",
              "                        {\"template\": {\"data\": {\"bar\": [{\"error_x\": {\"color\": \"#2a3f5f\"}, \"error_y\": {\"color\": \"#2a3f5f\"}, \"marker\": {\"line\": {\"color\": \"#E5ECF6\", \"width\": 0.5}}, \"type\": \"bar\"}], \"barpolar\": [{\"marker\": {\"line\": {\"color\": \"#E5ECF6\", \"width\": 0.5}}, \"type\": \"barpolar\"}], \"carpet\": [{\"aaxis\": {\"endlinecolor\": \"#2a3f5f\", \"gridcolor\": \"white\", \"linecolor\": \"white\", \"minorgridcolor\": \"white\", \"startlinecolor\": \"#2a3f5f\"}, \"baxis\": {\"endlinecolor\": \"#2a3f5f\", \"gridcolor\": \"white\", \"linecolor\": \"white\", \"minorgridcolor\": \"white\", \"startlinecolor\": \"#2a3f5f\"}, \"type\": \"carpet\"}], \"choropleth\": [{\"colorbar\": {\"outlinewidth\": 0, \"ticks\": \"\"}, \"type\": \"choropleth\"}], \"contour\": [{\"colorbar\": {\"outlinewidth\": 0, \"ticks\": \"\"}, \"colorscale\": [[0.0, \"#0d0887\"], [0.1111111111111111, \"#46039f\"], [0.2222222222222222, \"#7201a8\"], [0.3333333333333333, \"#9c179e\"], [0.4444444444444444, \"#bd3786\"], [0.5555555555555556, \"#d8576b\"], [0.6666666666666666, \"#ed7953\"], [0.7777777777777778, \"#fb9f3a\"], [0.8888888888888888, \"#fdca26\"], [1.0, \"#f0f921\"]], \"type\": \"contour\"}], \"contourcarpet\": [{\"colorbar\": {\"outlinewidth\": 0, \"ticks\": \"\"}, \"type\": \"contourcarpet\"}], \"heatmap\": [{\"colorbar\": {\"outlinewidth\": 0, \"ticks\": \"\"}, \"colorscale\": [[0.0, \"#0d0887\"], [0.1111111111111111, \"#46039f\"], [0.2222222222222222, \"#7201a8\"], [0.3333333333333333, \"#9c179e\"], [0.4444444444444444, \"#bd3786\"], [0.5555555555555556, \"#d8576b\"], [0.6666666666666666, \"#ed7953\"], [0.7777777777777778, \"#fb9f3a\"], [0.8888888888888888, \"#fdca26\"], [1.0, \"#f0f921\"]], \"type\": \"heatmap\"}], \"heatmapgl\": [{\"colorbar\": {\"outlinewidth\": 0, \"ticks\": \"\"}, \"colorscale\": [[0.0, \"#0d0887\"], [0.1111111111111111, \"#46039f\"], [0.2222222222222222, \"#7201a8\"], [0.3333333333333333, \"#9c179e\"], [0.4444444444444444, \"#bd3786\"], [0.5555555555555556, \"#d8576b\"], [0.6666666666666666, \"#ed7953\"], [0.7777777777777778, \"#fb9f3a\"], [0.8888888888888888, \"#fdca26\"], [1.0, \"#f0f921\"]], \"type\": \"heatmapgl\"}], \"histogram\": [{\"marker\": {\"colorbar\": {\"outlinewidth\": 0, \"ticks\": \"\"}}, \"type\": \"histogram\"}], \"histogram2d\": [{\"colorbar\": {\"outlinewidth\": 0, \"ticks\": \"\"}, \"colorscale\": [[0.0, \"#0d0887\"], [0.1111111111111111, \"#46039f\"], [0.2222222222222222, \"#7201a8\"], [0.3333333333333333, \"#9c179e\"], [0.4444444444444444, \"#bd3786\"], [0.5555555555555556, \"#d8576b\"], [0.6666666666666666, \"#ed7953\"], [0.7777777777777778, \"#fb9f3a\"], [0.8888888888888888, \"#fdca26\"], [1.0, \"#f0f921\"]], \"type\": \"histogram2d\"}], \"histogram2dcontour\": [{\"colorbar\": {\"outlinewidth\": 0, \"ticks\": \"\"}, \"colorscale\": [[0.0, \"#0d0887\"], [0.1111111111111111, \"#46039f\"], [0.2222222222222222, \"#7201a8\"], [0.3333333333333333, \"#9c179e\"], [0.4444444444444444, \"#bd3786\"], [0.5555555555555556, \"#d8576b\"], [0.6666666666666666, \"#ed7953\"], [0.7777777777777778, \"#fb9f3a\"], [0.8888888888888888, \"#fdca26\"], [1.0, \"#f0f921\"]], \"type\": \"histogram2dcontour\"}], \"mesh3d\": [{\"colorbar\": {\"outlinewidth\": 0, \"ticks\": \"\"}, \"type\": \"mesh3d\"}], \"parcoords\": [{\"line\": {\"colorbar\": {\"outlinewidth\": 0, \"ticks\": \"\"}}, \"type\": \"parcoords\"}], \"pie\": [{\"automargin\": true, \"type\": \"pie\"}], \"scatter\": [{\"marker\": {\"colorbar\": {\"outlinewidth\": 0, \"ticks\": \"\"}}, \"type\": \"scatter\"}], \"scatter3d\": [{\"line\": {\"colorbar\": {\"outlinewidth\": 0, \"ticks\": \"\"}}, \"marker\": {\"colorbar\": {\"outlinewidth\": 0, \"ticks\": \"\"}}, \"type\": \"scatter3d\"}], \"scattercarpet\": [{\"marker\": {\"colorbar\": {\"outlinewidth\": 0, \"ticks\": \"\"}}, \"type\": \"scattercarpet\"}], \"scattergeo\": [{\"marker\": {\"colorbar\": {\"outlinewidth\": 0, \"ticks\": \"\"}}, \"type\": \"scattergeo\"}], \"scattergl\": [{\"marker\": {\"colorbar\": {\"outlinewidth\": 0, \"ticks\": \"\"}}, \"type\": \"scattergl\"}], \"scattermapbox\": [{\"marker\": {\"colorbar\": {\"outlinewidth\": 0, \"ticks\": \"\"}}, \"type\": \"scattermapbox\"}], \"scatterpolar\": [{\"marker\": {\"colorbar\": {\"outlinewidth\": 0, \"ticks\": \"\"}}, \"type\": \"scatterpolar\"}], \"scatterpolargl\": [{\"marker\": {\"colorbar\": {\"outlinewidth\": 0, \"ticks\": \"\"}}, \"type\": \"scatterpolargl\"}], \"scatterternary\": [{\"marker\": {\"colorbar\": {\"outlinewidth\": 0, \"ticks\": \"\"}}, \"type\": \"scatterternary\"}], \"surface\": [{\"colorbar\": {\"outlinewidth\": 0, \"ticks\": \"\"}, \"colorscale\": [[0.0, \"#0d0887\"], [0.1111111111111111, \"#46039f\"], [0.2222222222222222, \"#7201a8\"], [0.3333333333333333, \"#9c179e\"], [0.4444444444444444, \"#bd3786\"], [0.5555555555555556, \"#d8576b\"], [0.6666666666666666, \"#ed7953\"], [0.7777777777777778, \"#fb9f3a\"], [0.8888888888888888, \"#fdca26\"], [1.0, \"#f0f921\"]], \"type\": \"surface\"}], \"table\": [{\"cells\": {\"fill\": {\"color\": \"#EBF0F8\"}, \"line\": {\"color\": \"white\"}}, \"header\": {\"fill\": {\"color\": \"#C8D4E3\"}, \"line\": {\"color\": \"white\"}}, \"type\": \"table\"}]}, \"layout\": {\"annotationdefaults\": {\"arrowcolor\": \"#2a3f5f\", \"arrowhead\": 0, \"arrowwidth\": 1}, \"coloraxis\": {\"colorbar\": {\"outlinewidth\": 0, \"ticks\": \"\"}}, \"colorscale\": {\"diverging\": [[0, \"#8e0152\"], [0.1, \"#c51b7d\"], [0.2, \"#de77ae\"], [0.3, \"#f1b6da\"], [0.4, \"#fde0ef\"], [0.5, \"#f7f7f7\"], [0.6, \"#e6f5d0\"], [0.7, \"#b8e186\"], [0.8, \"#7fbc41\"], [0.9, \"#4d9221\"], [1, \"#276419\"]], \"sequential\": [[0.0, \"#0d0887\"], [0.1111111111111111, \"#46039f\"], [0.2222222222222222, \"#7201a8\"], [0.3333333333333333, \"#9c179e\"], [0.4444444444444444, \"#bd3786\"], [0.5555555555555556, \"#d8576b\"], [0.6666666666666666, \"#ed7953\"], [0.7777777777777778, \"#fb9f3a\"], [0.8888888888888888, \"#fdca26\"], [1.0, \"#f0f921\"]], \"sequentialminus\": [[0.0, \"#0d0887\"], [0.1111111111111111, \"#46039f\"], [0.2222222222222222, \"#7201a8\"], [0.3333333333333333, \"#9c179e\"], [0.4444444444444444, \"#bd3786\"], [0.5555555555555556, \"#d8576b\"], [0.6666666666666666, \"#ed7953\"], [0.7777777777777778, \"#fb9f3a\"], [0.8888888888888888, \"#fdca26\"], [1.0, \"#f0f921\"]]}, \"colorway\": [\"#636efa\", \"#EF553B\", \"#00cc96\", \"#ab63fa\", \"#FFA15A\", \"#19d3f3\", \"#FF6692\", \"#B6E880\", \"#FF97FF\", \"#FECB52\"], \"font\": {\"color\": \"#2a3f5f\"}, \"geo\": {\"bgcolor\": \"white\", \"lakecolor\": \"white\", \"landcolor\": \"#E5ECF6\", \"showlakes\": true, \"showland\": true, \"subunitcolor\": \"white\"}, \"hoverlabel\": {\"align\": \"left\"}, \"hovermode\": \"closest\", \"mapbox\": {\"style\": \"light\"}, \"paper_bgcolor\": \"white\", \"plot_bgcolor\": \"#E5ECF6\", \"polar\": {\"angularaxis\": {\"gridcolor\": \"white\", \"linecolor\": \"white\", \"ticks\": \"\"}, \"bgcolor\": \"#E5ECF6\", \"radialaxis\": {\"gridcolor\": \"white\", \"linecolor\": \"white\", \"ticks\": \"\"}}, \"scene\": {\"xaxis\": {\"backgroundcolor\": \"#E5ECF6\", \"gridcolor\": \"white\", \"gridwidth\": 2, \"linecolor\": \"white\", \"showbackground\": true, \"ticks\": \"\", \"zerolinecolor\": \"white\"}, \"yaxis\": {\"backgroundcolor\": \"#E5ECF6\", \"gridcolor\": \"white\", \"gridwidth\": 2, \"linecolor\": \"white\", \"showbackground\": true, \"ticks\": \"\", \"zerolinecolor\": \"white\"}, \"zaxis\": {\"backgroundcolor\": \"#E5ECF6\", \"gridcolor\": \"white\", \"gridwidth\": 2, \"linecolor\": \"white\", \"showbackground\": true, \"ticks\": \"\", \"zerolinecolor\": \"white\"}}, \"shapedefaults\": {\"line\": {\"color\": \"#2a3f5f\"}}, \"ternary\": {\"aaxis\": {\"gridcolor\": \"white\", \"linecolor\": \"white\", \"ticks\": \"\"}, \"baxis\": {\"gridcolor\": \"white\", \"linecolor\": \"white\", \"ticks\": \"\"}, \"bgcolor\": \"#E5ECF6\", \"caxis\": {\"gridcolor\": \"white\", \"linecolor\": \"white\", \"ticks\": \"\"}}, \"title\": {\"x\": 0.05}, \"xaxis\": {\"automargin\": true, \"gridcolor\": \"white\", \"linecolor\": \"white\", \"ticks\": \"\", \"title\": {\"standoff\": 15}, \"zerolinecolor\": \"white\", \"zerolinewidth\": 2}, \"yaxis\": {\"automargin\": true, \"gridcolor\": \"white\", \"linecolor\": \"white\", \"ticks\": \"\", \"title\": {\"standoff\": 15}, \"zerolinecolor\": \"white\", \"zerolinewidth\": 2}}}, \"title\": {\"text\": \"Loss with epoch transition\"}, \"xaxis\": {\"title\": {\"text\": \"Epoch\"}}, \"yaxis\": {\"title\": {\"text\": \"Loss\"}}},\n",
              "                        {\"responsive\": true}\n",
              "                    ).then(function(){\n",
              "                            \n",
              "var gd = document.getElementById('0d1496d1-bf71-45dd-a647-10ef9ac65d68');\n",
              "var x = new MutationObserver(function (mutations, observer) {{\n",
              "        var display = window.getComputedStyle(gd).display;\n",
              "        if (!display || display === 'none') {{\n",
              "            console.log([gd, 'removed!']);\n",
              "            Plotly.purge(gd);\n",
              "            observer.disconnect();\n",
              "        }}\n",
              "}});\n",
              "\n",
              "// Listen for the removal of the full notebook cells\n",
              "var notebookContainer = gd.closest('#notebook-container');\n",
              "if (notebookContainer) {{\n",
              "    x.observe(notebookContainer, {childList: true});\n",
              "}}\n",
              "\n",
              "// Listen for the clearing of the current output cell\n",
              "var outputEl = gd.closest('.output');\n",
              "if (outputEl) {{\n",
              "    x.observe(outputEl, {childList: true});\n",
              "}}\n",
              "\n",
              "                        })\n",
              "                };\n",
              "                \n",
              "            </script>\n",
              "        </div>\n",
              "</body>\n",
              "</html>"
            ]
          },
          "metadata": {
            "tags": []
          }
        }
      ]
    },
    {
      "cell_type": "markdown",
      "metadata": {
        "id": "_cyLlUS_016X"
      },
      "source": [
        "## Line graph of Real and Predicted price\n",
        "\n",
        "\n",
        "---\n",
        "\n",
        "\n",
        "\n",
        "\n",
        "\n"
      ]
    },
    {
      "cell_type": "code",
      "metadata": {
        "colab": {
          "base_uri": "https://localhost:8080/",
          "height": 542
        },
        "id": "egLJWIRz8k4N",
        "outputId": "a0b970d5-ab89-4460-ac00-b1d50a60d7ef"
      },
      "source": [
        "fig = go.Figure()\n",
        "\n",
        "# Add Traces\n",
        "fig.add_trace(go.Scatter(x=[1,2,3,4,5,6,7,8,9,10,11,12,13,14,15]\n",
        "                         , y=testing_set[:, 0]\n",
        "                         , name='Price real'\n",
        "                         , line = dict(color='purple', width=2, dash='dash')\n",
        "                         , visible=True\n",
        "                        ))\n",
        "\n",
        "fig.add_trace(go.Scatter(x=[1,2,3,4,5,6,7,8,9,10,11,12,13,14,15]\n",
        "                         , y=predicted_price[:, 0]\n",
        "                         , name='Price predicted'\n",
        "                         , line = dict(color='gold', width=2, dash='dash')\n",
        "                         , visible=True\n",
        "                        ))\n",
        "fig.update_traces(marker=dict(size=12,\n",
        "                              line=dict(width=2,\n",
        "                                        color='DarkSlateGrey')),\n",
        "                  selector=dict(mode='markers'))\n",
        "# Set title\n",
        "fig.update_layout(title_text='Bitcoin Price Prediction')\n",
        "\n",
        "# Set x and y-axis titles\n",
        "fig.update_xaxes(title_text='Number of Days')\n",
        "fig.update_yaxes(title_text='Price')\n",
        "\n",
        "fig.show()   "
      ],
      "execution_count": 33,
      "outputs": [
        {
          "output_type": "display_data",
          "data": {
            "text/html": [
              "<html>\n",
              "<head><meta charset=\"utf-8\" /></head>\n",
              "<body>\n",
              "    <div>\n",
              "            <script src=\"https://cdnjs.cloudflare.com/ajax/libs/mathjax/2.7.5/MathJax.js?config=TeX-AMS-MML_SVG\"></script><script type=\"text/javascript\">if (window.MathJax) {MathJax.Hub.Config({SVG: {font: \"STIX-Web\"}});}</script>\n",
              "                <script type=\"text/javascript\">window.PlotlyConfig = {MathJaxConfig: 'local'};</script>\n",
              "        <script src=\"https://cdn.plot.ly/plotly-latest.min.js\"></script>    \n",
              "            <div id=\"1bbc40dc-da00-4918-9bc0-7c163af0ae7d\" class=\"plotly-graph-div\" style=\"height:525px; width:100%;\"></div>\n",
              "            <script type=\"text/javascript\">\n",
              "                \n",
              "                    window.PLOTLYENV=window.PLOTLYENV || {};\n",
              "                    \n",
              "                if (document.getElementById(\"1bbc40dc-da00-4918-9bc0-7c163af0ae7d\")) {\n",
              "                    Plotly.newPlot(\n",
              "                        '1bbc40dc-da00-4918-9bc0-7c163af0ae7d',\n",
              "                        [{\"line\": {\"color\": \"purple\", \"dash\": \"dash\", \"width\": 2}, \"name\": \"Price real\", \"type\": \"scatter\", \"visible\": true, \"x\": [1, 2, 3, 4, 5, 6, 7, 8, 9, 10, 11, 12, 13, 14, 15], \"y\": [0.8868682070796303, 0.8628230280859954, 0.9031497099583774, 0.9042594228281191, 0.9305290226882215, 0.9375156159802569, 0.9357863938388855, 1.0, 0.9910517976362234, 0.9902382730915105, 0.9583986525417909, 0.9432177804837238, 0.8538734066520532]}, {\"line\": {\"color\": \"gold\", \"dash\": \"dash\", \"width\": 2}, \"name\": \"Price predicted\", \"type\": \"scatter\", \"visible\": true, \"x\": [1, 2, 3, 4, 5, 6, 7, 8, 9, 10, 11, 12, 13, 14, 15], \"y\": [0.8697094917297363, 0.8511068820953369, 0.8820551633834839, 0.8828893899917603, 0.9023582935333252, 0.9074469804763794, 0.9061909914016724, 0.9512922763824463, 0.9451969861984253, 0.9446397423744202, 0.9224339723587036, 0.9115725755691528, 0.8440708518028259]}],\n",
              "                        {\"template\": {\"data\": {\"bar\": [{\"error_x\": {\"color\": \"#2a3f5f\"}, \"error_y\": {\"color\": \"#2a3f5f\"}, \"marker\": {\"line\": {\"color\": \"#E5ECF6\", \"width\": 0.5}}, \"type\": \"bar\"}], \"barpolar\": [{\"marker\": {\"line\": {\"color\": \"#E5ECF6\", \"width\": 0.5}}, \"type\": \"barpolar\"}], \"carpet\": [{\"aaxis\": {\"endlinecolor\": \"#2a3f5f\", \"gridcolor\": \"white\", \"linecolor\": \"white\", \"minorgridcolor\": \"white\", \"startlinecolor\": \"#2a3f5f\"}, \"baxis\": {\"endlinecolor\": \"#2a3f5f\", \"gridcolor\": \"white\", \"linecolor\": \"white\", \"minorgridcolor\": \"white\", \"startlinecolor\": \"#2a3f5f\"}, \"type\": \"carpet\"}], \"choropleth\": [{\"colorbar\": {\"outlinewidth\": 0, \"ticks\": \"\"}, \"type\": \"choropleth\"}], \"contour\": [{\"colorbar\": {\"outlinewidth\": 0, \"ticks\": \"\"}, \"colorscale\": [[0.0, \"#0d0887\"], [0.1111111111111111, \"#46039f\"], [0.2222222222222222, \"#7201a8\"], [0.3333333333333333, \"#9c179e\"], [0.4444444444444444, \"#bd3786\"], [0.5555555555555556, \"#d8576b\"], [0.6666666666666666, \"#ed7953\"], [0.7777777777777778, \"#fb9f3a\"], [0.8888888888888888, \"#fdca26\"], [1.0, \"#f0f921\"]], \"type\": \"contour\"}], \"contourcarpet\": [{\"colorbar\": {\"outlinewidth\": 0, \"ticks\": \"\"}, \"type\": \"contourcarpet\"}], \"heatmap\": [{\"colorbar\": {\"outlinewidth\": 0, \"ticks\": \"\"}, \"colorscale\": [[0.0, \"#0d0887\"], [0.1111111111111111, \"#46039f\"], [0.2222222222222222, \"#7201a8\"], [0.3333333333333333, \"#9c179e\"], [0.4444444444444444, \"#bd3786\"], [0.5555555555555556, \"#d8576b\"], [0.6666666666666666, \"#ed7953\"], [0.7777777777777778, \"#fb9f3a\"], [0.8888888888888888, \"#fdca26\"], [1.0, \"#f0f921\"]], \"type\": \"heatmap\"}], \"heatmapgl\": [{\"colorbar\": {\"outlinewidth\": 0, \"ticks\": \"\"}, \"colorscale\": [[0.0, \"#0d0887\"], [0.1111111111111111, \"#46039f\"], [0.2222222222222222, \"#7201a8\"], [0.3333333333333333, \"#9c179e\"], [0.4444444444444444, \"#bd3786\"], [0.5555555555555556, \"#d8576b\"], [0.6666666666666666, \"#ed7953\"], [0.7777777777777778, \"#fb9f3a\"], [0.8888888888888888, \"#fdca26\"], [1.0, \"#f0f921\"]], \"type\": \"heatmapgl\"}], \"histogram\": [{\"marker\": {\"colorbar\": {\"outlinewidth\": 0, \"ticks\": \"\"}}, \"type\": \"histogram\"}], \"histogram2d\": [{\"colorbar\": {\"outlinewidth\": 0, \"ticks\": \"\"}, \"colorscale\": [[0.0, \"#0d0887\"], [0.1111111111111111, \"#46039f\"], [0.2222222222222222, \"#7201a8\"], [0.3333333333333333, \"#9c179e\"], [0.4444444444444444, \"#bd3786\"], [0.5555555555555556, \"#d8576b\"], [0.6666666666666666, \"#ed7953\"], [0.7777777777777778, \"#fb9f3a\"], [0.8888888888888888, \"#fdca26\"], [1.0, \"#f0f921\"]], \"type\": \"histogram2d\"}], \"histogram2dcontour\": [{\"colorbar\": {\"outlinewidth\": 0, \"ticks\": \"\"}, \"colorscale\": [[0.0, \"#0d0887\"], [0.1111111111111111, \"#46039f\"], [0.2222222222222222, \"#7201a8\"], [0.3333333333333333, \"#9c179e\"], [0.4444444444444444, \"#bd3786\"], [0.5555555555555556, \"#d8576b\"], [0.6666666666666666, \"#ed7953\"], [0.7777777777777778, \"#fb9f3a\"], [0.8888888888888888, \"#fdca26\"], [1.0, \"#f0f921\"]], \"type\": \"histogram2dcontour\"}], \"mesh3d\": [{\"colorbar\": {\"outlinewidth\": 0, \"ticks\": \"\"}, \"type\": \"mesh3d\"}], \"parcoords\": [{\"line\": {\"colorbar\": {\"outlinewidth\": 0, \"ticks\": \"\"}}, \"type\": \"parcoords\"}], \"pie\": [{\"automargin\": true, \"type\": \"pie\"}], \"scatter\": [{\"marker\": {\"colorbar\": {\"outlinewidth\": 0, \"ticks\": \"\"}}, \"type\": \"scatter\"}], \"scatter3d\": [{\"line\": {\"colorbar\": {\"outlinewidth\": 0, \"ticks\": \"\"}}, \"marker\": {\"colorbar\": {\"outlinewidth\": 0, \"ticks\": \"\"}}, \"type\": \"scatter3d\"}], \"scattercarpet\": [{\"marker\": {\"colorbar\": {\"outlinewidth\": 0, \"ticks\": \"\"}}, \"type\": \"scattercarpet\"}], \"scattergeo\": [{\"marker\": {\"colorbar\": {\"outlinewidth\": 0, \"ticks\": \"\"}}, \"type\": \"scattergeo\"}], \"scattergl\": [{\"marker\": {\"colorbar\": {\"outlinewidth\": 0, \"ticks\": \"\"}}, \"type\": \"scattergl\"}], \"scattermapbox\": [{\"marker\": {\"colorbar\": {\"outlinewidth\": 0, \"ticks\": \"\"}}, \"type\": \"scattermapbox\"}], \"scatterpolar\": [{\"marker\": {\"colorbar\": {\"outlinewidth\": 0, \"ticks\": \"\"}}, \"type\": \"scatterpolar\"}], \"scatterpolargl\": [{\"marker\": {\"colorbar\": {\"outlinewidth\": 0, \"ticks\": \"\"}}, \"type\": \"scatterpolargl\"}], \"scatterternary\": [{\"marker\": {\"colorbar\": {\"outlinewidth\": 0, \"ticks\": \"\"}}, \"type\": \"scatterternary\"}], \"surface\": [{\"colorbar\": {\"outlinewidth\": 0, \"ticks\": \"\"}, \"colorscale\": [[0.0, \"#0d0887\"], [0.1111111111111111, \"#46039f\"], [0.2222222222222222, \"#7201a8\"], [0.3333333333333333, \"#9c179e\"], [0.4444444444444444, \"#bd3786\"], [0.5555555555555556, \"#d8576b\"], [0.6666666666666666, \"#ed7953\"], [0.7777777777777778, \"#fb9f3a\"], [0.8888888888888888, \"#fdca26\"], [1.0, \"#f0f921\"]], \"type\": \"surface\"}], \"table\": [{\"cells\": {\"fill\": {\"color\": \"#EBF0F8\"}, \"line\": {\"color\": \"white\"}}, \"header\": {\"fill\": {\"color\": \"#C8D4E3\"}, \"line\": {\"color\": \"white\"}}, \"type\": \"table\"}]}, \"layout\": {\"annotationdefaults\": {\"arrowcolor\": \"#2a3f5f\", \"arrowhead\": 0, \"arrowwidth\": 1}, \"coloraxis\": {\"colorbar\": {\"outlinewidth\": 0, \"ticks\": \"\"}}, \"colorscale\": {\"diverging\": [[0, \"#8e0152\"], [0.1, \"#c51b7d\"], [0.2, \"#de77ae\"], [0.3, \"#f1b6da\"], [0.4, \"#fde0ef\"], [0.5, \"#f7f7f7\"], [0.6, \"#e6f5d0\"], [0.7, \"#b8e186\"], [0.8, \"#7fbc41\"], [0.9, \"#4d9221\"], [1, \"#276419\"]], \"sequential\": [[0.0, \"#0d0887\"], [0.1111111111111111, \"#46039f\"], [0.2222222222222222, \"#7201a8\"], [0.3333333333333333, \"#9c179e\"], [0.4444444444444444, \"#bd3786\"], [0.5555555555555556, \"#d8576b\"], [0.6666666666666666, \"#ed7953\"], [0.7777777777777778, \"#fb9f3a\"], [0.8888888888888888, \"#fdca26\"], [1.0, \"#f0f921\"]], \"sequentialminus\": [[0.0, \"#0d0887\"], [0.1111111111111111, \"#46039f\"], [0.2222222222222222, \"#7201a8\"], [0.3333333333333333, \"#9c179e\"], [0.4444444444444444, \"#bd3786\"], [0.5555555555555556, \"#d8576b\"], [0.6666666666666666, \"#ed7953\"], [0.7777777777777778, \"#fb9f3a\"], [0.8888888888888888, \"#fdca26\"], [1.0, \"#f0f921\"]]}, \"colorway\": [\"#636efa\", \"#EF553B\", \"#00cc96\", \"#ab63fa\", \"#FFA15A\", \"#19d3f3\", \"#FF6692\", \"#B6E880\", \"#FF97FF\", \"#FECB52\"], \"font\": {\"color\": \"#2a3f5f\"}, \"geo\": {\"bgcolor\": \"white\", \"lakecolor\": \"white\", \"landcolor\": \"#E5ECF6\", \"showlakes\": true, \"showland\": true, \"subunitcolor\": \"white\"}, \"hoverlabel\": {\"align\": \"left\"}, \"hovermode\": \"closest\", \"mapbox\": {\"style\": \"light\"}, \"paper_bgcolor\": \"white\", \"plot_bgcolor\": \"#E5ECF6\", \"polar\": {\"angularaxis\": {\"gridcolor\": \"white\", \"linecolor\": \"white\", \"ticks\": \"\"}, \"bgcolor\": \"#E5ECF6\", \"radialaxis\": {\"gridcolor\": \"white\", \"linecolor\": \"white\", \"ticks\": \"\"}}, \"scene\": {\"xaxis\": {\"backgroundcolor\": \"#E5ECF6\", \"gridcolor\": \"white\", \"gridwidth\": 2, \"linecolor\": \"white\", \"showbackground\": true, \"ticks\": \"\", \"zerolinecolor\": \"white\"}, \"yaxis\": {\"backgroundcolor\": \"#E5ECF6\", \"gridcolor\": \"white\", \"gridwidth\": 2, \"linecolor\": \"white\", \"showbackground\": true, \"ticks\": \"\", \"zerolinecolor\": \"white\"}, \"zaxis\": {\"backgroundcolor\": \"#E5ECF6\", \"gridcolor\": \"white\", \"gridwidth\": 2, \"linecolor\": \"white\", \"showbackground\": true, \"ticks\": \"\", \"zerolinecolor\": \"white\"}}, \"shapedefaults\": {\"line\": {\"color\": \"#2a3f5f\"}}, \"ternary\": {\"aaxis\": {\"gridcolor\": \"white\", \"linecolor\": \"white\", \"ticks\": \"\"}, \"baxis\": {\"gridcolor\": \"white\", \"linecolor\": \"white\", \"ticks\": \"\"}, \"bgcolor\": \"#E5ECF6\", \"caxis\": {\"gridcolor\": \"white\", \"linecolor\": \"white\", \"ticks\": \"\"}}, \"title\": {\"x\": 0.05}, \"xaxis\": {\"automargin\": true, \"gridcolor\": \"white\", \"linecolor\": \"white\", \"ticks\": \"\", \"title\": {\"standoff\": 15}, \"zerolinecolor\": \"white\", \"zerolinewidth\": 2}, \"yaxis\": {\"automargin\": true, \"gridcolor\": \"white\", \"linecolor\": \"white\", \"ticks\": \"\", \"title\": {\"standoff\": 15}, \"zerolinecolor\": \"white\", \"zerolinewidth\": 2}}}, \"title\": {\"text\": \"Bitcoin Price Prediction\"}, \"xaxis\": {\"title\": {\"text\": \"Number of Days\"}}, \"yaxis\": {\"title\": {\"text\": \"Price\"}}},\n",
              "                        {\"responsive\": true}\n",
              "                    ).then(function(){\n",
              "                            \n",
              "var gd = document.getElementById('1bbc40dc-da00-4918-9bc0-7c163af0ae7d');\n",
              "var x = new MutationObserver(function (mutations, observer) {{\n",
              "        var display = window.getComputedStyle(gd).display;\n",
              "        if (!display || display === 'none') {{\n",
              "            console.log([gd, 'removed!']);\n",
              "            Plotly.purge(gd);\n",
              "            observer.disconnect();\n",
              "        }}\n",
              "}});\n",
              "\n",
              "// Listen for the removal of the full notebook cells\n",
              "var notebookContainer = gd.closest('#notebook-container');\n",
              "if (notebookContainer) {{\n",
              "    x.observe(notebookContainer, {childList: true});\n",
              "}}\n",
              "\n",
              "// Listen for the clearing of the current output cell\n",
              "var outputEl = gd.closest('.output');\n",
              "if (outputEl) {{\n",
              "    x.observe(outputEl, {childList: true});\n",
              "}}\n",
              "\n",
              "                        })\n",
              "                };\n",
              "                \n",
              "            </script>\n",
              "        </div>\n",
              "</body>\n",
              "</html>"
            ]
          },
          "metadata": {
            "tags": []
          }
        }
      ]
    },
    {
      "cell_type": "code",
      "metadata": {
        "id": "ssNxLmtO8uWw"
      },
      "source": [
        ""
      ],
      "execution_count": 33,
      "outputs": []
    }
  ]
}